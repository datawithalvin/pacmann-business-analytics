{
 "cells": [
  {
   "cell_type": "code",
   "execution_count": 118,
   "metadata": {},
   "outputs": [],
   "source": [
    "import numpy as np\n",
    "import pandas as pd\n",
    "import geopandas as gpd\n",
    "import time\n",
    "import locale\n",
    "\n",
    "import plotly.express as px\n",
    "import plotly.graph_objects as go\n",
    "import altair as alt\n",
    "from vega_datasets import data\n",
    "\n",
    "from urllib.request import urlopen\n",
    "import json\n",
    "\n",
    "pd.set_option(\"display.float_format\", lambda x: \"%.2f\" % x)\n",
    "alt.data_transformers.disable_max_rows()\n",
    "pd.set_option('display.max_columns', None)\n"
   ]
  },
  {
   "cell_type": "code",
   "execution_count": 119,
   "metadata": {},
   "outputs": [
    {
     "data": {
      "text/html": [
       "<div>\n",
       "<style scoped>\n",
       "    .dataframe tbody tr th:only-of-type {\n",
       "        vertical-align: middle;\n",
       "    }\n",
       "\n",
       "    .dataframe tbody tr th {\n",
       "        vertical-align: top;\n",
       "    }\n",
       "\n",
       "    .dataframe thead th {\n",
       "        text-align: right;\n",
       "    }\n",
       "</style>\n",
       "<table border=\"1\" class=\"dataframe\">\n",
       "  <thead>\n",
       "    <tr style=\"text-align: right;\">\n",
       "      <th></th>\n",
       "      <th>order_date</th>\n",
       "      <th>order_region</th>\n",
       "      <th>order_country</th>\n",
       "      <th>order_city</th>\n",
       "      <th>market</th>\n",
       "      <th>sales</th>\n",
       "      <th>order_item_quantity</th>\n",
       "      <th>shipping_date</th>\n",
       "      <th>days_for_shipping_real</th>\n",
       "      <th>days_for_shipment_scheduled</th>\n",
       "      <th>category_name</th>\n",
       "      <th>delivery_status</th>\n",
       "      <th>late_delivery_risk</th>\n",
       "      <th>shipping_mode</th>\n",
       "      <th>order_status</th>\n",
       "      <th>order_profit_per_order</th>\n",
       "      <th>sales_per_item</th>\n",
       "      <th>shipping_days_difference</th>\n",
       "      <th>order_year</th>\n",
       "      <th>order_month</th>\n",
       "      <th>order_year_month_date</th>\n",
       "    </tr>\n",
       "  </thead>\n",
       "  <tbody>\n",
       "    <tr>\n",
       "      <th>0</th>\n",
       "      <td>2015-01-01 00:00:00</td>\n",
       "      <td>Central America</td>\n",
       "      <td>Mexico</td>\n",
       "      <td>Mexico City</td>\n",
       "      <td>Latin America</td>\n",
       "      <td>299.98</td>\n",
       "      <td>1</td>\n",
       "      <td>1/3/2015 0:00</td>\n",
       "      <td>2</td>\n",
       "      <td>4</td>\n",
       "      <td>Camping &amp; Hiking</td>\n",
       "      <td>Advance shipping</td>\n",
       "      <td>0</td>\n",
       "      <td>Standard Class</td>\n",
       "      <td>CLOSED</td>\n",
       "      <td>88.79</td>\n",
       "      <td>299.98</td>\n",
       "      <td>2</td>\n",
       "      <td>2015</td>\n",
       "      <td>January</td>\n",
       "      <td>2015-01-01</td>\n",
       "    </tr>\n",
       "    <tr>\n",
       "      <th>1</th>\n",
       "      <td>2015-01-01 00:21:00</td>\n",
       "      <td>South America</td>\n",
       "      <td>Colombia</td>\n",
       "      <td>Dos Quebradas</td>\n",
       "      <td>Latin America</td>\n",
       "      <td>199.99</td>\n",
       "      <td>1</td>\n",
       "      <td>1/4/2015 0:21</td>\n",
       "      <td>3</td>\n",
       "      <td>4</td>\n",
       "      <td>Water Sports</td>\n",
       "      <td>Advance shipping</td>\n",
       "      <td>0</td>\n",
       "      <td>Standard Class</td>\n",
       "      <td>PENDING_PAYMENT</td>\n",
       "      <td>91.18</td>\n",
       "      <td>199.99</td>\n",
       "      <td>1</td>\n",
       "      <td>2015</td>\n",
       "      <td>January</td>\n",
       "      <td>2015-01-01</td>\n",
       "    </tr>\n",
       "    <tr>\n",
       "      <th>2</th>\n",
       "      <td>2015-01-01 00:21:00</td>\n",
       "      <td>South America</td>\n",
       "      <td>Colombia</td>\n",
       "      <td>Dos Quebradas</td>\n",
       "      <td>Latin America</td>\n",
       "      <td>250.00</td>\n",
       "      <td>5</td>\n",
       "      <td>1/4/2015 0:21</td>\n",
       "      <td>3</td>\n",
       "      <td>4</td>\n",
       "      <td>Women's Apparel</td>\n",
       "      <td>Advance shipping</td>\n",
       "      <td>0</td>\n",
       "      <td>Standard Class</td>\n",
       "      <td>PENDING_PAYMENT</td>\n",
       "      <td>68.25</td>\n",
       "      <td>50.00</td>\n",
       "      <td>1</td>\n",
       "      <td>2015</td>\n",
       "      <td>January</td>\n",
       "      <td>2015-01-01</td>\n",
       "    </tr>\n",
       "    <tr>\n",
       "      <th>3</th>\n",
       "      <td>2015-01-01 00:21:00</td>\n",
       "      <td>South America</td>\n",
       "      <td>Colombia</td>\n",
       "      <td>Dos Quebradas</td>\n",
       "      <td>Latin America</td>\n",
       "      <td>129.99</td>\n",
       "      <td>1</td>\n",
       "      <td>1/4/2015 0:21</td>\n",
       "      <td>3</td>\n",
       "      <td>4</td>\n",
       "      <td>Men's Footwear</td>\n",
       "      <td>Advance shipping</td>\n",
       "      <td>0</td>\n",
       "      <td>Standard Class</td>\n",
       "      <td>PENDING_PAYMENT</td>\n",
       "      <td>36.47</td>\n",
       "      <td>129.99</td>\n",
       "      <td>1</td>\n",
       "      <td>2015</td>\n",
       "      <td>January</td>\n",
       "      <td>2015-01-01</td>\n",
       "    </tr>\n",
       "    <tr>\n",
       "      <th>4</th>\n",
       "      <td>2015-01-01 01:03:00</td>\n",
       "      <td>South America</td>\n",
       "      <td>Colombia</td>\n",
       "      <td>Dos Quebradas</td>\n",
       "      <td>Latin America</td>\n",
       "      <td>199.92</td>\n",
       "      <td>4</td>\n",
       "      <td>1/6/2015 1:03</td>\n",
       "      <td>5</td>\n",
       "      <td>4</td>\n",
       "      <td>Indoor/Outdoor Games</td>\n",
       "      <td>Late delivery</td>\n",
       "      <td>1</td>\n",
       "      <td>Standard Class</td>\n",
       "      <td>CLOSED</td>\n",
       "      <td>33.59</td>\n",
       "      <td>49.98</td>\n",
       "      <td>-1</td>\n",
       "      <td>2015</td>\n",
       "      <td>January</td>\n",
       "      <td>2015-01-01</td>\n",
       "    </tr>\n",
       "  </tbody>\n",
       "</table>\n",
       "</div>"
      ],
      "text/plain": [
       "            order_date     order_region order_country     order_city  \\\n",
       "0  2015-01-01 00:00:00  Central America        Mexico    Mexico City   \n",
       "1  2015-01-01 00:21:00    South America      Colombia  Dos Quebradas   \n",
       "2  2015-01-01 00:21:00    South America      Colombia  Dos Quebradas   \n",
       "3  2015-01-01 00:21:00    South America      Colombia  Dos Quebradas   \n",
       "4  2015-01-01 01:03:00    South America      Colombia  Dos Quebradas   \n",
       "\n",
       "          market  sales  order_item_quantity  shipping_date  \\\n",
       "0  Latin America 299.98                    1  1/3/2015 0:00   \n",
       "1  Latin America 199.99                    1  1/4/2015 0:21   \n",
       "2  Latin America 250.00                    5  1/4/2015 0:21   \n",
       "3  Latin America 129.99                    1  1/4/2015 0:21   \n",
       "4  Latin America 199.92                    4  1/6/2015 1:03   \n",
       "\n",
       "   days_for_shipping_real  days_for_shipment_scheduled         category_name  \\\n",
       "0                       2                            4      Camping & Hiking   \n",
       "1                       3                            4          Water Sports   \n",
       "2                       3                            4       Women's Apparel   \n",
       "3                       3                            4        Men's Footwear   \n",
       "4                       5                            4  Indoor/Outdoor Games   \n",
       "\n",
       "    delivery_status  late_delivery_risk   shipping_mode     order_status  \\\n",
       "0  Advance shipping                   0  Standard Class           CLOSED   \n",
       "1  Advance shipping                   0  Standard Class  PENDING_PAYMENT   \n",
       "2  Advance shipping                   0  Standard Class  PENDING_PAYMENT   \n",
       "3  Advance shipping                   0  Standard Class  PENDING_PAYMENT   \n",
       "4     Late delivery                   1  Standard Class           CLOSED   \n",
       "\n",
       "   order_profit_per_order  sales_per_item  shipping_days_difference  \\\n",
       "0                   88.79          299.98                         2   \n",
       "1                   91.18          199.99                         1   \n",
       "2                   68.25           50.00                         1   \n",
       "3                   36.47          129.99                         1   \n",
       "4                   33.59           49.98                        -1   \n",
       "\n",
       "   order_year order_month order_year_month_date  \n",
       "0        2015     January            2015-01-01  \n",
       "1        2015     January            2015-01-01  \n",
       "2        2015     January            2015-01-01  \n",
       "3        2015     January            2015-01-01  \n",
       "4        2015     January            2015-01-01  "
      ]
     },
     "execution_count": 119,
     "metadata": {},
     "output_type": "execute_result"
    }
   ],
   "source": [
    "# Set location of the dataset\n",
    "filepath = \"../datasets/preprocessed_data_filtered_status.csv\"\n",
    "\n",
    "# Load datasets\n",
    "main_df = pd.read_csv(filepath)\n",
    "\n",
    "main_df.head()"
   ]
  },
  {
   "cell_type": "code",
   "execution_count": 126,
   "metadata": {},
   "outputs": [
    {
     "data": {
      "text/html": [
       "<div>\n",
       "<style scoped>\n",
       "    .dataframe tbody tr th:only-of-type {\n",
       "        vertical-align: middle;\n",
       "    }\n",
       "\n",
       "    .dataframe tbody tr th {\n",
       "        vertical-align: top;\n",
       "    }\n",
       "\n",
       "    .dataframe thead th {\n",
       "        text-align: right;\n",
       "    }\n",
       "</style>\n",
       "<table border=\"1\" class=\"dataframe\">\n",
       "  <thead>\n",
       "    <tr style=\"text-align: right;\">\n",
       "      <th></th>\n",
       "      <th>market</th>\n",
       "      <th>order_year</th>\n",
       "      <th>order_region</th>\n",
       "      <th>order_item_quantity</th>\n",
       "    </tr>\n",
       "  </thead>\n",
       "  <tbody>\n",
       "    <tr>\n",
       "      <th>0</th>\n",
       "      <td>Africa</td>\n",
       "      <td>2017</td>\n",
       "      <td>Eastern Africa</td>\n",
       "      <td>25.82</td>\n",
       "    </tr>\n",
       "    <tr>\n",
       "      <th>1</th>\n",
       "      <td>Africa</td>\n",
       "      <td>2017</td>\n",
       "      <td>Middle Africa</td>\n",
       "      <td>22.27</td>\n",
       "    </tr>\n",
       "    <tr>\n",
       "      <th>2</th>\n",
       "      <td>Africa</td>\n",
       "      <td>2017</td>\n",
       "      <td>Northern Africa</td>\n",
       "      <td>39.67</td>\n",
       "    </tr>\n",
       "    <tr>\n",
       "      <th>3</th>\n",
       "      <td>Africa</td>\n",
       "      <td>2017</td>\n",
       "      <td>Southern Africa</td>\n",
       "      <td>15.19</td>\n",
       "    </tr>\n",
       "    <tr>\n",
       "      <th>4</th>\n",
       "      <td>Africa</td>\n",
       "      <td>2017</td>\n",
       "      <td>Western Africa</td>\n",
       "      <td>53.89</td>\n",
       "    </tr>\n",
       "    <tr>\n",
       "      <th>5</th>\n",
       "      <td>Europe</td>\n",
       "      <td>2017</td>\n",
       "      <td>Asiatic Russia/European Russia</td>\n",
       "      <td>22.89</td>\n",
       "    </tr>\n",
       "    <tr>\n",
       "      <th>6</th>\n",
       "      <td>Europe</td>\n",
       "      <td>2017</td>\n",
       "      <td>Eastern Europe</td>\n",
       "      <td>32.72</td>\n",
       "    </tr>\n",
       "    <tr>\n",
       "      <th>7</th>\n",
       "      <td>Europe</td>\n",
       "      <td>2017</td>\n",
       "      <td>Northern Europe</td>\n",
       "      <td>25.91</td>\n",
       "    </tr>\n",
       "    <tr>\n",
       "      <th>8</th>\n",
       "      <td>Europe</td>\n",
       "      <td>2017</td>\n",
       "      <td>Southern Europe</td>\n",
       "      <td>24.59</td>\n",
       "    </tr>\n",
       "    <tr>\n",
       "      <th>9</th>\n",
       "      <td>Europe</td>\n",
       "      <td>2017</td>\n",
       "      <td>Western Europe</td>\n",
       "      <td>72.42</td>\n",
       "    </tr>\n",
       "    <tr>\n",
       "      <th>10</th>\n",
       "      <td>Latin America</td>\n",
       "      <td>2017</td>\n",
       "      <td>Caribbean</td>\n",
       "      <td>51.50</td>\n",
       "    </tr>\n",
       "    <tr>\n",
       "      <th>11</th>\n",
       "      <td>Latin America</td>\n",
       "      <td>2017</td>\n",
       "      <td>Central America</td>\n",
       "      <td>182.54</td>\n",
       "    </tr>\n",
       "    <tr>\n",
       "      <th>12</th>\n",
       "      <td>Latin America</td>\n",
       "      <td>2017</td>\n",
       "      <td>South America</td>\n",
       "      <td>88.93</td>\n",
       "    </tr>\n",
       "    <tr>\n",
       "      <th>13</th>\n",
       "      <td>Pacific Asia</td>\n",
       "      <td>2017</td>\n",
       "      <td>Australia/New Zealand</td>\n",
       "      <td>2.30</td>\n",
       "    </tr>\n",
       "    <tr>\n",
       "      <th>14</th>\n",
       "      <td>Pacific Asia</td>\n",
       "      <td>2017</td>\n",
       "      <td>Central Asia</td>\n",
       "      <td>9.35</td>\n",
       "    </tr>\n",
       "    <tr>\n",
       "      <th>15</th>\n",
       "      <td>Pacific Asia</td>\n",
       "      <td>2017</td>\n",
       "      <td>Eastern Asia</td>\n",
       "      <td>2.34</td>\n",
       "    </tr>\n",
       "    <tr>\n",
       "      <th>16</th>\n",
       "      <td>Pacific Asia</td>\n",
       "      <td>2017</td>\n",
       "      <td>Melanesia</td>\n",
       "      <td>0.01</td>\n",
       "    </tr>\n",
       "    <tr>\n",
       "      <th>17</th>\n",
       "      <td>Pacific Asia</td>\n",
       "      <td>2017</td>\n",
       "      <td>Southeastern Asia</td>\n",
       "      <td>2.86</td>\n",
       "    </tr>\n",
       "    <tr>\n",
       "      <th>18</th>\n",
       "      <td>Pacific Asia</td>\n",
       "      <td>2017</td>\n",
       "      <td>Southern Asia</td>\n",
       "      <td>2.66</td>\n",
       "    </tr>\n",
       "    <tr>\n",
       "      <th>19</th>\n",
       "      <td>Pacific Asia</td>\n",
       "      <td>2017</td>\n",
       "      <td>Western Asia</td>\n",
       "      <td>95.17</td>\n",
       "    </tr>\n",
       "    <tr>\n",
       "      <th>20</th>\n",
       "      <td>USCA</td>\n",
       "      <td>2017</td>\n",
       "      <td>Northern America</td>\n",
       "      <td>14.88</td>\n",
       "    </tr>\n",
       "  </tbody>\n",
       "</table>\n",
       "</div>"
      ],
      "text/plain": [
       "           market  order_year                    order_region  \\\n",
       "0          Africa        2017                  Eastern Africa   \n",
       "1          Africa        2017                   Middle Africa   \n",
       "2          Africa        2017                 Northern Africa   \n",
       "3          Africa        2017                 Southern Africa   \n",
       "4          Africa        2017                  Western Africa   \n",
       "5          Europe        2017  Asiatic Russia/European Russia   \n",
       "6          Europe        2017                  Eastern Europe   \n",
       "7          Europe        2017                 Northern Europe   \n",
       "8          Europe        2017                 Southern Europe   \n",
       "9          Europe        2017                  Western Europe   \n",
       "10  Latin America        2017                       Caribbean   \n",
       "11  Latin America        2017                 Central America   \n",
       "12  Latin America        2017                   South America   \n",
       "13   Pacific Asia        2017           Australia/New Zealand   \n",
       "14   Pacific Asia        2017                    Central Asia   \n",
       "15   Pacific Asia        2017                    Eastern Asia   \n",
       "16   Pacific Asia        2017                       Melanesia   \n",
       "17   Pacific Asia        2017               Southeastern Asia   \n",
       "18   Pacific Asia        2017                   Southern Asia   \n",
       "19   Pacific Asia        2017                    Western Asia   \n",
       "20           USCA        2017                Northern America   \n",
       "\n",
       "    order_item_quantity  \n",
       "0                 25.82  \n",
       "1                 22.27  \n",
       "2                 39.67  \n",
       "3                 15.19  \n",
       "4                 53.89  \n",
       "5                 22.89  \n",
       "6                 32.72  \n",
       "7                 25.91  \n",
       "8                 24.59  \n",
       "9                 72.42  \n",
       "10                51.50  \n",
       "11               182.54  \n",
       "12                88.93  \n",
       "13                 2.30  \n",
       "14                 9.35  \n",
       "15                 2.34  \n",
       "16                 0.01  \n",
       "17                 2.86  \n",
       "18                 2.66  \n",
       "19                95.17  \n",
       "20                14.88  "
      ]
     },
     "execution_count": 126,
     "metadata": {},
     "output_type": "execute_result"
    }
   ],
   "source": [
    "# Convert 'order_date' to datetime and set it as the index\n",
    "main_df2 = main_df.copy()\n",
    "main_df2['order_date'] = pd.to_datetime(main_df2['order_date'])\n",
    "main_df2.set_index('order_date', inplace=True)\n",
    "\n",
    "# Resample the DataFrame for every day and sum the item quantity for each region\n",
    "daily_orders = main_df2.groupby(['market','order_region']).resample('D')['order_item_quantity'].sum().reset_index()\n",
    "\n",
    "# Calculate the average daily order for each region by year\n",
    "avg_daily_orders = daily_orders.groupby(['market', daily_orders['order_date'].dt.year, 'order_region'])['order_item_quantity'].mean().reset_index()\n",
    "avg_daily_orders.rename(columns={'order_date': 'order_year'}, inplace=True)\n",
    "\n",
    "# Filter the years (2015 to 2017)\n",
    "avg_daily_orders = avg_daily_orders[(avg_daily_orders['order_year'] >= 2015) & (avg_daily_orders['order_year'] <= 2017)]\n",
    "\n",
    "# Separate the dataframes for each year\n",
    "avg_df_2015 = avg_daily_orders[avg_daily_orders['order_year'] == 2015].reset_index(drop=True)\n",
    "avg_df_2016 = avg_daily_orders[avg_daily_orders['order_year'] == 2016].reset_index(drop=True)\n",
    "avg_df_2017 = avg_daily_orders[avg_daily_orders['order_year'] == 2017].reset_index(drop=True)\n",
    "\n",
    "avg_df_2015.to_csv(f\"../datasets/daily_avg_order_2015.csv\", index=False)\n",
    "avg_df_2016.to_csv(f\"../datasets/daily_avg_order_2016.csv\", index=False)\n",
    "avg_df_2017.to_csv(f\"../datasets/daily_avg_order_2017.csv\", index=False)\n",
    "\n",
    "avg_df_2017"
   ]
  },
  {
   "cell_type": "code",
   "execution_count": 38,
   "metadata": {},
   "outputs": [
    {
     "data": {
      "text/plain": [
       "array(['LATAM', 'Europe', 'Pacific Asia', 'USCA', 'Africa'], dtype=object)"
      ]
     },
     "execution_count": 38,
     "metadata": {},
     "output_type": "execute_result"
    }
   ],
   "source": [
    "main_df[\"market\"].unique()"
   ]
  },
  {
   "cell_type": "code",
   "execution_count": 39,
   "metadata": {},
   "outputs": [
    {
     "data": {
      "text/html": [
       "<div>\n",
       "<style scoped>\n",
       "    .dataframe tbody tr th:only-of-type {\n",
       "        vertical-align: middle;\n",
       "    }\n",
       "\n",
       "    .dataframe tbody tr th {\n",
       "        vertical-align: top;\n",
       "    }\n",
       "\n",
       "    .dataframe thead th {\n",
       "        text-align: right;\n",
       "    }\n",
       "</style>\n",
       "<table border=\"1\" class=\"dataframe\">\n",
       "  <thead>\n",
       "    <tr style=\"text-align: right;\">\n",
       "      <th></th>\n",
       "      <th>market</th>\n",
       "      <th>order_region</th>\n",
       "      <th>total_order</th>\n",
       "    </tr>\n",
       "  </thead>\n",
       "  <tbody>\n",
       "    <tr>\n",
       "      <th>0</th>\n",
       "      <td>Africa</td>\n",
       "      <td>Eastern Africa</td>\n",
       "      <td>439</td>\n",
       "    </tr>\n",
       "    <tr>\n",
       "      <th>1</th>\n",
       "      <td>Africa</td>\n",
       "      <td>Middle Africa</td>\n",
       "      <td>334</td>\n",
       "    </tr>\n",
       "    <tr>\n",
       "      <th>2</th>\n",
       "      <td>Africa</td>\n",
       "      <td>Northern Africa</td>\n",
       "      <td>714</td>\n",
       "    </tr>\n",
       "    <tr>\n",
       "      <th>3</th>\n",
       "      <td>Africa</td>\n",
       "      <td>Southern Africa</td>\n",
       "      <td>243</td>\n",
       "    </tr>\n",
       "    <tr>\n",
       "      <th>4</th>\n",
       "      <td>Africa</td>\n",
       "      <td>Western Africa</td>\n",
       "      <td>970</td>\n",
       "    </tr>\n",
       "    <tr>\n",
       "      <th>5</th>\n",
       "      <td>Europe</td>\n",
       "      <td>Asiatic Russia/European Russia</td>\n",
       "      <td>412</td>\n",
       "    </tr>\n",
       "    <tr>\n",
       "      <th>6</th>\n",
       "      <td>Europe</td>\n",
       "      <td>Eastern Europe</td>\n",
       "      <td>589</td>\n",
       "    </tr>\n",
       "    <tr>\n",
       "      <th>7</th>\n",
       "      <td>Europe</td>\n",
       "      <td>Northern Europe</td>\n",
       "      <td>8135</td>\n",
       "    </tr>\n",
       "    <tr>\n",
       "      <th>8</th>\n",
       "      <td>Europe</td>\n",
       "      <td>Southern Europe</td>\n",
       "      <td>7720</td>\n",
       "    </tr>\n",
       "    <tr>\n",
       "      <th>9</th>\n",
       "      <td>Europe</td>\n",
       "      <td>Western Europe</td>\n",
       "      <td>22741</td>\n",
       "    </tr>\n",
       "    <tr>\n",
       "      <th>10</th>\n",
       "      <td>LATAM</td>\n",
       "      <td>Caribbean</td>\n",
       "      <td>8395</td>\n",
       "    </tr>\n",
       "    <tr>\n",
       "      <th>11</th>\n",
       "      <td>LATAM</td>\n",
       "      <td>Central America</td>\n",
       "      <td>29936</td>\n",
       "    </tr>\n",
       "    <tr>\n",
       "      <th>12</th>\n",
       "      <td>LATAM</td>\n",
       "      <td>South America</td>\n",
       "      <td>14941</td>\n",
       "    </tr>\n",
       "    <tr>\n",
       "      <th>13</th>\n",
       "      <td>Pacific Asia</td>\n",
       "      <td>Australia/New Zealand</td>\n",
       "      <td>841</td>\n",
       "    </tr>\n",
       "    <tr>\n",
       "      <th>14</th>\n",
       "      <td>Pacific Asia</td>\n",
       "      <td>Central Asia</td>\n",
       "      <td>159</td>\n",
       "    </tr>\n",
       "    <tr>\n",
       "      <th>15</th>\n",
       "      <td>Pacific Asia</td>\n",
       "      <td>Eastern Asia</td>\n",
       "      <td>855</td>\n",
       "    </tr>\n",
       "    <tr>\n",
       "      <th>16</th>\n",
       "      <td>Pacific Asia</td>\n",
       "      <td>Melanesia</td>\n",
       "      <td>2</td>\n",
       "    </tr>\n",
       "    <tr>\n",
       "      <th>17</th>\n",
       "      <td>Pacific Asia</td>\n",
       "      <td>Southeastern Asia</td>\n",
       "      <td>1045</td>\n",
       "    </tr>\n",
       "    <tr>\n",
       "      <th>18</th>\n",
       "      <td>Pacific Asia</td>\n",
       "      <td>Southern Asia</td>\n",
       "      <td>970</td>\n",
       "    </tr>\n",
       "    <tr>\n",
       "      <th>19</th>\n",
       "      <td>Pacific Asia</td>\n",
       "      <td>Western Asia</td>\n",
       "      <td>1713</td>\n",
       "    </tr>\n",
       "    <tr>\n",
       "      <th>20</th>\n",
       "      <td>USCA</td>\n",
       "      <td>Northern America</td>\n",
       "      <td>238</td>\n",
       "    </tr>\n",
       "  </tbody>\n",
       "</table>\n",
       "</div>"
      ],
      "text/plain": [
       "          market                    order_region  total_order\n",
       "0         Africa                  Eastern Africa          439\n",
       "1         Africa                   Middle Africa          334\n",
       "2         Africa                 Northern Africa          714\n",
       "3         Africa                 Southern Africa          243\n",
       "4         Africa                  Western Africa          970\n",
       "5         Europe  Asiatic Russia/European Russia          412\n",
       "6         Europe                  Eastern Europe          589\n",
       "7         Europe                 Northern Europe         8135\n",
       "8         Europe                 Southern Europe         7720\n",
       "9         Europe                  Western Europe        22741\n",
       "10         LATAM                       Caribbean         8395\n",
       "11         LATAM                 Central America        29936\n",
       "12         LATAM                   South America        14941\n",
       "13  Pacific Asia           Australia/New Zealand          841\n",
       "14  Pacific Asia                    Central Asia          159\n",
       "15  Pacific Asia                    Eastern Asia          855\n",
       "16  Pacific Asia                       Melanesia            2\n",
       "17  Pacific Asia               Southeastern Asia         1045\n",
       "18  Pacific Asia                   Southern Asia          970\n",
       "19  Pacific Asia                    Western Asia         1713\n",
       "20          USCA                Northern America          238"
      ]
     },
     "execution_count": 39,
     "metadata": {},
     "output_type": "execute_result"
    }
   ],
   "source": [
    "order_group_2017 = main_df[main_df[\"order_year\"]==2017].groupby([\"market\", \"order_region\"]).agg(\n",
    "    total_order = (\"order_item_quantity\", \"sum\")\n",
    ").reset_index()\n",
    "\n",
    "order_group_2017"
   ]
  },
  {
   "cell_type": "code",
   "execution_count": 40,
   "metadata": {},
   "outputs": [
    {
     "name": "stdout",
     "output_type": "stream",
     "text": [
      "           order_date                    order_region order_country  \\\n",
      "0 2017-01-01 00:33:00  Asiatic Russia/European Russia        Russia   \n",
      "1 2017-01-01 00:33:00  Asiatic Russia/European Russia        Russia   \n",
      "2 2017-01-01 00:33:00  Asiatic Russia/European Russia        Russia   \n",
      "\n",
      "    order_city  market  sales  order_item_quantity  shipping_date  \\\n",
      "0  Cheliábinsk  Europe  99.96                    2  1/6/2017 0:33   \n",
      "1  Cheliábinsk  Europe  39.99                    1  1/6/2017 0:33   \n",
      "2  Cheliábinsk  Europe 239.96                    4  1/6/2017 0:33   \n",
      "\n",
      "   days_for_shipping_real  days_for_shipment_scheduled         category_name  \\\n",
      "0                       5                            2  Indoor/Outdoor Games   \n",
      "1                       5                            2         Shop By Sport   \n",
      "2                       5                            2                Cleats   \n",
      "\n",
      "  delivery_status  late_delivery_risk shipping_mode order_status  \\\n",
      "0   Late delivery                   1  Second Class     COMPLETE   \n",
      "1   Late delivery                   1  Second Class     COMPLETE   \n",
      "2   Late delivery                   1  Second Class     COMPLETE   \n",
      "\n",
      "   order_profit_per_order  sales_per_item  shipping_days_difference  \\\n",
      "0                  -58.78           49.98                        -3   \n",
      "1                   15.98           39.99                        -3   \n",
      "2                  105.82           59.99                        -3   \n",
      "\n",
      "   order_year order_month order_year_month_date  \n",
      "0        2017     January            2017-01-01  \n",
      "1        2017     January            2017-01-01  \n",
      "2        2017     January            2017-01-01  \n"
     ]
    }
   ],
   "source": [
    "df_2017 = main_df[main_df[\"order_year\"]==2017].reset_index(drop=True)\n",
    "print(df_2017.head(3))"
   ]
  },
  {
   "cell_type": "code",
   "execution_count": 41,
   "metadata": {},
   "outputs": [
    {
     "data": {
      "text/plain": [
       "['#3366CC',\n",
       " '#DC3912',\n",
       " '#FF9900',\n",
       " '#109618',\n",
       " '#990099',\n",
       " '#0099C6',\n",
       " '#DD4477',\n",
       " '#66AA00',\n",
       " '#B82E2E',\n",
       " '#316395']"
      ]
     },
     "execution_count": 41,
     "metadata": {},
     "output_type": "execute_result"
    }
   ],
   "source": [
    "px.colors.qualitative.G10"
   ]
  },
  {
   "cell_type": "code",
   "execution_count": 42,
   "metadata": {},
   "outputs": [],
   "source": [
    "def create_bar_region(dataframe):\n",
    "    grouped = dataframe.groupby([\"market\", \"order_region\"]).agg(\n",
    "        total_sales = (\"sales\", \"sum\")\n",
    "    ).reset_index()\n",
    "\n",
    "    grouped = grouped.sort_values(by=\"total_sales\", ascending=False).reset_index()\n",
    "    grouped[\"total_sales\"] = round(grouped[\"total_sales\"], 2)\n",
    "    grouped = grouped.head(5)\n",
    "\n",
    "    # format values in millions\n",
    "    grouped['total_sales_formatted'] = (grouped['total_sales'] / 1000000).round(2).astype(str) + 'M'\n",
    "\n",
    "    # assign unique colors to each market\n",
    "    color_map = {'LATAM': '#3366CC', 'Europe': '#DC3912', 'Pacific Asia': '#FF9900', 'USCA': '#109618', 'Africa': '#990099'}\n",
    "\n",
    "    fig = px.bar(grouped, x=\"total_sales\", y=\"order_region\", orientation=\"h\", text=\"total_sales_formatted\", color=\"market\",\n",
    "                    labels={\"order_region\":\"\", \"total_sales\":\"Total Sales\"}, template=\"plotly_dark\",\n",
    "                     color_discrete_map=color_map)\n",
    "\n",
    "    fig.update_layout(yaxis={'categoryorder':'total ascending'})\n",
    "\n",
    "    fig.update_layout(autosize=True,width=400,height=300)\n",
    "    fig.update_layout(title=\"<b>Top 5 High-Performing Regions by Total Sales</b>\",title_font_size=13)\n",
    "    fig.update_layout({'plot_bgcolor': 'rgba(0, 0, 0, 0)','paper_bgcolor': 'rgba(0, 0, 0, 0)',})\n",
    "    fig.update_xaxes(title_font=dict(size=12))\n",
    "    fig.update_layout(xaxis_showgrid=False, yaxis_showgrid=False)\n",
    "    fig.update_layout(legend_title_text='Market')\n",
    "    \n",
    "\n",
    "    return fig"
   ]
  },
  {
   "cell_type": "code",
   "execution_count": 43,
   "metadata": {},
   "outputs": [
    {
     "data": {
      "application/vnd.plotly.v1+json": {
       "config": {
        "plotlyServerURL": "https://plot.ly"
       },
       "data": [
        {
         "alignmentgroup": "True",
         "hovertemplate": "market=Europe<br>Total Sales=%{x}<br>=%{y}<br>total_sales_formatted=%{text}<extra></extra>",
         "legendgroup": "Europe",
         "marker": {
          "color": "#DC3912",
          "pattern": {
           "shape": ""
          }
         },
         "name": "Europe",
         "offsetgroup": "Europe",
         "orientation": "h",
         "showlegend": true,
         "text": [
          "2.85M",
          "1.04M",
          "0.98M"
         ],
         "textposition": "auto",
         "type": "bar",
         "x": [
          2847340.92,
          1042261.49,
          979686.24
         ],
         "xaxis": "x",
         "y": [
          "Western Europe",
          "Northern Europe",
          "Southern Europe"
         ],
         "yaxis": "y"
        },
        {
         "alignmentgroup": "True",
         "hovertemplate": "market=LATAM<br>Total Sales=%{x}<br>=%{y}<br>total_sales_formatted=%{text}<extra></extra>",
         "legendgroup": "LATAM",
         "marker": {
          "color": "#3366CC",
          "pattern": {
           "shape": ""
          }
         },
         "name": "LATAM",
         "offsetgroup": "LATAM",
         "orientation": "h",
         "showlegend": true,
         "text": [
          "2.79M",
          "1.4M"
         ],
         "textposition": "auto",
         "type": "bar",
         "x": [
          2794204.96,
          1402751.44
         ],
         "xaxis": "x",
         "y": [
          "Central America",
          "South America"
         ],
         "yaxis": "y"
        }
       ],
       "layout": {
        "autosize": true,
        "barmode": "relative",
        "height": 300,
        "legend": {
         "title": {
          "text": "Market"
         },
         "tracegroupgap": 0
        },
        "margin": {
         "t": 60
        },
        "paper_bgcolor": "rgba(0, 0, 0, 0)",
        "plot_bgcolor": "rgba(0, 0, 0, 0)",
        "template": {
         "data": {
          "bar": [
           {
            "error_x": {
             "color": "#f2f5fa"
            },
            "error_y": {
             "color": "#f2f5fa"
            },
            "marker": {
             "line": {
              "color": "rgb(17,17,17)",
              "width": 0.5
             },
             "pattern": {
              "fillmode": "overlay",
              "size": 10,
              "solidity": 0.2
             }
            },
            "type": "bar"
           }
          ],
          "barpolar": [
           {
            "marker": {
             "line": {
              "color": "rgb(17,17,17)",
              "width": 0.5
             },
             "pattern": {
              "fillmode": "overlay",
              "size": 10,
              "solidity": 0.2
             }
            },
            "type": "barpolar"
           }
          ],
          "carpet": [
           {
            "aaxis": {
             "endlinecolor": "#A2B1C6",
             "gridcolor": "#506784",
             "linecolor": "#506784",
             "minorgridcolor": "#506784",
             "startlinecolor": "#A2B1C6"
            },
            "baxis": {
             "endlinecolor": "#A2B1C6",
             "gridcolor": "#506784",
             "linecolor": "#506784",
             "minorgridcolor": "#506784",
             "startlinecolor": "#A2B1C6"
            },
            "type": "carpet"
           }
          ],
          "choropleth": [
           {
            "colorbar": {
             "outlinewidth": 0,
             "ticks": ""
            },
            "type": "choropleth"
           }
          ],
          "contour": [
           {
            "colorbar": {
             "outlinewidth": 0,
             "ticks": ""
            },
            "colorscale": [
             [
              0,
              "#0d0887"
             ],
             [
              0.1111111111111111,
              "#46039f"
             ],
             [
              0.2222222222222222,
              "#7201a8"
             ],
             [
              0.3333333333333333,
              "#9c179e"
             ],
             [
              0.4444444444444444,
              "#bd3786"
             ],
             [
              0.5555555555555556,
              "#d8576b"
             ],
             [
              0.6666666666666666,
              "#ed7953"
             ],
             [
              0.7777777777777778,
              "#fb9f3a"
             ],
             [
              0.8888888888888888,
              "#fdca26"
             ],
             [
              1,
              "#f0f921"
             ]
            ],
            "type": "contour"
           }
          ],
          "contourcarpet": [
           {
            "colorbar": {
             "outlinewidth": 0,
             "ticks": ""
            },
            "type": "contourcarpet"
           }
          ],
          "heatmap": [
           {
            "colorbar": {
             "outlinewidth": 0,
             "ticks": ""
            },
            "colorscale": [
             [
              0,
              "#0d0887"
             ],
             [
              0.1111111111111111,
              "#46039f"
             ],
             [
              0.2222222222222222,
              "#7201a8"
             ],
             [
              0.3333333333333333,
              "#9c179e"
             ],
             [
              0.4444444444444444,
              "#bd3786"
             ],
             [
              0.5555555555555556,
              "#d8576b"
             ],
             [
              0.6666666666666666,
              "#ed7953"
             ],
             [
              0.7777777777777778,
              "#fb9f3a"
             ],
             [
              0.8888888888888888,
              "#fdca26"
             ],
             [
              1,
              "#f0f921"
             ]
            ],
            "type": "heatmap"
           }
          ],
          "heatmapgl": [
           {
            "colorbar": {
             "outlinewidth": 0,
             "ticks": ""
            },
            "colorscale": [
             [
              0,
              "#0d0887"
             ],
             [
              0.1111111111111111,
              "#46039f"
             ],
             [
              0.2222222222222222,
              "#7201a8"
             ],
             [
              0.3333333333333333,
              "#9c179e"
             ],
             [
              0.4444444444444444,
              "#bd3786"
             ],
             [
              0.5555555555555556,
              "#d8576b"
             ],
             [
              0.6666666666666666,
              "#ed7953"
             ],
             [
              0.7777777777777778,
              "#fb9f3a"
             ],
             [
              0.8888888888888888,
              "#fdca26"
             ],
             [
              1,
              "#f0f921"
             ]
            ],
            "type": "heatmapgl"
           }
          ],
          "histogram": [
           {
            "marker": {
             "pattern": {
              "fillmode": "overlay",
              "size": 10,
              "solidity": 0.2
             }
            },
            "type": "histogram"
           }
          ],
          "histogram2d": [
           {
            "colorbar": {
             "outlinewidth": 0,
             "ticks": ""
            },
            "colorscale": [
             [
              0,
              "#0d0887"
             ],
             [
              0.1111111111111111,
              "#46039f"
             ],
             [
              0.2222222222222222,
              "#7201a8"
             ],
             [
              0.3333333333333333,
              "#9c179e"
             ],
             [
              0.4444444444444444,
              "#bd3786"
             ],
             [
              0.5555555555555556,
              "#d8576b"
             ],
             [
              0.6666666666666666,
              "#ed7953"
             ],
             [
              0.7777777777777778,
              "#fb9f3a"
             ],
             [
              0.8888888888888888,
              "#fdca26"
             ],
             [
              1,
              "#f0f921"
             ]
            ],
            "type": "histogram2d"
           }
          ],
          "histogram2dcontour": [
           {
            "colorbar": {
             "outlinewidth": 0,
             "ticks": ""
            },
            "colorscale": [
             [
              0,
              "#0d0887"
             ],
             [
              0.1111111111111111,
              "#46039f"
             ],
             [
              0.2222222222222222,
              "#7201a8"
             ],
             [
              0.3333333333333333,
              "#9c179e"
             ],
             [
              0.4444444444444444,
              "#bd3786"
             ],
             [
              0.5555555555555556,
              "#d8576b"
             ],
             [
              0.6666666666666666,
              "#ed7953"
             ],
             [
              0.7777777777777778,
              "#fb9f3a"
             ],
             [
              0.8888888888888888,
              "#fdca26"
             ],
             [
              1,
              "#f0f921"
             ]
            ],
            "type": "histogram2dcontour"
           }
          ],
          "mesh3d": [
           {
            "colorbar": {
             "outlinewidth": 0,
             "ticks": ""
            },
            "type": "mesh3d"
           }
          ],
          "parcoords": [
           {
            "line": {
             "colorbar": {
              "outlinewidth": 0,
              "ticks": ""
             }
            },
            "type": "parcoords"
           }
          ],
          "pie": [
           {
            "automargin": true,
            "type": "pie"
           }
          ],
          "scatter": [
           {
            "marker": {
             "line": {
              "color": "#283442"
             }
            },
            "type": "scatter"
           }
          ],
          "scatter3d": [
           {
            "line": {
             "colorbar": {
              "outlinewidth": 0,
              "ticks": ""
             }
            },
            "marker": {
             "colorbar": {
              "outlinewidth": 0,
              "ticks": ""
             }
            },
            "type": "scatter3d"
           }
          ],
          "scattercarpet": [
           {
            "marker": {
             "colorbar": {
              "outlinewidth": 0,
              "ticks": ""
             }
            },
            "type": "scattercarpet"
           }
          ],
          "scattergeo": [
           {
            "marker": {
             "colorbar": {
              "outlinewidth": 0,
              "ticks": ""
             }
            },
            "type": "scattergeo"
           }
          ],
          "scattergl": [
           {
            "marker": {
             "line": {
              "color": "#283442"
             }
            },
            "type": "scattergl"
           }
          ],
          "scattermapbox": [
           {
            "marker": {
             "colorbar": {
              "outlinewidth": 0,
              "ticks": ""
             }
            },
            "type": "scattermapbox"
           }
          ],
          "scatterpolar": [
           {
            "marker": {
             "colorbar": {
              "outlinewidth": 0,
              "ticks": ""
             }
            },
            "type": "scatterpolar"
           }
          ],
          "scatterpolargl": [
           {
            "marker": {
             "colorbar": {
              "outlinewidth": 0,
              "ticks": ""
             }
            },
            "type": "scatterpolargl"
           }
          ],
          "scatterternary": [
           {
            "marker": {
             "colorbar": {
              "outlinewidth": 0,
              "ticks": ""
             }
            },
            "type": "scatterternary"
           }
          ],
          "surface": [
           {
            "colorbar": {
             "outlinewidth": 0,
             "ticks": ""
            },
            "colorscale": [
             [
              0,
              "#0d0887"
             ],
             [
              0.1111111111111111,
              "#46039f"
             ],
             [
              0.2222222222222222,
              "#7201a8"
             ],
             [
              0.3333333333333333,
              "#9c179e"
             ],
             [
              0.4444444444444444,
              "#bd3786"
             ],
             [
              0.5555555555555556,
              "#d8576b"
             ],
             [
              0.6666666666666666,
              "#ed7953"
             ],
             [
              0.7777777777777778,
              "#fb9f3a"
             ],
             [
              0.8888888888888888,
              "#fdca26"
             ],
             [
              1,
              "#f0f921"
             ]
            ],
            "type": "surface"
           }
          ],
          "table": [
           {
            "cells": {
             "fill": {
              "color": "#506784"
             },
             "line": {
              "color": "rgb(17,17,17)"
             }
            },
            "header": {
             "fill": {
              "color": "#2a3f5f"
             },
             "line": {
              "color": "rgb(17,17,17)"
             }
            },
            "type": "table"
           }
          ]
         },
         "layout": {
          "annotationdefaults": {
           "arrowcolor": "#f2f5fa",
           "arrowhead": 0,
           "arrowwidth": 1
          },
          "autotypenumbers": "strict",
          "coloraxis": {
           "colorbar": {
            "outlinewidth": 0,
            "ticks": ""
           }
          },
          "colorscale": {
           "diverging": [
            [
             0,
             "#8e0152"
            ],
            [
             0.1,
             "#c51b7d"
            ],
            [
             0.2,
             "#de77ae"
            ],
            [
             0.3,
             "#f1b6da"
            ],
            [
             0.4,
             "#fde0ef"
            ],
            [
             0.5,
             "#f7f7f7"
            ],
            [
             0.6,
             "#e6f5d0"
            ],
            [
             0.7,
             "#b8e186"
            ],
            [
             0.8,
             "#7fbc41"
            ],
            [
             0.9,
             "#4d9221"
            ],
            [
             1,
             "#276419"
            ]
           ],
           "sequential": [
            [
             0,
             "#0d0887"
            ],
            [
             0.1111111111111111,
             "#46039f"
            ],
            [
             0.2222222222222222,
             "#7201a8"
            ],
            [
             0.3333333333333333,
             "#9c179e"
            ],
            [
             0.4444444444444444,
             "#bd3786"
            ],
            [
             0.5555555555555556,
             "#d8576b"
            ],
            [
             0.6666666666666666,
             "#ed7953"
            ],
            [
             0.7777777777777778,
             "#fb9f3a"
            ],
            [
             0.8888888888888888,
             "#fdca26"
            ],
            [
             1,
             "#f0f921"
            ]
           ],
           "sequentialminus": [
            [
             0,
             "#0d0887"
            ],
            [
             0.1111111111111111,
             "#46039f"
            ],
            [
             0.2222222222222222,
             "#7201a8"
            ],
            [
             0.3333333333333333,
             "#9c179e"
            ],
            [
             0.4444444444444444,
             "#bd3786"
            ],
            [
             0.5555555555555556,
             "#d8576b"
            ],
            [
             0.6666666666666666,
             "#ed7953"
            ],
            [
             0.7777777777777778,
             "#fb9f3a"
            ],
            [
             0.8888888888888888,
             "#fdca26"
            ],
            [
             1,
             "#f0f921"
            ]
           ]
          },
          "colorway": [
           "#636efa",
           "#EF553B",
           "#00cc96",
           "#ab63fa",
           "#FFA15A",
           "#19d3f3",
           "#FF6692",
           "#B6E880",
           "#FF97FF",
           "#FECB52"
          ],
          "font": {
           "color": "#f2f5fa"
          },
          "geo": {
           "bgcolor": "rgb(17,17,17)",
           "lakecolor": "rgb(17,17,17)",
           "landcolor": "rgb(17,17,17)",
           "showlakes": true,
           "showland": true,
           "subunitcolor": "#506784"
          },
          "hoverlabel": {
           "align": "left"
          },
          "hovermode": "closest",
          "mapbox": {
           "style": "dark"
          },
          "paper_bgcolor": "rgb(17,17,17)",
          "plot_bgcolor": "rgb(17,17,17)",
          "polar": {
           "angularaxis": {
            "gridcolor": "#506784",
            "linecolor": "#506784",
            "ticks": ""
           },
           "bgcolor": "rgb(17,17,17)",
           "radialaxis": {
            "gridcolor": "#506784",
            "linecolor": "#506784",
            "ticks": ""
           }
          },
          "scene": {
           "xaxis": {
            "backgroundcolor": "rgb(17,17,17)",
            "gridcolor": "#506784",
            "gridwidth": 2,
            "linecolor": "#506784",
            "showbackground": true,
            "ticks": "",
            "zerolinecolor": "#C8D4E3"
           },
           "yaxis": {
            "backgroundcolor": "rgb(17,17,17)",
            "gridcolor": "#506784",
            "gridwidth": 2,
            "linecolor": "#506784",
            "showbackground": true,
            "ticks": "",
            "zerolinecolor": "#C8D4E3"
           },
           "zaxis": {
            "backgroundcolor": "rgb(17,17,17)",
            "gridcolor": "#506784",
            "gridwidth": 2,
            "linecolor": "#506784",
            "showbackground": true,
            "ticks": "",
            "zerolinecolor": "#C8D4E3"
           }
          },
          "shapedefaults": {
           "line": {
            "color": "#f2f5fa"
           }
          },
          "sliderdefaults": {
           "bgcolor": "#C8D4E3",
           "bordercolor": "rgb(17,17,17)",
           "borderwidth": 1,
           "tickwidth": 0
          },
          "ternary": {
           "aaxis": {
            "gridcolor": "#506784",
            "linecolor": "#506784",
            "ticks": ""
           },
           "baxis": {
            "gridcolor": "#506784",
            "linecolor": "#506784",
            "ticks": ""
           },
           "bgcolor": "rgb(17,17,17)",
           "caxis": {
            "gridcolor": "#506784",
            "linecolor": "#506784",
            "ticks": ""
           }
          },
          "title": {
           "x": 0.05
          },
          "updatemenudefaults": {
           "bgcolor": "#506784",
           "borderwidth": 0
          },
          "xaxis": {
           "automargin": true,
           "gridcolor": "#283442",
           "linecolor": "#506784",
           "ticks": "",
           "title": {
            "standoff": 15
           },
           "zerolinecolor": "#283442",
           "zerolinewidth": 2
          },
          "yaxis": {
           "automargin": true,
           "gridcolor": "#283442",
           "linecolor": "#506784",
           "ticks": "",
           "title": {
            "standoff": 15
           },
           "zerolinecolor": "#283442",
           "zerolinewidth": 2
          }
         }
        },
        "title": {
         "font": {
          "size": 13
         },
         "text": "<b>Top 5 High-Performing Regions by Total Sales</b>"
        },
        "width": 400,
        "xaxis": {
         "anchor": "y",
         "domain": [
          0,
          1
         ],
         "showgrid": false,
         "title": {
          "font": {
           "size": 12
          },
          "text": "Total Sales"
         }
        },
        "yaxis": {
         "anchor": "x",
         "categoryorder": "total ascending",
         "domain": [
          0,
          1
         ],
         "showgrid": false,
         "title": {
          "text": ""
         }
        }
       }
      }
     },
     "metadata": {},
     "output_type": "display_data"
    }
   ],
   "source": [
    "bar1 = create_bar_region(df_2017)\n",
    "bar1"
   ]
  },
  {
   "cell_type": "code",
   "execution_count": 44,
   "metadata": {},
   "outputs": [],
   "source": [
    "def create_bar_region2(dataframe):\n",
    "    grouped = dataframe.groupby([\"market\", \"order_region\"]).agg(\n",
    "        total_sales = (\"sales\", \"sum\")\n",
    "    ).reset_index()\n",
    "\n",
    "    grouped = grouped.sort_values(by=\"total_sales\", ascending=False).reset_index()\n",
    "    grouped[\"total_sales\"] = round(grouped[\"total_sales\"], 2)\n",
    "    grouped = grouped.tail(5)\n",
    "\n",
    "    # format values in millions\n",
    "    grouped['total_sales_formatted'] = (grouped['total_sales'] / 1000).round(2).astype(str) + 'K'\n",
    "\n",
    "    # assign unique colors to each market\n",
    "    color_map = {'LATAM': '#3366CC', 'Europe': '#DC3912', 'Pacific Asia': '#FF9900', 'USCA': '#109618', 'Africa': '#990099'}\n",
    "\n",
    "    fig = px.bar(grouped, x=\"total_sales\", y=\"order_region\", orientation=\"h\", text=\"total_sales_formatted\", color=\"market\",\n",
    "                    labels={\"order_region\":\"\", \"total_sales\":\"Total Sales\"}, template=\"plotly_dark\",\n",
    "                     color_discrete_map=color_map)\n",
    "\n",
    "    fig.update_layout(yaxis={'categoryorder':'total ascending'})\n",
    "\n",
    "    fig.update_layout(autosize=True,width=400,height=300)\n",
    "    fig.update_layout(title=\"<b>Bottom 5 Underperforming Regions by Total Sales</b>\",title_font_size=13)\n",
    "    fig.update_layout({'plot_bgcolor': 'rgba(0, 0, 0, 0)','paper_bgcolor': 'rgba(0, 0, 0, 0)',})\n",
    "    fig.update_xaxes(title_font=dict(size=12))\n",
    "    fig.update_layout(xaxis_showgrid=False, yaxis_showgrid=False)\n",
    "    fig.update_layout(legend_title_text='Market')\n",
    "    \n",
    "\n",
    "    return fig"
   ]
  },
  {
   "cell_type": "code",
   "execution_count": 45,
   "metadata": {},
   "outputs": [
    {
     "data": {
      "application/vnd.plotly.v1+json": {
       "config": {
        "plotlyServerURL": "https://plot.ly"
       },
       "data": [
        {
         "alignmentgroup": "True",
         "hovertemplate": "market=Africa<br>Total Sales=%{x}<br>=%{y}<br>total_sales_formatted=%{text}<extra></extra>",
         "legendgroup": "Africa",
         "marker": {
          "color": "#990099",
          "pattern": {
           "shape": ""
          }
         },
         "name": "Africa",
         "offsetgroup": "Africa",
         "orientation": "h",
         "showlegend": true,
         "text": [
          "28.82K",
          "18.37K"
         ],
         "textposition": "auto",
         "type": "bar",
         "x": [
          28819.9,
          18368.66
         ],
         "xaxis": "x",
         "y": [
          "Middle Africa",
          "Southern Africa"
         ],
         "yaxis": "y"
        },
        {
         "alignmentgroup": "True",
         "hovertemplate": "market=USCA<br>Total Sales=%{x}<br>=%{y}<br>total_sales_formatted=%{text}<extra></extra>",
         "legendgroup": "USCA",
         "marker": {
          "color": "#109618",
          "pattern": {
           "shape": ""
          }
         },
         "name": "USCA",
         "offsetgroup": "USCA",
         "orientation": "h",
         "showlegend": true,
         "text": [
          "20.39K"
         ],
         "textposition": "auto",
         "type": "bar",
         "x": [
          20388.55
         ],
         "xaxis": "x",
         "y": [
          "Northern America"
         ],
         "yaxis": "y"
        },
        {
         "alignmentgroup": "True",
         "hovertemplate": "market=Pacific Asia<br>Total Sales=%{x}<br>=%{y}<br>total_sales_formatted=%{text}<extra></extra>",
         "legendgroup": "Pacific Asia",
         "marker": {
          "color": "#FF9900",
          "pattern": {
           "shape": ""
          }
         },
         "name": "Pacific Asia",
         "offsetgroup": "Pacific Asia",
         "orientation": "h",
         "showlegend": true,
         "text": [
          "11.91K",
          "0.43K"
         ],
         "textposition": "auto",
         "type": "bar",
         "x": [
          11906.64,
          425.03
         ],
         "xaxis": "x",
         "y": [
          "Central Asia",
          "Melanesia"
         ],
         "yaxis": "y"
        }
       ],
       "layout": {
        "autosize": true,
        "barmode": "relative",
        "height": 300,
        "legend": {
         "title": {
          "text": "Market"
         },
         "tracegroupgap": 0
        },
        "margin": {
         "t": 60
        },
        "paper_bgcolor": "rgba(0, 0, 0, 0)",
        "plot_bgcolor": "rgba(0, 0, 0, 0)",
        "template": {
         "data": {
          "bar": [
           {
            "error_x": {
             "color": "#f2f5fa"
            },
            "error_y": {
             "color": "#f2f5fa"
            },
            "marker": {
             "line": {
              "color": "rgb(17,17,17)",
              "width": 0.5
             },
             "pattern": {
              "fillmode": "overlay",
              "size": 10,
              "solidity": 0.2
             }
            },
            "type": "bar"
           }
          ],
          "barpolar": [
           {
            "marker": {
             "line": {
              "color": "rgb(17,17,17)",
              "width": 0.5
             },
             "pattern": {
              "fillmode": "overlay",
              "size": 10,
              "solidity": 0.2
             }
            },
            "type": "barpolar"
           }
          ],
          "carpet": [
           {
            "aaxis": {
             "endlinecolor": "#A2B1C6",
             "gridcolor": "#506784",
             "linecolor": "#506784",
             "minorgridcolor": "#506784",
             "startlinecolor": "#A2B1C6"
            },
            "baxis": {
             "endlinecolor": "#A2B1C6",
             "gridcolor": "#506784",
             "linecolor": "#506784",
             "minorgridcolor": "#506784",
             "startlinecolor": "#A2B1C6"
            },
            "type": "carpet"
           }
          ],
          "choropleth": [
           {
            "colorbar": {
             "outlinewidth": 0,
             "ticks": ""
            },
            "type": "choropleth"
           }
          ],
          "contour": [
           {
            "colorbar": {
             "outlinewidth": 0,
             "ticks": ""
            },
            "colorscale": [
             [
              0,
              "#0d0887"
             ],
             [
              0.1111111111111111,
              "#46039f"
             ],
             [
              0.2222222222222222,
              "#7201a8"
             ],
             [
              0.3333333333333333,
              "#9c179e"
             ],
             [
              0.4444444444444444,
              "#bd3786"
             ],
             [
              0.5555555555555556,
              "#d8576b"
             ],
             [
              0.6666666666666666,
              "#ed7953"
             ],
             [
              0.7777777777777778,
              "#fb9f3a"
             ],
             [
              0.8888888888888888,
              "#fdca26"
             ],
             [
              1,
              "#f0f921"
             ]
            ],
            "type": "contour"
           }
          ],
          "contourcarpet": [
           {
            "colorbar": {
             "outlinewidth": 0,
             "ticks": ""
            },
            "type": "contourcarpet"
           }
          ],
          "heatmap": [
           {
            "colorbar": {
             "outlinewidth": 0,
             "ticks": ""
            },
            "colorscale": [
             [
              0,
              "#0d0887"
             ],
             [
              0.1111111111111111,
              "#46039f"
             ],
             [
              0.2222222222222222,
              "#7201a8"
             ],
             [
              0.3333333333333333,
              "#9c179e"
             ],
             [
              0.4444444444444444,
              "#bd3786"
             ],
             [
              0.5555555555555556,
              "#d8576b"
             ],
             [
              0.6666666666666666,
              "#ed7953"
             ],
             [
              0.7777777777777778,
              "#fb9f3a"
             ],
             [
              0.8888888888888888,
              "#fdca26"
             ],
             [
              1,
              "#f0f921"
             ]
            ],
            "type": "heatmap"
           }
          ],
          "heatmapgl": [
           {
            "colorbar": {
             "outlinewidth": 0,
             "ticks": ""
            },
            "colorscale": [
             [
              0,
              "#0d0887"
             ],
             [
              0.1111111111111111,
              "#46039f"
             ],
             [
              0.2222222222222222,
              "#7201a8"
             ],
             [
              0.3333333333333333,
              "#9c179e"
             ],
             [
              0.4444444444444444,
              "#bd3786"
             ],
             [
              0.5555555555555556,
              "#d8576b"
             ],
             [
              0.6666666666666666,
              "#ed7953"
             ],
             [
              0.7777777777777778,
              "#fb9f3a"
             ],
             [
              0.8888888888888888,
              "#fdca26"
             ],
             [
              1,
              "#f0f921"
             ]
            ],
            "type": "heatmapgl"
           }
          ],
          "histogram": [
           {
            "marker": {
             "pattern": {
              "fillmode": "overlay",
              "size": 10,
              "solidity": 0.2
             }
            },
            "type": "histogram"
           }
          ],
          "histogram2d": [
           {
            "colorbar": {
             "outlinewidth": 0,
             "ticks": ""
            },
            "colorscale": [
             [
              0,
              "#0d0887"
             ],
             [
              0.1111111111111111,
              "#46039f"
             ],
             [
              0.2222222222222222,
              "#7201a8"
             ],
             [
              0.3333333333333333,
              "#9c179e"
             ],
             [
              0.4444444444444444,
              "#bd3786"
             ],
             [
              0.5555555555555556,
              "#d8576b"
             ],
             [
              0.6666666666666666,
              "#ed7953"
             ],
             [
              0.7777777777777778,
              "#fb9f3a"
             ],
             [
              0.8888888888888888,
              "#fdca26"
             ],
             [
              1,
              "#f0f921"
             ]
            ],
            "type": "histogram2d"
           }
          ],
          "histogram2dcontour": [
           {
            "colorbar": {
             "outlinewidth": 0,
             "ticks": ""
            },
            "colorscale": [
             [
              0,
              "#0d0887"
             ],
             [
              0.1111111111111111,
              "#46039f"
             ],
             [
              0.2222222222222222,
              "#7201a8"
             ],
             [
              0.3333333333333333,
              "#9c179e"
             ],
             [
              0.4444444444444444,
              "#bd3786"
             ],
             [
              0.5555555555555556,
              "#d8576b"
             ],
             [
              0.6666666666666666,
              "#ed7953"
             ],
             [
              0.7777777777777778,
              "#fb9f3a"
             ],
             [
              0.8888888888888888,
              "#fdca26"
             ],
             [
              1,
              "#f0f921"
             ]
            ],
            "type": "histogram2dcontour"
           }
          ],
          "mesh3d": [
           {
            "colorbar": {
             "outlinewidth": 0,
             "ticks": ""
            },
            "type": "mesh3d"
           }
          ],
          "parcoords": [
           {
            "line": {
             "colorbar": {
              "outlinewidth": 0,
              "ticks": ""
             }
            },
            "type": "parcoords"
           }
          ],
          "pie": [
           {
            "automargin": true,
            "type": "pie"
           }
          ],
          "scatter": [
           {
            "marker": {
             "line": {
              "color": "#283442"
             }
            },
            "type": "scatter"
           }
          ],
          "scatter3d": [
           {
            "line": {
             "colorbar": {
              "outlinewidth": 0,
              "ticks": ""
             }
            },
            "marker": {
             "colorbar": {
              "outlinewidth": 0,
              "ticks": ""
             }
            },
            "type": "scatter3d"
           }
          ],
          "scattercarpet": [
           {
            "marker": {
             "colorbar": {
              "outlinewidth": 0,
              "ticks": ""
             }
            },
            "type": "scattercarpet"
           }
          ],
          "scattergeo": [
           {
            "marker": {
             "colorbar": {
              "outlinewidth": 0,
              "ticks": ""
             }
            },
            "type": "scattergeo"
           }
          ],
          "scattergl": [
           {
            "marker": {
             "line": {
              "color": "#283442"
             }
            },
            "type": "scattergl"
           }
          ],
          "scattermapbox": [
           {
            "marker": {
             "colorbar": {
              "outlinewidth": 0,
              "ticks": ""
             }
            },
            "type": "scattermapbox"
           }
          ],
          "scatterpolar": [
           {
            "marker": {
             "colorbar": {
              "outlinewidth": 0,
              "ticks": ""
             }
            },
            "type": "scatterpolar"
           }
          ],
          "scatterpolargl": [
           {
            "marker": {
             "colorbar": {
              "outlinewidth": 0,
              "ticks": ""
             }
            },
            "type": "scatterpolargl"
           }
          ],
          "scatterternary": [
           {
            "marker": {
             "colorbar": {
              "outlinewidth": 0,
              "ticks": ""
             }
            },
            "type": "scatterternary"
           }
          ],
          "surface": [
           {
            "colorbar": {
             "outlinewidth": 0,
             "ticks": ""
            },
            "colorscale": [
             [
              0,
              "#0d0887"
             ],
             [
              0.1111111111111111,
              "#46039f"
             ],
             [
              0.2222222222222222,
              "#7201a8"
             ],
             [
              0.3333333333333333,
              "#9c179e"
             ],
             [
              0.4444444444444444,
              "#bd3786"
             ],
             [
              0.5555555555555556,
              "#d8576b"
             ],
             [
              0.6666666666666666,
              "#ed7953"
             ],
             [
              0.7777777777777778,
              "#fb9f3a"
             ],
             [
              0.8888888888888888,
              "#fdca26"
             ],
             [
              1,
              "#f0f921"
             ]
            ],
            "type": "surface"
           }
          ],
          "table": [
           {
            "cells": {
             "fill": {
              "color": "#506784"
             },
             "line": {
              "color": "rgb(17,17,17)"
             }
            },
            "header": {
             "fill": {
              "color": "#2a3f5f"
             },
             "line": {
              "color": "rgb(17,17,17)"
             }
            },
            "type": "table"
           }
          ]
         },
         "layout": {
          "annotationdefaults": {
           "arrowcolor": "#f2f5fa",
           "arrowhead": 0,
           "arrowwidth": 1
          },
          "autotypenumbers": "strict",
          "coloraxis": {
           "colorbar": {
            "outlinewidth": 0,
            "ticks": ""
           }
          },
          "colorscale": {
           "diverging": [
            [
             0,
             "#8e0152"
            ],
            [
             0.1,
             "#c51b7d"
            ],
            [
             0.2,
             "#de77ae"
            ],
            [
             0.3,
             "#f1b6da"
            ],
            [
             0.4,
             "#fde0ef"
            ],
            [
             0.5,
             "#f7f7f7"
            ],
            [
             0.6,
             "#e6f5d0"
            ],
            [
             0.7,
             "#b8e186"
            ],
            [
             0.8,
             "#7fbc41"
            ],
            [
             0.9,
             "#4d9221"
            ],
            [
             1,
             "#276419"
            ]
           ],
           "sequential": [
            [
             0,
             "#0d0887"
            ],
            [
             0.1111111111111111,
             "#46039f"
            ],
            [
             0.2222222222222222,
             "#7201a8"
            ],
            [
             0.3333333333333333,
             "#9c179e"
            ],
            [
             0.4444444444444444,
             "#bd3786"
            ],
            [
             0.5555555555555556,
             "#d8576b"
            ],
            [
             0.6666666666666666,
             "#ed7953"
            ],
            [
             0.7777777777777778,
             "#fb9f3a"
            ],
            [
             0.8888888888888888,
             "#fdca26"
            ],
            [
             1,
             "#f0f921"
            ]
           ],
           "sequentialminus": [
            [
             0,
             "#0d0887"
            ],
            [
             0.1111111111111111,
             "#46039f"
            ],
            [
             0.2222222222222222,
             "#7201a8"
            ],
            [
             0.3333333333333333,
             "#9c179e"
            ],
            [
             0.4444444444444444,
             "#bd3786"
            ],
            [
             0.5555555555555556,
             "#d8576b"
            ],
            [
             0.6666666666666666,
             "#ed7953"
            ],
            [
             0.7777777777777778,
             "#fb9f3a"
            ],
            [
             0.8888888888888888,
             "#fdca26"
            ],
            [
             1,
             "#f0f921"
            ]
           ]
          },
          "colorway": [
           "#636efa",
           "#EF553B",
           "#00cc96",
           "#ab63fa",
           "#FFA15A",
           "#19d3f3",
           "#FF6692",
           "#B6E880",
           "#FF97FF",
           "#FECB52"
          ],
          "font": {
           "color": "#f2f5fa"
          },
          "geo": {
           "bgcolor": "rgb(17,17,17)",
           "lakecolor": "rgb(17,17,17)",
           "landcolor": "rgb(17,17,17)",
           "showlakes": true,
           "showland": true,
           "subunitcolor": "#506784"
          },
          "hoverlabel": {
           "align": "left"
          },
          "hovermode": "closest",
          "mapbox": {
           "style": "dark"
          },
          "paper_bgcolor": "rgb(17,17,17)",
          "plot_bgcolor": "rgb(17,17,17)",
          "polar": {
           "angularaxis": {
            "gridcolor": "#506784",
            "linecolor": "#506784",
            "ticks": ""
           },
           "bgcolor": "rgb(17,17,17)",
           "radialaxis": {
            "gridcolor": "#506784",
            "linecolor": "#506784",
            "ticks": ""
           }
          },
          "scene": {
           "xaxis": {
            "backgroundcolor": "rgb(17,17,17)",
            "gridcolor": "#506784",
            "gridwidth": 2,
            "linecolor": "#506784",
            "showbackground": true,
            "ticks": "",
            "zerolinecolor": "#C8D4E3"
           },
           "yaxis": {
            "backgroundcolor": "rgb(17,17,17)",
            "gridcolor": "#506784",
            "gridwidth": 2,
            "linecolor": "#506784",
            "showbackground": true,
            "ticks": "",
            "zerolinecolor": "#C8D4E3"
           },
           "zaxis": {
            "backgroundcolor": "rgb(17,17,17)",
            "gridcolor": "#506784",
            "gridwidth": 2,
            "linecolor": "#506784",
            "showbackground": true,
            "ticks": "",
            "zerolinecolor": "#C8D4E3"
           }
          },
          "shapedefaults": {
           "line": {
            "color": "#f2f5fa"
           }
          },
          "sliderdefaults": {
           "bgcolor": "#C8D4E3",
           "bordercolor": "rgb(17,17,17)",
           "borderwidth": 1,
           "tickwidth": 0
          },
          "ternary": {
           "aaxis": {
            "gridcolor": "#506784",
            "linecolor": "#506784",
            "ticks": ""
           },
           "baxis": {
            "gridcolor": "#506784",
            "linecolor": "#506784",
            "ticks": ""
           },
           "bgcolor": "rgb(17,17,17)",
           "caxis": {
            "gridcolor": "#506784",
            "linecolor": "#506784",
            "ticks": ""
           }
          },
          "title": {
           "x": 0.05
          },
          "updatemenudefaults": {
           "bgcolor": "#506784",
           "borderwidth": 0
          },
          "xaxis": {
           "automargin": true,
           "gridcolor": "#283442",
           "linecolor": "#506784",
           "ticks": "",
           "title": {
            "standoff": 15
           },
           "zerolinecolor": "#283442",
           "zerolinewidth": 2
          },
          "yaxis": {
           "automargin": true,
           "gridcolor": "#283442",
           "linecolor": "#506784",
           "ticks": "",
           "title": {
            "standoff": 15
           },
           "zerolinecolor": "#283442",
           "zerolinewidth": 2
          }
         }
        },
        "title": {
         "font": {
          "size": 13
         },
         "text": "<b>Bottom 5 Underperforming Regions by Total Sales</b>"
        },
        "width": 400,
        "xaxis": {
         "anchor": "y",
         "domain": [
          0,
          1
         ],
         "showgrid": false,
         "title": {
          "font": {
           "size": 12
          },
          "text": "Total Sales"
         }
        },
        "yaxis": {
         "anchor": "x",
         "categoryorder": "total ascending",
         "domain": [
          0,
          1
         ],
         "showgrid": false,
         "title": {
          "text": ""
         }
        }
       }
      }
     },
     "metadata": {},
     "output_type": "display_data"
    }
   ],
   "source": [
    "bar2 = create_bar_region2(df_2017)\n",
    "bar2"
   ]
  },
  {
   "cell_type": "code",
   "execution_count": 46,
   "metadata": {},
   "outputs": [
    {
     "data": {
      "text/plain": [
       "array(['Camping & Hiking', 'Water Sports', \"Women's Apparel\",\n",
       "       \"Men's Footwear\", 'Indoor/Outdoor Games', 'Accessories', 'Cleats',\n",
       "       'Trade-In', 'Cardio Equipment', 'Shop By Sport', 'Hockey',\n",
       "       'Electronics', 'Fishing', 'Golf Balls', 'Lacrosse',\n",
       "       'Baseball & Softball', 'Golf Gloves', \"Girls' Apparel\",\n",
       "       'Fitness Accessories', 'Hunting & Shooting', 'Tennis & Racquet',\n",
       "       'Golf Shoes', 'Golf Apparel', 'Boxing & MMA', \"Men's Golf Clubs\",\n",
       "       \"Kids' Golf Clubs\", 'Soccer', \"Women's Golf Clubs\",\n",
       "       'Golf Bags & Carts', 'Strength Training', 'As Seen on  TV!',\n",
       "       'Basketball', 'Books ', 'Baby ', 'CDs ', 'Cameras ',\n",
       "       \"Children's Clothing\", 'Computers', 'Consumer Electronics',\n",
       "       'Crafts', 'DVDs', 'Garden', 'Health and Beauty', \"Men's Clothing\",\n",
       "       'Music', 'Pet Supplies', 'Sporting Goods', 'Toys', 'Video Games',\n",
       "       \"Women's Clothing\"], dtype=object)"
      ]
     },
     "execution_count": 46,
     "metadata": {},
     "output_type": "execute_result"
    }
   ],
   "source": [
    "main_df[\"category_name\"].unique()"
   ]
  },
  {
   "cell_type": "code",
   "execution_count": 47,
   "metadata": {},
   "outputs": [
    {
     "data": {
      "text/html": [
       "<div>\n",
       "<style scoped>\n",
       "    .dataframe tbody tr th:only-of-type {\n",
       "        vertical-align: middle;\n",
       "    }\n",
       "\n",
       "    .dataframe tbody tr th {\n",
       "        vertical-align: top;\n",
       "    }\n",
       "\n",
       "    .dataframe thead th {\n",
       "        text-align: right;\n",
       "    }\n",
       "</style>\n",
       "<table border=\"1\" class=\"dataframe\">\n",
       "  <thead>\n",
       "    <tr style=\"text-align: right;\">\n",
       "      <th></th>\n",
       "      <th>order_date</th>\n",
       "      <th>order_region</th>\n",
       "      <th>order_country</th>\n",
       "      <th>order_city</th>\n",
       "      <th>market</th>\n",
       "      <th>sales</th>\n",
       "      <th>order_item_quantity</th>\n",
       "      <th>shipping_date</th>\n",
       "      <th>days_for_shipping_real</th>\n",
       "      <th>days_for_shipment_scheduled</th>\n",
       "      <th>category_name</th>\n",
       "      <th>delivery_status</th>\n",
       "      <th>late_delivery_risk</th>\n",
       "      <th>shipping_mode</th>\n",
       "      <th>order_status</th>\n",
       "      <th>order_profit_per_order</th>\n",
       "      <th>sales_per_item</th>\n",
       "      <th>shipping_days_difference</th>\n",
       "      <th>order_year</th>\n",
       "      <th>order_month</th>\n",
       "      <th>order_year_month_date</th>\n",
       "    </tr>\n",
       "  </thead>\n",
       "  <tbody>\n",
       "    <tr>\n",
       "      <th>0</th>\n",
       "      <td>2017-01-01 00:33:00</td>\n",
       "      <td>Asiatic Russia/European Russia</td>\n",
       "      <td>Russia</td>\n",
       "      <td>Cheliábinsk</td>\n",
       "      <td>Europe</td>\n",
       "      <td>99.96</td>\n",
       "      <td>2</td>\n",
       "      <td>1/6/2017 0:33</td>\n",
       "      <td>5</td>\n",
       "      <td>2</td>\n",
       "      <td>Indoor/Outdoor Games</td>\n",
       "      <td>Late delivery</td>\n",
       "      <td>1</td>\n",
       "      <td>Second Class</td>\n",
       "      <td>COMPLETE</td>\n",
       "      <td>-58.78</td>\n",
       "      <td>49.98</td>\n",
       "      <td>-3</td>\n",
       "      <td>2017</td>\n",
       "      <td>January</td>\n",
       "      <td>2017-01-01</td>\n",
       "    </tr>\n",
       "    <tr>\n",
       "      <th>1</th>\n",
       "      <td>2017-01-01 00:33:00</td>\n",
       "      <td>Asiatic Russia/European Russia</td>\n",
       "      <td>Russia</td>\n",
       "      <td>Cheliábinsk</td>\n",
       "      <td>Europe</td>\n",
       "      <td>39.99</td>\n",
       "      <td>1</td>\n",
       "      <td>1/6/2017 0:33</td>\n",
       "      <td>5</td>\n",
       "      <td>2</td>\n",
       "      <td>Shop By Sport</td>\n",
       "      <td>Late delivery</td>\n",
       "      <td>1</td>\n",
       "      <td>Second Class</td>\n",
       "      <td>COMPLETE</td>\n",
       "      <td>15.98</td>\n",
       "      <td>39.99</td>\n",
       "      <td>-3</td>\n",
       "      <td>2017</td>\n",
       "      <td>January</td>\n",
       "      <td>2017-01-01</td>\n",
       "    </tr>\n",
       "  </tbody>\n",
       "</table>\n",
       "</div>"
      ],
      "text/plain": [
       "           order_date                    order_region order_country  \\\n",
       "0 2017-01-01 00:33:00  Asiatic Russia/European Russia        Russia   \n",
       "1 2017-01-01 00:33:00  Asiatic Russia/European Russia        Russia   \n",
       "\n",
       "    order_city  market  sales  order_item_quantity  shipping_date  \\\n",
       "0  Cheliábinsk  Europe  99.96                    2  1/6/2017 0:33   \n",
       "1  Cheliábinsk  Europe  39.99                    1  1/6/2017 0:33   \n",
       "\n",
       "   days_for_shipping_real  days_for_shipment_scheduled         category_name  \\\n",
       "0                       5                            2  Indoor/Outdoor Games   \n",
       "1                       5                            2         Shop By Sport   \n",
       "\n",
       "  delivery_status  late_delivery_risk shipping_mode order_status  \\\n",
       "0   Late delivery                   1  Second Class     COMPLETE   \n",
       "1   Late delivery                   1  Second Class     COMPLETE   \n",
       "\n",
       "   order_profit_per_order  sales_per_item  shipping_days_difference  \\\n",
       "0                  -58.78           49.98                        -3   \n",
       "1                   15.98           39.99                        -3   \n",
       "\n",
       "   order_year order_month order_year_month_date  \n",
       "0        2017     January            2017-01-01  \n",
       "1        2017     January            2017-01-01  "
      ]
     },
     "execution_count": 47,
     "metadata": {},
     "output_type": "execute_result"
    }
   ],
   "source": [
    "df_2017.head(2)"
   ]
  },
  {
   "cell_type": "code",
   "execution_count": 48,
   "metadata": {},
   "outputs": [],
   "source": [
    "import plotly.graph_objs as go\n",
    "from plotly.subplots import make_subplots\n",
    "\n",
    "def create_bar_region_combined(dataframe):\n",
    "    dataframe = dataframe[dataframe[\"order_region\"]==\"Northern America\"]\n",
    "    grouped = dataframe.groupby([\"category_name\"]).agg(\n",
    "        total_sales=(\"sales\", \"sum\")\n",
    "    ).reset_index()\n",
    "\n",
    "    grouped[\"total_sales\"] = round(grouped[\"total_sales\"], 2)\n",
    "\n",
    "    # sort by total_sales and split into two groups\n",
    "    grouped = grouped.sort_values(by=\"total_sales\", ascending=False).reset_index()\n",
    "    top_5 = grouped.head(5)\n",
    "    bottom_5 = grouped.tail(5)\n",
    "\n",
    "    # create a dictionary to map each category to a unique color\n",
    "    category_colors = {\n",
    "        'Camping & Hiking': '#1f77b4',\n",
    "        'Water Sports': '#ff7f0e',\n",
    "        \"Women's Apparel\": '#2ca02c',\n",
    "        \"Men's Footwear\": '#d62728',\n",
    "        'Indoor/Outdoor Games': '#9467bd',\n",
    "        'Accessories': '#8c564b',\n",
    "        'Cleats': '#e377c2',\n",
    "        'Trade-In': '#7f7f7f',\n",
    "        'Cardio Equipment': '#bcbd22',\n",
    "        'Shop By Sport': '#17becf',\n",
    "        'Hockey': '#ff5733',\n",
    "        'Electronics': '#e74c3c',\n",
    "        'Fishing': '#3498db',\n",
    "        'Golf Balls': '#9b59b6',\n",
    "        'Lacrosse': '#e67e22',\n",
    "        'Baseball & Softball': '#34495e',\n",
    "        'Golf Gloves': '#f1c40f',\n",
    "        \"Girls' Apparel\": '#2ecc71',\n",
    "        'Fitness Accessories': '#1abc9c',\n",
    "        'Hunting & Shooting': '#95a5a6',\n",
    "        'Tennis & Racquet': '#2c3e50',\n",
    "        'Golf Shoes': '#bdc3c7',\n",
    "        'Golf Apparel': '#d35400',\n",
    "        'Boxing & MMA': '#7f8c8d',\n",
    "        \"Men's Golf Clubs\": '#2980b9',\n",
    "        \"Kids' Golf Clubs\": '#16a085',\n",
    "        'Soccer': '#c0392b',\n",
    "        \"Women's Golf Clubs\": '#f39c12',\n",
    "        'Golf Bags & Carts': '#27ae60',\n",
    "        'Strength Training': '#e67e22',\n",
    "        'As Seen on  TV!': '#8e44ad',\n",
    "        'Basketball': '#f39c12',\n",
    "        'Books ': '#1abc9c',\n",
    "        'Baby ': '#95a5a6',\n",
    "        'CDs ': '#d35400',\n",
    "        'Cameras ': '#bdc3c7',\n",
    "        \"Children's Clothing\": '#9b59b6',\n",
    "        'Computers': '#7f8c8d',\n",
    "        'Consumer Electronics': '#2c3e50',\n",
    "        'Crafts': '#27ae60',\n",
    "        'DVDs': '#f1c40f',\n",
    "        'Garden': '#17becf',\n",
    "        'Health and Beauty': '#bcbd22',\n",
    "        \"Men's Clothing\": '#e74c3c',\n",
    "        'Music': '#8c564b',\n",
    "        'Pet Supplies': '#2ecc71',\n",
    "        'Sporting Goods': '#7f7f7f',\n",
    "        'Toys': '#d62728',\n",
    "        'Video Games': '#9467bd',\n",
    "        \"Women's Clothing\": '#3498db'\n",
    "    }\n",
    "\n",
    "    # map category colors to the top_5 and bottom_5 dataframes\n",
    "    top_5['color'] = top_5['category_name'].map(category_colors)\n",
    "    bottom_5['color'] = bottom_5['category_name'].map(category_colors)\n",
    "\n",
    "    # create the subplots\n",
    "    fig = make_subplots(rows=2, cols=1, vertical_spacing=0.15, subplot_titles=(\n",
    "        \"Top 5 High-Performing Categories in Northern America\", \"Bottom 5 Underperforming Categories in Northern America\"))\n",
    "\n",
    "    # add the top 5 subplot\n",
    "    fig.add_trace(go.Bar(x=top_5['total_sales'], y=top_5['category_name'], orientation='h',\n",
    "                        text=top_5['total_sales'], name='', marker=dict(color=top_5['color'])),\n",
    "                row=1, col=1)\n",
    "    fig.update_yaxes(title='', categoryorder='total ascending', row=1, col=1)\n",
    "    fig.update_xaxes(title='Total Sales', row=1, col=1, showgrid=False)\n",
    "\n",
    "    # add the bottom 5 subplot\n",
    "    fig.add_trace(go.Bar(x=bottom_5['total_sales'], y=bottom_5['category_name'], orientation='h',\n",
    "                        text=bottom_5['total_sales'], name='', marker=dict(color=bottom_5['color'])),\n",
    "                row=2, col=1)\n",
    "    fig.update_yaxes(title='', categoryorder='total ascending', row=2, col=1)\n",
    "    fig.update_xaxes(title='Total Sales', row=2, col=1, showgrid=False)\n",
    "\n",
    "    # update the layout\n",
    "    fig.update_layout(height=800, width=800, template='plotly_dark', showlegend=False)\n",
    "\n",
    "    return fig\n"
   ]
  },
  {
   "cell_type": "code",
   "execution_count": 49,
   "metadata": {},
   "outputs": [
    {
     "name": "stderr",
     "output_type": "stream",
     "text": [
      "C:\\Users\\PF2L6BL6\\AppData\\Local\\Temp\\ipykernel_7952\\1180948384.py:72: SettingWithCopyWarning:\n",
      "\n",
      "\n",
      "A value is trying to be set on a copy of a slice from a DataFrame.\n",
      "Try using .loc[row_indexer,col_indexer] = value instead\n",
      "\n",
      "See the caveats in the documentation: https://pandas.pydata.org/pandas-docs/stable/user_guide/indexing.html#returning-a-view-versus-a-copy\n",
      "\n",
      "C:\\Users\\PF2L6BL6\\AppData\\Local\\Temp\\ipykernel_7952\\1180948384.py:73: SettingWithCopyWarning:\n",
      "\n",
      "\n",
      "A value is trying to be set on a copy of a slice from a DataFrame.\n",
      "Try using .loc[row_indexer,col_indexer] = value instead\n",
      "\n",
      "See the caveats in the documentation: https://pandas.pydata.org/pandas-docs/stable/user_guide/indexing.html#returning-a-view-versus-a-copy\n",
      "\n"
     ]
    },
    {
     "data": {
      "application/vnd.plotly.v1+json": {
       "config": {
        "plotlyServerURL": "https://plot.ly"
       },
       "data": [
        {
         "marker": {
          "color": [
           "#1f77b4",
           "#e377c2",
           "#bcbd22",
           "#d62728",
           "#2ca02c"
          ]
         },
         "name": "",
         "orientation": "h",
         "text": [
          4199.72,
          2939.51,
          2599.74,
          1949.85,
          1800
         ],
         "type": "bar",
         "x": [
          4199.72,
          2939.51,
          2599.74,
          1949.85,
          1800
         ],
         "xaxis": "x",
         "y": [
          "Camping & Hiking",
          "Cleats",
          "Cardio Equipment",
          "Men's Footwear",
          "Women's Apparel"
         ],
         "yaxis": "y"
        },
        {
         "marker": {
          "color": [
           "#2ecc71",
           "#e74c3c",
           "#2c3e50",
           "#f1c40f",
           "#9b59b6"
          ]
         },
         "name": "",
         "orientation": "h",
         "text": [
          280,
          175.96,
          134.97,
          119.97,
          49.97
         ],
         "type": "bar",
         "x": [
          280,
          175.96,
          134.97,
          119.97,
          49.97
         ],
         "xaxis": "x2",
         "y": [
          "Girls' Apparel",
          "Electronics",
          "Tennis & Racquet",
          "Golf Gloves",
          "Golf Balls"
         ],
         "yaxis": "y2"
        }
       ],
       "layout": {
        "annotations": [
         {
          "font": {
           "size": 16
          },
          "showarrow": false,
          "text": "Top 5 High-Performing Categories in Northern America",
          "x": 0.5,
          "xanchor": "center",
          "xref": "paper",
          "y": 1,
          "yanchor": "bottom",
          "yref": "paper"
         },
         {
          "font": {
           "size": 16
          },
          "showarrow": false,
          "text": "Bottom 5 Underperforming Categories in Northern America",
          "x": 0.5,
          "xanchor": "center",
          "xref": "paper",
          "y": 0.425,
          "yanchor": "bottom",
          "yref": "paper"
         }
        ],
        "height": 800,
        "showlegend": false,
        "template": {
         "data": {
          "bar": [
           {
            "error_x": {
             "color": "#f2f5fa"
            },
            "error_y": {
             "color": "#f2f5fa"
            },
            "marker": {
             "line": {
              "color": "rgb(17,17,17)",
              "width": 0.5
             },
             "pattern": {
              "fillmode": "overlay",
              "size": 10,
              "solidity": 0.2
             }
            },
            "type": "bar"
           }
          ],
          "barpolar": [
           {
            "marker": {
             "line": {
              "color": "rgb(17,17,17)",
              "width": 0.5
             },
             "pattern": {
              "fillmode": "overlay",
              "size": 10,
              "solidity": 0.2
             }
            },
            "type": "barpolar"
           }
          ],
          "carpet": [
           {
            "aaxis": {
             "endlinecolor": "#A2B1C6",
             "gridcolor": "#506784",
             "linecolor": "#506784",
             "minorgridcolor": "#506784",
             "startlinecolor": "#A2B1C6"
            },
            "baxis": {
             "endlinecolor": "#A2B1C6",
             "gridcolor": "#506784",
             "linecolor": "#506784",
             "minorgridcolor": "#506784",
             "startlinecolor": "#A2B1C6"
            },
            "type": "carpet"
           }
          ],
          "choropleth": [
           {
            "colorbar": {
             "outlinewidth": 0,
             "ticks": ""
            },
            "type": "choropleth"
           }
          ],
          "contour": [
           {
            "colorbar": {
             "outlinewidth": 0,
             "ticks": ""
            },
            "colorscale": [
             [
              0,
              "#0d0887"
             ],
             [
              0.1111111111111111,
              "#46039f"
             ],
             [
              0.2222222222222222,
              "#7201a8"
             ],
             [
              0.3333333333333333,
              "#9c179e"
             ],
             [
              0.4444444444444444,
              "#bd3786"
             ],
             [
              0.5555555555555556,
              "#d8576b"
             ],
             [
              0.6666666666666666,
              "#ed7953"
             ],
             [
              0.7777777777777778,
              "#fb9f3a"
             ],
             [
              0.8888888888888888,
              "#fdca26"
             ],
             [
              1,
              "#f0f921"
             ]
            ],
            "type": "contour"
           }
          ],
          "contourcarpet": [
           {
            "colorbar": {
             "outlinewidth": 0,
             "ticks": ""
            },
            "type": "contourcarpet"
           }
          ],
          "heatmap": [
           {
            "colorbar": {
             "outlinewidth": 0,
             "ticks": ""
            },
            "colorscale": [
             [
              0,
              "#0d0887"
             ],
             [
              0.1111111111111111,
              "#46039f"
             ],
             [
              0.2222222222222222,
              "#7201a8"
             ],
             [
              0.3333333333333333,
              "#9c179e"
             ],
             [
              0.4444444444444444,
              "#bd3786"
             ],
             [
              0.5555555555555556,
              "#d8576b"
             ],
             [
              0.6666666666666666,
              "#ed7953"
             ],
             [
              0.7777777777777778,
              "#fb9f3a"
             ],
             [
              0.8888888888888888,
              "#fdca26"
             ],
             [
              1,
              "#f0f921"
             ]
            ],
            "type": "heatmap"
           }
          ],
          "heatmapgl": [
           {
            "colorbar": {
             "outlinewidth": 0,
             "ticks": ""
            },
            "colorscale": [
             [
              0,
              "#0d0887"
             ],
             [
              0.1111111111111111,
              "#46039f"
             ],
             [
              0.2222222222222222,
              "#7201a8"
             ],
             [
              0.3333333333333333,
              "#9c179e"
             ],
             [
              0.4444444444444444,
              "#bd3786"
             ],
             [
              0.5555555555555556,
              "#d8576b"
             ],
             [
              0.6666666666666666,
              "#ed7953"
             ],
             [
              0.7777777777777778,
              "#fb9f3a"
             ],
             [
              0.8888888888888888,
              "#fdca26"
             ],
             [
              1,
              "#f0f921"
             ]
            ],
            "type": "heatmapgl"
           }
          ],
          "histogram": [
           {
            "marker": {
             "pattern": {
              "fillmode": "overlay",
              "size": 10,
              "solidity": 0.2
             }
            },
            "type": "histogram"
           }
          ],
          "histogram2d": [
           {
            "colorbar": {
             "outlinewidth": 0,
             "ticks": ""
            },
            "colorscale": [
             [
              0,
              "#0d0887"
             ],
             [
              0.1111111111111111,
              "#46039f"
             ],
             [
              0.2222222222222222,
              "#7201a8"
             ],
             [
              0.3333333333333333,
              "#9c179e"
             ],
             [
              0.4444444444444444,
              "#bd3786"
             ],
             [
              0.5555555555555556,
              "#d8576b"
             ],
             [
              0.6666666666666666,
              "#ed7953"
             ],
             [
              0.7777777777777778,
              "#fb9f3a"
             ],
             [
              0.8888888888888888,
              "#fdca26"
             ],
             [
              1,
              "#f0f921"
             ]
            ],
            "type": "histogram2d"
           }
          ],
          "histogram2dcontour": [
           {
            "colorbar": {
             "outlinewidth": 0,
             "ticks": ""
            },
            "colorscale": [
             [
              0,
              "#0d0887"
             ],
             [
              0.1111111111111111,
              "#46039f"
             ],
             [
              0.2222222222222222,
              "#7201a8"
             ],
             [
              0.3333333333333333,
              "#9c179e"
             ],
             [
              0.4444444444444444,
              "#bd3786"
             ],
             [
              0.5555555555555556,
              "#d8576b"
             ],
             [
              0.6666666666666666,
              "#ed7953"
             ],
             [
              0.7777777777777778,
              "#fb9f3a"
             ],
             [
              0.8888888888888888,
              "#fdca26"
             ],
             [
              1,
              "#f0f921"
             ]
            ],
            "type": "histogram2dcontour"
           }
          ],
          "mesh3d": [
           {
            "colorbar": {
             "outlinewidth": 0,
             "ticks": ""
            },
            "type": "mesh3d"
           }
          ],
          "parcoords": [
           {
            "line": {
             "colorbar": {
              "outlinewidth": 0,
              "ticks": ""
             }
            },
            "type": "parcoords"
           }
          ],
          "pie": [
           {
            "automargin": true,
            "type": "pie"
           }
          ],
          "scatter": [
           {
            "marker": {
             "line": {
              "color": "#283442"
             }
            },
            "type": "scatter"
           }
          ],
          "scatter3d": [
           {
            "line": {
             "colorbar": {
              "outlinewidth": 0,
              "ticks": ""
             }
            },
            "marker": {
             "colorbar": {
              "outlinewidth": 0,
              "ticks": ""
             }
            },
            "type": "scatter3d"
           }
          ],
          "scattercarpet": [
           {
            "marker": {
             "colorbar": {
              "outlinewidth": 0,
              "ticks": ""
             }
            },
            "type": "scattercarpet"
           }
          ],
          "scattergeo": [
           {
            "marker": {
             "colorbar": {
              "outlinewidth": 0,
              "ticks": ""
             }
            },
            "type": "scattergeo"
           }
          ],
          "scattergl": [
           {
            "marker": {
             "line": {
              "color": "#283442"
             }
            },
            "type": "scattergl"
           }
          ],
          "scattermapbox": [
           {
            "marker": {
             "colorbar": {
              "outlinewidth": 0,
              "ticks": ""
             }
            },
            "type": "scattermapbox"
           }
          ],
          "scatterpolar": [
           {
            "marker": {
             "colorbar": {
              "outlinewidth": 0,
              "ticks": ""
             }
            },
            "type": "scatterpolar"
           }
          ],
          "scatterpolargl": [
           {
            "marker": {
             "colorbar": {
              "outlinewidth": 0,
              "ticks": ""
             }
            },
            "type": "scatterpolargl"
           }
          ],
          "scatterternary": [
           {
            "marker": {
             "colorbar": {
              "outlinewidth": 0,
              "ticks": ""
             }
            },
            "type": "scatterternary"
           }
          ],
          "surface": [
           {
            "colorbar": {
             "outlinewidth": 0,
             "ticks": ""
            },
            "colorscale": [
             [
              0,
              "#0d0887"
             ],
             [
              0.1111111111111111,
              "#46039f"
             ],
             [
              0.2222222222222222,
              "#7201a8"
             ],
             [
              0.3333333333333333,
              "#9c179e"
             ],
             [
              0.4444444444444444,
              "#bd3786"
             ],
             [
              0.5555555555555556,
              "#d8576b"
             ],
             [
              0.6666666666666666,
              "#ed7953"
             ],
             [
              0.7777777777777778,
              "#fb9f3a"
             ],
             [
              0.8888888888888888,
              "#fdca26"
             ],
             [
              1,
              "#f0f921"
             ]
            ],
            "type": "surface"
           }
          ],
          "table": [
           {
            "cells": {
             "fill": {
              "color": "#506784"
             },
             "line": {
              "color": "rgb(17,17,17)"
             }
            },
            "header": {
             "fill": {
              "color": "#2a3f5f"
             },
             "line": {
              "color": "rgb(17,17,17)"
             }
            },
            "type": "table"
           }
          ]
         },
         "layout": {
          "annotationdefaults": {
           "arrowcolor": "#f2f5fa",
           "arrowhead": 0,
           "arrowwidth": 1
          },
          "autotypenumbers": "strict",
          "coloraxis": {
           "colorbar": {
            "outlinewidth": 0,
            "ticks": ""
           }
          },
          "colorscale": {
           "diverging": [
            [
             0,
             "#8e0152"
            ],
            [
             0.1,
             "#c51b7d"
            ],
            [
             0.2,
             "#de77ae"
            ],
            [
             0.3,
             "#f1b6da"
            ],
            [
             0.4,
             "#fde0ef"
            ],
            [
             0.5,
             "#f7f7f7"
            ],
            [
             0.6,
             "#e6f5d0"
            ],
            [
             0.7,
             "#b8e186"
            ],
            [
             0.8,
             "#7fbc41"
            ],
            [
             0.9,
             "#4d9221"
            ],
            [
             1,
             "#276419"
            ]
           ],
           "sequential": [
            [
             0,
             "#0d0887"
            ],
            [
             0.1111111111111111,
             "#46039f"
            ],
            [
             0.2222222222222222,
             "#7201a8"
            ],
            [
             0.3333333333333333,
             "#9c179e"
            ],
            [
             0.4444444444444444,
             "#bd3786"
            ],
            [
             0.5555555555555556,
             "#d8576b"
            ],
            [
             0.6666666666666666,
             "#ed7953"
            ],
            [
             0.7777777777777778,
             "#fb9f3a"
            ],
            [
             0.8888888888888888,
             "#fdca26"
            ],
            [
             1,
             "#f0f921"
            ]
           ],
           "sequentialminus": [
            [
             0,
             "#0d0887"
            ],
            [
             0.1111111111111111,
             "#46039f"
            ],
            [
             0.2222222222222222,
             "#7201a8"
            ],
            [
             0.3333333333333333,
             "#9c179e"
            ],
            [
             0.4444444444444444,
             "#bd3786"
            ],
            [
             0.5555555555555556,
             "#d8576b"
            ],
            [
             0.6666666666666666,
             "#ed7953"
            ],
            [
             0.7777777777777778,
             "#fb9f3a"
            ],
            [
             0.8888888888888888,
             "#fdca26"
            ],
            [
             1,
             "#f0f921"
            ]
           ]
          },
          "colorway": [
           "#636efa",
           "#EF553B",
           "#00cc96",
           "#ab63fa",
           "#FFA15A",
           "#19d3f3",
           "#FF6692",
           "#B6E880",
           "#FF97FF",
           "#FECB52"
          ],
          "font": {
           "color": "#f2f5fa"
          },
          "geo": {
           "bgcolor": "rgb(17,17,17)",
           "lakecolor": "rgb(17,17,17)",
           "landcolor": "rgb(17,17,17)",
           "showlakes": true,
           "showland": true,
           "subunitcolor": "#506784"
          },
          "hoverlabel": {
           "align": "left"
          },
          "hovermode": "closest",
          "mapbox": {
           "style": "dark"
          },
          "paper_bgcolor": "rgb(17,17,17)",
          "plot_bgcolor": "rgb(17,17,17)",
          "polar": {
           "angularaxis": {
            "gridcolor": "#506784",
            "linecolor": "#506784",
            "ticks": ""
           },
           "bgcolor": "rgb(17,17,17)",
           "radialaxis": {
            "gridcolor": "#506784",
            "linecolor": "#506784",
            "ticks": ""
           }
          },
          "scene": {
           "xaxis": {
            "backgroundcolor": "rgb(17,17,17)",
            "gridcolor": "#506784",
            "gridwidth": 2,
            "linecolor": "#506784",
            "showbackground": true,
            "ticks": "",
            "zerolinecolor": "#C8D4E3"
           },
           "yaxis": {
            "backgroundcolor": "rgb(17,17,17)",
            "gridcolor": "#506784",
            "gridwidth": 2,
            "linecolor": "#506784",
            "showbackground": true,
            "ticks": "",
            "zerolinecolor": "#C8D4E3"
           },
           "zaxis": {
            "backgroundcolor": "rgb(17,17,17)",
            "gridcolor": "#506784",
            "gridwidth": 2,
            "linecolor": "#506784",
            "showbackground": true,
            "ticks": "",
            "zerolinecolor": "#C8D4E3"
           }
          },
          "shapedefaults": {
           "line": {
            "color": "#f2f5fa"
           }
          },
          "sliderdefaults": {
           "bgcolor": "#C8D4E3",
           "bordercolor": "rgb(17,17,17)",
           "borderwidth": 1,
           "tickwidth": 0
          },
          "ternary": {
           "aaxis": {
            "gridcolor": "#506784",
            "linecolor": "#506784",
            "ticks": ""
           },
           "baxis": {
            "gridcolor": "#506784",
            "linecolor": "#506784",
            "ticks": ""
           },
           "bgcolor": "rgb(17,17,17)",
           "caxis": {
            "gridcolor": "#506784",
            "linecolor": "#506784",
            "ticks": ""
           }
          },
          "title": {
           "x": 0.05
          },
          "updatemenudefaults": {
           "bgcolor": "#506784",
           "borderwidth": 0
          },
          "xaxis": {
           "automargin": true,
           "gridcolor": "#283442",
           "linecolor": "#506784",
           "ticks": "",
           "title": {
            "standoff": 15
           },
           "zerolinecolor": "#283442",
           "zerolinewidth": 2
          },
          "yaxis": {
           "automargin": true,
           "gridcolor": "#283442",
           "linecolor": "#506784",
           "ticks": "",
           "title": {
            "standoff": 15
           },
           "zerolinecolor": "#283442",
           "zerolinewidth": 2
          }
         }
        },
        "width": 800,
        "xaxis": {
         "anchor": "y",
         "domain": [
          0,
          1
         ],
         "showgrid": false,
         "title": {
          "text": "Total Sales"
         }
        },
        "xaxis2": {
         "anchor": "y2",
         "domain": [
          0,
          1
         ],
         "showgrid": false,
         "title": {
          "text": "Total Sales"
         }
        },
        "yaxis": {
         "anchor": "x",
         "categoryorder": "total ascending",
         "domain": [
          0.575,
          1
         ],
         "title": {
          "text": ""
         }
        },
        "yaxis2": {
         "anchor": "x2",
         "categoryorder": "total ascending",
         "domain": [
          0,
          0.425
         ],
         "title": {
          "text": ""
         }
        }
       }
      }
     },
     "metadata": {},
     "output_type": "display_data"
    }
   ],
   "source": [
    "bar3 = create_bar_region_combined(df_2017)\n",
    "bar3"
   ]
  },
  {
   "cell_type": "code",
   "execution_count": 50,
   "metadata": {},
   "outputs": [
    {
     "data": {
      "text/html": [
       "\n",
       "<div id=\"altair-viz-b2baf0432a1b4bd280b2403bf93e2539\"></div>\n",
       "<script type=\"text/javascript\">\n",
       "  var VEGA_DEBUG = (typeof VEGA_DEBUG == \"undefined\") ? {} : VEGA_DEBUG;\n",
       "  (function(spec, embedOpt){\n",
       "    let outputDiv = document.currentScript.previousElementSibling;\n",
       "    if (outputDiv.id !== \"altair-viz-b2baf0432a1b4bd280b2403bf93e2539\") {\n",
       "      outputDiv = document.getElementById(\"altair-viz-b2baf0432a1b4bd280b2403bf93e2539\");\n",
       "    }\n",
       "    const paths = {\n",
       "      \"vega\": \"https://cdn.jsdelivr.net/npm//vega@5?noext\",\n",
       "      \"vega-lib\": \"https://cdn.jsdelivr.net/npm//vega-lib?noext\",\n",
       "      \"vega-lite\": \"https://cdn.jsdelivr.net/npm//vega-lite@4.17.0?noext\",\n",
       "      \"vega-embed\": \"https://cdn.jsdelivr.net/npm//vega-embed@6?noext\",\n",
       "    };\n",
       "\n",
       "    function maybeLoadScript(lib, version) {\n",
       "      var key = `${lib.replace(\"-\", \"\")}_version`;\n",
       "      return (VEGA_DEBUG[key] == version) ?\n",
       "        Promise.resolve(paths[lib]) :\n",
       "        new Promise(function(resolve, reject) {\n",
       "          var s = document.createElement('script');\n",
       "          document.getElementsByTagName(\"head\")[0].appendChild(s);\n",
       "          s.async = true;\n",
       "          s.onload = () => {\n",
       "            VEGA_DEBUG[key] = version;\n",
       "            return resolve(paths[lib]);\n",
       "          };\n",
       "          s.onerror = () => reject(`Error loading script: ${paths[lib]}`);\n",
       "          s.src = paths[lib];\n",
       "        });\n",
       "    }\n",
       "\n",
       "    function showError(err) {\n",
       "      outputDiv.innerHTML = `<div class=\"error\" style=\"color:red;\">${err}</div>`;\n",
       "      throw err;\n",
       "    }\n",
       "\n",
       "    function displayChart(vegaEmbed) {\n",
       "      vegaEmbed(outputDiv, spec, embedOpt)\n",
       "        .catch(err => showError(`Javascript Error: ${err.message}<br>This usually means there's a typo in your chart specification. See the javascript console for the full traceback.`));\n",
       "    }\n",
       "\n",
       "    if(typeof define === \"function\" && define.amd) {\n",
       "      requirejs.config({paths});\n",
       "      require([\"vega-embed\"], displayChart, err => showError(`Error loading script: ${err.message}`));\n",
       "    } else {\n",
       "      maybeLoadScript(\"vega\", \"5\")\n",
       "        .then(() => maybeLoadScript(\"vega-lite\", \"4.17.0\"))\n",
       "        .then(() => maybeLoadScript(\"vega-embed\", \"6\"))\n",
       "        .catch(showError)\n",
       "        .then(() => displayChart(vegaEmbed));\n",
       "    }\n",
       "  })({\"config\": {\"view\": {\"continuousWidth\": 400, \"continuousHeight\": 300}}, \"data\": {\"name\": \"data-59c555119ae139ba34a9160f68eb9ccd\"}, \"mark\": \"line\", \"encoding\": {\"x\": {\"field\": \"order_date\", \"title\": \"date\", \"type\": \"temporal\"}, \"y\": {\"field\": \"sales\", \"title\": \"Total Sales\", \"type\": \"quantitative\"}}, \"height\": 300, \"title\": \"Sales Over Time\", \"width\": 700, \"$schema\": \"https://vega.github.io/schema/vega-lite/v4.17.0.json\", \"datasets\": {\"data-59c555119ae139ba34a9160f68eb9ccd\": [{\"order_date\": \"2017-01-18\", \"sales\": 4087.0}, {\"order_date\": \"2017-01-19\", \"sales\": 21032.0}, {\"order_date\": \"2017-01-20\", \"sales\": 17909.0}, {\"order_date\": \"2017-01-21\", \"sales\": 16223.0}, {\"order_date\": \"2017-01-22\", \"sales\": 16722.0}, {\"order_date\": \"2017-01-23\", \"sales\": 17875.0}, {\"order_date\": \"2017-01-24\", \"sales\": 13738.0}, {\"order_date\": \"2017-01-25\", \"sales\": 17138.0}, {\"order_date\": \"2017-01-26\", \"sales\": 18575.0}, {\"order_date\": \"2017-01-27\", \"sales\": 22043.0}, {\"order_date\": \"2017-01-28\", \"sales\": 21575.0}, {\"order_date\": \"2017-01-29\", \"sales\": 21393.0}, {\"order_date\": \"2017-01-30\", \"sales\": 16666.0}, {\"order_date\": \"2017-01-31\", \"sales\": 14058.0}, {\"order_date\": \"2017-02-01\", \"sales\": 22803.0}, {\"order_date\": \"2017-02-02\", \"sales\": 17688.0}, {\"order_date\": \"2017-02-03\", \"sales\": 12686.0}, {\"order_date\": \"2017-02-04\", \"sales\": 17824.0}, {\"order_date\": \"2017-02-05\", \"sales\": 23860.0}, {\"order_date\": \"2017-02-06\", \"sales\": 20945.0}, {\"order_date\": \"2017-02-07\", \"sales\": 18478.0}, {\"order_date\": \"2017-02-08\", \"sales\": 13027.0}, {\"order_date\": \"2017-02-09\", \"sales\": 23256.0}, {\"order_date\": \"2017-02-10\", \"sales\": 18663.0}, {\"order_date\": \"2017-02-11\", \"sales\": 19410.0}, {\"order_date\": \"2017-02-12\", \"sales\": 16831.0}, {\"order_date\": \"2017-02-13\", \"sales\": 15833.0}, {\"order_date\": \"2017-02-14\", \"sales\": 16380.0}, {\"order_date\": \"2017-02-15\", \"sales\": 19271.0}, {\"order_date\": \"2017-02-16\", \"sales\": 18619.0}, {\"order_date\": \"2017-02-17\", \"sales\": 13550.0}, {\"order_date\": \"2017-02-18\", \"sales\": 18960.0}, {\"order_date\": \"2017-02-19\", \"sales\": 19619.0}, {\"order_date\": \"2017-02-20\", \"sales\": 21458.0}, {\"order_date\": \"2017-02-21\", \"sales\": 17629.0}, {\"order_date\": \"2017-02-22\", \"sales\": 23571.0}, {\"order_date\": \"2017-02-23\", \"sales\": 18349.0}, {\"order_date\": \"2017-02-24\", \"sales\": 24096.0}, {\"order_date\": \"2017-02-25\", \"sales\": 17787.0}, {\"order_date\": \"2017-02-26\", \"sales\": 22479.0}, {\"order_date\": \"2017-02-27\", \"sales\": 14181.0}, {\"order_date\": \"2017-02-28\", \"sales\": 21600.0}, {\"order_date\": \"2017-03-01\", \"sales\": 11486.0}, {\"order_date\": \"2017-03-02\", \"sales\": 10980.0}, {\"order_date\": \"2017-03-03\", \"sales\": 18380.0}, {\"order_date\": \"2017-03-04\", \"sales\": 19969.0}, {\"order_date\": \"2017-03-05\", \"sales\": 16251.0}, {\"order_date\": \"2017-03-06\", \"sales\": 14523.0}, {\"order_date\": \"2017-03-07\", \"sales\": 20774.0}, {\"order_date\": \"2017-03-08\", \"sales\": 11877.0}, {\"order_date\": \"2017-03-09\", \"sales\": 20565.0}, {\"order_date\": \"2017-03-10\", \"sales\": 16168.0}, {\"order_date\": \"2017-03-11\", \"sales\": 15934.0}, {\"order_date\": \"2017-03-12\", \"sales\": 16849.0}, {\"order_date\": \"2017-03-13\", \"sales\": 21514.0}, {\"order_date\": \"2017-03-14\", \"sales\": 19277.0}, {\"order_date\": \"2017-03-15\", \"sales\": 12481.0}, {\"order_date\": \"2017-03-16\", \"sales\": 23289.0}, {\"order_date\": \"2017-03-17\", \"sales\": 23137.0}, {\"order_date\": \"2017-03-18\", \"sales\": 8004.0}, {\"order_date\": \"2017-03-19\", \"sales\": 20471.0}, {\"order_date\": \"2017-03-20\", \"sales\": 15586.0}, {\"order_date\": \"2017-03-21\", \"sales\": 20649.0}, {\"order_date\": \"2017-03-22\", \"sales\": 16343.0}, {\"order_date\": \"2017-03-23\", \"sales\": 24484.0}, {\"order_date\": \"2017-03-24\", \"sales\": 14398.0}, {\"order_date\": \"2017-03-25\", \"sales\": 24691.0}, {\"order_date\": \"2017-03-26\", \"sales\": 19671.0}, {\"order_date\": \"2017-03-27\", \"sales\": 15982.0}, {\"order_date\": \"2017-03-28\", \"sales\": 25232.0}, {\"order_date\": \"2017-03-29\", \"sales\": 22800.0}, {\"order_date\": \"2017-03-30\", \"sales\": 23936.0}, {\"order_date\": \"2017-03-31\", \"sales\": 17700.0}, {\"order_date\": \"2017-04-01\", \"sales\": 21750.0}, {\"order_date\": \"2017-04-02\", \"sales\": 20285.0}, {\"order_date\": \"2017-04-03\", \"sales\": 21021.0}, {\"order_date\": \"2017-04-04\", \"sales\": 15287.0}, {\"order_date\": \"2017-04-05\", \"sales\": 18138.0}, {\"order_date\": \"2017-04-06\", \"sales\": 17662.0}, {\"order_date\": \"2017-04-07\", \"sales\": 19623.0}, {\"order_date\": \"2017-04-08\", \"sales\": 16786.0}, {\"order_date\": \"2017-04-09\", \"sales\": 17291.0}, {\"order_date\": \"2017-04-10\", \"sales\": 13744.0}, {\"order_date\": \"2017-04-11\", \"sales\": 17688.0}, {\"order_date\": \"2017-04-12\", \"sales\": 18821.0}, {\"order_date\": \"2017-04-13\", \"sales\": 21853.0}, {\"order_date\": \"2017-04-14\", \"sales\": 18207.0}, {\"order_date\": \"2017-04-15\", \"sales\": 22669.0}, {\"order_date\": \"2017-04-16\", \"sales\": 14833.0}, {\"order_date\": \"2017-04-17\", \"sales\": 17840.0}, {\"order_date\": \"2017-04-18\", \"sales\": 22453.0}, {\"order_date\": \"2017-04-19\", \"sales\": 27433.0}, {\"order_date\": \"2017-04-20\", \"sales\": 16839.0}, {\"order_date\": \"2017-04-21\", \"sales\": 16875.0}, {\"order_date\": \"2017-04-22\", \"sales\": 23457.0}, {\"order_date\": \"2017-04-23\", \"sales\": 21239.0}, {\"order_date\": \"2017-04-24\", \"sales\": 19877.0}, {\"order_date\": \"2017-04-25\", \"sales\": 19895.0}, {\"order_date\": \"2017-04-26\", \"sales\": 24526.0}, {\"order_date\": \"2017-04-27\", \"sales\": 28682.0}, {\"order_date\": \"2017-04-28\", \"sales\": 21426.0}, {\"order_date\": \"2017-04-29\", \"sales\": 27617.0}, {\"order_date\": \"2017-04-30\", \"sales\": 16673.0}, {\"order_date\": \"2017-05-01\", \"sales\": 21223.0}, {\"order_date\": \"2017-05-02\", \"sales\": 26317.0}, {\"order_date\": \"2017-05-03\", \"sales\": 21226.0}, {\"order_date\": \"2017-05-04\", \"sales\": 20345.0}, {\"order_date\": \"2017-05-05\", \"sales\": 32940.0}, {\"order_date\": \"2017-05-06\", \"sales\": 15778.0}, {\"order_date\": \"2017-05-07\", \"sales\": 25407.0}, {\"order_date\": \"2017-05-08\", \"sales\": 18232.0}, {\"order_date\": \"2017-05-09\", \"sales\": 13557.0}, {\"order_date\": \"2017-05-10\", \"sales\": 14957.0}, {\"order_date\": \"2017-05-11\", \"sales\": 12958.0}, {\"order_date\": \"2017-05-12\", \"sales\": 19433.0}, {\"order_date\": \"2017-05-13\", \"sales\": 26936.0}, {\"order_date\": \"2017-05-14\", \"sales\": 23652.0}, {\"order_date\": \"2017-05-15\", \"sales\": 26869.0}, {\"order_date\": \"2017-05-16\", \"sales\": 23070.0}, {\"order_date\": \"2017-05-17\", \"sales\": 18597.0}, {\"order_date\": \"2017-05-18\", \"sales\": 24533.0}, {\"order_date\": \"2017-05-19\", \"sales\": 16983.0}, {\"order_date\": \"2017-05-20\", \"sales\": 15053.0}, {\"order_date\": \"2017-05-21\", \"sales\": 19367.0}, {\"order_date\": \"2017-05-22\", \"sales\": 18613.0}, {\"order_date\": \"2017-05-23\", \"sales\": 17023.0}, {\"order_date\": \"2017-05-24\", \"sales\": 23983.0}, {\"order_date\": \"2017-05-25\", \"sales\": 21126.0}, {\"order_date\": \"2017-05-26\", \"sales\": 16173.0}, {\"order_date\": \"2017-05-27\", \"sales\": 14178.0}, {\"order_date\": \"2017-05-28\", \"sales\": 10878.0}, {\"order_date\": \"2017-05-29\", \"sales\": 21292.0}, {\"order_date\": \"2017-05-30\", \"sales\": 23605.0}, {\"order_date\": \"2017-05-31\", \"sales\": 17866.0}, {\"order_date\": \"2017-06-01\", \"sales\": 21913.0}, {\"order_date\": \"2017-06-02\", \"sales\": 20512.0}, {\"order_date\": \"2017-06-03\", \"sales\": 15279.0}, {\"order_date\": \"2017-06-04\", \"sales\": 20839.0}, {\"order_date\": \"2017-06-05\", \"sales\": 16430.0}, {\"order_date\": \"2017-06-06\", \"sales\": 12017.0}, {\"order_date\": \"2017-06-07\", \"sales\": 19410.0}, {\"order_date\": \"2017-06-08\", \"sales\": 16171.0}, {\"order_date\": \"2017-06-09\", \"sales\": 20361.0}, {\"order_date\": \"2017-06-10\", \"sales\": 15513.0}, {\"order_date\": \"2017-06-11\", \"sales\": 19801.0}, {\"order_date\": \"2017-06-12\", \"sales\": 22737.0}, {\"order_date\": \"2017-06-13\", \"sales\": 19276.0}]}}, {\"mode\": \"vega-lite\"});\n",
       "</script>"
      ],
      "text/plain": [
       "alt.Chart(...)"
      ]
     },
     "execution_count": 50,
     "metadata": {},
     "output_type": "execute_result"
    }
   ],
   "source": [
    "dailySales = df_2017[df_2017[\"order_region\"]==\"Central America\"].copy().reset_index()\n",
    "dailySales = dailySales.groupby(pd.Grouper(key=\"order_date\", freq=\"D\")).agg({\"sales\": \"sum\"}).reset_index()\n",
    "dailySales[\"sales\"] = dailySales[\"sales\"].round()\n",
    "# dailySales.rename(columns={\"order_date\": \"date\"}, inplace=True)\n",
    "dailySales[\"order_date\"] = pd.to_datetime(dailySales[\"order_date\"]).dt.strftime(\"%Y-%m-%d\")\n",
    "\n",
    "dailySalesChart = alt.Chart(dailySales).mark_line().encode(\n",
    "    x=alt.X(\"order_date:T\", title=\"date\"),\n",
    "    y=alt.Y(\"sales:Q\", title=\"Total Sales\"),\n",
    ").properties(\n",
    "    title=\"Sales Over Time\",\n",
    "    width=700,\n",
    "    height=300\n",
    ")\n",
    "\n",
    "dailySalesChart"
   ]
  },
  {
   "cell_type": "code",
   "execution_count": 51,
   "metadata": {},
   "outputs": [
    {
     "data": {
      "application/vnd.plotly.v1+json": {
       "config": {
        "plotlyServerURL": "https://plot.ly"
       },
       "data": [
        {
         "mode": "lines",
         "name": "Sales Over Time",
         "type": "scatter",
         "x": [
          "2017-01-18",
          "2017-01-19",
          "2017-01-20",
          "2017-01-21",
          "2017-01-22",
          "2017-01-23",
          "2017-01-24",
          "2017-01-25",
          "2017-01-26",
          "2017-01-27",
          "2017-01-28",
          "2017-01-29",
          "2017-01-30",
          "2017-01-31",
          "2017-02-01",
          "2017-02-02",
          "2017-02-03",
          "2017-02-04",
          "2017-02-05",
          "2017-02-06",
          "2017-02-07",
          "2017-02-08",
          "2017-02-09",
          "2017-02-10",
          "2017-02-11",
          "2017-02-12",
          "2017-02-13",
          "2017-02-14",
          "2017-02-15",
          "2017-02-16",
          "2017-02-17",
          "2017-02-18",
          "2017-02-19",
          "2017-02-20",
          "2017-02-21",
          "2017-02-22",
          "2017-02-23",
          "2017-02-24",
          "2017-02-25",
          "2017-02-26",
          "2017-02-27",
          "2017-02-28",
          "2017-03-01",
          "2017-03-02",
          "2017-03-03",
          "2017-03-04",
          "2017-03-05",
          "2017-03-06",
          "2017-03-07",
          "2017-03-08",
          "2017-03-09",
          "2017-03-10",
          "2017-03-11",
          "2017-03-12",
          "2017-03-13",
          "2017-03-14",
          "2017-03-15",
          "2017-03-16",
          "2017-03-17",
          "2017-03-18",
          "2017-03-19",
          "2017-03-20",
          "2017-03-21",
          "2017-03-22",
          "2017-03-23",
          "2017-03-24",
          "2017-03-25",
          "2017-03-26",
          "2017-03-27",
          "2017-03-28",
          "2017-03-29",
          "2017-03-30",
          "2017-03-31",
          "2017-04-01",
          "2017-04-02",
          "2017-04-03",
          "2017-04-04",
          "2017-04-05",
          "2017-04-06",
          "2017-04-07",
          "2017-04-08",
          "2017-04-09",
          "2017-04-10",
          "2017-04-11",
          "2017-04-12",
          "2017-04-13",
          "2017-04-14",
          "2017-04-15",
          "2017-04-16",
          "2017-04-17",
          "2017-04-18",
          "2017-04-19",
          "2017-04-20",
          "2017-04-21",
          "2017-04-22",
          "2017-04-23",
          "2017-04-24",
          "2017-04-25",
          "2017-04-26",
          "2017-04-27",
          "2017-04-28",
          "2017-04-29",
          "2017-04-30",
          "2017-05-01",
          "2017-05-02",
          "2017-05-03",
          "2017-05-04",
          "2017-05-05",
          "2017-05-06",
          "2017-05-07",
          "2017-05-08",
          "2017-05-09",
          "2017-05-10",
          "2017-05-11",
          "2017-05-12",
          "2017-05-13",
          "2017-05-14",
          "2017-05-15",
          "2017-05-16",
          "2017-05-17",
          "2017-05-18",
          "2017-05-19",
          "2017-05-20",
          "2017-05-21",
          "2017-05-22",
          "2017-05-23",
          "2017-05-24",
          "2017-05-25",
          "2017-05-26",
          "2017-05-27",
          "2017-05-28",
          "2017-05-29",
          "2017-05-30",
          "2017-05-31",
          "2017-06-01",
          "2017-06-02",
          "2017-06-03",
          "2017-06-04",
          "2017-06-05",
          "2017-06-06",
          "2017-06-07",
          "2017-06-08",
          "2017-06-09",
          "2017-06-10",
          "2017-06-11",
          "2017-06-12",
          "2017-06-13"
         ],
         "y": [
          4087,
          21032,
          17909,
          16223,
          16722,
          17875,
          13738,
          17138,
          18575,
          22043,
          21575,
          21393,
          16666,
          14058,
          22803,
          17688,
          12686,
          17824,
          23860,
          20945,
          18478,
          13027,
          23256,
          18663,
          19410,
          16831,
          15833,
          16380,
          19271,
          18619,
          13550,
          18960,
          19619,
          21458,
          17629,
          23571,
          18349,
          24096,
          17787,
          22479,
          14181,
          21600,
          11486,
          10980,
          18380,
          19969,
          16251,
          14523,
          20774,
          11877,
          20565,
          16168,
          15934,
          16849,
          21514,
          19277,
          12481,
          23289,
          23137,
          8004,
          20471,
          15586,
          20649,
          16343,
          24484,
          14398,
          24691,
          19671,
          15982,
          25232,
          22800,
          23936,
          17700,
          21750,
          20285,
          21021,
          15287,
          18138,
          17662,
          19623,
          16786,
          17291,
          13744,
          17688,
          18821,
          21853,
          18207,
          22669,
          14833,
          17840,
          22453,
          27433,
          16839,
          16875,
          23457,
          21239,
          19877,
          19895,
          24526,
          28682,
          21426,
          27617,
          16673,
          21223,
          26317,
          21226,
          20345,
          32940,
          15778,
          25407,
          18232,
          13557,
          14957,
          12958,
          19433,
          26936,
          23652,
          26869,
          23070,
          18597,
          24533,
          16983,
          15053,
          19367,
          18613,
          17023,
          23983,
          21126,
          16173,
          14178,
          10878,
          21292,
          23605,
          17866,
          21913,
          20512,
          15279,
          20839,
          16430,
          12017,
          19410,
          16171,
          20361,
          15513,
          19801,
          22737,
          19276
         ]
        }
       ],
       "layout": {
        "height": 300,
        "paper_bgcolor": "rgba(0, 0, 0, 0)",
        "plot_bgcolor": "rgba(0, 0, 0, 0)",
        "template": {
         "data": {
          "bar": [
           {
            "error_x": {
             "color": "#f2f5fa"
            },
            "error_y": {
             "color": "#f2f5fa"
            },
            "marker": {
             "line": {
              "color": "rgb(17,17,17)",
              "width": 0.5
             },
             "pattern": {
              "fillmode": "overlay",
              "size": 10,
              "solidity": 0.2
             }
            },
            "type": "bar"
           }
          ],
          "barpolar": [
           {
            "marker": {
             "line": {
              "color": "rgb(17,17,17)",
              "width": 0.5
             },
             "pattern": {
              "fillmode": "overlay",
              "size": 10,
              "solidity": 0.2
             }
            },
            "type": "barpolar"
           }
          ],
          "carpet": [
           {
            "aaxis": {
             "endlinecolor": "#A2B1C6",
             "gridcolor": "#506784",
             "linecolor": "#506784",
             "minorgridcolor": "#506784",
             "startlinecolor": "#A2B1C6"
            },
            "baxis": {
             "endlinecolor": "#A2B1C6",
             "gridcolor": "#506784",
             "linecolor": "#506784",
             "minorgridcolor": "#506784",
             "startlinecolor": "#A2B1C6"
            },
            "type": "carpet"
           }
          ],
          "choropleth": [
           {
            "colorbar": {
             "outlinewidth": 0,
             "ticks": ""
            },
            "type": "choropleth"
           }
          ],
          "contour": [
           {
            "colorbar": {
             "outlinewidth": 0,
             "ticks": ""
            },
            "colorscale": [
             [
              0,
              "#0d0887"
             ],
             [
              0.1111111111111111,
              "#46039f"
             ],
             [
              0.2222222222222222,
              "#7201a8"
             ],
             [
              0.3333333333333333,
              "#9c179e"
             ],
             [
              0.4444444444444444,
              "#bd3786"
             ],
             [
              0.5555555555555556,
              "#d8576b"
             ],
             [
              0.6666666666666666,
              "#ed7953"
             ],
             [
              0.7777777777777778,
              "#fb9f3a"
             ],
             [
              0.8888888888888888,
              "#fdca26"
             ],
             [
              1,
              "#f0f921"
             ]
            ],
            "type": "contour"
           }
          ],
          "contourcarpet": [
           {
            "colorbar": {
             "outlinewidth": 0,
             "ticks": ""
            },
            "type": "contourcarpet"
           }
          ],
          "heatmap": [
           {
            "colorbar": {
             "outlinewidth": 0,
             "ticks": ""
            },
            "colorscale": [
             [
              0,
              "#0d0887"
             ],
             [
              0.1111111111111111,
              "#46039f"
             ],
             [
              0.2222222222222222,
              "#7201a8"
             ],
             [
              0.3333333333333333,
              "#9c179e"
             ],
             [
              0.4444444444444444,
              "#bd3786"
             ],
             [
              0.5555555555555556,
              "#d8576b"
             ],
             [
              0.6666666666666666,
              "#ed7953"
             ],
             [
              0.7777777777777778,
              "#fb9f3a"
             ],
             [
              0.8888888888888888,
              "#fdca26"
             ],
             [
              1,
              "#f0f921"
             ]
            ],
            "type": "heatmap"
           }
          ],
          "heatmapgl": [
           {
            "colorbar": {
             "outlinewidth": 0,
             "ticks": ""
            },
            "colorscale": [
             [
              0,
              "#0d0887"
             ],
             [
              0.1111111111111111,
              "#46039f"
             ],
             [
              0.2222222222222222,
              "#7201a8"
             ],
             [
              0.3333333333333333,
              "#9c179e"
             ],
             [
              0.4444444444444444,
              "#bd3786"
             ],
             [
              0.5555555555555556,
              "#d8576b"
             ],
             [
              0.6666666666666666,
              "#ed7953"
             ],
             [
              0.7777777777777778,
              "#fb9f3a"
             ],
             [
              0.8888888888888888,
              "#fdca26"
             ],
             [
              1,
              "#f0f921"
             ]
            ],
            "type": "heatmapgl"
           }
          ],
          "histogram": [
           {
            "marker": {
             "pattern": {
              "fillmode": "overlay",
              "size": 10,
              "solidity": 0.2
             }
            },
            "type": "histogram"
           }
          ],
          "histogram2d": [
           {
            "colorbar": {
             "outlinewidth": 0,
             "ticks": ""
            },
            "colorscale": [
             [
              0,
              "#0d0887"
             ],
             [
              0.1111111111111111,
              "#46039f"
             ],
             [
              0.2222222222222222,
              "#7201a8"
             ],
             [
              0.3333333333333333,
              "#9c179e"
             ],
             [
              0.4444444444444444,
              "#bd3786"
             ],
             [
              0.5555555555555556,
              "#d8576b"
             ],
             [
              0.6666666666666666,
              "#ed7953"
             ],
             [
              0.7777777777777778,
              "#fb9f3a"
             ],
             [
              0.8888888888888888,
              "#fdca26"
             ],
             [
              1,
              "#f0f921"
             ]
            ],
            "type": "histogram2d"
           }
          ],
          "histogram2dcontour": [
           {
            "colorbar": {
             "outlinewidth": 0,
             "ticks": ""
            },
            "colorscale": [
             [
              0,
              "#0d0887"
             ],
             [
              0.1111111111111111,
              "#46039f"
             ],
             [
              0.2222222222222222,
              "#7201a8"
             ],
             [
              0.3333333333333333,
              "#9c179e"
             ],
             [
              0.4444444444444444,
              "#bd3786"
             ],
             [
              0.5555555555555556,
              "#d8576b"
             ],
             [
              0.6666666666666666,
              "#ed7953"
             ],
             [
              0.7777777777777778,
              "#fb9f3a"
             ],
             [
              0.8888888888888888,
              "#fdca26"
             ],
             [
              1,
              "#f0f921"
             ]
            ],
            "type": "histogram2dcontour"
           }
          ],
          "mesh3d": [
           {
            "colorbar": {
             "outlinewidth": 0,
             "ticks": ""
            },
            "type": "mesh3d"
           }
          ],
          "parcoords": [
           {
            "line": {
             "colorbar": {
              "outlinewidth": 0,
              "ticks": ""
             }
            },
            "type": "parcoords"
           }
          ],
          "pie": [
           {
            "automargin": true,
            "type": "pie"
           }
          ],
          "scatter": [
           {
            "marker": {
             "line": {
              "color": "#283442"
             }
            },
            "type": "scatter"
           }
          ],
          "scatter3d": [
           {
            "line": {
             "colorbar": {
              "outlinewidth": 0,
              "ticks": ""
             }
            },
            "marker": {
             "colorbar": {
              "outlinewidth": 0,
              "ticks": ""
             }
            },
            "type": "scatter3d"
           }
          ],
          "scattercarpet": [
           {
            "marker": {
             "colorbar": {
              "outlinewidth": 0,
              "ticks": ""
             }
            },
            "type": "scattercarpet"
           }
          ],
          "scattergeo": [
           {
            "marker": {
             "colorbar": {
              "outlinewidth": 0,
              "ticks": ""
             }
            },
            "type": "scattergeo"
           }
          ],
          "scattergl": [
           {
            "marker": {
             "line": {
              "color": "#283442"
             }
            },
            "type": "scattergl"
           }
          ],
          "scattermapbox": [
           {
            "marker": {
             "colorbar": {
              "outlinewidth": 0,
              "ticks": ""
             }
            },
            "type": "scattermapbox"
           }
          ],
          "scatterpolar": [
           {
            "marker": {
             "colorbar": {
              "outlinewidth": 0,
              "ticks": ""
             }
            },
            "type": "scatterpolar"
           }
          ],
          "scatterpolargl": [
           {
            "marker": {
             "colorbar": {
              "outlinewidth": 0,
              "ticks": ""
             }
            },
            "type": "scatterpolargl"
           }
          ],
          "scatterternary": [
           {
            "marker": {
             "colorbar": {
              "outlinewidth": 0,
              "ticks": ""
             }
            },
            "type": "scatterternary"
           }
          ],
          "surface": [
           {
            "colorbar": {
             "outlinewidth": 0,
             "ticks": ""
            },
            "colorscale": [
             [
              0,
              "#0d0887"
             ],
             [
              0.1111111111111111,
              "#46039f"
             ],
             [
              0.2222222222222222,
              "#7201a8"
             ],
             [
              0.3333333333333333,
              "#9c179e"
             ],
             [
              0.4444444444444444,
              "#bd3786"
             ],
             [
              0.5555555555555556,
              "#d8576b"
             ],
             [
              0.6666666666666666,
              "#ed7953"
             ],
             [
              0.7777777777777778,
              "#fb9f3a"
             ],
             [
              0.8888888888888888,
              "#fdca26"
             ],
             [
              1,
              "#f0f921"
             ]
            ],
            "type": "surface"
           }
          ],
          "table": [
           {
            "cells": {
             "fill": {
              "color": "#506784"
             },
             "line": {
              "color": "rgb(17,17,17)"
             }
            },
            "header": {
             "fill": {
              "color": "#2a3f5f"
             },
             "line": {
              "color": "rgb(17,17,17)"
             }
            },
            "type": "table"
           }
          ]
         },
         "layout": {
          "annotationdefaults": {
           "arrowcolor": "#f2f5fa",
           "arrowhead": 0,
           "arrowwidth": 1
          },
          "autotypenumbers": "strict",
          "coloraxis": {
           "colorbar": {
            "outlinewidth": 0,
            "ticks": ""
           }
          },
          "colorscale": {
           "diverging": [
            [
             0,
             "#8e0152"
            ],
            [
             0.1,
             "#c51b7d"
            ],
            [
             0.2,
             "#de77ae"
            ],
            [
             0.3,
             "#f1b6da"
            ],
            [
             0.4,
             "#fde0ef"
            ],
            [
             0.5,
             "#f7f7f7"
            ],
            [
             0.6,
             "#e6f5d0"
            ],
            [
             0.7,
             "#b8e186"
            ],
            [
             0.8,
             "#7fbc41"
            ],
            [
             0.9,
             "#4d9221"
            ],
            [
             1,
             "#276419"
            ]
           ],
           "sequential": [
            [
             0,
             "#0d0887"
            ],
            [
             0.1111111111111111,
             "#46039f"
            ],
            [
             0.2222222222222222,
             "#7201a8"
            ],
            [
             0.3333333333333333,
             "#9c179e"
            ],
            [
             0.4444444444444444,
             "#bd3786"
            ],
            [
             0.5555555555555556,
             "#d8576b"
            ],
            [
             0.6666666666666666,
             "#ed7953"
            ],
            [
             0.7777777777777778,
             "#fb9f3a"
            ],
            [
             0.8888888888888888,
             "#fdca26"
            ],
            [
             1,
             "#f0f921"
            ]
           ],
           "sequentialminus": [
            [
             0,
             "#0d0887"
            ],
            [
             0.1111111111111111,
             "#46039f"
            ],
            [
             0.2222222222222222,
             "#7201a8"
            ],
            [
             0.3333333333333333,
             "#9c179e"
            ],
            [
             0.4444444444444444,
             "#bd3786"
            ],
            [
             0.5555555555555556,
             "#d8576b"
            ],
            [
             0.6666666666666666,
             "#ed7953"
            ],
            [
             0.7777777777777778,
             "#fb9f3a"
            ],
            [
             0.8888888888888888,
             "#fdca26"
            ],
            [
             1,
             "#f0f921"
            ]
           ]
          },
          "colorway": [
           "#636efa",
           "#EF553B",
           "#00cc96",
           "#ab63fa",
           "#FFA15A",
           "#19d3f3",
           "#FF6692",
           "#B6E880",
           "#FF97FF",
           "#FECB52"
          ],
          "font": {
           "color": "#f2f5fa"
          },
          "geo": {
           "bgcolor": "rgb(17,17,17)",
           "lakecolor": "rgb(17,17,17)",
           "landcolor": "rgb(17,17,17)",
           "showlakes": true,
           "showland": true,
           "subunitcolor": "#506784"
          },
          "hoverlabel": {
           "align": "left"
          },
          "hovermode": "closest",
          "mapbox": {
           "style": "dark"
          },
          "paper_bgcolor": "rgb(17,17,17)",
          "plot_bgcolor": "rgb(17,17,17)",
          "polar": {
           "angularaxis": {
            "gridcolor": "#506784",
            "linecolor": "#506784",
            "ticks": ""
           },
           "bgcolor": "rgb(17,17,17)",
           "radialaxis": {
            "gridcolor": "#506784",
            "linecolor": "#506784",
            "ticks": ""
           }
          },
          "scene": {
           "xaxis": {
            "backgroundcolor": "rgb(17,17,17)",
            "gridcolor": "#506784",
            "gridwidth": 2,
            "linecolor": "#506784",
            "showbackground": true,
            "ticks": "",
            "zerolinecolor": "#C8D4E3"
           },
           "yaxis": {
            "backgroundcolor": "rgb(17,17,17)",
            "gridcolor": "#506784",
            "gridwidth": 2,
            "linecolor": "#506784",
            "showbackground": true,
            "ticks": "",
            "zerolinecolor": "#C8D4E3"
           },
           "zaxis": {
            "backgroundcolor": "rgb(17,17,17)",
            "gridcolor": "#506784",
            "gridwidth": 2,
            "linecolor": "#506784",
            "showbackground": true,
            "ticks": "",
            "zerolinecolor": "#C8D4E3"
           }
          },
          "shapedefaults": {
           "line": {
            "color": "#f2f5fa"
           }
          },
          "sliderdefaults": {
           "bgcolor": "#C8D4E3",
           "bordercolor": "rgb(17,17,17)",
           "borderwidth": 1,
           "tickwidth": 0
          },
          "ternary": {
           "aaxis": {
            "gridcolor": "#506784",
            "linecolor": "#506784",
            "ticks": ""
           },
           "baxis": {
            "gridcolor": "#506784",
            "linecolor": "#506784",
            "ticks": ""
           },
           "bgcolor": "rgb(17,17,17)",
           "caxis": {
            "gridcolor": "#506784",
            "linecolor": "#506784",
            "ticks": ""
           }
          },
          "title": {
           "x": 0.05
          },
          "updatemenudefaults": {
           "bgcolor": "#506784",
           "borderwidth": 0
          },
          "xaxis": {
           "automargin": true,
           "gridcolor": "#283442",
           "linecolor": "#506784",
           "ticks": "",
           "title": {
            "standoff": 15
           },
           "zerolinecolor": "#283442",
           "zerolinewidth": 2
          },
          "yaxis": {
           "automargin": true,
           "gridcolor": "#283442",
           "linecolor": "#506784",
           "ticks": "",
           "title": {
            "standoff": 15
           },
           "zerolinecolor": "#283442",
           "zerolinewidth": 2
          }
         }
        },
        "title": {
         "text": "Sales Over Time"
        },
        "width": 700,
        "xaxis": {
         "title": {
          "text": "Date"
         }
        },
        "yaxis": {
         "title": {
          "text": "Sales"
         }
        }
       }
      }
     },
     "metadata": {},
     "output_type": "display_data"
    }
   ],
   "source": [
    "\n",
    "\n",
    "daily_sales_chart = go.Figure()\n",
    "\n",
    "daily_sales_chart.add_trace(\n",
    "    go.Scatter(\n",
    "        x=dailySales[\"order_date\"],\n",
    "        y=dailySales[\"sales\"],\n",
    "        mode=\"lines\",\n",
    "        name=\"Sales Over Time\",\n",
    "    )\n",
    ")\n",
    "\n",
    "daily_sales_chart.update_layout(\n",
    "    title=\"Sales Over Time\",\n",
    "    xaxis_title=\"Date\",\n",
    "    yaxis_title=\"Sales\",\n",
    "    width=700,\n",
    "    height=300,\n",
    "    template=\"plotly_dark\",\n",
    ")\n",
    "\n",
    "daily_sales_chart.update_layout({'plot_bgcolor': 'rgba(0, 0, 0, 0)','paper_bgcolor': 'rgba(0, 0, 0, 0)',})\n",
    "\n",
    "daily_sales_chart.show()\n"
   ]
  },
  {
   "cell_type": "code",
   "execution_count": 52,
   "metadata": {},
   "outputs": [],
   "source": [
    "def daily_sales(dataframe, region):\n",
    "    dataframe['order_date'] = pd.to_datetime(dataframe['order_date'])\n",
    "    dataframe = dataframe.set_index('order_date')\n",
    "\n",
    "    if region != \"All Regions\":\n",
    "        dataframe = dataframe[dataframe[\"order_region\"] == region]\n",
    "\n",
    "    daily_sales = dataframe.resample('D')['sales'].sum().reset_index()\n",
    "\n",
    "    daily_sales[\"sales\"] = round(daily_sales[\"sales\"], 2)\n",
    "    daily_sales[\"order_date\"] = daily_sales[\"order_date\"].dt.strftime(\"%Y-%m-%d\")\n",
    "\n",
    "    fig = go.Figure()\n",
    "\n",
    "    fig.add_trace(\n",
    "        go.Scatter(\n",
    "            x=daily_sales[\"order_date\"],\n",
    "            y=daily_sales[\"sales\"],\n",
    "            mode=\"lines\",\n",
    "            hovertemplate='<b>Date:</b> %{x}<br><b>Sales:</b> $%{y:.2f}<extra></extra>',\n",
    "        )\n",
    "    )\n",
    "\n",
    "    fig.update_layout(\n",
    "        title=f\"<b>{region} Sales Over Time</b>\",\n",
    "        xaxis_title=\"\",\n",
    "        yaxis_title=\"Sales\",\n",
    "        width=600,\n",
    "        height=300,\n",
    "        template=\"plotly_dark\",\n",
    "        title_font_size=13\n",
    "    )\n",
    "\n",
    "    fig.update_layout({'plot_bgcolor': 'rgba(0, 0, 0, 0)','paper_bgcolor': 'rgba(0, 0, 0, 0)',})\n",
    "\n",
    "    return fig"
   ]
  },
  {
   "cell_type": "code",
   "execution_count": 53,
   "metadata": {},
   "outputs": [
    {
     "data": {
      "application/vnd.plotly.v1+json": {
       "config": {
        "plotlyServerURL": "https://plot.ly"
       },
       "data": [
        {
         "hovertemplate": "<b>Date:</b> %{x}<br><b>Sales:</b> $%{y:.2f}<extra></extra>",
         "mode": "lines",
         "type": "scatter",
         "x": [
          "2017-01-01",
          "2017-01-02",
          "2017-01-03",
          "2017-01-04",
          "2017-01-05",
          "2017-01-06",
          "2017-01-07",
          "2017-01-08",
          "2017-01-09",
          "2017-01-10",
          "2017-01-11",
          "2017-01-12",
          "2017-01-13",
          "2017-01-14",
          "2017-01-15",
          "2017-01-16",
          "2017-01-17",
          "2017-01-18",
          "2017-01-19",
          "2017-01-20",
          "2017-01-21",
          "2017-01-22",
          "2017-01-23",
          "2017-01-24",
          "2017-01-25",
          "2017-01-26",
          "2017-01-27",
          "2017-01-28",
          "2017-01-29",
          "2017-01-30",
          "2017-01-31",
          "2017-02-01",
          "2017-02-02",
          "2017-02-03",
          "2017-02-04",
          "2017-02-05",
          "2017-02-06",
          "2017-02-07",
          "2017-02-08",
          "2017-02-09",
          "2017-02-10",
          "2017-02-11",
          "2017-02-12",
          "2017-02-13",
          "2017-02-14",
          "2017-02-15",
          "2017-02-16",
          "2017-02-17",
          "2017-02-18",
          "2017-02-19",
          "2017-02-20",
          "2017-02-21",
          "2017-02-22",
          "2017-02-23",
          "2017-02-24",
          "2017-02-25",
          "2017-02-26",
          "2017-02-27",
          "2017-02-28",
          "2017-03-01",
          "2017-03-02",
          "2017-03-03",
          "2017-03-04",
          "2017-03-05",
          "2017-03-06",
          "2017-03-07",
          "2017-03-08",
          "2017-03-09",
          "2017-03-10",
          "2017-03-11",
          "2017-03-12",
          "2017-03-13",
          "2017-03-14",
          "2017-03-15",
          "2017-03-16",
          "2017-03-17",
          "2017-03-18",
          "2017-03-19",
          "2017-03-20",
          "2017-03-21",
          "2017-03-22",
          "2017-03-23",
          "2017-03-24",
          "2017-03-25",
          "2017-03-26",
          "2017-03-27",
          "2017-03-28",
          "2017-03-29",
          "2017-03-30",
          "2017-03-31",
          "2017-04-01",
          "2017-04-02",
          "2017-04-03",
          "2017-04-04",
          "2017-04-05",
          "2017-04-06",
          "2017-04-07",
          "2017-04-08",
          "2017-04-09",
          "2017-04-10",
          "2017-04-11",
          "2017-04-12",
          "2017-04-13",
          "2017-04-14",
          "2017-04-15",
          "2017-04-16",
          "2017-04-17",
          "2017-04-18",
          "2017-04-19",
          "2017-04-20",
          "2017-04-21",
          "2017-04-22",
          "2017-04-23",
          "2017-04-24",
          "2017-04-25",
          "2017-04-26",
          "2017-04-27",
          "2017-04-28",
          "2017-04-29",
          "2017-04-30",
          "2017-05-01",
          "2017-05-02",
          "2017-05-03",
          "2017-05-04",
          "2017-05-05",
          "2017-05-06",
          "2017-05-07",
          "2017-05-08",
          "2017-05-09",
          "2017-05-10",
          "2017-05-11",
          "2017-05-12",
          "2017-05-13",
          "2017-05-14",
          "2017-05-15",
          "2017-05-16",
          "2017-05-17",
          "2017-05-18",
          "2017-05-19",
          "2017-05-20",
          "2017-05-21",
          "2017-05-22",
          "2017-05-23",
          "2017-05-24",
          "2017-05-25",
          "2017-05-26",
          "2017-05-27",
          "2017-05-28",
          "2017-05-29",
          "2017-05-30",
          "2017-05-31",
          "2017-06-01",
          "2017-06-02",
          "2017-06-03",
          "2017-06-04",
          "2017-06-05",
          "2017-06-06",
          "2017-06-07",
          "2017-06-08",
          "2017-06-09",
          "2017-06-10",
          "2017-06-11",
          "2017-06-12",
          "2017-06-13",
          "2017-06-14",
          "2017-06-15",
          "2017-06-16",
          "2017-06-17",
          "2017-06-18",
          "2017-06-19",
          "2017-06-20",
          "2017-06-21",
          "2017-06-22",
          "2017-06-23",
          "2017-06-24",
          "2017-06-25",
          "2017-06-26",
          "2017-06-27",
          "2017-06-28",
          "2017-06-29",
          "2017-06-30",
          "2017-07-01",
          "2017-07-02",
          "2017-07-03",
          "2017-07-04",
          "2017-07-05",
          "2017-07-06",
          "2017-07-07",
          "2017-07-08",
          "2017-07-09",
          "2017-07-10",
          "2017-07-11",
          "2017-07-12",
          "2017-07-13",
          "2017-07-14",
          "2017-07-15",
          "2017-07-16",
          "2017-07-17",
          "2017-07-18",
          "2017-07-19",
          "2017-07-20",
          "2017-07-21",
          "2017-07-22",
          "2017-07-23",
          "2017-07-24",
          "2017-07-25",
          "2017-07-26",
          "2017-07-27",
          "2017-07-28",
          "2017-07-29",
          "2017-07-30",
          "2017-07-31",
          "2017-08-01",
          "2017-08-02",
          "2017-08-03",
          "2017-08-04",
          "2017-08-05",
          "2017-08-06",
          "2017-08-07",
          "2017-08-08",
          "2017-08-09",
          "2017-08-10",
          "2017-08-11",
          "2017-08-12",
          "2017-08-13",
          "2017-08-14",
          "2017-08-15",
          "2017-08-16",
          "2017-08-17",
          "2017-08-18",
          "2017-08-19",
          "2017-08-20",
          "2017-08-21",
          "2017-08-22",
          "2017-08-23",
          "2017-08-24",
          "2017-08-25",
          "2017-08-26",
          "2017-08-27",
          "2017-08-28",
          "2017-08-29",
          "2017-08-30",
          "2017-08-31",
          "2017-09-01",
          "2017-09-02",
          "2017-09-03",
          "2017-09-04",
          "2017-09-05",
          "2017-09-06",
          "2017-09-07",
          "2017-09-08",
          "2017-09-09",
          "2017-09-10",
          "2017-09-11",
          "2017-09-12",
          "2017-09-13",
          "2017-09-14",
          "2017-09-15",
          "2017-09-16",
          "2017-09-17",
          "2017-09-18",
          "2017-09-19",
          "2017-09-20",
          "2017-09-21",
          "2017-09-22",
          "2017-09-23",
          "2017-09-24",
          "2017-09-25",
          "2017-09-26",
          "2017-09-27",
          "2017-09-28",
          "2017-09-29",
          "2017-09-30",
          "2017-10-01",
          "2017-10-02",
          "2017-10-03",
          "2017-10-04",
          "2017-10-05",
          "2017-10-06",
          "2017-10-07",
          "2017-10-08",
          "2017-10-09",
          "2017-10-10",
          "2017-10-11",
          "2017-10-12",
          "2017-10-13",
          "2017-10-14",
          "2017-10-15",
          "2017-10-16",
          "2017-10-17",
          "2017-10-18",
          "2017-10-19",
          "2017-10-20",
          "2017-10-21",
          "2017-10-22",
          "2017-10-23",
          "2017-10-24",
          "2017-10-25",
          "2017-10-26",
          "2017-10-27",
          "2017-10-28",
          "2017-10-29",
          "2017-10-30",
          "2017-10-31",
          "2017-11-01",
          "2017-11-02",
          "2017-11-03",
          "2017-11-04",
          "2017-11-05",
          "2017-11-06",
          "2017-11-07",
          "2017-11-08",
          "2017-11-09",
          "2017-11-10",
          "2017-11-11",
          "2017-11-12",
          "2017-11-13",
          "2017-11-14",
          "2017-11-15",
          "2017-11-16",
          "2017-11-17",
          "2017-11-18",
          "2017-11-19",
          "2017-11-20",
          "2017-11-21",
          "2017-11-22",
          "2017-11-23",
          "2017-11-24",
          "2017-11-25",
          "2017-11-26",
          "2017-11-27",
          "2017-11-28",
          "2017-11-29",
          "2017-11-30",
          "2017-12-01",
          "2017-12-02",
          "2017-12-03",
          "2017-12-04",
          "2017-12-05",
          "2017-12-06",
          "2017-12-07",
          "2017-12-08",
          "2017-12-09",
          "2017-12-10",
          "2017-12-11",
          "2017-12-12",
          "2017-12-13",
          "2017-12-14",
          "2017-12-15",
          "2017-12-16",
          "2017-12-17",
          "2017-12-18",
          "2017-12-19",
          "2017-12-20",
          "2017-12-21",
          "2017-12-22",
          "2017-12-23",
          "2017-12-24",
          "2017-12-25",
          "2017-12-26",
          "2017-12-27",
          "2017-12-28",
          "2017-12-29",
          "2017-12-30",
          "2017-12-31"
         ],
         "y": [
          28731.02,
          32525.47,
          26031.49,
          31880.52,
          29828.56,
          31628.31,
          34446.18,
          37267.6,
          31101.88,
          34261.12,
          30892.15,
          34239.69,
          31971.05,
          31573.08,
          30384.96,
          32058.29,
          31333.18,
          37776.61,
          30680.51,
          37507.01,
          31441.55,
          31320.53,
          30245.43,
          30753.98,
          30645.3,
          32012.89,
          32251.96,
          32165.81,
          32526.39,
          30128.43,
          32808.01,
          36388.71,
          38212.94,
          37771.48,
          33416,
          34939.85,
          38126.22,
          35058.4,
          35478.91,
          32250.83,
          36042.73,
          29925.72,
          27608.21,
          31329.04,
          25052.07,
          34421.54,
          31331.54,
          33408.97,
          39831.86,
          32967.11,
          36535.76,
          36007.9,
          33761.96,
          31122.42,
          33479.81,
          35839.84,
          33207.35,
          31811.52,
          32713.12,
          30720.76,
          32747.67,
          35920.08,
          31131.47,
          32225.27,
          29070.31,
          35560.81,
          29998.71,
          34754.36,
          36946.8,
          29436.03,
          30771.35,
          32317.66,
          30649.4,
          30858.12,
          37608.67,
          30702.06,
          32994.96,
          36236.74,
          33326.13,
          28734.3,
          32656.08,
          32844.88,
          28619.92,
          35625.04,
          29688.16,
          25072.33,
          32265.09,
          39602.36,
          35020.81,
          33788.01,
          33176.24,
          32738.24,
          34550.06,
          31237.18,
          28651.81,
          27154.89,
          34123.29,
          32766.57,
          36051.94,
          27512.78,
          32245.75,
          36269.97,
          30023.71,
          33120.11,
          33819.8,
          28947.58,
          35221.22,
          34173.38,
          34941.83,
          27162.77,
          32366.01,
          35128.61,
          38913.75,
          32740.47,
          34450.74,
          34452.43,
          35274.29,
          34598.11,
          33334.14,
          36385.51,
          37821.48,
          40950.97,
          27535.8,
          31019.34,
          38378.28,
          33822.17,
          35635.82,
          33240.39,
          33972.79,
          33300.4,
          30113.75,
          33530.73,
          34275.18,
          35085.69,
          39393.89,
          33949.12,
          29258.88,
          33351.67,
          32719.31,
          28661.95,
          28375.15,
          38595.07,
          30256.51,
          33216.38,
          38783.58,
          33964.79,
          36239.09,
          25456.37,
          33590.07,
          40781.43,
          31764.88,
          41760.27,
          34455.78,
          33506.58,
          30377.62,
          30688.74,
          31057.63,
          32267.68,
          30657.68,
          31070.12,
          29299.64,
          36948.63,
          33235.35,
          40662.98,
          37010.87,
          24047.48,
          31750.02,
          30769.61,
          25730.28,
          27047.28,
          32349.07,
          36291.01,
          35788.25,
          37640.04,
          32851.76,
          38131.31,
          34361.74,
          36470.48,
          29068.01,
          30257.38,
          30214.98,
          35139.45,
          40675.36,
          35351.54,
          33435.24,
          36324.89,
          35228.81,
          38126.34,
          28614.48,
          31374.55,
          28934.21,
          36874.62,
          31235.67,
          33774.15,
          30629.57,
          36608.37,
          31069.62,
          33598.32,
          34388.87,
          33618.41,
          35275.05,
          34162.62,
          36815.83,
          37777.68,
          34115.51,
          33274.15,
          28789.82,
          29419.55,
          34974.3,
          34076.49,
          30679.98,
          33011.95,
          37620.14,
          32515.48,
          31735.68,
          36534.5,
          35691.39,
          30868.63,
          30415.88,
          34216.61,
          33399.11,
          39740.96,
          37680.02,
          32175.61,
          35457.99,
          36323.41,
          31299.42,
          30664.65,
          40060.17,
          32193.48,
          30934.62,
          33658.47,
          41921.78,
          35194.51,
          37125.9,
          37704.87,
          27576.3,
          40748.27,
          32315.75,
          31274.7,
          33368.06,
          35234.07,
          32034.43,
          33911.53,
          31123.11,
          36078.69,
          30486.8,
          38046.95,
          33996.59,
          29106.23,
          31648.84,
          33569.42,
          35314.61,
          42926.1,
          42026.2,
          35336.94,
          35566.26,
          33746.65,
          35456.56,
          37296.47,
          33186.8,
          35396.47,
          37706.13,
          40126.41,
          36046.51,
          38566.25,
          39226.28,
          37366.44,
          38866.35,
          27877.26,
          39476.35,
          41277.06,
          47516.09,
          46686.57,
          25834.23,
          2051.28,
          2082.36,
          2113.44,
          2113.44,
          3871.28,
          1473.28,
          756.43,
          24082.31,
          29382.6,
          29834.64,
          29834.64,
          30286.68,
          30286.68,
          27574.44,
          29834.64,
          25725.26,
          22854.4,
          23925.7,
          23925.7,
          23211.5,
          23211.5,
          22854.4,
          22854.4,
          83785.2,
          100500,
          97500,
          99000,
          102000,
          40385.36,
          16437.2,
          15931.44,
          16942.96,
          23738.2,
          29996.2,
          29534.72,
          26595.38,
          9862.8,
          11013.46,
          10684.7,
          10849.08,
          10684.7,
          31264.46,
          34085.12,
          34617.7,
          35150.28,
          36215.44,
          32461.84,
          19047.6,
          19047.6,
          19926.72,
          15642.09,
          13705.25,
          13793.2,
          17202.9,
          16681.6,
          17984.85,
          17463.55,
          6910.9,
          5317.2,
          5823.6,
          9622.95,
          21303.75,
          18141.65,
          773.18,
          761.64,
          761.64,
          1533.57,
          2703,
          2504.25,
          4247.88,
          14028.3,
          14891.58,
          14459.94,
          12643.62,
          1926.96,
          3242.96,
          3840.2,
          1020.59,
          767.72,
          23821.92,
          22497.3,
          79570.7,
          63827.76,
          16184.32,
          19939.12,
          30457.68,
          29534.72,
          30919.16,
          18244.92,
          10849.08
         ]
        }
       ],
       "layout": {
        "height": 300,
        "paper_bgcolor": "rgba(0, 0, 0, 0)",
        "plot_bgcolor": "rgba(0, 0, 0, 0)",
        "template": {
         "data": {
          "bar": [
           {
            "error_x": {
             "color": "#f2f5fa"
            },
            "error_y": {
             "color": "#f2f5fa"
            },
            "marker": {
             "line": {
              "color": "rgb(17,17,17)",
              "width": 0.5
             },
             "pattern": {
              "fillmode": "overlay",
              "size": 10,
              "solidity": 0.2
             }
            },
            "type": "bar"
           }
          ],
          "barpolar": [
           {
            "marker": {
             "line": {
              "color": "rgb(17,17,17)",
              "width": 0.5
             },
             "pattern": {
              "fillmode": "overlay",
              "size": 10,
              "solidity": 0.2
             }
            },
            "type": "barpolar"
           }
          ],
          "carpet": [
           {
            "aaxis": {
             "endlinecolor": "#A2B1C6",
             "gridcolor": "#506784",
             "linecolor": "#506784",
             "minorgridcolor": "#506784",
             "startlinecolor": "#A2B1C6"
            },
            "baxis": {
             "endlinecolor": "#A2B1C6",
             "gridcolor": "#506784",
             "linecolor": "#506784",
             "minorgridcolor": "#506784",
             "startlinecolor": "#A2B1C6"
            },
            "type": "carpet"
           }
          ],
          "choropleth": [
           {
            "colorbar": {
             "outlinewidth": 0,
             "ticks": ""
            },
            "type": "choropleth"
           }
          ],
          "contour": [
           {
            "colorbar": {
             "outlinewidth": 0,
             "ticks": ""
            },
            "colorscale": [
             [
              0,
              "#0d0887"
             ],
             [
              0.1111111111111111,
              "#46039f"
             ],
             [
              0.2222222222222222,
              "#7201a8"
             ],
             [
              0.3333333333333333,
              "#9c179e"
             ],
             [
              0.4444444444444444,
              "#bd3786"
             ],
             [
              0.5555555555555556,
              "#d8576b"
             ],
             [
              0.6666666666666666,
              "#ed7953"
             ],
             [
              0.7777777777777778,
              "#fb9f3a"
             ],
             [
              0.8888888888888888,
              "#fdca26"
             ],
             [
              1,
              "#f0f921"
             ]
            ],
            "type": "contour"
           }
          ],
          "contourcarpet": [
           {
            "colorbar": {
             "outlinewidth": 0,
             "ticks": ""
            },
            "type": "contourcarpet"
           }
          ],
          "heatmap": [
           {
            "colorbar": {
             "outlinewidth": 0,
             "ticks": ""
            },
            "colorscale": [
             [
              0,
              "#0d0887"
             ],
             [
              0.1111111111111111,
              "#46039f"
             ],
             [
              0.2222222222222222,
              "#7201a8"
             ],
             [
              0.3333333333333333,
              "#9c179e"
             ],
             [
              0.4444444444444444,
              "#bd3786"
             ],
             [
              0.5555555555555556,
              "#d8576b"
             ],
             [
              0.6666666666666666,
              "#ed7953"
             ],
             [
              0.7777777777777778,
              "#fb9f3a"
             ],
             [
              0.8888888888888888,
              "#fdca26"
             ],
             [
              1,
              "#f0f921"
             ]
            ],
            "type": "heatmap"
           }
          ],
          "heatmapgl": [
           {
            "colorbar": {
             "outlinewidth": 0,
             "ticks": ""
            },
            "colorscale": [
             [
              0,
              "#0d0887"
             ],
             [
              0.1111111111111111,
              "#46039f"
             ],
             [
              0.2222222222222222,
              "#7201a8"
             ],
             [
              0.3333333333333333,
              "#9c179e"
             ],
             [
              0.4444444444444444,
              "#bd3786"
             ],
             [
              0.5555555555555556,
              "#d8576b"
             ],
             [
              0.6666666666666666,
              "#ed7953"
             ],
             [
              0.7777777777777778,
              "#fb9f3a"
             ],
             [
              0.8888888888888888,
              "#fdca26"
             ],
             [
              1,
              "#f0f921"
             ]
            ],
            "type": "heatmapgl"
           }
          ],
          "histogram": [
           {
            "marker": {
             "pattern": {
              "fillmode": "overlay",
              "size": 10,
              "solidity": 0.2
             }
            },
            "type": "histogram"
           }
          ],
          "histogram2d": [
           {
            "colorbar": {
             "outlinewidth": 0,
             "ticks": ""
            },
            "colorscale": [
             [
              0,
              "#0d0887"
             ],
             [
              0.1111111111111111,
              "#46039f"
             ],
             [
              0.2222222222222222,
              "#7201a8"
             ],
             [
              0.3333333333333333,
              "#9c179e"
             ],
             [
              0.4444444444444444,
              "#bd3786"
             ],
             [
              0.5555555555555556,
              "#d8576b"
             ],
             [
              0.6666666666666666,
              "#ed7953"
             ],
             [
              0.7777777777777778,
              "#fb9f3a"
             ],
             [
              0.8888888888888888,
              "#fdca26"
             ],
             [
              1,
              "#f0f921"
             ]
            ],
            "type": "histogram2d"
           }
          ],
          "histogram2dcontour": [
           {
            "colorbar": {
             "outlinewidth": 0,
             "ticks": ""
            },
            "colorscale": [
             [
              0,
              "#0d0887"
             ],
             [
              0.1111111111111111,
              "#46039f"
             ],
             [
              0.2222222222222222,
              "#7201a8"
             ],
             [
              0.3333333333333333,
              "#9c179e"
             ],
             [
              0.4444444444444444,
              "#bd3786"
             ],
             [
              0.5555555555555556,
              "#d8576b"
             ],
             [
              0.6666666666666666,
              "#ed7953"
             ],
             [
              0.7777777777777778,
              "#fb9f3a"
             ],
             [
              0.8888888888888888,
              "#fdca26"
             ],
             [
              1,
              "#f0f921"
             ]
            ],
            "type": "histogram2dcontour"
           }
          ],
          "mesh3d": [
           {
            "colorbar": {
             "outlinewidth": 0,
             "ticks": ""
            },
            "type": "mesh3d"
           }
          ],
          "parcoords": [
           {
            "line": {
             "colorbar": {
              "outlinewidth": 0,
              "ticks": ""
             }
            },
            "type": "parcoords"
           }
          ],
          "pie": [
           {
            "automargin": true,
            "type": "pie"
           }
          ],
          "scatter": [
           {
            "marker": {
             "line": {
              "color": "#283442"
             }
            },
            "type": "scatter"
           }
          ],
          "scatter3d": [
           {
            "line": {
             "colorbar": {
              "outlinewidth": 0,
              "ticks": ""
             }
            },
            "marker": {
             "colorbar": {
              "outlinewidth": 0,
              "ticks": ""
             }
            },
            "type": "scatter3d"
           }
          ],
          "scattercarpet": [
           {
            "marker": {
             "colorbar": {
              "outlinewidth": 0,
              "ticks": ""
             }
            },
            "type": "scattercarpet"
           }
          ],
          "scattergeo": [
           {
            "marker": {
             "colorbar": {
              "outlinewidth": 0,
              "ticks": ""
             }
            },
            "type": "scattergeo"
           }
          ],
          "scattergl": [
           {
            "marker": {
             "line": {
              "color": "#283442"
             }
            },
            "type": "scattergl"
           }
          ],
          "scattermapbox": [
           {
            "marker": {
             "colorbar": {
              "outlinewidth": 0,
              "ticks": ""
             }
            },
            "type": "scattermapbox"
           }
          ],
          "scatterpolar": [
           {
            "marker": {
             "colorbar": {
              "outlinewidth": 0,
              "ticks": ""
             }
            },
            "type": "scatterpolar"
           }
          ],
          "scatterpolargl": [
           {
            "marker": {
             "colorbar": {
              "outlinewidth": 0,
              "ticks": ""
             }
            },
            "type": "scatterpolargl"
           }
          ],
          "scatterternary": [
           {
            "marker": {
             "colorbar": {
              "outlinewidth": 0,
              "ticks": ""
             }
            },
            "type": "scatterternary"
           }
          ],
          "surface": [
           {
            "colorbar": {
             "outlinewidth": 0,
             "ticks": ""
            },
            "colorscale": [
             [
              0,
              "#0d0887"
             ],
             [
              0.1111111111111111,
              "#46039f"
             ],
             [
              0.2222222222222222,
              "#7201a8"
             ],
             [
              0.3333333333333333,
              "#9c179e"
             ],
             [
              0.4444444444444444,
              "#bd3786"
             ],
             [
              0.5555555555555556,
              "#d8576b"
             ],
             [
              0.6666666666666666,
              "#ed7953"
             ],
             [
              0.7777777777777778,
              "#fb9f3a"
             ],
             [
              0.8888888888888888,
              "#fdca26"
             ],
             [
              1,
              "#f0f921"
             ]
            ],
            "type": "surface"
           }
          ],
          "table": [
           {
            "cells": {
             "fill": {
              "color": "#506784"
             },
             "line": {
              "color": "rgb(17,17,17)"
             }
            },
            "header": {
             "fill": {
              "color": "#2a3f5f"
             },
             "line": {
              "color": "rgb(17,17,17)"
             }
            },
            "type": "table"
           }
          ]
         },
         "layout": {
          "annotationdefaults": {
           "arrowcolor": "#f2f5fa",
           "arrowhead": 0,
           "arrowwidth": 1
          },
          "autotypenumbers": "strict",
          "coloraxis": {
           "colorbar": {
            "outlinewidth": 0,
            "ticks": ""
           }
          },
          "colorscale": {
           "diverging": [
            [
             0,
             "#8e0152"
            ],
            [
             0.1,
             "#c51b7d"
            ],
            [
             0.2,
             "#de77ae"
            ],
            [
             0.3,
             "#f1b6da"
            ],
            [
             0.4,
             "#fde0ef"
            ],
            [
             0.5,
             "#f7f7f7"
            ],
            [
             0.6,
             "#e6f5d0"
            ],
            [
             0.7,
             "#b8e186"
            ],
            [
             0.8,
             "#7fbc41"
            ],
            [
             0.9,
             "#4d9221"
            ],
            [
             1,
             "#276419"
            ]
           ],
           "sequential": [
            [
             0,
             "#0d0887"
            ],
            [
             0.1111111111111111,
             "#46039f"
            ],
            [
             0.2222222222222222,
             "#7201a8"
            ],
            [
             0.3333333333333333,
             "#9c179e"
            ],
            [
             0.4444444444444444,
             "#bd3786"
            ],
            [
             0.5555555555555556,
             "#d8576b"
            ],
            [
             0.6666666666666666,
             "#ed7953"
            ],
            [
             0.7777777777777778,
             "#fb9f3a"
            ],
            [
             0.8888888888888888,
             "#fdca26"
            ],
            [
             1,
             "#f0f921"
            ]
           ],
           "sequentialminus": [
            [
             0,
             "#0d0887"
            ],
            [
             0.1111111111111111,
             "#46039f"
            ],
            [
             0.2222222222222222,
             "#7201a8"
            ],
            [
             0.3333333333333333,
             "#9c179e"
            ],
            [
             0.4444444444444444,
             "#bd3786"
            ],
            [
             0.5555555555555556,
             "#d8576b"
            ],
            [
             0.6666666666666666,
             "#ed7953"
            ],
            [
             0.7777777777777778,
             "#fb9f3a"
            ],
            [
             0.8888888888888888,
             "#fdca26"
            ],
            [
             1,
             "#f0f921"
            ]
           ]
          },
          "colorway": [
           "#636efa",
           "#EF553B",
           "#00cc96",
           "#ab63fa",
           "#FFA15A",
           "#19d3f3",
           "#FF6692",
           "#B6E880",
           "#FF97FF",
           "#FECB52"
          ],
          "font": {
           "color": "#f2f5fa"
          },
          "geo": {
           "bgcolor": "rgb(17,17,17)",
           "lakecolor": "rgb(17,17,17)",
           "landcolor": "rgb(17,17,17)",
           "showlakes": true,
           "showland": true,
           "subunitcolor": "#506784"
          },
          "hoverlabel": {
           "align": "left"
          },
          "hovermode": "closest",
          "mapbox": {
           "style": "dark"
          },
          "paper_bgcolor": "rgb(17,17,17)",
          "plot_bgcolor": "rgb(17,17,17)",
          "polar": {
           "angularaxis": {
            "gridcolor": "#506784",
            "linecolor": "#506784",
            "ticks": ""
           },
           "bgcolor": "rgb(17,17,17)",
           "radialaxis": {
            "gridcolor": "#506784",
            "linecolor": "#506784",
            "ticks": ""
           }
          },
          "scene": {
           "xaxis": {
            "backgroundcolor": "rgb(17,17,17)",
            "gridcolor": "#506784",
            "gridwidth": 2,
            "linecolor": "#506784",
            "showbackground": true,
            "ticks": "",
            "zerolinecolor": "#C8D4E3"
           },
           "yaxis": {
            "backgroundcolor": "rgb(17,17,17)",
            "gridcolor": "#506784",
            "gridwidth": 2,
            "linecolor": "#506784",
            "showbackground": true,
            "ticks": "",
            "zerolinecolor": "#C8D4E3"
           },
           "zaxis": {
            "backgroundcolor": "rgb(17,17,17)",
            "gridcolor": "#506784",
            "gridwidth": 2,
            "linecolor": "#506784",
            "showbackground": true,
            "ticks": "",
            "zerolinecolor": "#C8D4E3"
           }
          },
          "shapedefaults": {
           "line": {
            "color": "#f2f5fa"
           }
          },
          "sliderdefaults": {
           "bgcolor": "#C8D4E3",
           "bordercolor": "rgb(17,17,17)",
           "borderwidth": 1,
           "tickwidth": 0
          },
          "ternary": {
           "aaxis": {
            "gridcolor": "#506784",
            "linecolor": "#506784",
            "ticks": ""
           },
           "baxis": {
            "gridcolor": "#506784",
            "linecolor": "#506784",
            "ticks": ""
           },
           "bgcolor": "rgb(17,17,17)",
           "caxis": {
            "gridcolor": "#506784",
            "linecolor": "#506784",
            "ticks": ""
           }
          },
          "title": {
           "x": 0.05
          },
          "updatemenudefaults": {
           "bgcolor": "#506784",
           "borderwidth": 0
          },
          "xaxis": {
           "automargin": true,
           "gridcolor": "#283442",
           "linecolor": "#506784",
           "ticks": "",
           "title": {
            "standoff": 15
           },
           "zerolinecolor": "#283442",
           "zerolinewidth": 2
          },
          "yaxis": {
           "automargin": true,
           "gridcolor": "#283442",
           "linecolor": "#506784",
           "ticks": "",
           "title": {
            "standoff": 15
           },
           "zerolinecolor": "#283442",
           "zerolinewidth": 2
          }
         }
        },
        "title": {
         "font": {
          "size": 13
         },
         "text": "<b>All Regions Sales Over Time</b>"
        },
        "width": 600,
        "xaxis": {
         "title": {
          "text": ""
         }
        },
        "yaxis": {
         "title": {
          "text": "Sales"
         }
        }
       }
      }
     },
     "metadata": {},
     "output_type": "display_data"
    }
   ],
   "source": [
    "sales = daily_sales(df_2017, \"All Regions\")\n",
    "sales"
   ]
  },
  {
   "cell_type": "code",
   "execution_count": null,
   "metadata": {},
   "outputs": [],
   "source": []
  },
  {
   "cell_type": "code",
   "execution_count": 54,
   "metadata": {},
   "outputs": [
    {
     "name": "stdout",
     "output_type": "stream",
     "text": [
      "           order_date                    order_region order_country  \\\n",
      "0 2017-01-01 00:33:00  Asiatic Russia/European Russia        Russia   \n",
      "1 2017-01-01 00:33:00  Asiatic Russia/European Russia        Russia   \n",
      "\n",
      "    order_city  market  sales  order_item_quantity  shipping_date  \\\n",
      "0  Cheliábinsk  Europe  99.96                    2  1/6/2017 0:33   \n",
      "1  Cheliábinsk  Europe  39.99                    1  1/6/2017 0:33   \n",
      "\n",
      "   days_for_shipping_real  days_for_shipment_scheduled         category_name  \\\n",
      "0                       5                            2  Indoor/Outdoor Games   \n",
      "1                       5                            2         Shop By Sport   \n",
      "\n",
      "  delivery_status  late_delivery_risk shipping_mode order_status  \\\n",
      "0   Late delivery                   1  Second Class     COMPLETE   \n",
      "1   Late delivery                   1  Second Class     COMPLETE   \n",
      "\n",
      "   order_profit_per_order  sales_per_item  shipping_days_difference  \\\n",
      "0                  -58.78           49.98                        -3   \n",
      "1                   15.98           39.99                        -3   \n",
      "\n",
      "   order_year order_month order_year_month_date  \n",
      "0        2017     January            2017-01-01  \n",
      "1        2017     January            2017-01-01  \n"
     ]
    }
   ],
   "source": [
    "print(df_2017.head(2))"
   ]
  },
  {
   "cell_type": "code",
   "execution_count": 55,
   "metadata": {},
   "outputs": [
    {
     "data": {
      "text/html": [
       "<div>\n",
       "<style scoped>\n",
       "    .dataframe tbody tr th:only-of-type {\n",
       "        vertical-align: middle;\n",
       "    }\n",
       "\n",
       "    .dataframe tbody tr th {\n",
       "        vertical-align: top;\n",
       "    }\n",
       "\n",
       "    .dataframe thead th {\n",
       "        text-align: right;\n",
       "    }\n",
       "</style>\n",
       "<table border=\"1\" class=\"dataframe\">\n",
       "  <thead>\n",
       "    <tr style=\"text-align: right;\">\n",
       "      <th></th>\n",
       "      <th>order_date</th>\n",
       "      <th>order_region</th>\n",
       "      <th>order_country</th>\n",
       "      <th>order_city</th>\n",
       "      <th>market</th>\n",
       "      <th>sales</th>\n",
       "      <th>order_item_quantity</th>\n",
       "      <th>shipping_date</th>\n",
       "      <th>days_for_shipping_real</th>\n",
       "      <th>days_for_shipment_scheduled</th>\n",
       "      <th>category_name</th>\n",
       "      <th>delivery_status</th>\n",
       "      <th>late_delivery_risk</th>\n",
       "      <th>shipping_mode</th>\n",
       "      <th>order_status</th>\n",
       "      <th>order_profit_per_order</th>\n",
       "      <th>sales_per_item</th>\n",
       "      <th>shipping_days_difference</th>\n",
       "      <th>order_year</th>\n",
       "      <th>order_month</th>\n",
       "      <th>order_year_month_date</th>\n",
       "    </tr>\n",
       "  </thead>\n",
       "  <tbody>\n",
       "    <tr>\n",
       "      <th>0</th>\n",
       "      <td>2017-01-01 00:33:00</td>\n",
       "      <td>Asiatic Russia/European Russia</td>\n",
       "      <td>Russia</td>\n",
       "      <td>Cheliábinsk</td>\n",
       "      <td>Europe</td>\n",
       "      <td>99.96</td>\n",
       "      <td>2</td>\n",
       "      <td>1/6/2017 0:33</td>\n",
       "      <td>5</td>\n",
       "      <td>2</td>\n",
       "      <td>Indoor/Outdoor Games</td>\n",
       "      <td>Late delivery</td>\n",
       "      <td>1</td>\n",
       "      <td>Second Class</td>\n",
       "      <td>COMPLETE</td>\n",
       "      <td>-58.78</td>\n",
       "      <td>49.98</td>\n",
       "      <td>-3</td>\n",
       "      <td>2017</td>\n",
       "      <td>January</td>\n",
       "      <td>2017-01-01</td>\n",
       "    </tr>\n",
       "    <tr>\n",
       "      <th>1</th>\n",
       "      <td>2017-01-01 00:33:00</td>\n",
       "      <td>Asiatic Russia/European Russia</td>\n",
       "      <td>Russia</td>\n",
       "      <td>Cheliábinsk</td>\n",
       "      <td>Europe</td>\n",
       "      <td>39.99</td>\n",
       "      <td>1</td>\n",
       "      <td>1/6/2017 0:33</td>\n",
       "      <td>5</td>\n",
       "      <td>2</td>\n",
       "      <td>Shop By Sport</td>\n",
       "      <td>Late delivery</td>\n",
       "      <td>1</td>\n",
       "      <td>Second Class</td>\n",
       "      <td>COMPLETE</td>\n",
       "      <td>15.98</td>\n",
       "      <td>39.99</td>\n",
       "      <td>-3</td>\n",
       "      <td>2017</td>\n",
       "      <td>January</td>\n",
       "      <td>2017-01-01</td>\n",
       "    </tr>\n",
       "  </tbody>\n",
       "</table>\n",
       "</div>"
      ],
      "text/plain": [
       "           order_date                    order_region order_country  \\\n",
       "0 2017-01-01 00:33:00  Asiatic Russia/European Russia        Russia   \n",
       "1 2017-01-01 00:33:00  Asiatic Russia/European Russia        Russia   \n",
       "\n",
       "    order_city  market  sales  order_item_quantity  shipping_date  \\\n",
       "0  Cheliábinsk  Europe  99.96                    2  1/6/2017 0:33   \n",
       "1  Cheliábinsk  Europe  39.99                    1  1/6/2017 0:33   \n",
       "\n",
       "   days_for_shipping_real  days_for_shipment_scheduled         category_name  \\\n",
       "0                       5                            2  Indoor/Outdoor Games   \n",
       "1                       5                            2         Shop By Sport   \n",
       "\n",
       "  delivery_status  late_delivery_risk shipping_mode order_status  \\\n",
       "0   Late delivery                   1  Second Class     COMPLETE   \n",
       "1   Late delivery                   1  Second Class     COMPLETE   \n",
       "\n",
       "   order_profit_per_order  sales_per_item  shipping_days_difference  \\\n",
       "0                  -58.78           49.98                        -3   \n",
       "1                   15.98           39.99                        -3   \n",
       "\n",
       "   order_year order_month order_year_month_date  \n",
       "0        2017     January            2017-01-01  \n",
       "1        2017     January            2017-01-01  "
      ]
     },
     "execution_count": 55,
     "metadata": {},
     "output_type": "execute_result"
    }
   ],
   "source": [
    "df_2017.head(2)"
   ]
  },
  {
   "cell_type": "code",
   "execution_count": null,
   "metadata": {},
   "outputs": [],
   "source": []
  },
  {
   "cell_type": "code",
   "execution_count": 56,
   "metadata": {},
   "outputs": [
    {
     "data": {
      "text/plain": [
       "'41.82 %'"
      ]
     },
     "execution_count": 56,
     "metadata": {},
     "output_type": "execute_result"
    }
   ],
   "source": [
    "# An order is considered on-time and in-full if the 'shipping_days_difference' is equal to or greater than 0.\n",
    "# If 'shipping_days_difference' >= 0, the order is delivered on-time and in-full (value 1).\n",
    "# Otherwise, the order is not delivered on-time and in-full (value 0).\n",
    "df_2017['on_time_in_full'] = (df_2017['shipping_days_difference'] >= 0).astype(int)\n",
    "\n",
    "# Group the data by 'order_region' and calculate the total number of orders and the total number of on-time, in-full orders.\n",
    "region_otif_data = df_2017.groupby('order_region')['on_time_in_full'].agg(['sum', 'count']).reset_index()\n",
    "\n",
    "# Calculate the OTIF rate for each region by dividing the total number of on-time, in-full orders by the total number of orders, then multiply by 100 to get the percentage.\n",
    "region_otif_data['otif_rate'] = (region_otif_data['sum'] / region_otif_data['count']) * 100\n",
    "\n",
    "# Rename the columns for better readability\n",
    "region_otif_data.columns = ['order_region', 'on_time_in_full_orders', 'total_orders', 'otif_rate']\n",
    "\n",
    "value = str(round(region_otif_data[region_otif_data[\"order_region\"]==\"Southeastern Asia\"][\"otif_rate\"].values[0], 2)) + \" %\"\n",
    "\n",
    "value"
   ]
  },
  {
   "cell_type": "code",
   "execution_count": 57,
   "metadata": {},
   "outputs": [
    {
     "data": {
      "text/html": [
       "<div>\n",
       "<style scoped>\n",
       "    .dataframe tbody tr th:only-of-type {\n",
       "        vertical-align: middle;\n",
       "    }\n",
       "\n",
       "    .dataframe tbody tr th {\n",
       "        vertical-align: top;\n",
       "    }\n",
       "\n",
       "    .dataframe thead th {\n",
       "        text-align: right;\n",
       "    }\n",
       "</style>\n",
       "<table border=\"1\" class=\"dataframe\">\n",
       "  <thead>\n",
       "    <tr style=\"text-align: right;\">\n",
       "      <th></th>\n",
       "      <th>order_region</th>\n",
       "      <th>days_for_shipping_real</th>\n",
       "    </tr>\n",
       "  </thead>\n",
       "  <tbody>\n",
       "    <tr>\n",
       "      <th>17</th>\n",
       "      <td>Southern Europe</td>\n",
       "      <td>3.44</td>\n",
       "    </tr>\n",
       "    <tr>\n",
       "      <th>18</th>\n",
       "      <td>Western Africa</td>\n",
       "      <td>3.59</td>\n",
       "    </tr>\n",
       "    <tr>\n",
       "      <th>19</th>\n",
       "      <td>Western Asia</td>\n",
       "      <td>3.68</td>\n",
       "    </tr>\n",
       "    <tr>\n",
       "      <th>20</th>\n",
       "      <td>Western Europe</td>\n",
       "      <td>3.48</td>\n",
       "    </tr>\n",
       "    <tr>\n",
       "      <th>21</th>\n",
       "      <td>All Region</td>\n",
       "      <td>3.55</td>\n",
       "    </tr>\n",
       "  </tbody>\n",
       "</table>\n",
       "</div>"
      ],
      "text/plain": [
       "       order_region  days_for_shipping_real\n",
       "17  Southern Europe                    3.44\n",
       "18   Western Africa                    3.59\n",
       "19     Western Asia                    3.68\n",
       "20   Western Europe                    3.48\n",
       "21       All Region                    3.55"
      ]
     },
     "execution_count": 57,
     "metadata": {},
     "output_type": "execute_result"
    }
   ],
   "source": [
    "avg_scheduled_shipping_time = df_2017.groupby(['order_region'])['days_for_shipping_real'].mean().reset_index()\n",
    "avg_scheduled_shipping_time.loc[len(avg_scheduled_shipping_time)] = ['All Region', avg_scheduled_shipping_time['days_for_shipping_real'].mean()]\n",
    "avg_scheduled_shipping_time.tail()"
   ]
  },
  {
   "cell_type": "code",
   "execution_count": 58,
   "metadata": {},
   "outputs": [
    {
     "data": {
      "text/html": [
       "<div>\n",
       "<style scoped>\n",
       "    .dataframe tbody tr th:only-of-type {\n",
       "        vertical-align: middle;\n",
       "    }\n",
       "\n",
       "    .dataframe tbody tr th {\n",
       "        vertical-align: top;\n",
       "    }\n",
       "\n",
       "    .dataframe thead th {\n",
       "        text-align: right;\n",
       "    }\n",
       "</style>\n",
       "<table border=\"1\" class=\"dataframe\">\n",
       "  <thead>\n",
       "    <tr style=\"text-align: right;\">\n",
       "      <th></th>\n",
       "      <th>order_region</th>\n",
       "      <th>order_item_quantity</th>\n",
       "    </tr>\n",
       "  </thead>\n",
       "  <tbody>\n",
       "    <tr>\n",
       "      <th>17</th>\n",
       "      <td>Southern Europe</td>\n",
       "      <td>7720</td>\n",
       "    </tr>\n",
       "    <tr>\n",
       "      <th>18</th>\n",
       "      <td>Western Africa</td>\n",
       "      <td>970</td>\n",
       "    </tr>\n",
       "    <tr>\n",
       "      <th>19</th>\n",
       "      <td>Western Asia</td>\n",
       "      <td>1713</td>\n",
       "    </tr>\n",
       "    <tr>\n",
       "      <th>20</th>\n",
       "      <td>Western Europe</td>\n",
       "      <td>22741</td>\n",
       "    </tr>\n",
       "    <tr>\n",
       "      <th>21</th>\n",
       "      <td>All Region</td>\n",
       "      <td>101392</td>\n",
       "    </tr>\n",
       "  </tbody>\n",
       "</table>\n",
       "</div>"
      ],
      "text/plain": [
       "       order_region  order_item_quantity\n",
       "17  Southern Europe                 7720\n",
       "18   Western Africa                  970\n",
       "19     Western Asia                 1713\n",
       "20   Western Europe                22741\n",
       "21       All Region               101392"
      ]
     },
     "execution_count": 58,
     "metadata": {},
     "output_type": "execute_result"
    }
   ],
   "source": [
    "total_order = df_2017.groupby(['order_region'])['order_item_quantity'].sum().reset_index()\n",
    "total_order.loc[len(total_order)] = ['All Region', total_order['order_item_quantity'].sum()]\n",
    "total_order.tail()"
   ]
  },
  {
   "cell_type": "code",
   "execution_count": 59,
   "metadata": {},
   "outputs": [
    {
     "data": {
      "text/html": [
       "<div>\n",
       "<style scoped>\n",
       "    .dataframe tbody tr th:only-of-type {\n",
       "        vertical-align: middle;\n",
       "    }\n",
       "\n",
       "    .dataframe tbody tr th {\n",
       "        vertical-align: top;\n",
       "    }\n",
       "\n",
       "    .dataframe thead th {\n",
       "        text-align: right;\n",
       "    }\n",
       "</style>\n",
       "<table border=\"1\" class=\"dataframe\">\n",
       "  <thead>\n",
       "    <tr style=\"text-align: right;\">\n",
       "      <th></th>\n",
       "      <th>order_region</th>\n",
       "      <th>order_profit_per_order</th>\n",
       "    </tr>\n",
       "  </thead>\n",
       "  <tbody>\n",
       "    <tr>\n",
       "      <th>17</th>\n",
       "      <td>Southern Europe</td>\n",
       "      <td>100401.60</td>\n",
       "    </tr>\n",
       "    <tr>\n",
       "      <th>18</th>\n",
       "      <td>Western Africa</td>\n",
       "      <td>10751.88</td>\n",
       "    </tr>\n",
       "    <tr>\n",
       "      <th>19</th>\n",
       "      <td>Western Asia</td>\n",
       "      <td>16249.20</td>\n",
       "    </tr>\n",
       "    <tr>\n",
       "      <th>20</th>\n",
       "      <td>Western Europe</td>\n",
       "      <td>317781.50</td>\n",
       "    </tr>\n",
       "    <tr>\n",
       "      <th>21</th>\n",
       "      <td>All Region</td>\n",
       "      <td>1260204.06</td>\n",
       "    </tr>\n",
       "  </tbody>\n",
       "</table>\n",
       "</div>"
      ],
      "text/plain": [
       "       order_region  order_profit_per_order\n",
       "17  Southern Europe               100401.60\n",
       "18   Western Africa                10751.88\n",
       "19     Western Asia                16249.20\n",
       "20   Western Europe               317781.50\n",
       "21       All Region              1260204.06"
      ]
     },
     "execution_count": 59,
     "metadata": {},
     "output_type": "execute_result"
    }
   ],
   "source": [
    "total_profit = df_2017.groupby(['order_region'])['order_profit_per_order'].sum().reset_index()\n",
    "total_profit.loc[len(total_profit)] = ['All Region', total_profit['order_profit_per_order'].sum()]\n",
    "total_profit.tail()"
   ]
  },
  {
   "cell_type": "code",
   "execution_count": 60,
   "metadata": {},
   "outputs": [
    {
     "data": {
      "text/html": [
       "<div>\n",
       "<style scoped>\n",
       "    .dataframe tbody tr th:only-of-type {\n",
       "        vertical-align: middle;\n",
       "    }\n",
       "\n",
       "    .dataframe tbody tr th {\n",
       "        vertical-align: top;\n",
       "    }\n",
       "\n",
       "    .dataframe thead th {\n",
       "        text-align: right;\n",
       "    }\n",
       "</style>\n",
       "<table border=\"1\" class=\"dataframe\">\n",
       "  <thead>\n",
       "    <tr style=\"text-align: right;\">\n",
       "      <th></th>\n",
       "      <th>order_region</th>\n",
       "      <th>sales</th>\n",
       "    </tr>\n",
       "  </thead>\n",
       "  <tbody>\n",
       "    <tr>\n",
       "      <th>17</th>\n",
       "      <td>Southern Europe</td>\n",
       "      <td>979686.24</td>\n",
       "    </tr>\n",
       "    <tr>\n",
       "      <th>18</th>\n",
       "      <td>Western Africa</td>\n",
       "      <td>80983.16</td>\n",
       "    </tr>\n",
       "    <tr>\n",
       "      <th>19</th>\n",
       "      <td>Western Asia</td>\n",
       "      <td>151246.63</td>\n",
       "    </tr>\n",
       "    <tr>\n",
       "      <th>20</th>\n",
       "      <td>Western Europe</td>\n",
       "      <td>2847340.92</td>\n",
       "    </tr>\n",
       "    <tr>\n",
       "      <th>21</th>\n",
       "      <td>All Region</td>\n",
       "      <td>11285497.46</td>\n",
       "    </tr>\n",
       "  </tbody>\n",
       "</table>\n",
       "</div>"
      ],
      "text/plain": [
       "       order_region       sales\n",
       "17  Southern Europe   979686.24\n",
       "18   Western Africa    80983.16\n",
       "19     Western Asia   151246.63\n",
       "20   Western Europe  2847340.92\n",
       "21       All Region 11285497.46"
      ]
     },
     "execution_count": 60,
     "metadata": {},
     "output_type": "execute_result"
    }
   ],
   "source": [
    "total_sales = df_2017.groupby(['order_region'])['sales'].sum().reset_index()\n",
    "total_sales.loc[len(total_sales)] = ['All Region', total_sales['sales'].sum()]\n",
    "total_sales.tail()"
   ]
  },
  {
   "cell_type": "code",
   "execution_count": 61,
   "metadata": {},
   "outputs": [],
   "source": [
    "total_profit = df_2017.groupby(['order_region'])['order_profit_per_order'].sum().reset_index()\n",
    "total_profit.loc[len(total_profit)] = ['All Region', total_profit['order_profit_per_order'].sum()]\n",
    "profit_value = total_profit[total_profit[\"order_region\"]=='All Region'][\"order_profit_per_order\"].values[0]\n",
    "formatted_profit = \"${:,.2f}\".format(profit_value)\n",
    "profit = formatted_profit"
   ]
  },
  {
   "cell_type": "code",
   "execution_count": 62,
   "metadata": {},
   "outputs": [
    {
     "data": {
      "text/html": [
       "<div>\n",
       "<style scoped>\n",
       "    .dataframe tbody tr th:only-of-type {\n",
       "        vertical-align: middle;\n",
       "    }\n",
       "\n",
       "    .dataframe tbody tr th {\n",
       "        vertical-align: top;\n",
       "    }\n",
       "\n",
       "    .dataframe thead th {\n",
       "        text-align: right;\n",
       "    }\n",
       "</style>\n",
       "<table border=\"1\" class=\"dataframe\">\n",
       "  <thead>\n",
       "    <tr style=\"text-align: right;\">\n",
       "      <th></th>\n",
       "      <th>order_region</th>\n",
       "      <th>order_profit_per_order</th>\n",
       "    </tr>\n",
       "  </thead>\n",
       "  <tbody>\n",
       "    <tr>\n",
       "      <th>0</th>\n",
       "      <td>Asiatic Russia/European Russia</td>\n",
       "      <td>4653.68</td>\n",
       "    </tr>\n",
       "    <tr>\n",
       "      <th>1</th>\n",
       "      <td>Australia/New Zealand</td>\n",
       "      <td>18188.67</td>\n",
       "    </tr>\n",
       "    <tr>\n",
       "      <th>2</th>\n",
       "      <td>Caribbean</td>\n",
       "      <td>86349.98</td>\n",
       "    </tr>\n",
       "    <tr>\n",
       "      <th>3</th>\n",
       "      <td>Central America</td>\n",
       "      <td>310165.05</td>\n",
       "    </tr>\n",
       "    <tr>\n",
       "      <th>4</th>\n",
       "      <td>Central Asia</td>\n",
       "      <td>431.90</td>\n",
       "    </tr>\n",
       "    <tr>\n",
       "      <th>5</th>\n",
       "      <td>Eastern Africa</td>\n",
       "      <td>4018.65</td>\n",
       "    </tr>\n",
       "    <tr>\n",
       "      <th>6</th>\n",
       "      <td>Eastern Asia</td>\n",
       "      <td>30713.65</td>\n",
       "    </tr>\n",
       "    <tr>\n",
       "      <th>7</th>\n",
       "      <td>Eastern Europe</td>\n",
       "      <td>5492.50</td>\n",
       "    </tr>\n",
       "    <tr>\n",
       "      <th>8</th>\n",
       "      <td>Melanesia</td>\n",
       "      <td>101.23</td>\n",
       "    </tr>\n",
       "    <tr>\n",
       "      <th>9</th>\n",
       "      <td>Middle Africa</td>\n",
       "      <td>2594.24</td>\n",
       "    </tr>\n",
       "    <tr>\n",
       "      <th>10</th>\n",
       "      <td>Northern Africa</td>\n",
       "      <td>9397.32</td>\n",
       "    </tr>\n",
       "    <tr>\n",
       "      <th>11</th>\n",
       "      <td>Northern America</td>\n",
       "      <td>3565.20</td>\n",
       "    </tr>\n",
       "    <tr>\n",
       "      <th>12</th>\n",
       "      <td>Northern Europe</td>\n",
       "      <td>112280.12</td>\n",
       "    </tr>\n",
       "    <tr>\n",
       "      <th>13</th>\n",
       "      <td>South America</td>\n",
       "      <td>158202.70</td>\n",
       "    </tr>\n",
       "    <tr>\n",
       "      <th>14</th>\n",
       "      <td>Southeastern Asia</td>\n",
       "      <td>42052.39</td>\n",
       "    </tr>\n",
       "    <tr>\n",
       "      <th>15</th>\n",
       "      <td>Southern Africa</td>\n",
       "      <td>2263.38</td>\n",
       "    </tr>\n",
       "    <tr>\n",
       "      <th>16</th>\n",
       "      <td>Southern Asia</td>\n",
       "      <td>24549.22</td>\n",
       "    </tr>\n",
       "    <tr>\n",
       "      <th>17</th>\n",
       "      <td>Southern Europe</td>\n",
       "      <td>100401.60</td>\n",
       "    </tr>\n",
       "    <tr>\n",
       "      <th>18</th>\n",
       "      <td>Western Africa</td>\n",
       "      <td>10751.88</td>\n",
       "    </tr>\n",
       "    <tr>\n",
       "      <th>19</th>\n",
       "      <td>Western Asia</td>\n",
       "      <td>16249.20</td>\n",
       "    </tr>\n",
       "    <tr>\n",
       "      <th>20</th>\n",
       "      <td>Western Europe</td>\n",
       "      <td>317781.50</td>\n",
       "    </tr>\n",
       "    <tr>\n",
       "      <th>21</th>\n",
       "      <td>All Region</td>\n",
       "      <td>1260204.06</td>\n",
       "    </tr>\n",
       "  </tbody>\n",
       "</table>\n",
       "</div>"
      ],
      "text/plain": [
       "                      order_region  order_profit_per_order\n",
       "0   Asiatic Russia/European Russia                 4653.68\n",
       "1            Australia/New Zealand                18188.67\n",
       "2                        Caribbean                86349.98\n",
       "3                  Central America               310165.05\n",
       "4                     Central Asia                  431.90\n",
       "5                   Eastern Africa                 4018.65\n",
       "6                     Eastern Asia                30713.65\n",
       "7                   Eastern Europe                 5492.50\n",
       "8                        Melanesia                  101.23\n",
       "9                    Middle Africa                 2594.24\n",
       "10                 Northern Africa                 9397.32\n",
       "11                Northern America                 3565.20\n",
       "12                 Northern Europe               112280.12\n",
       "13                   South America               158202.70\n",
       "14               Southeastern Asia                42052.39\n",
       "15                 Southern Africa                 2263.38\n",
       "16                   Southern Asia                24549.22\n",
       "17                 Southern Europe               100401.60\n",
       "18                  Western Africa                10751.88\n",
       "19                    Western Asia                16249.20\n",
       "20                  Western Europe               317781.50\n",
       "21                      All Region              1260204.06"
      ]
     },
     "execution_count": 62,
     "metadata": {},
     "output_type": "execute_result"
    }
   ],
   "source": [
    "total_profit"
   ]
  },
  {
   "cell_type": "code",
   "execution_count": 63,
   "metadata": {},
   "outputs": [
    {
     "data": {
      "text/plain": [
       "'$1,260,204.06'"
      ]
     },
     "execution_count": 63,
     "metadata": {},
     "output_type": "execute_result"
    }
   ],
   "source": [
    "profit"
   ]
  },
  {
   "cell_type": "code",
   "execution_count": 64,
   "metadata": {},
   "outputs": [
    {
     "data": {
      "text/html": [
       "<div>\n",
       "<style scoped>\n",
       "    .dataframe tbody tr th:only-of-type {\n",
       "        vertical-align: middle;\n",
       "    }\n",
       "\n",
       "    .dataframe tbody tr th {\n",
       "        vertical-align: top;\n",
       "    }\n",
       "\n",
       "    .dataframe thead th {\n",
       "        text-align: right;\n",
       "    }\n",
       "</style>\n",
       "<table border=\"1\" class=\"dataframe\">\n",
       "  <thead>\n",
       "    <tr style=\"text-align: right;\">\n",
       "      <th></th>\n",
       "      <th>order_date</th>\n",
       "      <th>order_region</th>\n",
       "      <th>order_country</th>\n",
       "      <th>order_city</th>\n",
       "      <th>market</th>\n",
       "      <th>sales</th>\n",
       "      <th>order_item_quantity</th>\n",
       "      <th>shipping_date</th>\n",
       "      <th>days_for_shipping_real</th>\n",
       "      <th>days_for_shipment_scheduled</th>\n",
       "      <th>category_name</th>\n",
       "      <th>delivery_status</th>\n",
       "      <th>late_delivery_risk</th>\n",
       "      <th>shipping_mode</th>\n",
       "      <th>order_status</th>\n",
       "      <th>order_profit_per_order</th>\n",
       "      <th>sales_per_item</th>\n",
       "      <th>shipping_days_difference</th>\n",
       "      <th>order_year</th>\n",
       "      <th>order_month</th>\n",
       "      <th>order_year_month_date</th>\n",
       "      <th>on_time_in_full</th>\n",
       "    </tr>\n",
       "  </thead>\n",
       "  <tbody>\n",
       "  </tbody>\n",
       "</table>\n",
       "</div>"
      ],
      "text/plain": [
       "Empty DataFrame\n",
       "Columns: [order_date, order_region, order_country, order_city, market, sales, order_item_quantity, shipping_date, days_for_shipping_real, days_for_shipment_scheduled, category_name, delivery_status, late_delivery_risk, shipping_mode, order_status, order_profit_per_order, sales_per_item, shipping_days_difference, order_year, order_month, order_year_month_date, on_time_in_full]\n",
       "Index: []"
      ]
     },
     "execution_count": 64,
     "metadata": {},
     "output_type": "execute_result"
    }
   ],
   "source": [
    "df_2017[df_2017[\"order_status\"]==\"CANCELED\"]"
   ]
  },
  {
   "cell_type": "code",
   "execution_count": 65,
   "metadata": {},
   "outputs": [],
   "source": [
    "def create_bar_region_market_combined(dataframe):\n",
    "\n",
    "    grouped = dataframe.groupby([\"market\", \"order_region\"]).agg(\n",
    "        total_sales = (\"sales\", \"sum\")\n",
    "    ).reset_index()\n",
    "\n",
    "    grouped[\"total_sales\"] = round(grouped[\"total_sales\"], 2)\n",
    "\n",
    "    # sort by total_sales and split into two groups\n",
    "    grouped = grouped.sort_values(by=\"total_sales\", ascending=False).reset_index()\n",
    "\n",
    "    # format total_sales as a string with $ and thousand separator\n",
    "    locale.setlocale(locale.LC_ALL, '')  # set locale to default system locale\n",
    "    grouped[\"total_sales_formated\"] = grouped[\"total_sales\"].apply(lambda x: locale.currency(x, grouping=True))\n",
    "\n",
    "    top_5 = grouped.head(5)\n",
    "    bottom_5 = grouped.tail(5)\n",
    "\n",
    "    # assign unique colors to each market\n",
    "    color_map = {'LATAM': '#3366CC', 'Europe': '#DC3912', 'Pacific Asia': '#FF9900', 'USCA': '#109618', 'Africa': '#990099'}\n",
    "\n",
    "    # map category colors to the top_5 and bottom_5 dataframes\n",
    "    top_5['color'] = top_5['market'].map(color_map)\n",
    "    bottom_5['color'] = bottom_5['market'].map(color_map)\n",
    "\n",
    "        # create the subplots\n",
    "    fig = make_subplots(rows=1, cols=2, horizontal_spacing=0.2, subplot_titles=(\n",
    "        \"<b>Top 5 High-Performing Regions by Total Sales</b>\", \n",
    "        \"<b>Bottom 5 Underperforming Regions by Total Sales</b>\"))\n",
    "\n",
    "    # add the top 5 subplot\n",
    "    fig.add_trace(go.Bar(x=top_5['total_sales'], y=top_5['order_region'], orientation='h',\n",
    "                        text=top_5['total_sales_formated'], name='', marker=dict(color=top_5['color']),\n",
    "                        textfont=dict(color='white'), showlegend=True),\n",
    "                row=1, col=1)\n",
    "    fig.update_yaxes(title='', categoryorder='total ascending', row=1, col=1)\n",
    "    fig.update_xaxes(title='Total Sales', row=1, col=1, showgrid=False)\n",
    "\n",
    "    # add the bottom 5 subplot\n",
    "    fig.add_trace(go.Bar(x=bottom_5['total_sales'], y=bottom_5['order_region'], orientation='h',\n",
    "                        text=bottom_5['total_sales_formated'], name='', marker=dict(color=bottom_5['color']),\n",
    "                        textfont=dict(color='white'), showlegend=True),\n",
    "                row=1, col=2)\n",
    "    fig.update_yaxes(title='', categoryorder='total ascending', row=1, col=2)\n",
    "    fig.update_xaxes(title='Total Sales', row=1, col=2, showgrid=False)\n",
    "\n",
    "\n",
    "    # update the layout\n",
    "    fig.update_layout(\n",
    "        height=200,\n",
    "        width=900,\n",
    "        template=\"plotly_dark\",\n",
    "        showlegend=False,\n",
    "        margin=dict(l=0, r=0, t=20, b=0),\n",
    "    )\n",
    "    fig.update_layout({'plot_bgcolor': 'rgba(0, 0, 0, 0)','paper_bgcolor': 'rgba(0, 0, 0, 0)',})\n",
    "    fig.update_annotations(font_size=12)\n",
    "\n",
    "    return fig\n"
   ]
  },
  {
   "cell_type": "code",
   "execution_count": 66,
   "metadata": {},
   "outputs": [
    {
     "name": "stderr",
     "output_type": "stream",
     "text": [
      "C:\\Users\\PF2L6BL6\\AppData\\Local\\Temp\\ipykernel_7952\\916682210.py:23: SettingWithCopyWarning:\n",
      "\n",
      "\n",
      "A value is trying to be set on a copy of a slice from a DataFrame.\n",
      "Try using .loc[row_indexer,col_indexer] = value instead\n",
      "\n",
      "See the caveats in the documentation: https://pandas.pydata.org/pandas-docs/stable/user_guide/indexing.html#returning-a-view-versus-a-copy\n",
      "\n",
      "C:\\Users\\PF2L6BL6\\AppData\\Local\\Temp\\ipykernel_7952\\916682210.py:24: SettingWithCopyWarning:\n",
      "\n",
      "\n",
      "A value is trying to be set on a copy of a slice from a DataFrame.\n",
      "Try using .loc[row_indexer,col_indexer] = value instead\n",
      "\n",
      "See the caveats in the documentation: https://pandas.pydata.org/pandas-docs/stable/user_guide/indexing.html#returning-a-view-versus-a-copy\n",
      "\n"
     ]
    },
    {
     "data": {
      "application/vnd.plotly.v1+json": {
       "config": {
        "plotlyServerURL": "https://plot.ly"
       },
       "data": [
        {
         "marker": {
          "color": [
           "#DC3912",
           "#3366CC",
           "#3366CC",
           "#DC3912",
           "#DC3912"
          ]
         },
         "name": "",
         "orientation": "h",
         "showlegend": true,
         "text": [
          "$2,847,340.92",
          "$2,794,204.96",
          "$1,402,751.44",
          "$1,042,261.49",
          "$979,686.24"
         ],
         "textfont": {
          "color": "white"
         },
         "type": "bar",
         "x": [
          2847340.92,
          2794204.96,
          1402751.44,
          1042261.49,
          979686.24
         ],
         "xaxis": "x",
         "y": [
          "Western Europe",
          "Central America",
          "South America",
          "Northern Europe",
          "Southern Europe"
         ],
         "yaxis": "y"
        },
        {
         "marker": {
          "color": [
           "#990099",
           "#109618",
           "#990099",
           "#FF9900",
           "#FF9900"
          ]
         },
         "name": "",
         "orientation": "h",
         "showlegend": true,
         "text": [
          "$28,819.90",
          "$20,388.55",
          "$18,368.66",
          "$11,906.64",
          "$425.03"
         ],
         "textfont": {
          "color": "white"
         },
         "type": "bar",
         "x": [
          28819.9,
          20388.55,
          18368.66,
          11906.64,
          425.03
         ],
         "xaxis": "x2",
         "y": [
          "Middle Africa",
          "Northern America",
          "Southern Africa",
          "Central Asia",
          "Melanesia"
         ],
         "yaxis": "y2"
        }
       ],
       "layout": {
        "annotations": [
         {
          "font": {
           "size": 12
          },
          "showarrow": false,
          "text": "<b>Top 5 High-Performing Regions by Total Sales</b>",
          "x": 0.2,
          "xanchor": "center",
          "xref": "paper",
          "y": 1,
          "yanchor": "bottom",
          "yref": "paper"
         },
         {
          "font": {
           "size": 12
          },
          "showarrow": false,
          "text": "<b>Bottom 5 Underperforming Regions by Total Sales</b>",
          "x": 0.8,
          "xanchor": "center",
          "xref": "paper",
          "y": 1,
          "yanchor": "bottom",
          "yref": "paper"
         }
        ],
        "height": 200,
        "margin": {
         "b": 0,
         "l": 0,
         "r": 0,
         "t": 20
        },
        "paper_bgcolor": "rgba(0, 0, 0, 0)",
        "plot_bgcolor": "rgba(0, 0, 0, 0)",
        "showlegend": false,
        "template": {
         "data": {
          "bar": [
           {
            "error_x": {
             "color": "#f2f5fa"
            },
            "error_y": {
             "color": "#f2f5fa"
            },
            "marker": {
             "line": {
              "color": "rgb(17,17,17)",
              "width": 0.5
             },
             "pattern": {
              "fillmode": "overlay",
              "size": 10,
              "solidity": 0.2
             }
            },
            "type": "bar"
           }
          ],
          "barpolar": [
           {
            "marker": {
             "line": {
              "color": "rgb(17,17,17)",
              "width": 0.5
             },
             "pattern": {
              "fillmode": "overlay",
              "size": 10,
              "solidity": 0.2
             }
            },
            "type": "barpolar"
           }
          ],
          "carpet": [
           {
            "aaxis": {
             "endlinecolor": "#A2B1C6",
             "gridcolor": "#506784",
             "linecolor": "#506784",
             "minorgridcolor": "#506784",
             "startlinecolor": "#A2B1C6"
            },
            "baxis": {
             "endlinecolor": "#A2B1C6",
             "gridcolor": "#506784",
             "linecolor": "#506784",
             "minorgridcolor": "#506784",
             "startlinecolor": "#A2B1C6"
            },
            "type": "carpet"
           }
          ],
          "choropleth": [
           {
            "colorbar": {
             "outlinewidth": 0,
             "ticks": ""
            },
            "type": "choropleth"
           }
          ],
          "contour": [
           {
            "colorbar": {
             "outlinewidth": 0,
             "ticks": ""
            },
            "colorscale": [
             [
              0,
              "#0d0887"
             ],
             [
              0.1111111111111111,
              "#46039f"
             ],
             [
              0.2222222222222222,
              "#7201a8"
             ],
             [
              0.3333333333333333,
              "#9c179e"
             ],
             [
              0.4444444444444444,
              "#bd3786"
             ],
             [
              0.5555555555555556,
              "#d8576b"
             ],
             [
              0.6666666666666666,
              "#ed7953"
             ],
             [
              0.7777777777777778,
              "#fb9f3a"
             ],
             [
              0.8888888888888888,
              "#fdca26"
             ],
             [
              1,
              "#f0f921"
             ]
            ],
            "type": "contour"
           }
          ],
          "contourcarpet": [
           {
            "colorbar": {
             "outlinewidth": 0,
             "ticks": ""
            },
            "type": "contourcarpet"
           }
          ],
          "heatmap": [
           {
            "colorbar": {
             "outlinewidth": 0,
             "ticks": ""
            },
            "colorscale": [
             [
              0,
              "#0d0887"
             ],
             [
              0.1111111111111111,
              "#46039f"
             ],
             [
              0.2222222222222222,
              "#7201a8"
             ],
             [
              0.3333333333333333,
              "#9c179e"
             ],
             [
              0.4444444444444444,
              "#bd3786"
             ],
             [
              0.5555555555555556,
              "#d8576b"
             ],
             [
              0.6666666666666666,
              "#ed7953"
             ],
             [
              0.7777777777777778,
              "#fb9f3a"
             ],
             [
              0.8888888888888888,
              "#fdca26"
             ],
             [
              1,
              "#f0f921"
             ]
            ],
            "type": "heatmap"
           }
          ],
          "heatmapgl": [
           {
            "colorbar": {
             "outlinewidth": 0,
             "ticks": ""
            },
            "colorscale": [
             [
              0,
              "#0d0887"
             ],
             [
              0.1111111111111111,
              "#46039f"
             ],
             [
              0.2222222222222222,
              "#7201a8"
             ],
             [
              0.3333333333333333,
              "#9c179e"
             ],
             [
              0.4444444444444444,
              "#bd3786"
             ],
             [
              0.5555555555555556,
              "#d8576b"
             ],
             [
              0.6666666666666666,
              "#ed7953"
             ],
             [
              0.7777777777777778,
              "#fb9f3a"
             ],
             [
              0.8888888888888888,
              "#fdca26"
             ],
             [
              1,
              "#f0f921"
             ]
            ],
            "type": "heatmapgl"
           }
          ],
          "histogram": [
           {
            "marker": {
             "pattern": {
              "fillmode": "overlay",
              "size": 10,
              "solidity": 0.2
             }
            },
            "type": "histogram"
           }
          ],
          "histogram2d": [
           {
            "colorbar": {
             "outlinewidth": 0,
             "ticks": ""
            },
            "colorscale": [
             [
              0,
              "#0d0887"
             ],
             [
              0.1111111111111111,
              "#46039f"
             ],
             [
              0.2222222222222222,
              "#7201a8"
             ],
             [
              0.3333333333333333,
              "#9c179e"
             ],
             [
              0.4444444444444444,
              "#bd3786"
             ],
             [
              0.5555555555555556,
              "#d8576b"
             ],
             [
              0.6666666666666666,
              "#ed7953"
             ],
             [
              0.7777777777777778,
              "#fb9f3a"
             ],
             [
              0.8888888888888888,
              "#fdca26"
             ],
             [
              1,
              "#f0f921"
             ]
            ],
            "type": "histogram2d"
           }
          ],
          "histogram2dcontour": [
           {
            "colorbar": {
             "outlinewidth": 0,
             "ticks": ""
            },
            "colorscale": [
             [
              0,
              "#0d0887"
             ],
             [
              0.1111111111111111,
              "#46039f"
             ],
             [
              0.2222222222222222,
              "#7201a8"
             ],
             [
              0.3333333333333333,
              "#9c179e"
             ],
             [
              0.4444444444444444,
              "#bd3786"
             ],
             [
              0.5555555555555556,
              "#d8576b"
             ],
             [
              0.6666666666666666,
              "#ed7953"
             ],
             [
              0.7777777777777778,
              "#fb9f3a"
             ],
             [
              0.8888888888888888,
              "#fdca26"
             ],
             [
              1,
              "#f0f921"
             ]
            ],
            "type": "histogram2dcontour"
           }
          ],
          "mesh3d": [
           {
            "colorbar": {
             "outlinewidth": 0,
             "ticks": ""
            },
            "type": "mesh3d"
           }
          ],
          "parcoords": [
           {
            "line": {
             "colorbar": {
              "outlinewidth": 0,
              "ticks": ""
             }
            },
            "type": "parcoords"
           }
          ],
          "pie": [
           {
            "automargin": true,
            "type": "pie"
           }
          ],
          "scatter": [
           {
            "marker": {
             "line": {
              "color": "#283442"
             }
            },
            "type": "scatter"
           }
          ],
          "scatter3d": [
           {
            "line": {
             "colorbar": {
              "outlinewidth": 0,
              "ticks": ""
             }
            },
            "marker": {
             "colorbar": {
              "outlinewidth": 0,
              "ticks": ""
             }
            },
            "type": "scatter3d"
           }
          ],
          "scattercarpet": [
           {
            "marker": {
             "colorbar": {
              "outlinewidth": 0,
              "ticks": ""
             }
            },
            "type": "scattercarpet"
           }
          ],
          "scattergeo": [
           {
            "marker": {
             "colorbar": {
              "outlinewidth": 0,
              "ticks": ""
             }
            },
            "type": "scattergeo"
           }
          ],
          "scattergl": [
           {
            "marker": {
             "line": {
              "color": "#283442"
             }
            },
            "type": "scattergl"
           }
          ],
          "scattermapbox": [
           {
            "marker": {
             "colorbar": {
              "outlinewidth": 0,
              "ticks": ""
             }
            },
            "type": "scattermapbox"
           }
          ],
          "scatterpolar": [
           {
            "marker": {
             "colorbar": {
              "outlinewidth": 0,
              "ticks": ""
             }
            },
            "type": "scatterpolar"
           }
          ],
          "scatterpolargl": [
           {
            "marker": {
             "colorbar": {
              "outlinewidth": 0,
              "ticks": ""
             }
            },
            "type": "scatterpolargl"
           }
          ],
          "scatterternary": [
           {
            "marker": {
             "colorbar": {
              "outlinewidth": 0,
              "ticks": ""
             }
            },
            "type": "scatterternary"
           }
          ],
          "surface": [
           {
            "colorbar": {
             "outlinewidth": 0,
             "ticks": ""
            },
            "colorscale": [
             [
              0,
              "#0d0887"
             ],
             [
              0.1111111111111111,
              "#46039f"
             ],
             [
              0.2222222222222222,
              "#7201a8"
             ],
             [
              0.3333333333333333,
              "#9c179e"
             ],
             [
              0.4444444444444444,
              "#bd3786"
             ],
             [
              0.5555555555555556,
              "#d8576b"
             ],
             [
              0.6666666666666666,
              "#ed7953"
             ],
             [
              0.7777777777777778,
              "#fb9f3a"
             ],
             [
              0.8888888888888888,
              "#fdca26"
             ],
             [
              1,
              "#f0f921"
             ]
            ],
            "type": "surface"
           }
          ],
          "table": [
           {
            "cells": {
             "fill": {
              "color": "#506784"
             },
             "line": {
              "color": "rgb(17,17,17)"
             }
            },
            "header": {
             "fill": {
              "color": "#2a3f5f"
             },
             "line": {
              "color": "rgb(17,17,17)"
             }
            },
            "type": "table"
           }
          ]
         },
         "layout": {
          "annotationdefaults": {
           "arrowcolor": "#f2f5fa",
           "arrowhead": 0,
           "arrowwidth": 1
          },
          "autotypenumbers": "strict",
          "coloraxis": {
           "colorbar": {
            "outlinewidth": 0,
            "ticks": ""
           }
          },
          "colorscale": {
           "diverging": [
            [
             0,
             "#8e0152"
            ],
            [
             0.1,
             "#c51b7d"
            ],
            [
             0.2,
             "#de77ae"
            ],
            [
             0.3,
             "#f1b6da"
            ],
            [
             0.4,
             "#fde0ef"
            ],
            [
             0.5,
             "#f7f7f7"
            ],
            [
             0.6,
             "#e6f5d0"
            ],
            [
             0.7,
             "#b8e186"
            ],
            [
             0.8,
             "#7fbc41"
            ],
            [
             0.9,
             "#4d9221"
            ],
            [
             1,
             "#276419"
            ]
           ],
           "sequential": [
            [
             0,
             "#0d0887"
            ],
            [
             0.1111111111111111,
             "#46039f"
            ],
            [
             0.2222222222222222,
             "#7201a8"
            ],
            [
             0.3333333333333333,
             "#9c179e"
            ],
            [
             0.4444444444444444,
             "#bd3786"
            ],
            [
             0.5555555555555556,
             "#d8576b"
            ],
            [
             0.6666666666666666,
             "#ed7953"
            ],
            [
             0.7777777777777778,
             "#fb9f3a"
            ],
            [
             0.8888888888888888,
             "#fdca26"
            ],
            [
             1,
             "#f0f921"
            ]
           ],
           "sequentialminus": [
            [
             0,
             "#0d0887"
            ],
            [
             0.1111111111111111,
             "#46039f"
            ],
            [
             0.2222222222222222,
             "#7201a8"
            ],
            [
             0.3333333333333333,
             "#9c179e"
            ],
            [
             0.4444444444444444,
             "#bd3786"
            ],
            [
             0.5555555555555556,
             "#d8576b"
            ],
            [
             0.6666666666666666,
             "#ed7953"
            ],
            [
             0.7777777777777778,
             "#fb9f3a"
            ],
            [
             0.8888888888888888,
             "#fdca26"
            ],
            [
             1,
             "#f0f921"
            ]
           ]
          },
          "colorway": [
           "#636efa",
           "#EF553B",
           "#00cc96",
           "#ab63fa",
           "#FFA15A",
           "#19d3f3",
           "#FF6692",
           "#B6E880",
           "#FF97FF",
           "#FECB52"
          ],
          "font": {
           "color": "#f2f5fa"
          },
          "geo": {
           "bgcolor": "rgb(17,17,17)",
           "lakecolor": "rgb(17,17,17)",
           "landcolor": "rgb(17,17,17)",
           "showlakes": true,
           "showland": true,
           "subunitcolor": "#506784"
          },
          "hoverlabel": {
           "align": "left"
          },
          "hovermode": "closest",
          "mapbox": {
           "style": "dark"
          },
          "paper_bgcolor": "rgb(17,17,17)",
          "plot_bgcolor": "rgb(17,17,17)",
          "polar": {
           "angularaxis": {
            "gridcolor": "#506784",
            "linecolor": "#506784",
            "ticks": ""
           },
           "bgcolor": "rgb(17,17,17)",
           "radialaxis": {
            "gridcolor": "#506784",
            "linecolor": "#506784",
            "ticks": ""
           }
          },
          "scene": {
           "xaxis": {
            "backgroundcolor": "rgb(17,17,17)",
            "gridcolor": "#506784",
            "gridwidth": 2,
            "linecolor": "#506784",
            "showbackground": true,
            "ticks": "",
            "zerolinecolor": "#C8D4E3"
           },
           "yaxis": {
            "backgroundcolor": "rgb(17,17,17)",
            "gridcolor": "#506784",
            "gridwidth": 2,
            "linecolor": "#506784",
            "showbackground": true,
            "ticks": "",
            "zerolinecolor": "#C8D4E3"
           },
           "zaxis": {
            "backgroundcolor": "rgb(17,17,17)",
            "gridcolor": "#506784",
            "gridwidth": 2,
            "linecolor": "#506784",
            "showbackground": true,
            "ticks": "",
            "zerolinecolor": "#C8D4E3"
           }
          },
          "shapedefaults": {
           "line": {
            "color": "#f2f5fa"
           }
          },
          "sliderdefaults": {
           "bgcolor": "#C8D4E3",
           "bordercolor": "rgb(17,17,17)",
           "borderwidth": 1,
           "tickwidth": 0
          },
          "ternary": {
           "aaxis": {
            "gridcolor": "#506784",
            "linecolor": "#506784",
            "ticks": ""
           },
           "baxis": {
            "gridcolor": "#506784",
            "linecolor": "#506784",
            "ticks": ""
           },
           "bgcolor": "rgb(17,17,17)",
           "caxis": {
            "gridcolor": "#506784",
            "linecolor": "#506784",
            "ticks": ""
           }
          },
          "title": {
           "x": 0.05
          },
          "updatemenudefaults": {
           "bgcolor": "#506784",
           "borderwidth": 0
          },
          "xaxis": {
           "automargin": true,
           "gridcolor": "#283442",
           "linecolor": "#506784",
           "ticks": "",
           "title": {
            "standoff": 15
           },
           "zerolinecolor": "#283442",
           "zerolinewidth": 2
          },
          "yaxis": {
           "automargin": true,
           "gridcolor": "#283442",
           "linecolor": "#506784",
           "ticks": "",
           "title": {
            "standoff": 15
           },
           "zerolinecolor": "#283442",
           "zerolinewidth": 2
          }
         }
        },
        "width": 900,
        "xaxis": {
         "anchor": "y",
         "domain": [
          0,
          0.4
         ],
         "showgrid": false,
         "title": {
          "text": "Total Sales"
         }
        },
        "xaxis2": {
         "anchor": "y2",
         "domain": [
          0.6000000000000001,
          1
         ],
         "showgrid": false,
         "title": {
          "text": "Total Sales"
         }
        },
        "yaxis": {
         "anchor": "x",
         "categoryorder": "total ascending",
         "domain": [
          0,
          1
         ],
         "title": {
          "text": ""
         }
        },
        "yaxis2": {
         "anchor": "x2",
         "categoryorder": "total ascending",
         "domain": [
          0,
          1
         ],
         "title": {
          "text": ""
         }
        }
       }
      }
     },
     "metadata": {},
     "output_type": "display_data"
    }
   ],
   "source": [
    "bar2 = create_bar_region_market_combined(df_2017)\n",
    "bar2"
   ]
  },
  {
   "cell_type": "code",
   "execution_count": null,
   "metadata": {},
   "outputs": [],
   "source": []
  },
  {
   "cell_type": "code",
   "execution_count": 67,
   "metadata": {},
   "outputs": [
    {
     "data": {
      "text/html": [
       "<div>\n",
       "<style scoped>\n",
       "    .dataframe tbody tr th:only-of-type {\n",
       "        vertical-align: middle;\n",
       "    }\n",
       "\n",
       "    .dataframe tbody tr th {\n",
       "        vertical-align: top;\n",
       "    }\n",
       "\n",
       "    .dataframe thead th {\n",
       "        text-align: right;\n",
       "    }\n",
       "</style>\n",
       "<table border=\"1\" class=\"dataframe\">\n",
       "  <thead>\n",
       "    <tr style=\"text-align: right;\">\n",
       "      <th></th>\n",
       "      <th>order_status</th>\n",
       "      <th>count</th>\n",
       "    </tr>\n",
       "  </thead>\n",
       "  <tbody>\n",
       "    <tr>\n",
       "      <th>0</th>\n",
       "      <td>CLOSED</td>\n",
       "      <td>5669</td>\n",
       "    </tr>\n",
       "    <tr>\n",
       "      <th>1</th>\n",
       "      <td>COMPLETE</td>\n",
       "      <td>17365</td>\n",
       "    </tr>\n",
       "    <tr>\n",
       "      <th>2</th>\n",
       "      <td>ON_HOLD</td>\n",
       "      <td>2758</td>\n",
       "    </tr>\n",
       "    <tr>\n",
       "      <th>3</th>\n",
       "      <td>PAYMENT_REVIEW</td>\n",
       "      <td>568</td>\n",
       "    </tr>\n",
       "    <tr>\n",
       "      <th>4</th>\n",
       "      <td>PENDING</td>\n",
       "      <td>6233</td>\n",
       "    </tr>\n",
       "    <tr>\n",
       "      <th>5</th>\n",
       "      <td>PENDING_PAYMENT</td>\n",
       "      <td>11725</td>\n",
       "    </tr>\n",
       "    <tr>\n",
       "      <th>6</th>\n",
       "      <td>PROCESSING</td>\n",
       "      <td>6530</td>\n",
       "    </tr>\n",
       "  </tbody>\n",
       "</table>\n",
       "</div>"
      ],
      "text/plain": [
       "      order_status  count\n",
       "0           CLOSED   5669\n",
       "1         COMPLETE  17365\n",
       "2          ON_HOLD   2758\n",
       "3   PAYMENT_REVIEW    568\n",
       "4          PENDING   6233\n",
       "5  PENDING_PAYMENT  11725\n",
       "6       PROCESSING   6530"
      ]
     },
     "execution_count": 67,
     "metadata": {},
     "output_type": "execute_result"
    }
   ],
   "source": [
    "order_status_distribution = df_2017.groupby('order_status').size().reset_index(name='count')\n",
    "order_status_distribution"
   ]
  },
  {
   "cell_type": "code",
   "execution_count": 68,
   "metadata": {},
   "outputs": [
    {
     "data": {
      "text/html": [
       "<div>\n",
       "<style scoped>\n",
       "    .dataframe tbody tr th:only-of-type {\n",
       "        vertical-align: middle;\n",
       "    }\n",
       "\n",
       "    .dataframe tbody tr th {\n",
       "        vertical-align: top;\n",
       "    }\n",
       "\n",
       "    .dataframe thead th {\n",
       "        text-align: right;\n",
       "    }\n",
       "</style>\n",
       "<table border=\"1\" class=\"dataframe\">\n",
       "  <thead>\n",
       "    <tr style=\"text-align: right;\">\n",
       "      <th></th>\n",
       "      <th>shipping_mode</th>\n",
       "      <th>order_item_quantity</th>\n",
       "    </tr>\n",
       "  </thead>\n",
       "  <tbody>\n",
       "    <tr>\n",
       "      <th>0</th>\n",
       "      <td>First Class</td>\n",
       "      <td>15056</td>\n",
       "    </tr>\n",
       "    <tr>\n",
       "      <th>1</th>\n",
       "      <td>Same Day</td>\n",
       "      <td>5511</td>\n",
       "    </tr>\n",
       "    <tr>\n",
       "      <th>2</th>\n",
       "      <td>Second Class</td>\n",
       "      <td>19659</td>\n",
       "    </tr>\n",
       "    <tr>\n",
       "      <th>3</th>\n",
       "      <td>Standard Class</td>\n",
       "      <td>61166</td>\n",
       "    </tr>\n",
       "  </tbody>\n",
       "</table>\n",
       "</div>"
      ],
      "text/plain": [
       "    shipping_mode  order_item_quantity\n",
       "0     First Class                15056\n",
       "1        Same Day                 5511\n",
       "2    Second Class                19659\n",
       "3  Standard Class                61166"
      ]
     },
     "execution_count": 68,
     "metadata": {},
     "output_type": "execute_result"
    }
   ],
   "source": [
    "order_volume_by_shipping_mode = df_2017.groupby('shipping_mode')['order_item_quantity'].sum().reset_index()\n",
    "order_volume_by_shipping_mode"
   ]
  },
  {
   "cell_type": "code",
   "execution_count": 69,
   "metadata": {},
   "outputs": [
    {
     "data": {
      "text/html": [
       "<div>\n",
       "<style scoped>\n",
       "    .dataframe tbody tr th:only-of-type {\n",
       "        vertical-align: middle;\n",
       "    }\n",
       "\n",
       "    .dataframe tbody tr th {\n",
       "        vertical-align: top;\n",
       "    }\n",
       "\n",
       "    .dataframe thead th {\n",
       "        text-align: right;\n",
       "    }\n",
       "</style>\n",
       "<table border=\"1\" class=\"dataframe\">\n",
       "  <thead>\n",
       "    <tr style=\"text-align: right;\">\n",
       "      <th>late_delivery_risk</th>\n",
       "      <th>order_region</th>\n",
       "      <th>market</th>\n",
       "      <th>0</th>\n",
       "      <th>1</th>\n",
       "      <th>late_delivery_rate</th>\n",
       "    </tr>\n",
       "  </thead>\n",
       "  <tbody>\n",
       "    <tr>\n",
       "      <th>0</th>\n",
       "      <td>Asiatic Russia/European Russia</td>\n",
       "      <td>Europe</td>\n",
       "      <td>62.00</td>\n",
       "      <td>131.00</td>\n",
       "      <td>67.88</td>\n",
       "    </tr>\n",
       "    <tr>\n",
       "      <th>1</th>\n",
       "      <td>Australia/New Zealand</td>\n",
       "      <td>Pacific Asia</td>\n",
       "      <td>366.00</td>\n",
       "      <td>475.00</td>\n",
       "      <td>56.48</td>\n",
       "    </tr>\n",
       "    <tr>\n",
       "      <th>2</th>\n",
       "      <td>Caribbean</td>\n",
       "      <td>LATAM</td>\n",
       "      <td>1782.00</td>\n",
       "      <td>2131.00</td>\n",
       "      <td>54.46</td>\n",
       "    </tr>\n",
       "    <tr>\n",
       "      <th>3</th>\n",
       "      <td>Central America</td>\n",
       "      <td>LATAM</td>\n",
       "      <td>5936.00</td>\n",
       "      <td>7875.00</td>\n",
       "      <td>57.02</td>\n",
       "    </tr>\n",
       "    <tr>\n",
       "      <th>4</th>\n",
       "      <td>Central Asia</td>\n",
       "      <td>Pacific Asia</td>\n",
       "      <td>23.00</td>\n",
       "      <td>48.00</td>\n",
       "      <td>67.61</td>\n",
       "    </tr>\n",
       "    <tr>\n",
       "      <th>5</th>\n",
       "      <td>Eastern Africa</td>\n",
       "      <td>Africa</td>\n",
       "      <td>98.00</td>\n",
       "      <td>107.00</td>\n",
       "      <td>52.20</td>\n",
       "    </tr>\n",
       "    <tr>\n",
       "      <th>6</th>\n",
       "      <td>Eastern Asia</td>\n",
       "      <td>Pacific Asia</td>\n",
       "      <td>361.00</td>\n",
       "      <td>471.00</td>\n",
       "      <td>56.61</td>\n",
       "    </tr>\n",
       "    <tr>\n",
       "      <th>7</th>\n",
       "      <td>Eastern Europe</td>\n",
       "      <td>Europe</td>\n",
       "      <td>123.00</td>\n",
       "      <td>136.00</td>\n",
       "      <td>52.51</td>\n",
       "    </tr>\n",
       "    <tr>\n",
       "      <th>8</th>\n",
       "      <td>Melanesia</td>\n",
       "      <td>Pacific Asia</td>\n",
       "      <td>NaN</td>\n",
       "      <td>2.00</td>\n",
       "      <td>NaN</td>\n",
       "    </tr>\n",
       "    <tr>\n",
       "      <th>9</th>\n",
       "      <td>Middle Africa</td>\n",
       "      <td>Africa</td>\n",
       "      <td>66.00</td>\n",
       "      <td>84.00</td>\n",
       "      <td>56.00</td>\n",
       "    </tr>\n",
       "    <tr>\n",
       "      <th>10</th>\n",
       "      <td>Northern Africa</td>\n",
       "      <td>Africa</td>\n",
       "      <td>154.00</td>\n",
       "      <td>183.00</td>\n",
       "      <td>54.30</td>\n",
       "    </tr>\n",
       "    <tr>\n",
       "      <th>11</th>\n",
       "      <td>Northern America</td>\n",
       "      <td>USCA</td>\n",
       "      <td>59.00</td>\n",
       "      <td>47.00</td>\n",
       "      <td>44.34</td>\n",
       "    </tr>\n",
       "    <tr>\n",
       "      <th>12</th>\n",
       "      <td>Northern Europe</td>\n",
       "      <td>Europe</td>\n",
       "      <td>1880.00</td>\n",
       "      <td>2344.00</td>\n",
       "      <td>55.49</td>\n",
       "    </tr>\n",
       "    <tr>\n",
       "      <th>13</th>\n",
       "      <td>South America</td>\n",
       "      <td>LATAM</td>\n",
       "      <td>2980.00</td>\n",
       "      <td>3991.00</td>\n",
       "      <td>57.25</td>\n",
       "    </tr>\n",
       "    <tr>\n",
       "      <th>14</th>\n",
       "      <td>Southeastern Asia</td>\n",
       "      <td>Pacific Asia</td>\n",
       "      <td>437.00</td>\n",
       "      <td>608.00</td>\n",
       "      <td>58.18</td>\n",
       "    </tr>\n",
       "    <tr>\n",
       "      <th>15</th>\n",
       "      <td>Southern Africa</td>\n",
       "      <td>Africa</td>\n",
       "      <td>44.00</td>\n",
       "      <td>59.00</td>\n",
       "      <td>57.28</td>\n",
       "    </tr>\n",
       "    <tr>\n",
       "      <th>16</th>\n",
       "      <td>Southern Asia</td>\n",
       "      <td>Pacific Asia</td>\n",
       "      <td>340.00</td>\n",
       "      <td>451.00</td>\n",
       "      <td>57.02</td>\n",
       "    </tr>\n",
       "    <tr>\n",
       "      <th>17</th>\n",
       "      <td>Southern Europe</td>\n",
       "      <td>Europe</td>\n",
       "      <td>1697.00</td>\n",
       "      <td>2329.00</td>\n",
       "      <td>57.85</td>\n",
       "    </tr>\n",
       "    <tr>\n",
       "      <th>18</th>\n",
       "      <td>Western Africa</td>\n",
       "      <td>Africa</td>\n",
       "      <td>220.00</td>\n",
       "      <td>199.00</td>\n",
       "      <td>47.49</td>\n",
       "    </tr>\n",
       "    <tr>\n",
       "      <th>19</th>\n",
       "      <td>Western Asia</td>\n",
       "      <td>Pacific Asia</td>\n",
       "      <td>316.00</td>\n",
       "      <td>447.00</td>\n",
       "      <td>58.58</td>\n",
       "    </tr>\n",
       "    <tr>\n",
       "      <th>20</th>\n",
       "      <td>Western Europe</td>\n",
       "      <td>Europe</td>\n",
       "      <td>4940.00</td>\n",
       "      <td>6846.00</td>\n",
       "      <td>58.09</td>\n",
       "    </tr>\n",
       "  </tbody>\n",
       "</table>\n",
       "</div>"
      ],
      "text/plain": [
       "late_delivery_risk                    order_region        market       0  \\\n",
       "0                   Asiatic Russia/European Russia        Europe   62.00   \n",
       "1                            Australia/New Zealand  Pacific Asia  366.00   \n",
       "2                                        Caribbean         LATAM 1782.00   \n",
       "3                                  Central America         LATAM 5936.00   \n",
       "4                                     Central Asia  Pacific Asia   23.00   \n",
       "5                                   Eastern Africa        Africa   98.00   \n",
       "6                                     Eastern Asia  Pacific Asia  361.00   \n",
       "7                                   Eastern Europe        Europe  123.00   \n",
       "8                                        Melanesia  Pacific Asia     NaN   \n",
       "9                                    Middle Africa        Africa   66.00   \n",
       "10                                 Northern Africa        Africa  154.00   \n",
       "11                                Northern America          USCA   59.00   \n",
       "12                                 Northern Europe        Europe 1880.00   \n",
       "13                                   South America         LATAM 2980.00   \n",
       "14                               Southeastern Asia  Pacific Asia  437.00   \n",
       "15                                 Southern Africa        Africa   44.00   \n",
       "16                                   Southern Asia  Pacific Asia  340.00   \n",
       "17                                 Southern Europe        Europe 1697.00   \n",
       "18                                  Western Africa        Africa  220.00   \n",
       "19                                    Western Asia  Pacific Asia  316.00   \n",
       "20                                  Western Europe        Europe 4940.00   \n",
       "\n",
       "late_delivery_risk       1  late_delivery_rate  \n",
       "0                   131.00               67.88  \n",
       "1                   475.00               56.48  \n",
       "2                  2131.00               54.46  \n",
       "3                  7875.00               57.02  \n",
       "4                    48.00               67.61  \n",
       "5                   107.00               52.20  \n",
       "6                   471.00               56.61  \n",
       "7                   136.00               52.51  \n",
       "8                     2.00                 NaN  \n",
       "9                    84.00               56.00  \n",
       "10                  183.00               54.30  \n",
       "11                   47.00               44.34  \n",
       "12                 2344.00               55.49  \n",
       "13                 3991.00               57.25  \n",
       "14                  608.00               58.18  \n",
       "15                   59.00               57.28  \n",
       "16                  451.00               57.02  \n",
       "17                 2329.00               57.85  \n",
       "18                  199.00               47.49  \n",
       "19                  447.00               58.58  \n",
       "20                 6846.00               58.09  "
      ]
     },
     "execution_count": 69,
     "metadata": {},
     "output_type": "execute_result"
    }
   ],
   "source": [
    "late_delivery_data = df_2017.groupby(['order_region', 'market', 'late_delivery_risk']).size().unstack().reset_index()\n",
    "late_delivery_data['late_delivery_rate'] = (late_delivery_data[1] / (late_delivery_data[0] + late_delivery_data[1])) * 100\n",
    "late_delivery_data"
   ]
  },
  {
   "cell_type": "code",
   "execution_count": 70,
   "metadata": {},
   "outputs": [
    {
     "data": {
      "text/html": [
       "<div>\n",
       "<style scoped>\n",
       "    .dataframe tbody tr th:only-of-type {\n",
       "        vertical-align: middle;\n",
       "    }\n",
       "\n",
       "    .dataframe tbody tr th {\n",
       "        vertical-align: top;\n",
       "    }\n",
       "\n",
       "    .dataframe thead th {\n",
       "        text-align: right;\n",
       "    }\n",
       "</style>\n",
       "<table border=\"1\" class=\"dataframe\">\n",
       "  <thead>\n",
       "    <tr style=\"text-align: right;\">\n",
       "      <th></th>\n",
       "      <th>order_region</th>\n",
       "      <th>shipping_mode</th>\n",
       "      <th>order_status</th>\n",
       "    </tr>\n",
       "  </thead>\n",
       "  <tbody>\n",
       "    <tr>\n",
       "      <th>0</th>\n",
       "      <td>Asiatic Russia/European Russia</td>\n",
       "      <td>First Class</td>\n",
       "      <td>37</td>\n",
       "    </tr>\n",
       "    <tr>\n",
       "      <th>1</th>\n",
       "      <td>Asiatic Russia/European Russia</td>\n",
       "      <td>Same Day</td>\n",
       "      <td>3</td>\n",
       "    </tr>\n",
       "    <tr>\n",
       "      <th>2</th>\n",
       "      <td>Asiatic Russia/European Russia</td>\n",
       "      <td>Second Class</td>\n",
       "      <td>79</td>\n",
       "    </tr>\n",
       "    <tr>\n",
       "      <th>3</th>\n",
       "      <td>Asiatic Russia/European Russia</td>\n",
       "      <td>Standard Class</td>\n",
       "      <td>74</td>\n",
       "    </tr>\n",
       "    <tr>\n",
       "      <th>4</th>\n",
       "      <td>Australia/New Zealand</td>\n",
       "      <td>First Class</td>\n",
       "      <td>123</td>\n",
       "    </tr>\n",
       "    <tr>\n",
       "      <th>...</th>\n",
       "      <td>...</td>\n",
       "      <td>...</td>\n",
       "      <td>...</td>\n",
       "    </tr>\n",
       "    <tr>\n",
       "      <th>77</th>\n",
       "      <td>Western Asia</td>\n",
       "      <td>Standard Class</td>\n",
       "      <td>453</td>\n",
       "    </tr>\n",
       "    <tr>\n",
       "      <th>78</th>\n",
       "      <td>Western Europe</td>\n",
       "      <td>First Class</td>\n",
       "      <td>1855</td>\n",
       "    </tr>\n",
       "    <tr>\n",
       "      <th>79</th>\n",
       "      <td>Western Europe</td>\n",
       "      <td>Same Day</td>\n",
       "      <td>658</td>\n",
       "    </tr>\n",
       "    <tr>\n",
       "      <th>80</th>\n",
       "      <td>Western Europe</td>\n",
       "      <td>Second Class</td>\n",
       "      <td>2352</td>\n",
       "    </tr>\n",
       "    <tr>\n",
       "      <th>81</th>\n",
       "      <td>Western Europe</td>\n",
       "      <td>Standard Class</td>\n",
       "      <td>6921</td>\n",
       "    </tr>\n",
       "  </tbody>\n",
       "</table>\n",
       "<p>82 rows × 3 columns</p>\n",
       "</div>"
      ],
      "text/plain": [
       "                      order_region   shipping_mode  order_status\n",
       "0   Asiatic Russia/European Russia     First Class            37\n",
       "1   Asiatic Russia/European Russia        Same Day             3\n",
       "2   Asiatic Russia/European Russia    Second Class            79\n",
       "3   Asiatic Russia/European Russia  Standard Class            74\n",
       "4            Australia/New Zealand     First Class           123\n",
       "..                             ...             ...           ...\n",
       "77                    Western Asia  Standard Class           453\n",
       "78                  Western Europe     First Class          1855\n",
       "79                  Western Europe        Same Day           658\n",
       "80                  Western Europe    Second Class          2352\n",
       "81                  Western Europe  Standard Class          6921\n",
       "\n",
       "[82 rows x 3 columns]"
      ]
     },
     "execution_count": 70,
     "metadata": {},
     "output_type": "execute_result"
    }
   ],
   "source": [
    "# Calculate the count of orders for each shipping mode by region\n",
    "shipping_mode_distribution = df_2017.groupby(['order_region', 'shipping_mode'])['order_status'].count().reset_index()\n",
    "shipping_mode_distribution"
   ]
  },
  {
   "cell_type": "code",
   "execution_count": 71,
   "metadata": {},
   "outputs": [
    {
     "data": {
      "text/html": [
       "<div>\n",
       "<style scoped>\n",
       "    .dataframe tbody tr th:only-of-type {\n",
       "        vertical-align: middle;\n",
       "    }\n",
       "\n",
       "    .dataframe tbody tr th {\n",
       "        vertical-align: top;\n",
       "    }\n",
       "\n",
       "    .dataframe thead th {\n",
       "        text-align: right;\n",
       "    }\n",
       "</style>\n",
       "<table border=\"1\" class=\"dataframe\">\n",
       "  <thead>\n",
       "    <tr style=\"text-align: right;\">\n",
       "      <th></th>\n",
       "      <th>market</th>\n",
       "      <th>order_region</th>\n",
       "      <th>order_profit_per_order</th>\n",
       "    </tr>\n",
       "  </thead>\n",
       "  <tbody>\n",
       "    <tr>\n",
       "      <th>16</th>\n",
       "      <td>Pacific Asia</td>\n",
       "      <td>Melanesia</td>\n",
       "      <td>50.61</td>\n",
       "    </tr>\n",
       "    <tr>\n",
       "      <th>17</th>\n",
       "      <td>Pacific Asia</td>\n",
       "      <td>Southeastern Asia</td>\n",
       "      <td>40.24</td>\n",
       "    </tr>\n",
       "    <tr>\n",
       "      <th>15</th>\n",
       "      <td>Pacific Asia</td>\n",
       "      <td>Eastern Asia</td>\n",
       "      <td>36.92</td>\n",
       "    </tr>\n",
       "    <tr>\n",
       "      <th>20</th>\n",
       "      <td>USCA</td>\n",
       "      <td>Northern America</td>\n",
       "      <td>33.63</td>\n",
       "    </tr>\n",
       "    <tr>\n",
       "      <th>18</th>\n",
       "      <td>Pacific Asia</td>\n",
       "      <td>Southern Asia</td>\n",
       "      <td>31.04</td>\n",
       "    </tr>\n",
       "    <tr>\n",
       "      <th>2</th>\n",
       "      <td>Africa</td>\n",
       "      <td>Northern Africa</td>\n",
       "      <td>27.89</td>\n",
       "    </tr>\n",
       "    <tr>\n",
       "      <th>9</th>\n",
       "      <td>Europe</td>\n",
       "      <td>Western Europe</td>\n",
       "      <td>26.96</td>\n",
       "    </tr>\n",
       "    <tr>\n",
       "      <th>7</th>\n",
       "      <td>Europe</td>\n",
       "      <td>Northern Europe</td>\n",
       "      <td>26.58</td>\n",
       "    </tr>\n",
       "    <tr>\n",
       "      <th>4</th>\n",
       "      <td>Africa</td>\n",
       "      <td>Western Africa</td>\n",
       "      <td>25.66</td>\n",
       "    </tr>\n",
       "    <tr>\n",
       "      <th>8</th>\n",
       "      <td>Europe</td>\n",
       "      <td>Southern Europe</td>\n",
       "      <td>24.94</td>\n",
       "    </tr>\n",
       "    <tr>\n",
       "      <th>5</th>\n",
       "      <td>Europe</td>\n",
       "      <td>Asiatic Russia/European Russia</td>\n",
       "      <td>24.11</td>\n",
       "    </tr>\n",
       "    <tr>\n",
       "      <th>12</th>\n",
       "      <td>LATAM</td>\n",
       "      <td>South America</td>\n",
       "      <td>22.69</td>\n",
       "    </tr>\n",
       "    <tr>\n",
       "      <th>11</th>\n",
       "      <td>LATAM</td>\n",
       "      <td>Central America</td>\n",
       "      <td>22.46</td>\n",
       "    </tr>\n",
       "    <tr>\n",
       "      <th>10</th>\n",
       "      <td>LATAM</td>\n",
       "      <td>Caribbean</td>\n",
       "      <td>22.07</td>\n",
       "    </tr>\n",
       "    <tr>\n",
       "      <th>3</th>\n",
       "      <td>Africa</td>\n",
       "      <td>Southern Africa</td>\n",
       "      <td>21.97</td>\n",
       "    </tr>\n",
       "    <tr>\n",
       "      <th>13</th>\n",
       "      <td>Pacific Asia</td>\n",
       "      <td>Australia/New Zealand</td>\n",
       "      <td>21.63</td>\n",
       "    </tr>\n",
       "    <tr>\n",
       "      <th>19</th>\n",
       "      <td>Pacific Asia</td>\n",
       "      <td>Western Asia</td>\n",
       "      <td>21.30</td>\n",
       "    </tr>\n",
       "    <tr>\n",
       "      <th>6</th>\n",
       "      <td>Europe</td>\n",
       "      <td>Eastern Europe</td>\n",
       "      <td>21.21</td>\n",
       "    </tr>\n",
       "    <tr>\n",
       "      <th>0</th>\n",
       "      <td>Africa</td>\n",
       "      <td>Eastern Africa</td>\n",
       "      <td>19.60</td>\n",
       "    </tr>\n",
       "    <tr>\n",
       "      <th>1</th>\n",
       "      <td>Africa</td>\n",
       "      <td>Middle Africa</td>\n",
       "      <td>17.29</td>\n",
       "    </tr>\n",
       "    <tr>\n",
       "      <th>14</th>\n",
       "      <td>Pacific Asia</td>\n",
       "      <td>Central Asia</td>\n",
       "      <td>6.08</td>\n",
       "    </tr>\n",
       "  </tbody>\n",
       "</table>\n",
       "</div>"
      ],
      "text/plain": [
       "          market                    order_region  order_profit_per_order\n",
       "16  Pacific Asia                       Melanesia                   50.61\n",
       "17  Pacific Asia               Southeastern Asia                   40.24\n",
       "15  Pacific Asia                    Eastern Asia                   36.92\n",
       "20          USCA                Northern America                   33.63\n",
       "18  Pacific Asia                   Southern Asia                   31.04\n",
       "2         Africa                 Northern Africa                   27.89\n",
       "9         Europe                  Western Europe                   26.96\n",
       "7         Europe                 Northern Europe                   26.58\n",
       "4         Africa                  Western Africa                   25.66\n",
       "8         Europe                 Southern Europe                   24.94\n",
       "5         Europe  Asiatic Russia/European Russia                   24.11\n",
       "12         LATAM                   South America                   22.69\n",
       "11         LATAM                 Central America                   22.46\n",
       "10         LATAM                       Caribbean                   22.07\n",
       "3         Africa                 Southern Africa                   21.97\n",
       "13  Pacific Asia           Australia/New Zealand                   21.63\n",
       "19  Pacific Asia                    Western Asia                   21.30\n",
       "6         Europe                  Eastern Europe                   21.21\n",
       "0         Africa                  Eastern Africa                   19.60\n",
       "1         Africa                   Middle Africa                   17.29\n",
       "14  Pacific Asia                    Central Asia                    6.08"
      ]
     },
     "execution_count": 71,
     "metadata": {},
     "output_type": "execute_result"
    }
   ],
   "source": [
    "# Calculate the average order profit by region\n",
    "avg_order_profit = df_2017.groupby(['market', 'order_region'])['order_profit_per_order'].mean().reset_index()\n",
    "avg_order_profit = avg_order_profit.sort_values('order_profit_per_order', ascending=False)\n",
    "avg_order_profit"
   ]
  },
  {
   "cell_type": "code",
   "execution_count": 72,
   "metadata": {},
   "outputs": [
    {
     "data": {
      "application/vnd.plotly.v1+json": {
       "config": {
        "plotlyServerURL": "https://plot.ly"
       },
       "data": [
        {
         "marker": {
          "color": "rgb(104, 204, 104)"
         },
         "text": [
          50.61,
          40.24,
          36.92,
          33.63,
          31.04,
          27.89,
          26.96,
          26.58,
          25.66,
          24.94,
          24.11,
          22.69,
          22.46,
          22.07,
          21.97,
          21.63,
          21.3,
          21.21,
          19.6,
          17.29,
          6.08
         ],
         "textfont": {
          "size": 10
         },
         "textposition": "outside",
         "texttemplate": "%{text:.2f}",
         "type": "bar",
         "x": [
          "Melanesia",
          "Southeastern Asia",
          "Eastern Asia",
          "Northern America",
          "Southern Asia",
          "Northern Africa",
          "Western Europe",
          "Northern Europe",
          "Western Africa",
          "Southern Europe",
          "Asiatic Russia/European Russia",
          "South America",
          "Central America",
          "Caribbean",
          "Southern Africa",
          "Australia/New Zealand",
          "Western Asia",
          "Eastern Europe",
          "Eastern Africa",
          "Middle Africa",
          "Central Asia"
         ],
         "y": [
          50.61499977,
          40.24152149750813,
          36.91544468009976,
          33.6339621629151,
          31.035676302197217,
          27.885222342635014,
          26.96262514535992,
          26.581467866257103,
          25.660811519343675,
          24.93830103259116,
          24.11233204537824,
          22.694405424494906,
          22.457827127209328,
          22.067462370554562,
          21.97456320093204,
          21.62743161045422,
          21.29646141576671,
          21.206563682447875,
          19.603170858965854,
          17.294933166453333,
          6.08309884930986
         ]
        }
       ],
       "layout": {
        "template": {
         "data": {
          "bar": [
           {
            "error_x": {
             "color": "#2a3f5f"
            },
            "error_y": {
             "color": "#2a3f5f"
            },
            "marker": {
             "line": {
              "color": "#E5ECF6",
              "width": 0.5
             },
             "pattern": {
              "fillmode": "overlay",
              "size": 10,
              "solidity": 0.2
             }
            },
            "type": "bar"
           }
          ],
          "barpolar": [
           {
            "marker": {
             "line": {
              "color": "#E5ECF6",
              "width": 0.5
             },
             "pattern": {
              "fillmode": "overlay",
              "size": 10,
              "solidity": 0.2
             }
            },
            "type": "barpolar"
           }
          ],
          "carpet": [
           {
            "aaxis": {
             "endlinecolor": "#2a3f5f",
             "gridcolor": "white",
             "linecolor": "white",
             "minorgridcolor": "white",
             "startlinecolor": "#2a3f5f"
            },
            "baxis": {
             "endlinecolor": "#2a3f5f",
             "gridcolor": "white",
             "linecolor": "white",
             "minorgridcolor": "white",
             "startlinecolor": "#2a3f5f"
            },
            "type": "carpet"
           }
          ],
          "choropleth": [
           {
            "colorbar": {
             "outlinewidth": 0,
             "ticks": ""
            },
            "type": "choropleth"
           }
          ],
          "contour": [
           {
            "colorbar": {
             "outlinewidth": 0,
             "ticks": ""
            },
            "colorscale": [
             [
              0,
              "#0d0887"
             ],
             [
              0.1111111111111111,
              "#46039f"
             ],
             [
              0.2222222222222222,
              "#7201a8"
             ],
             [
              0.3333333333333333,
              "#9c179e"
             ],
             [
              0.4444444444444444,
              "#bd3786"
             ],
             [
              0.5555555555555556,
              "#d8576b"
             ],
             [
              0.6666666666666666,
              "#ed7953"
             ],
             [
              0.7777777777777778,
              "#fb9f3a"
             ],
             [
              0.8888888888888888,
              "#fdca26"
             ],
             [
              1,
              "#f0f921"
             ]
            ],
            "type": "contour"
           }
          ],
          "contourcarpet": [
           {
            "colorbar": {
             "outlinewidth": 0,
             "ticks": ""
            },
            "type": "contourcarpet"
           }
          ],
          "heatmap": [
           {
            "colorbar": {
             "outlinewidth": 0,
             "ticks": ""
            },
            "colorscale": [
             [
              0,
              "#0d0887"
             ],
             [
              0.1111111111111111,
              "#46039f"
             ],
             [
              0.2222222222222222,
              "#7201a8"
             ],
             [
              0.3333333333333333,
              "#9c179e"
             ],
             [
              0.4444444444444444,
              "#bd3786"
             ],
             [
              0.5555555555555556,
              "#d8576b"
             ],
             [
              0.6666666666666666,
              "#ed7953"
             ],
             [
              0.7777777777777778,
              "#fb9f3a"
             ],
             [
              0.8888888888888888,
              "#fdca26"
             ],
             [
              1,
              "#f0f921"
             ]
            ],
            "type": "heatmap"
           }
          ],
          "heatmapgl": [
           {
            "colorbar": {
             "outlinewidth": 0,
             "ticks": ""
            },
            "colorscale": [
             [
              0,
              "#0d0887"
             ],
             [
              0.1111111111111111,
              "#46039f"
             ],
             [
              0.2222222222222222,
              "#7201a8"
             ],
             [
              0.3333333333333333,
              "#9c179e"
             ],
             [
              0.4444444444444444,
              "#bd3786"
             ],
             [
              0.5555555555555556,
              "#d8576b"
             ],
             [
              0.6666666666666666,
              "#ed7953"
             ],
             [
              0.7777777777777778,
              "#fb9f3a"
             ],
             [
              0.8888888888888888,
              "#fdca26"
             ],
             [
              1,
              "#f0f921"
             ]
            ],
            "type": "heatmapgl"
           }
          ],
          "histogram": [
           {
            "marker": {
             "pattern": {
              "fillmode": "overlay",
              "size": 10,
              "solidity": 0.2
             }
            },
            "type": "histogram"
           }
          ],
          "histogram2d": [
           {
            "colorbar": {
             "outlinewidth": 0,
             "ticks": ""
            },
            "colorscale": [
             [
              0,
              "#0d0887"
             ],
             [
              0.1111111111111111,
              "#46039f"
             ],
             [
              0.2222222222222222,
              "#7201a8"
             ],
             [
              0.3333333333333333,
              "#9c179e"
             ],
             [
              0.4444444444444444,
              "#bd3786"
             ],
             [
              0.5555555555555556,
              "#d8576b"
             ],
             [
              0.6666666666666666,
              "#ed7953"
             ],
             [
              0.7777777777777778,
              "#fb9f3a"
             ],
             [
              0.8888888888888888,
              "#fdca26"
             ],
             [
              1,
              "#f0f921"
             ]
            ],
            "type": "histogram2d"
           }
          ],
          "histogram2dcontour": [
           {
            "colorbar": {
             "outlinewidth": 0,
             "ticks": ""
            },
            "colorscale": [
             [
              0,
              "#0d0887"
             ],
             [
              0.1111111111111111,
              "#46039f"
             ],
             [
              0.2222222222222222,
              "#7201a8"
             ],
             [
              0.3333333333333333,
              "#9c179e"
             ],
             [
              0.4444444444444444,
              "#bd3786"
             ],
             [
              0.5555555555555556,
              "#d8576b"
             ],
             [
              0.6666666666666666,
              "#ed7953"
             ],
             [
              0.7777777777777778,
              "#fb9f3a"
             ],
             [
              0.8888888888888888,
              "#fdca26"
             ],
             [
              1,
              "#f0f921"
             ]
            ],
            "type": "histogram2dcontour"
           }
          ],
          "mesh3d": [
           {
            "colorbar": {
             "outlinewidth": 0,
             "ticks": ""
            },
            "type": "mesh3d"
           }
          ],
          "parcoords": [
           {
            "line": {
             "colorbar": {
              "outlinewidth": 0,
              "ticks": ""
             }
            },
            "type": "parcoords"
           }
          ],
          "pie": [
           {
            "automargin": true,
            "type": "pie"
           }
          ],
          "scatter": [
           {
            "fillpattern": {
             "fillmode": "overlay",
             "size": 10,
             "solidity": 0.2
            },
            "type": "scatter"
           }
          ],
          "scatter3d": [
           {
            "line": {
             "colorbar": {
              "outlinewidth": 0,
              "ticks": ""
             }
            },
            "marker": {
             "colorbar": {
              "outlinewidth": 0,
              "ticks": ""
             }
            },
            "type": "scatter3d"
           }
          ],
          "scattercarpet": [
           {
            "marker": {
             "colorbar": {
              "outlinewidth": 0,
              "ticks": ""
             }
            },
            "type": "scattercarpet"
           }
          ],
          "scattergeo": [
           {
            "marker": {
             "colorbar": {
              "outlinewidth": 0,
              "ticks": ""
             }
            },
            "type": "scattergeo"
           }
          ],
          "scattergl": [
           {
            "marker": {
             "colorbar": {
              "outlinewidth": 0,
              "ticks": ""
             }
            },
            "type": "scattergl"
           }
          ],
          "scattermapbox": [
           {
            "marker": {
             "colorbar": {
              "outlinewidth": 0,
              "ticks": ""
             }
            },
            "type": "scattermapbox"
           }
          ],
          "scatterpolar": [
           {
            "marker": {
             "colorbar": {
              "outlinewidth": 0,
              "ticks": ""
             }
            },
            "type": "scatterpolar"
           }
          ],
          "scatterpolargl": [
           {
            "marker": {
             "colorbar": {
              "outlinewidth": 0,
              "ticks": ""
             }
            },
            "type": "scatterpolargl"
           }
          ],
          "scatterternary": [
           {
            "marker": {
             "colorbar": {
              "outlinewidth": 0,
              "ticks": ""
             }
            },
            "type": "scatterternary"
           }
          ],
          "surface": [
           {
            "colorbar": {
             "outlinewidth": 0,
             "ticks": ""
            },
            "colorscale": [
             [
              0,
              "#0d0887"
             ],
             [
              0.1111111111111111,
              "#46039f"
             ],
             [
              0.2222222222222222,
              "#7201a8"
             ],
             [
              0.3333333333333333,
              "#9c179e"
             ],
             [
              0.4444444444444444,
              "#bd3786"
             ],
             [
              0.5555555555555556,
              "#d8576b"
             ],
             [
              0.6666666666666666,
              "#ed7953"
             ],
             [
              0.7777777777777778,
              "#fb9f3a"
             ],
             [
              0.8888888888888888,
              "#fdca26"
             ],
             [
              1,
              "#f0f921"
             ]
            ],
            "type": "surface"
           }
          ],
          "table": [
           {
            "cells": {
             "fill": {
              "color": "#EBF0F8"
             },
             "line": {
              "color": "white"
             }
            },
            "header": {
             "fill": {
              "color": "#C8D4E3"
             },
             "line": {
              "color": "white"
             }
            },
            "type": "table"
           }
          ]
         },
         "layout": {
          "annotationdefaults": {
           "arrowcolor": "#2a3f5f",
           "arrowhead": 0,
           "arrowwidth": 1
          },
          "autotypenumbers": "strict",
          "coloraxis": {
           "colorbar": {
            "outlinewidth": 0,
            "ticks": ""
           }
          },
          "colorscale": {
           "diverging": [
            [
             0,
             "#8e0152"
            ],
            [
             0.1,
             "#c51b7d"
            ],
            [
             0.2,
             "#de77ae"
            ],
            [
             0.3,
             "#f1b6da"
            ],
            [
             0.4,
             "#fde0ef"
            ],
            [
             0.5,
             "#f7f7f7"
            ],
            [
             0.6,
             "#e6f5d0"
            ],
            [
             0.7,
             "#b8e186"
            ],
            [
             0.8,
             "#7fbc41"
            ],
            [
             0.9,
             "#4d9221"
            ],
            [
             1,
             "#276419"
            ]
           ],
           "sequential": [
            [
             0,
             "#0d0887"
            ],
            [
             0.1111111111111111,
             "#46039f"
            ],
            [
             0.2222222222222222,
             "#7201a8"
            ],
            [
             0.3333333333333333,
             "#9c179e"
            ],
            [
             0.4444444444444444,
             "#bd3786"
            ],
            [
             0.5555555555555556,
             "#d8576b"
            ],
            [
             0.6666666666666666,
             "#ed7953"
            ],
            [
             0.7777777777777778,
             "#fb9f3a"
            ],
            [
             0.8888888888888888,
             "#fdca26"
            ],
            [
             1,
             "#f0f921"
            ]
           ],
           "sequentialminus": [
            [
             0,
             "#0d0887"
            ],
            [
             0.1111111111111111,
             "#46039f"
            ],
            [
             0.2222222222222222,
             "#7201a8"
            ],
            [
             0.3333333333333333,
             "#9c179e"
            ],
            [
             0.4444444444444444,
             "#bd3786"
            ],
            [
             0.5555555555555556,
             "#d8576b"
            ],
            [
             0.6666666666666666,
             "#ed7953"
            ],
            [
             0.7777777777777778,
             "#fb9f3a"
            ],
            [
             0.8888888888888888,
             "#fdca26"
            ],
            [
             1,
             "#f0f921"
            ]
           ]
          },
          "colorway": [
           "#636efa",
           "#EF553B",
           "#00cc96",
           "#ab63fa",
           "#FFA15A",
           "#19d3f3",
           "#FF6692",
           "#B6E880",
           "#FF97FF",
           "#FECB52"
          ],
          "font": {
           "color": "#2a3f5f"
          },
          "geo": {
           "bgcolor": "white",
           "lakecolor": "white",
           "landcolor": "#E5ECF6",
           "showlakes": true,
           "showland": true,
           "subunitcolor": "white"
          },
          "hoverlabel": {
           "align": "left"
          },
          "hovermode": "closest",
          "mapbox": {
           "style": "light"
          },
          "paper_bgcolor": "white",
          "plot_bgcolor": "#E5ECF6",
          "polar": {
           "angularaxis": {
            "gridcolor": "white",
            "linecolor": "white",
            "ticks": ""
           },
           "bgcolor": "#E5ECF6",
           "radialaxis": {
            "gridcolor": "white",
            "linecolor": "white",
            "ticks": ""
           }
          },
          "scene": {
           "xaxis": {
            "backgroundcolor": "#E5ECF6",
            "gridcolor": "white",
            "gridwidth": 2,
            "linecolor": "white",
            "showbackground": true,
            "ticks": "",
            "zerolinecolor": "white"
           },
           "yaxis": {
            "backgroundcolor": "#E5ECF6",
            "gridcolor": "white",
            "gridwidth": 2,
            "linecolor": "white",
            "showbackground": true,
            "ticks": "",
            "zerolinecolor": "white"
           },
           "zaxis": {
            "backgroundcolor": "#E5ECF6",
            "gridcolor": "white",
            "gridwidth": 2,
            "linecolor": "white",
            "showbackground": true,
            "ticks": "",
            "zerolinecolor": "white"
           }
          },
          "shapedefaults": {
           "line": {
            "color": "#2a3f5f"
           }
          },
          "ternary": {
           "aaxis": {
            "gridcolor": "white",
            "linecolor": "white",
            "ticks": ""
           },
           "baxis": {
            "gridcolor": "white",
            "linecolor": "white",
            "ticks": ""
           },
           "bgcolor": "#E5ECF6",
           "caxis": {
            "gridcolor": "white",
            "linecolor": "white",
            "ticks": ""
           }
          },
          "title": {
           "x": 0.05
          },
          "xaxis": {
           "automargin": true,
           "gridcolor": "white",
           "linecolor": "white",
           "ticks": "",
           "title": {
            "standoff": 15
           },
           "zerolinecolor": "white",
           "zerolinewidth": 2
          },
          "yaxis": {
           "automargin": true,
           "gridcolor": "white",
           "linecolor": "white",
           "ticks": "",
           "title": {
            "standoff": 15
           },
           "zerolinecolor": "white",
           "zerolinewidth": 2
          }
         }
        },
        "title": {
         "text": "Average Order Profit by Region"
        },
        "xaxis": {
         "tickangle": -45,
         "title": {
          "text": "Region"
         }
        },
        "yaxis": {
         "tickprefix": "$",
         "title": {
          "text": "Average Order Profit"
         }
        }
       }
      }
     },
     "metadata": {},
     "output_type": "display_data"
    }
   ],
   "source": [
    "# # Calculate the average order profit by region\n",
    "# avg_order_profit = df_2017.groupby('order_region')['order_profit_per_order'].mean().reset_index()\n",
    "# avg_order_profit = avg_order_profit.sort_values('order_profit_per_order', ascending=False)\n",
    "\n",
    "# Create the bar chart using Plotly\n",
    "fig = go.Figure(go.Bar(x=avg_order_profit['order_region'], y=avg_order_profit['order_profit_per_order'],\n",
    "                       text=avg_order_profit['order_profit_per_order'].round(2),\n",
    "                       textposition='outside', marker_color='rgb(104, 204, 104)'))\n",
    "\n",
    "# Customize the chart appearance\n",
    "fig.update_layout(title='Average Order Profit by Region',\n",
    "                  xaxis_title='Region',\n",
    "                  yaxis_title='Average Order Profit',\n",
    "                  xaxis_tickangle=-45)\n",
    "\n",
    "fig.update_traces(texttemplate='%{text:.2f}', textfont=dict(size=10))\n",
    "\n",
    "fig.update_yaxes(tickprefix=\"$\")\n",
    "\n",
    "# Display the chart\n",
    "fig.show()"
   ]
  },
  {
   "cell_type": "code",
   "execution_count": 73,
   "metadata": {},
   "outputs": [],
   "source": [
    "def get_shipping_relationship(dataframe):\n",
    "        # Calculate the average days for shipping (actual vs. scheduled) and average sales by region\n",
    "        avg_days_sales = df_2017.groupby('order_region').agg({'days_for_shipping_real': 'mean',\n",
    "                                                        'days_for_shipment_scheduled': 'mean',\n",
    "                                                        'sales': 'mean'}).reset_index()\n",
    "\n",
    "        # Create the scatter plot using Plotly\n",
    "        fig = px.scatter(avg_days_sales, x='days_for_shipping_real', y='days_for_shipment_scheduled',\n",
    "                        size='sales', color='order_region', hover_name='order_region',\n",
    "                        labels={'days_for_shipping_real': 'Average Days for Shipping (Actual)',\n",
    "                                'days_for_shipment_scheduled': 'Average Days for Shipping (Scheduled)',\n",
    "                                'sales': 'Average Sales'})\n",
    "\n",
    "        # Customize the chart appearance\n",
    "        fig.update_layout(title={'text': 'Relationship between Average Days for Shipping (Actual vs. Scheduled)<br>and<br>Average Sales by Region</br>',\n",
    "                                'font': {'size': 13},\n",
    "                                'x': 0.5,\n",
    "                                'xanchor': 'center'},\n",
    "                        height=400,\n",
    "                        width=600,\n",
    "                        template=\"plotly_dark\",\n",
    "                        showlegend=True,\n",
    "                        margin=dict(l=0, r=0, t=80, b=0),\n",
    "                        plot_bgcolor='rgba(0, 0, 0, 0)',\n",
    "                        paper_bgcolor='rgba(0, 0, 0, 0)')\n",
    "\n",
    "        fig.update_xaxes(title_font=dict(size=11))\n",
    "        fig.update_yaxes(title_font=dict(size=11))\n",
    "\n",
    "        fig.update_traces(hovertemplate='<b>%{hovertext}</b><br>Average Days for Shipping (Actual): %{x:.2f}<br>Average Days for Shipping (Scheduled): %{y:.2f}<br>Average Sales: $%{marker.size:.2f}')\n",
    "\n",
    "        fig.update_layout(legend_title_text='Region', legend=dict(font=dict(size=11)))\n",
    "\n",
    "        # Display the chart\n",
    "        return fig"
   ]
  },
  {
   "cell_type": "code",
   "execution_count": 74,
   "metadata": {},
   "outputs": [
    {
     "data": {
      "application/vnd.plotly.v1+json": {
       "config": {
        "plotlyServerURL": "https://plot.ly"
       },
       "data": [
        {
         "hovertemplate": "<b>%{hovertext}</b><br>Average Days for Shipping (Actual): %{x:.2f}<br>Average Days for Shipping (Scheduled): %{y:.2f}<br>Average Sales: $%{marker.size:.2f}",
         "hovertext": [
          "Asiatic Russia/European Russia"
         ],
         "legendgroup": "Asiatic Russia/European Russia",
         "marker": {
          "color": "#636efa",
          "size": [
           202.13140331854925
          ],
          "sizemode": "area",
          "sizeref": 0.7265762749043571,
          "symbol": "circle"
         },
         "mode": "markers",
         "name": "Asiatic Russia/European Russia",
         "orientation": "v",
         "showlegend": true,
         "type": "scatter",
         "x": [
          3.6321243523316062
         ],
         "xaxis": "x",
         "y": [
          2.5440414507772022
         ],
         "yaxis": "y"
        },
        {
         "hovertemplate": "<b>%{hovertext}</b><br>Average Days for Shipping (Actual): %{x:.2f}<br>Average Days for Shipping (Scheduled): %{y:.2f}<br>Average Sales: $%{marker.size:.2f}",
         "hovertext": [
          "Australia/New Zealand"
         ],
         "legendgroup": "Australia/New Zealand",
         "marker": {
          "color": "#EF553B",
          "size": [
           232.83282234607609
          ],
          "sizemode": "area",
          "sizeref": 0.7265762749043571,
          "symbol": "circle"
         },
         "mode": "markers",
         "name": "Australia/New Zealand",
         "orientation": "v",
         "showlegend": true,
         "type": "scatter",
         "x": [
          3.447086801426873
         ],
         "xaxis": "x",
         "y": [
          2.9524375743162903
         ],
         "yaxis": "y"
        },
        {
         "hovertemplate": "<b>%{hovertext}</b><br>Average Days for Shipping (Actual): %{x:.2f}<br>Average Days for Shipping (Scheduled): %{y:.2f}<br>Average Sales: $%{marker.size:.2f}",
         "hovertext": [
          "Caribbean"
         ],
         "legendgroup": "Caribbean",
         "marker": {
          "color": "#00cc96",
          "size": [
           199.69714422549475
          ],
          "sizemode": "area",
          "sizeref": 0.7265762749043571,
          "symbol": "circle"
         },
         "mode": "markers",
         "name": "Caribbean",
         "orientation": "v",
         "showlegend": true,
         "type": "scatter",
         "x": [
          3.488372093023256
         ],
         "xaxis": "x",
         "y": [
          2.9570661896243293
         ],
         "yaxis": "y"
        },
        {
         "hovertemplate": "<b>%{hovertext}</b><br>Average Days for Shipping (Actual): %{x:.2f}<br>Average Days for Shipping (Scheduled): %{y:.2f}<br>Average Sales: $%{marker.size:.2f}",
         "hovertext": [
          "Central America"
         ],
         "legendgroup": "Central America",
         "marker": {
          "color": "#ab63fa",
          "size": [
           202.31735248070464
          ],
          "sizemode": "area",
          "sizeref": 0.7265762749043571,
          "symbol": "circle"
         },
         "mode": "markers",
         "name": "Central America",
         "orientation": "v",
         "showlegend": true,
         "type": "scatter",
         "x": [
          3.5277677213815073
         ],
         "xaxis": "x",
         "y": [
          2.985373977264499
         ],
         "yaxis": "y"
        },
        {
         "hovertemplate": "<b>%{hovertext}</b><br>Average Days for Shipping (Actual): %{x:.2f}<br>Average Days for Shipping (Scheduled): %{y:.2f}<br>Average Sales: $%{marker.size:.2f}",
         "hovertext": [
          "Central Asia"
         ],
         "legendgroup": "Central Asia",
         "marker": {
          "color": "#FFA15A",
          "size": [
           167.699157608169
          ],
          "sizemode": "area",
          "sizeref": 0.7265762749043571,
          "symbol": "circle"
         },
         "mode": "markers",
         "name": "Central Asia",
         "orientation": "v",
         "showlegend": true,
         "type": "scatter",
         "x": [
          3.028169014084507
         ],
         "xaxis": "x",
         "y": [
          2.1690140845070425
         ],
         "yaxis": "y"
        },
        {
         "hovertemplate": "<b>%{hovertext}</b><br>Average Days for Shipping (Actual): %{x:.2f}<br>Average Days for Shipping (Scheduled): %{y:.2f}<br>Average Sales: $%{marker.size:.2f}",
         "hovertext": [
          "Eastern Africa"
         ],
         "legendgroup": "Eastern Africa",
         "marker": {
          "color": "#19d3f3",
          "size": [
           202.35288249312197
          ],
          "sizemode": "area",
          "sizeref": 0.7265762749043571,
          "symbol": "circle"
         },
         "mode": "markers",
         "name": "Eastern Africa",
         "orientation": "v",
         "showlegend": true,
         "type": "scatter",
         "x": [
          3.453658536585366
         ],
         "xaxis": "x",
         "y": [
          2.9414634146341463
         ],
         "yaxis": "y"
        },
        {
         "hovertemplate": "<b>%{hovertext}</b><br>Average Days for Shipping (Actual): %{x:.2f}<br>Average Days for Shipping (Scheduled): %{y:.2f}<br>Average Sales: $%{marker.size:.2f}",
         "hovertext": [
          "Eastern Asia"
         ],
         "legendgroup": "Eastern Asia",
         "marker": {
          "color": "#FF6692",
          "size": [
           290.6305099617428
          ],
          "sizemode": "area",
          "sizeref": 0.7265762749043571,
          "symbol": "circle"
         },
         "mode": "markers",
         "name": "Eastern Asia",
         "orientation": "v",
         "showlegend": true,
         "type": "scatter",
         "x": [
          3.5360576923076925
         ],
         "xaxis": "x",
         "y": [
          2.9579326923076925
         ],
         "yaxis": "y"
        },
        {
         "hovertemplate": "<b>%{hovertext}</b><br>Average Days for Shipping (Actual): %{x:.2f}<br>Average Days for Shipping (Scheduled): %{y:.2f}<br>Average Sales: $%{marker.size:.2f}",
         "hovertext": [
          "Eastern Europe"
         ],
         "legendgroup": "Eastern Europe",
         "marker": {
          "color": "#B6E880",
          "size": [
           201.19359416583012
          ],
          "sizemode": "area",
          "sizeref": 0.7265762749043571,
          "symbol": "circle"
         },
         "mode": "markers",
         "name": "Eastern Europe",
         "orientation": "v",
         "showlegend": true,
         "type": "scatter",
         "x": [
          3.583011583011583
         ],
         "xaxis": "x",
         "y": [
          3.281853281853282
         ],
         "yaxis": "y"
        },
        {
         "hovertemplate": "<b>%{hovertext}</b><br>Average Days for Shipping (Actual): %{x:.2f}<br>Average Days for Shipping (Scheduled): %{y:.2f}<br>Average Sales: $%{marker.size:.2f}",
         "hovertext": [
          "Melanesia"
         ],
         "legendgroup": "Melanesia",
         "marker": {
          "color": "#FF97FF",
          "size": [
           212.51499940000002
          ],
          "sizemode": "area",
          "sizeref": 0.7265762749043571,
          "symbol": "circle"
         },
         "mode": "markers",
         "name": "Melanesia",
         "orientation": "v",
         "showlegend": true,
         "type": "scatter",
         "x": [
          5
         ],
         "xaxis": "x",
         "y": [
          3
         ],
         "yaxis": "y"
        },
        {
         "hovertemplate": "<b>%{hovertext}</b><br>Average Days for Shipping (Actual): %{x:.2f}<br>Average Days for Shipping (Scheduled): %{y:.2f}<br>Average Sales: $%{marker.size:.2f}",
         "hovertext": [
          "Middle Africa"
         ],
         "legendgroup": "Middle Africa",
         "marker": {
          "color": "#FECB52",
          "size": [
           192.13267055699998
          ],
          "sizemode": "area",
          "sizeref": 0.7265762749043571,
          "symbol": "circle"
         },
         "mode": "markers",
         "name": "Middle Africa",
         "orientation": "v",
         "showlegend": true,
         "type": "scatter",
         "x": [
          3.506666666666667
         ],
         "xaxis": "x",
         "y": [
          2.8866666666666667
         ],
         "yaxis": "y"
        },
        {
         "hovertemplate": "<b>%{hovertext}</b><br>Average Days for Shipping (Actual): %{x:.2f}<br>Average Days for Shipping (Scheduled): %{y:.2f}<br>Average Sales: $%{marker.size:.2f}",
         "hovertext": [
          "Northern Africa"
         ],
         "legendgroup": "Northern Africa",
         "marker": {
          "color": "#636efa",
          "size": [
           205.82531573249258
          ],
          "sizemode": "area",
          "sizeref": 0.7265762749043571,
          "symbol": "circle"
         },
         "mode": "markers",
         "name": "Northern Africa",
         "orientation": "v",
         "showlegend": true,
         "type": "scatter",
         "x": [
          3.7952522255192878
         ],
         "xaxis": "x",
         "y": [
          3.2373887240356085
         ],
         "yaxis": "y"
        },
        {
         "hovertemplate": "<b>%{hovertext}</b><br>Average Days for Shipping (Actual): %{x:.2f}<br>Average Days for Shipping (Scheduled): %{y:.2f}<br>Average Sales: $%{marker.size:.2f}",
         "hovertext": [
          "Northern America"
         ],
         "legendgroup": "Northern America",
         "marker": {
          "color": "#EF553B",
          "size": [
           192.34481567037736
          ],
          "sizemode": "area",
          "sizeref": 0.7265762749043571,
          "symbol": "circle"
         },
         "mode": "markers",
         "name": "Northern America",
         "orientation": "v",
         "showlegend": true,
         "type": "scatter",
         "x": [
          3.4056603773584904
         ],
         "xaxis": "x",
         "y": [
          3.1320754716981134
         ],
         "yaxis": "y"
        },
        {
         "hovertemplate": "<b>%{hovertext}</b><br>Average Days for Shipping (Actual): %{x:.2f}<br>Average Days for Shipping (Scheduled): %{y:.2f}<br>Average Sales: $%{marker.size:.2f}",
         "hovertext": [
          "Northern Europe"
         ],
         "legendgroup": "Northern Europe",
         "marker": {
          "color": "#00cc96",
          "size": [
           246.7475111227012
          ],
          "sizemode": "area",
          "sizeref": 0.7265762749043571,
          "symbol": "circle"
         },
         "mode": "markers",
         "name": "Northern Europe",
         "orientation": "v",
         "showlegend": true,
         "type": "scatter",
         "x": [
          3.537878787878788
         ],
         "xaxis": "x",
         "y": [
          2.999763257575758
         ],
         "yaxis": "y"
        },
        {
         "hovertemplate": "<b>%{hovertext}</b><br>Average Days for Shipping (Actual): %{x:.2f}<br>Average Days for Shipping (Scheduled): %{y:.2f}<br>Average Sales: $%{marker.size:.2f}",
         "hovertext": [
          "South America"
         ],
         "legendgroup": "South America",
         "marker": {
          "color": "#ab63fa",
          "size": [
           201.2267160651859
          ],
          "sizemode": "area",
          "sizeref": 0.7265762749043571,
          "symbol": "circle"
         },
         "mode": "markers",
         "name": "South America",
         "orientation": "v",
         "showlegend": true,
         "type": "scatter",
         "x": [
          3.4759718835174294
         ],
         "xaxis": "x",
         "y": [
          2.908334528762014
         ],
         "yaxis": "y"
        },
        {
         "hovertemplate": "<b>%{hovertext}</b><br>Average Days for Shipping (Actual): %{x:.2f}<br>Average Days for Shipping (Scheduled): %{y:.2f}<br>Average Sales: $%{marker.size:.2f}",
         "hovertext": [
          "Southeastern Asia"
         ],
         "legendgroup": "Southeastern Asia",
         "marker": {
          "color": "#FFA15A",
          "size": [
           271.44061694316747
          ],
          "sizemode": "area",
          "sizeref": 0.7265762749043571,
          "symbol": "circle"
         },
         "mode": "markers",
         "name": "Southeastern Asia",
         "orientation": "v",
         "showlegend": true,
         "type": "scatter",
         "x": [
          3.537799043062201
         ],
         "xaxis": "x",
         "y": [
          2.963636363636364
         ],
         "yaxis": "y"
        },
        {
         "hovertemplate": "<b>%{hovertext}</b><br>Average Days for Shipping (Actual): %{x:.2f}<br>Average Days for Shipping (Scheduled): %{y:.2f}<br>Average Sales: $%{marker.size:.2f}",
         "hovertext": [
          "Southern Africa"
         ],
         "legendgroup": "Southern Africa",
         "marker": {
          "color": "#19d3f3",
          "size": [
           178.33650805650484
          ],
          "sizemode": "area",
          "sizeref": 0.7265762749043571,
          "symbol": "circle"
         },
         "mode": "markers",
         "name": "Southern Africa",
         "orientation": "v",
         "showlegend": true,
         "type": "scatter",
         "x": [
          3.0097087378640777
         ],
         "xaxis": "x",
         "y": [
          2.7184466019417477
         ],
         "yaxis": "y"
        },
        {
         "hovertemplate": "<b>%{hovertext}</b><br>Average Days for Shipping (Actual): %{x:.2f}<br>Average Days for Shipping (Scheduled): %{y:.2f}<br>Average Sales: $%{marker.size:.2f}",
         "hovertext": [
          "Southern Asia"
         ],
         "legendgroup": "Southern Asia",
         "marker": {
          "color": "#FF6692",
          "size": [
           255.95515001928067
          ],
          "sizemode": "area",
          "sizeref": 0.7265762749043571,
          "symbol": "circle"
         },
         "mode": "markers",
         "name": "Southern Asia",
         "orientation": "v",
         "showlegend": true,
         "type": "scatter",
         "x": [
          3.4652338811630847
         ],
         "xaxis": "x",
         "y": [
          2.922882427307206
         ],
         "yaxis": "y"
        },
        {
         "hovertemplate": "<b>%{hovertext}</b><br>Average Days for Shipping (Actual): %{x:.2f}<br>Average Days for Shipping (Scheduled): %{y:.2f}<br>Average Sales: $%{marker.size:.2f}",
         "hovertext": [
          "Southern Europe"
         ],
         "legendgroup": "Southern Europe",
         "marker": {
          "color": "#B6E880",
          "size": [
           243.33984999583706
          ],
          "sizemode": "area",
          "sizeref": 0.7265762749043571,
          "symbol": "circle"
         },
         "mode": "markers",
         "name": "Southern Europe",
         "orientation": "v",
         "showlegend": true,
         "type": "scatter",
         "x": [
          3.436661698956781
         ],
         "xaxis": "x",
         "y": [
          2.889716840536513
         ],
         "yaxis": "y"
        },
        {
         "hovertemplate": "<b>%{hovertext}</b><br>Average Days for Shipping (Actual): %{x:.2f}<br>Average Days for Shipping (Scheduled): %{y:.2f}<br>Average Sales: $%{marker.size:.2f}",
         "hovertext": [
          "Western Africa"
         ],
         "legendgroup": "Western Africa",
         "marker": {
          "color": "#FF97FF",
          "size": [
           193.2772349597852
          ],
          "sizemode": "area",
          "sizeref": 0.7265762749043571,
          "symbol": "circle"
         },
         "mode": "markers",
         "name": "Western Africa",
         "orientation": "v",
         "showlegend": true,
         "type": "scatter",
         "x": [
          3.591885441527446
         ],
         "xaxis": "x",
         "y": [
          3.1837708830548928
         ],
         "yaxis": "y"
        },
        {
         "hovertemplate": "<b>%{hovertext}</b><br>Average Days for Shipping (Actual): %{x:.2f}<br>Average Days for Shipping (Scheduled): %{y:.2f}<br>Average Sales: $%{marker.size:.2f}",
         "hovertext": [
          "Western Asia"
         ],
         "legendgroup": "Western Asia",
         "marker": {
          "color": "#FECB52",
          "size": [
           198.22625561583357
          ],
          "sizemode": "area",
          "sizeref": 0.7265762749043571,
          "symbol": "circle"
         },
         "mode": "markers",
         "name": "Western Asia",
         "orientation": "v",
         "showlegend": true,
         "type": "scatter",
         "x": [
          3.6802096985583224
         ],
         "xaxis": "x",
         "y": [
          2.959370904325033
         ],
         "yaxis": "y"
        },
        {
         "hovertemplate": "<b>%{hovertext}</b><br>Average Days for Shipping (Actual): %{x:.2f}<br>Average Days for Shipping (Scheduled): %{y:.2f}<br>Average Sales: $%{marker.size:.2f}",
         "hovertext": [
          "Western Europe"
         ],
         "legendgroup": "Western Europe",
         "marker": {
          "color": "#636efa",
          "size": [
           241.58670591211353
          ],
          "sizemode": "area",
          "sizeref": 0.7265762749043571,
          "symbol": "circle"
         },
         "mode": "markers",
         "name": "Western Europe",
         "orientation": "v",
         "showlegend": true,
         "type": "scatter",
         "x": [
          3.4802307822840657
         ],
         "xaxis": "x",
         "y": [
          2.9053962328185983
         ],
         "yaxis": "y"
        }
       ],
       "layout": {
        "height": 400,
        "legend": {
         "font": {
          "size": 11
         },
         "itemsizing": "constant",
         "title": {
          "text": "Region"
         },
         "tracegroupgap": 0
        },
        "margin": {
         "b": 0,
         "l": 0,
         "r": 0,
         "t": 80
        },
        "paper_bgcolor": "rgba(0, 0, 0, 0)",
        "plot_bgcolor": "rgba(0, 0, 0, 0)",
        "showlegend": true,
        "template": {
         "data": {
          "bar": [
           {
            "error_x": {
             "color": "#f2f5fa"
            },
            "error_y": {
             "color": "#f2f5fa"
            },
            "marker": {
             "line": {
              "color": "rgb(17,17,17)",
              "width": 0.5
             },
             "pattern": {
              "fillmode": "overlay",
              "size": 10,
              "solidity": 0.2
             }
            },
            "type": "bar"
           }
          ],
          "barpolar": [
           {
            "marker": {
             "line": {
              "color": "rgb(17,17,17)",
              "width": 0.5
             },
             "pattern": {
              "fillmode": "overlay",
              "size": 10,
              "solidity": 0.2
             }
            },
            "type": "barpolar"
           }
          ],
          "carpet": [
           {
            "aaxis": {
             "endlinecolor": "#A2B1C6",
             "gridcolor": "#506784",
             "linecolor": "#506784",
             "minorgridcolor": "#506784",
             "startlinecolor": "#A2B1C6"
            },
            "baxis": {
             "endlinecolor": "#A2B1C6",
             "gridcolor": "#506784",
             "linecolor": "#506784",
             "minorgridcolor": "#506784",
             "startlinecolor": "#A2B1C6"
            },
            "type": "carpet"
           }
          ],
          "choropleth": [
           {
            "colorbar": {
             "outlinewidth": 0,
             "ticks": ""
            },
            "type": "choropleth"
           }
          ],
          "contour": [
           {
            "colorbar": {
             "outlinewidth": 0,
             "ticks": ""
            },
            "colorscale": [
             [
              0,
              "#0d0887"
             ],
             [
              0.1111111111111111,
              "#46039f"
             ],
             [
              0.2222222222222222,
              "#7201a8"
             ],
             [
              0.3333333333333333,
              "#9c179e"
             ],
             [
              0.4444444444444444,
              "#bd3786"
             ],
             [
              0.5555555555555556,
              "#d8576b"
             ],
             [
              0.6666666666666666,
              "#ed7953"
             ],
             [
              0.7777777777777778,
              "#fb9f3a"
             ],
             [
              0.8888888888888888,
              "#fdca26"
             ],
             [
              1,
              "#f0f921"
             ]
            ],
            "type": "contour"
           }
          ],
          "contourcarpet": [
           {
            "colorbar": {
             "outlinewidth": 0,
             "ticks": ""
            },
            "type": "contourcarpet"
           }
          ],
          "heatmap": [
           {
            "colorbar": {
             "outlinewidth": 0,
             "ticks": ""
            },
            "colorscale": [
             [
              0,
              "#0d0887"
             ],
             [
              0.1111111111111111,
              "#46039f"
             ],
             [
              0.2222222222222222,
              "#7201a8"
             ],
             [
              0.3333333333333333,
              "#9c179e"
             ],
             [
              0.4444444444444444,
              "#bd3786"
             ],
             [
              0.5555555555555556,
              "#d8576b"
             ],
             [
              0.6666666666666666,
              "#ed7953"
             ],
             [
              0.7777777777777778,
              "#fb9f3a"
             ],
             [
              0.8888888888888888,
              "#fdca26"
             ],
             [
              1,
              "#f0f921"
             ]
            ],
            "type": "heatmap"
           }
          ],
          "heatmapgl": [
           {
            "colorbar": {
             "outlinewidth": 0,
             "ticks": ""
            },
            "colorscale": [
             [
              0,
              "#0d0887"
             ],
             [
              0.1111111111111111,
              "#46039f"
             ],
             [
              0.2222222222222222,
              "#7201a8"
             ],
             [
              0.3333333333333333,
              "#9c179e"
             ],
             [
              0.4444444444444444,
              "#bd3786"
             ],
             [
              0.5555555555555556,
              "#d8576b"
             ],
             [
              0.6666666666666666,
              "#ed7953"
             ],
             [
              0.7777777777777778,
              "#fb9f3a"
             ],
             [
              0.8888888888888888,
              "#fdca26"
             ],
             [
              1,
              "#f0f921"
             ]
            ],
            "type": "heatmapgl"
           }
          ],
          "histogram": [
           {
            "marker": {
             "pattern": {
              "fillmode": "overlay",
              "size": 10,
              "solidity": 0.2
             }
            },
            "type": "histogram"
           }
          ],
          "histogram2d": [
           {
            "colorbar": {
             "outlinewidth": 0,
             "ticks": ""
            },
            "colorscale": [
             [
              0,
              "#0d0887"
             ],
             [
              0.1111111111111111,
              "#46039f"
             ],
             [
              0.2222222222222222,
              "#7201a8"
             ],
             [
              0.3333333333333333,
              "#9c179e"
             ],
             [
              0.4444444444444444,
              "#bd3786"
             ],
             [
              0.5555555555555556,
              "#d8576b"
             ],
             [
              0.6666666666666666,
              "#ed7953"
             ],
             [
              0.7777777777777778,
              "#fb9f3a"
             ],
             [
              0.8888888888888888,
              "#fdca26"
             ],
             [
              1,
              "#f0f921"
             ]
            ],
            "type": "histogram2d"
           }
          ],
          "histogram2dcontour": [
           {
            "colorbar": {
             "outlinewidth": 0,
             "ticks": ""
            },
            "colorscale": [
             [
              0,
              "#0d0887"
             ],
             [
              0.1111111111111111,
              "#46039f"
             ],
             [
              0.2222222222222222,
              "#7201a8"
             ],
             [
              0.3333333333333333,
              "#9c179e"
             ],
             [
              0.4444444444444444,
              "#bd3786"
             ],
             [
              0.5555555555555556,
              "#d8576b"
             ],
             [
              0.6666666666666666,
              "#ed7953"
             ],
             [
              0.7777777777777778,
              "#fb9f3a"
             ],
             [
              0.8888888888888888,
              "#fdca26"
             ],
             [
              1,
              "#f0f921"
             ]
            ],
            "type": "histogram2dcontour"
           }
          ],
          "mesh3d": [
           {
            "colorbar": {
             "outlinewidth": 0,
             "ticks": ""
            },
            "type": "mesh3d"
           }
          ],
          "parcoords": [
           {
            "line": {
             "colorbar": {
              "outlinewidth": 0,
              "ticks": ""
             }
            },
            "type": "parcoords"
           }
          ],
          "pie": [
           {
            "automargin": true,
            "type": "pie"
           }
          ],
          "scatter": [
           {
            "marker": {
             "line": {
              "color": "#283442"
             }
            },
            "type": "scatter"
           }
          ],
          "scatter3d": [
           {
            "line": {
             "colorbar": {
              "outlinewidth": 0,
              "ticks": ""
             }
            },
            "marker": {
             "colorbar": {
              "outlinewidth": 0,
              "ticks": ""
             }
            },
            "type": "scatter3d"
           }
          ],
          "scattercarpet": [
           {
            "marker": {
             "colorbar": {
              "outlinewidth": 0,
              "ticks": ""
             }
            },
            "type": "scattercarpet"
           }
          ],
          "scattergeo": [
           {
            "marker": {
             "colorbar": {
              "outlinewidth": 0,
              "ticks": ""
             }
            },
            "type": "scattergeo"
           }
          ],
          "scattergl": [
           {
            "marker": {
             "line": {
              "color": "#283442"
             }
            },
            "type": "scattergl"
           }
          ],
          "scattermapbox": [
           {
            "marker": {
             "colorbar": {
              "outlinewidth": 0,
              "ticks": ""
             }
            },
            "type": "scattermapbox"
           }
          ],
          "scatterpolar": [
           {
            "marker": {
             "colorbar": {
              "outlinewidth": 0,
              "ticks": ""
             }
            },
            "type": "scatterpolar"
           }
          ],
          "scatterpolargl": [
           {
            "marker": {
             "colorbar": {
              "outlinewidth": 0,
              "ticks": ""
             }
            },
            "type": "scatterpolargl"
           }
          ],
          "scatterternary": [
           {
            "marker": {
             "colorbar": {
              "outlinewidth": 0,
              "ticks": ""
             }
            },
            "type": "scatterternary"
           }
          ],
          "surface": [
           {
            "colorbar": {
             "outlinewidth": 0,
             "ticks": ""
            },
            "colorscale": [
             [
              0,
              "#0d0887"
             ],
             [
              0.1111111111111111,
              "#46039f"
             ],
             [
              0.2222222222222222,
              "#7201a8"
             ],
             [
              0.3333333333333333,
              "#9c179e"
             ],
             [
              0.4444444444444444,
              "#bd3786"
             ],
             [
              0.5555555555555556,
              "#d8576b"
             ],
             [
              0.6666666666666666,
              "#ed7953"
             ],
             [
              0.7777777777777778,
              "#fb9f3a"
             ],
             [
              0.8888888888888888,
              "#fdca26"
             ],
             [
              1,
              "#f0f921"
             ]
            ],
            "type": "surface"
           }
          ],
          "table": [
           {
            "cells": {
             "fill": {
              "color": "#506784"
             },
             "line": {
              "color": "rgb(17,17,17)"
             }
            },
            "header": {
             "fill": {
              "color": "#2a3f5f"
             },
             "line": {
              "color": "rgb(17,17,17)"
             }
            },
            "type": "table"
           }
          ]
         },
         "layout": {
          "annotationdefaults": {
           "arrowcolor": "#f2f5fa",
           "arrowhead": 0,
           "arrowwidth": 1
          },
          "autotypenumbers": "strict",
          "coloraxis": {
           "colorbar": {
            "outlinewidth": 0,
            "ticks": ""
           }
          },
          "colorscale": {
           "diverging": [
            [
             0,
             "#8e0152"
            ],
            [
             0.1,
             "#c51b7d"
            ],
            [
             0.2,
             "#de77ae"
            ],
            [
             0.3,
             "#f1b6da"
            ],
            [
             0.4,
             "#fde0ef"
            ],
            [
             0.5,
             "#f7f7f7"
            ],
            [
             0.6,
             "#e6f5d0"
            ],
            [
             0.7,
             "#b8e186"
            ],
            [
             0.8,
             "#7fbc41"
            ],
            [
             0.9,
             "#4d9221"
            ],
            [
             1,
             "#276419"
            ]
           ],
           "sequential": [
            [
             0,
             "#0d0887"
            ],
            [
             0.1111111111111111,
             "#46039f"
            ],
            [
             0.2222222222222222,
             "#7201a8"
            ],
            [
             0.3333333333333333,
             "#9c179e"
            ],
            [
             0.4444444444444444,
             "#bd3786"
            ],
            [
             0.5555555555555556,
             "#d8576b"
            ],
            [
             0.6666666666666666,
             "#ed7953"
            ],
            [
             0.7777777777777778,
             "#fb9f3a"
            ],
            [
             0.8888888888888888,
             "#fdca26"
            ],
            [
             1,
             "#f0f921"
            ]
           ],
           "sequentialminus": [
            [
             0,
             "#0d0887"
            ],
            [
             0.1111111111111111,
             "#46039f"
            ],
            [
             0.2222222222222222,
             "#7201a8"
            ],
            [
             0.3333333333333333,
             "#9c179e"
            ],
            [
             0.4444444444444444,
             "#bd3786"
            ],
            [
             0.5555555555555556,
             "#d8576b"
            ],
            [
             0.6666666666666666,
             "#ed7953"
            ],
            [
             0.7777777777777778,
             "#fb9f3a"
            ],
            [
             0.8888888888888888,
             "#fdca26"
            ],
            [
             1,
             "#f0f921"
            ]
           ]
          },
          "colorway": [
           "#636efa",
           "#EF553B",
           "#00cc96",
           "#ab63fa",
           "#FFA15A",
           "#19d3f3",
           "#FF6692",
           "#B6E880",
           "#FF97FF",
           "#FECB52"
          ],
          "font": {
           "color": "#f2f5fa"
          },
          "geo": {
           "bgcolor": "rgb(17,17,17)",
           "lakecolor": "rgb(17,17,17)",
           "landcolor": "rgb(17,17,17)",
           "showlakes": true,
           "showland": true,
           "subunitcolor": "#506784"
          },
          "hoverlabel": {
           "align": "left"
          },
          "hovermode": "closest",
          "mapbox": {
           "style": "dark"
          },
          "paper_bgcolor": "rgb(17,17,17)",
          "plot_bgcolor": "rgb(17,17,17)",
          "polar": {
           "angularaxis": {
            "gridcolor": "#506784",
            "linecolor": "#506784",
            "ticks": ""
           },
           "bgcolor": "rgb(17,17,17)",
           "radialaxis": {
            "gridcolor": "#506784",
            "linecolor": "#506784",
            "ticks": ""
           }
          },
          "scene": {
           "xaxis": {
            "backgroundcolor": "rgb(17,17,17)",
            "gridcolor": "#506784",
            "gridwidth": 2,
            "linecolor": "#506784",
            "showbackground": true,
            "ticks": "",
            "zerolinecolor": "#C8D4E3"
           },
           "yaxis": {
            "backgroundcolor": "rgb(17,17,17)",
            "gridcolor": "#506784",
            "gridwidth": 2,
            "linecolor": "#506784",
            "showbackground": true,
            "ticks": "",
            "zerolinecolor": "#C8D4E3"
           },
           "zaxis": {
            "backgroundcolor": "rgb(17,17,17)",
            "gridcolor": "#506784",
            "gridwidth": 2,
            "linecolor": "#506784",
            "showbackground": true,
            "ticks": "",
            "zerolinecolor": "#C8D4E3"
           }
          },
          "shapedefaults": {
           "line": {
            "color": "#f2f5fa"
           }
          },
          "sliderdefaults": {
           "bgcolor": "#C8D4E3",
           "bordercolor": "rgb(17,17,17)",
           "borderwidth": 1,
           "tickwidth": 0
          },
          "ternary": {
           "aaxis": {
            "gridcolor": "#506784",
            "linecolor": "#506784",
            "ticks": ""
           },
           "baxis": {
            "gridcolor": "#506784",
            "linecolor": "#506784",
            "ticks": ""
           },
           "bgcolor": "rgb(17,17,17)",
           "caxis": {
            "gridcolor": "#506784",
            "linecolor": "#506784",
            "ticks": ""
           }
          },
          "title": {
           "x": 0.05
          },
          "updatemenudefaults": {
           "bgcolor": "#506784",
           "borderwidth": 0
          },
          "xaxis": {
           "automargin": true,
           "gridcolor": "#283442",
           "linecolor": "#506784",
           "ticks": "",
           "title": {
            "standoff": 15
           },
           "zerolinecolor": "#283442",
           "zerolinewidth": 2
          },
          "yaxis": {
           "automargin": true,
           "gridcolor": "#283442",
           "linecolor": "#506784",
           "ticks": "",
           "title": {
            "standoff": 15
           },
           "zerolinecolor": "#283442",
           "zerolinewidth": 2
          }
         }
        },
        "title": {
         "font": {
          "size": 13
         },
         "text": "Relationship between Average Days for Shipping (Actual vs. Scheduled)<br>and<br>Average Sales by Region</br>",
         "x": 0.5,
         "xanchor": "center"
        },
        "width": 600,
        "xaxis": {
         "anchor": "y",
         "domain": [
          0,
          1
         ],
         "title": {
          "font": {
           "size": 11
          },
          "text": "Average Days for Shipping (Actual)"
         }
        },
        "yaxis": {
         "anchor": "x",
         "domain": [
          0,
          1
         ],
         "title": {
          "font": {
           "size": 11
          },
          "text": "Average Days for Shipping (Scheduled)"
         }
        }
       }
      }
     },
     "metadata": {},
     "output_type": "display_data"
    }
   ],
   "source": [
    "relationship = get_shipping_relationship(df_2017)\n",
    "relationship"
   ]
  },
  {
   "cell_type": "code",
   "execution_count": 86,
   "metadata": {},
   "outputs": [],
   "source": [
    "    def create_fig_region_combined(dataframe, region):\n",
    "        if region == \"All Regions\":\n",
    "            grouped_bar = dataframe.groupby([\"category_name\"]).agg(total_sales=(\"sales\", \"sum\")).reset_index()\n",
    "        else:\n",
    "            dataframe = dataframe[dataframe[\"order_region\"]==region]\n",
    "            grouped_bar = dataframe.groupby([\"category_name\"]).agg(total_sales=(\"sales\", \"sum\")).reset_index()\n",
    "\n",
    "        grouped_bar[\"total_sales\"] = round(grouped_bar[\"total_sales\"], 2)\n",
    "\n",
    "        # sort by total_sales and split into two groups\n",
    "        grouped_bar = grouped_bar.sort_values(by=\"total_sales\", ascending=False).reset_index()\n",
    "\n",
    "        # format total_sales as a string with $ and thousand separator\n",
    "        locale.setlocale(locale.LC_ALL, '')  # set locale to default system locale\n",
    "        grouped_bar[\"total_sales_formated\"] = grouped_bar[\"total_sales\"].apply(lambda x: locale.currency(x, grouping=True))\n",
    "\n",
    "        top_5 = grouped_bar.head(5)\n",
    "\n",
    "        # create a dictionary to map each category to a unique color\n",
    "        category_colors = {\n",
    "            'Camping & Hiking': '#1f77b4',\n",
    "            'Water Sports': '#ff7f0e',\n",
    "            \"Women's Apparel\": '#2ca02c',\n",
    "            \"Men's Footwear\": '#d62728',\n",
    "            'Indoor/Outdoor Games': '#9467bd',\n",
    "            'Accessories': '#8c564b',\n",
    "            'Cleats': '#e377c2',\n",
    "            'Trade-In': '#7f7f7f',\n",
    "            'Cardio Equipment': '#bcbd22',\n",
    "            'Shop By Sport': '#17becf',\n",
    "            'Hockey': '#ff5733',\n",
    "            'Electronics': '#e74c3c',\n",
    "            'Fishing': '#3498db',\n",
    "            'Golf Balls': '#9b59b6',\n",
    "            'Lacrosse': '#e67e22',\n",
    "            'Baseball & Softball': '#34495e',\n",
    "            'Golf Gloves': '#f1c40f',\n",
    "            \"Girls' Apparel\": '#2ecc71',\n",
    "            'Fitness Accessories': '#1abc9c',\n",
    "            'Hunting & Shooting': '#95a5a6',\n",
    "            'Tennis & Racquet': '#2c3e50',\n",
    "            'Golf Shoes': '#bdc3c7',\n",
    "            'Golf Apparel': '#d35400',\n",
    "            'Boxing & MMA': '#7f8c8d',\n",
    "            \"Men's Golf Clubs\": '#2980b9',\n",
    "            \"Kids' Golf Clubs\": '#16a085',\n",
    "            'Soccer': '#c0392b',\n",
    "            \"Women's Golf Clubs\": '#f39c12',\n",
    "            'Golf Bags & Carts': '#27ae60',\n",
    "            'Strength Training': '#e67e22',\n",
    "            'As Seen on  TV!': '#8e44ad',\n",
    "            'Basketball': '#f39c12',\n",
    "            'Books ': '#1abc9c',\n",
    "            'Baby ': '#95a5a6',\n",
    "            'CDs ': '#d35400',\n",
    "            'Cameras ': '#bdc3c7',\n",
    "            \"Children's Clothing\": '#9b59b6',\n",
    "            'Computers': '#7f8c8d',\n",
    "            'Consumer Electronics': '#2c3e50',\n",
    "            'Crafts': '#27ae60',\n",
    "            'DVDs': '#f1c40f',\n",
    "            'Garden': '#17becf',\n",
    "            'Health and Beauty': '#bcbd22',\n",
    "            \"Men's Clothing\": '#e74c3c',\n",
    "            'Music': '#8c564b',\n",
    "            'Pet Supplies': '#2ecc71',\n",
    "            'Sporting Goods': '#7f7f7f',\n",
    "            'Toys': '#d62728',\n",
    "            'Video Games': '#9467bd',\n",
    "            \"Women's Clothing\": '#3498db'\n",
    "        }\n",
    "\n",
    "        # map category colors to the top_5 and bottom_5 dataframes\n",
    "        top_5['color'] = top_5['category_name'].map(category_colors)\n",
    "\n",
    "        # -----------------------------------------------------------\n",
    "\n",
    "        dailysales = dataframe.copy()\n",
    "        dailysales['order_date'] = pd.to_datetime(dailysales['order_date'])\n",
    "        dailysales = dailysales.set_index('order_date')\n",
    "\n",
    "        if region != \"All Regions\":\n",
    "            dailysales = dailysales[dailysales[\"order_region\"] == region]\n",
    "\n",
    "        daily_sales = dailysales.resample('D')['sales'].sum().reset_index()\n",
    "\n",
    "        daily_sales[\"sales\"] = round(daily_sales[\"sales\"], 2)\n",
    "        daily_sales[\"order_date\"] = daily_sales[\"order_date\"].dt.strftime(\"%Y-%m-%d\")\n",
    "\n",
    "        # -----------------------------------------------------------\n",
    "\n",
    "        # create the subplots\n",
    "        fig = make_subplots(rows=2, cols=1, vertical_spacing=0.25, subplot_titles=(\n",
    "            f\"<b>Top 5 High-Performing Categories in {region}</b>\", \n",
    "            f\"<b>{region} Sales Over Time</b>\"))\n",
    "\n",
    "        # add the top 5 subplot\n",
    "        fig.add_trace(go.Bar(x=top_5['total_sales'], y=top_5['category_name'], orientation='h',\n",
    "                            text=top_5['total_sales_formated'], name='', marker=dict(color=top_5['color']),\n",
    "                            textfont=dict(color='white')),\n",
    "                    row=1, col=1)\n",
    "        fig.update_yaxes(title='', categoryorder='total ascending', row=1, col=1)\n",
    "        fig.update_xaxes(title='Total Sales', row=1, col=1, showgrid=False)\n",
    "\n",
    "        # add dailysales subplot\n",
    "        fig.add_trace(go.Scatter(x=daily_sales[\"order_date\"], y=daily_sales[\"sales\"],\n",
    "                                mode=\"lines\", hovertemplate='<b>Date:</b> %{x}<br><b>Sales:</b> $%{y:,.2f}<extra></extra>', \n",
    "                                textfont=dict(color='white')), row=2, col=1)\n",
    "        fig.update_yaxes(title='Sales', row=2, col=1)\n",
    "\n",
    "        # update the layout\n",
    "        fig.update_layout(\n",
    "            height=400,\n",
    "            width=600,\n",
    "            template=\"plotly_dark\",\n",
    "            showlegend=False,\n",
    "            margin=dict(l=0, r=0, t=20, b=0),\n",
    "        )\n",
    "        fig.update_layout({'plot_bgcolor': 'rgba(0, 0, 0, 0)','paper_bgcolor': 'rgba(0, 0, 0, 0)',})\n",
    "        fig.update_annotations(font_size=12)\n",
    "\n",
    "        return fig"
   ]
  },
  {
   "cell_type": "code",
   "execution_count": 87,
   "metadata": {},
   "outputs": [
    {
     "name": "stderr",
     "output_type": "stream",
     "text": [
      "C:\\Users\\PF2L6BL6\\AppData\\Local\\Temp\\ipykernel_7952\\862397798.py:74: SettingWithCopyWarning:\n",
      "\n",
      "\n",
      "A value is trying to be set on a copy of a slice from a DataFrame.\n",
      "Try using .loc[row_indexer,col_indexer] = value instead\n",
      "\n",
      "See the caveats in the documentation: https://pandas.pydata.org/pandas-docs/stable/user_guide/indexing.html#returning-a-view-versus-a-copy\n",
      "\n"
     ]
    },
    {
     "data": {
      "application/vnd.plotly.v1+json": {
       "config": {
        "plotlyServerURL": "https://plot.ly"
       },
       "data": [
        {
         "marker": {
          "color": [
           "#3498db",
           "#e377c2",
           "#1f77b4",
           "#bcbd22",
           "#ff7f0e"
          ]
         },
         "name": "",
         "orientation": "h",
         "text": [
          "$1,818,309.13",
          "$1,147,670.16",
          "$1,105,126.36",
          "$969,693.42",
          "$832,958.67"
         ],
         "textfont": {
          "color": "white"
         },
         "type": "bar",
         "x": [
          1818309.13,
          1147670.16,
          1105126.36,
          969693.42,
          832958.67
         ],
         "xaxis": "x",
         "y": [
          "Fishing",
          "Cleats",
          "Camping & Hiking",
          "Cardio Equipment",
          "Water Sports"
         ],
         "yaxis": "y"
        },
        {
         "hovertemplate": "<b>Date:</b> %{x}<br><b>Sales:</b> $%{y:,.2f}<extra></extra>",
         "mode": "lines",
         "textfont": {
          "color": "white"
         },
         "type": "scatter",
         "x": [
          "2017-01-01",
          "2017-01-02",
          "2017-01-03",
          "2017-01-04",
          "2017-01-05",
          "2017-01-06",
          "2017-01-07",
          "2017-01-08",
          "2017-01-09",
          "2017-01-10",
          "2017-01-11",
          "2017-01-12",
          "2017-01-13",
          "2017-01-14",
          "2017-01-15",
          "2017-01-16",
          "2017-01-17",
          "2017-01-18",
          "2017-01-19",
          "2017-01-20",
          "2017-01-21",
          "2017-01-22",
          "2017-01-23",
          "2017-01-24",
          "2017-01-25",
          "2017-01-26",
          "2017-01-27",
          "2017-01-28",
          "2017-01-29",
          "2017-01-30",
          "2017-01-31",
          "2017-02-01",
          "2017-02-02",
          "2017-02-03",
          "2017-02-04",
          "2017-02-05",
          "2017-02-06",
          "2017-02-07",
          "2017-02-08",
          "2017-02-09",
          "2017-02-10",
          "2017-02-11",
          "2017-02-12",
          "2017-02-13",
          "2017-02-14",
          "2017-02-15",
          "2017-02-16",
          "2017-02-17",
          "2017-02-18",
          "2017-02-19",
          "2017-02-20",
          "2017-02-21",
          "2017-02-22",
          "2017-02-23",
          "2017-02-24",
          "2017-02-25",
          "2017-02-26",
          "2017-02-27",
          "2017-02-28",
          "2017-03-01",
          "2017-03-02",
          "2017-03-03",
          "2017-03-04",
          "2017-03-05",
          "2017-03-06",
          "2017-03-07",
          "2017-03-08",
          "2017-03-09",
          "2017-03-10",
          "2017-03-11",
          "2017-03-12",
          "2017-03-13",
          "2017-03-14",
          "2017-03-15",
          "2017-03-16",
          "2017-03-17",
          "2017-03-18",
          "2017-03-19",
          "2017-03-20",
          "2017-03-21",
          "2017-03-22",
          "2017-03-23",
          "2017-03-24",
          "2017-03-25",
          "2017-03-26",
          "2017-03-27",
          "2017-03-28",
          "2017-03-29",
          "2017-03-30",
          "2017-03-31",
          "2017-04-01",
          "2017-04-02",
          "2017-04-03",
          "2017-04-04",
          "2017-04-05",
          "2017-04-06",
          "2017-04-07",
          "2017-04-08",
          "2017-04-09",
          "2017-04-10",
          "2017-04-11",
          "2017-04-12",
          "2017-04-13",
          "2017-04-14",
          "2017-04-15",
          "2017-04-16",
          "2017-04-17",
          "2017-04-18",
          "2017-04-19",
          "2017-04-20",
          "2017-04-21",
          "2017-04-22",
          "2017-04-23",
          "2017-04-24",
          "2017-04-25",
          "2017-04-26",
          "2017-04-27",
          "2017-04-28",
          "2017-04-29",
          "2017-04-30",
          "2017-05-01",
          "2017-05-02",
          "2017-05-03",
          "2017-05-04",
          "2017-05-05",
          "2017-05-06",
          "2017-05-07",
          "2017-05-08",
          "2017-05-09",
          "2017-05-10",
          "2017-05-11",
          "2017-05-12",
          "2017-05-13",
          "2017-05-14",
          "2017-05-15",
          "2017-05-16",
          "2017-05-17",
          "2017-05-18",
          "2017-05-19",
          "2017-05-20",
          "2017-05-21",
          "2017-05-22",
          "2017-05-23",
          "2017-05-24",
          "2017-05-25",
          "2017-05-26",
          "2017-05-27",
          "2017-05-28",
          "2017-05-29",
          "2017-05-30",
          "2017-05-31",
          "2017-06-01",
          "2017-06-02",
          "2017-06-03",
          "2017-06-04",
          "2017-06-05",
          "2017-06-06",
          "2017-06-07",
          "2017-06-08",
          "2017-06-09",
          "2017-06-10",
          "2017-06-11",
          "2017-06-12",
          "2017-06-13",
          "2017-06-14",
          "2017-06-15",
          "2017-06-16",
          "2017-06-17",
          "2017-06-18",
          "2017-06-19",
          "2017-06-20",
          "2017-06-21",
          "2017-06-22",
          "2017-06-23",
          "2017-06-24",
          "2017-06-25",
          "2017-06-26",
          "2017-06-27",
          "2017-06-28",
          "2017-06-29",
          "2017-06-30",
          "2017-07-01",
          "2017-07-02",
          "2017-07-03",
          "2017-07-04",
          "2017-07-05",
          "2017-07-06",
          "2017-07-07",
          "2017-07-08",
          "2017-07-09",
          "2017-07-10",
          "2017-07-11",
          "2017-07-12",
          "2017-07-13",
          "2017-07-14",
          "2017-07-15",
          "2017-07-16",
          "2017-07-17",
          "2017-07-18",
          "2017-07-19",
          "2017-07-20",
          "2017-07-21",
          "2017-07-22",
          "2017-07-23",
          "2017-07-24",
          "2017-07-25",
          "2017-07-26",
          "2017-07-27",
          "2017-07-28",
          "2017-07-29",
          "2017-07-30",
          "2017-07-31",
          "2017-08-01",
          "2017-08-02",
          "2017-08-03",
          "2017-08-04",
          "2017-08-05",
          "2017-08-06",
          "2017-08-07",
          "2017-08-08",
          "2017-08-09",
          "2017-08-10",
          "2017-08-11",
          "2017-08-12",
          "2017-08-13",
          "2017-08-14",
          "2017-08-15",
          "2017-08-16",
          "2017-08-17",
          "2017-08-18",
          "2017-08-19",
          "2017-08-20",
          "2017-08-21",
          "2017-08-22",
          "2017-08-23",
          "2017-08-24",
          "2017-08-25",
          "2017-08-26",
          "2017-08-27",
          "2017-08-28",
          "2017-08-29",
          "2017-08-30",
          "2017-08-31",
          "2017-09-01",
          "2017-09-02",
          "2017-09-03",
          "2017-09-04",
          "2017-09-05",
          "2017-09-06",
          "2017-09-07",
          "2017-09-08",
          "2017-09-09",
          "2017-09-10",
          "2017-09-11",
          "2017-09-12",
          "2017-09-13",
          "2017-09-14",
          "2017-09-15",
          "2017-09-16",
          "2017-09-17",
          "2017-09-18",
          "2017-09-19",
          "2017-09-20",
          "2017-09-21",
          "2017-09-22",
          "2017-09-23",
          "2017-09-24",
          "2017-09-25",
          "2017-09-26",
          "2017-09-27",
          "2017-09-28",
          "2017-09-29",
          "2017-09-30",
          "2017-10-01",
          "2017-10-02",
          "2017-10-03",
          "2017-10-04",
          "2017-10-05",
          "2017-10-06",
          "2017-10-07",
          "2017-10-08",
          "2017-10-09",
          "2017-10-10",
          "2017-10-11",
          "2017-10-12",
          "2017-10-13",
          "2017-10-14",
          "2017-10-15",
          "2017-10-16",
          "2017-10-17",
          "2017-10-18",
          "2017-10-19",
          "2017-10-20",
          "2017-10-21",
          "2017-10-22",
          "2017-10-23",
          "2017-10-24",
          "2017-10-25",
          "2017-10-26",
          "2017-10-27",
          "2017-10-28",
          "2017-10-29",
          "2017-10-30",
          "2017-10-31",
          "2017-11-01",
          "2017-11-02",
          "2017-11-03",
          "2017-11-04",
          "2017-11-05",
          "2017-11-06",
          "2017-11-07",
          "2017-11-08",
          "2017-11-09",
          "2017-11-10",
          "2017-11-11",
          "2017-11-12",
          "2017-11-13",
          "2017-11-14",
          "2017-11-15",
          "2017-11-16",
          "2017-11-17",
          "2017-11-18",
          "2017-11-19",
          "2017-11-20",
          "2017-11-21",
          "2017-11-22",
          "2017-11-23",
          "2017-11-24",
          "2017-11-25",
          "2017-11-26",
          "2017-11-27",
          "2017-11-28",
          "2017-11-29",
          "2017-11-30",
          "2017-12-01",
          "2017-12-02",
          "2017-12-03",
          "2017-12-04",
          "2017-12-05",
          "2017-12-06",
          "2017-12-07",
          "2017-12-08",
          "2017-12-09",
          "2017-12-10",
          "2017-12-11",
          "2017-12-12",
          "2017-12-13",
          "2017-12-14",
          "2017-12-15",
          "2017-12-16",
          "2017-12-17",
          "2017-12-18",
          "2017-12-19",
          "2017-12-20",
          "2017-12-21",
          "2017-12-22",
          "2017-12-23",
          "2017-12-24",
          "2017-12-25",
          "2017-12-26",
          "2017-12-27",
          "2017-12-28",
          "2017-12-29",
          "2017-12-30",
          "2017-12-31"
         ],
         "xaxis": "x2",
         "y": [
          28731.02,
          32525.47,
          26031.49,
          31880.52,
          29828.56,
          31628.31,
          34446.18,
          37267.6,
          31101.88,
          34261.12,
          30892.15,
          34239.69,
          31971.05,
          31573.08,
          30384.96,
          32058.29,
          31333.18,
          37776.61,
          30680.51,
          37507.01,
          31441.55,
          31320.53,
          30245.43,
          30753.98,
          30645.3,
          32012.89,
          32251.96,
          32165.81,
          32526.39,
          30128.43,
          32808.01,
          36388.71,
          38212.94,
          37771.48,
          33416,
          34939.85,
          38126.22,
          35058.4,
          35478.91,
          32250.83,
          36042.73,
          29925.72,
          27608.21,
          31329.04,
          25052.07,
          34421.54,
          31331.54,
          33408.97,
          39831.86,
          32967.11,
          36535.76,
          36007.9,
          33761.96,
          31122.42,
          33479.81,
          35839.84,
          33207.35,
          31811.52,
          32713.12,
          30720.76,
          32747.67,
          35920.08,
          31131.47,
          32225.27,
          29070.31,
          35560.81,
          29998.71,
          34754.36,
          36946.8,
          29436.03,
          30771.35,
          32317.66,
          30649.4,
          30858.12,
          37608.67,
          30702.06,
          32994.96,
          36236.74,
          33326.13,
          28734.3,
          32656.08,
          32844.88,
          28619.92,
          35625.04,
          29688.16,
          25072.33,
          32265.09,
          39602.36,
          35020.81,
          33788.01,
          33176.24,
          32738.24,
          34550.06,
          31237.18,
          28651.81,
          27154.89,
          34123.29,
          32766.57,
          36051.94,
          27512.78,
          32245.75,
          36269.97,
          30023.71,
          33120.11,
          33819.8,
          28947.58,
          35221.22,
          34173.38,
          34941.83,
          27162.77,
          32366.01,
          35128.61,
          38913.75,
          32740.47,
          34450.74,
          34452.43,
          35274.29,
          34598.11,
          33334.14,
          36385.51,
          37821.48,
          40950.97,
          27535.8,
          31019.34,
          38378.28,
          33822.17,
          35635.82,
          33240.39,
          33972.79,
          33300.4,
          30113.75,
          33530.73,
          34275.18,
          35085.69,
          39393.89,
          33949.12,
          29258.88,
          33351.67,
          32719.31,
          28661.95,
          28375.15,
          38595.07,
          30256.51,
          33216.38,
          38783.58,
          33964.79,
          36239.09,
          25456.37,
          33590.07,
          40781.43,
          31764.88,
          41760.27,
          34455.78,
          33506.58,
          30377.62,
          30688.74,
          31057.63,
          32267.68,
          30657.68,
          31070.12,
          29299.64,
          36948.63,
          33235.35,
          40662.98,
          37010.87,
          24047.48,
          31750.02,
          30769.61,
          25730.28,
          27047.28,
          32349.07,
          36291.01,
          35788.25,
          37640.04,
          32851.76,
          38131.31,
          34361.74,
          36470.48,
          29068.01,
          30257.38,
          30214.98,
          35139.45,
          40675.36,
          35351.54,
          33435.24,
          36324.89,
          35228.81,
          38126.34,
          28614.48,
          31374.55,
          28934.21,
          36874.62,
          31235.67,
          33774.15,
          30629.57,
          36608.37,
          31069.62,
          33598.32,
          34388.87,
          33618.41,
          35275.05,
          34162.62,
          36815.83,
          37777.68,
          34115.51,
          33274.15,
          28789.82,
          29419.55,
          34974.3,
          34076.49,
          30679.98,
          33011.95,
          37620.14,
          32515.48,
          31735.68,
          36534.5,
          35691.39,
          30868.63,
          30415.88,
          34216.61,
          33399.11,
          39740.96,
          37680.02,
          32175.61,
          35457.99,
          36323.41,
          31299.42,
          30664.65,
          40060.17,
          32193.48,
          30934.62,
          33658.47,
          41921.78,
          35194.51,
          37125.9,
          37704.87,
          27576.3,
          40748.27,
          32315.75,
          31274.7,
          33368.06,
          35234.07,
          32034.43,
          33911.53,
          31123.11,
          36078.69,
          30486.8,
          38046.95,
          33996.59,
          29106.23,
          31648.84,
          33569.42,
          35314.61,
          42926.1,
          42026.2,
          35336.94,
          35566.26,
          33746.65,
          35456.56,
          37296.47,
          33186.8,
          35396.47,
          37706.13,
          40126.41,
          36046.51,
          38566.25,
          39226.28,
          37366.44,
          38866.35,
          27877.26,
          39476.35,
          41277.06,
          47516.09,
          46686.57,
          25834.23,
          2051.28,
          2082.36,
          2113.44,
          2113.44,
          3871.28,
          1473.28,
          756.43,
          24082.31,
          29382.6,
          29834.64,
          29834.64,
          30286.68,
          30286.68,
          27574.44,
          29834.64,
          25725.26,
          22854.4,
          23925.7,
          23925.7,
          23211.5,
          23211.5,
          22854.4,
          22854.4,
          83785.2,
          100500,
          97500,
          99000,
          102000,
          40385.36,
          16437.2,
          15931.44,
          16942.96,
          23738.2,
          29996.2,
          29534.72,
          26595.38,
          9862.8,
          11013.46,
          10684.7,
          10849.08,
          10684.7,
          31264.46,
          34085.12,
          34617.7,
          35150.28,
          36215.44,
          32461.84,
          19047.6,
          19047.6,
          19926.72,
          15642.09,
          13705.25,
          13793.2,
          17202.9,
          16681.6,
          17984.85,
          17463.55,
          6910.9,
          5317.2,
          5823.6,
          9622.95,
          21303.75,
          18141.65,
          773.18,
          761.64,
          761.64,
          1533.57,
          2703,
          2504.25,
          4247.88,
          14028.3,
          14891.58,
          14459.94,
          12643.62,
          1926.96,
          3242.96,
          3840.2,
          1020.59,
          767.72,
          23821.92,
          22497.3,
          79570.7,
          63827.76,
          16184.32,
          19939.12,
          30457.68,
          29534.72,
          30919.16,
          18244.92,
          10849.08
         ],
         "yaxis": "y2"
        }
       ],
       "layout": {
        "annotations": [
         {
          "font": {
           "size": 12
          },
          "showarrow": false,
          "text": "<b>Top 5 High-Performing Categories in All Regions</b>",
          "x": 0.5,
          "xanchor": "center",
          "xref": "paper",
          "y": 1,
          "yanchor": "bottom",
          "yref": "paper"
         },
         {
          "font": {
           "size": 12
          },
          "showarrow": false,
          "text": "<b>All Regions Sales Over Time</b>",
          "x": 0.5,
          "xanchor": "center",
          "xref": "paper",
          "y": 0.375,
          "yanchor": "bottom",
          "yref": "paper"
         }
        ],
        "height": 400,
        "margin": {
         "b": 0,
         "l": 0,
         "r": 0,
         "t": 20
        },
        "paper_bgcolor": "rgba(0, 0, 0, 0)",
        "plot_bgcolor": "rgba(0, 0, 0, 0)",
        "showlegend": false,
        "template": {
         "data": {
          "bar": [
           {
            "error_x": {
             "color": "#f2f5fa"
            },
            "error_y": {
             "color": "#f2f5fa"
            },
            "marker": {
             "line": {
              "color": "rgb(17,17,17)",
              "width": 0.5
             },
             "pattern": {
              "fillmode": "overlay",
              "size": 10,
              "solidity": 0.2
             }
            },
            "type": "bar"
           }
          ],
          "barpolar": [
           {
            "marker": {
             "line": {
              "color": "rgb(17,17,17)",
              "width": 0.5
             },
             "pattern": {
              "fillmode": "overlay",
              "size": 10,
              "solidity": 0.2
             }
            },
            "type": "barpolar"
           }
          ],
          "carpet": [
           {
            "aaxis": {
             "endlinecolor": "#A2B1C6",
             "gridcolor": "#506784",
             "linecolor": "#506784",
             "minorgridcolor": "#506784",
             "startlinecolor": "#A2B1C6"
            },
            "baxis": {
             "endlinecolor": "#A2B1C6",
             "gridcolor": "#506784",
             "linecolor": "#506784",
             "minorgridcolor": "#506784",
             "startlinecolor": "#A2B1C6"
            },
            "type": "carpet"
           }
          ],
          "choropleth": [
           {
            "colorbar": {
             "outlinewidth": 0,
             "ticks": ""
            },
            "type": "choropleth"
           }
          ],
          "contour": [
           {
            "colorbar": {
             "outlinewidth": 0,
             "ticks": ""
            },
            "colorscale": [
             [
              0,
              "#0d0887"
             ],
             [
              0.1111111111111111,
              "#46039f"
             ],
             [
              0.2222222222222222,
              "#7201a8"
             ],
             [
              0.3333333333333333,
              "#9c179e"
             ],
             [
              0.4444444444444444,
              "#bd3786"
             ],
             [
              0.5555555555555556,
              "#d8576b"
             ],
             [
              0.6666666666666666,
              "#ed7953"
             ],
             [
              0.7777777777777778,
              "#fb9f3a"
             ],
             [
              0.8888888888888888,
              "#fdca26"
             ],
             [
              1,
              "#f0f921"
             ]
            ],
            "type": "contour"
           }
          ],
          "contourcarpet": [
           {
            "colorbar": {
             "outlinewidth": 0,
             "ticks": ""
            },
            "type": "contourcarpet"
           }
          ],
          "heatmap": [
           {
            "colorbar": {
             "outlinewidth": 0,
             "ticks": ""
            },
            "colorscale": [
             [
              0,
              "#0d0887"
             ],
             [
              0.1111111111111111,
              "#46039f"
             ],
             [
              0.2222222222222222,
              "#7201a8"
             ],
             [
              0.3333333333333333,
              "#9c179e"
             ],
             [
              0.4444444444444444,
              "#bd3786"
             ],
             [
              0.5555555555555556,
              "#d8576b"
             ],
             [
              0.6666666666666666,
              "#ed7953"
             ],
             [
              0.7777777777777778,
              "#fb9f3a"
             ],
             [
              0.8888888888888888,
              "#fdca26"
             ],
             [
              1,
              "#f0f921"
             ]
            ],
            "type": "heatmap"
           }
          ],
          "heatmapgl": [
           {
            "colorbar": {
             "outlinewidth": 0,
             "ticks": ""
            },
            "colorscale": [
             [
              0,
              "#0d0887"
             ],
             [
              0.1111111111111111,
              "#46039f"
             ],
             [
              0.2222222222222222,
              "#7201a8"
             ],
             [
              0.3333333333333333,
              "#9c179e"
             ],
             [
              0.4444444444444444,
              "#bd3786"
             ],
             [
              0.5555555555555556,
              "#d8576b"
             ],
             [
              0.6666666666666666,
              "#ed7953"
             ],
             [
              0.7777777777777778,
              "#fb9f3a"
             ],
             [
              0.8888888888888888,
              "#fdca26"
             ],
             [
              1,
              "#f0f921"
             ]
            ],
            "type": "heatmapgl"
           }
          ],
          "histogram": [
           {
            "marker": {
             "pattern": {
              "fillmode": "overlay",
              "size": 10,
              "solidity": 0.2
             }
            },
            "type": "histogram"
           }
          ],
          "histogram2d": [
           {
            "colorbar": {
             "outlinewidth": 0,
             "ticks": ""
            },
            "colorscale": [
             [
              0,
              "#0d0887"
             ],
             [
              0.1111111111111111,
              "#46039f"
             ],
             [
              0.2222222222222222,
              "#7201a8"
             ],
             [
              0.3333333333333333,
              "#9c179e"
             ],
             [
              0.4444444444444444,
              "#bd3786"
             ],
             [
              0.5555555555555556,
              "#d8576b"
             ],
             [
              0.6666666666666666,
              "#ed7953"
             ],
             [
              0.7777777777777778,
              "#fb9f3a"
             ],
             [
              0.8888888888888888,
              "#fdca26"
             ],
             [
              1,
              "#f0f921"
             ]
            ],
            "type": "histogram2d"
           }
          ],
          "histogram2dcontour": [
           {
            "colorbar": {
             "outlinewidth": 0,
             "ticks": ""
            },
            "colorscale": [
             [
              0,
              "#0d0887"
             ],
             [
              0.1111111111111111,
              "#46039f"
             ],
             [
              0.2222222222222222,
              "#7201a8"
             ],
             [
              0.3333333333333333,
              "#9c179e"
             ],
             [
              0.4444444444444444,
              "#bd3786"
             ],
             [
              0.5555555555555556,
              "#d8576b"
             ],
             [
              0.6666666666666666,
              "#ed7953"
             ],
             [
              0.7777777777777778,
              "#fb9f3a"
             ],
             [
              0.8888888888888888,
              "#fdca26"
             ],
             [
              1,
              "#f0f921"
             ]
            ],
            "type": "histogram2dcontour"
           }
          ],
          "mesh3d": [
           {
            "colorbar": {
             "outlinewidth": 0,
             "ticks": ""
            },
            "type": "mesh3d"
           }
          ],
          "parcoords": [
           {
            "line": {
             "colorbar": {
              "outlinewidth": 0,
              "ticks": ""
             }
            },
            "type": "parcoords"
           }
          ],
          "pie": [
           {
            "automargin": true,
            "type": "pie"
           }
          ],
          "scatter": [
           {
            "marker": {
             "line": {
              "color": "#283442"
             }
            },
            "type": "scatter"
           }
          ],
          "scatter3d": [
           {
            "line": {
             "colorbar": {
              "outlinewidth": 0,
              "ticks": ""
             }
            },
            "marker": {
             "colorbar": {
              "outlinewidth": 0,
              "ticks": ""
             }
            },
            "type": "scatter3d"
           }
          ],
          "scattercarpet": [
           {
            "marker": {
             "colorbar": {
              "outlinewidth": 0,
              "ticks": ""
             }
            },
            "type": "scattercarpet"
           }
          ],
          "scattergeo": [
           {
            "marker": {
             "colorbar": {
              "outlinewidth": 0,
              "ticks": ""
             }
            },
            "type": "scattergeo"
           }
          ],
          "scattergl": [
           {
            "marker": {
             "line": {
              "color": "#283442"
             }
            },
            "type": "scattergl"
           }
          ],
          "scattermapbox": [
           {
            "marker": {
             "colorbar": {
              "outlinewidth": 0,
              "ticks": ""
             }
            },
            "type": "scattermapbox"
           }
          ],
          "scatterpolar": [
           {
            "marker": {
             "colorbar": {
              "outlinewidth": 0,
              "ticks": ""
             }
            },
            "type": "scatterpolar"
           }
          ],
          "scatterpolargl": [
           {
            "marker": {
             "colorbar": {
              "outlinewidth": 0,
              "ticks": ""
             }
            },
            "type": "scatterpolargl"
           }
          ],
          "scatterternary": [
           {
            "marker": {
             "colorbar": {
              "outlinewidth": 0,
              "ticks": ""
             }
            },
            "type": "scatterternary"
           }
          ],
          "surface": [
           {
            "colorbar": {
             "outlinewidth": 0,
             "ticks": ""
            },
            "colorscale": [
             [
              0,
              "#0d0887"
             ],
             [
              0.1111111111111111,
              "#46039f"
             ],
             [
              0.2222222222222222,
              "#7201a8"
             ],
             [
              0.3333333333333333,
              "#9c179e"
             ],
             [
              0.4444444444444444,
              "#bd3786"
             ],
             [
              0.5555555555555556,
              "#d8576b"
             ],
             [
              0.6666666666666666,
              "#ed7953"
             ],
             [
              0.7777777777777778,
              "#fb9f3a"
             ],
             [
              0.8888888888888888,
              "#fdca26"
             ],
             [
              1,
              "#f0f921"
             ]
            ],
            "type": "surface"
           }
          ],
          "table": [
           {
            "cells": {
             "fill": {
              "color": "#506784"
             },
             "line": {
              "color": "rgb(17,17,17)"
             }
            },
            "header": {
             "fill": {
              "color": "#2a3f5f"
             },
             "line": {
              "color": "rgb(17,17,17)"
             }
            },
            "type": "table"
           }
          ]
         },
         "layout": {
          "annotationdefaults": {
           "arrowcolor": "#f2f5fa",
           "arrowhead": 0,
           "arrowwidth": 1
          },
          "autotypenumbers": "strict",
          "coloraxis": {
           "colorbar": {
            "outlinewidth": 0,
            "ticks": ""
           }
          },
          "colorscale": {
           "diverging": [
            [
             0,
             "#8e0152"
            ],
            [
             0.1,
             "#c51b7d"
            ],
            [
             0.2,
             "#de77ae"
            ],
            [
             0.3,
             "#f1b6da"
            ],
            [
             0.4,
             "#fde0ef"
            ],
            [
             0.5,
             "#f7f7f7"
            ],
            [
             0.6,
             "#e6f5d0"
            ],
            [
             0.7,
             "#b8e186"
            ],
            [
             0.8,
             "#7fbc41"
            ],
            [
             0.9,
             "#4d9221"
            ],
            [
             1,
             "#276419"
            ]
           ],
           "sequential": [
            [
             0,
             "#0d0887"
            ],
            [
             0.1111111111111111,
             "#46039f"
            ],
            [
             0.2222222222222222,
             "#7201a8"
            ],
            [
             0.3333333333333333,
             "#9c179e"
            ],
            [
             0.4444444444444444,
             "#bd3786"
            ],
            [
             0.5555555555555556,
             "#d8576b"
            ],
            [
             0.6666666666666666,
             "#ed7953"
            ],
            [
             0.7777777777777778,
             "#fb9f3a"
            ],
            [
             0.8888888888888888,
             "#fdca26"
            ],
            [
             1,
             "#f0f921"
            ]
           ],
           "sequentialminus": [
            [
             0,
             "#0d0887"
            ],
            [
             0.1111111111111111,
             "#46039f"
            ],
            [
             0.2222222222222222,
             "#7201a8"
            ],
            [
             0.3333333333333333,
             "#9c179e"
            ],
            [
             0.4444444444444444,
             "#bd3786"
            ],
            [
             0.5555555555555556,
             "#d8576b"
            ],
            [
             0.6666666666666666,
             "#ed7953"
            ],
            [
             0.7777777777777778,
             "#fb9f3a"
            ],
            [
             0.8888888888888888,
             "#fdca26"
            ],
            [
             1,
             "#f0f921"
            ]
           ]
          },
          "colorway": [
           "#636efa",
           "#EF553B",
           "#00cc96",
           "#ab63fa",
           "#FFA15A",
           "#19d3f3",
           "#FF6692",
           "#B6E880",
           "#FF97FF",
           "#FECB52"
          ],
          "font": {
           "color": "#f2f5fa"
          },
          "geo": {
           "bgcolor": "rgb(17,17,17)",
           "lakecolor": "rgb(17,17,17)",
           "landcolor": "rgb(17,17,17)",
           "showlakes": true,
           "showland": true,
           "subunitcolor": "#506784"
          },
          "hoverlabel": {
           "align": "left"
          },
          "hovermode": "closest",
          "mapbox": {
           "style": "dark"
          },
          "paper_bgcolor": "rgb(17,17,17)",
          "plot_bgcolor": "rgb(17,17,17)",
          "polar": {
           "angularaxis": {
            "gridcolor": "#506784",
            "linecolor": "#506784",
            "ticks": ""
           },
           "bgcolor": "rgb(17,17,17)",
           "radialaxis": {
            "gridcolor": "#506784",
            "linecolor": "#506784",
            "ticks": ""
           }
          },
          "scene": {
           "xaxis": {
            "backgroundcolor": "rgb(17,17,17)",
            "gridcolor": "#506784",
            "gridwidth": 2,
            "linecolor": "#506784",
            "showbackground": true,
            "ticks": "",
            "zerolinecolor": "#C8D4E3"
           },
           "yaxis": {
            "backgroundcolor": "rgb(17,17,17)",
            "gridcolor": "#506784",
            "gridwidth": 2,
            "linecolor": "#506784",
            "showbackground": true,
            "ticks": "",
            "zerolinecolor": "#C8D4E3"
           },
           "zaxis": {
            "backgroundcolor": "rgb(17,17,17)",
            "gridcolor": "#506784",
            "gridwidth": 2,
            "linecolor": "#506784",
            "showbackground": true,
            "ticks": "",
            "zerolinecolor": "#C8D4E3"
           }
          },
          "shapedefaults": {
           "line": {
            "color": "#f2f5fa"
           }
          },
          "sliderdefaults": {
           "bgcolor": "#C8D4E3",
           "bordercolor": "rgb(17,17,17)",
           "borderwidth": 1,
           "tickwidth": 0
          },
          "ternary": {
           "aaxis": {
            "gridcolor": "#506784",
            "linecolor": "#506784",
            "ticks": ""
           },
           "baxis": {
            "gridcolor": "#506784",
            "linecolor": "#506784",
            "ticks": ""
           },
           "bgcolor": "rgb(17,17,17)",
           "caxis": {
            "gridcolor": "#506784",
            "linecolor": "#506784",
            "ticks": ""
           }
          },
          "title": {
           "x": 0.05
          },
          "updatemenudefaults": {
           "bgcolor": "#506784",
           "borderwidth": 0
          },
          "xaxis": {
           "automargin": true,
           "gridcolor": "#283442",
           "linecolor": "#506784",
           "ticks": "",
           "title": {
            "standoff": 15
           },
           "zerolinecolor": "#283442",
           "zerolinewidth": 2
          },
          "yaxis": {
           "automargin": true,
           "gridcolor": "#283442",
           "linecolor": "#506784",
           "ticks": "",
           "title": {
            "standoff": 15
           },
           "zerolinecolor": "#283442",
           "zerolinewidth": 2
          }
         }
        },
        "width": 600,
        "xaxis": {
         "anchor": "y",
         "domain": [
          0,
          1
         ],
         "showgrid": false,
         "title": {
          "text": "Total Sales"
         }
        },
        "xaxis2": {
         "anchor": "y2",
         "domain": [
          0,
          1
         ]
        },
        "yaxis": {
         "anchor": "x",
         "categoryorder": "total ascending",
         "domain": [
          0.625,
          1
         ],
         "title": {
          "text": ""
         }
        },
        "yaxis2": {
         "anchor": "x2",
         "domain": [
          0,
          0.375
         ],
         "title": {
          "text": "Sales"
         }
        }
       }
      }
     },
     "metadata": {},
     "output_type": "display_data"
    }
   ],
   "source": [
    "combined = create_fig_region_combined(df_2017, \"All Regions\")\n",
    "combined"
   ]
  },
  {
   "cell_type": "code",
   "execution_count": 79,
   "metadata": {},
   "outputs": [],
   "source": [
    "def daily_sales(dailysales, region):\n",
    "    dailysales['order_date'] = pd.to_datetime(dailysales['order_date'])\n",
    "    dailysales = dailysales.set_index('order_date')\n",
    "\n",
    "    if region != \"All Regions\":\n",
    "        dailysales = dailysales[dailysales[\"order_region\"] == region]\n",
    "\n",
    "    daily_sales = dailysales.resample('D')['sales'].sum().reset_index()\n",
    "\n",
    "    daily_sales[\"sales\"] = round(daily_sales[\"sales\"], 2)\n",
    "    daily_sales[\"order_date\"] = daily_sales[\"order_date\"].dt.strftime(\"%Y-%m-%d\")\n",
    "\n",
    "    fig = go.Figure()\n",
    "\n",
    "    fig.add_trace(go.Scatter(x=daily_sales[\"order_date\"], y=daily_sales[\"sales\"],\n",
    "            mode=\"lines\", hovertemplate='<b>Date:</b> %{x}<br><b>Sales:</b> $%{y:,.2f}<extra></extra>', \n",
    "            textfont=dict(color='white')), row=2, col=1)\n",
    "\n",
    "    fig.update_layout(\n",
    "        title=f\"<b>{region} Sales Over Time</b>\",\n",
    "        xaxis_title=\"\",\n",
    "        yaxis_title=\"Sales\",\n",
    "        width=450,\n",
    "        height=300,\n",
    "        template=\"plotly_dark\",\n",
    "        title_font_size=13\n",
    "    )\n",
    "\n",
    "    fig.update_layout({'plot_bgcolor': 'rgba(0, 0, 0, 0)','paper_bgcolor': 'rgba(0, 0, 0, 0)',})\n",
    "\n",
    "    return fig\n"
   ]
  },
  {
   "cell_type": "code",
   "execution_count": 109,
   "metadata": {},
   "outputs": [],
   "source": [
    "    def create_bar_region_order(dataframe):\n",
    "        # Group the dataframe by market and order_region, and sum the order_item_quantity\n",
    "        grouped = dataframe.groupby([\"market\", \"order_region\"]).agg(\n",
    "            total_order=(\"order_item_quantity\", \"sum\")\n",
    "        ).reset_index()\n",
    "\n",
    "        # Sort the grouped dataframe by total_order in descending order, and round the values to 2 decimal places\n",
    "        grouped = grouped.sort_values(by=\"total_order\", ascending=False).reset_index()\n",
    "        grouped[\"total_order\"] = round(grouped[\"total_order\"], 2)\n",
    "\n",
    "        # Add a new column named total_order_formatted with values from total_order formatted with thousand separators\n",
    "        grouped[\"total_order_formatted\"] = grouped[\"total_order\"].apply(lambda x: locale.format_string(\"%0.0f\", x, grouping=True))\n",
    "\n",
    "        # Select the top 5 high-performing regions by total order\n",
    "        grouped = grouped.head(5)\n",
    "\n",
    "        # Assign unique colors to each market\n",
    "        color_map = {'LATAM': '#3366CC', 'Europe': '#DC3912', 'Pacific Asia': '#FF9900', 'USCA': '#109618', 'Africa': '#990099'}\n",
    "\n",
    "        # Create the bar chart using plotly express\n",
    "        fig = px.bar(\n",
    "            grouped,\n",
    "            x=\"total_order\",\n",
    "            y=\"order_region\",\n",
    "            orientation=\"h\",\n",
    "            text=\"total_order_formatted\",\n",
    "            color=\"market\",\n",
    "            labels={\"order_region\":\"\", \"total_order\":\"Total Order\"},\n",
    "            template=\"plotly_dark\",\n",
    "            color_discrete_map=color_map\n",
    "        )\n",
    "\n",
    "        # Set the y-axis category order to ascending\n",
    "        fig.update_layout(yaxis={\"categoryorder\":\"total ascending\"})\n",
    "\n",
    "        # Set the size of the figure\n",
    "        fig.update_layout(autosize=True, width=400, height=300)\n",
    "\n",
    "        # Set the title of the figure\n",
    "        fig.update_layout(\n",
    "            title=\"<b>Top 5 High-Performing Regions by Total Order</b>\",\n",
    "            title_x=0.5,\n",
    "            title_y=0.875,\n",
    "            title_font_size=13\n",
    "        )\n",
    "\n",
    "        # Set the plot background and paper background color to transparent\n",
    "        fig.update_layout({\"plot_bgcolor\": \"rgba(0, 0, 0, 0)\", \"paper_bgcolor\": \"rgba(0, 0, 0, 0)\"})\n",
    "\n",
    "        # Set the font size of the x-axis title\n",
    "        fig.update_xaxes(title_font=dict(size=12))\n",
    "\n",
    "        # Hide the x-axis and y-axis grid lines\n",
    "        fig.update_layout(xaxis_showgrid=False, yaxis_showgrid=False)\n",
    "\n",
    "        # Set the legend title text to \"Market\"\n",
    "        fig.update_layout(legend_title_text=\"Market\")\n",
    "\n",
    "        return fig\n"
   ]
  },
  {
   "cell_type": "code",
   "execution_count": 110,
   "metadata": {},
   "outputs": [
    {
     "data": {
      "application/vnd.plotly.v1+json": {
       "config": {
        "plotlyServerURL": "https://plot.ly"
       },
       "data": [
        {
         "alignmentgroup": "True",
         "hovertemplate": "market=LATAM<br>Total Order=%{x}<br>=%{y}<br>total_order_formatted=%{text}<extra></extra>",
         "legendgroup": "LATAM",
         "marker": {
          "color": "#3366CC",
          "pattern": {
           "shape": ""
          }
         },
         "name": "LATAM",
         "offsetgroup": "LATAM",
         "orientation": "h",
         "showlegend": true,
         "text": [
          "29,936",
          "14,941",
          "8,395"
         ],
         "textposition": "auto",
         "type": "bar",
         "x": [
          29936,
          14941,
          8395
         ],
         "xaxis": "x",
         "y": [
          "Central America",
          "South America",
          "Caribbean"
         ],
         "yaxis": "y"
        },
        {
         "alignmentgroup": "True",
         "hovertemplate": "market=Europe<br>Total Order=%{x}<br>=%{y}<br>total_order_formatted=%{text}<extra></extra>",
         "legendgroup": "Europe",
         "marker": {
          "color": "#DC3912",
          "pattern": {
           "shape": ""
          }
         },
         "name": "Europe",
         "offsetgroup": "Europe",
         "orientation": "h",
         "showlegend": true,
         "text": [
          "22,741",
          "8,135"
         ],
         "textposition": "auto",
         "type": "bar",
         "x": [
          22741,
          8135
         ],
         "xaxis": "x",
         "y": [
          "Western Europe",
          "Northern Europe"
         ],
         "yaxis": "y"
        }
       ],
       "layout": {
        "autosize": true,
        "barmode": "relative",
        "height": 300,
        "legend": {
         "title": {
          "text": "Market"
         },
         "tracegroupgap": 0
        },
        "margin": {
         "t": 60
        },
        "paper_bgcolor": "rgba(0, 0, 0, 0)",
        "plot_bgcolor": "rgba(0, 0, 0, 0)",
        "template": {
         "data": {
          "bar": [
           {
            "error_x": {
             "color": "#f2f5fa"
            },
            "error_y": {
             "color": "#f2f5fa"
            },
            "marker": {
             "line": {
              "color": "rgb(17,17,17)",
              "width": 0.5
             },
             "pattern": {
              "fillmode": "overlay",
              "size": 10,
              "solidity": 0.2
             }
            },
            "type": "bar"
           }
          ],
          "barpolar": [
           {
            "marker": {
             "line": {
              "color": "rgb(17,17,17)",
              "width": 0.5
             },
             "pattern": {
              "fillmode": "overlay",
              "size": 10,
              "solidity": 0.2
             }
            },
            "type": "barpolar"
           }
          ],
          "carpet": [
           {
            "aaxis": {
             "endlinecolor": "#A2B1C6",
             "gridcolor": "#506784",
             "linecolor": "#506784",
             "minorgridcolor": "#506784",
             "startlinecolor": "#A2B1C6"
            },
            "baxis": {
             "endlinecolor": "#A2B1C6",
             "gridcolor": "#506784",
             "linecolor": "#506784",
             "minorgridcolor": "#506784",
             "startlinecolor": "#A2B1C6"
            },
            "type": "carpet"
           }
          ],
          "choropleth": [
           {
            "colorbar": {
             "outlinewidth": 0,
             "ticks": ""
            },
            "type": "choropleth"
           }
          ],
          "contour": [
           {
            "colorbar": {
             "outlinewidth": 0,
             "ticks": ""
            },
            "colorscale": [
             [
              0,
              "#0d0887"
             ],
             [
              0.1111111111111111,
              "#46039f"
             ],
             [
              0.2222222222222222,
              "#7201a8"
             ],
             [
              0.3333333333333333,
              "#9c179e"
             ],
             [
              0.4444444444444444,
              "#bd3786"
             ],
             [
              0.5555555555555556,
              "#d8576b"
             ],
             [
              0.6666666666666666,
              "#ed7953"
             ],
             [
              0.7777777777777778,
              "#fb9f3a"
             ],
             [
              0.8888888888888888,
              "#fdca26"
             ],
             [
              1,
              "#f0f921"
             ]
            ],
            "type": "contour"
           }
          ],
          "contourcarpet": [
           {
            "colorbar": {
             "outlinewidth": 0,
             "ticks": ""
            },
            "type": "contourcarpet"
           }
          ],
          "heatmap": [
           {
            "colorbar": {
             "outlinewidth": 0,
             "ticks": ""
            },
            "colorscale": [
             [
              0,
              "#0d0887"
             ],
             [
              0.1111111111111111,
              "#46039f"
             ],
             [
              0.2222222222222222,
              "#7201a8"
             ],
             [
              0.3333333333333333,
              "#9c179e"
             ],
             [
              0.4444444444444444,
              "#bd3786"
             ],
             [
              0.5555555555555556,
              "#d8576b"
             ],
             [
              0.6666666666666666,
              "#ed7953"
             ],
             [
              0.7777777777777778,
              "#fb9f3a"
             ],
             [
              0.8888888888888888,
              "#fdca26"
             ],
             [
              1,
              "#f0f921"
             ]
            ],
            "type": "heatmap"
           }
          ],
          "heatmapgl": [
           {
            "colorbar": {
             "outlinewidth": 0,
             "ticks": ""
            },
            "colorscale": [
             [
              0,
              "#0d0887"
             ],
             [
              0.1111111111111111,
              "#46039f"
             ],
             [
              0.2222222222222222,
              "#7201a8"
             ],
             [
              0.3333333333333333,
              "#9c179e"
             ],
             [
              0.4444444444444444,
              "#bd3786"
             ],
             [
              0.5555555555555556,
              "#d8576b"
             ],
             [
              0.6666666666666666,
              "#ed7953"
             ],
             [
              0.7777777777777778,
              "#fb9f3a"
             ],
             [
              0.8888888888888888,
              "#fdca26"
             ],
             [
              1,
              "#f0f921"
             ]
            ],
            "type": "heatmapgl"
           }
          ],
          "histogram": [
           {
            "marker": {
             "pattern": {
              "fillmode": "overlay",
              "size": 10,
              "solidity": 0.2
             }
            },
            "type": "histogram"
           }
          ],
          "histogram2d": [
           {
            "colorbar": {
             "outlinewidth": 0,
             "ticks": ""
            },
            "colorscale": [
             [
              0,
              "#0d0887"
             ],
             [
              0.1111111111111111,
              "#46039f"
             ],
             [
              0.2222222222222222,
              "#7201a8"
             ],
             [
              0.3333333333333333,
              "#9c179e"
             ],
             [
              0.4444444444444444,
              "#bd3786"
             ],
             [
              0.5555555555555556,
              "#d8576b"
             ],
             [
              0.6666666666666666,
              "#ed7953"
             ],
             [
              0.7777777777777778,
              "#fb9f3a"
             ],
             [
              0.8888888888888888,
              "#fdca26"
             ],
             [
              1,
              "#f0f921"
             ]
            ],
            "type": "histogram2d"
           }
          ],
          "histogram2dcontour": [
           {
            "colorbar": {
             "outlinewidth": 0,
             "ticks": ""
            },
            "colorscale": [
             [
              0,
              "#0d0887"
             ],
             [
              0.1111111111111111,
              "#46039f"
             ],
             [
              0.2222222222222222,
              "#7201a8"
             ],
             [
              0.3333333333333333,
              "#9c179e"
             ],
             [
              0.4444444444444444,
              "#bd3786"
             ],
             [
              0.5555555555555556,
              "#d8576b"
             ],
             [
              0.6666666666666666,
              "#ed7953"
             ],
             [
              0.7777777777777778,
              "#fb9f3a"
             ],
             [
              0.8888888888888888,
              "#fdca26"
             ],
             [
              1,
              "#f0f921"
             ]
            ],
            "type": "histogram2dcontour"
           }
          ],
          "mesh3d": [
           {
            "colorbar": {
             "outlinewidth": 0,
             "ticks": ""
            },
            "type": "mesh3d"
           }
          ],
          "parcoords": [
           {
            "line": {
             "colorbar": {
              "outlinewidth": 0,
              "ticks": ""
             }
            },
            "type": "parcoords"
           }
          ],
          "pie": [
           {
            "automargin": true,
            "type": "pie"
           }
          ],
          "scatter": [
           {
            "marker": {
             "line": {
              "color": "#283442"
             }
            },
            "type": "scatter"
           }
          ],
          "scatter3d": [
           {
            "line": {
             "colorbar": {
              "outlinewidth": 0,
              "ticks": ""
             }
            },
            "marker": {
             "colorbar": {
              "outlinewidth": 0,
              "ticks": ""
             }
            },
            "type": "scatter3d"
           }
          ],
          "scattercarpet": [
           {
            "marker": {
             "colorbar": {
              "outlinewidth": 0,
              "ticks": ""
             }
            },
            "type": "scattercarpet"
           }
          ],
          "scattergeo": [
           {
            "marker": {
             "colorbar": {
              "outlinewidth": 0,
              "ticks": ""
             }
            },
            "type": "scattergeo"
           }
          ],
          "scattergl": [
           {
            "marker": {
             "line": {
              "color": "#283442"
             }
            },
            "type": "scattergl"
           }
          ],
          "scattermapbox": [
           {
            "marker": {
             "colorbar": {
              "outlinewidth": 0,
              "ticks": ""
             }
            },
            "type": "scattermapbox"
           }
          ],
          "scatterpolar": [
           {
            "marker": {
             "colorbar": {
              "outlinewidth": 0,
              "ticks": ""
             }
            },
            "type": "scatterpolar"
           }
          ],
          "scatterpolargl": [
           {
            "marker": {
             "colorbar": {
              "outlinewidth": 0,
              "ticks": ""
             }
            },
            "type": "scatterpolargl"
           }
          ],
          "scatterternary": [
           {
            "marker": {
             "colorbar": {
              "outlinewidth": 0,
              "ticks": ""
             }
            },
            "type": "scatterternary"
           }
          ],
          "surface": [
           {
            "colorbar": {
             "outlinewidth": 0,
             "ticks": ""
            },
            "colorscale": [
             [
              0,
              "#0d0887"
             ],
             [
              0.1111111111111111,
              "#46039f"
             ],
             [
              0.2222222222222222,
              "#7201a8"
             ],
             [
              0.3333333333333333,
              "#9c179e"
             ],
             [
              0.4444444444444444,
              "#bd3786"
             ],
             [
              0.5555555555555556,
              "#d8576b"
             ],
             [
              0.6666666666666666,
              "#ed7953"
             ],
             [
              0.7777777777777778,
              "#fb9f3a"
             ],
             [
              0.8888888888888888,
              "#fdca26"
             ],
             [
              1,
              "#f0f921"
             ]
            ],
            "type": "surface"
           }
          ],
          "table": [
           {
            "cells": {
             "fill": {
              "color": "#506784"
             },
             "line": {
              "color": "rgb(17,17,17)"
             }
            },
            "header": {
             "fill": {
              "color": "#2a3f5f"
             },
             "line": {
              "color": "rgb(17,17,17)"
             }
            },
            "type": "table"
           }
          ]
         },
         "layout": {
          "annotationdefaults": {
           "arrowcolor": "#f2f5fa",
           "arrowhead": 0,
           "arrowwidth": 1
          },
          "autotypenumbers": "strict",
          "coloraxis": {
           "colorbar": {
            "outlinewidth": 0,
            "ticks": ""
           }
          },
          "colorscale": {
           "diverging": [
            [
             0,
             "#8e0152"
            ],
            [
             0.1,
             "#c51b7d"
            ],
            [
             0.2,
             "#de77ae"
            ],
            [
             0.3,
             "#f1b6da"
            ],
            [
             0.4,
             "#fde0ef"
            ],
            [
             0.5,
             "#f7f7f7"
            ],
            [
             0.6,
             "#e6f5d0"
            ],
            [
             0.7,
             "#b8e186"
            ],
            [
             0.8,
             "#7fbc41"
            ],
            [
             0.9,
             "#4d9221"
            ],
            [
             1,
             "#276419"
            ]
           ],
           "sequential": [
            [
             0,
             "#0d0887"
            ],
            [
             0.1111111111111111,
             "#46039f"
            ],
            [
             0.2222222222222222,
             "#7201a8"
            ],
            [
             0.3333333333333333,
             "#9c179e"
            ],
            [
             0.4444444444444444,
             "#bd3786"
            ],
            [
             0.5555555555555556,
             "#d8576b"
            ],
            [
             0.6666666666666666,
             "#ed7953"
            ],
            [
             0.7777777777777778,
             "#fb9f3a"
            ],
            [
             0.8888888888888888,
             "#fdca26"
            ],
            [
             1,
             "#f0f921"
            ]
           ],
           "sequentialminus": [
            [
             0,
             "#0d0887"
            ],
            [
             0.1111111111111111,
             "#46039f"
            ],
            [
             0.2222222222222222,
             "#7201a8"
            ],
            [
             0.3333333333333333,
             "#9c179e"
            ],
            [
             0.4444444444444444,
             "#bd3786"
            ],
            [
             0.5555555555555556,
             "#d8576b"
            ],
            [
             0.6666666666666666,
             "#ed7953"
            ],
            [
             0.7777777777777778,
             "#fb9f3a"
            ],
            [
             0.8888888888888888,
             "#fdca26"
            ],
            [
             1,
             "#f0f921"
            ]
           ]
          },
          "colorway": [
           "#636efa",
           "#EF553B",
           "#00cc96",
           "#ab63fa",
           "#FFA15A",
           "#19d3f3",
           "#FF6692",
           "#B6E880",
           "#FF97FF",
           "#FECB52"
          ],
          "font": {
           "color": "#f2f5fa"
          },
          "geo": {
           "bgcolor": "rgb(17,17,17)",
           "lakecolor": "rgb(17,17,17)",
           "landcolor": "rgb(17,17,17)",
           "showlakes": true,
           "showland": true,
           "subunitcolor": "#506784"
          },
          "hoverlabel": {
           "align": "left"
          },
          "hovermode": "closest",
          "mapbox": {
           "style": "dark"
          },
          "paper_bgcolor": "rgb(17,17,17)",
          "plot_bgcolor": "rgb(17,17,17)",
          "polar": {
           "angularaxis": {
            "gridcolor": "#506784",
            "linecolor": "#506784",
            "ticks": ""
           },
           "bgcolor": "rgb(17,17,17)",
           "radialaxis": {
            "gridcolor": "#506784",
            "linecolor": "#506784",
            "ticks": ""
           }
          },
          "scene": {
           "xaxis": {
            "backgroundcolor": "rgb(17,17,17)",
            "gridcolor": "#506784",
            "gridwidth": 2,
            "linecolor": "#506784",
            "showbackground": true,
            "ticks": "",
            "zerolinecolor": "#C8D4E3"
           },
           "yaxis": {
            "backgroundcolor": "rgb(17,17,17)",
            "gridcolor": "#506784",
            "gridwidth": 2,
            "linecolor": "#506784",
            "showbackground": true,
            "ticks": "",
            "zerolinecolor": "#C8D4E3"
           },
           "zaxis": {
            "backgroundcolor": "rgb(17,17,17)",
            "gridcolor": "#506784",
            "gridwidth": 2,
            "linecolor": "#506784",
            "showbackground": true,
            "ticks": "",
            "zerolinecolor": "#C8D4E3"
           }
          },
          "shapedefaults": {
           "line": {
            "color": "#f2f5fa"
           }
          },
          "sliderdefaults": {
           "bgcolor": "#C8D4E3",
           "bordercolor": "rgb(17,17,17)",
           "borderwidth": 1,
           "tickwidth": 0
          },
          "ternary": {
           "aaxis": {
            "gridcolor": "#506784",
            "linecolor": "#506784",
            "ticks": ""
           },
           "baxis": {
            "gridcolor": "#506784",
            "linecolor": "#506784",
            "ticks": ""
           },
           "bgcolor": "rgb(17,17,17)",
           "caxis": {
            "gridcolor": "#506784",
            "linecolor": "#506784",
            "ticks": ""
           }
          },
          "title": {
           "x": 0.05
          },
          "updatemenudefaults": {
           "bgcolor": "#506784",
           "borderwidth": 0
          },
          "xaxis": {
           "automargin": true,
           "gridcolor": "#283442",
           "linecolor": "#506784",
           "ticks": "",
           "title": {
            "standoff": 15
           },
           "zerolinecolor": "#283442",
           "zerolinewidth": 2
          },
          "yaxis": {
           "automargin": true,
           "gridcolor": "#283442",
           "linecolor": "#506784",
           "ticks": "",
           "title": {
            "standoff": 15
           },
           "zerolinecolor": "#283442",
           "zerolinewidth": 2
          }
         }
        },
        "title": {
         "font": {
          "size": 13
         },
         "text": "<b>Top 5 High-Performing Regions by Total Order</b>",
         "x": 0.5,
         "y": 0.875
        },
        "width": 400,
        "xaxis": {
         "anchor": "y",
         "domain": [
          0,
          1
         ],
         "showgrid": false,
         "title": {
          "font": {
           "size": 12
          },
          "text": "Total Order"
         }
        },
        "yaxis": {
         "anchor": "x",
         "categoryorder": "total ascending",
         "domain": [
          0,
          1
         ],
         "showgrid": false,
         "title": {
          "text": ""
         }
        }
       }
      }
     },
     "metadata": {},
     "output_type": "display_data"
    }
   ],
   "source": [
    "order = create_bar_region_order(df_2017)\n",
    "order"
   ]
  },
  {
   "cell_type": "code",
   "execution_count": null,
   "metadata": {},
   "outputs": [],
   "source": [
    "    def create_bar_region(dataframe):\n",
    "        grouped = dataframe.groupby([\"market\", \"order_region\"]).agg(\n",
    "            total_sales = (\"sales\", \"sum\")\n",
    "        ).reset_index()\n",
    "\n",
    "        grouped = grouped.sort_values(by=\"total_sales\", ascending=False).reset_index()\n",
    "        grouped[\"total_sales\"] = round(grouped[\"total_sales\"], 2)\n",
    "        \n",
    "        grouped = grouped.head(5)\n",
    "\n",
    "        # format values in millions\n",
    "        grouped['total_sales_formated'] = \"$\" + (grouped['total_sales'] / 1000000).round(2).astype(str) + 'M'\n",
    "\n",
    "        # assign unique colors to each market\n",
    "        color_map = {'LATAM': '#3366CC', 'Europe': '#DC3912', 'Pacific Asia': '#FF9900', 'USCA': '#109618', 'Africa': '#990099'}\n",
    "\n",
    "        fig = px.bar(grouped, x=\"total_sales\", y=\"order_region\", orientation=\"h\", text=\"total_sales_formated\", color=\"market\",\n",
    "                        labels={\"order_region\":\"\", \"total_sales\":\"Total Sales\"}, template=\"plotly_dark\",\n",
    "                        color_discrete_map=color_map)\n",
    "\n",
    "        fig.update_layout(yaxis={'categoryorder':'total ascending'})\n",
    "\n",
    "        fig.update_layout(autosize=True,width=400,height=300)\n",
    "\n",
    "        # Set the title of the figure\n",
    "        fig.update_layout(\n",
    "            title=\"<b>Top 5 High-Performing Regions by Total Sales</b>\",\n",
    "            title_x=0.5,\n",
    "            title_y=0.875,\n",
    "            title_font_size=13\n",
    "        )\n",
    "\n",
    "\n",
    "        fig.update_layout({'plot_bgcolor': 'rgba(0, 0, 0, 0)','paper_bgcolor': 'rgba(0, 0, 0, 0)',})\n",
    "        fig.update_xaxes(title_font=dict(size=12))\n",
    "        fig.update_layout(xaxis_showgrid=False, yaxis_showgrid=False)\n",
    "        fig.update_layout(legend_title_text='Market')\n",
    "        \n",
    "        return fig"
   ]
  },
  {
   "cell_type": "code",
   "execution_count": null,
   "metadata": {},
   "outputs": [],
   "source": []
  }
 ],
 "metadata": {
  "kernelspec": {
   "display_name": "dataviz-env",
   "language": "python",
   "name": "python3"
  },
  "language_info": {
   "codemirror_mode": {
    "name": "ipython",
    "version": 3
   },
   "file_extension": ".py",
   "mimetype": "text/x-python",
   "name": "python",
   "nbconvert_exporter": "python",
   "pygments_lexer": "ipython3",
   "version": "3.9.16"
  },
  "orig_nbformat": 4
 },
 "nbformat": 4,
 "nbformat_minor": 2
}
