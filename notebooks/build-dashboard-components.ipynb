{
 "cells": [
  {
   "cell_type": "code",
   "execution_count": 72,
   "metadata": {},
   "outputs": [],
   "source": [
    "import numpy as np\n",
    "import pandas as pd\n",
    "import geopandas as gpd\n",
    "import time\n",
    "import locale\n",
    "\n",
    "import plotly.express as px\n",
    "import plotly.graph_objects as go\n",
    "import altair as alt\n",
    "from vega_datasets import data\n",
    "\n",
    "from urllib.request import urlopen\n",
    "import json\n",
    "\n",
    "pd.set_option(\"display.float_format\", lambda x: \"%.2f\" % x)\n",
    "alt.data_transformers.disable_max_rows()\n",
    "pd.set_option('display.max_columns', None)\n"
   ]
  },
  {
   "cell_type": "code",
   "execution_count": 73,
   "metadata": {},
   "outputs": [
    {
     "data": {
      "text/html": [
       "<div>\n",
       "<style scoped>\n",
       "    .dataframe tbody tr th:only-of-type {\n",
       "        vertical-align: middle;\n",
       "    }\n",
       "\n",
       "    .dataframe tbody tr th {\n",
       "        vertical-align: top;\n",
       "    }\n",
       "\n",
       "    .dataframe thead th {\n",
       "        text-align: right;\n",
       "    }\n",
       "</style>\n",
       "<table border=\"1\" class=\"dataframe\">\n",
       "  <thead>\n",
       "    <tr style=\"text-align: right;\">\n",
       "      <th></th>\n",
       "      <th>order_date</th>\n",
       "      <th>order_region</th>\n",
       "      <th>order_country</th>\n",
       "      <th>order_city</th>\n",
       "      <th>market</th>\n",
       "      <th>sales</th>\n",
       "      <th>order_item_quantity</th>\n",
       "      <th>shipping_date</th>\n",
       "      <th>days_for_shipping_real</th>\n",
       "      <th>days_for_shipment_scheduled</th>\n",
       "      <th>category_name</th>\n",
       "      <th>delivery_status</th>\n",
       "      <th>late_delivery_risk</th>\n",
       "      <th>shipping_mode</th>\n",
       "      <th>order_status</th>\n",
       "      <th>order_profit_per_order</th>\n",
       "      <th>sales_per_item</th>\n",
       "      <th>shipping_days_difference</th>\n",
       "      <th>order_year</th>\n",
       "      <th>order_month</th>\n",
       "      <th>order_year_month_date</th>\n",
       "    </tr>\n",
       "  </thead>\n",
       "  <tbody>\n",
       "    <tr>\n",
       "      <th>0</th>\n",
       "      <td>2015-01-01 00:00:00</td>\n",
       "      <td>Central America</td>\n",
       "      <td>Mexico</td>\n",
       "      <td>Mexico City</td>\n",
       "      <td>Latin America</td>\n",
       "      <td>299.98</td>\n",
       "      <td>1</td>\n",
       "      <td>1/3/2015 0:00</td>\n",
       "      <td>2</td>\n",
       "      <td>4</td>\n",
       "      <td>Camping &amp; Hiking</td>\n",
       "      <td>Advance shipping</td>\n",
       "      <td>0</td>\n",
       "      <td>Standard Class</td>\n",
       "      <td>CLOSED</td>\n",
       "      <td>88.79</td>\n",
       "      <td>299.98</td>\n",
       "      <td>2</td>\n",
       "      <td>2015</td>\n",
       "      <td>January</td>\n",
       "      <td>2015-01-01</td>\n",
       "    </tr>\n",
       "    <tr>\n",
       "      <th>1</th>\n",
       "      <td>2015-01-01 00:21:00</td>\n",
       "      <td>South America</td>\n",
       "      <td>Colombia</td>\n",
       "      <td>Dos Quebradas</td>\n",
       "      <td>Latin America</td>\n",
       "      <td>199.99</td>\n",
       "      <td>1</td>\n",
       "      <td>1/4/2015 0:21</td>\n",
       "      <td>3</td>\n",
       "      <td>4</td>\n",
       "      <td>Water Sports</td>\n",
       "      <td>Advance shipping</td>\n",
       "      <td>0</td>\n",
       "      <td>Standard Class</td>\n",
       "      <td>PENDING_PAYMENT</td>\n",
       "      <td>91.18</td>\n",
       "      <td>199.99</td>\n",
       "      <td>1</td>\n",
       "      <td>2015</td>\n",
       "      <td>January</td>\n",
       "      <td>2015-01-01</td>\n",
       "    </tr>\n",
       "    <tr>\n",
       "      <th>2</th>\n",
       "      <td>2015-01-01 00:21:00</td>\n",
       "      <td>South America</td>\n",
       "      <td>Colombia</td>\n",
       "      <td>Dos Quebradas</td>\n",
       "      <td>Latin America</td>\n",
       "      <td>250.00</td>\n",
       "      <td>5</td>\n",
       "      <td>1/4/2015 0:21</td>\n",
       "      <td>3</td>\n",
       "      <td>4</td>\n",
       "      <td>Women's Apparel</td>\n",
       "      <td>Advance shipping</td>\n",
       "      <td>0</td>\n",
       "      <td>Standard Class</td>\n",
       "      <td>PENDING_PAYMENT</td>\n",
       "      <td>68.25</td>\n",
       "      <td>50.00</td>\n",
       "      <td>1</td>\n",
       "      <td>2015</td>\n",
       "      <td>January</td>\n",
       "      <td>2015-01-01</td>\n",
       "    </tr>\n",
       "    <tr>\n",
       "      <th>3</th>\n",
       "      <td>2015-01-01 00:21:00</td>\n",
       "      <td>South America</td>\n",
       "      <td>Colombia</td>\n",
       "      <td>Dos Quebradas</td>\n",
       "      <td>Latin America</td>\n",
       "      <td>129.99</td>\n",
       "      <td>1</td>\n",
       "      <td>1/4/2015 0:21</td>\n",
       "      <td>3</td>\n",
       "      <td>4</td>\n",
       "      <td>Men's Footwear</td>\n",
       "      <td>Advance shipping</td>\n",
       "      <td>0</td>\n",
       "      <td>Standard Class</td>\n",
       "      <td>PENDING_PAYMENT</td>\n",
       "      <td>36.47</td>\n",
       "      <td>129.99</td>\n",
       "      <td>1</td>\n",
       "      <td>2015</td>\n",
       "      <td>January</td>\n",
       "      <td>2015-01-01</td>\n",
       "    </tr>\n",
       "    <tr>\n",
       "      <th>4</th>\n",
       "      <td>2015-01-01 01:03:00</td>\n",
       "      <td>South America</td>\n",
       "      <td>Colombia</td>\n",
       "      <td>Dos Quebradas</td>\n",
       "      <td>Latin America</td>\n",
       "      <td>199.92</td>\n",
       "      <td>4</td>\n",
       "      <td>1/6/2015 1:03</td>\n",
       "      <td>5</td>\n",
       "      <td>4</td>\n",
       "      <td>Indoor/Outdoor Games</td>\n",
       "      <td>Late delivery</td>\n",
       "      <td>1</td>\n",
       "      <td>Standard Class</td>\n",
       "      <td>CLOSED</td>\n",
       "      <td>33.59</td>\n",
       "      <td>49.98</td>\n",
       "      <td>-1</td>\n",
       "      <td>2015</td>\n",
       "      <td>January</td>\n",
       "      <td>2015-01-01</td>\n",
       "    </tr>\n",
       "  </tbody>\n",
       "</table>\n",
       "</div>"
      ],
      "text/plain": [
       "            order_date     order_region order_country     order_city  \\\n",
       "0  2015-01-01 00:00:00  Central America        Mexico    Mexico City   \n",
       "1  2015-01-01 00:21:00    South America      Colombia  Dos Quebradas   \n",
       "2  2015-01-01 00:21:00    South America      Colombia  Dos Quebradas   \n",
       "3  2015-01-01 00:21:00    South America      Colombia  Dos Quebradas   \n",
       "4  2015-01-01 01:03:00    South America      Colombia  Dos Quebradas   \n",
       "\n",
       "          market  sales  order_item_quantity  shipping_date  \\\n",
       "0  Latin America 299.98                    1  1/3/2015 0:00   \n",
       "1  Latin America 199.99                    1  1/4/2015 0:21   \n",
       "2  Latin America 250.00                    5  1/4/2015 0:21   \n",
       "3  Latin America 129.99                    1  1/4/2015 0:21   \n",
       "4  Latin America 199.92                    4  1/6/2015 1:03   \n",
       "\n",
       "   days_for_shipping_real  days_for_shipment_scheduled         category_name  \\\n",
       "0                       2                            4      Camping & Hiking   \n",
       "1                       3                            4          Water Sports   \n",
       "2                       3                            4       Women's Apparel   \n",
       "3                       3                            4        Men's Footwear   \n",
       "4                       5                            4  Indoor/Outdoor Games   \n",
       "\n",
       "    delivery_status  late_delivery_risk   shipping_mode     order_status  \\\n",
       "0  Advance shipping                   0  Standard Class           CLOSED   \n",
       "1  Advance shipping                   0  Standard Class  PENDING_PAYMENT   \n",
       "2  Advance shipping                   0  Standard Class  PENDING_PAYMENT   \n",
       "3  Advance shipping                   0  Standard Class  PENDING_PAYMENT   \n",
       "4     Late delivery                   1  Standard Class           CLOSED   \n",
       "\n",
       "   order_profit_per_order  sales_per_item  shipping_days_difference  \\\n",
       "0                   88.79          299.98                         2   \n",
       "1                   91.18          199.99                         1   \n",
       "2                   68.25           50.00                         1   \n",
       "3                   36.47          129.99                         1   \n",
       "4                   33.59           49.98                        -1   \n",
       "\n",
       "   order_year order_month order_year_month_date  \n",
       "0        2015     January            2015-01-01  \n",
       "1        2015     January            2015-01-01  \n",
       "2        2015     January            2015-01-01  \n",
       "3        2015     January            2015-01-01  \n",
       "4        2015     January            2015-01-01  "
      ]
     },
     "execution_count": 73,
     "metadata": {},
     "output_type": "execute_result"
    }
   ],
   "source": [
    "# Set location of the dataset\n",
    "filepath = \"../scripts/datasets/preprocessed_data_filtered_status.csv\"\n",
    "\n",
    "# Load datasets\n",
    "main_df = pd.read_csv(filepath)\n",
    "\n",
    "main_df.head()"
   ]
  },
  {
   "cell_type": "code",
   "execution_count": 74,
   "metadata": {},
   "outputs": [
    {
     "data": {
      "text/html": [
       "<div>\n",
       "<style scoped>\n",
       "    .dataframe tbody tr th:only-of-type {\n",
       "        vertical-align: middle;\n",
       "    }\n",
       "\n",
       "    .dataframe tbody tr th {\n",
       "        vertical-align: top;\n",
       "    }\n",
       "\n",
       "    .dataframe thead th {\n",
       "        text-align: right;\n",
       "    }\n",
       "</style>\n",
       "<table border=\"1\" class=\"dataframe\">\n",
       "  <thead>\n",
       "    <tr style=\"text-align: right;\">\n",
       "      <th></th>\n",
       "      <th>market</th>\n",
       "      <th>order_year</th>\n",
       "      <th>order_region</th>\n",
       "      <th>order_item_quantity</th>\n",
       "    </tr>\n",
       "  </thead>\n",
       "  <tbody>\n",
       "    <tr>\n",
       "      <th>0</th>\n",
       "      <td>Africa</td>\n",
       "      <td>2017</td>\n",
       "      <td>Eastern Africa</td>\n",
       "      <td>25.82</td>\n",
       "    </tr>\n",
       "    <tr>\n",
       "      <th>1</th>\n",
       "      <td>Africa</td>\n",
       "      <td>2017</td>\n",
       "      <td>Middle Africa</td>\n",
       "      <td>22.27</td>\n",
       "    </tr>\n",
       "    <tr>\n",
       "      <th>2</th>\n",
       "      <td>Africa</td>\n",
       "      <td>2017</td>\n",
       "      <td>Northern Africa</td>\n",
       "      <td>39.67</td>\n",
       "    </tr>\n",
       "    <tr>\n",
       "      <th>3</th>\n",
       "      <td>Africa</td>\n",
       "      <td>2017</td>\n",
       "      <td>Southern Africa</td>\n",
       "      <td>15.19</td>\n",
       "    </tr>\n",
       "    <tr>\n",
       "      <th>4</th>\n",
       "      <td>Africa</td>\n",
       "      <td>2017</td>\n",
       "      <td>Western Africa</td>\n",
       "      <td>53.89</td>\n",
       "    </tr>\n",
       "    <tr>\n",
       "      <th>5</th>\n",
       "      <td>Europe</td>\n",
       "      <td>2017</td>\n",
       "      <td>Asiatic Russia/European Russia</td>\n",
       "      <td>22.89</td>\n",
       "    </tr>\n",
       "    <tr>\n",
       "      <th>6</th>\n",
       "      <td>Europe</td>\n",
       "      <td>2017</td>\n",
       "      <td>Eastern Europe</td>\n",
       "      <td>32.72</td>\n",
       "    </tr>\n",
       "    <tr>\n",
       "      <th>7</th>\n",
       "      <td>Europe</td>\n",
       "      <td>2017</td>\n",
       "      <td>Northern Europe</td>\n",
       "      <td>25.91</td>\n",
       "    </tr>\n",
       "    <tr>\n",
       "      <th>8</th>\n",
       "      <td>Europe</td>\n",
       "      <td>2017</td>\n",
       "      <td>Southern Europe</td>\n",
       "      <td>24.59</td>\n",
       "    </tr>\n",
       "    <tr>\n",
       "      <th>9</th>\n",
       "      <td>Europe</td>\n",
       "      <td>2017</td>\n",
       "      <td>Western Europe</td>\n",
       "      <td>72.42</td>\n",
       "    </tr>\n",
       "    <tr>\n",
       "      <th>10</th>\n",
       "      <td>Latin America</td>\n",
       "      <td>2017</td>\n",
       "      <td>Caribbean</td>\n",
       "      <td>51.50</td>\n",
       "    </tr>\n",
       "    <tr>\n",
       "      <th>11</th>\n",
       "      <td>Latin America</td>\n",
       "      <td>2017</td>\n",
       "      <td>Central America</td>\n",
       "      <td>182.54</td>\n",
       "    </tr>\n",
       "    <tr>\n",
       "      <th>12</th>\n",
       "      <td>Latin America</td>\n",
       "      <td>2017</td>\n",
       "      <td>South America</td>\n",
       "      <td>88.93</td>\n",
       "    </tr>\n",
       "    <tr>\n",
       "      <th>13</th>\n",
       "      <td>Pacific Asia</td>\n",
       "      <td>2017</td>\n",
       "      <td>Australia/New Zealand</td>\n",
       "      <td>2.30</td>\n",
       "    </tr>\n",
       "    <tr>\n",
       "      <th>14</th>\n",
       "      <td>Pacific Asia</td>\n",
       "      <td>2017</td>\n",
       "      <td>Central Asia</td>\n",
       "      <td>9.35</td>\n",
       "    </tr>\n",
       "    <tr>\n",
       "      <th>15</th>\n",
       "      <td>Pacific Asia</td>\n",
       "      <td>2017</td>\n",
       "      <td>Eastern Asia</td>\n",
       "      <td>2.34</td>\n",
       "    </tr>\n",
       "    <tr>\n",
       "      <th>16</th>\n",
       "      <td>Pacific Asia</td>\n",
       "      <td>2017</td>\n",
       "      <td>Melanesia</td>\n",
       "      <td>0.01</td>\n",
       "    </tr>\n",
       "    <tr>\n",
       "      <th>17</th>\n",
       "      <td>Pacific Asia</td>\n",
       "      <td>2017</td>\n",
       "      <td>Southeastern Asia</td>\n",
       "      <td>2.86</td>\n",
       "    </tr>\n",
       "    <tr>\n",
       "      <th>18</th>\n",
       "      <td>Pacific Asia</td>\n",
       "      <td>2017</td>\n",
       "      <td>Southern Asia</td>\n",
       "      <td>2.66</td>\n",
       "    </tr>\n",
       "    <tr>\n",
       "      <th>19</th>\n",
       "      <td>Pacific Asia</td>\n",
       "      <td>2017</td>\n",
       "      <td>Western Asia</td>\n",
       "      <td>95.17</td>\n",
       "    </tr>\n",
       "    <tr>\n",
       "      <th>20</th>\n",
       "      <td>USCA</td>\n",
       "      <td>2017</td>\n",
       "      <td>Northern America</td>\n",
       "      <td>14.88</td>\n",
       "    </tr>\n",
       "  </tbody>\n",
       "</table>\n",
       "</div>"
      ],
      "text/plain": [
       "           market  order_year                    order_region  \\\n",
       "0          Africa        2017                  Eastern Africa   \n",
       "1          Africa        2017                   Middle Africa   \n",
       "2          Africa        2017                 Northern Africa   \n",
       "3          Africa        2017                 Southern Africa   \n",
       "4          Africa        2017                  Western Africa   \n",
       "5          Europe        2017  Asiatic Russia/European Russia   \n",
       "6          Europe        2017                  Eastern Europe   \n",
       "7          Europe        2017                 Northern Europe   \n",
       "8          Europe        2017                 Southern Europe   \n",
       "9          Europe        2017                  Western Europe   \n",
       "10  Latin America        2017                       Caribbean   \n",
       "11  Latin America        2017                 Central America   \n",
       "12  Latin America        2017                   South America   \n",
       "13   Pacific Asia        2017           Australia/New Zealand   \n",
       "14   Pacific Asia        2017                    Central Asia   \n",
       "15   Pacific Asia        2017                    Eastern Asia   \n",
       "16   Pacific Asia        2017                       Melanesia   \n",
       "17   Pacific Asia        2017               Southeastern Asia   \n",
       "18   Pacific Asia        2017                   Southern Asia   \n",
       "19   Pacific Asia        2017                    Western Asia   \n",
       "20           USCA        2017                Northern America   \n",
       "\n",
       "    order_item_quantity  \n",
       "0                 25.82  \n",
       "1                 22.27  \n",
       "2                 39.67  \n",
       "3                 15.19  \n",
       "4                 53.89  \n",
       "5                 22.89  \n",
       "6                 32.72  \n",
       "7                 25.91  \n",
       "8                 24.59  \n",
       "9                 72.42  \n",
       "10                51.50  \n",
       "11               182.54  \n",
       "12                88.93  \n",
       "13                 2.30  \n",
       "14                 9.35  \n",
       "15                 2.34  \n",
       "16                 0.01  \n",
       "17                 2.86  \n",
       "18                 2.66  \n",
       "19                95.17  \n",
       "20                14.88  "
      ]
     },
     "execution_count": 74,
     "metadata": {},
     "output_type": "execute_result"
    }
   ],
   "source": [
    "# Convert 'order_date' to datetime and set it as the index\n",
    "main_df2 = main_df.copy()\n",
    "main_df2['order_date'] = pd.to_datetime(main_df2['order_date'])\n",
    "main_df2.set_index('order_date', inplace=True)\n",
    "\n",
    "# Resample the DataFrame for every day and sum the item quantity for each region\n",
    "daily_orders = main_df2.groupby(['market','order_region']).resample('D')['order_item_quantity'].sum().reset_index()\n",
    "\n",
    "# Calculate the average daily order for each region by year\n",
    "avg_daily_orders = daily_orders.groupby(['market', daily_orders['order_date'].dt.year, 'order_region'])['order_item_quantity'].mean().reset_index()\n",
    "avg_daily_orders.rename(columns={'order_date': 'order_year'}, inplace=True)\n",
    "\n",
    "# Filter the years (2015 to 2017)\n",
    "avg_daily_orders = avg_daily_orders[(avg_daily_orders['order_year'] >= 2015) & (avg_daily_orders['order_year'] <= 2017)]\n",
    "\n",
    "# Separate the dataframes for each year\n",
    "avg_df_2015 = avg_daily_orders[avg_daily_orders['order_year'] == 2015].reset_index(drop=True)\n",
    "avg_df_2016 = avg_daily_orders[avg_daily_orders['order_year'] == 2016].reset_index(drop=True)\n",
    "avg_df_2017 = avg_daily_orders[avg_daily_orders['order_year'] == 2017].reset_index(drop=True)\n",
    "\n",
    "avg_df_2015.to_csv(f\"../scripts/datasets/daily_avg_order_2015.csv\", index=False)\n",
    "avg_df_2016.to_csv(f\"../scripts/datasets/daily_avg_order_2016.csv\", index=False)\n",
    "avg_df_2017.to_csv(f\"../scripts/datasets/daily_avg_order_2017.csv\", index=False)\n",
    "\n",
    "avg_df_2017"
   ]
  },
  {
   "cell_type": "code",
   "execution_count": 75,
   "metadata": {},
   "outputs": [
    {
     "data": {
      "text/plain": [
       "array(['Latin America', 'Europe', 'Pacific Asia', 'USCA', 'Africa'],\n",
       "      dtype=object)"
      ]
     },
     "execution_count": 75,
     "metadata": {},
     "output_type": "execute_result"
    }
   ],
   "source": [
    "main_df[\"market\"].unique()"
   ]
  },
  {
   "cell_type": "code",
   "execution_count": 76,
   "metadata": {},
   "outputs": [
    {
     "data": {
      "text/html": [
       "<div>\n",
       "<style scoped>\n",
       "    .dataframe tbody tr th:only-of-type {\n",
       "        vertical-align: middle;\n",
       "    }\n",
       "\n",
       "    .dataframe tbody tr th {\n",
       "        vertical-align: top;\n",
       "    }\n",
       "\n",
       "    .dataframe thead th {\n",
       "        text-align: right;\n",
       "    }\n",
       "</style>\n",
       "<table border=\"1\" class=\"dataframe\">\n",
       "  <thead>\n",
       "    <tr style=\"text-align: right;\">\n",
       "      <th></th>\n",
       "      <th>market</th>\n",
       "      <th>order_region</th>\n",
       "      <th>total_order</th>\n",
       "    </tr>\n",
       "  </thead>\n",
       "  <tbody>\n",
       "    <tr>\n",
       "      <th>0</th>\n",
       "      <td>Africa</td>\n",
       "      <td>Eastern Africa</td>\n",
       "      <td>439</td>\n",
       "    </tr>\n",
       "    <tr>\n",
       "      <th>1</th>\n",
       "      <td>Africa</td>\n",
       "      <td>Middle Africa</td>\n",
       "      <td>334</td>\n",
       "    </tr>\n",
       "    <tr>\n",
       "      <th>2</th>\n",
       "      <td>Africa</td>\n",
       "      <td>Northern Africa</td>\n",
       "      <td>714</td>\n",
       "    </tr>\n",
       "    <tr>\n",
       "      <th>3</th>\n",
       "      <td>Africa</td>\n",
       "      <td>Southern Africa</td>\n",
       "      <td>243</td>\n",
       "    </tr>\n",
       "    <tr>\n",
       "      <th>4</th>\n",
       "      <td>Africa</td>\n",
       "      <td>Western Africa</td>\n",
       "      <td>970</td>\n",
       "    </tr>\n",
       "    <tr>\n",
       "      <th>5</th>\n",
       "      <td>Europe</td>\n",
       "      <td>Asiatic Russia/European Russia</td>\n",
       "      <td>412</td>\n",
       "    </tr>\n",
       "    <tr>\n",
       "      <th>6</th>\n",
       "      <td>Europe</td>\n",
       "      <td>Eastern Europe</td>\n",
       "      <td>589</td>\n",
       "    </tr>\n",
       "    <tr>\n",
       "      <th>7</th>\n",
       "      <td>Europe</td>\n",
       "      <td>Northern Europe</td>\n",
       "      <td>8135</td>\n",
       "    </tr>\n",
       "    <tr>\n",
       "      <th>8</th>\n",
       "      <td>Europe</td>\n",
       "      <td>Southern Europe</td>\n",
       "      <td>7720</td>\n",
       "    </tr>\n",
       "    <tr>\n",
       "      <th>9</th>\n",
       "      <td>Europe</td>\n",
       "      <td>Western Europe</td>\n",
       "      <td>22741</td>\n",
       "    </tr>\n",
       "    <tr>\n",
       "      <th>10</th>\n",
       "      <td>Latin America</td>\n",
       "      <td>Caribbean</td>\n",
       "      <td>8395</td>\n",
       "    </tr>\n",
       "    <tr>\n",
       "      <th>11</th>\n",
       "      <td>Latin America</td>\n",
       "      <td>Central America</td>\n",
       "      <td>29936</td>\n",
       "    </tr>\n",
       "    <tr>\n",
       "      <th>12</th>\n",
       "      <td>Latin America</td>\n",
       "      <td>South America</td>\n",
       "      <td>14941</td>\n",
       "    </tr>\n",
       "    <tr>\n",
       "      <th>13</th>\n",
       "      <td>Pacific Asia</td>\n",
       "      <td>Australia/New Zealand</td>\n",
       "      <td>841</td>\n",
       "    </tr>\n",
       "    <tr>\n",
       "      <th>14</th>\n",
       "      <td>Pacific Asia</td>\n",
       "      <td>Central Asia</td>\n",
       "      <td>159</td>\n",
       "    </tr>\n",
       "    <tr>\n",
       "      <th>15</th>\n",
       "      <td>Pacific Asia</td>\n",
       "      <td>Eastern Asia</td>\n",
       "      <td>855</td>\n",
       "    </tr>\n",
       "    <tr>\n",
       "      <th>16</th>\n",
       "      <td>Pacific Asia</td>\n",
       "      <td>Melanesia</td>\n",
       "      <td>2</td>\n",
       "    </tr>\n",
       "    <tr>\n",
       "      <th>17</th>\n",
       "      <td>Pacific Asia</td>\n",
       "      <td>Southeastern Asia</td>\n",
       "      <td>1045</td>\n",
       "    </tr>\n",
       "    <tr>\n",
       "      <th>18</th>\n",
       "      <td>Pacific Asia</td>\n",
       "      <td>Southern Asia</td>\n",
       "      <td>970</td>\n",
       "    </tr>\n",
       "    <tr>\n",
       "      <th>19</th>\n",
       "      <td>Pacific Asia</td>\n",
       "      <td>Western Asia</td>\n",
       "      <td>1713</td>\n",
       "    </tr>\n",
       "    <tr>\n",
       "      <th>20</th>\n",
       "      <td>USCA</td>\n",
       "      <td>Northern America</td>\n",
       "      <td>238</td>\n",
       "    </tr>\n",
       "  </tbody>\n",
       "</table>\n",
       "</div>"
      ],
      "text/plain": [
       "           market                    order_region  total_order\n",
       "0          Africa                  Eastern Africa          439\n",
       "1          Africa                   Middle Africa          334\n",
       "2          Africa                 Northern Africa          714\n",
       "3          Africa                 Southern Africa          243\n",
       "4          Africa                  Western Africa          970\n",
       "5          Europe  Asiatic Russia/European Russia          412\n",
       "6          Europe                  Eastern Europe          589\n",
       "7          Europe                 Northern Europe         8135\n",
       "8          Europe                 Southern Europe         7720\n",
       "9          Europe                  Western Europe        22741\n",
       "10  Latin America                       Caribbean         8395\n",
       "11  Latin America                 Central America        29936\n",
       "12  Latin America                   South America        14941\n",
       "13   Pacific Asia           Australia/New Zealand          841\n",
       "14   Pacific Asia                    Central Asia          159\n",
       "15   Pacific Asia                    Eastern Asia          855\n",
       "16   Pacific Asia                       Melanesia            2\n",
       "17   Pacific Asia               Southeastern Asia         1045\n",
       "18   Pacific Asia                   Southern Asia          970\n",
       "19   Pacific Asia                    Western Asia         1713\n",
       "20           USCA                Northern America          238"
      ]
     },
     "execution_count": 76,
     "metadata": {},
     "output_type": "execute_result"
    }
   ],
   "source": [
    "order_group_2017 = main_df[main_df[\"order_year\"]==2017].groupby([\"market\", \"order_region\"]).agg(\n",
    "    total_order = (\"order_item_quantity\", \"sum\")\n",
    ").reset_index()\n",
    "\n",
    "order_group_2017"
   ]
  },
  {
   "cell_type": "code",
   "execution_count": 77,
   "metadata": {},
   "outputs": [
    {
     "name": "stdout",
     "output_type": "stream",
     "text": [
      "            order_date                    order_region order_country  \\\n",
      "0  2017-01-01 00:33:00  Asiatic Russia/European Russia        Russia   \n",
      "1  2017-01-01 00:33:00  Asiatic Russia/European Russia        Russia   \n",
      "2  2017-01-01 00:33:00  Asiatic Russia/European Russia        Russia   \n",
      "\n",
      "    order_city  market  sales  order_item_quantity  shipping_date  \\\n",
      "0  Cheliábinsk  Europe  99.96                    2  1/6/2017 0:33   \n",
      "1  Cheliábinsk  Europe  39.99                    1  1/6/2017 0:33   \n",
      "2  Cheliábinsk  Europe 239.96                    4  1/6/2017 0:33   \n",
      "\n",
      "   days_for_shipping_real  days_for_shipment_scheduled         category_name  \\\n",
      "0                       5                            2  Indoor/Outdoor Games   \n",
      "1                       5                            2         Shop By Sport   \n",
      "2                       5                            2                Cleats   \n",
      "\n",
      "  delivery_status  late_delivery_risk shipping_mode order_status  \\\n",
      "0   Late delivery                   1  Second Class     COMPLETE   \n",
      "1   Late delivery                   1  Second Class     COMPLETE   \n",
      "2   Late delivery                   1  Second Class     COMPLETE   \n",
      "\n",
      "   order_profit_per_order  sales_per_item  shipping_days_difference  \\\n",
      "0                  -58.78           49.98                        -3   \n",
      "1                   15.98           39.99                        -3   \n",
      "2                  105.82           59.99                        -3   \n",
      "\n",
      "   order_year order_month order_year_month_date  \n",
      "0        2017     January            2017-01-01  \n",
      "1        2017     January            2017-01-01  \n",
      "2        2017     January            2017-01-01  \n"
     ]
    }
   ],
   "source": [
    "df_2017 = main_df[main_df[\"order_year\"]==2017].reset_index(drop=True)\n",
    "print(df_2017.head(3))"
   ]
  },
  {
   "cell_type": "code",
   "execution_count": 78,
   "metadata": {},
   "outputs": [
    {
     "data": {
      "text/plain": [
       "['#3366CC',\n",
       " '#DC3912',\n",
       " '#FF9900',\n",
       " '#109618',\n",
       " '#990099',\n",
       " '#0099C6',\n",
       " '#DD4477',\n",
       " '#66AA00',\n",
       " '#B82E2E',\n",
       " '#316395']"
      ]
     },
     "execution_count": 78,
     "metadata": {},
     "output_type": "execute_result"
    }
   ],
   "source": [
    "px.colors.qualitative.G10"
   ]
  },
  {
   "cell_type": "code",
   "execution_count": 79,
   "metadata": {},
   "outputs": [],
   "source": [
    "def create_bar_region(dataframe):\n",
    "    grouped = dataframe.groupby([\"market\", \"order_region\"]).agg(\n",
    "        total_sales = (\"sales\", \"sum\")\n",
    "    ).reset_index()\n",
    "\n",
    "    grouped = grouped.sort_values(by=\"total_sales\", ascending=False).reset_index()\n",
    "    grouped[\"total_sales\"] = round(grouped[\"total_sales\"], 2)\n",
    "    grouped = grouped.head(5)\n",
    "\n",
    "    # format values in millions\n",
    "    grouped['total_sales_formatted'] = (grouped['total_sales'] / 1000000).round(2).astype(str) + 'M'\n",
    "\n",
    "    # assign unique colors to each market\n",
    "    color_map = {'LATAM': '#3366CC', 'Europe': '#DC3912', 'Pacific Asia': '#FF9900', 'USCA': '#109618', 'Africa': '#990099'}\n",
    "\n",
    "    fig = px.bar(grouped, x=\"total_sales\", y=\"order_region\", orientation=\"h\", text=\"total_sales_formatted\", color=\"market\",\n",
    "                    labels={\"order_region\":\"\", \"total_sales\":\"Total Sales\"}, template=\"plotly_dark\",\n",
    "                     color_discrete_map=color_map)\n",
    "\n",
    "    fig.update_layout(yaxis={'categoryorder':'total ascending'})\n",
    "\n",
    "    fig.update_layout(autosize=True,width=400,height=300)\n",
    "    fig.update_layout(title=\"<b>Top 5 High-Performing Regions by Total Sales</b>\",title_font_size=13)\n",
    "    fig.update_layout({'plot_bgcolor': 'rgba(0, 0, 0, 0)','paper_bgcolor': 'rgba(0, 0, 0, 0)',})\n",
    "    fig.update_xaxes(title_font=dict(size=12))\n",
    "    fig.update_layout(xaxis_showgrid=False, yaxis_showgrid=False)\n",
    "    fig.update_layout(legend_title_text='Market')\n",
    "    \n",
    "\n",
    "    return fig"
   ]
  },
  {
   "cell_type": "code",
   "execution_count": 80,
   "metadata": {},
   "outputs": [
    {
     "data": {
      "application/vnd.plotly.v1+json": {
       "config": {
        "plotlyServerURL": "https://plot.ly"
       },
       "data": [
        {
         "alignmentgroup": "True",
         "hovertemplate": "market=Europe<br>Total Sales=%{x}<br>=%{y}<br>total_sales_formatted=%{text}<extra></extra>",
         "legendgroup": "Europe",
         "marker": {
          "color": "#DC3912",
          "pattern": {
           "shape": ""
          }
         },
         "name": "Europe",
         "offsetgroup": "Europe",
         "orientation": "h",
         "showlegend": true,
         "text": [
          "2.85M",
          "1.04M",
          "0.98M"
         ],
         "textposition": "auto",
         "type": "bar",
         "x": [
          2847340.92,
          1042261.49,
          979686.24
         ],
         "xaxis": "x",
         "y": [
          "Western Europe",
          "Northern Europe",
          "Southern Europe"
         ],
         "yaxis": "y"
        },
        {
         "alignmentgroup": "True",
         "hovertemplate": "market=Latin America<br>Total Sales=%{x}<br>=%{y}<br>total_sales_formatted=%{text}<extra></extra>",
         "legendgroup": "Latin America",
         "marker": {
          "color": "#19d3f3",
          "pattern": {
           "shape": ""
          }
         },
         "name": "Latin America",
         "offsetgroup": "Latin America",
         "orientation": "h",
         "showlegend": true,
         "text": [
          "2.79M",
          "1.4M"
         ],
         "textposition": "auto",
         "type": "bar",
         "x": [
          2794204.96,
          1402751.44
         ],
         "xaxis": "x",
         "y": [
          "Central America",
          "South America"
         ],
         "yaxis": "y"
        }
       ],
       "layout": {
        "autosize": true,
        "barmode": "relative",
        "height": 300,
        "legend": {
         "title": {
          "text": "Market"
         },
         "tracegroupgap": 0
        },
        "margin": {
         "t": 60
        },
        "paper_bgcolor": "rgba(0, 0, 0, 0)",
        "plot_bgcolor": "rgba(0, 0, 0, 0)",
        "template": {
         "data": {
          "bar": [
           {
            "error_x": {
             "color": "#f2f5fa"
            },
            "error_y": {
             "color": "#f2f5fa"
            },
            "marker": {
             "line": {
              "color": "rgb(17,17,17)",
              "width": 0.5
             },
             "pattern": {
              "fillmode": "overlay",
              "size": 10,
              "solidity": 0.2
             }
            },
            "type": "bar"
           }
          ],
          "barpolar": [
           {
            "marker": {
             "line": {
              "color": "rgb(17,17,17)",
              "width": 0.5
             },
             "pattern": {
              "fillmode": "overlay",
              "size": 10,
              "solidity": 0.2
             }
            },
            "type": "barpolar"
           }
          ],
          "carpet": [
           {
            "aaxis": {
             "endlinecolor": "#A2B1C6",
             "gridcolor": "#506784",
             "linecolor": "#506784",
             "minorgridcolor": "#506784",
             "startlinecolor": "#A2B1C6"
            },
            "baxis": {
             "endlinecolor": "#A2B1C6",
             "gridcolor": "#506784",
             "linecolor": "#506784",
             "minorgridcolor": "#506784",
             "startlinecolor": "#A2B1C6"
            },
            "type": "carpet"
           }
          ],
          "choropleth": [
           {
            "colorbar": {
             "outlinewidth": 0,
             "ticks": ""
            },
            "type": "choropleth"
           }
          ],
          "contour": [
           {
            "colorbar": {
             "outlinewidth": 0,
             "ticks": ""
            },
            "colorscale": [
             [
              0,
              "#0d0887"
             ],
             [
              0.1111111111111111,
              "#46039f"
             ],
             [
              0.2222222222222222,
              "#7201a8"
             ],
             [
              0.3333333333333333,
              "#9c179e"
             ],
             [
              0.4444444444444444,
              "#bd3786"
             ],
             [
              0.5555555555555556,
              "#d8576b"
             ],
             [
              0.6666666666666666,
              "#ed7953"
             ],
             [
              0.7777777777777778,
              "#fb9f3a"
             ],
             [
              0.8888888888888888,
              "#fdca26"
             ],
             [
              1,
              "#f0f921"
             ]
            ],
            "type": "contour"
           }
          ],
          "contourcarpet": [
           {
            "colorbar": {
             "outlinewidth": 0,
             "ticks": ""
            },
            "type": "contourcarpet"
           }
          ],
          "heatmap": [
           {
            "colorbar": {
             "outlinewidth": 0,
             "ticks": ""
            },
            "colorscale": [
             [
              0,
              "#0d0887"
             ],
             [
              0.1111111111111111,
              "#46039f"
             ],
             [
              0.2222222222222222,
              "#7201a8"
             ],
             [
              0.3333333333333333,
              "#9c179e"
             ],
             [
              0.4444444444444444,
              "#bd3786"
             ],
             [
              0.5555555555555556,
              "#d8576b"
             ],
             [
              0.6666666666666666,
              "#ed7953"
             ],
             [
              0.7777777777777778,
              "#fb9f3a"
             ],
             [
              0.8888888888888888,
              "#fdca26"
             ],
             [
              1,
              "#f0f921"
             ]
            ],
            "type": "heatmap"
           }
          ],
          "heatmapgl": [
           {
            "colorbar": {
             "outlinewidth": 0,
             "ticks": ""
            },
            "colorscale": [
             [
              0,
              "#0d0887"
             ],
             [
              0.1111111111111111,
              "#46039f"
             ],
             [
              0.2222222222222222,
              "#7201a8"
             ],
             [
              0.3333333333333333,
              "#9c179e"
             ],
             [
              0.4444444444444444,
              "#bd3786"
             ],
             [
              0.5555555555555556,
              "#d8576b"
             ],
             [
              0.6666666666666666,
              "#ed7953"
             ],
             [
              0.7777777777777778,
              "#fb9f3a"
             ],
             [
              0.8888888888888888,
              "#fdca26"
             ],
             [
              1,
              "#f0f921"
             ]
            ],
            "type": "heatmapgl"
           }
          ],
          "histogram": [
           {
            "marker": {
             "pattern": {
              "fillmode": "overlay",
              "size": 10,
              "solidity": 0.2
             }
            },
            "type": "histogram"
           }
          ],
          "histogram2d": [
           {
            "colorbar": {
             "outlinewidth": 0,
             "ticks": ""
            },
            "colorscale": [
             [
              0,
              "#0d0887"
             ],
             [
              0.1111111111111111,
              "#46039f"
             ],
             [
              0.2222222222222222,
              "#7201a8"
             ],
             [
              0.3333333333333333,
              "#9c179e"
             ],
             [
              0.4444444444444444,
              "#bd3786"
             ],
             [
              0.5555555555555556,
              "#d8576b"
             ],
             [
              0.6666666666666666,
              "#ed7953"
             ],
             [
              0.7777777777777778,
              "#fb9f3a"
             ],
             [
              0.8888888888888888,
              "#fdca26"
             ],
             [
              1,
              "#f0f921"
             ]
            ],
            "type": "histogram2d"
           }
          ],
          "histogram2dcontour": [
           {
            "colorbar": {
             "outlinewidth": 0,
             "ticks": ""
            },
            "colorscale": [
             [
              0,
              "#0d0887"
             ],
             [
              0.1111111111111111,
              "#46039f"
             ],
             [
              0.2222222222222222,
              "#7201a8"
             ],
             [
              0.3333333333333333,
              "#9c179e"
             ],
             [
              0.4444444444444444,
              "#bd3786"
             ],
             [
              0.5555555555555556,
              "#d8576b"
             ],
             [
              0.6666666666666666,
              "#ed7953"
             ],
             [
              0.7777777777777778,
              "#fb9f3a"
             ],
             [
              0.8888888888888888,
              "#fdca26"
             ],
             [
              1,
              "#f0f921"
             ]
            ],
            "type": "histogram2dcontour"
           }
          ],
          "mesh3d": [
           {
            "colorbar": {
             "outlinewidth": 0,
             "ticks": ""
            },
            "type": "mesh3d"
           }
          ],
          "parcoords": [
           {
            "line": {
             "colorbar": {
              "outlinewidth": 0,
              "ticks": ""
             }
            },
            "type": "parcoords"
           }
          ],
          "pie": [
           {
            "automargin": true,
            "type": "pie"
           }
          ],
          "scatter": [
           {
            "marker": {
             "line": {
              "color": "#283442"
             }
            },
            "type": "scatter"
           }
          ],
          "scatter3d": [
           {
            "line": {
             "colorbar": {
              "outlinewidth": 0,
              "ticks": ""
             }
            },
            "marker": {
             "colorbar": {
              "outlinewidth": 0,
              "ticks": ""
             }
            },
            "type": "scatter3d"
           }
          ],
          "scattercarpet": [
           {
            "marker": {
             "colorbar": {
              "outlinewidth": 0,
              "ticks": ""
             }
            },
            "type": "scattercarpet"
           }
          ],
          "scattergeo": [
           {
            "marker": {
             "colorbar": {
              "outlinewidth": 0,
              "ticks": ""
             }
            },
            "type": "scattergeo"
           }
          ],
          "scattergl": [
           {
            "marker": {
             "line": {
              "color": "#283442"
             }
            },
            "type": "scattergl"
           }
          ],
          "scattermapbox": [
           {
            "marker": {
             "colorbar": {
              "outlinewidth": 0,
              "ticks": ""
             }
            },
            "type": "scattermapbox"
           }
          ],
          "scatterpolar": [
           {
            "marker": {
             "colorbar": {
              "outlinewidth": 0,
              "ticks": ""
             }
            },
            "type": "scatterpolar"
           }
          ],
          "scatterpolargl": [
           {
            "marker": {
             "colorbar": {
              "outlinewidth": 0,
              "ticks": ""
             }
            },
            "type": "scatterpolargl"
           }
          ],
          "scatterternary": [
           {
            "marker": {
             "colorbar": {
              "outlinewidth": 0,
              "ticks": ""
             }
            },
            "type": "scatterternary"
           }
          ],
          "surface": [
           {
            "colorbar": {
             "outlinewidth": 0,
             "ticks": ""
            },
            "colorscale": [
             [
              0,
              "#0d0887"
             ],
             [
              0.1111111111111111,
              "#46039f"
             ],
             [
              0.2222222222222222,
              "#7201a8"
             ],
             [
              0.3333333333333333,
              "#9c179e"
             ],
             [
              0.4444444444444444,
              "#bd3786"
             ],
             [
              0.5555555555555556,
              "#d8576b"
             ],
             [
              0.6666666666666666,
              "#ed7953"
             ],
             [
              0.7777777777777778,
              "#fb9f3a"
             ],
             [
              0.8888888888888888,
              "#fdca26"
             ],
             [
              1,
              "#f0f921"
             ]
            ],
            "type": "surface"
           }
          ],
          "table": [
           {
            "cells": {
             "fill": {
              "color": "#506784"
             },
             "line": {
              "color": "rgb(17,17,17)"
             }
            },
            "header": {
             "fill": {
              "color": "#2a3f5f"
             },
             "line": {
              "color": "rgb(17,17,17)"
             }
            },
            "type": "table"
           }
          ]
         },
         "layout": {
          "annotationdefaults": {
           "arrowcolor": "#f2f5fa",
           "arrowhead": 0,
           "arrowwidth": 1
          },
          "autotypenumbers": "strict",
          "coloraxis": {
           "colorbar": {
            "outlinewidth": 0,
            "ticks": ""
           }
          },
          "colorscale": {
           "diverging": [
            [
             0,
             "#8e0152"
            ],
            [
             0.1,
             "#c51b7d"
            ],
            [
             0.2,
             "#de77ae"
            ],
            [
             0.3,
             "#f1b6da"
            ],
            [
             0.4,
             "#fde0ef"
            ],
            [
             0.5,
             "#f7f7f7"
            ],
            [
             0.6,
             "#e6f5d0"
            ],
            [
             0.7,
             "#b8e186"
            ],
            [
             0.8,
             "#7fbc41"
            ],
            [
             0.9,
             "#4d9221"
            ],
            [
             1,
             "#276419"
            ]
           ],
           "sequential": [
            [
             0,
             "#0d0887"
            ],
            [
             0.1111111111111111,
             "#46039f"
            ],
            [
             0.2222222222222222,
             "#7201a8"
            ],
            [
             0.3333333333333333,
             "#9c179e"
            ],
            [
             0.4444444444444444,
             "#bd3786"
            ],
            [
             0.5555555555555556,
             "#d8576b"
            ],
            [
             0.6666666666666666,
             "#ed7953"
            ],
            [
             0.7777777777777778,
             "#fb9f3a"
            ],
            [
             0.8888888888888888,
             "#fdca26"
            ],
            [
             1,
             "#f0f921"
            ]
           ],
           "sequentialminus": [
            [
             0,
             "#0d0887"
            ],
            [
             0.1111111111111111,
             "#46039f"
            ],
            [
             0.2222222222222222,
             "#7201a8"
            ],
            [
             0.3333333333333333,
             "#9c179e"
            ],
            [
             0.4444444444444444,
             "#bd3786"
            ],
            [
             0.5555555555555556,
             "#d8576b"
            ],
            [
             0.6666666666666666,
             "#ed7953"
            ],
            [
             0.7777777777777778,
             "#fb9f3a"
            ],
            [
             0.8888888888888888,
             "#fdca26"
            ],
            [
             1,
             "#f0f921"
            ]
           ]
          },
          "colorway": [
           "#636efa",
           "#EF553B",
           "#00cc96",
           "#ab63fa",
           "#FFA15A",
           "#19d3f3",
           "#FF6692",
           "#B6E880",
           "#FF97FF",
           "#FECB52"
          ],
          "font": {
           "color": "#f2f5fa"
          },
          "geo": {
           "bgcolor": "rgb(17,17,17)",
           "lakecolor": "rgb(17,17,17)",
           "landcolor": "rgb(17,17,17)",
           "showlakes": true,
           "showland": true,
           "subunitcolor": "#506784"
          },
          "hoverlabel": {
           "align": "left"
          },
          "hovermode": "closest",
          "mapbox": {
           "style": "dark"
          },
          "paper_bgcolor": "rgb(17,17,17)",
          "plot_bgcolor": "rgb(17,17,17)",
          "polar": {
           "angularaxis": {
            "gridcolor": "#506784",
            "linecolor": "#506784",
            "ticks": ""
           },
           "bgcolor": "rgb(17,17,17)",
           "radialaxis": {
            "gridcolor": "#506784",
            "linecolor": "#506784",
            "ticks": ""
           }
          },
          "scene": {
           "xaxis": {
            "backgroundcolor": "rgb(17,17,17)",
            "gridcolor": "#506784",
            "gridwidth": 2,
            "linecolor": "#506784",
            "showbackground": true,
            "ticks": "",
            "zerolinecolor": "#C8D4E3"
           },
           "yaxis": {
            "backgroundcolor": "rgb(17,17,17)",
            "gridcolor": "#506784",
            "gridwidth": 2,
            "linecolor": "#506784",
            "showbackground": true,
            "ticks": "",
            "zerolinecolor": "#C8D4E3"
           },
           "zaxis": {
            "backgroundcolor": "rgb(17,17,17)",
            "gridcolor": "#506784",
            "gridwidth": 2,
            "linecolor": "#506784",
            "showbackground": true,
            "ticks": "",
            "zerolinecolor": "#C8D4E3"
           }
          },
          "shapedefaults": {
           "line": {
            "color": "#f2f5fa"
           }
          },
          "sliderdefaults": {
           "bgcolor": "#C8D4E3",
           "bordercolor": "rgb(17,17,17)",
           "borderwidth": 1,
           "tickwidth": 0
          },
          "ternary": {
           "aaxis": {
            "gridcolor": "#506784",
            "linecolor": "#506784",
            "ticks": ""
           },
           "baxis": {
            "gridcolor": "#506784",
            "linecolor": "#506784",
            "ticks": ""
           },
           "bgcolor": "rgb(17,17,17)",
           "caxis": {
            "gridcolor": "#506784",
            "linecolor": "#506784",
            "ticks": ""
           }
          },
          "title": {
           "x": 0.05
          },
          "updatemenudefaults": {
           "bgcolor": "#506784",
           "borderwidth": 0
          },
          "xaxis": {
           "automargin": true,
           "gridcolor": "#283442",
           "linecolor": "#506784",
           "ticks": "",
           "title": {
            "standoff": 15
           },
           "zerolinecolor": "#283442",
           "zerolinewidth": 2
          },
          "yaxis": {
           "automargin": true,
           "gridcolor": "#283442",
           "linecolor": "#506784",
           "ticks": "",
           "title": {
            "standoff": 15
           },
           "zerolinecolor": "#283442",
           "zerolinewidth": 2
          }
         }
        },
        "title": {
         "font": {
          "size": 13
         },
         "text": "<b>Top 5 High-Performing Regions by Total Sales</b>"
        },
        "width": 400,
        "xaxis": {
         "anchor": "y",
         "domain": [
          0,
          1
         ],
         "showgrid": false,
         "title": {
          "font": {
           "size": 12
          },
          "text": "Total Sales"
         }
        },
        "yaxis": {
         "anchor": "x",
         "categoryorder": "total ascending",
         "domain": [
          0,
          1
         ],
         "showgrid": false,
         "title": {
          "text": ""
         }
        }
       }
      }
     },
     "metadata": {},
     "output_type": "display_data"
    }
   ],
   "source": [
    "bar1 = create_bar_region(df_2017)\n",
    "bar1"
   ]
  },
  {
   "cell_type": "code",
   "execution_count": 81,
   "metadata": {},
   "outputs": [],
   "source": [
    "def create_bar_region2(dataframe):\n",
    "    grouped = dataframe.groupby([\"market\", \"order_region\"]).agg(\n",
    "        total_sales = (\"sales\", \"sum\")\n",
    "    ).reset_index()\n",
    "\n",
    "    grouped = grouped.sort_values(by=\"total_sales\", ascending=False).reset_index()\n",
    "    grouped[\"total_sales\"] = round(grouped[\"total_sales\"], 2)\n",
    "    grouped = grouped.tail(5)\n",
    "\n",
    "    # format values in millions\n",
    "    grouped['total_sales_formatted'] = (grouped['total_sales'] / 1000).round(2).astype(str) + 'K'\n",
    "\n",
    "    # assign unique colors to each market\n",
    "    color_map = {'LATAM': '#3366CC', 'Europe': '#DC3912', 'Pacific Asia': '#FF9900', 'USCA': '#109618', 'Africa': '#990099'}\n",
    "\n",
    "    fig = px.bar(grouped, x=\"total_sales\", y=\"order_region\", orientation=\"h\", text=\"total_sales_formatted\", color=\"market\",\n",
    "                    labels={\"order_region\":\"\", \"total_sales\":\"Total Sales\"}, template=\"plotly_dark\",\n",
    "                     color_discrete_map=color_map)\n",
    "\n",
    "    fig.update_layout(yaxis={'categoryorder':'total ascending'})\n",
    "\n",
    "    fig.update_layout(autosize=True,width=400,height=300)\n",
    "    fig.update_layout(title=\"<b>Bottom 5 Underperforming Regions by Total Sales</b>\",title_font_size=13)\n",
    "    fig.update_layout({'plot_bgcolor': 'rgba(0, 0, 0, 0)','paper_bgcolor': 'rgba(0, 0, 0, 0)',})\n",
    "    fig.update_xaxes(title_font=dict(size=12))\n",
    "    fig.update_layout(xaxis_showgrid=False, yaxis_showgrid=False)\n",
    "    fig.update_layout(legend_title_text='Market')\n",
    "    \n",
    "\n",
    "    return fig"
   ]
  },
  {
   "cell_type": "code",
   "execution_count": 82,
   "metadata": {},
   "outputs": [
    {
     "data": {
      "application/vnd.plotly.v1+json": {
       "config": {
        "plotlyServerURL": "https://plot.ly"
       },
       "data": [
        {
         "alignmentgroup": "True",
         "hovertemplate": "market=Africa<br>Total Sales=%{x}<br>=%{y}<br>total_sales_formatted=%{text}<extra></extra>",
         "legendgroup": "Africa",
         "marker": {
          "color": "#990099",
          "pattern": {
           "shape": ""
          }
         },
         "name": "Africa",
         "offsetgroup": "Africa",
         "orientation": "h",
         "showlegend": true,
         "text": [
          "28.82K",
          "18.37K"
         ],
         "textposition": "auto",
         "type": "bar",
         "x": [
          28819.9,
          18368.66
         ],
         "xaxis": "x",
         "y": [
          "Middle Africa",
          "Southern Africa"
         ],
         "yaxis": "y"
        },
        {
         "alignmentgroup": "True",
         "hovertemplate": "market=USCA<br>Total Sales=%{x}<br>=%{y}<br>total_sales_formatted=%{text}<extra></extra>",
         "legendgroup": "USCA",
         "marker": {
          "color": "#109618",
          "pattern": {
           "shape": ""
          }
         },
         "name": "USCA",
         "offsetgroup": "USCA",
         "orientation": "h",
         "showlegend": true,
         "text": [
          "20.39K"
         ],
         "textposition": "auto",
         "type": "bar",
         "x": [
          20388.55
         ],
         "xaxis": "x",
         "y": [
          "Northern America"
         ],
         "yaxis": "y"
        },
        {
         "alignmentgroup": "True",
         "hovertemplate": "market=Pacific Asia<br>Total Sales=%{x}<br>=%{y}<br>total_sales_formatted=%{text}<extra></extra>",
         "legendgroup": "Pacific Asia",
         "marker": {
          "color": "#FF9900",
          "pattern": {
           "shape": ""
          }
         },
         "name": "Pacific Asia",
         "offsetgroup": "Pacific Asia",
         "orientation": "h",
         "showlegend": true,
         "text": [
          "11.91K",
          "0.43K"
         ],
         "textposition": "auto",
         "type": "bar",
         "x": [
          11906.64,
          425.03
         ],
         "xaxis": "x",
         "y": [
          "Central Asia",
          "Melanesia"
         ],
         "yaxis": "y"
        }
       ],
       "layout": {
        "autosize": true,
        "barmode": "relative",
        "height": 300,
        "legend": {
         "title": {
          "text": "Market"
         },
         "tracegroupgap": 0
        },
        "margin": {
         "t": 60
        },
        "paper_bgcolor": "rgba(0, 0, 0, 0)",
        "plot_bgcolor": "rgba(0, 0, 0, 0)",
        "template": {
         "data": {
          "bar": [
           {
            "error_x": {
             "color": "#f2f5fa"
            },
            "error_y": {
             "color": "#f2f5fa"
            },
            "marker": {
             "line": {
              "color": "rgb(17,17,17)",
              "width": 0.5
             },
             "pattern": {
              "fillmode": "overlay",
              "size": 10,
              "solidity": 0.2
             }
            },
            "type": "bar"
           }
          ],
          "barpolar": [
           {
            "marker": {
             "line": {
              "color": "rgb(17,17,17)",
              "width": 0.5
             },
             "pattern": {
              "fillmode": "overlay",
              "size": 10,
              "solidity": 0.2
             }
            },
            "type": "barpolar"
           }
          ],
          "carpet": [
           {
            "aaxis": {
             "endlinecolor": "#A2B1C6",
             "gridcolor": "#506784",
             "linecolor": "#506784",
             "minorgridcolor": "#506784",
             "startlinecolor": "#A2B1C6"
            },
            "baxis": {
             "endlinecolor": "#A2B1C6",
             "gridcolor": "#506784",
             "linecolor": "#506784",
             "minorgridcolor": "#506784",
             "startlinecolor": "#A2B1C6"
            },
            "type": "carpet"
           }
          ],
          "choropleth": [
           {
            "colorbar": {
             "outlinewidth": 0,
             "ticks": ""
            },
            "type": "choropleth"
           }
          ],
          "contour": [
           {
            "colorbar": {
             "outlinewidth": 0,
             "ticks": ""
            },
            "colorscale": [
             [
              0,
              "#0d0887"
             ],
             [
              0.1111111111111111,
              "#46039f"
             ],
             [
              0.2222222222222222,
              "#7201a8"
             ],
             [
              0.3333333333333333,
              "#9c179e"
             ],
             [
              0.4444444444444444,
              "#bd3786"
             ],
             [
              0.5555555555555556,
              "#d8576b"
             ],
             [
              0.6666666666666666,
              "#ed7953"
             ],
             [
              0.7777777777777778,
              "#fb9f3a"
             ],
             [
              0.8888888888888888,
              "#fdca26"
             ],
             [
              1,
              "#f0f921"
             ]
            ],
            "type": "contour"
           }
          ],
          "contourcarpet": [
           {
            "colorbar": {
             "outlinewidth": 0,
             "ticks": ""
            },
            "type": "contourcarpet"
           }
          ],
          "heatmap": [
           {
            "colorbar": {
             "outlinewidth": 0,
             "ticks": ""
            },
            "colorscale": [
             [
              0,
              "#0d0887"
             ],
             [
              0.1111111111111111,
              "#46039f"
             ],
             [
              0.2222222222222222,
              "#7201a8"
             ],
             [
              0.3333333333333333,
              "#9c179e"
             ],
             [
              0.4444444444444444,
              "#bd3786"
             ],
             [
              0.5555555555555556,
              "#d8576b"
             ],
             [
              0.6666666666666666,
              "#ed7953"
             ],
             [
              0.7777777777777778,
              "#fb9f3a"
             ],
             [
              0.8888888888888888,
              "#fdca26"
             ],
             [
              1,
              "#f0f921"
             ]
            ],
            "type": "heatmap"
           }
          ],
          "heatmapgl": [
           {
            "colorbar": {
             "outlinewidth": 0,
             "ticks": ""
            },
            "colorscale": [
             [
              0,
              "#0d0887"
             ],
             [
              0.1111111111111111,
              "#46039f"
             ],
             [
              0.2222222222222222,
              "#7201a8"
             ],
             [
              0.3333333333333333,
              "#9c179e"
             ],
             [
              0.4444444444444444,
              "#bd3786"
             ],
             [
              0.5555555555555556,
              "#d8576b"
             ],
             [
              0.6666666666666666,
              "#ed7953"
             ],
             [
              0.7777777777777778,
              "#fb9f3a"
             ],
             [
              0.8888888888888888,
              "#fdca26"
             ],
             [
              1,
              "#f0f921"
             ]
            ],
            "type": "heatmapgl"
           }
          ],
          "histogram": [
           {
            "marker": {
             "pattern": {
              "fillmode": "overlay",
              "size": 10,
              "solidity": 0.2
             }
            },
            "type": "histogram"
           }
          ],
          "histogram2d": [
           {
            "colorbar": {
             "outlinewidth": 0,
             "ticks": ""
            },
            "colorscale": [
             [
              0,
              "#0d0887"
             ],
             [
              0.1111111111111111,
              "#46039f"
             ],
             [
              0.2222222222222222,
              "#7201a8"
             ],
             [
              0.3333333333333333,
              "#9c179e"
             ],
             [
              0.4444444444444444,
              "#bd3786"
             ],
             [
              0.5555555555555556,
              "#d8576b"
             ],
             [
              0.6666666666666666,
              "#ed7953"
             ],
             [
              0.7777777777777778,
              "#fb9f3a"
             ],
             [
              0.8888888888888888,
              "#fdca26"
             ],
             [
              1,
              "#f0f921"
             ]
            ],
            "type": "histogram2d"
           }
          ],
          "histogram2dcontour": [
           {
            "colorbar": {
             "outlinewidth": 0,
             "ticks": ""
            },
            "colorscale": [
             [
              0,
              "#0d0887"
             ],
             [
              0.1111111111111111,
              "#46039f"
             ],
             [
              0.2222222222222222,
              "#7201a8"
             ],
             [
              0.3333333333333333,
              "#9c179e"
             ],
             [
              0.4444444444444444,
              "#bd3786"
             ],
             [
              0.5555555555555556,
              "#d8576b"
             ],
             [
              0.6666666666666666,
              "#ed7953"
             ],
             [
              0.7777777777777778,
              "#fb9f3a"
             ],
             [
              0.8888888888888888,
              "#fdca26"
             ],
             [
              1,
              "#f0f921"
             ]
            ],
            "type": "histogram2dcontour"
           }
          ],
          "mesh3d": [
           {
            "colorbar": {
             "outlinewidth": 0,
             "ticks": ""
            },
            "type": "mesh3d"
           }
          ],
          "parcoords": [
           {
            "line": {
             "colorbar": {
              "outlinewidth": 0,
              "ticks": ""
             }
            },
            "type": "parcoords"
           }
          ],
          "pie": [
           {
            "automargin": true,
            "type": "pie"
           }
          ],
          "scatter": [
           {
            "marker": {
             "line": {
              "color": "#283442"
             }
            },
            "type": "scatter"
           }
          ],
          "scatter3d": [
           {
            "line": {
             "colorbar": {
              "outlinewidth": 0,
              "ticks": ""
             }
            },
            "marker": {
             "colorbar": {
              "outlinewidth": 0,
              "ticks": ""
             }
            },
            "type": "scatter3d"
           }
          ],
          "scattercarpet": [
           {
            "marker": {
             "colorbar": {
              "outlinewidth": 0,
              "ticks": ""
             }
            },
            "type": "scattercarpet"
           }
          ],
          "scattergeo": [
           {
            "marker": {
             "colorbar": {
              "outlinewidth": 0,
              "ticks": ""
             }
            },
            "type": "scattergeo"
           }
          ],
          "scattergl": [
           {
            "marker": {
             "line": {
              "color": "#283442"
             }
            },
            "type": "scattergl"
           }
          ],
          "scattermapbox": [
           {
            "marker": {
             "colorbar": {
              "outlinewidth": 0,
              "ticks": ""
             }
            },
            "type": "scattermapbox"
           }
          ],
          "scatterpolar": [
           {
            "marker": {
             "colorbar": {
              "outlinewidth": 0,
              "ticks": ""
             }
            },
            "type": "scatterpolar"
           }
          ],
          "scatterpolargl": [
           {
            "marker": {
             "colorbar": {
              "outlinewidth": 0,
              "ticks": ""
             }
            },
            "type": "scatterpolargl"
           }
          ],
          "scatterternary": [
           {
            "marker": {
             "colorbar": {
              "outlinewidth": 0,
              "ticks": ""
             }
            },
            "type": "scatterternary"
           }
          ],
          "surface": [
           {
            "colorbar": {
             "outlinewidth": 0,
             "ticks": ""
            },
            "colorscale": [
             [
              0,
              "#0d0887"
             ],
             [
              0.1111111111111111,
              "#46039f"
             ],
             [
              0.2222222222222222,
              "#7201a8"
             ],
             [
              0.3333333333333333,
              "#9c179e"
             ],
             [
              0.4444444444444444,
              "#bd3786"
             ],
             [
              0.5555555555555556,
              "#d8576b"
             ],
             [
              0.6666666666666666,
              "#ed7953"
             ],
             [
              0.7777777777777778,
              "#fb9f3a"
             ],
             [
              0.8888888888888888,
              "#fdca26"
             ],
             [
              1,
              "#f0f921"
             ]
            ],
            "type": "surface"
           }
          ],
          "table": [
           {
            "cells": {
             "fill": {
              "color": "#506784"
             },
             "line": {
              "color": "rgb(17,17,17)"
             }
            },
            "header": {
             "fill": {
              "color": "#2a3f5f"
             },
             "line": {
              "color": "rgb(17,17,17)"
             }
            },
            "type": "table"
           }
          ]
         },
         "layout": {
          "annotationdefaults": {
           "arrowcolor": "#f2f5fa",
           "arrowhead": 0,
           "arrowwidth": 1
          },
          "autotypenumbers": "strict",
          "coloraxis": {
           "colorbar": {
            "outlinewidth": 0,
            "ticks": ""
           }
          },
          "colorscale": {
           "diverging": [
            [
             0,
             "#8e0152"
            ],
            [
             0.1,
             "#c51b7d"
            ],
            [
             0.2,
             "#de77ae"
            ],
            [
             0.3,
             "#f1b6da"
            ],
            [
             0.4,
             "#fde0ef"
            ],
            [
             0.5,
             "#f7f7f7"
            ],
            [
             0.6,
             "#e6f5d0"
            ],
            [
             0.7,
             "#b8e186"
            ],
            [
             0.8,
             "#7fbc41"
            ],
            [
             0.9,
             "#4d9221"
            ],
            [
             1,
             "#276419"
            ]
           ],
           "sequential": [
            [
             0,
             "#0d0887"
            ],
            [
             0.1111111111111111,
             "#46039f"
            ],
            [
             0.2222222222222222,
             "#7201a8"
            ],
            [
             0.3333333333333333,
             "#9c179e"
            ],
            [
             0.4444444444444444,
             "#bd3786"
            ],
            [
             0.5555555555555556,
             "#d8576b"
            ],
            [
             0.6666666666666666,
             "#ed7953"
            ],
            [
             0.7777777777777778,
             "#fb9f3a"
            ],
            [
             0.8888888888888888,
             "#fdca26"
            ],
            [
             1,
             "#f0f921"
            ]
           ],
           "sequentialminus": [
            [
             0,
             "#0d0887"
            ],
            [
             0.1111111111111111,
             "#46039f"
            ],
            [
             0.2222222222222222,
             "#7201a8"
            ],
            [
             0.3333333333333333,
             "#9c179e"
            ],
            [
             0.4444444444444444,
             "#bd3786"
            ],
            [
             0.5555555555555556,
             "#d8576b"
            ],
            [
             0.6666666666666666,
             "#ed7953"
            ],
            [
             0.7777777777777778,
             "#fb9f3a"
            ],
            [
             0.8888888888888888,
             "#fdca26"
            ],
            [
             1,
             "#f0f921"
            ]
           ]
          },
          "colorway": [
           "#636efa",
           "#EF553B",
           "#00cc96",
           "#ab63fa",
           "#FFA15A",
           "#19d3f3",
           "#FF6692",
           "#B6E880",
           "#FF97FF",
           "#FECB52"
          ],
          "font": {
           "color": "#f2f5fa"
          },
          "geo": {
           "bgcolor": "rgb(17,17,17)",
           "lakecolor": "rgb(17,17,17)",
           "landcolor": "rgb(17,17,17)",
           "showlakes": true,
           "showland": true,
           "subunitcolor": "#506784"
          },
          "hoverlabel": {
           "align": "left"
          },
          "hovermode": "closest",
          "mapbox": {
           "style": "dark"
          },
          "paper_bgcolor": "rgb(17,17,17)",
          "plot_bgcolor": "rgb(17,17,17)",
          "polar": {
           "angularaxis": {
            "gridcolor": "#506784",
            "linecolor": "#506784",
            "ticks": ""
           },
           "bgcolor": "rgb(17,17,17)",
           "radialaxis": {
            "gridcolor": "#506784",
            "linecolor": "#506784",
            "ticks": ""
           }
          },
          "scene": {
           "xaxis": {
            "backgroundcolor": "rgb(17,17,17)",
            "gridcolor": "#506784",
            "gridwidth": 2,
            "linecolor": "#506784",
            "showbackground": true,
            "ticks": "",
            "zerolinecolor": "#C8D4E3"
           },
           "yaxis": {
            "backgroundcolor": "rgb(17,17,17)",
            "gridcolor": "#506784",
            "gridwidth": 2,
            "linecolor": "#506784",
            "showbackground": true,
            "ticks": "",
            "zerolinecolor": "#C8D4E3"
           },
           "zaxis": {
            "backgroundcolor": "rgb(17,17,17)",
            "gridcolor": "#506784",
            "gridwidth": 2,
            "linecolor": "#506784",
            "showbackground": true,
            "ticks": "",
            "zerolinecolor": "#C8D4E3"
           }
          },
          "shapedefaults": {
           "line": {
            "color": "#f2f5fa"
           }
          },
          "sliderdefaults": {
           "bgcolor": "#C8D4E3",
           "bordercolor": "rgb(17,17,17)",
           "borderwidth": 1,
           "tickwidth": 0
          },
          "ternary": {
           "aaxis": {
            "gridcolor": "#506784",
            "linecolor": "#506784",
            "ticks": ""
           },
           "baxis": {
            "gridcolor": "#506784",
            "linecolor": "#506784",
            "ticks": ""
           },
           "bgcolor": "rgb(17,17,17)",
           "caxis": {
            "gridcolor": "#506784",
            "linecolor": "#506784",
            "ticks": ""
           }
          },
          "title": {
           "x": 0.05
          },
          "updatemenudefaults": {
           "bgcolor": "#506784",
           "borderwidth": 0
          },
          "xaxis": {
           "automargin": true,
           "gridcolor": "#283442",
           "linecolor": "#506784",
           "ticks": "",
           "title": {
            "standoff": 15
           },
           "zerolinecolor": "#283442",
           "zerolinewidth": 2
          },
          "yaxis": {
           "automargin": true,
           "gridcolor": "#283442",
           "linecolor": "#506784",
           "ticks": "",
           "title": {
            "standoff": 15
           },
           "zerolinecolor": "#283442",
           "zerolinewidth": 2
          }
         }
        },
        "title": {
         "font": {
          "size": 13
         },
         "text": "<b>Bottom 5 Underperforming Regions by Total Sales</b>"
        },
        "width": 400,
        "xaxis": {
         "anchor": "y",
         "domain": [
          0,
          1
         ],
         "showgrid": false,
         "title": {
          "font": {
           "size": 12
          },
          "text": "Total Sales"
         }
        },
        "yaxis": {
         "anchor": "x",
         "categoryorder": "total ascending",
         "domain": [
          0,
          1
         ],
         "showgrid": false,
         "title": {
          "text": ""
         }
        }
       }
      }
     },
     "metadata": {},
     "output_type": "display_data"
    }
   ],
   "source": [
    "bar2 = create_bar_region2(df_2017)\n",
    "bar2"
   ]
  },
  {
   "cell_type": "code",
   "execution_count": 83,
   "metadata": {},
   "outputs": [
    {
     "data": {
      "text/plain": [
       "array(['Camping & Hiking', 'Water Sports', \"Women's Apparel\",\n",
       "       \"Men's Footwear\", 'Indoor/Outdoor Games', 'Accessories', 'Cleats',\n",
       "       'Trade-In', 'Cardio Equipment', 'Shop By Sport', 'Hockey',\n",
       "       'Electronics', 'Fishing', 'Golf Balls', 'Lacrosse',\n",
       "       'Baseball & Softball', 'Golf Gloves', \"Girls' Apparel\",\n",
       "       'Fitness Accessories', 'Hunting & Shooting', 'Tennis & Racquet',\n",
       "       'Golf Shoes', 'Golf Apparel', 'Boxing & MMA', \"Men's Golf Clubs\",\n",
       "       \"Kids' Golf Clubs\", 'Soccer', \"Women's Golf Clubs\",\n",
       "       'Golf Bags & Carts', 'Strength Training', 'As Seen on  TV!',\n",
       "       'Basketball', 'Books ', 'Baby ', 'CDs ', 'Cameras ',\n",
       "       \"Children's Clothing\", 'Computers', 'Consumer Electronics',\n",
       "       'Crafts', 'DVDs', 'Garden', 'Health and Beauty', \"Men's Clothing\",\n",
       "       'Music', 'Pet Supplies', 'Sporting Goods', 'Toys', 'Video Games',\n",
       "       \"Women's Clothing\"], dtype=object)"
      ]
     },
     "execution_count": 83,
     "metadata": {},
     "output_type": "execute_result"
    }
   ],
   "source": [
    "main_df[\"category_name\"].unique()"
   ]
  },
  {
   "cell_type": "code",
   "execution_count": 84,
   "metadata": {},
   "outputs": [
    {
     "data": {
      "text/html": [
       "<div>\n",
       "<style scoped>\n",
       "    .dataframe tbody tr th:only-of-type {\n",
       "        vertical-align: middle;\n",
       "    }\n",
       "\n",
       "    .dataframe tbody tr th {\n",
       "        vertical-align: top;\n",
       "    }\n",
       "\n",
       "    .dataframe thead th {\n",
       "        text-align: right;\n",
       "    }\n",
       "</style>\n",
       "<table border=\"1\" class=\"dataframe\">\n",
       "  <thead>\n",
       "    <tr style=\"text-align: right;\">\n",
       "      <th></th>\n",
       "      <th>order_date</th>\n",
       "      <th>order_region</th>\n",
       "      <th>order_country</th>\n",
       "      <th>order_city</th>\n",
       "      <th>market</th>\n",
       "      <th>sales</th>\n",
       "      <th>order_item_quantity</th>\n",
       "      <th>shipping_date</th>\n",
       "      <th>days_for_shipping_real</th>\n",
       "      <th>days_for_shipment_scheduled</th>\n",
       "      <th>category_name</th>\n",
       "      <th>delivery_status</th>\n",
       "      <th>late_delivery_risk</th>\n",
       "      <th>shipping_mode</th>\n",
       "      <th>order_status</th>\n",
       "      <th>order_profit_per_order</th>\n",
       "      <th>sales_per_item</th>\n",
       "      <th>shipping_days_difference</th>\n",
       "      <th>order_year</th>\n",
       "      <th>order_month</th>\n",
       "      <th>order_year_month_date</th>\n",
       "    </tr>\n",
       "  </thead>\n",
       "  <tbody>\n",
       "    <tr>\n",
       "      <th>0</th>\n",
       "      <td>2017-01-01 00:33:00</td>\n",
       "      <td>Asiatic Russia/European Russia</td>\n",
       "      <td>Russia</td>\n",
       "      <td>Cheliábinsk</td>\n",
       "      <td>Europe</td>\n",
       "      <td>99.96</td>\n",
       "      <td>2</td>\n",
       "      <td>1/6/2017 0:33</td>\n",
       "      <td>5</td>\n",
       "      <td>2</td>\n",
       "      <td>Indoor/Outdoor Games</td>\n",
       "      <td>Late delivery</td>\n",
       "      <td>1</td>\n",
       "      <td>Second Class</td>\n",
       "      <td>COMPLETE</td>\n",
       "      <td>-58.78</td>\n",
       "      <td>49.98</td>\n",
       "      <td>-3</td>\n",
       "      <td>2017</td>\n",
       "      <td>January</td>\n",
       "      <td>2017-01-01</td>\n",
       "    </tr>\n",
       "    <tr>\n",
       "      <th>1</th>\n",
       "      <td>2017-01-01 00:33:00</td>\n",
       "      <td>Asiatic Russia/European Russia</td>\n",
       "      <td>Russia</td>\n",
       "      <td>Cheliábinsk</td>\n",
       "      <td>Europe</td>\n",
       "      <td>39.99</td>\n",
       "      <td>1</td>\n",
       "      <td>1/6/2017 0:33</td>\n",
       "      <td>5</td>\n",
       "      <td>2</td>\n",
       "      <td>Shop By Sport</td>\n",
       "      <td>Late delivery</td>\n",
       "      <td>1</td>\n",
       "      <td>Second Class</td>\n",
       "      <td>COMPLETE</td>\n",
       "      <td>15.98</td>\n",
       "      <td>39.99</td>\n",
       "      <td>-3</td>\n",
       "      <td>2017</td>\n",
       "      <td>January</td>\n",
       "      <td>2017-01-01</td>\n",
       "    </tr>\n",
       "  </tbody>\n",
       "</table>\n",
       "</div>"
      ],
      "text/plain": [
       "            order_date                    order_region order_country  \\\n",
       "0  2017-01-01 00:33:00  Asiatic Russia/European Russia        Russia   \n",
       "1  2017-01-01 00:33:00  Asiatic Russia/European Russia        Russia   \n",
       "\n",
       "    order_city  market  sales  order_item_quantity  shipping_date  \\\n",
       "0  Cheliábinsk  Europe  99.96                    2  1/6/2017 0:33   \n",
       "1  Cheliábinsk  Europe  39.99                    1  1/6/2017 0:33   \n",
       "\n",
       "   days_for_shipping_real  days_for_shipment_scheduled         category_name  \\\n",
       "0                       5                            2  Indoor/Outdoor Games   \n",
       "1                       5                            2         Shop By Sport   \n",
       "\n",
       "  delivery_status  late_delivery_risk shipping_mode order_status  \\\n",
       "0   Late delivery                   1  Second Class     COMPLETE   \n",
       "1   Late delivery                   1  Second Class     COMPLETE   \n",
       "\n",
       "   order_profit_per_order  sales_per_item  shipping_days_difference  \\\n",
       "0                  -58.78           49.98                        -3   \n",
       "1                   15.98           39.99                        -3   \n",
       "\n",
       "   order_year order_month order_year_month_date  \n",
       "0        2017     January            2017-01-01  \n",
       "1        2017     January            2017-01-01  "
      ]
     },
     "execution_count": 84,
     "metadata": {},
     "output_type": "execute_result"
    }
   ],
   "source": [
    "df_2017.head(2)"
   ]
  },
  {
   "cell_type": "code",
   "execution_count": 85,
   "metadata": {},
   "outputs": [],
   "source": [
    "import plotly.graph_objs as go\n",
    "from plotly.subplots import make_subplots\n",
    "\n",
    "def create_bar_region_combined(dataframe):\n",
    "    dataframe = dataframe[dataframe[\"order_region\"]==\"Northern America\"]\n",
    "    grouped = dataframe.groupby([\"category_name\"]).agg(\n",
    "        total_sales=(\"sales\", \"sum\")\n",
    "    ).reset_index()\n",
    "\n",
    "    grouped[\"total_sales\"] = round(grouped[\"total_sales\"], 2)\n",
    "\n",
    "    # sort by total_sales and split into two groups\n",
    "    grouped = grouped.sort_values(by=\"total_sales\", ascending=False).reset_index()\n",
    "    top_5 = grouped.head(5)\n",
    "    bottom_5 = grouped.tail(5)\n",
    "\n",
    "    # create a dictionary to map each category to a unique color\n",
    "    category_colors = {\n",
    "        'Camping & Hiking': '#1f77b4',\n",
    "        'Water Sports': '#ff7f0e',\n",
    "        \"Women's Apparel\": '#2ca02c',\n",
    "        \"Men's Footwear\": '#d62728',\n",
    "        'Indoor/Outdoor Games': '#9467bd',\n",
    "        'Accessories': '#8c564b',\n",
    "        'Cleats': '#e377c2',\n",
    "        'Trade-In': '#7f7f7f',\n",
    "        'Cardio Equipment': '#bcbd22',\n",
    "        'Shop By Sport': '#17becf',\n",
    "        'Hockey': '#ff5733',\n",
    "        'Electronics': '#e74c3c',\n",
    "        'Fishing': '#3498db',\n",
    "        'Golf Balls': '#9b59b6',\n",
    "        'Lacrosse': '#e67e22',\n",
    "        'Baseball & Softball': '#34495e',\n",
    "        'Golf Gloves': '#f1c40f',\n",
    "        \"Girls' Apparel\": '#2ecc71',\n",
    "        'Fitness Accessories': '#1abc9c',\n",
    "        'Hunting & Shooting': '#95a5a6',\n",
    "        'Tennis & Racquet': '#2c3e50',\n",
    "        'Golf Shoes': '#bdc3c7',\n",
    "        'Golf Apparel': '#d35400',\n",
    "        'Boxing & MMA': '#7f8c8d',\n",
    "        \"Men's Golf Clubs\": '#2980b9',\n",
    "        \"Kids' Golf Clubs\": '#16a085',\n",
    "        'Soccer': '#c0392b',\n",
    "        \"Women's Golf Clubs\": '#f39c12',\n",
    "        'Golf Bags & Carts': '#27ae60',\n",
    "        'Strength Training': '#e67e22',\n",
    "        'As Seen on  TV!': '#8e44ad',\n",
    "        'Basketball': '#f39c12',\n",
    "        'Books ': '#1abc9c',\n",
    "        'Baby ': '#95a5a6',\n",
    "        'CDs ': '#d35400',\n",
    "        'Cameras ': '#bdc3c7',\n",
    "        \"Children's Clothing\": '#9b59b6',\n",
    "        'Computers': '#7f8c8d',\n",
    "        'Consumer Electronics': '#2c3e50',\n",
    "        'Crafts': '#27ae60',\n",
    "        'DVDs': '#f1c40f',\n",
    "        'Garden': '#17becf',\n",
    "        'Health and Beauty': '#bcbd22',\n",
    "        \"Men's Clothing\": '#e74c3c',\n",
    "        'Music': '#8c564b',\n",
    "        'Pet Supplies': '#2ecc71',\n",
    "        'Sporting Goods': '#7f7f7f',\n",
    "        'Toys': '#d62728',\n",
    "        'Video Games': '#9467bd',\n",
    "        \"Women's Clothing\": '#3498db'\n",
    "    }\n",
    "\n",
    "    # map category colors to the top_5 and bottom_5 dataframes\n",
    "    top_5['color'] = top_5['category_name'].map(category_colors)\n",
    "    bottom_5['color'] = bottom_5['category_name'].map(category_colors)\n",
    "\n",
    "    # create the subplots\n",
    "    fig = make_subplots(rows=2, cols=1, vertical_spacing=0.15, subplot_titles=(\n",
    "        \"Top 5 High-Performing Categories in Northern America\", \"Bottom 5 Underperforming Categories in Northern America\"))\n",
    "\n",
    "    # add the top 5 subplot\n",
    "    fig.add_trace(go.Bar(x=top_5['total_sales'], y=top_5['category_name'], orientation='h',\n",
    "                        text=top_5['total_sales'], name='', marker=dict(color=top_5['color'])),\n",
    "                row=1, col=1)\n",
    "    fig.update_yaxes(title='', categoryorder='total ascending', row=1, col=1)\n",
    "    fig.update_xaxes(title='Total Sales', row=1, col=1, showgrid=False)\n",
    "\n",
    "    # add the bottom 5 subplot\n",
    "    fig.add_trace(go.Bar(x=bottom_5['total_sales'], y=bottom_5['category_name'], orientation='h',\n",
    "                        text=bottom_5['total_sales'], name='', marker=dict(color=bottom_5['color'])),\n",
    "                row=2, col=1)\n",
    "    fig.update_yaxes(title='', categoryorder='total ascending', row=2, col=1)\n",
    "    fig.update_xaxes(title='Total Sales', row=2, col=1, showgrid=False)\n",
    "\n",
    "    # update the layout\n",
    "    fig.update_layout(height=800, width=800, template='plotly_dark', showlegend=False)\n",
    "\n",
    "    return fig\n"
   ]
  },
  {
   "cell_type": "code",
   "execution_count": 86,
   "metadata": {},
   "outputs": [
    {
     "name": "stderr",
     "output_type": "stream",
     "text": [
      "C:\\Users\\PF2L6BL6\\AppData\\Local\\Temp\\ipykernel_37836\\1180948384.py:72: SettingWithCopyWarning:\n",
      "\n",
      "\n",
      "A value is trying to be set on a copy of a slice from a DataFrame.\n",
      "Try using .loc[row_indexer,col_indexer] = value instead\n",
      "\n",
      "See the caveats in the documentation: https://pandas.pydata.org/pandas-docs/stable/user_guide/indexing.html#returning-a-view-versus-a-copy\n",
      "\n",
      "C:\\Users\\PF2L6BL6\\AppData\\Local\\Temp\\ipykernel_37836\\1180948384.py:73: SettingWithCopyWarning:\n",
      "\n",
      "\n",
      "A value is trying to be set on a copy of a slice from a DataFrame.\n",
      "Try using .loc[row_indexer,col_indexer] = value instead\n",
      "\n",
      "See the caveats in the documentation: https://pandas.pydata.org/pandas-docs/stable/user_guide/indexing.html#returning-a-view-versus-a-copy\n",
      "\n"
     ]
    },
    {
     "data": {
      "application/vnd.plotly.v1+json": {
       "config": {
        "plotlyServerURL": "https://plot.ly"
       },
       "data": [
        {
         "marker": {
          "color": [
           "#1f77b4",
           "#e377c2",
           "#bcbd22",
           "#d62728",
           "#2ca02c"
          ]
         },
         "name": "",
         "orientation": "h",
         "text": [
          4199.72,
          2939.51,
          2599.74,
          1949.85,
          1800
         ],
         "type": "bar",
         "x": [
          4199.72,
          2939.51,
          2599.74,
          1949.85,
          1800
         ],
         "xaxis": "x",
         "y": [
          "Camping & Hiking",
          "Cleats",
          "Cardio Equipment",
          "Men's Footwear",
          "Women's Apparel"
         ],
         "yaxis": "y"
        },
        {
         "marker": {
          "color": [
           "#2ecc71",
           "#e74c3c",
           "#2c3e50",
           "#f1c40f",
           "#9b59b6"
          ]
         },
         "name": "",
         "orientation": "h",
         "text": [
          280,
          175.96,
          134.97,
          119.97,
          49.97
         ],
         "type": "bar",
         "x": [
          280,
          175.96,
          134.97,
          119.97,
          49.97
         ],
         "xaxis": "x2",
         "y": [
          "Girls' Apparel",
          "Electronics",
          "Tennis & Racquet",
          "Golf Gloves",
          "Golf Balls"
         ],
         "yaxis": "y2"
        }
       ],
       "layout": {
        "annotations": [
         {
          "font": {
           "size": 16
          },
          "showarrow": false,
          "text": "Top 5 High-Performing Categories in Northern America",
          "x": 0.5,
          "xanchor": "center",
          "xref": "paper",
          "y": 1,
          "yanchor": "bottom",
          "yref": "paper"
         },
         {
          "font": {
           "size": 16
          },
          "showarrow": false,
          "text": "Bottom 5 Underperforming Categories in Northern America",
          "x": 0.5,
          "xanchor": "center",
          "xref": "paper",
          "y": 0.425,
          "yanchor": "bottom",
          "yref": "paper"
         }
        ],
        "height": 800,
        "showlegend": false,
        "template": {
         "data": {
          "bar": [
           {
            "error_x": {
             "color": "#f2f5fa"
            },
            "error_y": {
             "color": "#f2f5fa"
            },
            "marker": {
             "line": {
              "color": "rgb(17,17,17)",
              "width": 0.5
             },
             "pattern": {
              "fillmode": "overlay",
              "size": 10,
              "solidity": 0.2
             }
            },
            "type": "bar"
           }
          ],
          "barpolar": [
           {
            "marker": {
             "line": {
              "color": "rgb(17,17,17)",
              "width": 0.5
             },
             "pattern": {
              "fillmode": "overlay",
              "size": 10,
              "solidity": 0.2
             }
            },
            "type": "barpolar"
           }
          ],
          "carpet": [
           {
            "aaxis": {
             "endlinecolor": "#A2B1C6",
             "gridcolor": "#506784",
             "linecolor": "#506784",
             "minorgridcolor": "#506784",
             "startlinecolor": "#A2B1C6"
            },
            "baxis": {
             "endlinecolor": "#A2B1C6",
             "gridcolor": "#506784",
             "linecolor": "#506784",
             "minorgridcolor": "#506784",
             "startlinecolor": "#A2B1C6"
            },
            "type": "carpet"
           }
          ],
          "choropleth": [
           {
            "colorbar": {
             "outlinewidth": 0,
             "ticks": ""
            },
            "type": "choropleth"
           }
          ],
          "contour": [
           {
            "colorbar": {
             "outlinewidth": 0,
             "ticks": ""
            },
            "colorscale": [
             [
              0,
              "#0d0887"
             ],
             [
              0.1111111111111111,
              "#46039f"
             ],
             [
              0.2222222222222222,
              "#7201a8"
             ],
             [
              0.3333333333333333,
              "#9c179e"
             ],
             [
              0.4444444444444444,
              "#bd3786"
             ],
             [
              0.5555555555555556,
              "#d8576b"
             ],
             [
              0.6666666666666666,
              "#ed7953"
             ],
             [
              0.7777777777777778,
              "#fb9f3a"
             ],
             [
              0.8888888888888888,
              "#fdca26"
             ],
             [
              1,
              "#f0f921"
             ]
            ],
            "type": "contour"
           }
          ],
          "contourcarpet": [
           {
            "colorbar": {
             "outlinewidth": 0,
             "ticks": ""
            },
            "type": "contourcarpet"
           }
          ],
          "heatmap": [
           {
            "colorbar": {
             "outlinewidth": 0,
             "ticks": ""
            },
            "colorscale": [
             [
              0,
              "#0d0887"
             ],
             [
              0.1111111111111111,
              "#46039f"
             ],
             [
              0.2222222222222222,
              "#7201a8"
             ],
             [
              0.3333333333333333,
              "#9c179e"
             ],
             [
              0.4444444444444444,
              "#bd3786"
             ],
             [
              0.5555555555555556,
              "#d8576b"
             ],
             [
              0.6666666666666666,
              "#ed7953"
             ],
             [
              0.7777777777777778,
              "#fb9f3a"
             ],
             [
              0.8888888888888888,
              "#fdca26"
             ],
             [
              1,
              "#f0f921"
             ]
            ],
            "type": "heatmap"
           }
          ],
          "heatmapgl": [
           {
            "colorbar": {
             "outlinewidth": 0,
             "ticks": ""
            },
            "colorscale": [
             [
              0,
              "#0d0887"
             ],
             [
              0.1111111111111111,
              "#46039f"
             ],
             [
              0.2222222222222222,
              "#7201a8"
             ],
             [
              0.3333333333333333,
              "#9c179e"
             ],
             [
              0.4444444444444444,
              "#bd3786"
             ],
             [
              0.5555555555555556,
              "#d8576b"
             ],
             [
              0.6666666666666666,
              "#ed7953"
             ],
             [
              0.7777777777777778,
              "#fb9f3a"
             ],
             [
              0.8888888888888888,
              "#fdca26"
             ],
             [
              1,
              "#f0f921"
             ]
            ],
            "type": "heatmapgl"
           }
          ],
          "histogram": [
           {
            "marker": {
             "pattern": {
              "fillmode": "overlay",
              "size": 10,
              "solidity": 0.2
             }
            },
            "type": "histogram"
           }
          ],
          "histogram2d": [
           {
            "colorbar": {
             "outlinewidth": 0,
             "ticks": ""
            },
            "colorscale": [
             [
              0,
              "#0d0887"
             ],
             [
              0.1111111111111111,
              "#46039f"
             ],
             [
              0.2222222222222222,
              "#7201a8"
             ],
             [
              0.3333333333333333,
              "#9c179e"
             ],
             [
              0.4444444444444444,
              "#bd3786"
             ],
             [
              0.5555555555555556,
              "#d8576b"
             ],
             [
              0.6666666666666666,
              "#ed7953"
             ],
             [
              0.7777777777777778,
              "#fb9f3a"
             ],
             [
              0.8888888888888888,
              "#fdca26"
             ],
             [
              1,
              "#f0f921"
             ]
            ],
            "type": "histogram2d"
           }
          ],
          "histogram2dcontour": [
           {
            "colorbar": {
             "outlinewidth": 0,
             "ticks": ""
            },
            "colorscale": [
             [
              0,
              "#0d0887"
             ],
             [
              0.1111111111111111,
              "#46039f"
             ],
             [
              0.2222222222222222,
              "#7201a8"
             ],
             [
              0.3333333333333333,
              "#9c179e"
             ],
             [
              0.4444444444444444,
              "#bd3786"
             ],
             [
              0.5555555555555556,
              "#d8576b"
             ],
             [
              0.6666666666666666,
              "#ed7953"
             ],
             [
              0.7777777777777778,
              "#fb9f3a"
             ],
             [
              0.8888888888888888,
              "#fdca26"
             ],
             [
              1,
              "#f0f921"
             ]
            ],
            "type": "histogram2dcontour"
           }
          ],
          "mesh3d": [
           {
            "colorbar": {
             "outlinewidth": 0,
             "ticks": ""
            },
            "type": "mesh3d"
           }
          ],
          "parcoords": [
           {
            "line": {
             "colorbar": {
              "outlinewidth": 0,
              "ticks": ""
             }
            },
            "type": "parcoords"
           }
          ],
          "pie": [
           {
            "automargin": true,
            "type": "pie"
           }
          ],
          "scatter": [
           {
            "marker": {
             "line": {
              "color": "#283442"
             }
            },
            "type": "scatter"
           }
          ],
          "scatter3d": [
           {
            "line": {
             "colorbar": {
              "outlinewidth": 0,
              "ticks": ""
             }
            },
            "marker": {
             "colorbar": {
              "outlinewidth": 0,
              "ticks": ""
             }
            },
            "type": "scatter3d"
           }
          ],
          "scattercarpet": [
           {
            "marker": {
             "colorbar": {
              "outlinewidth": 0,
              "ticks": ""
             }
            },
            "type": "scattercarpet"
           }
          ],
          "scattergeo": [
           {
            "marker": {
             "colorbar": {
              "outlinewidth": 0,
              "ticks": ""
             }
            },
            "type": "scattergeo"
           }
          ],
          "scattergl": [
           {
            "marker": {
             "line": {
              "color": "#283442"
             }
            },
            "type": "scattergl"
           }
          ],
          "scattermapbox": [
           {
            "marker": {
             "colorbar": {
              "outlinewidth": 0,
              "ticks": ""
             }
            },
            "type": "scattermapbox"
           }
          ],
          "scatterpolar": [
           {
            "marker": {
             "colorbar": {
              "outlinewidth": 0,
              "ticks": ""
             }
            },
            "type": "scatterpolar"
           }
          ],
          "scatterpolargl": [
           {
            "marker": {
             "colorbar": {
              "outlinewidth": 0,
              "ticks": ""
             }
            },
            "type": "scatterpolargl"
           }
          ],
          "scatterternary": [
           {
            "marker": {
             "colorbar": {
              "outlinewidth": 0,
              "ticks": ""
             }
            },
            "type": "scatterternary"
           }
          ],
          "surface": [
           {
            "colorbar": {
             "outlinewidth": 0,
             "ticks": ""
            },
            "colorscale": [
             [
              0,
              "#0d0887"
             ],
             [
              0.1111111111111111,
              "#46039f"
             ],
             [
              0.2222222222222222,
              "#7201a8"
             ],
             [
              0.3333333333333333,
              "#9c179e"
             ],
             [
              0.4444444444444444,
              "#bd3786"
             ],
             [
              0.5555555555555556,
              "#d8576b"
             ],
             [
              0.6666666666666666,
              "#ed7953"
             ],
             [
              0.7777777777777778,
              "#fb9f3a"
             ],
             [
              0.8888888888888888,
              "#fdca26"
             ],
             [
              1,
              "#f0f921"
             ]
            ],
            "type": "surface"
           }
          ],
          "table": [
           {
            "cells": {
             "fill": {
              "color": "#506784"
             },
             "line": {
              "color": "rgb(17,17,17)"
             }
            },
            "header": {
             "fill": {
              "color": "#2a3f5f"
             },
             "line": {
              "color": "rgb(17,17,17)"
             }
            },
            "type": "table"
           }
          ]
         },
         "layout": {
          "annotationdefaults": {
           "arrowcolor": "#f2f5fa",
           "arrowhead": 0,
           "arrowwidth": 1
          },
          "autotypenumbers": "strict",
          "coloraxis": {
           "colorbar": {
            "outlinewidth": 0,
            "ticks": ""
           }
          },
          "colorscale": {
           "diverging": [
            [
             0,
             "#8e0152"
            ],
            [
             0.1,
             "#c51b7d"
            ],
            [
             0.2,
             "#de77ae"
            ],
            [
             0.3,
             "#f1b6da"
            ],
            [
             0.4,
             "#fde0ef"
            ],
            [
             0.5,
             "#f7f7f7"
            ],
            [
             0.6,
             "#e6f5d0"
            ],
            [
             0.7,
             "#b8e186"
            ],
            [
             0.8,
             "#7fbc41"
            ],
            [
             0.9,
             "#4d9221"
            ],
            [
             1,
             "#276419"
            ]
           ],
           "sequential": [
            [
             0,
             "#0d0887"
            ],
            [
             0.1111111111111111,
             "#46039f"
            ],
            [
             0.2222222222222222,
             "#7201a8"
            ],
            [
             0.3333333333333333,
             "#9c179e"
            ],
            [
             0.4444444444444444,
             "#bd3786"
            ],
            [
             0.5555555555555556,
             "#d8576b"
            ],
            [
             0.6666666666666666,
             "#ed7953"
            ],
            [
             0.7777777777777778,
             "#fb9f3a"
            ],
            [
             0.8888888888888888,
             "#fdca26"
            ],
            [
             1,
             "#f0f921"
            ]
           ],
           "sequentialminus": [
            [
             0,
             "#0d0887"
            ],
            [
             0.1111111111111111,
             "#46039f"
            ],
            [
             0.2222222222222222,
             "#7201a8"
            ],
            [
             0.3333333333333333,
             "#9c179e"
            ],
            [
             0.4444444444444444,
             "#bd3786"
            ],
            [
             0.5555555555555556,
             "#d8576b"
            ],
            [
             0.6666666666666666,
             "#ed7953"
            ],
            [
             0.7777777777777778,
             "#fb9f3a"
            ],
            [
             0.8888888888888888,
             "#fdca26"
            ],
            [
             1,
             "#f0f921"
            ]
           ]
          },
          "colorway": [
           "#636efa",
           "#EF553B",
           "#00cc96",
           "#ab63fa",
           "#FFA15A",
           "#19d3f3",
           "#FF6692",
           "#B6E880",
           "#FF97FF",
           "#FECB52"
          ],
          "font": {
           "color": "#f2f5fa"
          },
          "geo": {
           "bgcolor": "rgb(17,17,17)",
           "lakecolor": "rgb(17,17,17)",
           "landcolor": "rgb(17,17,17)",
           "showlakes": true,
           "showland": true,
           "subunitcolor": "#506784"
          },
          "hoverlabel": {
           "align": "left"
          },
          "hovermode": "closest",
          "mapbox": {
           "style": "dark"
          },
          "paper_bgcolor": "rgb(17,17,17)",
          "plot_bgcolor": "rgb(17,17,17)",
          "polar": {
           "angularaxis": {
            "gridcolor": "#506784",
            "linecolor": "#506784",
            "ticks": ""
           },
           "bgcolor": "rgb(17,17,17)",
           "radialaxis": {
            "gridcolor": "#506784",
            "linecolor": "#506784",
            "ticks": ""
           }
          },
          "scene": {
           "xaxis": {
            "backgroundcolor": "rgb(17,17,17)",
            "gridcolor": "#506784",
            "gridwidth": 2,
            "linecolor": "#506784",
            "showbackground": true,
            "ticks": "",
            "zerolinecolor": "#C8D4E3"
           },
           "yaxis": {
            "backgroundcolor": "rgb(17,17,17)",
            "gridcolor": "#506784",
            "gridwidth": 2,
            "linecolor": "#506784",
            "showbackground": true,
            "ticks": "",
            "zerolinecolor": "#C8D4E3"
           },
           "zaxis": {
            "backgroundcolor": "rgb(17,17,17)",
            "gridcolor": "#506784",
            "gridwidth": 2,
            "linecolor": "#506784",
            "showbackground": true,
            "ticks": "",
            "zerolinecolor": "#C8D4E3"
           }
          },
          "shapedefaults": {
           "line": {
            "color": "#f2f5fa"
           }
          },
          "sliderdefaults": {
           "bgcolor": "#C8D4E3",
           "bordercolor": "rgb(17,17,17)",
           "borderwidth": 1,
           "tickwidth": 0
          },
          "ternary": {
           "aaxis": {
            "gridcolor": "#506784",
            "linecolor": "#506784",
            "ticks": ""
           },
           "baxis": {
            "gridcolor": "#506784",
            "linecolor": "#506784",
            "ticks": ""
           },
           "bgcolor": "rgb(17,17,17)",
           "caxis": {
            "gridcolor": "#506784",
            "linecolor": "#506784",
            "ticks": ""
           }
          },
          "title": {
           "x": 0.05
          },
          "updatemenudefaults": {
           "bgcolor": "#506784",
           "borderwidth": 0
          },
          "xaxis": {
           "automargin": true,
           "gridcolor": "#283442",
           "linecolor": "#506784",
           "ticks": "",
           "title": {
            "standoff": 15
           },
           "zerolinecolor": "#283442",
           "zerolinewidth": 2
          },
          "yaxis": {
           "automargin": true,
           "gridcolor": "#283442",
           "linecolor": "#506784",
           "ticks": "",
           "title": {
            "standoff": 15
           },
           "zerolinecolor": "#283442",
           "zerolinewidth": 2
          }
         }
        },
        "width": 800,
        "xaxis": {
         "anchor": "y",
         "domain": [
          0,
          1
         ],
         "showgrid": false,
         "title": {
          "text": "Total Sales"
         }
        },
        "xaxis2": {
         "anchor": "y2",
         "domain": [
          0,
          1
         ],
         "showgrid": false,
         "title": {
          "text": "Total Sales"
         }
        },
        "yaxis": {
         "anchor": "x",
         "categoryorder": "total ascending",
         "domain": [
          0.575,
          1
         ],
         "title": {
          "text": ""
         }
        },
        "yaxis2": {
         "anchor": "x2",
         "categoryorder": "total ascending",
         "domain": [
          0,
          0.425
         ],
         "title": {
          "text": ""
         }
        }
       }
      }
     },
     "metadata": {},
     "output_type": "display_data"
    }
   ],
   "source": [
    "bar3 = create_bar_region_combined(df_2017)\n",
    "bar3"
   ]
  },
  {
   "cell_type": "code",
   "execution_count": 87,
   "metadata": {},
   "outputs": [],
   "source": [
    "def create_bar_region_market_combined(dataframe):\n",
    "\n",
    "    grouped = dataframe.groupby([\"market\", \"order_region\"]).agg(\n",
    "        total_sales = (\"sales\", \"sum\")\n",
    "    ).reset_index()\n",
    "\n",
    "    grouped[\"total_sales\"] = round(grouped[\"total_sales\"], 2)\n",
    "\n",
    "    # sort by total_sales and split into two groups\n",
    "    grouped = grouped.sort_values(by=\"total_sales\", ascending=False).reset_index()\n",
    "\n",
    "    # format total_sales as a string with $ and thousand separator\n",
    "    locale.setlocale(locale.LC_ALL, '')  # set locale to default system locale\n",
    "    grouped[\"total_sales_formated\"] = grouped[\"total_sales\"].apply(lambda x: locale.currency(x, grouping=True))\n",
    "\n",
    "    top_5 = grouped.head(5)\n",
    "    bottom_5 = grouped.tail(5)\n",
    "\n",
    "    # assign unique colors to each market\n",
    "    color_map = {'Latin America': '#3366CC', 'Europe': '#DC3912', 'Pacific Asia': '#FF9900', 'USCA': '#109618', 'Africa': '#990099'}\n",
    "\n",
    "    # map category colors to the top_5 and bottom_5 dataframes\n",
    "    top_5['color'] = top_5['market'].map(color_map)\n",
    "    bottom_5['color'] = bottom_5['market'].map(color_map)\n",
    "\n",
    "        # create the subplots\n",
    "    fig = make_subplots(rows=1, cols=2, horizontal_spacing=0.2, subplot_titles=(\n",
    "        \"<b>Top 5 High-Performing Regions by Total Sales</b>\", \n",
    "        \"<b>Bottom 5 Underperforming Regions by Total Sales</b>\"))\n",
    "\n",
    "    # add the top 5 subplot\n",
    "    fig.add_trace(go.Bar(x=top_5['total_sales'], y=top_5['order_region'], orientation='h',\n",
    "                        text=top_5['total_sales_formated'], name='', marker=dict(color=top_5['color']),\n",
    "                        textfont=dict(color='white'), showlegend=True),\n",
    "                row=1, col=1)\n",
    "    fig.update_yaxes(title='', categoryorder='total ascending', row=1, col=1)\n",
    "    fig.update_xaxes(title='Total Sales', row=1, col=1, showgrid=False)\n",
    "\n",
    "    # add the bottom 5 subplot\n",
    "    fig.add_trace(go.Bar(x=bottom_5['total_sales'], y=bottom_5['order_region'], orientation='h',\n",
    "                        text=bottom_5['total_sales_formated'], name='', marker=dict(color=bottom_5['color']),\n",
    "                        textfont=dict(color='white'), showlegend=True),\n",
    "                row=1, col=2)\n",
    "    fig.update_yaxes(title='', categoryorder='total ascending', row=1, col=2)\n",
    "    fig.update_xaxes(title='Total Sales', row=1, col=2, showgrid=False)\n",
    "\n",
    "\n",
    "    # update the layout\n",
    "    fig.update_layout(\n",
    "        height=200,\n",
    "        width=900,\n",
    "        template=\"plotly_dark\",\n",
    "        showlegend=False,\n",
    "        margin=dict(l=0, r=0, t=20, b=0),\n",
    "    )\n",
    "    fig.update_layout({'plot_bgcolor': 'rgba(0, 0, 0, 0)','paper_bgcolor': 'rgba(0, 0, 0, 0)',})\n",
    "    fig.update_annotations(font_size=12)\n",
    "\n",
    "    return fig\n"
   ]
  },
  {
   "cell_type": "code",
   "execution_count": 88,
   "metadata": {},
   "outputs": [
    {
     "name": "stderr",
     "output_type": "stream",
     "text": [
      "C:\\Users\\PF2L6BL6\\AppData\\Local\\Temp\\ipykernel_37836\\1514021992.py:23: SettingWithCopyWarning:\n",
      "\n",
      "\n",
      "A value is trying to be set on a copy of a slice from a DataFrame.\n",
      "Try using .loc[row_indexer,col_indexer] = value instead\n",
      "\n",
      "See the caveats in the documentation: https://pandas.pydata.org/pandas-docs/stable/user_guide/indexing.html#returning-a-view-versus-a-copy\n",
      "\n",
      "C:\\Users\\PF2L6BL6\\AppData\\Local\\Temp\\ipykernel_37836\\1514021992.py:24: SettingWithCopyWarning:\n",
      "\n",
      "\n",
      "A value is trying to be set on a copy of a slice from a DataFrame.\n",
      "Try using .loc[row_indexer,col_indexer] = value instead\n",
      "\n",
      "See the caveats in the documentation: https://pandas.pydata.org/pandas-docs/stable/user_guide/indexing.html#returning-a-view-versus-a-copy\n",
      "\n"
     ]
    },
    {
     "data": {
      "application/vnd.plotly.v1+json": {
       "config": {
        "plotlyServerURL": "https://plot.ly"
       },
       "data": [
        {
         "marker": {
          "color": [
           "#DC3912",
           "#3366CC",
           "#3366CC",
           "#DC3912",
           "#DC3912"
          ]
         },
         "name": "",
         "orientation": "h",
         "showlegend": true,
         "text": [
          "$2,847,340.92",
          "$2,794,204.96",
          "$1,402,751.44",
          "$1,042,261.49",
          "$979,686.24"
         ],
         "textfont": {
          "color": "white"
         },
         "type": "bar",
         "x": [
          2847340.92,
          2794204.96,
          1402751.44,
          1042261.49,
          979686.24
         ],
         "xaxis": "x",
         "y": [
          "Western Europe",
          "Central America",
          "South America",
          "Northern Europe",
          "Southern Europe"
         ],
         "yaxis": "y"
        },
        {
         "marker": {
          "color": [
           "#990099",
           "#109618",
           "#990099",
           "#FF9900",
           "#FF9900"
          ]
         },
         "name": "",
         "orientation": "h",
         "showlegend": true,
         "text": [
          "$28,819.90",
          "$20,388.55",
          "$18,368.66",
          "$11,906.64",
          "$425.03"
         ],
         "textfont": {
          "color": "white"
         },
         "type": "bar",
         "x": [
          28819.9,
          20388.55,
          18368.66,
          11906.64,
          425.03
         ],
         "xaxis": "x2",
         "y": [
          "Middle Africa",
          "Northern America",
          "Southern Africa",
          "Central Asia",
          "Melanesia"
         ],
         "yaxis": "y2"
        }
       ],
       "layout": {
        "annotations": [
         {
          "font": {
           "size": 12
          },
          "showarrow": false,
          "text": "<b>Top 5 High-Performing Regions by Total Sales</b>",
          "x": 0.2,
          "xanchor": "center",
          "xref": "paper",
          "y": 1,
          "yanchor": "bottom",
          "yref": "paper"
         },
         {
          "font": {
           "size": 12
          },
          "showarrow": false,
          "text": "<b>Bottom 5 Underperforming Regions by Total Sales</b>",
          "x": 0.8,
          "xanchor": "center",
          "xref": "paper",
          "y": 1,
          "yanchor": "bottom",
          "yref": "paper"
         }
        ],
        "height": 200,
        "margin": {
         "b": 0,
         "l": 0,
         "r": 0,
         "t": 20
        },
        "paper_bgcolor": "rgba(0, 0, 0, 0)",
        "plot_bgcolor": "rgba(0, 0, 0, 0)",
        "showlegend": false,
        "template": {
         "data": {
          "bar": [
           {
            "error_x": {
             "color": "#f2f5fa"
            },
            "error_y": {
             "color": "#f2f5fa"
            },
            "marker": {
             "line": {
              "color": "rgb(17,17,17)",
              "width": 0.5
             },
             "pattern": {
              "fillmode": "overlay",
              "size": 10,
              "solidity": 0.2
             }
            },
            "type": "bar"
           }
          ],
          "barpolar": [
           {
            "marker": {
             "line": {
              "color": "rgb(17,17,17)",
              "width": 0.5
             },
             "pattern": {
              "fillmode": "overlay",
              "size": 10,
              "solidity": 0.2
             }
            },
            "type": "barpolar"
           }
          ],
          "carpet": [
           {
            "aaxis": {
             "endlinecolor": "#A2B1C6",
             "gridcolor": "#506784",
             "linecolor": "#506784",
             "minorgridcolor": "#506784",
             "startlinecolor": "#A2B1C6"
            },
            "baxis": {
             "endlinecolor": "#A2B1C6",
             "gridcolor": "#506784",
             "linecolor": "#506784",
             "minorgridcolor": "#506784",
             "startlinecolor": "#A2B1C6"
            },
            "type": "carpet"
           }
          ],
          "choropleth": [
           {
            "colorbar": {
             "outlinewidth": 0,
             "ticks": ""
            },
            "type": "choropleth"
           }
          ],
          "contour": [
           {
            "colorbar": {
             "outlinewidth": 0,
             "ticks": ""
            },
            "colorscale": [
             [
              0,
              "#0d0887"
             ],
             [
              0.1111111111111111,
              "#46039f"
             ],
             [
              0.2222222222222222,
              "#7201a8"
             ],
             [
              0.3333333333333333,
              "#9c179e"
             ],
             [
              0.4444444444444444,
              "#bd3786"
             ],
             [
              0.5555555555555556,
              "#d8576b"
             ],
             [
              0.6666666666666666,
              "#ed7953"
             ],
             [
              0.7777777777777778,
              "#fb9f3a"
             ],
             [
              0.8888888888888888,
              "#fdca26"
             ],
             [
              1,
              "#f0f921"
             ]
            ],
            "type": "contour"
           }
          ],
          "contourcarpet": [
           {
            "colorbar": {
             "outlinewidth": 0,
             "ticks": ""
            },
            "type": "contourcarpet"
           }
          ],
          "heatmap": [
           {
            "colorbar": {
             "outlinewidth": 0,
             "ticks": ""
            },
            "colorscale": [
             [
              0,
              "#0d0887"
             ],
             [
              0.1111111111111111,
              "#46039f"
             ],
             [
              0.2222222222222222,
              "#7201a8"
             ],
             [
              0.3333333333333333,
              "#9c179e"
             ],
             [
              0.4444444444444444,
              "#bd3786"
             ],
             [
              0.5555555555555556,
              "#d8576b"
             ],
             [
              0.6666666666666666,
              "#ed7953"
             ],
             [
              0.7777777777777778,
              "#fb9f3a"
             ],
             [
              0.8888888888888888,
              "#fdca26"
             ],
             [
              1,
              "#f0f921"
             ]
            ],
            "type": "heatmap"
           }
          ],
          "heatmapgl": [
           {
            "colorbar": {
             "outlinewidth": 0,
             "ticks": ""
            },
            "colorscale": [
             [
              0,
              "#0d0887"
             ],
             [
              0.1111111111111111,
              "#46039f"
             ],
             [
              0.2222222222222222,
              "#7201a8"
             ],
             [
              0.3333333333333333,
              "#9c179e"
             ],
             [
              0.4444444444444444,
              "#bd3786"
             ],
             [
              0.5555555555555556,
              "#d8576b"
             ],
             [
              0.6666666666666666,
              "#ed7953"
             ],
             [
              0.7777777777777778,
              "#fb9f3a"
             ],
             [
              0.8888888888888888,
              "#fdca26"
             ],
             [
              1,
              "#f0f921"
             ]
            ],
            "type": "heatmapgl"
           }
          ],
          "histogram": [
           {
            "marker": {
             "pattern": {
              "fillmode": "overlay",
              "size": 10,
              "solidity": 0.2
             }
            },
            "type": "histogram"
           }
          ],
          "histogram2d": [
           {
            "colorbar": {
             "outlinewidth": 0,
             "ticks": ""
            },
            "colorscale": [
             [
              0,
              "#0d0887"
             ],
             [
              0.1111111111111111,
              "#46039f"
             ],
             [
              0.2222222222222222,
              "#7201a8"
             ],
             [
              0.3333333333333333,
              "#9c179e"
             ],
             [
              0.4444444444444444,
              "#bd3786"
             ],
             [
              0.5555555555555556,
              "#d8576b"
             ],
             [
              0.6666666666666666,
              "#ed7953"
             ],
             [
              0.7777777777777778,
              "#fb9f3a"
             ],
             [
              0.8888888888888888,
              "#fdca26"
             ],
             [
              1,
              "#f0f921"
             ]
            ],
            "type": "histogram2d"
           }
          ],
          "histogram2dcontour": [
           {
            "colorbar": {
             "outlinewidth": 0,
             "ticks": ""
            },
            "colorscale": [
             [
              0,
              "#0d0887"
             ],
             [
              0.1111111111111111,
              "#46039f"
             ],
             [
              0.2222222222222222,
              "#7201a8"
             ],
             [
              0.3333333333333333,
              "#9c179e"
             ],
             [
              0.4444444444444444,
              "#bd3786"
             ],
             [
              0.5555555555555556,
              "#d8576b"
             ],
             [
              0.6666666666666666,
              "#ed7953"
             ],
             [
              0.7777777777777778,
              "#fb9f3a"
             ],
             [
              0.8888888888888888,
              "#fdca26"
             ],
             [
              1,
              "#f0f921"
             ]
            ],
            "type": "histogram2dcontour"
           }
          ],
          "mesh3d": [
           {
            "colorbar": {
             "outlinewidth": 0,
             "ticks": ""
            },
            "type": "mesh3d"
           }
          ],
          "parcoords": [
           {
            "line": {
             "colorbar": {
              "outlinewidth": 0,
              "ticks": ""
             }
            },
            "type": "parcoords"
           }
          ],
          "pie": [
           {
            "automargin": true,
            "type": "pie"
           }
          ],
          "scatter": [
           {
            "marker": {
             "line": {
              "color": "#283442"
             }
            },
            "type": "scatter"
           }
          ],
          "scatter3d": [
           {
            "line": {
             "colorbar": {
              "outlinewidth": 0,
              "ticks": ""
             }
            },
            "marker": {
             "colorbar": {
              "outlinewidth": 0,
              "ticks": ""
             }
            },
            "type": "scatter3d"
           }
          ],
          "scattercarpet": [
           {
            "marker": {
             "colorbar": {
              "outlinewidth": 0,
              "ticks": ""
             }
            },
            "type": "scattercarpet"
           }
          ],
          "scattergeo": [
           {
            "marker": {
             "colorbar": {
              "outlinewidth": 0,
              "ticks": ""
             }
            },
            "type": "scattergeo"
           }
          ],
          "scattergl": [
           {
            "marker": {
             "line": {
              "color": "#283442"
             }
            },
            "type": "scattergl"
           }
          ],
          "scattermapbox": [
           {
            "marker": {
             "colorbar": {
              "outlinewidth": 0,
              "ticks": ""
             }
            },
            "type": "scattermapbox"
           }
          ],
          "scatterpolar": [
           {
            "marker": {
             "colorbar": {
              "outlinewidth": 0,
              "ticks": ""
             }
            },
            "type": "scatterpolar"
           }
          ],
          "scatterpolargl": [
           {
            "marker": {
             "colorbar": {
              "outlinewidth": 0,
              "ticks": ""
             }
            },
            "type": "scatterpolargl"
           }
          ],
          "scatterternary": [
           {
            "marker": {
             "colorbar": {
              "outlinewidth": 0,
              "ticks": ""
             }
            },
            "type": "scatterternary"
           }
          ],
          "surface": [
           {
            "colorbar": {
             "outlinewidth": 0,
             "ticks": ""
            },
            "colorscale": [
             [
              0,
              "#0d0887"
             ],
             [
              0.1111111111111111,
              "#46039f"
             ],
             [
              0.2222222222222222,
              "#7201a8"
             ],
             [
              0.3333333333333333,
              "#9c179e"
             ],
             [
              0.4444444444444444,
              "#bd3786"
             ],
             [
              0.5555555555555556,
              "#d8576b"
             ],
             [
              0.6666666666666666,
              "#ed7953"
             ],
             [
              0.7777777777777778,
              "#fb9f3a"
             ],
             [
              0.8888888888888888,
              "#fdca26"
             ],
             [
              1,
              "#f0f921"
             ]
            ],
            "type": "surface"
           }
          ],
          "table": [
           {
            "cells": {
             "fill": {
              "color": "#506784"
             },
             "line": {
              "color": "rgb(17,17,17)"
             }
            },
            "header": {
             "fill": {
              "color": "#2a3f5f"
             },
             "line": {
              "color": "rgb(17,17,17)"
             }
            },
            "type": "table"
           }
          ]
         },
         "layout": {
          "annotationdefaults": {
           "arrowcolor": "#f2f5fa",
           "arrowhead": 0,
           "arrowwidth": 1
          },
          "autotypenumbers": "strict",
          "coloraxis": {
           "colorbar": {
            "outlinewidth": 0,
            "ticks": ""
           }
          },
          "colorscale": {
           "diverging": [
            [
             0,
             "#8e0152"
            ],
            [
             0.1,
             "#c51b7d"
            ],
            [
             0.2,
             "#de77ae"
            ],
            [
             0.3,
             "#f1b6da"
            ],
            [
             0.4,
             "#fde0ef"
            ],
            [
             0.5,
             "#f7f7f7"
            ],
            [
             0.6,
             "#e6f5d0"
            ],
            [
             0.7,
             "#b8e186"
            ],
            [
             0.8,
             "#7fbc41"
            ],
            [
             0.9,
             "#4d9221"
            ],
            [
             1,
             "#276419"
            ]
           ],
           "sequential": [
            [
             0,
             "#0d0887"
            ],
            [
             0.1111111111111111,
             "#46039f"
            ],
            [
             0.2222222222222222,
             "#7201a8"
            ],
            [
             0.3333333333333333,
             "#9c179e"
            ],
            [
             0.4444444444444444,
             "#bd3786"
            ],
            [
             0.5555555555555556,
             "#d8576b"
            ],
            [
             0.6666666666666666,
             "#ed7953"
            ],
            [
             0.7777777777777778,
             "#fb9f3a"
            ],
            [
             0.8888888888888888,
             "#fdca26"
            ],
            [
             1,
             "#f0f921"
            ]
           ],
           "sequentialminus": [
            [
             0,
             "#0d0887"
            ],
            [
             0.1111111111111111,
             "#46039f"
            ],
            [
             0.2222222222222222,
             "#7201a8"
            ],
            [
             0.3333333333333333,
             "#9c179e"
            ],
            [
             0.4444444444444444,
             "#bd3786"
            ],
            [
             0.5555555555555556,
             "#d8576b"
            ],
            [
             0.6666666666666666,
             "#ed7953"
            ],
            [
             0.7777777777777778,
             "#fb9f3a"
            ],
            [
             0.8888888888888888,
             "#fdca26"
            ],
            [
             1,
             "#f0f921"
            ]
           ]
          },
          "colorway": [
           "#636efa",
           "#EF553B",
           "#00cc96",
           "#ab63fa",
           "#FFA15A",
           "#19d3f3",
           "#FF6692",
           "#B6E880",
           "#FF97FF",
           "#FECB52"
          ],
          "font": {
           "color": "#f2f5fa"
          },
          "geo": {
           "bgcolor": "rgb(17,17,17)",
           "lakecolor": "rgb(17,17,17)",
           "landcolor": "rgb(17,17,17)",
           "showlakes": true,
           "showland": true,
           "subunitcolor": "#506784"
          },
          "hoverlabel": {
           "align": "left"
          },
          "hovermode": "closest",
          "mapbox": {
           "style": "dark"
          },
          "paper_bgcolor": "rgb(17,17,17)",
          "plot_bgcolor": "rgb(17,17,17)",
          "polar": {
           "angularaxis": {
            "gridcolor": "#506784",
            "linecolor": "#506784",
            "ticks": ""
           },
           "bgcolor": "rgb(17,17,17)",
           "radialaxis": {
            "gridcolor": "#506784",
            "linecolor": "#506784",
            "ticks": ""
           }
          },
          "scene": {
           "xaxis": {
            "backgroundcolor": "rgb(17,17,17)",
            "gridcolor": "#506784",
            "gridwidth": 2,
            "linecolor": "#506784",
            "showbackground": true,
            "ticks": "",
            "zerolinecolor": "#C8D4E3"
           },
           "yaxis": {
            "backgroundcolor": "rgb(17,17,17)",
            "gridcolor": "#506784",
            "gridwidth": 2,
            "linecolor": "#506784",
            "showbackground": true,
            "ticks": "",
            "zerolinecolor": "#C8D4E3"
           },
           "zaxis": {
            "backgroundcolor": "rgb(17,17,17)",
            "gridcolor": "#506784",
            "gridwidth": 2,
            "linecolor": "#506784",
            "showbackground": true,
            "ticks": "",
            "zerolinecolor": "#C8D4E3"
           }
          },
          "shapedefaults": {
           "line": {
            "color": "#f2f5fa"
           }
          },
          "sliderdefaults": {
           "bgcolor": "#C8D4E3",
           "bordercolor": "rgb(17,17,17)",
           "borderwidth": 1,
           "tickwidth": 0
          },
          "ternary": {
           "aaxis": {
            "gridcolor": "#506784",
            "linecolor": "#506784",
            "ticks": ""
           },
           "baxis": {
            "gridcolor": "#506784",
            "linecolor": "#506784",
            "ticks": ""
           },
           "bgcolor": "rgb(17,17,17)",
           "caxis": {
            "gridcolor": "#506784",
            "linecolor": "#506784",
            "ticks": ""
           }
          },
          "title": {
           "x": 0.05
          },
          "updatemenudefaults": {
           "bgcolor": "#506784",
           "borderwidth": 0
          },
          "xaxis": {
           "automargin": true,
           "gridcolor": "#283442",
           "linecolor": "#506784",
           "ticks": "",
           "title": {
            "standoff": 15
           },
           "zerolinecolor": "#283442",
           "zerolinewidth": 2
          },
          "yaxis": {
           "automargin": true,
           "gridcolor": "#283442",
           "linecolor": "#506784",
           "ticks": "",
           "title": {
            "standoff": 15
           },
           "zerolinecolor": "#283442",
           "zerolinewidth": 2
          }
         }
        },
        "width": 900,
        "xaxis": {
         "anchor": "y",
         "domain": [
          0,
          0.4
         ],
         "showgrid": false,
         "title": {
          "text": "Total Sales"
         }
        },
        "xaxis2": {
         "anchor": "y2",
         "domain": [
          0.6000000000000001,
          1
         ],
         "showgrid": false,
         "title": {
          "text": "Total Sales"
         }
        },
        "yaxis": {
         "anchor": "x",
         "categoryorder": "total ascending",
         "domain": [
          0,
          1
         ],
         "title": {
          "text": ""
         }
        },
        "yaxis2": {
         "anchor": "x2",
         "categoryorder": "total ascending",
         "domain": [
          0,
          1
         ],
         "title": {
          "text": ""
         }
        }
       }
      }
     },
     "metadata": {},
     "output_type": "display_data"
    }
   ],
   "source": [
    "bar2 = create_bar_region_market_combined(df_2017)\n",
    "bar2"
   ]
  },
  {
   "cell_type": "code",
   "execution_count": 89,
   "metadata": {},
   "outputs": [
    {
     "data": {
      "text/html": [
       "<div>\n",
       "<style scoped>\n",
       "    .dataframe tbody tr th:only-of-type {\n",
       "        vertical-align: middle;\n",
       "    }\n",
       "\n",
       "    .dataframe tbody tr th {\n",
       "        vertical-align: top;\n",
       "    }\n",
       "\n",
       "    .dataframe thead th {\n",
       "        text-align: right;\n",
       "    }\n",
       "</style>\n",
       "<table border=\"1\" class=\"dataframe\">\n",
       "  <thead>\n",
       "    <tr style=\"text-align: right;\">\n",
       "      <th></th>\n",
       "      <th>order_status</th>\n",
       "      <th>count</th>\n",
       "    </tr>\n",
       "  </thead>\n",
       "  <tbody>\n",
       "    <tr>\n",
       "      <th>0</th>\n",
       "      <td>CLOSED</td>\n",
       "      <td>5669</td>\n",
       "    </tr>\n",
       "    <tr>\n",
       "      <th>1</th>\n",
       "      <td>COMPLETE</td>\n",
       "      <td>17365</td>\n",
       "    </tr>\n",
       "    <tr>\n",
       "      <th>2</th>\n",
       "      <td>ON_HOLD</td>\n",
       "      <td>2758</td>\n",
       "    </tr>\n",
       "    <tr>\n",
       "      <th>3</th>\n",
       "      <td>PAYMENT_REVIEW</td>\n",
       "      <td>568</td>\n",
       "    </tr>\n",
       "    <tr>\n",
       "      <th>4</th>\n",
       "      <td>PENDING</td>\n",
       "      <td>6233</td>\n",
       "    </tr>\n",
       "    <tr>\n",
       "      <th>5</th>\n",
       "      <td>PENDING_PAYMENT</td>\n",
       "      <td>11725</td>\n",
       "    </tr>\n",
       "    <tr>\n",
       "      <th>6</th>\n",
       "      <td>PROCESSING</td>\n",
       "      <td>6530</td>\n",
       "    </tr>\n",
       "  </tbody>\n",
       "</table>\n",
       "</div>"
      ],
      "text/plain": [
       "      order_status  count\n",
       "0           CLOSED   5669\n",
       "1         COMPLETE  17365\n",
       "2          ON_HOLD   2758\n",
       "3   PAYMENT_REVIEW    568\n",
       "4          PENDING   6233\n",
       "5  PENDING_PAYMENT  11725\n",
       "6       PROCESSING   6530"
      ]
     },
     "execution_count": 89,
     "metadata": {},
     "output_type": "execute_result"
    }
   ],
   "source": [
    "order_status_distribution = df_2017.groupby('order_status').size().reset_index(name='count')\n",
    "order_status_distribution"
   ]
  },
  {
   "cell_type": "code",
   "execution_count": 90,
   "metadata": {},
   "outputs": [
    {
     "data": {
      "text/html": [
       "<div>\n",
       "<style scoped>\n",
       "    .dataframe tbody tr th:only-of-type {\n",
       "        vertical-align: middle;\n",
       "    }\n",
       "\n",
       "    .dataframe tbody tr th {\n",
       "        vertical-align: top;\n",
       "    }\n",
       "\n",
       "    .dataframe thead th {\n",
       "        text-align: right;\n",
       "    }\n",
       "</style>\n",
       "<table border=\"1\" class=\"dataframe\">\n",
       "  <thead>\n",
       "    <tr style=\"text-align: right;\">\n",
       "      <th></th>\n",
       "      <th>shipping_mode</th>\n",
       "      <th>order_item_quantity</th>\n",
       "    </tr>\n",
       "  </thead>\n",
       "  <tbody>\n",
       "    <tr>\n",
       "      <th>0</th>\n",
       "      <td>First Class</td>\n",
       "      <td>15056</td>\n",
       "    </tr>\n",
       "    <tr>\n",
       "      <th>1</th>\n",
       "      <td>Same Day</td>\n",
       "      <td>5511</td>\n",
       "    </tr>\n",
       "    <tr>\n",
       "      <th>2</th>\n",
       "      <td>Second Class</td>\n",
       "      <td>19659</td>\n",
       "    </tr>\n",
       "    <tr>\n",
       "      <th>3</th>\n",
       "      <td>Standard Class</td>\n",
       "      <td>61166</td>\n",
       "    </tr>\n",
       "  </tbody>\n",
       "</table>\n",
       "</div>"
      ],
      "text/plain": [
       "    shipping_mode  order_item_quantity\n",
       "0     First Class                15056\n",
       "1        Same Day                 5511\n",
       "2    Second Class                19659\n",
       "3  Standard Class                61166"
      ]
     },
     "execution_count": 90,
     "metadata": {},
     "output_type": "execute_result"
    }
   ],
   "source": [
    "order_volume_by_shipping_mode = df_2017.groupby('shipping_mode')['order_item_quantity'].sum().reset_index()\n",
    "order_volume_by_shipping_mode"
   ]
  },
  {
   "cell_type": "code",
   "execution_count": 91,
   "metadata": {},
   "outputs": [
    {
     "data": {
      "text/html": [
       "<div>\n",
       "<style scoped>\n",
       "    .dataframe tbody tr th:only-of-type {\n",
       "        vertical-align: middle;\n",
       "    }\n",
       "\n",
       "    .dataframe tbody tr th {\n",
       "        vertical-align: top;\n",
       "    }\n",
       "\n",
       "    .dataframe thead th {\n",
       "        text-align: right;\n",
       "    }\n",
       "</style>\n",
       "<table border=\"1\" class=\"dataframe\">\n",
       "  <thead>\n",
       "    <tr style=\"text-align: right;\">\n",
       "      <th>late_delivery_risk</th>\n",
       "      <th>order_region</th>\n",
       "      <th>market</th>\n",
       "      <th>0</th>\n",
       "      <th>1</th>\n",
       "      <th>late_delivery_rate</th>\n",
       "    </tr>\n",
       "  </thead>\n",
       "  <tbody>\n",
       "    <tr>\n",
       "      <th>0</th>\n",
       "      <td>Asiatic Russia/European Russia</td>\n",
       "      <td>Europe</td>\n",
       "      <td>62.00</td>\n",
       "      <td>131.00</td>\n",
       "      <td>67.88</td>\n",
       "    </tr>\n",
       "    <tr>\n",
       "      <th>1</th>\n",
       "      <td>Australia/New Zealand</td>\n",
       "      <td>Pacific Asia</td>\n",
       "      <td>366.00</td>\n",
       "      <td>475.00</td>\n",
       "      <td>56.48</td>\n",
       "    </tr>\n",
       "    <tr>\n",
       "      <th>2</th>\n",
       "      <td>Caribbean</td>\n",
       "      <td>Latin America</td>\n",
       "      <td>1782.00</td>\n",
       "      <td>2131.00</td>\n",
       "      <td>54.46</td>\n",
       "    </tr>\n",
       "    <tr>\n",
       "      <th>3</th>\n",
       "      <td>Central America</td>\n",
       "      <td>Latin America</td>\n",
       "      <td>5936.00</td>\n",
       "      <td>7875.00</td>\n",
       "      <td>57.02</td>\n",
       "    </tr>\n",
       "    <tr>\n",
       "      <th>4</th>\n",
       "      <td>Central Asia</td>\n",
       "      <td>Pacific Asia</td>\n",
       "      <td>23.00</td>\n",
       "      <td>48.00</td>\n",
       "      <td>67.61</td>\n",
       "    </tr>\n",
       "    <tr>\n",
       "      <th>5</th>\n",
       "      <td>Eastern Africa</td>\n",
       "      <td>Africa</td>\n",
       "      <td>98.00</td>\n",
       "      <td>107.00</td>\n",
       "      <td>52.20</td>\n",
       "    </tr>\n",
       "    <tr>\n",
       "      <th>6</th>\n",
       "      <td>Eastern Asia</td>\n",
       "      <td>Pacific Asia</td>\n",
       "      <td>361.00</td>\n",
       "      <td>471.00</td>\n",
       "      <td>56.61</td>\n",
       "    </tr>\n",
       "    <tr>\n",
       "      <th>7</th>\n",
       "      <td>Eastern Europe</td>\n",
       "      <td>Europe</td>\n",
       "      <td>123.00</td>\n",
       "      <td>136.00</td>\n",
       "      <td>52.51</td>\n",
       "    </tr>\n",
       "    <tr>\n",
       "      <th>8</th>\n",
       "      <td>Melanesia</td>\n",
       "      <td>Pacific Asia</td>\n",
       "      <td>NaN</td>\n",
       "      <td>2.00</td>\n",
       "      <td>NaN</td>\n",
       "    </tr>\n",
       "    <tr>\n",
       "      <th>9</th>\n",
       "      <td>Middle Africa</td>\n",
       "      <td>Africa</td>\n",
       "      <td>66.00</td>\n",
       "      <td>84.00</td>\n",
       "      <td>56.00</td>\n",
       "    </tr>\n",
       "    <tr>\n",
       "      <th>10</th>\n",
       "      <td>Northern Africa</td>\n",
       "      <td>Africa</td>\n",
       "      <td>154.00</td>\n",
       "      <td>183.00</td>\n",
       "      <td>54.30</td>\n",
       "    </tr>\n",
       "    <tr>\n",
       "      <th>11</th>\n",
       "      <td>Northern America</td>\n",
       "      <td>USCA</td>\n",
       "      <td>59.00</td>\n",
       "      <td>47.00</td>\n",
       "      <td>44.34</td>\n",
       "    </tr>\n",
       "    <tr>\n",
       "      <th>12</th>\n",
       "      <td>Northern Europe</td>\n",
       "      <td>Europe</td>\n",
       "      <td>1880.00</td>\n",
       "      <td>2344.00</td>\n",
       "      <td>55.49</td>\n",
       "    </tr>\n",
       "    <tr>\n",
       "      <th>13</th>\n",
       "      <td>South America</td>\n",
       "      <td>Latin America</td>\n",
       "      <td>2980.00</td>\n",
       "      <td>3991.00</td>\n",
       "      <td>57.25</td>\n",
       "    </tr>\n",
       "    <tr>\n",
       "      <th>14</th>\n",
       "      <td>Southeastern Asia</td>\n",
       "      <td>Pacific Asia</td>\n",
       "      <td>437.00</td>\n",
       "      <td>608.00</td>\n",
       "      <td>58.18</td>\n",
       "    </tr>\n",
       "    <tr>\n",
       "      <th>15</th>\n",
       "      <td>Southern Africa</td>\n",
       "      <td>Africa</td>\n",
       "      <td>44.00</td>\n",
       "      <td>59.00</td>\n",
       "      <td>57.28</td>\n",
       "    </tr>\n",
       "    <tr>\n",
       "      <th>16</th>\n",
       "      <td>Southern Asia</td>\n",
       "      <td>Pacific Asia</td>\n",
       "      <td>340.00</td>\n",
       "      <td>451.00</td>\n",
       "      <td>57.02</td>\n",
       "    </tr>\n",
       "    <tr>\n",
       "      <th>17</th>\n",
       "      <td>Southern Europe</td>\n",
       "      <td>Europe</td>\n",
       "      <td>1697.00</td>\n",
       "      <td>2329.00</td>\n",
       "      <td>57.85</td>\n",
       "    </tr>\n",
       "    <tr>\n",
       "      <th>18</th>\n",
       "      <td>Western Africa</td>\n",
       "      <td>Africa</td>\n",
       "      <td>220.00</td>\n",
       "      <td>199.00</td>\n",
       "      <td>47.49</td>\n",
       "    </tr>\n",
       "    <tr>\n",
       "      <th>19</th>\n",
       "      <td>Western Asia</td>\n",
       "      <td>Pacific Asia</td>\n",
       "      <td>316.00</td>\n",
       "      <td>447.00</td>\n",
       "      <td>58.58</td>\n",
       "    </tr>\n",
       "    <tr>\n",
       "      <th>20</th>\n",
       "      <td>Western Europe</td>\n",
       "      <td>Europe</td>\n",
       "      <td>4940.00</td>\n",
       "      <td>6846.00</td>\n",
       "      <td>58.09</td>\n",
       "    </tr>\n",
       "  </tbody>\n",
       "</table>\n",
       "</div>"
      ],
      "text/plain": [
       "late_delivery_risk                    order_region         market       0  \\\n",
       "0                   Asiatic Russia/European Russia         Europe   62.00   \n",
       "1                            Australia/New Zealand   Pacific Asia  366.00   \n",
       "2                                        Caribbean  Latin America 1782.00   \n",
       "3                                  Central America  Latin America 5936.00   \n",
       "4                                     Central Asia   Pacific Asia   23.00   \n",
       "5                                   Eastern Africa         Africa   98.00   \n",
       "6                                     Eastern Asia   Pacific Asia  361.00   \n",
       "7                                   Eastern Europe         Europe  123.00   \n",
       "8                                        Melanesia   Pacific Asia     NaN   \n",
       "9                                    Middle Africa         Africa   66.00   \n",
       "10                                 Northern Africa         Africa  154.00   \n",
       "11                                Northern America           USCA   59.00   \n",
       "12                                 Northern Europe         Europe 1880.00   \n",
       "13                                   South America  Latin America 2980.00   \n",
       "14                               Southeastern Asia   Pacific Asia  437.00   \n",
       "15                                 Southern Africa         Africa   44.00   \n",
       "16                                   Southern Asia   Pacific Asia  340.00   \n",
       "17                                 Southern Europe         Europe 1697.00   \n",
       "18                                  Western Africa         Africa  220.00   \n",
       "19                                    Western Asia   Pacific Asia  316.00   \n",
       "20                                  Western Europe         Europe 4940.00   \n",
       "\n",
       "late_delivery_risk       1  late_delivery_rate  \n",
       "0                   131.00               67.88  \n",
       "1                   475.00               56.48  \n",
       "2                  2131.00               54.46  \n",
       "3                  7875.00               57.02  \n",
       "4                    48.00               67.61  \n",
       "5                   107.00               52.20  \n",
       "6                   471.00               56.61  \n",
       "7                   136.00               52.51  \n",
       "8                     2.00                 NaN  \n",
       "9                    84.00               56.00  \n",
       "10                  183.00               54.30  \n",
       "11                   47.00               44.34  \n",
       "12                 2344.00               55.49  \n",
       "13                 3991.00               57.25  \n",
       "14                  608.00               58.18  \n",
       "15                   59.00               57.28  \n",
       "16                  451.00               57.02  \n",
       "17                 2329.00               57.85  \n",
       "18                  199.00               47.49  \n",
       "19                  447.00               58.58  \n",
       "20                 6846.00               58.09  "
      ]
     },
     "execution_count": 91,
     "metadata": {},
     "output_type": "execute_result"
    }
   ],
   "source": [
    "late_delivery_data = df_2017.groupby(['order_region', 'market', 'late_delivery_risk']).size().unstack().reset_index()\n",
    "late_delivery_data['late_delivery_rate'] = (late_delivery_data[1] / (late_delivery_data[0] + late_delivery_data[1])) * 100\n",
    "late_delivery_data"
   ]
  },
  {
   "cell_type": "code",
   "execution_count": 92,
   "metadata": {},
   "outputs": [
    {
     "data": {
      "text/html": [
       "<div>\n",
       "<style scoped>\n",
       "    .dataframe tbody tr th:only-of-type {\n",
       "        vertical-align: middle;\n",
       "    }\n",
       "\n",
       "    .dataframe tbody tr th {\n",
       "        vertical-align: top;\n",
       "    }\n",
       "\n",
       "    .dataframe thead th {\n",
       "        text-align: right;\n",
       "    }\n",
       "</style>\n",
       "<table border=\"1\" class=\"dataframe\">\n",
       "  <thead>\n",
       "    <tr style=\"text-align: right;\">\n",
       "      <th></th>\n",
       "      <th>order_region</th>\n",
       "      <th>shipping_mode</th>\n",
       "      <th>order_status</th>\n",
       "    </tr>\n",
       "  </thead>\n",
       "  <tbody>\n",
       "    <tr>\n",
       "      <th>0</th>\n",
       "      <td>Asiatic Russia/European Russia</td>\n",
       "      <td>First Class</td>\n",
       "      <td>37</td>\n",
       "    </tr>\n",
       "    <tr>\n",
       "      <th>1</th>\n",
       "      <td>Asiatic Russia/European Russia</td>\n",
       "      <td>Same Day</td>\n",
       "      <td>3</td>\n",
       "    </tr>\n",
       "    <tr>\n",
       "      <th>2</th>\n",
       "      <td>Asiatic Russia/European Russia</td>\n",
       "      <td>Second Class</td>\n",
       "      <td>79</td>\n",
       "    </tr>\n",
       "    <tr>\n",
       "      <th>3</th>\n",
       "      <td>Asiatic Russia/European Russia</td>\n",
       "      <td>Standard Class</td>\n",
       "      <td>74</td>\n",
       "    </tr>\n",
       "    <tr>\n",
       "      <th>4</th>\n",
       "      <td>Australia/New Zealand</td>\n",
       "      <td>First Class</td>\n",
       "      <td>123</td>\n",
       "    </tr>\n",
       "    <tr>\n",
       "      <th>...</th>\n",
       "      <td>...</td>\n",
       "      <td>...</td>\n",
       "      <td>...</td>\n",
       "    </tr>\n",
       "    <tr>\n",
       "      <th>77</th>\n",
       "      <td>Western Asia</td>\n",
       "      <td>Standard Class</td>\n",
       "      <td>453</td>\n",
       "    </tr>\n",
       "    <tr>\n",
       "      <th>78</th>\n",
       "      <td>Western Europe</td>\n",
       "      <td>First Class</td>\n",
       "      <td>1855</td>\n",
       "    </tr>\n",
       "    <tr>\n",
       "      <th>79</th>\n",
       "      <td>Western Europe</td>\n",
       "      <td>Same Day</td>\n",
       "      <td>658</td>\n",
       "    </tr>\n",
       "    <tr>\n",
       "      <th>80</th>\n",
       "      <td>Western Europe</td>\n",
       "      <td>Second Class</td>\n",
       "      <td>2352</td>\n",
       "    </tr>\n",
       "    <tr>\n",
       "      <th>81</th>\n",
       "      <td>Western Europe</td>\n",
       "      <td>Standard Class</td>\n",
       "      <td>6921</td>\n",
       "    </tr>\n",
       "  </tbody>\n",
       "</table>\n",
       "<p>82 rows × 3 columns</p>\n",
       "</div>"
      ],
      "text/plain": [
       "                      order_region   shipping_mode  order_status\n",
       "0   Asiatic Russia/European Russia     First Class            37\n",
       "1   Asiatic Russia/European Russia        Same Day             3\n",
       "2   Asiatic Russia/European Russia    Second Class            79\n",
       "3   Asiatic Russia/European Russia  Standard Class            74\n",
       "4            Australia/New Zealand     First Class           123\n",
       "..                             ...             ...           ...\n",
       "77                    Western Asia  Standard Class           453\n",
       "78                  Western Europe     First Class          1855\n",
       "79                  Western Europe        Same Day           658\n",
       "80                  Western Europe    Second Class          2352\n",
       "81                  Western Europe  Standard Class          6921\n",
       "\n",
       "[82 rows x 3 columns]"
      ]
     },
     "execution_count": 92,
     "metadata": {},
     "output_type": "execute_result"
    }
   ],
   "source": [
    "# Calculate the count of orders for each shipping mode by region\n",
    "shipping_mode_distribution = df_2017.groupby(['order_region', 'shipping_mode'])['order_status'].count().reset_index()\n",
    "shipping_mode_distribution"
   ]
  },
  {
   "cell_type": "code",
   "execution_count": 93,
   "metadata": {},
   "outputs": [
    {
     "data": {
      "text/html": [
       "<div>\n",
       "<style scoped>\n",
       "    .dataframe tbody tr th:only-of-type {\n",
       "        vertical-align: middle;\n",
       "    }\n",
       "\n",
       "    .dataframe tbody tr th {\n",
       "        vertical-align: top;\n",
       "    }\n",
       "\n",
       "    .dataframe thead th {\n",
       "        text-align: right;\n",
       "    }\n",
       "</style>\n",
       "<table border=\"1\" class=\"dataframe\">\n",
       "  <thead>\n",
       "    <tr style=\"text-align: right;\">\n",
       "      <th></th>\n",
       "      <th>market</th>\n",
       "      <th>order_region</th>\n",
       "      <th>order_profit_per_order</th>\n",
       "    </tr>\n",
       "  </thead>\n",
       "  <tbody>\n",
       "    <tr>\n",
       "      <th>16</th>\n",
       "      <td>Pacific Asia</td>\n",
       "      <td>Melanesia</td>\n",
       "      <td>50.61</td>\n",
       "    </tr>\n",
       "    <tr>\n",
       "      <th>17</th>\n",
       "      <td>Pacific Asia</td>\n",
       "      <td>Southeastern Asia</td>\n",
       "      <td>40.24</td>\n",
       "    </tr>\n",
       "    <tr>\n",
       "      <th>15</th>\n",
       "      <td>Pacific Asia</td>\n",
       "      <td>Eastern Asia</td>\n",
       "      <td>36.92</td>\n",
       "    </tr>\n",
       "    <tr>\n",
       "      <th>20</th>\n",
       "      <td>USCA</td>\n",
       "      <td>Northern America</td>\n",
       "      <td>33.63</td>\n",
       "    </tr>\n",
       "    <tr>\n",
       "      <th>18</th>\n",
       "      <td>Pacific Asia</td>\n",
       "      <td>Southern Asia</td>\n",
       "      <td>31.04</td>\n",
       "    </tr>\n",
       "    <tr>\n",
       "      <th>2</th>\n",
       "      <td>Africa</td>\n",
       "      <td>Northern Africa</td>\n",
       "      <td>27.89</td>\n",
       "    </tr>\n",
       "    <tr>\n",
       "      <th>9</th>\n",
       "      <td>Europe</td>\n",
       "      <td>Western Europe</td>\n",
       "      <td>26.96</td>\n",
       "    </tr>\n",
       "    <tr>\n",
       "      <th>7</th>\n",
       "      <td>Europe</td>\n",
       "      <td>Northern Europe</td>\n",
       "      <td>26.58</td>\n",
       "    </tr>\n",
       "    <tr>\n",
       "      <th>4</th>\n",
       "      <td>Africa</td>\n",
       "      <td>Western Africa</td>\n",
       "      <td>25.66</td>\n",
       "    </tr>\n",
       "    <tr>\n",
       "      <th>8</th>\n",
       "      <td>Europe</td>\n",
       "      <td>Southern Europe</td>\n",
       "      <td>24.94</td>\n",
       "    </tr>\n",
       "    <tr>\n",
       "      <th>5</th>\n",
       "      <td>Europe</td>\n",
       "      <td>Asiatic Russia/European Russia</td>\n",
       "      <td>24.11</td>\n",
       "    </tr>\n",
       "    <tr>\n",
       "      <th>12</th>\n",
       "      <td>Latin America</td>\n",
       "      <td>South America</td>\n",
       "      <td>22.69</td>\n",
       "    </tr>\n",
       "    <tr>\n",
       "      <th>11</th>\n",
       "      <td>Latin America</td>\n",
       "      <td>Central America</td>\n",
       "      <td>22.46</td>\n",
       "    </tr>\n",
       "    <tr>\n",
       "      <th>10</th>\n",
       "      <td>Latin America</td>\n",
       "      <td>Caribbean</td>\n",
       "      <td>22.07</td>\n",
       "    </tr>\n",
       "    <tr>\n",
       "      <th>3</th>\n",
       "      <td>Africa</td>\n",
       "      <td>Southern Africa</td>\n",
       "      <td>21.97</td>\n",
       "    </tr>\n",
       "    <tr>\n",
       "      <th>13</th>\n",
       "      <td>Pacific Asia</td>\n",
       "      <td>Australia/New Zealand</td>\n",
       "      <td>21.63</td>\n",
       "    </tr>\n",
       "    <tr>\n",
       "      <th>19</th>\n",
       "      <td>Pacific Asia</td>\n",
       "      <td>Western Asia</td>\n",
       "      <td>21.30</td>\n",
       "    </tr>\n",
       "    <tr>\n",
       "      <th>6</th>\n",
       "      <td>Europe</td>\n",
       "      <td>Eastern Europe</td>\n",
       "      <td>21.21</td>\n",
       "    </tr>\n",
       "    <tr>\n",
       "      <th>0</th>\n",
       "      <td>Africa</td>\n",
       "      <td>Eastern Africa</td>\n",
       "      <td>19.60</td>\n",
       "    </tr>\n",
       "    <tr>\n",
       "      <th>1</th>\n",
       "      <td>Africa</td>\n",
       "      <td>Middle Africa</td>\n",
       "      <td>17.29</td>\n",
       "    </tr>\n",
       "    <tr>\n",
       "      <th>14</th>\n",
       "      <td>Pacific Asia</td>\n",
       "      <td>Central Asia</td>\n",
       "      <td>6.08</td>\n",
       "    </tr>\n",
       "  </tbody>\n",
       "</table>\n",
       "</div>"
      ],
      "text/plain": [
       "           market                    order_region  order_profit_per_order\n",
       "16   Pacific Asia                       Melanesia                   50.61\n",
       "17   Pacific Asia               Southeastern Asia                   40.24\n",
       "15   Pacific Asia                    Eastern Asia                   36.92\n",
       "20           USCA                Northern America                   33.63\n",
       "18   Pacific Asia                   Southern Asia                   31.04\n",
       "2          Africa                 Northern Africa                   27.89\n",
       "9          Europe                  Western Europe                   26.96\n",
       "7          Europe                 Northern Europe                   26.58\n",
       "4          Africa                  Western Africa                   25.66\n",
       "8          Europe                 Southern Europe                   24.94\n",
       "5          Europe  Asiatic Russia/European Russia                   24.11\n",
       "12  Latin America                   South America                   22.69\n",
       "11  Latin America                 Central America                   22.46\n",
       "10  Latin America                       Caribbean                   22.07\n",
       "3          Africa                 Southern Africa                   21.97\n",
       "13   Pacific Asia           Australia/New Zealand                   21.63\n",
       "19   Pacific Asia                    Western Asia                   21.30\n",
       "6          Europe                  Eastern Europe                   21.21\n",
       "0          Africa                  Eastern Africa                   19.60\n",
       "1          Africa                   Middle Africa                   17.29\n",
       "14   Pacific Asia                    Central Asia                    6.08"
      ]
     },
     "execution_count": 93,
     "metadata": {},
     "output_type": "execute_result"
    }
   ],
   "source": [
    "# Calculate the average order profit by region\n",
    "avg_order_profit = df_2017.groupby(['market', 'order_region'])['order_profit_per_order'].mean().reset_index()\n",
    "avg_order_profit = avg_order_profit.sort_values('order_profit_per_order', ascending=False)\n",
    "avg_order_profit"
   ]
  },
  {
   "cell_type": "code",
   "execution_count": 94,
   "metadata": {},
   "outputs": [
    {
     "data": {
      "application/vnd.plotly.v1+json": {
       "config": {
        "plotlyServerURL": "https://plot.ly"
       },
       "data": [
        {
         "marker": {
          "color": "rgb(104, 204, 104)"
         },
         "text": [
          50.61,
          40.24,
          36.92,
          33.63,
          31.04,
          27.89,
          26.96,
          26.58,
          25.66,
          24.94,
          24.11,
          22.69,
          22.46,
          22.07,
          21.97,
          21.63,
          21.3,
          21.21,
          19.6,
          17.29,
          6.08
         ],
         "textfont": {
          "size": 10
         },
         "textposition": "outside",
         "texttemplate": "%{text:.2f}",
         "type": "bar",
         "x": [
          "Melanesia",
          "Southeastern Asia",
          "Eastern Asia",
          "Northern America",
          "Southern Asia",
          "Northern Africa",
          "Western Europe",
          "Northern Europe",
          "Western Africa",
          "Southern Europe",
          "Asiatic Russia/European Russia",
          "South America",
          "Central America",
          "Caribbean",
          "Southern Africa",
          "Australia/New Zealand",
          "Western Asia",
          "Eastern Europe",
          "Eastern Africa",
          "Middle Africa",
          "Central Asia"
         ],
         "y": [
          50.61499977,
          40.24152149750813,
          36.91544468009976,
          33.6339621629151,
          31.035676302197217,
          27.885222342635014,
          26.96262514535992,
          26.581467866257103,
          25.660811519343675,
          24.93830103259116,
          24.11233204537824,
          22.694405424494906,
          22.457827127209328,
          22.067462370554562,
          21.97456320093204,
          21.62743161045422,
          21.29646141576671,
          21.206563682447875,
          19.603170858965854,
          17.294933166453333,
          6.08309884930986
         ]
        }
       ],
       "layout": {
        "template": {
         "data": {
          "bar": [
           {
            "error_x": {
             "color": "#2a3f5f"
            },
            "error_y": {
             "color": "#2a3f5f"
            },
            "marker": {
             "line": {
              "color": "#E5ECF6",
              "width": 0.5
             },
             "pattern": {
              "fillmode": "overlay",
              "size": 10,
              "solidity": 0.2
             }
            },
            "type": "bar"
           }
          ],
          "barpolar": [
           {
            "marker": {
             "line": {
              "color": "#E5ECF6",
              "width": 0.5
             },
             "pattern": {
              "fillmode": "overlay",
              "size": 10,
              "solidity": 0.2
             }
            },
            "type": "barpolar"
           }
          ],
          "carpet": [
           {
            "aaxis": {
             "endlinecolor": "#2a3f5f",
             "gridcolor": "white",
             "linecolor": "white",
             "minorgridcolor": "white",
             "startlinecolor": "#2a3f5f"
            },
            "baxis": {
             "endlinecolor": "#2a3f5f",
             "gridcolor": "white",
             "linecolor": "white",
             "minorgridcolor": "white",
             "startlinecolor": "#2a3f5f"
            },
            "type": "carpet"
           }
          ],
          "choropleth": [
           {
            "colorbar": {
             "outlinewidth": 0,
             "ticks": ""
            },
            "type": "choropleth"
           }
          ],
          "contour": [
           {
            "colorbar": {
             "outlinewidth": 0,
             "ticks": ""
            },
            "colorscale": [
             [
              0,
              "#0d0887"
             ],
             [
              0.1111111111111111,
              "#46039f"
             ],
             [
              0.2222222222222222,
              "#7201a8"
             ],
             [
              0.3333333333333333,
              "#9c179e"
             ],
             [
              0.4444444444444444,
              "#bd3786"
             ],
             [
              0.5555555555555556,
              "#d8576b"
             ],
             [
              0.6666666666666666,
              "#ed7953"
             ],
             [
              0.7777777777777778,
              "#fb9f3a"
             ],
             [
              0.8888888888888888,
              "#fdca26"
             ],
             [
              1,
              "#f0f921"
             ]
            ],
            "type": "contour"
           }
          ],
          "contourcarpet": [
           {
            "colorbar": {
             "outlinewidth": 0,
             "ticks": ""
            },
            "type": "contourcarpet"
           }
          ],
          "heatmap": [
           {
            "colorbar": {
             "outlinewidth": 0,
             "ticks": ""
            },
            "colorscale": [
             [
              0,
              "#0d0887"
             ],
             [
              0.1111111111111111,
              "#46039f"
             ],
             [
              0.2222222222222222,
              "#7201a8"
             ],
             [
              0.3333333333333333,
              "#9c179e"
             ],
             [
              0.4444444444444444,
              "#bd3786"
             ],
             [
              0.5555555555555556,
              "#d8576b"
             ],
             [
              0.6666666666666666,
              "#ed7953"
             ],
             [
              0.7777777777777778,
              "#fb9f3a"
             ],
             [
              0.8888888888888888,
              "#fdca26"
             ],
             [
              1,
              "#f0f921"
             ]
            ],
            "type": "heatmap"
           }
          ],
          "heatmapgl": [
           {
            "colorbar": {
             "outlinewidth": 0,
             "ticks": ""
            },
            "colorscale": [
             [
              0,
              "#0d0887"
             ],
             [
              0.1111111111111111,
              "#46039f"
             ],
             [
              0.2222222222222222,
              "#7201a8"
             ],
             [
              0.3333333333333333,
              "#9c179e"
             ],
             [
              0.4444444444444444,
              "#bd3786"
             ],
             [
              0.5555555555555556,
              "#d8576b"
             ],
             [
              0.6666666666666666,
              "#ed7953"
             ],
             [
              0.7777777777777778,
              "#fb9f3a"
             ],
             [
              0.8888888888888888,
              "#fdca26"
             ],
             [
              1,
              "#f0f921"
             ]
            ],
            "type": "heatmapgl"
           }
          ],
          "histogram": [
           {
            "marker": {
             "pattern": {
              "fillmode": "overlay",
              "size": 10,
              "solidity": 0.2
             }
            },
            "type": "histogram"
           }
          ],
          "histogram2d": [
           {
            "colorbar": {
             "outlinewidth": 0,
             "ticks": ""
            },
            "colorscale": [
             [
              0,
              "#0d0887"
             ],
             [
              0.1111111111111111,
              "#46039f"
             ],
             [
              0.2222222222222222,
              "#7201a8"
             ],
             [
              0.3333333333333333,
              "#9c179e"
             ],
             [
              0.4444444444444444,
              "#bd3786"
             ],
             [
              0.5555555555555556,
              "#d8576b"
             ],
             [
              0.6666666666666666,
              "#ed7953"
             ],
             [
              0.7777777777777778,
              "#fb9f3a"
             ],
             [
              0.8888888888888888,
              "#fdca26"
             ],
             [
              1,
              "#f0f921"
             ]
            ],
            "type": "histogram2d"
           }
          ],
          "histogram2dcontour": [
           {
            "colorbar": {
             "outlinewidth": 0,
             "ticks": ""
            },
            "colorscale": [
             [
              0,
              "#0d0887"
             ],
             [
              0.1111111111111111,
              "#46039f"
             ],
             [
              0.2222222222222222,
              "#7201a8"
             ],
             [
              0.3333333333333333,
              "#9c179e"
             ],
             [
              0.4444444444444444,
              "#bd3786"
             ],
             [
              0.5555555555555556,
              "#d8576b"
             ],
             [
              0.6666666666666666,
              "#ed7953"
             ],
             [
              0.7777777777777778,
              "#fb9f3a"
             ],
             [
              0.8888888888888888,
              "#fdca26"
             ],
             [
              1,
              "#f0f921"
             ]
            ],
            "type": "histogram2dcontour"
           }
          ],
          "mesh3d": [
           {
            "colorbar": {
             "outlinewidth": 0,
             "ticks": ""
            },
            "type": "mesh3d"
           }
          ],
          "parcoords": [
           {
            "line": {
             "colorbar": {
              "outlinewidth": 0,
              "ticks": ""
             }
            },
            "type": "parcoords"
           }
          ],
          "pie": [
           {
            "automargin": true,
            "type": "pie"
           }
          ],
          "scatter": [
           {
            "fillpattern": {
             "fillmode": "overlay",
             "size": 10,
             "solidity": 0.2
            },
            "type": "scatter"
           }
          ],
          "scatter3d": [
           {
            "line": {
             "colorbar": {
              "outlinewidth": 0,
              "ticks": ""
             }
            },
            "marker": {
             "colorbar": {
              "outlinewidth": 0,
              "ticks": ""
             }
            },
            "type": "scatter3d"
           }
          ],
          "scattercarpet": [
           {
            "marker": {
             "colorbar": {
              "outlinewidth": 0,
              "ticks": ""
             }
            },
            "type": "scattercarpet"
           }
          ],
          "scattergeo": [
           {
            "marker": {
             "colorbar": {
              "outlinewidth": 0,
              "ticks": ""
             }
            },
            "type": "scattergeo"
           }
          ],
          "scattergl": [
           {
            "marker": {
             "colorbar": {
              "outlinewidth": 0,
              "ticks": ""
             }
            },
            "type": "scattergl"
           }
          ],
          "scattermapbox": [
           {
            "marker": {
             "colorbar": {
              "outlinewidth": 0,
              "ticks": ""
             }
            },
            "type": "scattermapbox"
           }
          ],
          "scatterpolar": [
           {
            "marker": {
             "colorbar": {
              "outlinewidth": 0,
              "ticks": ""
             }
            },
            "type": "scatterpolar"
           }
          ],
          "scatterpolargl": [
           {
            "marker": {
             "colorbar": {
              "outlinewidth": 0,
              "ticks": ""
             }
            },
            "type": "scatterpolargl"
           }
          ],
          "scatterternary": [
           {
            "marker": {
             "colorbar": {
              "outlinewidth": 0,
              "ticks": ""
             }
            },
            "type": "scatterternary"
           }
          ],
          "surface": [
           {
            "colorbar": {
             "outlinewidth": 0,
             "ticks": ""
            },
            "colorscale": [
             [
              0,
              "#0d0887"
             ],
             [
              0.1111111111111111,
              "#46039f"
             ],
             [
              0.2222222222222222,
              "#7201a8"
             ],
             [
              0.3333333333333333,
              "#9c179e"
             ],
             [
              0.4444444444444444,
              "#bd3786"
             ],
             [
              0.5555555555555556,
              "#d8576b"
             ],
             [
              0.6666666666666666,
              "#ed7953"
             ],
             [
              0.7777777777777778,
              "#fb9f3a"
             ],
             [
              0.8888888888888888,
              "#fdca26"
             ],
             [
              1,
              "#f0f921"
             ]
            ],
            "type": "surface"
           }
          ],
          "table": [
           {
            "cells": {
             "fill": {
              "color": "#EBF0F8"
             },
             "line": {
              "color": "white"
             }
            },
            "header": {
             "fill": {
              "color": "#C8D4E3"
             },
             "line": {
              "color": "white"
             }
            },
            "type": "table"
           }
          ]
         },
         "layout": {
          "annotationdefaults": {
           "arrowcolor": "#2a3f5f",
           "arrowhead": 0,
           "arrowwidth": 1
          },
          "autotypenumbers": "strict",
          "coloraxis": {
           "colorbar": {
            "outlinewidth": 0,
            "ticks": ""
           }
          },
          "colorscale": {
           "diverging": [
            [
             0,
             "#8e0152"
            ],
            [
             0.1,
             "#c51b7d"
            ],
            [
             0.2,
             "#de77ae"
            ],
            [
             0.3,
             "#f1b6da"
            ],
            [
             0.4,
             "#fde0ef"
            ],
            [
             0.5,
             "#f7f7f7"
            ],
            [
             0.6,
             "#e6f5d0"
            ],
            [
             0.7,
             "#b8e186"
            ],
            [
             0.8,
             "#7fbc41"
            ],
            [
             0.9,
             "#4d9221"
            ],
            [
             1,
             "#276419"
            ]
           ],
           "sequential": [
            [
             0,
             "#0d0887"
            ],
            [
             0.1111111111111111,
             "#46039f"
            ],
            [
             0.2222222222222222,
             "#7201a8"
            ],
            [
             0.3333333333333333,
             "#9c179e"
            ],
            [
             0.4444444444444444,
             "#bd3786"
            ],
            [
             0.5555555555555556,
             "#d8576b"
            ],
            [
             0.6666666666666666,
             "#ed7953"
            ],
            [
             0.7777777777777778,
             "#fb9f3a"
            ],
            [
             0.8888888888888888,
             "#fdca26"
            ],
            [
             1,
             "#f0f921"
            ]
           ],
           "sequentialminus": [
            [
             0,
             "#0d0887"
            ],
            [
             0.1111111111111111,
             "#46039f"
            ],
            [
             0.2222222222222222,
             "#7201a8"
            ],
            [
             0.3333333333333333,
             "#9c179e"
            ],
            [
             0.4444444444444444,
             "#bd3786"
            ],
            [
             0.5555555555555556,
             "#d8576b"
            ],
            [
             0.6666666666666666,
             "#ed7953"
            ],
            [
             0.7777777777777778,
             "#fb9f3a"
            ],
            [
             0.8888888888888888,
             "#fdca26"
            ],
            [
             1,
             "#f0f921"
            ]
           ]
          },
          "colorway": [
           "#636efa",
           "#EF553B",
           "#00cc96",
           "#ab63fa",
           "#FFA15A",
           "#19d3f3",
           "#FF6692",
           "#B6E880",
           "#FF97FF",
           "#FECB52"
          ],
          "font": {
           "color": "#2a3f5f"
          },
          "geo": {
           "bgcolor": "white",
           "lakecolor": "white",
           "landcolor": "#E5ECF6",
           "showlakes": true,
           "showland": true,
           "subunitcolor": "white"
          },
          "hoverlabel": {
           "align": "left"
          },
          "hovermode": "closest",
          "mapbox": {
           "style": "light"
          },
          "paper_bgcolor": "white",
          "plot_bgcolor": "#E5ECF6",
          "polar": {
           "angularaxis": {
            "gridcolor": "white",
            "linecolor": "white",
            "ticks": ""
           },
           "bgcolor": "#E5ECF6",
           "radialaxis": {
            "gridcolor": "white",
            "linecolor": "white",
            "ticks": ""
           }
          },
          "scene": {
           "xaxis": {
            "backgroundcolor": "#E5ECF6",
            "gridcolor": "white",
            "gridwidth": 2,
            "linecolor": "white",
            "showbackground": true,
            "ticks": "",
            "zerolinecolor": "white"
           },
           "yaxis": {
            "backgroundcolor": "#E5ECF6",
            "gridcolor": "white",
            "gridwidth": 2,
            "linecolor": "white",
            "showbackground": true,
            "ticks": "",
            "zerolinecolor": "white"
           },
           "zaxis": {
            "backgroundcolor": "#E5ECF6",
            "gridcolor": "white",
            "gridwidth": 2,
            "linecolor": "white",
            "showbackground": true,
            "ticks": "",
            "zerolinecolor": "white"
           }
          },
          "shapedefaults": {
           "line": {
            "color": "#2a3f5f"
           }
          },
          "ternary": {
           "aaxis": {
            "gridcolor": "white",
            "linecolor": "white",
            "ticks": ""
           },
           "baxis": {
            "gridcolor": "white",
            "linecolor": "white",
            "ticks": ""
           },
           "bgcolor": "#E5ECF6",
           "caxis": {
            "gridcolor": "white",
            "linecolor": "white",
            "ticks": ""
           }
          },
          "title": {
           "x": 0.05
          },
          "xaxis": {
           "automargin": true,
           "gridcolor": "white",
           "linecolor": "white",
           "ticks": "",
           "title": {
            "standoff": 15
           },
           "zerolinecolor": "white",
           "zerolinewidth": 2
          },
          "yaxis": {
           "automargin": true,
           "gridcolor": "white",
           "linecolor": "white",
           "ticks": "",
           "title": {
            "standoff": 15
           },
           "zerolinecolor": "white",
           "zerolinewidth": 2
          }
         }
        },
        "title": {
         "text": "Average Order Profit by Region"
        },
        "xaxis": {
         "tickangle": -45,
         "title": {
          "text": "Region"
         }
        },
        "yaxis": {
         "tickprefix": "$",
         "title": {
          "text": "Average Order Profit"
         }
        }
       }
      }
     },
     "metadata": {},
     "output_type": "display_data"
    }
   ],
   "source": [
    "# # Calculate the average order profit by region\n",
    "# avg_order_profit = df_2017.groupby('order_region')['order_profit_per_order'].mean().reset_index()\n",
    "# avg_order_profit = avg_order_profit.sort_values('order_profit_per_order', ascending=False)\n",
    "\n",
    "# Create the bar chart using Plotly\n",
    "fig = go.Figure(go.Bar(x=avg_order_profit['order_region'], y=avg_order_profit['order_profit_per_order'],\n",
    "                       text=avg_order_profit['order_profit_per_order'].round(2),\n",
    "                       textposition='outside', marker_color='rgb(104, 204, 104)'))\n",
    "\n",
    "# Customize the chart appearance\n",
    "fig.update_layout(title='Average Order Profit by Region',\n",
    "                  xaxis_title='Region',\n",
    "                  yaxis_title='Average Order Profit',\n",
    "                  xaxis_tickangle=-45)\n",
    "\n",
    "fig.update_traces(texttemplate='%{text:.2f}', textfont=dict(size=10))\n",
    "\n",
    "fig.update_yaxes(tickprefix=\"$\")\n",
    "\n",
    "# Display the chart\n",
    "fig.show()"
   ]
  },
  {
   "cell_type": "code",
   "execution_count": 95,
   "metadata": {},
   "outputs": [],
   "source": [
    "def get_shipping_relationship(dataframe):\n",
    "        # Calculate the average days for shipping (actual vs. scheduled) and average sales by region\n",
    "        avg_days_sales = df_2017.groupby('order_region').agg({'days_for_shipping_real': 'mean',\n",
    "                                                        'days_for_shipment_scheduled': 'mean',\n",
    "                                                        'sales': 'mean'}).reset_index()\n",
    "\n",
    "        # Create the scatter plot using Plotly\n",
    "        fig = px.scatter(avg_days_sales, x='days_for_shipping_real', y='days_for_shipment_scheduled',\n",
    "                        size='sales', color='order_region', hover_name='order_region',\n",
    "                        labels={'days_for_shipping_real': 'Average Days for Shipping (Actual)',\n",
    "                                'days_for_shipment_scheduled': 'Average Days for Shipping (Scheduled)',\n",
    "                                'sales': 'Average Sales'})\n",
    "\n",
    "        # Customize the chart appearance\n",
    "        fig.update_layout(title={'text': 'Relationship between Average Days for Shipping (Actual vs. Scheduled)<br>and<br>Average Sales by Region</br>',\n",
    "                                'font': {'size': 13},\n",
    "                                'x': 0.5,\n",
    "                                'xanchor': 'center'},\n",
    "                        height=400,\n",
    "                        width=600,\n",
    "                        template=\"plotly_dark\",\n",
    "                        showlegend=True,\n",
    "                        margin=dict(l=0, r=0, t=80, b=0),\n",
    "                        plot_bgcolor='rgba(0, 0, 0, 0)',\n",
    "                        paper_bgcolor='rgba(0, 0, 0, 0)')\n",
    "\n",
    "        fig.update_xaxes(title_font=dict(size=11))\n",
    "        fig.update_yaxes(title_font=dict(size=11))\n",
    "\n",
    "        fig.update_traces(hovertemplate='<b>%{hovertext}</b><br>Average Days for Shipping (Actual): %{x:.2f}<br>Average Days for Shipping (Scheduled): %{y:.2f}<br>Average Sales: $%{marker.size:.2f}')\n",
    "\n",
    "        fig.update_layout(legend_title_text='Region', legend=dict(font=dict(size=11)))\n",
    "\n",
    "        # Display the chart\n",
    "        return fig"
   ]
  },
  {
   "cell_type": "code",
   "execution_count": 96,
   "metadata": {},
   "outputs": [
    {
     "data": {
      "application/vnd.plotly.v1+json": {
       "config": {
        "plotlyServerURL": "https://plot.ly"
       },
       "data": [
        {
         "hovertemplate": "<b>%{hovertext}</b><br>Average Days for Shipping (Actual): %{x:.2f}<br>Average Days for Shipping (Scheduled): %{y:.2f}<br>Average Sales: $%{marker.size:.2f}",
         "hovertext": [
          "Asiatic Russia/European Russia"
         ],
         "legendgroup": "Asiatic Russia/European Russia",
         "marker": {
          "color": "#636efa",
          "size": [
           202.13140331854925
          ],
          "sizemode": "area",
          "sizeref": 0.7265762749043571,
          "symbol": "circle"
         },
         "mode": "markers",
         "name": "Asiatic Russia/European Russia",
         "orientation": "v",
         "showlegend": true,
         "type": "scatter",
         "x": [
          3.6321243523316062
         ],
         "xaxis": "x",
         "y": [
          2.5440414507772022
         ],
         "yaxis": "y"
        },
        {
         "hovertemplate": "<b>%{hovertext}</b><br>Average Days for Shipping (Actual): %{x:.2f}<br>Average Days for Shipping (Scheduled): %{y:.2f}<br>Average Sales: $%{marker.size:.2f}",
         "hovertext": [
          "Australia/New Zealand"
         ],
         "legendgroup": "Australia/New Zealand",
         "marker": {
          "color": "#EF553B",
          "size": [
           232.83282234607609
          ],
          "sizemode": "area",
          "sizeref": 0.7265762749043571,
          "symbol": "circle"
         },
         "mode": "markers",
         "name": "Australia/New Zealand",
         "orientation": "v",
         "showlegend": true,
         "type": "scatter",
         "x": [
          3.447086801426873
         ],
         "xaxis": "x",
         "y": [
          2.9524375743162903
         ],
         "yaxis": "y"
        },
        {
         "hovertemplate": "<b>%{hovertext}</b><br>Average Days for Shipping (Actual): %{x:.2f}<br>Average Days for Shipping (Scheduled): %{y:.2f}<br>Average Sales: $%{marker.size:.2f}",
         "hovertext": [
          "Caribbean"
         ],
         "legendgroup": "Caribbean",
         "marker": {
          "color": "#00cc96",
          "size": [
           199.69714422549475
          ],
          "sizemode": "area",
          "sizeref": 0.7265762749043571,
          "symbol": "circle"
         },
         "mode": "markers",
         "name": "Caribbean",
         "orientation": "v",
         "showlegend": true,
         "type": "scatter",
         "x": [
          3.488372093023256
         ],
         "xaxis": "x",
         "y": [
          2.9570661896243293
         ],
         "yaxis": "y"
        },
        {
         "hovertemplate": "<b>%{hovertext}</b><br>Average Days for Shipping (Actual): %{x:.2f}<br>Average Days for Shipping (Scheduled): %{y:.2f}<br>Average Sales: $%{marker.size:.2f}",
         "hovertext": [
          "Central America"
         ],
         "legendgroup": "Central America",
         "marker": {
          "color": "#ab63fa",
          "size": [
           202.31735248070464
          ],
          "sizemode": "area",
          "sizeref": 0.7265762749043571,
          "symbol": "circle"
         },
         "mode": "markers",
         "name": "Central America",
         "orientation": "v",
         "showlegend": true,
         "type": "scatter",
         "x": [
          3.5277677213815073
         ],
         "xaxis": "x",
         "y": [
          2.985373977264499
         ],
         "yaxis": "y"
        },
        {
         "hovertemplate": "<b>%{hovertext}</b><br>Average Days for Shipping (Actual): %{x:.2f}<br>Average Days for Shipping (Scheduled): %{y:.2f}<br>Average Sales: $%{marker.size:.2f}",
         "hovertext": [
          "Central Asia"
         ],
         "legendgroup": "Central Asia",
         "marker": {
          "color": "#FFA15A",
          "size": [
           167.699157608169
          ],
          "sizemode": "area",
          "sizeref": 0.7265762749043571,
          "symbol": "circle"
         },
         "mode": "markers",
         "name": "Central Asia",
         "orientation": "v",
         "showlegend": true,
         "type": "scatter",
         "x": [
          3.028169014084507
         ],
         "xaxis": "x",
         "y": [
          2.1690140845070425
         ],
         "yaxis": "y"
        },
        {
         "hovertemplate": "<b>%{hovertext}</b><br>Average Days for Shipping (Actual): %{x:.2f}<br>Average Days for Shipping (Scheduled): %{y:.2f}<br>Average Sales: $%{marker.size:.2f}",
         "hovertext": [
          "Eastern Africa"
         ],
         "legendgroup": "Eastern Africa",
         "marker": {
          "color": "#19d3f3",
          "size": [
           202.35288249312197
          ],
          "sizemode": "area",
          "sizeref": 0.7265762749043571,
          "symbol": "circle"
         },
         "mode": "markers",
         "name": "Eastern Africa",
         "orientation": "v",
         "showlegend": true,
         "type": "scatter",
         "x": [
          3.453658536585366
         ],
         "xaxis": "x",
         "y": [
          2.9414634146341463
         ],
         "yaxis": "y"
        },
        {
         "hovertemplate": "<b>%{hovertext}</b><br>Average Days for Shipping (Actual): %{x:.2f}<br>Average Days for Shipping (Scheduled): %{y:.2f}<br>Average Sales: $%{marker.size:.2f}",
         "hovertext": [
          "Eastern Asia"
         ],
         "legendgroup": "Eastern Asia",
         "marker": {
          "color": "#FF6692",
          "size": [
           290.6305099617428
          ],
          "sizemode": "area",
          "sizeref": 0.7265762749043571,
          "symbol": "circle"
         },
         "mode": "markers",
         "name": "Eastern Asia",
         "orientation": "v",
         "showlegend": true,
         "type": "scatter",
         "x": [
          3.5360576923076925
         ],
         "xaxis": "x",
         "y": [
          2.9579326923076925
         ],
         "yaxis": "y"
        },
        {
         "hovertemplate": "<b>%{hovertext}</b><br>Average Days for Shipping (Actual): %{x:.2f}<br>Average Days for Shipping (Scheduled): %{y:.2f}<br>Average Sales: $%{marker.size:.2f}",
         "hovertext": [
          "Eastern Europe"
         ],
         "legendgroup": "Eastern Europe",
         "marker": {
          "color": "#B6E880",
          "size": [
           201.19359416583012
          ],
          "sizemode": "area",
          "sizeref": 0.7265762749043571,
          "symbol": "circle"
         },
         "mode": "markers",
         "name": "Eastern Europe",
         "orientation": "v",
         "showlegend": true,
         "type": "scatter",
         "x": [
          3.583011583011583
         ],
         "xaxis": "x",
         "y": [
          3.281853281853282
         ],
         "yaxis": "y"
        },
        {
         "hovertemplate": "<b>%{hovertext}</b><br>Average Days for Shipping (Actual): %{x:.2f}<br>Average Days for Shipping (Scheduled): %{y:.2f}<br>Average Sales: $%{marker.size:.2f}",
         "hovertext": [
          "Melanesia"
         ],
         "legendgroup": "Melanesia",
         "marker": {
          "color": "#FF97FF",
          "size": [
           212.51499940000002
          ],
          "sizemode": "area",
          "sizeref": 0.7265762749043571,
          "symbol": "circle"
         },
         "mode": "markers",
         "name": "Melanesia",
         "orientation": "v",
         "showlegend": true,
         "type": "scatter",
         "x": [
          5
         ],
         "xaxis": "x",
         "y": [
          3
         ],
         "yaxis": "y"
        },
        {
         "hovertemplate": "<b>%{hovertext}</b><br>Average Days for Shipping (Actual): %{x:.2f}<br>Average Days for Shipping (Scheduled): %{y:.2f}<br>Average Sales: $%{marker.size:.2f}",
         "hovertext": [
          "Middle Africa"
         ],
         "legendgroup": "Middle Africa",
         "marker": {
          "color": "#FECB52",
          "size": [
           192.13267055699998
          ],
          "sizemode": "area",
          "sizeref": 0.7265762749043571,
          "symbol": "circle"
         },
         "mode": "markers",
         "name": "Middle Africa",
         "orientation": "v",
         "showlegend": true,
         "type": "scatter",
         "x": [
          3.506666666666667
         ],
         "xaxis": "x",
         "y": [
          2.8866666666666667
         ],
         "yaxis": "y"
        },
        {
         "hovertemplate": "<b>%{hovertext}</b><br>Average Days for Shipping (Actual): %{x:.2f}<br>Average Days for Shipping (Scheduled): %{y:.2f}<br>Average Sales: $%{marker.size:.2f}",
         "hovertext": [
          "Northern Africa"
         ],
         "legendgroup": "Northern Africa",
         "marker": {
          "color": "#636efa",
          "size": [
           205.82531573249258
          ],
          "sizemode": "area",
          "sizeref": 0.7265762749043571,
          "symbol": "circle"
         },
         "mode": "markers",
         "name": "Northern Africa",
         "orientation": "v",
         "showlegend": true,
         "type": "scatter",
         "x": [
          3.7952522255192878
         ],
         "xaxis": "x",
         "y": [
          3.2373887240356085
         ],
         "yaxis": "y"
        },
        {
         "hovertemplate": "<b>%{hovertext}</b><br>Average Days for Shipping (Actual): %{x:.2f}<br>Average Days for Shipping (Scheduled): %{y:.2f}<br>Average Sales: $%{marker.size:.2f}",
         "hovertext": [
          "Northern America"
         ],
         "legendgroup": "Northern America",
         "marker": {
          "color": "#EF553B",
          "size": [
           192.34481567037736
          ],
          "sizemode": "area",
          "sizeref": 0.7265762749043571,
          "symbol": "circle"
         },
         "mode": "markers",
         "name": "Northern America",
         "orientation": "v",
         "showlegend": true,
         "type": "scatter",
         "x": [
          3.4056603773584904
         ],
         "xaxis": "x",
         "y": [
          3.1320754716981134
         ],
         "yaxis": "y"
        },
        {
         "hovertemplate": "<b>%{hovertext}</b><br>Average Days for Shipping (Actual): %{x:.2f}<br>Average Days for Shipping (Scheduled): %{y:.2f}<br>Average Sales: $%{marker.size:.2f}",
         "hovertext": [
          "Northern Europe"
         ],
         "legendgroup": "Northern Europe",
         "marker": {
          "color": "#00cc96",
          "size": [
           246.7475111227012
          ],
          "sizemode": "area",
          "sizeref": 0.7265762749043571,
          "symbol": "circle"
         },
         "mode": "markers",
         "name": "Northern Europe",
         "orientation": "v",
         "showlegend": true,
         "type": "scatter",
         "x": [
          3.537878787878788
         ],
         "xaxis": "x",
         "y": [
          2.999763257575758
         ],
         "yaxis": "y"
        },
        {
         "hovertemplate": "<b>%{hovertext}</b><br>Average Days for Shipping (Actual): %{x:.2f}<br>Average Days for Shipping (Scheduled): %{y:.2f}<br>Average Sales: $%{marker.size:.2f}",
         "hovertext": [
          "South America"
         ],
         "legendgroup": "South America",
         "marker": {
          "color": "#ab63fa",
          "size": [
           201.2267160651859
          ],
          "sizemode": "area",
          "sizeref": 0.7265762749043571,
          "symbol": "circle"
         },
         "mode": "markers",
         "name": "South America",
         "orientation": "v",
         "showlegend": true,
         "type": "scatter",
         "x": [
          3.4759718835174294
         ],
         "xaxis": "x",
         "y": [
          2.908334528762014
         ],
         "yaxis": "y"
        },
        {
         "hovertemplate": "<b>%{hovertext}</b><br>Average Days for Shipping (Actual): %{x:.2f}<br>Average Days for Shipping (Scheduled): %{y:.2f}<br>Average Sales: $%{marker.size:.2f}",
         "hovertext": [
          "Southeastern Asia"
         ],
         "legendgroup": "Southeastern Asia",
         "marker": {
          "color": "#FFA15A",
          "size": [
           271.44061694316747
          ],
          "sizemode": "area",
          "sizeref": 0.7265762749043571,
          "symbol": "circle"
         },
         "mode": "markers",
         "name": "Southeastern Asia",
         "orientation": "v",
         "showlegend": true,
         "type": "scatter",
         "x": [
          3.537799043062201
         ],
         "xaxis": "x",
         "y": [
          2.963636363636364
         ],
         "yaxis": "y"
        },
        {
         "hovertemplate": "<b>%{hovertext}</b><br>Average Days for Shipping (Actual): %{x:.2f}<br>Average Days for Shipping (Scheduled): %{y:.2f}<br>Average Sales: $%{marker.size:.2f}",
         "hovertext": [
          "Southern Africa"
         ],
         "legendgroup": "Southern Africa",
         "marker": {
          "color": "#19d3f3",
          "size": [
           178.33650805650484
          ],
          "sizemode": "area",
          "sizeref": 0.7265762749043571,
          "symbol": "circle"
         },
         "mode": "markers",
         "name": "Southern Africa",
         "orientation": "v",
         "showlegend": true,
         "type": "scatter",
         "x": [
          3.0097087378640777
         ],
         "xaxis": "x",
         "y": [
          2.7184466019417477
         ],
         "yaxis": "y"
        },
        {
         "hovertemplate": "<b>%{hovertext}</b><br>Average Days for Shipping (Actual): %{x:.2f}<br>Average Days for Shipping (Scheduled): %{y:.2f}<br>Average Sales: $%{marker.size:.2f}",
         "hovertext": [
          "Southern Asia"
         ],
         "legendgroup": "Southern Asia",
         "marker": {
          "color": "#FF6692",
          "size": [
           255.95515001928067
          ],
          "sizemode": "area",
          "sizeref": 0.7265762749043571,
          "symbol": "circle"
         },
         "mode": "markers",
         "name": "Southern Asia",
         "orientation": "v",
         "showlegend": true,
         "type": "scatter",
         "x": [
          3.4652338811630847
         ],
         "xaxis": "x",
         "y": [
          2.922882427307206
         ],
         "yaxis": "y"
        },
        {
         "hovertemplate": "<b>%{hovertext}</b><br>Average Days for Shipping (Actual): %{x:.2f}<br>Average Days for Shipping (Scheduled): %{y:.2f}<br>Average Sales: $%{marker.size:.2f}",
         "hovertext": [
          "Southern Europe"
         ],
         "legendgroup": "Southern Europe",
         "marker": {
          "color": "#B6E880",
          "size": [
           243.33984999583706
          ],
          "sizemode": "area",
          "sizeref": 0.7265762749043571,
          "symbol": "circle"
         },
         "mode": "markers",
         "name": "Southern Europe",
         "orientation": "v",
         "showlegend": true,
         "type": "scatter",
         "x": [
          3.436661698956781
         ],
         "xaxis": "x",
         "y": [
          2.889716840536513
         ],
         "yaxis": "y"
        },
        {
         "hovertemplate": "<b>%{hovertext}</b><br>Average Days for Shipping (Actual): %{x:.2f}<br>Average Days for Shipping (Scheduled): %{y:.2f}<br>Average Sales: $%{marker.size:.2f}",
         "hovertext": [
          "Western Africa"
         ],
         "legendgroup": "Western Africa",
         "marker": {
          "color": "#FF97FF",
          "size": [
           193.2772349597852
          ],
          "sizemode": "area",
          "sizeref": 0.7265762749043571,
          "symbol": "circle"
         },
         "mode": "markers",
         "name": "Western Africa",
         "orientation": "v",
         "showlegend": true,
         "type": "scatter",
         "x": [
          3.591885441527446
         ],
         "xaxis": "x",
         "y": [
          3.1837708830548928
         ],
         "yaxis": "y"
        },
        {
         "hovertemplate": "<b>%{hovertext}</b><br>Average Days for Shipping (Actual): %{x:.2f}<br>Average Days for Shipping (Scheduled): %{y:.2f}<br>Average Sales: $%{marker.size:.2f}",
         "hovertext": [
          "Western Asia"
         ],
         "legendgroup": "Western Asia",
         "marker": {
          "color": "#FECB52",
          "size": [
           198.22625561583357
          ],
          "sizemode": "area",
          "sizeref": 0.7265762749043571,
          "symbol": "circle"
         },
         "mode": "markers",
         "name": "Western Asia",
         "orientation": "v",
         "showlegend": true,
         "type": "scatter",
         "x": [
          3.6802096985583224
         ],
         "xaxis": "x",
         "y": [
          2.959370904325033
         ],
         "yaxis": "y"
        },
        {
         "hovertemplate": "<b>%{hovertext}</b><br>Average Days for Shipping (Actual): %{x:.2f}<br>Average Days for Shipping (Scheduled): %{y:.2f}<br>Average Sales: $%{marker.size:.2f}",
         "hovertext": [
          "Western Europe"
         ],
         "legendgroup": "Western Europe",
         "marker": {
          "color": "#636efa",
          "size": [
           241.58670591211353
          ],
          "sizemode": "area",
          "sizeref": 0.7265762749043571,
          "symbol": "circle"
         },
         "mode": "markers",
         "name": "Western Europe",
         "orientation": "v",
         "showlegend": true,
         "type": "scatter",
         "x": [
          3.4802307822840657
         ],
         "xaxis": "x",
         "y": [
          2.9053962328185983
         ],
         "yaxis": "y"
        }
       ],
       "layout": {
        "height": 400,
        "legend": {
         "font": {
          "size": 11
         },
         "itemsizing": "constant",
         "title": {
          "text": "Region"
         },
         "tracegroupgap": 0
        },
        "margin": {
         "b": 0,
         "l": 0,
         "r": 0,
         "t": 80
        },
        "paper_bgcolor": "rgba(0, 0, 0, 0)",
        "plot_bgcolor": "rgba(0, 0, 0, 0)",
        "showlegend": true,
        "template": {
         "data": {
          "bar": [
           {
            "error_x": {
             "color": "#f2f5fa"
            },
            "error_y": {
             "color": "#f2f5fa"
            },
            "marker": {
             "line": {
              "color": "rgb(17,17,17)",
              "width": 0.5
             },
             "pattern": {
              "fillmode": "overlay",
              "size": 10,
              "solidity": 0.2
             }
            },
            "type": "bar"
           }
          ],
          "barpolar": [
           {
            "marker": {
             "line": {
              "color": "rgb(17,17,17)",
              "width": 0.5
             },
             "pattern": {
              "fillmode": "overlay",
              "size": 10,
              "solidity": 0.2
             }
            },
            "type": "barpolar"
           }
          ],
          "carpet": [
           {
            "aaxis": {
             "endlinecolor": "#A2B1C6",
             "gridcolor": "#506784",
             "linecolor": "#506784",
             "minorgridcolor": "#506784",
             "startlinecolor": "#A2B1C6"
            },
            "baxis": {
             "endlinecolor": "#A2B1C6",
             "gridcolor": "#506784",
             "linecolor": "#506784",
             "minorgridcolor": "#506784",
             "startlinecolor": "#A2B1C6"
            },
            "type": "carpet"
           }
          ],
          "choropleth": [
           {
            "colorbar": {
             "outlinewidth": 0,
             "ticks": ""
            },
            "type": "choropleth"
           }
          ],
          "contour": [
           {
            "colorbar": {
             "outlinewidth": 0,
             "ticks": ""
            },
            "colorscale": [
             [
              0,
              "#0d0887"
             ],
             [
              0.1111111111111111,
              "#46039f"
             ],
             [
              0.2222222222222222,
              "#7201a8"
             ],
             [
              0.3333333333333333,
              "#9c179e"
             ],
             [
              0.4444444444444444,
              "#bd3786"
             ],
             [
              0.5555555555555556,
              "#d8576b"
             ],
             [
              0.6666666666666666,
              "#ed7953"
             ],
             [
              0.7777777777777778,
              "#fb9f3a"
             ],
             [
              0.8888888888888888,
              "#fdca26"
             ],
             [
              1,
              "#f0f921"
             ]
            ],
            "type": "contour"
           }
          ],
          "contourcarpet": [
           {
            "colorbar": {
             "outlinewidth": 0,
             "ticks": ""
            },
            "type": "contourcarpet"
           }
          ],
          "heatmap": [
           {
            "colorbar": {
             "outlinewidth": 0,
             "ticks": ""
            },
            "colorscale": [
             [
              0,
              "#0d0887"
             ],
             [
              0.1111111111111111,
              "#46039f"
             ],
             [
              0.2222222222222222,
              "#7201a8"
             ],
             [
              0.3333333333333333,
              "#9c179e"
             ],
             [
              0.4444444444444444,
              "#bd3786"
             ],
             [
              0.5555555555555556,
              "#d8576b"
             ],
             [
              0.6666666666666666,
              "#ed7953"
             ],
             [
              0.7777777777777778,
              "#fb9f3a"
             ],
             [
              0.8888888888888888,
              "#fdca26"
             ],
             [
              1,
              "#f0f921"
             ]
            ],
            "type": "heatmap"
           }
          ],
          "heatmapgl": [
           {
            "colorbar": {
             "outlinewidth": 0,
             "ticks": ""
            },
            "colorscale": [
             [
              0,
              "#0d0887"
             ],
             [
              0.1111111111111111,
              "#46039f"
             ],
             [
              0.2222222222222222,
              "#7201a8"
             ],
             [
              0.3333333333333333,
              "#9c179e"
             ],
             [
              0.4444444444444444,
              "#bd3786"
             ],
             [
              0.5555555555555556,
              "#d8576b"
             ],
             [
              0.6666666666666666,
              "#ed7953"
             ],
             [
              0.7777777777777778,
              "#fb9f3a"
             ],
             [
              0.8888888888888888,
              "#fdca26"
             ],
             [
              1,
              "#f0f921"
             ]
            ],
            "type": "heatmapgl"
           }
          ],
          "histogram": [
           {
            "marker": {
             "pattern": {
              "fillmode": "overlay",
              "size": 10,
              "solidity": 0.2
             }
            },
            "type": "histogram"
           }
          ],
          "histogram2d": [
           {
            "colorbar": {
             "outlinewidth": 0,
             "ticks": ""
            },
            "colorscale": [
             [
              0,
              "#0d0887"
             ],
             [
              0.1111111111111111,
              "#46039f"
             ],
             [
              0.2222222222222222,
              "#7201a8"
             ],
             [
              0.3333333333333333,
              "#9c179e"
             ],
             [
              0.4444444444444444,
              "#bd3786"
             ],
             [
              0.5555555555555556,
              "#d8576b"
             ],
             [
              0.6666666666666666,
              "#ed7953"
             ],
             [
              0.7777777777777778,
              "#fb9f3a"
             ],
             [
              0.8888888888888888,
              "#fdca26"
             ],
             [
              1,
              "#f0f921"
             ]
            ],
            "type": "histogram2d"
           }
          ],
          "histogram2dcontour": [
           {
            "colorbar": {
             "outlinewidth": 0,
             "ticks": ""
            },
            "colorscale": [
             [
              0,
              "#0d0887"
             ],
             [
              0.1111111111111111,
              "#46039f"
             ],
             [
              0.2222222222222222,
              "#7201a8"
             ],
             [
              0.3333333333333333,
              "#9c179e"
             ],
             [
              0.4444444444444444,
              "#bd3786"
             ],
             [
              0.5555555555555556,
              "#d8576b"
             ],
             [
              0.6666666666666666,
              "#ed7953"
             ],
             [
              0.7777777777777778,
              "#fb9f3a"
             ],
             [
              0.8888888888888888,
              "#fdca26"
             ],
             [
              1,
              "#f0f921"
             ]
            ],
            "type": "histogram2dcontour"
           }
          ],
          "mesh3d": [
           {
            "colorbar": {
             "outlinewidth": 0,
             "ticks": ""
            },
            "type": "mesh3d"
           }
          ],
          "parcoords": [
           {
            "line": {
             "colorbar": {
              "outlinewidth": 0,
              "ticks": ""
             }
            },
            "type": "parcoords"
           }
          ],
          "pie": [
           {
            "automargin": true,
            "type": "pie"
           }
          ],
          "scatter": [
           {
            "marker": {
             "line": {
              "color": "#283442"
             }
            },
            "type": "scatter"
           }
          ],
          "scatter3d": [
           {
            "line": {
             "colorbar": {
              "outlinewidth": 0,
              "ticks": ""
             }
            },
            "marker": {
             "colorbar": {
              "outlinewidth": 0,
              "ticks": ""
             }
            },
            "type": "scatter3d"
           }
          ],
          "scattercarpet": [
           {
            "marker": {
             "colorbar": {
              "outlinewidth": 0,
              "ticks": ""
             }
            },
            "type": "scattercarpet"
           }
          ],
          "scattergeo": [
           {
            "marker": {
             "colorbar": {
              "outlinewidth": 0,
              "ticks": ""
             }
            },
            "type": "scattergeo"
           }
          ],
          "scattergl": [
           {
            "marker": {
             "line": {
              "color": "#283442"
             }
            },
            "type": "scattergl"
           }
          ],
          "scattermapbox": [
           {
            "marker": {
             "colorbar": {
              "outlinewidth": 0,
              "ticks": ""
             }
            },
            "type": "scattermapbox"
           }
          ],
          "scatterpolar": [
           {
            "marker": {
             "colorbar": {
              "outlinewidth": 0,
              "ticks": ""
             }
            },
            "type": "scatterpolar"
           }
          ],
          "scatterpolargl": [
           {
            "marker": {
             "colorbar": {
              "outlinewidth": 0,
              "ticks": ""
             }
            },
            "type": "scatterpolargl"
           }
          ],
          "scatterternary": [
           {
            "marker": {
             "colorbar": {
              "outlinewidth": 0,
              "ticks": ""
             }
            },
            "type": "scatterternary"
           }
          ],
          "surface": [
           {
            "colorbar": {
             "outlinewidth": 0,
             "ticks": ""
            },
            "colorscale": [
             [
              0,
              "#0d0887"
             ],
             [
              0.1111111111111111,
              "#46039f"
             ],
             [
              0.2222222222222222,
              "#7201a8"
             ],
             [
              0.3333333333333333,
              "#9c179e"
             ],
             [
              0.4444444444444444,
              "#bd3786"
             ],
             [
              0.5555555555555556,
              "#d8576b"
             ],
             [
              0.6666666666666666,
              "#ed7953"
             ],
             [
              0.7777777777777778,
              "#fb9f3a"
             ],
             [
              0.8888888888888888,
              "#fdca26"
             ],
             [
              1,
              "#f0f921"
             ]
            ],
            "type": "surface"
           }
          ],
          "table": [
           {
            "cells": {
             "fill": {
              "color": "#506784"
             },
             "line": {
              "color": "rgb(17,17,17)"
             }
            },
            "header": {
             "fill": {
              "color": "#2a3f5f"
             },
             "line": {
              "color": "rgb(17,17,17)"
             }
            },
            "type": "table"
           }
          ]
         },
         "layout": {
          "annotationdefaults": {
           "arrowcolor": "#f2f5fa",
           "arrowhead": 0,
           "arrowwidth": 1
          },
          "autotypenumbers": "strict",
          "coloraxis": {
           "colorbar": {
            "outlinewidth": 0,
            "ticks": ""
           }
          },
          "colorscale": {
           "diverging": [
            [
             0,
             "#8e0152"
            ],
            [
             0.1,
             "#c51b7d"
            ],
            [
             0.2,
             "#de77ae"
            ],
            [
             0.3,
             "#f1b6da"
            ],
            [
             0.4,
             "#fde0ef"
            ],
            [
             0.5,
             "#f7f7f7"
            ],
            [
             0.6,
             "#e6f5d0"
            ],
            [
             0.7,
             "#b8e186"
            ],
            [
             0.8,
             "#7fbc41"
            ],
            [
             0.9,
             "#4d9221"
            ],
            [
             1,
             "#276419"
            ]
           ],
           "sequential": [
            [
             0,
             "#0d0887"
            ],
            [
             0.1111111111111111,
             "#46039f"
            ],
            [
             0.2222222222222222,
             "#7201a8"
            ],
            [
             0.3333333333333333,
             "#9c179e"
            ],
            [
             0.4444444444444444,
             "#bd3786"
            ],
            [
             0.5555555555555556,
             "#d8576b"
            ],
            [
             0.6666666666666666,
             "#ed7953"
            ],
            [
             0.7777777777777778,
             "#fb9f3a"
            ],
            [
             0.8888888888888888,
             "#fdca26"
            ],
            [
             1,
             "#f0f921"
            ]
           ],
           "sequentialminus": [
            [
             0,
             "#0d0887"
            ],
            [
             0.1111111111111111,
             "#46039f"
            ],
            [
             0.2222222222222222,
             "#7201a8"
            ],
            [
             0.3333333333333333,
             "#9c179e"
            ],
            [
             0.4444444444444444,
             "#bd3786"
            ],
            [
             0.5555555555555556,
             "#d8576b"
            ],
            [
             0.6666666666666666,
             "#ed7953"
            ],
            [
             0.7777777777777778,
             "#fb9f3a"
            ],
            [
             0.8888888888888888,
             "#fdca26"
            ],
            [
             1,
             "#f0f921"
            ]
           ]
          },
          "colorway": [
           "#636efa",
           "#EF553B",
           "#00cc96",
           "#ab63fa",
           "#FFA15A",
           "#19d3f3",
           "#FF6692",
           "#B6E880",
           "#FF97FF",
           "#FECB52"
          ],
          "font": {
           "color": "#f2f5fa"
          },
          "geo": {
           "bgcolor": "rgb(17,17,17)",
           "lakecolor": "rgb(17,17,17)",
           "landcolor": "rgb(17,17,17)",
           "showlakes": true,
           "showland": true,
           "subunitcolor": "#506784"
          },
          "hoverlabel": {
           "align": "left"
          },
          "hovermode": "closest",
          "mapbox": {
           "style": "dark"
          },
          "paper_bgcolor": "rgb(17,17,17)",
          "plot_bgcolor": "rgb(17,17,17)",
          "polar": {
           "angularaxis": {
            "gridcolor": "#506784",
            "linecolor": "#506784",
            "ticks": ""
           },
           "bgcolor": "rgb(17,17,17)",
           "radialaxis": {
            "gridcolor": "#506784",
            "linecolor": "#506784",
            "ticks": ""
           }
          },
          "scene": {
           "xaxis": {
            "backgroundcolor": "rgb(17,17,17)",
            "gridcolor": "#506784",
            "gridwidth": 2,
            "linecolor": "#506784",
            "showbackground": true,
            "ticks": "",
            "zerolinecolor": "#C8D4E3"
           },
           "yaxis": {
            "backgroundcolor": "rgb(17,17,17)",
            "gridcolor": "#506784",
            "gridwidth": 2,
            "linecolor": "#506784",
            "showbackground": true,
            "ticks": "",
            "zerolinecolor": "#C8D4E3"
           },
           "zaxis": {
            "backgroundcolor": "rgb(17,17,17)",
            "gridcolor": "#506784",
            "gridwidth": 2,
            "linecolor": "#506784",
            "showbackground": true,
            "ticks": "",
            "zerolinecolor": "#C8D4E3"
           }
          },
          "shapedefaults": {
           "line": {
            "color": "#f2f5fa"
           }
          },
          "sliderdefaults": {
           "bgcolor": "#C8D4E3",
           "bordercolor": "rgb(17,17,17)",
           "borderwidth": 1,
           "tickwidth": 0
          },
          "ternary": {
           "aaxis": {
            "gridcolor": "#506784",
            "linecolor": "#506784",
            "ticks": ""
           },
           "baxis": {
            "gridcolor": "#506784",
            "linecolor": "#506784",
            "ticks": ""
           },
           "bgcolor": "rgb(17,17,17)",
           "caxis": {
            "gridcolor": "#506784",
            "linecolor": "#506784",
            "ticks": ""
           }
          },
          "title": {
           "x": 0.05
          },
          "updatemenudefaults": {
           "bgcolor": "#506784",
           "borderwidth": 0
          },
          "xaxis": {
           "automargin": true,
           "gridcolor": "#283442",
           "linecolor": "#506784",
           "ticks": "",
           "title": {
            "standoff": 15
           },
           "zerolinecolor": "#283442",
           "zerolinewidth": 2
          },
          "yaxis": {
           "automargin": true,
           "gridcolor": "#283442",
           "linecolor": "#506784",
           "ticks": "",
           "title": {
            "standoff": 15
           },
           "zerolinecolor": "#283442",
           "zerolinewidth": 2
          }
         }
        },
        "title": {
         "font": {
          "size": 13
         },
         "text": "Relationship between Average Days for Shipping (Actual vs. Scheduled)<br>and<br>Average Sales by Region</br>",
         "x": 0.5,
         "xanchor": "center"
        },
        "width": 600,
        "xaxis": {
         "anchor": "y",
         "domain": [
          0,
          1
         ],
         "title": {
          "font": {
           "size": 11
          },
          "text": "Average Days for Shipping (Actual)"
         }
        },
        "yaxis": {
         "anchor": "x",
         "domain": [
          0,
          1
         ],
         "title": {
          "font": {
           "size": 11
          },
          "text": "Average Days for Shipping (Scheduled)"
         }
        }
       }
      }
     },
     "metadata": {},
     "output_type": "display_data"
    }
   ],
   "source": [
    "relationship = get_shipping_relationship(df_2017)\n",
    "relationship"
   ]
  },
  {
   "cell_type": "code",
   "execution_count": 97,
   "metadata": {},
   "outputs": [
    {
     "data": {
      "text/html": [
       "<div>\n",
       "<style scoped>\n",
       "    .dataframe tbody tr th:only-of-type {\n",
       "        vertical-align: middle;\n",
       "    }\n",
       "\n",
       "    .dataframe tbody tr th {\n",
       "        vertical-align: top;\n",
       "    }\n",
       "\n",
       "    .dataframe thead th {\n",
       "        text-align: right;\n",
       "    }\n",
       "</style>\n",
       "<table border=\"1\" class=\"dataframe\">\n",
       "  <thead>\n",
       "    <tr style=\"text-align: right;\">\n",
       "      <th></th>\n",
       "      <th>order_date</th>\n",
       "      <th>order_region</th>\n",
       "      <th>order_country</th>\n",
       "      <th>order_city</th>\n",
       "      <th>market</th>\n",
       "      <th>sales</th>\n",
       "      <th>order_item_quantity</th>\n",
       "      <th>shipping_date</th>\n",
       "      <th>days_for_shipping_real</th>\n",
       "      <th>days_for_shipment_scheduled</th>\n",
       "      <th>category_name</th>\n",
       "      <th>delivery_status</th>\n",
       "      <th>late_delivery_risk</th>\n",
       "      <th>shipping_mode</th>\n",
       "      <th>order_status</th>\n",
       "      <th>order_profit_per_order</th>\n",
       "      <th>sales_per_item</th>\n",
       "      <th>shipping_days_difference</th>\n",
       "      <th>order_year</th>\n",
       "      <th>order_month</th>\n",
       "      <th>order_year_month_date</th>\n",
       "    </tr>\n",
       "  </thead>\n",
       "  <tbody>\n",
       "    <tr>\n",
       "      <th>0</th>\n",
       "      <td>2017-01-01 00:33:00</td>\n",
       "      <td>Asiatic Russia/European Russia</td>\n",
       "      <td>Russia</td>\n",
       "      <td>Cheliábinsk</td>\n",
       "      <td>Europe</td>\n",
       "      <td>99.96</td>\n",
       "      <td>2</td>\n",
       "      <td>1/6/2017 0:33</td>\n",
       "      <td>5</td>\n",
       "      <td>2</td>\n",
       "      <td>Indoor/Outdoor Games</td>\n",
       "      <td>Late delivery</td>\n",
       "      <td>1</td>\n",
       "      <td>Second Class</td>\n",
       "      <td>COMPLETE</td>\n",
       "      <td>-58.78</td>\n",
       "      <td>49.98</td>\n",
       "      <td>-3</td>\n",
       "      <td>2017</td>\n",
       "      <td>January</td>\n",
       "      <td>2017-01-01</td>\n",
       "    </tr>\n",
       "    <tr>\n",
       "      <th>1</th>\n",
       "      <td>2017-01-01 00:33:00</td>\n",
       "      <td>Asiatic Russia/European Russia</td>\n",
       "      <td>Russia</td>\n",
       "      <td>Cheliábinsk</td>\n",
       "      <td>Europe</td>\n",
       "      <td>39.99</td>\n",
       "      <td>1</td>\n",
       "      <td>1/6/2017 0:33</td>\n",
       "      <td>5</td>\n",
       "      <td>2</td>\n",
       "      <td>Shop By Sport</td>\n",
       "      <td>Late delivery</td>\n",
       "      <td>1</td>\n",
       "      <td>Second Class</td>\n",
       "      <td>COMPLETE</td>\n",
       "      <td>15.98</td>\n",
       "      <td>39.99</td>\n",
       "      <td>-3</td>\n",
       "      <td>2017</td>\n",
       "      <td>January</td>\n",
       "      <td>2017-01-01</td>\n",
       "    </tr>\n",
       "  </tbody>\n",
       "</table>\n",
       "</div>"
      ],
      "text/plain": [
       "            order_date                    order_region order_country  \\\n",
       "0  2017-01-01 00:33:00  Asiatic Russia/European Russia        Russia   \n",
       "1  2017-01-01 00:33:00  Asiatic Russia/European Russia        Russia   \n",
       "\n",
       "    order_city  market  sales  order_item_quantity  shipping_date  \\\n",
       "0  Cheliábinsk  Europe  99.96                    2  1/6/2017 0:33   \n",
       "1  Cheliábinsk  Europe  39.99                    1  1/6/2017 0:33   \n",
       "\n",
       "   days_for_shipping_real  days_for_shipment_scheduled         category_name  \\\n",
       "0                       5                            2  Indoor/Outdoor Games   \n",
       "1                       5                            2         Shop By Sport   \n",
       "\n",
       "  delivery_status  late_delivery_risk shipping_mode order_status  \\\n",
       "0   Late delivery                   1  Second Class     COMPLETE   \n",
       "1   Late delivery                   1  Second Class     COMPLETE   \n",
       "\n",
       "   order_profit_per_order  sales_per_item  shipping_days_difference  \\\n",
       "0                  -58.78           49.98                        -3   \n",
       "1                   15.98           39.99                        -3   \n",
       "\n",
       "   order_year order_month order_year_month_date  \n",
       "0        2017     January            2017-01-01  \n",
       "1        2017     January            2017-01-01  "
      ]
     },
     "execution_count": 97,
     "metadata": {},
     "output_type": "execute_result"
    }
   ],
   "source": [
    "df_2017.head(2)"
   ]
  },
  {
   "cell_type": "code",
   "execution_count": 99,
   "metadata": {},
   "outputs": [
    {
     "data": {
      "text/html": [
       "<div>\n",
       "<style scoped>\n",
       "    .dataframe tbody tr th:only-of-type {\n",
       "        vertical-align: middle;\n",
       "    }\n",
       "\n",
       "    .dataframe tbody tr th {\n",
       "        vertical-align: top;\n",
       "    }\n",
       "\n",
       "    .dataframe thead th {\n",
       "        text-align: right;\n",
       "    }\n",
       "</style>\n",
       "<table border=\"1\" class=\"dataframe\">\n",
       "  <thead>\n",
       "    <tr style=\"text-align: right;\">\n",
       "      <th></th>\n",
       "      <th>order_region</th>\n",
       "      <th>shipping_mode</th>\n",
       "      <th>days_for_shipping_real</th>\n",
       "      <th>days_for_shipment_scheduled</th>\n",
       "      <th>late_delivery_risk</th>\n",
       "    </tr>\n",
       "  </thead>\n",
       "  <tbody>\n",
       "    <tr>\n",
       "      <th>0</th>\n",
       "      <td>Asiatic Russia/European Russia</td>\n",
       "      <td>First Class</td>\n",
       "      <td>2.00</td>\n",
       "      <td>1.00</td>\n",
       "      <td>37</td>\n",
       "    </tr>\n",
       "    <tr>\n",
       "      <th>1</th>\n",
       "      <td>Asiatic Russia/European Russia</td>\n",
       "      <td>Same Day</td>\n",
       "      <td>1.00</td>\n",
       "      <td>0.00</td>\n",
       "      <td>3</td>\n",
       "    </tr>\n",
       "    <tr>\n",
       "      <th>2</th>\n",
       "      <td>Asiatic Russia/European Russia</td>\n",
       "      <td>Second Class</td>\n",
       "      <td>3.96</td>\n",
       "      <td>2.00</td>\n",
       "      <td>60</td>\n",
       "    </tr>\n",
       "    <tr>\n",
       "      <th>3</th>\n",
       "      <td>Asiatic Russia/European Russia</td>\n",
       "      <td>Standard Class</td>\n",
       "      <td>4.20</td>\n",
       "      <td>4.00</td>\n",
       "      <td>31</td>\n",
       "    </tr>\n",
       "    <tr>\n",
       "      <th>4</th>\n",
       "      <td>Australia/New Zealand</td>\n",
       "      <td>First Class</td>\n",
       "      <td>2.00</td>\n",
       "      <td>1.00</td>\n",
       "      <td>123</td>\n",
       "    </tr>\n",
       "    <tr>\n",
       "      <th>...</th>\n",
       "      <td>...</td>\n",
       "      <td>...</td>\n",
       "      <td>...</td>\n",
       "      <td>...</td>\n",
       "      <td>...</td>\n",
       "    </tr>\n",
       "    <tr>\n",
       "      <th>77</th>\n",
       "      <td>Western Asia</td>\n",
       "      <td>Standard Class</td>\n",
       "      <td>4.05</td>\n",
       "      <td>4.00</td>\n",
       "      <td>188</td>\n",
       "    </tr>\n",
       "    <tr>\n",
       "      <th>78</th>\n",
       "      <td>Western Europe</td>\n",
       "      <td>First Class</td>\n",
       "      <td>2.00</td>\n",
       "      <td>1.00</td>\n",
       "      <td>1855</td>\n",
       "    </tr>\n",
       "    <tr>\n",
       "      <th>79</th>\n",
       "      <td>Western Europe</td>\n",
       "      <td>Same Day</td>\n",
       "      <td>0.56</td>\n",
       "      <td>0.00</td>\n",
       "      <td>371</td>\n",
       "    </tr>\n",
       "    <tr>\n",
       "      <th>80</th>\n",
       "      <td>Western Europe</td>\n",
       "      <td>Second Class</td>\n",
       "      <td>4.04</td>\n",
       "      <td>2.00</td>\n",
       "      <td>1905</td>\n",
       "    </tr>\n",
       "    <tr>\n",
       "      <th>81</th>\n",
       "      <td>Western Europe</td>\n",
       "      <td>Standard Class</td>\n",
       "      <td>3.96</td>\n",
       "      <td>4.00</td>\n",
       "      <td>2715</td>\n",
       "    </tr>\n",
       "  </tbody>\n",
       "</table>\n",
       "<p>82 rows × 5 columns</p>\n",
       "</div>"
      ],
      "text/plain": [
       "                      order_region   shipping_mode  days_for_shipping_real  \\\n",
       "0   Asiatic Russia/European Russia     First Class                    2.00   \n",
       "1   Asiatic Russia/European Russia        Same Day                    1.00   \n",
       "2   Asiatic Russia/European Russia    Second Class                    3.96   \n",
       "3   Asiatic Russia/European Russia  Standard Class                    4.20   \n",
       "4            Australia/New Zealand     First Class                    2.00   \n",
       "..                             ...             ...                     ...   \n",
       "77                    Western Asia  Standard Class                    4.05   \n",
       "78                  Western Europe     First Class                    2.00   \n",
       "79                  Western Europe        Same Day                    0.56   \n",
       "80                  Western Europe    Second Class                    4.04   \n",
       "81                  Western Europe  Standard Class                    3.96   \n",
       "\n",
       "    days_for_shipment_scheduled  late_delivery_risk  \n",
       "0                          1.00                  37  \n",
       "1                          0.00                   3  \n",
       "2                          2.00                  60  \n",
       "3                          4.00                  31  \n",
       "4                          1.00                 123  \n",
       "..                          ...                 ...  \n",
       "77                         4.00                 188  \n",
       "78                         1.00                1855  \n",
       "79                         0.00                 371  \n",
       "80                         2.00                1905  \n",
       "81                         4.00                2715  \n",
       "\n",
       "[82 rows x 5 columns]"
      ]
     },
     "execution_count": 99,
     "metadata": {},
     "output_type": "execute_result"
    }
   ],
   "source": [
    "shipping_time = df_2017.groupby(['order_region', 'shipping_mode']).agg({'days_for_shipping_real': 'mean',\n",
    "                                                'days_for_shipment_scheduled': 'mean',\n",
    "                                                'late_delivery_risk': 'sum'}).reset_index()\n",
    "\n",
    "shipping_time"
   ]
  },
  {
   "cell_type": "code",
   "execution_count": 120,
   "metadata": {},
   "outputs": [],
   "source": [
    "def get_shipping_relationship(dataframe, region):\n",
    "        if region == \"All Regions\":\n",
    "                shipping_time = df_2017.groupby(['shipping_mode']).agg({'days_for_shipping_real': 'mean',\n",
    "                                                                'days_for_shipment_scheduled': 'mean',\n",
    "                                                                'late_delivery_risk': 'sum'}).reset_index()\n",
    "        else:\n",
    "                dataframe = dataframe[dataframe[\"order_region\"]==region]\n",
    "                shipping_time = df_2017.groupby(['shipping_mode']).agg({'days_for_shipping_real': 'mean',\n",
    "                                                                'days_for_shipment_scheduled': 'mean',\n",
    "                                                                'late_delivery_risk': 'sum'}).reset_index()\n",
    "\n",
    "        # Create the scatter plot using Plotly\n",
    "        fig = px.scatter(shipping_time, x='days_for_shipping_real', y='days_for_shipment_scheduled',\n",
    "                        size='late_delivery_risk', color='shipping_mode', hover_name='shipping_mode',\n",
    "                        labels={'days_for_shipping_real': 'Average Days for Shipping (Actual)',\n",
    "                                'days_for_shipment_scheduled': 'Average Days for Shipping (Scheduled)',\n",
    "                                'late_delivery_risk': 'Total Late Risk'})\n",
    "\n",
    "        # Customize the chart appearance\n",
    "        fig.update_layout(title={'text': 'Relationship between Shipping Days and Late Delivery Risk',\n",
    "                                'font': {'size': 13},\n",
    "                                'x': 0.4, 'y':0.9,\n",
    "                                'xanchor': 'center'},\n",
    "                        height=400,\n",
    "                        width=600,\n",
    "                        template=\"plotly_dark\",\n",
    "                        showlegend=True,\n",
    "                        margin=dict(l=0, r=0, t=80, b=0),\n",
    "                        plot_bgcolor='rgba(0, 0, 0, 0)',\n",
    "                        paper_bgcolor='rgba(0, 0, 0, 0)')\n",
    "\n",
    "        fig.update_xaxes(title_font=dict(size=11))\n",
    "        fig.update_yaxes(title_font=dict(size=11))\n",
    "\n",
    "        fig.update_traces(hovertemplate='<b>%{hovertext}</b><br>Average Days for Shipping (Actual): %{x:.2f}<br>Average Days for Shipping (Scheduled): %{y:.2f}<br>Total Late Risk: %{marker.size:.0f}')\n",
    "\n",
    "        fig.update_layout(legend_title_text='Shipping Mode', legend=dict(font=dict(size=11)))\n",
    "\n",
    "        return fig"
   ]
  },
  {
   "cell_type": "code",
   "execution_count": 121,
   "metadata": {},
   "outputs": [
    {
     "data": {
      "application/vnd.plotly.v1+json": {
       "config": {
        "plotlyServerURL": "https://plot.ly"
       },
       "data": [
        {
         "hovertemplate": "<b>%{hovertext}</b><br>Average Days for Shipping (Actual): %{x:.2f}<br>Average Days for Shipping (Scheduled): %{y:.2f}<br>Total Late Risk: %{marker.size:.0f}",
         "hovertext": [
          "First Class"
         ],
         "legendgroup": "First Class",
         "marker": {
          "color": "#636efa",
          "size": [
           7579
          ],
          "sizemode": "area",
          "sizeref": 30.1675,
          "symbol": "circle"
         },
         "mode": "markers",
         "name": "First Class",
         "orientation": "v",
         "showlegend": true,
         "type": "scatter",
         "x": [
          2
         ],
         "xaxis": "x",
         "y": [
          1
         ],
         "yaxis": "y"
        },
        {
         "hovertemplate": "<b>%{hovertext}</b><br>Average Days for Shipping (Actual): %{x:.2f}<br>Average Days for Shipping (Scheduled): %{y:.2f}<br>Total Late Risk: %{marker.size:.0f}",
         "hovertext": [
          "Same Day"
         ],
         "legendgroup": "Same Day",
         "marker": {
          "color": "#EF553B",
          "size": [
           1454
          ],
          "sizemode": "area",
          "sizeref": 30.1675,
          "symbol": "circle"
         },
         "mode": "markers",
         "name": "Same Day",
         "orientation": "v",
         "showlegend": true,
         "type": "scatter",
         "x": [
          0.5281511078823102
         ],
         "xaxis": "x",
         "y": [
          0
         ],
         "yaxis": "y"
        },
        {
         "hovertemplate": "<b>%{hovertext}</b><br>Average Days for Shipping (Actual): %{x:.2f}<br>Average Days for Shipping (Scheduled): %{y:.2f}<br>Total Late Risk: %{marker.size:.0f}",
         "hovertext": [
          "Second Class"
         ],
         "legendgroup": "Second Class",
         "marker": {
          "color": "#00cc96",
          "size": [
           7864
          ],
          "sizemode": "area",
          "sizeref": 30.1675,
          "symbol": "circle"
         },
         "mode": "markers",
         "name": "Second Class",
         "orientation": "v",
         "showlegend": true,
         "type": "scatter",
         "x": [
          3.983361903801553
         ],
         "xaxis": "x",
         "y": [
          2
         ],
         "yaxis": "y"
        },
        {
         "hovertemplate": "<b>%{hovertext}</b><br>Average Days for Shipping (Actual): %{x:.2f}<br>Average Days for Shipping (Scheduled): %{y:.2f}<br>Total Late Risk: %{marker.size:.0f}",
         "hovertext": [
          "Standard Class"
         ],
         "legendgroup": "Standard Class",
         "marker": {
          "color": "#ab63fa",
          "size": [
           12067
          ],
          "sizemode": "area",
          "sizeref": 30.1675,
          "symbol": "circle"
         },
         "mode": "markers",
         "name": "Standard Class",
         "orientation": "v",
         "showlegend": true,
         "type": "scatter",
         "x": [
          3.9843132128500933
         ],
         "xaxis": "x",
         "y": [
          4
         ],
         "yaxis": "y"
        }
       ],
       "layout": {
        "height": 400,
        "legend": {
         "font": {
          "size": 11
         },
         "itemsizing": "constant",
         "title": {
          "text": "Shipping Mode"
         },
         "tracegroupgap": 0
        },
        "margin": {
         "b": 0,
         "l": 0,
         "r": 0,
         "t": 80
        },
        "paper_bgcolor": "rgba(0, 0, 0, 0)",
        "plot_bgcolor": "rgba(0, 0, 0, 0)",
        "showlegend": true,
        "template": {
         "data": {
          "bar": [
           {
            "error_x": {
             "color": "#f2f5fa"
            },
            "error_y": {
             "color": "#f2f5fa"
            },
            "marker": {
             "line": {
              "color": "rgb(17,17,17)",
              "width": 0.5
             },
             "pattern": {
              "fillmode": "overlay",
              "size": 10,
              "solidity": 0.2
             }
            },
            "type": "bar"
           }
          ],
          "barpolar": [
           {
            "marker": {
             "line": {
              "color": "rgb(17,17,17)",
              "width": 0.5
             },
             "pattern": {
              "fillmode": "overlay",
              "size": 10,
              "solidity": 0.2
             }
            },
            "type": "barpolar"
           }
          ],
          "carpet": [
           {
            "aaxis": {
             "endlinecolor": "#A2B1C6",
             "gridcolor": "#506784",
             "linecolor": "#506784",
             "minorgridcolor": "#506784",
             "startlinecolor": "#A2B1C6"
            },
            "baxis": {
             "endlinecolor": "#A2B1C6",
             "gridcolor": "#506784",
             "linecolor": "#506784",
             "minorgridcolor": "#506784",
             "startlinecolor": "#A2B1C6"
            },
            "type": "carpet"
           }
          ],
          "choropleth": [
           {
            "colorbar": {
             "outlinewidth": 0,
             "ticks": ""
            },
            "type": "choropleth"
           }
          ],
          "contour": [
           {
            "colorbar": {
             "outlinewidth": 0,
             "ticks": ""
            },
            "colorscale": [
             [
              0,
              "#0d0887"
             ],
             [
              0.1111111111111111,
              "#46039f"
             ],
             [
              0.2222222222222222,
              "#7201a8"
             ],
             [
              0.3333333333333333,
              "#9c179e"
             ],
             [
              0.4444444444444444,
              "#bd3786"
             ],
             [
              0.5555555555555556,
              "#d8576b"
             ],
             [
              0.6666666666666666,
              "#ed7953"
             ],
             [
              0.7777777777777778,
              "#fb9f3a"
             ],
             [
              0.8888888888888888,
              "#fdca26"
             ],
             [
              1,
              "#f0f921"
             ]
            ],
            "type": "contour"
           }
          ],
          "contourcarpet": [
           {
            "colorbar": {
             "outlinewidth": 0,
             "ticks": ""
            },
            "type": "contourcarpet"
           }
          ],
          "heatmap": [
           {
            "colorbar": {
             "outlinewidth": 0,
             "ticks": ""
            },
            "colorscale": [
             [
              0,
              "#0d0887"
             ],
             [
              0.1111111111111111,
              "#46039f"
             ],
             [
              0.2222222222222222,
              "#7201a8"
             ],
             [
              0.3333333333333333,
              "#9c179e"
             ],
             [
              0.4444444444444444,
              "#bd3786"
             ],
             [
              0.5555555555555556,
              "#d8576b"
             ],
             [
              0.6666666666666666,
              "#ed7953"
             ],
             [
              0.7777777777777778,
              "#fb9f3a"
             ],
             [
              0.8888888888888888,
              "#fdca26"
             ],
             [
              1,
              "#f0f921"
             ]
            ],
            "type": "heatmap"
           }
          ],
          "heatmapgl": [
           {
            "colorbar": {
             "outlinewidth": 0,
             "ticks": ""
            },
            "colorscale": [
             [
              0,
              "#0d0887"
             ],
             [
              0.1111111111111111,
              "#46039f"
             ],
             [
              0.2222222222222222,
              "#7201a8"
             ],
             [
              0.3333333333333333,
              "#9c179e"
             ],
             [
              0.4444444444444444,
              "#bd3786"
             ],
             [
              0.5555555555555556,
              "#d8576b"
             ],
             [
              0.6666666666666666,
              "#ed7953"
             ],
             [
              0.7777777777777778,
              "#fb9f3a"
             ],
             [
              0.8888888888888888,
              "#fdca26"
             ],
             [
              1,
              "#f0f921"
             ]
            ],
            "type": "heatmapgl"
           }
          ],
          "histogram": [
           {
            "marker": {
             "pattern": {
              "fillmode": "overlay",
              "size": 10,
              "solidity": 0.2
             }
            },
            "type": "histogram"
           }
          ],
          "histogram2d": [
           {
            "colorbar": {
             "outlinewidth": 0,
             "ticks": ""
            },
            "colorscale": [
             [
              0,
              "#0d0887"
             ],
             [
              0.1111111111111111,
              "#46039f"
             ],
             [
              0.2222222222222222,
              "#7201a8"
             ],
             [
              0.3333333333333333,
              "#9c179e"
             ],
             [
              0.4444444444444444,
              "#bd3786"
             ],
             [
              0.5555555555555556,
              "#d8576b"
             ],
             [
              0.6666666666666666,
              "#ed7953"
             ],
             [
              0.7777777777777778,
              "#fb9f3a"
             ],
             [
              0.8888888888888888,
              "#fdca26"
             ],
             [
              1,
              "#f0f921"
             ]
            ],
            "type": "histogram2d"
           }
          ],
          "histogram2dcontour": [
           {
            "colorbar": {
             "outlinewidth": 0,
             "ticks": ""
            },
            "colorscale": [
             [
              0,
              "#0d0887"
             ],
             [
              0.1111111111111111,
              "#46039f"
             ],
             [
              0.2222222222222222,
              "#7201a8"
             ],
             [
              0.3333333333333333,
              "#9c179e"
             ],
             [
              0.4444444444444444,
              "#bd3786"
             ],
             [
              0.5555555555555556,
              "#d8576b"
             ],
             [
              0.6666666666666666,
              "#ed7953"
             ],
             [
              0.7777777777777778,
              "#fb9f3a"
             ],
             [
              0.8888888888888888,
              "#fdca26"
             ],
             [
              1,
              "#f0f921"
             ]
            ],
            "type": "histogram2dcontour"
           }
          ],
          "mesh3d": [
           {
            "colorbar": {
             "outlinewidth": 0,
             "ticks": ""
            },
            "type": "mesh3d"
           }
          ],
          "parcoords": [
           {
            "line": {
             "colorbar": {
              "outlinewidth": 0,
              "ticks": ""
             }
            },
            "type": "parcoords"
           }
          ],
          "pie": [
           {
            "automargin": true,
            "type": "pie"
           }
          ],
          "scatter": [
           {
            "marker": {
             "line": {
              "color": "#283442"
             }
            },
            "type": "scatter"
           }
          ],
          "scatter3d": [
           {
            "line": {
             "colorbar": {
              "outlinewidth": 0,
              "ticks": ""
             }
            },
            "marker": {
             "colorbar": {
              "outlinewidth": 0,
              "ticks": ""
             }
            },
            "type": "scatter3d"
           }
          ],
          "scattercarpet": [
           {
            "marker": {
             "colorbar": {
              "outlinewidth": 0,
              "ticks": ""
             }
            },
            "type": "scattercarpet"
           }
          ],
          "scattergeo": [
           {
            "marker": {
             "colorbar": {
              "outlinewidth": 0,
              "ticks": ""
             }
            },
            "type": "scattergeo"
           }
          ],
          "scattergl": [
           {
            "marker": {
             "line": {
              "color": "#283442"
             }
            },
            "type": "scattergl"
           }
          ],
          "scattermapbox": [
           {
            "marker": {
             "colorbar": {
              "outlinewidth": 0,
              "ticks": ""
             }
            },
            "type": "scattermapbox"
           }
          ],
          "scatterpolar": [
           {
            "marker": {
             "colorbar": {
              "outlinewidth": 0,
              "ticks": ""
             }
            },
            "type": "scatterpolar"
           }
          ],
          "scatterpolargl": [
           {
            "marker": {
             "colorbar": {
              "outlinewidth": 0,
              "ticks": ""
             }
            },
            "type": "scatterpolargl"
           }
          ],
          "scatterternary": [
           {
            "marker": {
             "colorbar": {
              "outlinewidth": 0,
              "ticks": ""
             }
            },
            "type": "scatterternary"
           }
          ],
          "surface": [
           {
            "colorbar": {
             "outlinewidth": 0,
             "ticks": ""
            },
            "colorscale": [
             [
              0,
              "#0d0887"
             ],
             [
              0.1111111111111111,
              "#46039f"
             ],
             [
              0.2222222222222222,
              "#7201a8"
             ],
             [
              0.3333333333333333,
              "#9c179e"
             ],
             [
              0.4444444444444444,
              "#bd3786"
             ],
             [
              0.5555555555555556,
              "#d8576b"
             ],
             [
              0.6666666666666666,
              "#ed7953"
             ],
             [
              0.7777777777777778,
              "#fb9f3a"
             ],
             [
              0.8888888888888888,
              "#fdca26"
             ],
             [
              1,
              "#f0f921"
             ]
            ],
            "type": "surface"
           }
          ],
          "table": [
           {
            "cells": {
             "fill": {
              "color": "#506784"
             },
             "line": {
              "color": "rgb(17,17,17)"
             }
            },
            "header": {
             "fill": {
              "color": "#2a3f5f"
             },
             "line": {
              "color": "rgb(17,17,17)"
             }
            },
            "type": "table"
           }
          ]
         },
         "layout": {
          "annotationdefaults": {
           "arrowcolor": "#f2f5fa",
           "arrowhead": 0,
           "arrowwidth": 1
          },
          "autotypenumbers": "strict",
          "coloraxis": {
           "colorbar": {
            "outlinewidth": 0,
            "ticks": ""
           }
          },
          "colorscale": {
           "diverging": [
            [
             0,
             "#8e0152"
            ],
            [
             0.1,
             "#c51b7d"
            ],
            [
             0.2,
             "#de77ae"
            ],
            [
             0.3,
             "#f1b6da"
            ],
            [
             0.4,
             "#fde0ef"
            ],
            [
             0.5,
             "#f7f7f7"
            ],
            [
             0.6,
             "#e6f5d0"
            ],
            [
             0.7,
             "#b8e186"
            ],
            [
             0.8,
             "#7fbc41"
            ],
            [
             0.9,
             "#4d9221"
            ],
            [
             1,
             "#276419"
            ]
           ],
           "sequential": [
            [
             0,
             "#0d0887"
            ],
            [
             0.1111111111111111,
             "#46039f"
            ],
            [
             0.2222222222222222,
             "#7201a8"
            ],
            [
             0.3333333333333333,
             "#9c179e"
            ],
            [
             0.4444444444444444,
             "#bd3786"
            ],
            [
             0.5555555555555556,
             "#d8576b"
            ],
            [
             0.6666666666666666,
             "#ed7953"
            ],
            [
             0.7777777777777778,
             "#fb9f3a"
            ],
            [
             0.8888888888888888,
             "#fdca26"
            ],
            [
             1,
             "#f0f921"
            ]
           ],
           "sequentialminus": [
            [
             0,
             "#0d0887"
            ],
            [
             0.1111111111111111,
             "#46039f"
            ],
            [
             0.2222222222222222,
             "#7201a8"
            ],
            [
             0.3333333333333333,
             "#9c179e"
            ],
            [
             0.4444444444444444,
             "#bd3786"
            ],
            [
             0.5555555555555556,
             "#d8576b"
            ],
            [
             0.6666666666666666,
             "#ed7953"
            ],
            [
             0.7777777777777778,
             "#fb9f3a"
            ],
            [
             0.8888888888888888,
             "#fdca26"
            ],
            [
             1,
             "#f0f921"
            ]
           ]
          },
          "colorway": [
           "#636efa",
           "#EF553B",
           "#00cc96",
           "#ab63fa",
           "#FFA15A",
           "#19d3f3",
           "#FF6692",
           "#B6E880",
           "#FF97FF",
           "#FECB52"
          ],
          "font": {
           "color": "#f2f5fa"
          },
          "geo": {
           "bgcolor": "rgb(17,17,17)",
           "lakecolor": "rgb(17,17,17)",
           "landcolor": "rgb(17,17,17)",
           "showlakes": true,
           "showland": true,
           "subunitcolor": "#506784"
          },
          "hoverlabel": {
           "align": "left"
          },
          "hovermode": "closest",
          "mapbox": {
           "style": "dark"
          },
          "paper_bgcolor": "rgb(17,17,17)",
          "plot_bgcolor": "rgb(17,17,17)",
          "polar": {
           "angularaxis": {
            "gridcolor": "#506784",
            "linecolor": "#506784",
            "ticks": ""
           },
           "bgcolor": "rgb(17,17,17)",
           "radialaxis": {
            "gridcolor": "#506784",
            "linecolor": "#506784",
            "ticks": ""
           }
          },
          "scene": {
           "xaxis": {
            "backgroundcolor": "rgb(17,17,17)",
            "gridcolor": "#506784",
            "gridwidth": 2,
            "linecolor": "#506784",
            "showbackground": true,
            "ticks": "",
            "zerolinecolor": "#C8D4E3"
           },
           "yaxis": {
            "backgroundcolor": "rgb(17,17,17)",
            "gridcolor": "#506784",
            "gridwidth": 2,
            "linecolor": "#506784",
            "showbackground": true,
            "ticks": "",
            "zerolinecolor": "#C8D4E3"
           },
           "zaxis": {
            "backgroundcolor": "rgb(17,17,17)",
            "gridcolor": "#506784",
            "gridwidth": 2,
            "linecolor": "#506784",
            "showbackground": true,
            "ticks": "",
            "zerolinecolor": "#C8D4E3"
           }
          },
          "shapedefaults": {
           "line": {
            "color": "#f2f5fa"
           }
          },
          "sliderdefaults": {
           "bgcolor": "#C8D4E3",
           "bordercolor": "rgb(17,17,17)",
           "borderwidth": 1,
           "tickwidth": 0
          },
          "ternary": {
           "aaxis": {
            "gridcolor": "#506784",
            "linecolor": "#506784",
            "ticks": ""
           },
           "baxis": {
            "gridcolor": "#506784",
            "linecolor": "#506784",
            "ticks": ""
           },
           "bgcolor": "rgb(17,17,17)",
           "caxis": {
            "gridcolor": "#506784",
            "linecolor": "#506784",
            "ticks": ""
           }
          },
          "title": {
           "x": 0.05
          },
          "updatemenudefaults": {
           "bgcolor": "#506784",
           "borderwidth": 0
          },
          "xaxis": {
           "automargin": true,
           "gridcolor": "#283442",
           "linecolor": "#506784",
           "ticks": "",
           "title": {
            "standoff": 15
           },
           "zerolinecolor": "#283442",
           "zerolinewidth": 2
          },
          "yaxis": {
           "automargin": true,
           "gridcolor": "#283442",
           "linecolor": "#506784",
           "ticks": "",
           "title": {
            "standoff": 15
           },
           "zerolinecolor": "#283442",
           "zerolinewidth": 2
          }
         }
        },
        "title": {
         "font": {
          "size": 13
         },
         "text": "Relationship between Shipping Days and Late Delivery Risk",
         "x": 0.4,
         "xanchor": "center",
         "y": 0.9
        },
        "width": 600,
        "xaxis": {
         "anchor": "y",
         "domain": [
          0,
          1
         ],
         "title": {
          "font": {
           "size": 11
          },
          "text": "Average Days for Shipping (Actual)"
         }
        },
        "yaxis": {
         "anchor": "x",
         "domain": [
          0,
          1
         ],
         "title": {
          "font": {
           "size": 11
          },
          "text": "Average Days for Shipping (Scheduled)"
         }
        }
       }
      }
     },
     "metadata": {},
     "output_type": "display_data"
    }
   ],
   "source": [
    "relationship = get_shipping_relationship(df_2017, \"All Regions\")\n",
    "relationship"
   ]
  },
  {
   "cell_type": "code",
   "execution_count": 122,
   "metadata": {},
   "outputs": [
    {
     "name": "stdout",
     "output_type": "stream",
     "text": [
      "            order_date                    order_region order_country  \\\n",
      "0  2017-01-01 00:33:00  Asiatic Russia/European Russia        Russia   \n",
      "1  2017-01-01 00:33:00  Asiatic Russia/European Russia        Russia   \n",
      "2  2017-01-01 00:33:00  Asiatic Russia/European Russia        Russia   \n",
      "3  2017-01-01 00:33:00  Asiatic Russia/European Russia        Russia   \n",
      "4  2017-01-01 00:54:00                    Western Asia        Turkey   \n",
      "5  2017-01-01 00:54:00                    Western Asia        Turkey   \n",
      "6  2017-01-01 00:54:00                    Western Asia        Turkey   \n",
      "7  2017-01-01 01:36:00                  Western Africa         Ghana   \n",
      "8  2017-01-01 01:36:00                  Western Africa         Ghana   \n",
      "9  2017-01-01 01:36:00                  Western Africa         Ghana   \n",
      "\n",
      "    order_city        market  sales  order_item_quantity  shipping_date  \\\n",
      "0  Cheliábinsk        Europe  99.96                    2  1/6/2017 0:33   \n",
      "1  Cheliábinsk        Europe  39.99                    1  1/6/2017 0:33   \n",
      "2  Cheliábinsk        Europe 239.96                    4  1/6/2017 0:33   \n",
      "3  Cheliábinsk        Europe 299.98                    1  1/6/2017 0:33   \n",
      "4    Eskisehir  Pacific Asia 100.00                    2  1/7/2017 0:54   \n",
      "5    Eskisehir  Pacific Asia 399.98                    1  1/7/2017 0:54   \n",
      "6    Eskisehir  Pacific Asia  59.99                    1  1/7/2017 0:54   \n",
      "7       Tamale        Africa 499.95                    5  1/4/2017 1:36   \n",
      "8       Tamale        Africa 250.00                    5  1/4/2017 1:36   \n",
      "9       Tamale        Africa 130.00                    2  1/4/2017 1:36   \n",
      "\n",
      "   days_for_shipping_real  days_for_shipment_scheduled         category_name  \\\n",
      "0                       5                            2  Indoor/Outdoor Games   \n",
      "1                       5                            2         Shop By Sport   \n",
      "2                       5                            2                Cleats   \n",
      "3                       5                            2      Camping & Hiking   \n",
      "4                       6                            4       Women's Apparel   \n",
      "5                       6                            4               Fishing   \n",
      "6                       6                            4                Cleats   \n",
      "7                       3                            4      Cardio Equipment   \n",
      "8                       3                            4       Women's Apparel   \n",
      "9                       3                            4            Golf Shoes   \n",
      "\n",
      "    delivery_status  late_delivery_risk   shipping_mode     order_status  \\\n",
      "0     Late delivery                   1    Second Class         COMPLETE   \n",
      "1     Late delivery                   1    Second Class         COMPLETE   \n",
      "2     Late delivery                   1    Second Class         COMPLETE   \n",
      "3     Late delivery                   1    Second Class         COMPLETE   \n",
      "4     Late delivery                   1  Standard Class  PENDING_PAYMENT   \n",
      "5     Late delivery                   1  Standard Class  PENDING_PAYMENT   \n",
      "6     Late delivery                   1  Standard Class  PENDING_PAYMENT   \n",
      "7  Advance shipping                   0  Standard Class  PENDING_PAYMENT   \n",
      "8  Advance shipping                   0  Standard Class  PENDING_PAYMENT   \n",
      "9  Advance shipping                   0  Standard Class  PENDING_PAYMENT   \n",
      "\n",
      "   order_profit_per_order  sales_per_item  shipping_days_difference  \\\n",
      "0                  -58.78           49.98                        -3   \n",
      "1                   15.98           39.99                        -3   \n",
      "2                  105.82           59.99                        -3   \n",
      "3                  101.39          299.98                        -3   \n",
      "4                  -10.17           50.00                        -2   \n",
      "5                  132.99          399.98                        -2   \n",
      "6                  -84.65           59.99                        -2   \n",
      "7                   10.45           99.99                         1   \n",
      "8                  108.75           50.00                         1   \n",
      "9                   41.74           65.00                         1   \n",
      "\n",
      "   order_year order_month order_year_month_date  \n",
      "0        2017     January            2017-01-01  \n",
      "1        2017     January            2017-01-01  \n",
      "2        2017     January            2017-01-01  \n",
      "3        2017     January            2017-01-01  \n",
      "4        2017     January            2017-01-01  \n",
      "5        2017     January            2017-01-01  \n",
      "6        2017     January            2017-01-01  \n",
      "7        2017     January            2017-01-01  \n",
      "8        2017     January            2017-01-01  \n",
      "9        2017     January            2017-01-01  \n"
     ]
    }
   ],
   "source": [
    "print(df_2017.head(10))"
   ]
  },
  {
   "cell_type": "code",
   "execution_count": null,
   "metadata": {},
   "outputs": [],
   "source": []
  }
 ],
 "metadata": {
  "kernelspec": {
   "display_name": "dataviz-env",
   "language": "python",
   "name": "python3"
  },
  "language_info": {
   "codemirror_mode": {
    "name": "ipython",
    "version": 3
   },
   "file_extension": ".py",
   "mimetype": "text/x-python",
   "name": "python",
   "nbconvert_exporter": "python",
   "pygments_lexer": "ipython3",
   "version": "3.9.16"
  },
  "orig_nbformat": 4
 },
 "nbformat": 4,
 "nbformat_minor": 2
}
