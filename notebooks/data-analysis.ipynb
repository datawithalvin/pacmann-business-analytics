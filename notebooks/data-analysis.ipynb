{
 "cells": [
  {
   "cell_type": "code",
   "execution_count": 254,
   "metadata": {},
   "outputs": [],
   "source": [
    "import numpy as np\n",
    "import pandas as pd\n",
    "import time\n",
    "\n",
    "import plotly.express as px\n",
    "import plotly.graph_objects as go\n",
    "from plotly.subplots import make_subplots\n",
    "\n",
    "import pandas as pd\n",
    "import matplotlib.pyplot as plt\n",
    "import seaborn as sns\n",
    "\n",
    "pd.set_option(\"display.float_format\", lambda x: \"%.2f\" % x)\n",
    "alt.data_transformers.disable_max_rows()\n",
    "pd.set_option(\"display.max_columns\", None)"
   ]
  },
  {
   "cell_type": "code",
   "execution_count": 255,
   "metadata": {},
   "outputs": [
    {
     "data": {
      "text/html": [
       "<div>\n",
       "<style scoped>\n",
       "    .dataframe tbody tr th:only-of-type {\n",
       "        vertical-align: middle;\n",
       "    }\n",
       "\n",
       "    .dataframe tbody tr th {\n",
       "        vertical-align: top;\n",
       "    }\n",
       "\n",
       "    .dataframe thead th {\n",
       "        text-align: right;\n",
       "    }\n",
       "</style>\n",
       "<table border=\"1\" class=\"dataframe\">\n",
       "  <thead>\n",
       "    <tr style=\"text-align: right;\">\n",
       "      <th></th>\n",
       "      <th>order_date</th>\n",
       "      <th>order_region</th>\n",
       "      <th>order_country</th>\n",
       "      <th>order_city</th>\n",
       "      <th>market</th>\n",
       "      <th>sales</th>\n",
       "      <th>order_item_quantity</th>\n",
       "      <th>shipping_date</th>\n",
       "      <th>days_for_shipping_real</th>\n",
       "      <th>days_for_shipment_scheduled</th>\n",
       "      <th>category_name</th>\n",
       "      <th>delivery_status</th>\n",
       "      <th>late_delivery_risk</th>\n",
       "      <th>shipping_mode</th>\n",
       "      <th>order_status</th>\n",
       "      <th>order_profit_per_order</th>\n",
       "      <th>sales_per_item</th>\n",
       "      <th>shipping_days_difference</th>\n",
       "      <th>order_year</th>\n",
       "      <th>order_month</th>\n",
       "      <th>order_year_month_date</th>\n",
       "    </tr>\n",
       "  </thead>\n",
       "  <tbody>\n",
       "    <tr>\n",
       "      <th>0</th>\n",
       "      <td>2015-01-01 00:00:00</td>\n",
       "      <td>Central America</td>\n",
       "      <td>Mexico</td>\n",
       "      <td>Mexico City</td>\n",
       "      <td>Latin America</td>\n",
       "      <td>299.98</td>\n",
       "      <td>1</td>\n",
       "      <td>1/3/2015 0:00</td>\n",
       "      <td>2</td>\n",
       "      <td>4</td>\n",
       "      <td>Camping &amp; Hiking</td>\n",
       "      <td>Advance shipping</td>\n",
       "      <td>0</td>\n",
       "      <td>Standard Class</td>\n",
       "      <td>CLOSED</td>\n",
       "      <td>88.79</td>\n",
       "      <td>299.98</td>\n",
       "      <td>2</td>\n",
       "      <td>2015</td>\n",
       "      <td>January</td>\n",
       "      <td>2015-01-01</td>\n",
       "    </tr>\n",
       "    <tr>\n",
       "      <th>1</th>\n",
       "      <td>2015-01-01 00:21:00</td>\n",
       "      <td>South America</td>\n",
       "      <td>Colombia</td>\n",
       "      <td>Dos Quebradas</td>\n",
       "      <td>Latin America</td>\n",
       "      <td>199.99</td>\n",
       "      <td>1</td>\n",
       "      <td>1/4/2015 0:21</td>\n",
       "      <td>3</td>\n",
       "      <td>4</td>\n",
       "      <td>Water Sports</td>\n",
       "      <td>Advance shipping</td>\n",
       "      <td>0</td>\n",
       "      <td>Standard Class</td>\n",
       "      <td>PENDING_PAYMENT</td>\n",
       "      <td>91.18</td>\n",
       "      <td>199.99</td>\n",
       "      <td>1</td>\n",
       "      <td>2015</td>\n",
       "      <td>January</td>\n",
       "      <td>2015-01-01</td>\n",
       "    </tr>\n",
       "  </tbody>\n",
       "</table>\n",
       "</div>"
      ],
      "text/plain": [
       "            order_date     order_region order_country     order_city  \\\n",
       "0  2015-01-01 00:00:00  Central America        Mexico    Mexico City   \n",
       "1  2015-01-01 00:21:00    South America      Colombia  Dos Quebradas   \n",
       "\n",
       "          market  sales  order_item_quantity  shipping_date  \\\n",
       "0  Latin America 299.98                    1  1/3/2015 0:00   \n",
       "1  Latin America 199.99                    1  1/4/2015 0:21   \n",
       "\n",
       "   days_for_shipping_real  days_for_shipment_scheduled     category_name  \\\n",
       "0                       2                            4  Camping & Hiking   \n",
       "1                       3                            4      Water Sports   \n",
       "\n",
       "    delivery_status  late_delivery_risk   shipping_mode     order_status  \\\n",
       "0  Advance shipping                   0  Standard Class           CLOSED   \n",
       "1  Advance shipping                   0  Standard Class  PENDING_PAYMENT   \n",
       "\n",
       "   order_profit_per_order  sales_per_item  shipping_days_difference  \\\n",
       "0                   88.79          299.98                         2   \n",
       "1                   91.18          199.99                         1   \n",
       "\n",
       "   order_year order_month order_year_month_date  \n",
       "0        2015     January            2015-01-01  \n",
       "1        2015     January            2015-01-01  "
      ]
     },
     "execution_count": 255,
     "metadata": {},
     "output_type": "execute_result"
    }
   ],
   "source": [
    "# Set location of the dataset\n",
    "filepath = \"../scripts/datasets/preprocessed_data_filtered_status.csv\"\n",
    "\n",
    "# Load datasets\n",
    "main_df = pd.read_csv(filepath)\n",
    "main_df.head(2)"
   ]
  },
  {
   "cell_type": "code",
   "execution_count": 256,
   "metadata": {},
   "outputs": [
    {
     "data": {
      "text/html": [
       "<div>\n",
       "<style scoped>\n",
       "    .dataframe tbody tr th:only-of-type {\n",
       "        vertical-align: middle;\n",
       "    }\n",
       "\n",
       "    .dataframe tbody tr th {\n",
       "        vertical-align: top;\n",
       "    }\n",
       "\n",
       "    .dataframe thead th {\n",
       "        text-align: right;\n",
       "    }\n",
       "</style>\n",
       "<table border=\"1\" class=\"dataframe\">\n",
       "  <thead>\n",
       "    <tr style=\"text-align: right;\">\n",
       "      <th></th>\n",
       "      <th>order_date</th>\n",
       "      <th>order_region</th>\n",
       "      <th>order_country</th>\n",
       "      <th>order_city</th>\n",
       "      <th>market</th>\n",
       "      <th>sales</th>\n",
       "      <th>order_item_quantity</th>\n",
       "      <th>shipping_date</th>\n",
       "      <th>days_for_shipping_real</th>\n",
       "      <th>days_for_shipment_scheduled</th>\n",
       "      <th>category_name</th>\n",
       "      <th>delivery_status</th>\n",
       "      <th>late_delivery_risk</th>\n",
       "      <th>shipping_mode</th>\n",
       "      <th>order_status</th>\n",
       "      <th>order_profit_per_order</th>\n",
       "      <th>sales_per_item</th>\n",
       "      <th>shipping_days_difference</th>\n",
       "      <th>order_year</th>\n",
       "      <th>order_month</th>\n",
       "      <th>order_year_month_date</th>\n",
       "    </tr>\n",
       "  </thead>\n",
       "  <tbody>\n",
       "    <tr>\n",
       "      <th>0</th>\n",
       "      <td>2017-01-01 00:33:00</td>\n",
       "      <td>Asiatic Russia/European Russia</td>\n",
       "      <td>Russia</td>\n",
       "      <td>Cheliábinsk</td>\n",
       "      <td>Europe</td>\n",
       "      <td>99.96</td>\n",
       "      <td>2</td>\n",
       "      <td>1/6/2017 0:33</td>\n",
       "      <td>5</td>\n",
       "      <td>2</td>\n",
       "      <td>Indoor/Outdoor Games</td>\n",
       "      <td>Late delivery</td>\n",
       "      <td>1</td>\n",
       "      <td>Second Class</td>\n",
       "      <td>COMPLETE</td>\n",
       "      <td>-58.78</td>\n",
       "      <td>49.98</td>\n",
       "      <td>-3</td>\n",
       "      <td>2017</td>\n",
       "      <td>January</td>\n",
       "      <td>2017-01-01</td>\n",
       "    </tr>\n",
       "    <tr>\n",
       "      <th>1</th>\n",
       "      <td>2017-01-01 00:33:00</td>\n",
       "      <td>Asiatic Russia/European Russia</td>\n",
       "      <td>Russia</td>\n",
       "      <td>Cheliábinsk</td>\n",
       "      <td>Europe</td>\n",
       "      <td>39.99</td>\n",
       "      <td>1</td>\n",
       "      <td>1/6/2017 0:33</td>\n",
       "      <td>5</td>\n",
       "      <td>2</td>\n",
       "      <td>Shop By Sport</td>\n",
       "      <td>Late delivery</td>\n",
       "      <td>1</td>\n",
       "      <td>Second Class</td>\n",
       "      <td>COMPLETE</td>\n",
       "      <td>15.98</td>\n",
       "      <td>39.99</td>\n",
       "      <td>-3</td>\n",
       "      <td>2017</td>\n",
       "      <td>January</td>\n",
       "      <td>2017-01-01</td>\n",
       "    </tr>\n",
       "  </tbody>\n",
       "</table>\n",
       "</div>"
      ],
      "text/plain": [
       "            order_date                    order_region order_country  \\\n",
       "0  2017-01-01 00:33:00  Asiatic Russia/European Russia        Russia   \n",
       "1  2017-01-01 00:33:00  Asiatic Russia/European Russia        Russia   \n",
       "\n",
       "    order_city  market  sales  order_item_quantity  shipping_date  \\\n",
       "0  Cheliábinsk  Europe  99.96                    2  1/6/2017 0:33   \n",
       "1  Cheliábinsk  Europe  39.99                    1  1/6/2017 0:33   \n",
       "\n",
       "   days_for_shipping_real  days_for_shipment_scheduled         category_name  \\\n",
       "0                       5                            2  Indoor/Outdoor Games   \n",
       "1                       5                            2         Shop By Sport   \n",
       "\n",
       "  delivery_status  late_delivery_risk shipping_mode order_status  \\\n",
       "0   Late delivery                   1  Second Class     COMPLETE   \n",
       "1   Late delivery                   1  Second Class     COMPLETE   \n",
       "\n",
       "   order_profit_per_order  sales_per_item  shipping_days_difference  \\\n",
       "0                  -58.78           49.98                        -3   \n",
       "1                   15.98           39.99                        -3   \n",
       "\n",
       "   order_year order_month order_year_month_date  \n",
       "0        2017     January            2017-01-01  \n",
       "1        2017     January            2017-01-01  "
      ]
     },
     "execution_count": 256,
     "metadata": {},
     "output_type": "execute_result"
    }
   ],
   "source": [
    "# Filter year anad put it into new variable\n",
    "df_2017 = main_df[main_df[\"order_year\"]==2017].reset_index(drop=True)\n",
    "df_2017.head(2)"
   ]
  },
  {
   "attachments": {},
   "cell_type": "markdown",
   "metadata": {},
   "source": [
    "### 1. Sales and Order Analysis"
   ]
  },
  {
   "cell_type": "code",
   "execution_count": 257,
   "metadata": {},
   "outputs": [
    {
     "data": {
      "text/html": [
       "<div>\n",
       "<style scoped>\n",
       "    .dataframe tbody tr th:only-of-type {\n",
       "        vertical-align: middle;\n",
       "    }\n",
       "\n",
       "    .dataframe tbody tr th {\n",
       "        vertical-align: top;\n",
       "    }\n",
       "\n",
       "    .dataframe thead th {\n",
       "        text-align: right;\n",
       "    }\n",
       "</style>\n",
       "<table border=\"1\" class=\"dataframe\">\n",
       "  <thead>\n",
       "    <tr style=\"text-align: right;\">\n",
       "      <th></th>\n",
       "      <th>order_region</th>\n",
       "      <th>market</th>\n",
       "      <th>sales</th>\n",
       "    </tr>\n",
       "  </thead>\n",
       "  <tbody>\n",
       "    <tr>\n",
       "      <th>0</th>\n",
       "      <td>Asiatic Russia/European Russia</td>\n",
       "      <td>Europe</td>\n",
       "      <td>39011.36</td>\n",
       "    </tr>\n",
       "    <tr>\n",
       "      <th>1</th>\n",
       "      <td>Australia/New Zealand</td>\n",
       "      <td>Pacific Asia</td>\n",
       "      <td>195812.40</td>\n",
       "    </tr>\n",
       "    <tr>\n",
       "      <th>2</th>\n",
       "      <td>Caribbean</td>\n",
       "      <td>Latin America</td>\n",
       "      <td>781414.93</td>\n",
       "    </tr>\n",
       "    <tr>\n",
       "      <th>3</th>\n",
       "      <td>Central America</td>\n",
       "      <td>Latin America</td>\n",
       "      <td>2794204.96</td>\n",
       "    </tr>\n",
       "    <tr>\n",
       "      <th>4</th>\n",
       "      <td>Central Asia</td>\n",
       "      <td>Pacific Asia</td>\n",
       "      <td>11906.64</td>\n",
       "    </tr>\n",
       "  </tbody>\n",
       "</table>\n",
       "</div>"
      ],
      "text/plain": [
       "                     order_region         market      sales\n",
       "0  Asiatic Russia/European Russia         Europe   39011.36\n",
       "1           Australia/New Zealand   Pacific Asia  195812.40\n",
       "2                       Caribbean  Latin America  781414.93\n",
       "3                 Central America  Latin America 2794204.96\n",
       "4                    Central Asia   Pacific Asia   11906.64"
      ]
     },
     "execution_count": 257,
     "metadata": {},
     "output_type": "execute_result"
    }
   ],
   "source": [
    "grouped_sales = df_2017.groupby([\"order_region\", \"market\"])[\"sales\"].sum().reset_index()\n",
    "grouped_sales[\"sales\"] = round(grouped_sales[\"sales\"], 2)\n",
    "grouped_sales.head()"
   ]
  },
  {
   "cell_type": "code",
   "execution_count": 258,
   "metadata": {},
   "outputs": [
    {
     "data": {
      "text/html": [
       "\n",
       "<div id=\"altair-viz-533428c1e02f4597b95bd7474015f68f\"></div>\n",
       "<script type=\"text/javascript\">\n",
       "  var VEGA_DEBUG = (typeof VEGA_DEBUG == \"undefined\") ? {} : VEGA_DEBUG;\n",
       "  (function(spec, embedOpt){\n",
       "    let outputDiv = document.currentScript.previousElementSibling;\n",
       "    if (outputDiv.id !== \"altair-viz-533428c1e02f4597b95bd7474015f68f\") {\n",
       "      outputDiv = document.getElementById(\"altair-viz-533428c1e02f4597b95bd7474015f68f\");\n",
       "    }\n",
       "    const paths = {\n",
       "      \"vega\": \"https://cdn.jsdelivr.net/npm//vega@5?noext\",\n",
       "      \"vega-lib\": \"https://cdn.jsdelivr.net/npm//vega-lib?noext\",\n",
       "      \"vega-lite\": \"https://cdn.jsdelivr.net/npm//vega-lite@4.17.0?noext\",\n",
       "      \"vega-embed\": \"https://cdn.jsdelivr.net/npm//vega-embed@6?noext\",\n",
       "    };\n",
       "\n",
       "    function maybeLoadScript(lib, version) {\n",
       "      var key = `${lib.replace(\"-\", \"\")}_version`;\n",
       "      return (VEGA_DEBUG[key] == version) ?\n",
       "        Promise.resolve(paths[lib]) :\n",
       "        new Promise(function(resolve, reject) {\n",
       "          var s = document.createElement('script');\n",
       "          document.getElementsByTagName(\"head\")[0].appendChild(s);\n",
       "          s.async = true;\n",
       "          s.onload = () => {\n",
       "            VEGA_DEBUG[key] = version;\n",
       "            return resolve(paths[lib]);\n",
       "          };\n",
       "          s.onerror = () => reject(`Error loading script: ${paths[lib]}`);\n",
       "          s.src = paths[lib];\n",
       "        });\n",
       "    }\n",
       "\n",
       "    function showError(err) {\n",
       "      outputDiv.innerHTML = `<div class=\"error\" style=\"color:red;\">${err}</div>`;\n",
       "      throw err;\n",
       "    }\n",
       "\n",
       "    function displayChart(vegaEmbed) {\n",
       "      vegaEmbed(outputDiv, spec, embedOpt)\n",
       "        .catch(err => showError(`Javascript Error: ${err.message}<br>This usually means there's a typo in your chart specification. See the javascript console for the full traceback.`));\n",
       "    }\n",
       "\n",
       "    if(typeof define === \"function\" && define.amd) {\n",
       "      requirejs.config({paths});\n",
       "      require([\"vega-embed\"], displayChart, err => showError(`Error loading script: ${err.message}`));\n",
       "    } else {\n",
       "      maybeLoadScript(\"vega\", \"5\")\n",
       "        .then(() => maybeLoadScript(\"vega-lite\", \"4.17.0\"))\n",
       "        .then(() => maybeLoadScript(\"vega-embed\", \"6\"))\n",
       "        .catch(showError)\n",
       "        .then(() => displayChart(vegaEmbed));\n",
       "    }\n",
       "  })({\"config\": {\"view\": {\"continuousWidth\": 400, \"continuousHeight\": 300}}, \"data\": {\"name\": \"data-c88541abb0410bbfe929c8ca7ff3b337\"}, \"mark\": {\"type\": \"bar\", \"orient\": \"horizontal\"}, \"encoding\": {\"color\": {\"field\": \"market\", \"title\": \"Market\", \"type\": \"nominal\"}, \"tooltip\": [{\"field\": \"order_region\", \"type\": \"nominal\"}, {\"field\": \"market\", \"type\": \"nominal\"}, {\"field\": \"sales\", \"type\": \"quantitative\"}], \"x\": {\"field\": \"sales\", \"title\": \"Sales\", \"type\": \"quantitative\"}, \"y\": {\"field\": \"order_region\", \"sort\": \"-x\", \"title\": \"Region\", \"type\": \"nominal\"}}, \"height\": 450, \"title\": \"Sales Across Different Regions and Markets, 2017\", \"width\": 600, \"$schema\": \"https://vega.github.io/schema/vega-lite/v4.17.0.json\", \"datasets\": {\"data-c88541abb0410bbfe929c8ca7ff3b337\": [{\"order_region\": \"Asiatic Russia/European Russia\", \"market\": \"Europe\", \"sales\": 39011.36}, {\"order_region\": \"Australia/New Zealand\", \"market\": \"Pacific Asia\", \"sales\": 195812.4}, {\"order_region\": \"Caribbean\", \"market\": \"Latin America\", \"sales\": 781414.93}, {\"order_region\": \"Central America\", \"market\": \"Latin America\", \"sales\": 2794204.96}, {\"order_region\": \"Central Asia\", \"market\": \"Pacific Asia\", \"sales\": 11906.64}, {\"order_region\": \"Eastern Africa\", \"market\": \"Africa\", \"sales\": 41482.34}, {\"order_region\": \"Eastern Asia\", \"market\": \"Pacific Asia\", \"sales\": 241804.58}, {\"order_region\": \"Eastern Europe\", \"market\": \"Europe\", \"sales\": 52109.14}, {\"order_region\": \"Melanesia\", \"market\": \"Pacific Asia\", \"sales\": 425.03}, {\"order_region\": \"Middle Africa\", \"market\": \"Africa\", \"sales\": 28819.9}, {\"order_region\": \"Northern Africa\", \"market\": \"Africa\", \"sales\": 69363.13}, {\"order_region\": \"Northern America\", \"market\": \"USCA\", \"sales\": 20388.55}, {\"order_region\": \"Northern Europe\", \"market\": \"Europe\", \"sales\": 1042261.49}, {\"order_region\": \"South America\", \"market\": \"Latin America\", \"sales\": 1402751.44}, {\"order_region\": \"Southeastern Asia\", \"market\": \"Pacific Asia\", \"sales\": 283655.44}, {\"order_region\": \"Southern Africa\", \"market\": \"Africa\", \"sales\": 18368.66}, {\"order_region\": \"Southern Asia\", \"market\": \"Pacific Asia\", \"sales\": 202460.52}, {\"order_region\": \"Southern Europe\", \"market\": \"Europe\", \"sales\": 979686.24}, {\"order_region\": \"Western Africa\", \"market\": \"Africa\", \"sales\": 80983.16}, {\"order_region\": \"Western Asia\", \"market\": \"Pacific Asia\", \"sales\": 151246.63}, {\"order_region\": \"Western Europe\", \"market\": \"Europe\", \"sales\": 2847340.92}]}}, {\"mode\": \"vega-lite\"});\n",
       "</script>"
      ],
      "text/plain": [
       "alt.Chart(...)"
      ]
     },
     "execution_count": 258,
     "metadata": {},
     "output_type": "execute_result"
    }
   ],
   "source": [
    "chartSales = alt.Chart(grouped_sales).mark_bar(orient=\"horizontal\").encode(\n",
    "    y=alt.Y(\"order_region:N\", sort=\"-x\", title=\"Region\"),\n",
    "    x=alt.X(\"sales:Q\", title=\"Sales\"),\n",
    "    color=alt.Color(\"market\", title=\"Market\"),\n",
    "    tooltip=[\"order_region\", \"market\", \"sales\"]\n",
    ").properties(\n",
    "    title=\"Sales Across Different Regions and Markets, 2017\",\n",
    "    width=600,\n",
    "    height=450\n",
    ")\n",
    "\n",
    "\n",
    "chartSales"
   ]
  },
  {
   "cell_type": "code",
   "execution_count": 259,
   "metadata": {},
   "outputs": [
    {
     "data": {
      "text/html": [
       "<div>\n",
       "<style scoped>\n",
       "    .dataframe tbody tr th:only-of-type {\n",
       "        vertical-align: middle;\n",
       "    }\n",
       "\n",
       "    .dataframe tbody tr th {\n",
       "        vertical-align: top;\n",
       "    }\n",
       "\n",
       "    .dataframe thead th {\n",
       "        text-align: right;\n",
       "    }\n",
       "</style>\n",
       "<table border=\"1\" class=\"dataframe\">\n",
       "  <thead>\n",
       "    <tr style=\"text-align: right;\">\n",
       "      <th></th>\n",
       "      <th>order_region</th>\n",
       "      <th>market</th>\n",
       "      <th>order_item_quantity</th>\n",
       "    </tr>\n",
       "  </thead>\n",
       "  <tbody>\n",
       "    <tr>\n",
       "      <th>0</th>\n",
       "      <td>Asiatic Russia/European Russia</td>\n",
       "      <td>Europe</td>\n",
       "      <td>412</td>\n",
       "    </tr>\n",
       "    <tr>\n",
       "      <th>1</th>\n",
       "      <td>Australia/New Zealand</td>\n",
       "      <td>Pacific Asia</td>\n",
       "      <td>841</td>\n",
       "    </tr>\n",
       "    <tr>\n",
       "      <th>2</th>\n",
       "      <td>Caribbean</td>\n",
       "      <td>Latin America</td>\n",
       "      <td>8395</td>\n",
       "    </tr>\n",
       "    <tr>\n",
       "      <th>3</th>\n",
       "      <td>Central America</td>\n",
       "      <td>Latin America</td>\n",
       "      <td>29936</td>\n",
       "    </tr>\n",
       "    <tr>\n",
       "      <th>4</th>\n",
       "      <td>Central Asia</td>\n",
       "      <td>Pacific Asia</td>\n",
       "      <td>159</td>\n",
       "    </tr>\n",
       "  </tbody>\n",
       "</table>\n",
       "</div>"
      ],
      "text/plain": [
       "                     order_region         market  order_item_quantity\n",
       "0  Asiatic Russia/European Russia         Europe                  412\n",
       "1           Australia/New Zealand   Pacific Asia                  841\n",
       "2                       Caribbean  Latin America                 8395\n",
       "3                 Central America  Latin America                29936\n",
       "4                    Central Asia   Pacific Asia                  159"
      ]
     },
     "execution_count": 259,
     "metadata": {},
     "output_type": "execute_result"
    }
   ],
   "source": [
    "grouped_order = df_2017.groupby([\"order_region\", \"market\"])[\"order_item_quantity\"].sum().reset_index()\n",
    "grouped_order.head()"
   ]
  },
  {
   "cell_type": "code",
   "execution_count": 260,
   "metadata": {},
   "outputs": [
    {
     "data": {
      "text/html": [
       "\n",
       "<div id=\"altair-viz-6e65dbe9ea7b43e6a1bd49a25fe31441\"></div>\n",
       "<script type=\"text/javascript\">\n",
       "  var VEGA_DEBUG = (typeof VEGA_DEBUG == \"undefined\") ? {} : VEGA_DEBUG;\n",
       "  (function(spec, embedOpt){\n",
       "    let outputDiv = document.currentScript.previousElementSibling;\n",
       "    if (outputDiv.id !== \"altair-viz-6e65dbe9ea7b43e6a1bd49a25fe31441\") {\n",
       "      outputDiv = document.getElementById(\"altair-viz-6e65dbe9ea7b43e6a1bd49a25fe31441\");\n",
       "    }\n",
       "    const paths = {\n",
       "      \"vega\": \"https://cdn.jsdelivr.net/npm//vega@5?noext\",\n",
       "      \"vega-lib\": \"https://cdn.jsdelivr.net/npm//vega-lib?noext\",\n",
       "      \"vega-lite\": \"https://cdn.jsdelivr.net/npm//vega-lite@4.17.0?noext\",\n",
       "      \"vega-embed\": \"https://cdn.jsdelivr.net/npm//vega-embed@6?noext\",\n",
       "    };\n",
       "\n",
       "    function maybeLoadScript(lib, version) {\n",
       "      var key = `${lib.replace(\"-\", \"\")}_version`;\n",
       "      return (VEGA_DEBUG[key] == version) ?\n",
       "        Promise.resolve(paths[lib]) :\n",
       "        new Promise(function(resolve, reject) {\n",
       "          var s = document.createElement('script');\n",
       "          document.getElementsByTagName(\"head\")[0].appendChild(s);\n",
       "          s.async = true;\n",
       "          s.onload = () => {\n",
       "            VEGA_DEBUG[key] = version;\n",
       "            return resolve(paths[lib]);\n",
       "          };\n",
       "          s.onerror = () => reject(`Error loading script: ${paths[lib]}`);\n",
       "          s.src = paths[lib];\n",
       "        });\n",
       "    }\n",
       "\n",
       "    function showError(err) {\n",
       "      outputDiv.innerHTML = `<div class=\"error\" style=\"color:red;\">${err}</div>`;\n",
       "      throw err;\n",
       "    }\n",
       "\n",
       "    function displayChart(vegaEmbed) {\n",
       "      vegaEmbed(outputDiv, spec, embedOpt)\n",
       "        .catch(err => showError(`Javascript Error: ${err.message}<br>This usually means there's a typo in your chart specification. See the javascript console for the full traceback.`));\n",
       "    }\n",
       "\n",
       "    if(typeof define === \"function\" && define.amd) {\n",
       "      requirejs.config({paths});\n",
       "      require([\"vega-embed\"], displayChart, err => showError(`Error loading script: ${err.message}`));\n",
       "    } else {\n",
       "      maybeLoadScript(\"vega\", \"5\")\n",
       "        .then(() => maybeLoadScript(\"vega-lite\", \"4.17.0\"))\n",
       "        .then(() => maybeLoadScript(\"vega-embed\", \"6\"))\n",
       "        .catch(showError)\n",
       "        .then(() => displayChart(vegaEmbed));\n",
       "    }\n",
       "  })({\"config\": {\"view\": {\"continuousWidth\": 400, \"continuousHeight\": 300}}, \"data\": {\"name\": \"data-595c0c882614c9e01fd03b797695efd9\"}, \"mark\": {\"type\": \"bar\", \"orient\": \"horizontal\"}, \"encoding\": {\"color\": {\"field\": \"market\", \"title\": \"Market\", \"type\": \"nominal\"}, \"tooltip\": [{\"field\": \"order_region\", \"type\": \"nominal\"}, {\"field\": \"market\", \"type\": \"nominal\"}, {\"field\": \"order_item_quantity\", \"type\": \"quantitative\"}], \"x\": {\"field\": \"order_item_quantity\", \"title\": \"Order Item\", \"type\": \"quantitative\"}, \"y\": {\"field\": \"order_region\", \"sort\": \"-x\", \"title\": \"Region\", \"type\": \"nominal\"}}, \"height\": 450, \"title\": \"Order Across Different Regions and Markets, 2017\", \"width\": 600, \"$schema\": \"https://vega.github.io/schema/vega-lite/v4.17.0.json\", \"datasets\": {\"data-595c0c882614c9e01fd03b797695efd9\": [{\"order_region\": \"Asiatic Russia/European Russia\", \"market\": \"Europe\", \"order_item_quantity\": 412}, {\"order_region\": \"Australia/New Zealand\", \"market\": \"Pacific Asia\", \"order_item_quantity\": 841}, {\"order_region\": \"Caribbean\", \"market\": \"Latin America\", \"order_item_quantity\": 8395}, {\"order_region\": \"Central America\", \"market\": \"Latin America\", \"order_item_quantity\": 29936}, {\"order_region\": \"Central Asia\", \"market\": \"Pacific Asia\", \"order_item_quantity\": 159}, {\"order_region\": \"Eastern Africa\", \"market\": \"Africa\", \"order_item_quantity\": 439}, {\"order_region\": \"Eastern Asia\", \"market\": \"Pacific Asia\", \"order_item_quantity\": 855}, {\"order_region\": \"Eastern Europe\", \"market\": \"Europe\", \"order_item_quantity\": 589}, {\"order_region\": \"Melanesia\", \"market\": \"Pacific Asia\", \"order_item_quantity\": 2}, {\"order_region\": \"Middle Africa\", \"market\": \"Africa\", \"order_item_quantity\": 334}, {\"order_region\": \"Northern Africa\", \"market\": \"Africa\", \"order_item_quantity\": 714}, {\"order_region\": \"Northern America\", \"market\": \"USCA\", \"order_item_quantity\": 238}, {\"order_region\": \"Northern Europe\", \"market\": \"Europe\", \"order_item_quantity\": 8135}, {\"order_region\": \"South America\", \"market\": \"Latin America\", \"order_item_quantity\": 14941}, {\"order_region\": \"Southeastern Asia\", \"market\": \"Pacific Asia\", \"order_item_quantity\": 1045}, {\"order_region\": \"Southern Africa\", \"market\": \"Africa\", \"order_item_quantity\": 243}, {\"order_region\": \"Southern Asia\", \"market\": \"Pacific Asia\", \"order_item_quantity\": 970}, {\"order_region\": \"Southern Europe\", \"market\": \"Europe\", \"order_item_quantity\": 7720}, {\"order_region\": \"Western Africa\", \"market\": \"Africa\", \"order_item_quantity\": 970}, {\"order_region\": \"Western Asia\", \"market\": \"Pacific Asia\", \"order_item_quantity\": 1713}, {\"order_region\": \"Western Europe\", \"market\": \"Europe\", \"order_item_quantity\": 22741}]}}, {\"mode\": \"vega-lite\"});\n",
       "</script>"
      ],
      "text/plain": [
       "alt.Chart(...)"
      ]
     },
     "execution_count": 260,
     "metadata": {},
     "output_type": "execute_result"
    }
   ],
   "source": [
    "chartOrder = alt.Chart(grouped_order).mark_bar(orient=\"horizontal\").encode(\n",
    "    y=alt.Y(\"order_region:N\", sort=\"-x\", title=\"Region\"),\n",
    "    x=alt.X(\"order_item_quantity:Q\", title=\"Order Item\"),\n",
    "    color=alt.Color(\"market\", title=\"Market\"),\n",
    "    tooltip=[\"order_region\", \"market\", \"order_item_quantity\"]\n",
    ").properties(\n",
    "    title=\"Order Across Different Regions and Markets, 2017\",\n",
    "    width=600,\n",
    "    height=450\n",
    ")\n",
    "\n",
    "chartOrder"
   ]
  },
  {
   "cell_type": "code",
   "execution_count": 261,
   "metadata": {},
   "outputs": [
    {
     "data": {
      "text/html": [
       "<div>\n",
       "<style scoped>\n",
       "    .dataframe tbody tr th:only-of-type {\n",
       "        vertical-align: middle;\n",
       "    }\n",
       "\n",
       "    .dataframe tbody tr th {\n",
       "        vertical-align: top;\n",
       "    }\n",
       "\n",
       "    .dataframe thead th {\n",
       "        text-align: right;\n",
       "    }\n",
       "</style>\n",
       "<table border=\"1\" class=\"dataframe\">\n",
       "  <thead>\n",
       "    <tr style=\"text-align: right;\">\n",
       "      <th></th>\n",
       "      <th>market</th>\n",
       "      <th>order_year</th>\n",
       "      <th>order_region</th>\n",
       "      <th>order_item_quantity</th>\n",
       "    </tr>\n",
       "  </thead>\n",
       "  <tbody>\n",
       "    <tr>\n",
       "      <th>0</th>\n",
       "      <td>Africa</td>\n",
       "      <td>2017</td>\n",
       "      <td>Eastern Africa</td>\n",
       "      <td>25.82</td>\n",
       "    </tr>\n",
       "    <tr>\n",
       "      <th>1</th>\n",
       "      <td>Africa</td>\n",
       "      <td>2017</td>\n",
       "      <td>Middle Africa</td>\n",
       "      <td>22.27</td>\n",
       "    </tr>\n",
       "    <tr>\n",
       "      <th>2</th>\n",
       "      <td>Africa</td>\n",
       "      <td>2017</td>\n",
       "      <td>Northern Africa</td>\n",
       "      <td>39.67</td>\n",
       "    </tr>\n",
       "    <tr>\n",
       "      <th>3</th>\n",
       "      <td>Africa</td>\n",
       "      <td>2017</td>\n",
       "      <td>Southern Africa</td>\n",
       "      <td>15.19</td>\n",
       "    </tr>\n",
       "    <tr>\n",
       "      <th>4</th>\n",
       "      <td>Africa</td>\n",
       "      <td>2017</td>\n",
       "      <td>Western Africa</td>\n",
       "      <td>53.89</td>\n",
       "    </tr>\n",
       "    <tr>\n",
       "      <th>5</th>\n",
       "      <td>Europe</td>\n",
       "      <td>2017</td>\n",
       "      <td>Asiatic Russia/European Russia</td>\n",
       "      <td>22.89</td>\n",
       "    </tr>\n",
       "    <tr>\n",
       "      <th>6</th>\n",
       "      <td>Europe</td>\n",
       "      <td>2017</td>\n",
       "      <td>Eastern Europe</td>\n",
       "      <td>32.72</td>\n",
       "    </tr>\n",
       "    <tr>\n",
       "      <th>7</th>\n",
       "      <td>Europe</td>\n",
       "      <td>2017</td>\n",
       "      <td>Northern Europe</td>\n",
       "      <td>25.91</td>\n",
       "    </tr>\n",
       "    <tr>\n",
       "      <th>8</th>\n",
       "      <td>Europe</td>\n",
       "      <td>2017</td>\n",
       "      <td>Southern Europe</td>\n",
       "      <td>24.59</td>\n",
       "    </tr>\n",
       "    <tr>\n",
       "      <th>9</th>\n",
       "      <td>Europe</td>\n",
       "      <td>2017</td>\n",
       "      <td>Western Europe</td>\n",
       "      <td>72.42</td>\n",
       "    </tr>\n",
       "    <tr>\n",
       "      <th>10</th>\n",
       "      <td>Latin America</td>\n",
       "      <td>2017</td>\n",
       "      <td>Caribbean</td>\n",
       "      <td>51.50</td>\n",
       "    </tr>\n",
       "    <tr>\n",
       "      <th>11</th>\n",
       "      <td>Latin America</td>\n",
       "      <td>2017</td>\n",
       "      <td>Central America</td>\n",
       "      <td>182.54</td>\n",
       "    </tr>\n",
       "    <tr>\n",
       "      <th>12</th>\n",
       "      <td>Latin America</td>\n",
       "      <td>2017</td>\n",
       "      <td>South America</td>\n",
       "      <td>88.93</td>\n",
       "    </tr>\n",
       "    <tr>\n",
       "      <th>13</th>\n",
       "      <td>Pacific Asia</td>\n",
       "      <td>2017</td>\n",
       "      <td>Australia/New Zealand</td>\n",
       "      <td>2.30</td>\n",
       "    </tr>\n",
       "    <tr>\n",
       "      <th>14</th>\n",
       "      <td>Pacific Asia</td>\n",
       "      <td>2017</td>\n",
       "      <td>Central Asia</td>\n",
       "      <td>9.35</td>\n",
       "    </tr>\n",
       "    <tr>\n",
       "      <th>15</th>\n",
       "      <td>Pacific Asia</td>\n",
       "      <td>2017</td>\n",
       "      <td>Eastern Asia</td>\n",
       "      <td>2.34</td>\n",
       "    </tr>\n",
       "    <tr>\n",
       "      <th>16</th>\n",
       "      <td>Pacific Asia</td>\n",
       "      <td>2017</td>\n",
       "      <td>Melanesia</td>\n",
       "      <td>0.01</td>\n",
       "    </tr>\n",
       "    <tr>\n",
       "      <th>17</th>\n",
       "      <td>Pacific Asia</td>\n",
       "      <td>2017</td>\n",
       "      <td>Southeastern Asia</td>\n",
       "      <td>2.86</td>\n",
       "    </tr>\n",
       "    <tr>\n",
       "      <th>18</th>\n",
       "      <td>Pacific Asia</td>\n",
       "      <td>2017</td>\n",
       "      <td>Southern Asia</td>\n",
       "      <td>2.66</td>\n",
       "    </tr>\n",
       "    <tr>\n",
       "      <th>19</th>\n",
       "      <td>Pacific Asia</td>\n",
       "      <td>2017</td>\n",
       "      <td>Western Asia</td>\n",
       "      <td>95.17</td>\n",
       "    </tr>\n",
       "    <tr>\n",
       "      <th>20</th>\n",
       "      <td>USCA</td>\n",
       "      <td>2017</td>\n",
       "      <td>Northern America</td>\n",
       "      <td>14.88</td>\n",
       "    </tr>\n",
       "  </tbody>\n",
       "</table>\n",
       "</div>"
      ],
      "text/plain": [
       "           market  order_year                    order_region  \\\n",
       "0          Africa        2017                  Eastern Africa   \n",
       "1          Africa        2017                   Middle Africa   \n",
       "2          Africa        2017                 Northern Africa   \n",
       "3          Africa        2017                 Southern Africa   \n",
       "4          Africa        2017                  Western Africa   \n",
       "5          Europe        2017  Asiatic Russia/European Russia   \n",
       "6          Europe        2017                  Eastern Europe   \n",
       "7          Europe        2017                 Northern Europe   \n",
       "8          Europe        2017                 Southern Europe   \n",
       "9          Europe        2017                  Western Europe   \n",
       "10  Latin America        2017                       Caribbean   \n",
       "11  Latin America        2017                 Central America   \n",
       "12  Latin America        2017                   South America   \n",
       "13   Pacific Asia        2017           Australia/New Zealand   \n",
       "14   Pacific Asia        2017                    Central Asia   \n",
       "15   Pacific Asia        2017                    Eastern Asia   \n",
       "16   Pacific Asia        2017                       Melanesia   \n",
       "17   Pacific Asia        2017               Southeastern Asia   \n",
       "18   Pacific Asia        2017                   Southern Asia   \n",
       "19   Pacific Asia        2017                    Western Asia   \n",
       "20           USCA        2017                Northern America   \n",
       "\n",
       "    order_item_quantity  \n",
       "0                 25.82  \n",
       "1                 22.27  \n",
       "2                 39.67  \n",
       "3                 15.19  \n",
       "4                 53.89  \n",
       "5                 22.89  \n",
       "6                 32.72  \n",
       "7                 25.91  \n",
       "8                 24.59  \n",
       "9                 72.42  \n",
       "10                51.50  \n",
       "11               182.54  \n",
       "12                88.93  \n",
       "13                 2.30  \n",
       "14                 9.35  \n",
       "15                 2.34  \n",
       "16                 0.01  \n",
       "17                 2.86  \n",
       "18                 2.66  \n",
       "19                95.17  \n",
       "20                14.88  "
      ]
     },
     "execution_count": 261,
     "metadata": {},
     "output_type": "execute_result"
    }
   ],
   "source": [
    "# Convert \"order_date\" to datetime and set it as the index\n",
    "main_df2 = main_df.copy()\n",
    "main_df2[\"order_date\"] = pd.to_datetime(main_df2[\"order_date\"])\n",
    "main_df2.set_index(\"order_date\", inplace=True)\n",
    "\n",
    "# Resample the DataFrame for every day and sum the item quantity for each region\n",
    "daily_orders = main_df2.groupby([\"market\",\"order_region\"]).resample(\"D\")[\"order_item_quantity\"].sum().reset_index()\n",
    "\n",
    "# Calculate the average daily order for each region by year\n",
    "avg_daily_orders = daily_orders.groupby([\"market\", daily_orders[\"order_date\"].dt.year, \"order_region\"])[\"order_item_quantity\"].mean().reset_index()\n",
    "avg_daily_orders.rename(columns={\"order_date\": \"order_year\"}, inplace=True)\n",
    "\n",
    "avg_df_2017_order = avg_daily_orders[avg_daily_orders[\"order_year\"] == 2017].reset_index(drop=True)\n",
    "avg_df_2017_order"
   ]
  },
  {
   "cell_type": "code",
   "execution_count": 262,
   "metadata": {},
   "outputs": [
    {
     "data": {
      "text/html": [
       "<div>\n",
       "<style scoped>\n",
       "    .dataframe tbody tr th:only-of-type {\n",
       "        vertical-align: middle;\n",
       "    }\n",
       "\n",
       "    .dataframe tbody tr th {\n",
       "        vertical-align: top;\n",
       "    }\n",
       "\n",
       "    .dataframe thead th {\n",
       "        text-align: right;\n",
       "    }\n",
       "</style>\n",
       "<table border=\"1\" class=\"dataframe\">\n",
       "  <thead>\n",
       "    <tr style=\"text-align: right;\">\n",
       "      <th></th>\n",
       "      <th>market</th>\n",
       "      <th>order_year</th>\n",
       "      <th>order_region</th>\n",
       "      <th>sales</th>\n",
       "    </tr>\n",
       "  </thead>\n",
       "  <tbody>\n",
       "    <tr>\n",
       "      <th>0</th>\n",
       "      <td>Africa</td>\n",
       "      <td>2017</td>\n",
       "      <td>Eastern Africa</td>\n",
       "      <td>2440.14</td>\n",
       "    </tr>\n",
       "    <tr>\n",
       "      <th>1</th>\n",
       "      <td>Africa</td>\n",
       "      <td>2017</td>\n",
       "      <td>Middle Africa</td>\n",
       "      <td>1921.33</td>\n",
       "    </tr>\n",
       "    <tr>\n",
       "      <th>2</th>\n",
       "      <td>Africa</td>\n",
       "      <td>2017</td>\n",
       "      <td>Northern Africa</td>\n",
       "      <td>3853.51</td>\n",
       "    </tr>\n",
       "    <tr>\n",
       "      <th>3</th>\n",
       "      <td>Africa</td>\n",
       "      <td>2017</td>\n",
       "      <td>Southern Africa</td>\n",
       "      <td>1148.04</td>\n",
       "    </tr>\n",
       "    <tr>\n",
       "      <th>4</th>\n",
       "      <td>Africa</td>\n",
       "      <td>2017</td>\n",
       "      <td>Western Africa</td>\n",
       "      <td>4499.06</td>\n",
       "    </tr>\n",
       "    <tr>\n",
       "      <th>5</th>\n",
       "      <td>Europe</td>\n",
       "      <td>2017</td>\n",
       "      <td>Asiatic Russia/European Russia</td>\n",
       "      <td>2167.30</td>\n",
       "    </tr>\n",
       "    <tr>\n",
       "      <th>6</th>\n",
       "      <td>Europe</td>\n",
       "      <td>2017</td>\n",
       "      <td>Eastern Europe</td>\n",
       "      <td>2894.95</td>\n",
       "    </tr>\n",
       "    <tr>\n",
       "      <th>7</th>\n",
       "      <td>Europe</td>\n",
       "      <td>2017</td>\n",
       "      <td>Northern Europe</td>\n",
       "      <td>3319.30</td>\n",
       "    </tr>\n",
       "    <tr>\n",
       "      <th>8</th>\n",
       "      <td>Europe</td>\n",
       "      <td>2017</td>\n",
       "      <td>Southern Europe</td>\n",
       "      <td>3120.02</td>\n",
       "    </tr>\n",
       "    <tr>\n",
       "      <th>9</th>\n",
       "      <td>Europe</td>\n",
       "      <td>2017</td>\n",
       "      <td>Western Europe</td>\n",
       "      <td>9067.96</td>\n",
       "    </tr>\n",
       "    <tr>\n",
       "      <th>10</th>\n",
       "      <td>Latin America</td>\n",
       "      <td>2017</td>\n",
       "      <td>Caribbean</td>\n",
       "      <td>4793.96</td>\n",
       "    </tr>\n",
       "    <tr>\n",
       "      <th>11</th>\n",
       "      <td>Latin America</td>\n",
       "      <td>2017</td>\n",
       "      <td>Central America</td>\n",
       "      <td>17037.84</td>\n",
       "    </tr>\n",
       "    <tr>\n",
       "      <th>12</th>\n",
       "      <td>Latin America</td>\n",
       "      <td>2017</td>\n",
       "      <td>South America</td>\n",
       "      <td>8349.71</td>\n",
       "    </tr>\n",
       "    <tr>\n",
       "      <th>13</th>\n",
       "      <td>Pacific Asia</td>\n",
       "      <td>2017</td>\n",
       "      <td>Australia/New Zealand</td>\n",
       "      <td>536.47</td>\n",
       "    </tr>\n",
       "    <tr>\n",
       "      <th>14</th>\n",
       "      <td>Pacific Asia</td>\n",
       "      <td>2017</td>\n",
       "      <td>Central Asia</td>\n",
       "      <td>700.39</td>\n",
       "    </tr>\n",
       "    <tr>\n",
       "      <th>15</th>\n",
       "      <td>Pacific Asia</td>\n",
       "      <td>2017</td>\n",
       "      <td>Eastern Asia</td>\n",
       "      <td>662.48</td>\n",
       "    </tr>\n",
       "    <tr>\n",
       "      <th>16</th>\n",
       "      <td>Pacific Asia</td>\n",
       "      <td>2017</td>\n",
       "      <td>Melanesia</td>\n",
       "      <td>1.16</td>\n",
       "    </tr>\n",
       "    <tr>\n",
       "      <th>17</th>\n",
       "      <td>Pacific Asia</td>\n",
       "      <td>2017</td>\n",
       "      <td>Southeastern Asia</td>\n",
       "      <td>777.14</td>\n",
       "    </tr>\n",
       "    <tr>\n",
       "      <th>18</th>\n",
       "      <td>Pacific Asia</td>\n",
       "      <td>2017</td>\n",
       "      <td>Southern Asia</td>\n",
       "      <td>554.69</td>\n",
       "    </tr>\n",
       "    <tr>\n",
       "      <th>19</th>\n",
       "      <td>Pacific Asia</td>\n",
       "      <td>2017</td>\n",
       "      <td>Western Asia</td>\n",
       "      <td>8402.59</td>\n",
       "    </tr>\n",
       "    <tr>\n",
       "      <th>20</th>\n",
       "      <td>USCA</td>\n",
       "      <td>2017</td>\n",
       "      <td>Northern America</td>\n",
       "      <td>1274.28</td>\n",
       "    </tr>\n",
       "  </tbody>\n",
       "</table>\n",
       "</div>"
      ],
      "text/plain": [
       "           market  order_year                    order_region    sales\n",
       "0          Africa        2017                  Eastern Africa  2440.14\n",
       "1          Africa        2017                   Middle Africa  1921.33\n",
       "2          Africa        2017                 Northern Africa  3853.51\n",
       "3          Africa        2017                 Southern Africa  1148.04\n",
       "4          Africa        2017                  Western Africa  4499.06\n",
       "5          Europe        2017  Asiatic Russia/European Russia  2167.30\n",
       "6          Europe        2017                  Eastern Europe  2894.95\n",
       "7          Europe        2017                 Northern Europe  3319.30\n",
       "8          Europe        2017                 Southern Europe  3120.02\n",
       "9          Europe        2017                  Western Europe  9067.96\n",
       "10  Latin America        2017                       Caribbean  4793.96\n",
       "11  Latin America        2017                 Central America 17037.84\n",
       "12  Latin America        2017                   South America  8349.71\n",
       "13   Pacific Asia        2017           Australia/New Zealand   536.47\n",
       "14   Pacific Asia        2017                    Central Asia   700.39\n",
       "15   Pacific Asia        2017                    Eastern Asia   662.48\n",
       "16   Pacific Asia        2017                       Melanesia     1.16\n",
       "17   Pacific Asia        2017               Southeastern Asia   777.14\n",
       "18   Pacific Asia        2017                   Southern Asia   554.69\n",
       "19   Pacific Asia        2017                    Western Asia  8402.59\n",
       "20           USCA        2017                Northern America  1274.28"
      ]
     },
     "execution_count": 262,
     "metadata": {},
     "output_type": "execute_result"
    }
   ],
   "source": [
    "# Resample the DataFrame for every day and sum the item quantity for each region\n",
    "daily_sales = main_df2.groupby([\"market\",\"order_region\"]).resample(\"D\")[\"sales\"].sum().reset_index()\n",
    "\n",
    "# Calculate the average daily order for each region by year\n",
    "avg_daily_sales = daily_sales.groupby([\"market\", daily_sales[\"order_date\"].dt.year, \"order_region\"])[\"sales\"].mean().reset_index()\n",
    "avg_daily_sales.rename(columns={\"order_date\": \"order_year\"}, inplace=True)\n",
    "\n",
    "avg_df_2017_sales = avg_daily_sales[avg_daily_sales[\"order_year\"] == 2017].reset_index(drop=True)\n",
    "avg_df_2017_sales"
   ]
  },
  {
   "cell_type": "code",
   "execution_count": 263,
   "metadata": {},
   "outputs": [
    {
     "data": {
      "text/html": [
       "\n",
       "<div id=\"altair-viz-1293fed5c53c43a6b2193d28098cd9e5\"></div>\n",
       "<script type=\"text/javascript\">\n",
       "  var VEGA_DEBUG = (typeof VEGA_DEBUG == \"undefined\") ? {} : VEGA_DEBUG;\n",
       "  (function(spec, embedOpt){\n",
       "    let outputDiv = document.currentScript.previousElementSibling;\n",
       "    if (outputDiv.id !== \"altair-viz-1293fed5c53c43a6b2193d28098cd9e5\") {\n",
       "      outputDiv = document.getElementById(\"altair-viz-1293fed5c53c43a6b2193d28098cd9e5\");\n",
       "    }\n",
       "    const paths = {\n",
       "      \"vega\": \"https://cdn.jsdelivr.net/npm//vega@5?noext\",\n",
       "      \"vega-lib\": \"https://cdn.jsdelivr.net/npm//vega-lib?noext\",\n",
       "      \"vega-lite\": \"https://cdn.jsdelivr.net/npm//vega-lite@4.17.0?noext\",\n",
       "      \"vega-embed\": \"https://cdn.jsdelivr.net/npm//vega-embed@6?noext\",\n",
       "    };\n",
       "\n",
       "    function maybeLoadScript(lib, version) {\n",
       "      var key = `${lib.replace(\"-\", \"\")}_version`;\n",
       "      return (VEGA_DEBUG[key] == version) ?\n",
       "        Promise.resolve(paths[lib]) :\n",
       "        new Promise(function(resolve, reject) {\n",
       "          var s = document.createElement('script');\n",
       "          document.getElementsByTagName(\"head\")[0].appendChild(s);\n",
       "          s.async = true;\n",
       "          s.onload = () => {\n",
       "            VEGA_DEBUG[key] = version;\n",
       "            return resolve(paths[lib]);\n",
       "          };\n",
       "          s.onerror = () => reject(`Error loading script: ${paths[lib]}`);\n",
       "          s.src = paths[lib];\n",
       "        });\n",
       "    }\n",
       "\n",
       "    function showError(err) {\n",
       "      outputDiv.innerHTML = `<div class=\"error\" style=\"color:red;\">${err}</div>`;\n",
       "      throw err;\n",
       "    }\n",
       "\n",
       "    function displayChart(vegaEmbed) {\n",
       "      vegaEmbed(outputDiv, spec, embedOpt)\n",
       "        .catch(err => showError(`Javascript Error: ${err.message}<br>This usually means there's a typo in your chart specification. See the javascript console for the full traceback.`));\n",
       "    }\n",
       "\n",
       "    if(typeof define === \"function\" && define.amd) {\n",
       "      requirejs.config({paths});\n",
       "      require([\"vega-embed\"], displayChart, err => showError(`Error loading script: ${err.message}`));\n",
       "    } else {\n",
       "      maybeLoadScript(\"vega\", \"5\")\n",
       "        .then(() => maybeLoadScript(\"vega-lite\", \"4.17.0\"))\n",
       "        .then(() => maybeLoadScript(\"vega-embed\", \"6\"))\n",
       "        .catch(showError)\n",
       "        .then(() => displayChart(vegaEmbed));\n",
       "    }\n",
       "  })({\"config\": {\"view\": {\"continuousWidth\": 400, \"continuousHeight\": 300}}, \"data\": {\"name\": \"data-460f415ccf1e2c227e269ddb39a21afb\"}, \"mark\": {\"type\": \"bar\", \"orient\": \"horizontal\"}, \"encoding\": {\"color\": {\"field\": \"market\", \"title\": \"Market\", \"type\": \"nominal\"}, \"tooltip\": [{\"field\": \"order_region\", \"type\": \"nominal\"}, {\"field\": \"market\", \"type\": \"nominal\"}, {\"field\": \"order_item_quantity\", \"type\": \"quantitative\"}], \"x\": {\"field\": \"order_item_quantity\", \"title\": \"Order Item\", \"type\": \"quantitative\"}, \"y\": {\"field\": \"order_region\", \"sort\": \"-x\", \"title\": \"Region\", \"type\": \"nominal\"}}, \"height\": 450, \"title\": \"Average Daily Order Across Different Regions and Markets, 2017\", \"width\": 600, \"$schema\": \"https://vega.github.io/schema/vega-lite/v4.17.0.json\", \"datasets\": {\"data-460f415ccf1e2c227e269ddb39a21afb\": [{\"market\": \"Africa\", \"order_year\": 2017, \"order_region\": \"Eastern Africa\", \"order_item_quantity\": 25.823529411764707}, {\"market\": \"Africa\", \"order_year\": 2017, \"order_region\": \"Middle Africa\", \"order_item_quantity\": 22.266666666666666}, {\"market\": \"Africa\", \"order_year\": 2017, \"order_region\": \"Northern Africa\", \"order_item_quantity\": 39.666666666666664}, {\"market\": \"Africa\", \"order_year\": 2017, \"order_region\": \"Southern Africa\", \"order_item_quantity\": 15.1875}, {\"market\": \"Africa\", \"order_year\": 2017, \"order_region\": \"Western Africa\", \"order_item_quantity\": 53.888888888888886}, {\"market\": \"Europe\", \"order_year\": 2017, \"order_region\": \"Asiatic Russia/European Russia\", \"order_item_quantity\": 22.88888888888889}, {\"market\": \"Europe\", \"order_year\": 2017, \"order_region\": \"Eastern Europe\", \"order_item_quantity\": 32.72222222222222}, {\"market\": \"Europe\", \"order_year\": 2017, \"order_region\": \"Northern Europe\", \"order_item_quantity\": 25.90764331210191}, {\"market\": \"Europe\", \"order_year\": 2017, \"order_region\": \"Southern Europe\", \"order_item_quantity\": 24.585987261146496}, {\"market\": \"Europe\", \"order_year\": 2017, \"order_region\": \"Western Europe\", \"order_item_quantity\": 72.42356687898089}, {\"market\": \"Latin America\", \"order_year\": 2017, \"order_region\": \"Caribbean\", \"order_item_quantity\": 51.50306748466258}, {\"market\": \"Latin America\", \"order_year\": 2017, \"order_region\": \"Central America\", \"order_item_quantity\": 182.53658536585365}, {\"market\": \"Latin America\", \"order_year\": 2017, \"order_region\": \"South America\", \"order_item_quantity\": 88.93452380952381}, {\"market\": \"Pacific Asia\", \"order_year\": 2017, \"order_region\": \"Australia/New Zealand\", \"order_item_quantity\": 2.304109589041096}, {\"market\": \"Pacific Asia\", \"order_year\": 2017, \"order_region\": \"Central Asia\", \"order_item_quantity\": 9.352941176470589}, {\"market\": \"Pacific Asia\", \"order_year\": 2017, \"order_region\": \"Eastern Asia\", \"order_item_quantity\": 2.3424657534246576}, {\"market\": \"Pacific Asia\", \"order_year\": 2017, \"order_region\": \"Melanesia\", \"order_item_quantity\": 0.005479452054794521}, {\"market\": \"Pacific Asia\", \"order_year\": 2017, \"order_region\": \"Southeastern Asia\", \"order_item_quantity\": 2.863013698630137}, {\"market\": \"Pacific Asia\", \"order_year\": 2017, \"order_region\": \"Southern Asia\", \"order_item_quantity\": 2.6575342465753424}, {\"market\": \"Pacific Asia\", \"order_year\": 2017, \"order_region\": \"Western Asia\", \"order_item_quantity\": 95.16666666666667}, {\"market\": \"USCA\", \"order_year\": 2017, \"order_region\": \"Northern America\", \"order_item_quantity\": 14.875}]}}, {\"mode\": \"vega-lite\"});\n",
       "</script>"
      ],
      "text/plain": [
       "alt.Chart(...)"
      ]
     },
     "execution_count": 263,
     "metadata": {},
     "output_type": "execute_result"
    }
   ],
   "source": [
    "chartAvgOrder = alt.Chart(avg_df_2017_order).mark_bar(orient=\"horizontal\").encode(\n",
    "    y=alt.Y(\"order_region:N\", sort=\"-x\", title=\"Region\"),\n",
    "    x=alt.X(\"order_item_quantity:Q\", title=\"Order Item\"),\n",
    "    color=alt.Color(\"market\", title=\"Market\"),\n",
    "    tooltip=[\"order_region\", \"market\", \"order_item_quantity\"]\n",
    ").properties(\n",
    "    title=\"Average Daily Order Across Different Regions and Markets, 2017\",\n",
    "    width=600,\n",
    "    height=450\n",
    ")\n",
    "\n",
    "\n",
    "chartAvgOrder"
   ]
  },
  {
   "cell_type": "code",
   "execution_count": 264,
   "metadata": {},
   "outputs": [
    {
     "data": {
      "text/html": [
       "\n",
       "<div id=\"altair-viz-c73586d29db3430eadf7d37fd11ea9df\"></div>\n",
       "<script type=\"text/javascript\">\n",
       "  var VEGA_DEBUG = (typeof VEGA_DEBUG == \"undefined\") ? {} : VEGA_DEBUG;\n",
       "  (function(spec, embedOpt){\n",
       "    let outputDiv = document.currentScript.previousElementSibling;\n",
       "    if (outputDiv.id !== \"altair-viz-c73586d29db3430eadf7d37fd11ea9df\") {\n",
       "      outputDiv = document.getElementById(\"altair-viz-c73586d29db3430eadf7d37fd11ea9df\");\n",
       "    }\n",
       "    const paths = {\n",
       "      \"vega\": \"https://cdn.jsdelivr.net/npm//vega@5?noext\",\n",
       "      \"vega-lib\": \"https://cdn.jsdelivr.net/npm//vega-lib?noext\",\n",
       "      \"vega-lite\": \"https://cdn.jsdelivr.net/npm//vega-lite@4.17.0?noext\",\n",
       "      \"vega-embed\": \"https://cdn.jsdelivr.net/npm//vega-embed@6?noext\",\n",
       "    };\n",
       "\n",
       "    function maybeLoadScript(lib, version) {\n",
       "      var key = `${lib.replace(\"-\", \"\")}_version`;\n",
       "      return (VEGA_DEBUG[key] == version) ?\n",
       "        Promise.resolve(paths[lib]) :\n",
       "        new Promise(function(resolve, reject) {\n",
       "          var s = document.createElement('script');\n",
       "          document.getElementsByTagName(\"head\")[0].appendChild(s);\n",
       "          s.async = true;\n",
       "          s.onload = () => {\n",
       "            VEGA_DEBUG[key] = version;\n",
       "            return resolve(paths[lib]);\n",
       "          };\n",
       "          s.onerror = () => reject(`Error loading script: ${paths[lib]}`);\n",
       "          s.src = paths[lib];\n",
       "        });\n",
       "    }\n",
       "\n",
       "    function showError(err) {\n",
       "      outputDiv.innerHTML = `<div class=\"error\" style=\"color:red;\">${err}</div>`;\n",
       "      throw err;\n",
       "    }\n",
       "\n",
       "    function displayChart(vegaEmbed) {\n",
       "      vegaEmbed(outputDiv, spec, embedOpt)\n",
       "        .catch(err => showError(`Javascript Error: ${err.message}<br>This usually means there's a typo in your chart specification. See the javascript console for the full traceback.`));\n",
       "    }\n",
       "\n",
       "    if(typeof define === \"function\" && define.amd) {\n",
       "      requirejs.config({paths});\n",
       "      require([\"vega-embed\"], displayChart, err => showError(`Error loading script: ${err.message}`));\n",
       "    } else {\n",
       "      maybeLoadScript(\"vega\", \"5\")\n",
       "        .then(() => maybeLoadScript(\"vega-lite\", \"4.17.0\"))\n",
       "        .then(() => maybeLoadScript(\"vega-embed\", \"6\"))\n",
       "        .catch(showError)\n",
       "        .then(() => displayChart(vegaEmbed));\n",
       "    }\n",
       "  })({\"config\": {\"view\": {\"continuousWidth\": 400, \"continuousHeight\": 300}}, \"data\": {\"name\": \"data-5a8e26cc367666dbf42a95b75f8e9d20\"}, \"mark\": {\"type\": \"bar\", \"orient\": \"horizontal\"}, \"encoding\": {\"color\": {\"field\": \"market\", \"title\": \"Market\", \"type\": \"nominal\"}, \"tooltip\": [{\"field\": \"order_region\", \"type\": \"nominal\"}, {\"field\": \"market\", \"type\": \"nominal\"}, {\"field\": \"sales\", \"type\": \"quantitative\"}], \"x\": {\"field\": \"sales\", \"title\": \"Sales\", \"type\": \"quantitative\"}, \"y\": {\"field\": \"order_region\", \"sort\": \"-x\", \"title\": \"Region\", \"type\": \"nominal\"}}, \"height\": 450, \"title\": \"Average Daily Sales Across Different Regions and Markets, 2017\", \"width\": 600, \"$schema\": \"https://vega.github.io/schema/vega-lite/v4.17.0.json\", \"datasets\": {\"data-5a8e26cc367666dbf42a95b75f8e9d20\": [{\"market\": \"Africa\", \"order_year\": 2017, \"order_region\": \"Eastern Africa\", \"sales\": 2440.1377006523526}, {\"market\": \"Africa\", \"order_year\": 2017, \"order_region\": \"Middle Africa\", \"sales\": 1921.32670557}, {\"market\": \"Africa\", \"order_year\": 2017, \"order_region\": \"Northern Africa\", \"sales\": 3853.5073001027777}, {\"market\": \"Africa\", \"order_year\": 2017, \"order_region\": \"Southern Africa\", \"sales\": 1148.04127061375}, {\"market\": \"Africa\", \"order_year\": 2017, \"order_region\": \"Western Africa\", \"sales\": 4499.064524897222}, {\"market\": \"Europe\", \"order_year\": 2017, \"order_region\": \"Asiatic Russia/European Russia\", \"sales\": 2167.2978244711107}, {\"market\": \"Europe\", \"order_year\": 2017, \"order_region\": \"Eastern Europe\", \"sales\": 2894.9522716083334}, {\"market\": \"Europe\", \"order_year\": 2017, \"order_region\": \"Northern Europe\", \"sales\": 3319.3040986697133}, {\"market\": \"Europe\", \"order_year\": 2017, \"order_region\": \"Southern Europe\", \"sales\": 3120.019860137707}, {\"market\": \"Europe\", \"order_year\": 2017, \"order_region\": \"Western Europe\", \"sales\": 9067.96470025532}, {\"market\": \"Latin America\", \"order_year\": 2017, \"order_region\": \"Caribbean\", \"sales\": 4793.956597266018}, {\"market\": \"Latin America\", \"order_year\": 2017, \"order_region\": \"Central America\", \"sales\": 17037.835092140318}, {\"market\": \"Latin America\", \"order_year\": 2017, \"order_region\": \"South America\", \"sales\": 8349.7109386334}, {\"market\": \"Pacific Asia\", \"order_year\": 2017, \"order_region\": \"Australia/New Zealand\", \"sales\": 536.4723386110959}, {\"market\": \"Pacific Asia\", \"order_year\": 2017, \"order_region\": \"Central Asia\", \"sales\": 700.3905994223529}, {\"market\": \"Pacific Asia\", \"order_year\": 2017, \"order_region\": \"Eastern Asia\", \"sales\": 662.478313118274}, {\"market\": \"Pacific Asia\", \"order_year\": 2017, \"order_region\": \"Melanesia\", \"sales\": 1.1644657501369864}, {\"market\": \"Pacific Asia\", \"order_year\": 2017, \"order_region\": \"Southeastern Asia\", \"sales\": 777.1382046729041}, {\"market\": \"Pacific Asia\", \"order_year\": 2017, \"order_region\": \"Southern Asia\", \"sales\": 554.6863662061671}, {\"market\": \"Pacific Asia\", \"order_year\": 2017, \"order_region\": \"Western Asia\", \"sales\": 8402.590724160056}, {\"market\": \"USCA\", \"order_year\": 2017, \"order_region\": \"Northern America\", \"sales\": 1274.28440381625}]}}, {\"mode\": \"vega-lite\"});\n",
       "</script>"
      ],
      "text/plain": [
       "alt.Chart(...)"
      ]
     },
     "execution_count": 264,
     "metadata": {},
     "output_type": "execute_result"
    }
   ],
   "source": [
    "chartAvgSales = alt.Chart(avg_df_2017_sales).mark_bar(orient=\"horizontal\").encode(\n",
    "    y=alt.Y(\"order_region:N\", sort=\"-x\", title=\"Region\"),\n",
    "    x=alt.X(\"sales:Q\", title=\"Sales\"),\n",
    "    color=alt.Color(\"market\", title=\"Market\"),\n",
    "    tooltip=[\"order_region\", \"market\", \"sales\"]\n",
    ").properties(\n",
    "    title=\"Average Daily Sales Across Different Regions and Markets, 2017\",\n",
    "    width=600,\n",
    "    height=450\n",
    ")\n",
    "\n",
    "\n",
    "chartAvgSales"
   ]
  },
  {
   "attachments": {},
   "cell_type": "markdown",
   "metadata": {},
   "source": [
    "Sales and Order Volume Insights:\n",
    "* Western Europe, Central America, and South America are the top three regions in terms of order volume and sales.\n",
    "* Melanesia, Central Asia, and Southern Africa have the lowest order volume and sales.\n",
    "* Western Asia has a high average daily sales value but a low average daily order volume, suggesting high-value orders.\n",
    "\n",
    "Market Performance:\n",
    "* Europe and Latin America markets have the highest sales and order volumes.\n",
    "* Africa has the lowest sales and order volumes among all markets.\n",
    "\n",
    "Recommendations:\n",
    "* Focus on increasing sales and order volume in the low-performing regions such as Melanesia, Central Asia, and Southern Africa. This may involve implementing targeted marketing campaigns or improving the product offerings in these regions.\n",
    "* Maintain and strengthen the position in high-performing regions like Western Europe, Central America, and South America. Keep a close eye on the competition and make sure to continue delivering a great customer experience.\n",
    "* Investigate the high-value orders in Western Asia and identify opportunities to further capitalize on these sales. This may involve identifying the best-selling products and offering promotions or bundle deals to boost sales.\n",
    "* Explore the reasons behind the low order volume in Northern America, despite being part of the USCA market. Consider targeted strategies to increase order volume in this regio*"
   ]
  },
  {
   "attachments": {},
   "cell_type": "markdown",
   "metadata": {},
   "source": [
    "### 2. Delivery Efficiency Analysis"
   ]
  },
  {
   "cell_type": "code",
   "execution_count": 265,
   "metadata": {},
   "outputs": [
    {
     "data": {
      "text/html": [
       "<div>\n",
       "<style scoped>\n",
       "    .dataframe tbody tr th:only-of-type {\n",
       "        vertical-align: middle;\n",
       "    }\n",
       "\n",
       "    .dataframe tbody tr th {\n",
       "        vertical-align: top;\n",
       "    }\n",
       "\n",
       "    .dataframe thead th {\n",
       "        text-align: right;\n",
       "    }\n",
       "</style>\n",
       "<table border=\"1\" class=\"dataframe\">\n",
       "  <thead>\n",
       "    <tr style=\"text-align: right;\">\n",
       "      <th></th>\n",
       "      <th>market</th>\n",
       "      <th>shipping_mode</th>\n",
       "      <th>on_time_delivery</th>\n",
       "    </tr>\n",
       "  </thead>\n",
       "  <tbody>\n",
       "    <tr>\n",
       "      <th>0</th>\n",
       "      <td>Africa</td>\n",
       "      <td>First Class</td>\n",
       "      <td>0.00</td>\n",
       "    </tr>\n",
       "    <tr>\n",
       "      <th>1</th>\n",
       "      <td>Africa</td>\n",
       "      <td>Same Day</td>\n",
       "      <td>53.12</td>\n",
       "    </tr>\n",
       "    <tr>\n",
       "      <th>2</th>\n",
       "      <td>Africa</td>\n",
       "      <td>Second Class</td>\n",
       "      <td>22.73</td>\n",
       "    </tr>\n",
       "    <tr>\n",
       "      <th>3</th>\n",
       "      <td>Africa</td>\n",
       "      <td>Standard Class</td>\n",
       "      <td>62.96</td>\n",
       "    </tr>\n",
       "    <tr>\n",
       "      <th>4</th>\n",
       "      <td>Europe</td>\n",
       "      <td>First Class</td>\n",
       "      <td>0.00</td>\n",
       "    </tr>\n",
       "    <tr>\n",
       "      <th>5</th>\n",
       "      <td>Europe</td>\n",
       "      <td>Same Day</td>\n",
       "      <td>43.24</td>\n",
       "    </tr>\n",
       "    <tr>\n",
       "      <th>6</th>\n",
       "      <td>Europe</td>\n",
       "      <td>Second Class</td>\n",
       "      <td>19.66</td>\n",
       "    </tr>\n",
       "    <tr>\n",
       "      <th>7</th>\n",
       "      <td>Europe</td>\n",
       "      <td>Standard Class</td>\n",
       "      <td>60.91</td>\n",
       "    </tr>\n",
       "    <tr>\n",
       "      <th>8</th>\n",
       "      <td>Latin America</td>\n",
       "      <td>First Class</td>\n",
       "      <td>0.00</td>\n",
       "    </tr>\n",
       "    <tr>\n",
       "      <th>9</th>\n",
       "      <td>Latin America</td>\n",
       "      <td>Same Day</td>\n",
       "      <td>50.98</td>\n",
       "    </tr>\n",
       "    <tr>\n",
       "      <th>10</th>\n",
       "      <td>Latin America</td>\n",
       "      <td>Second Class</td>\n",
       "      <td>21.77</td>\n",
       "    </tr>\n",
       "    <tr>\n",
       "      <th>11</th>\n",
       "      <td>Latin America</td>\n",
       "      <td>Standard Class</td>\n",
       "      <td>60.20</td>\n",
       "    </tr>\n",
       "    <tr>\n",
       "      <th>12</th>\n",
       "      <td>Pacific Asia</td>\n",
       "      <td>First Class</td>\n",
       "      <td>0.00</td>\n",
       "    </tr>\n",
       "    <tr>\n",
       "      <th>13</th>\n",
       "      <td>Pacific Asia</td>\n",
       "      <td>Same Day</td>\n",
       "      <td>43.03</td>\n",
       "    </tr>\n",
       "    <tr>\n",
       "      <th>14</th>\n",
       "      <td>Pacific Asia</td>\n",
       "      <td>Second Class</td>\n",
       "      <td>19.47</td>\n",
       "    </tr>\n",
       "    <tr>\n",
       "      <th>15</th>\n",
       "      <td>Pacific Asia</td>\n",
       "      <td>Standard Class</td>\n",
       "      <td>60.16</td>\n",
       "    </tr>\n",
       "    <tr>\n",
       "      <th>16</th>\n",
       "      <td>USCA</td>\n",
       "      <td>First Class</td>\n",
       "      <td>0.00</td>\n",
       "    </tr>\n",
       "    <tr>\n",
       "      <th>17</th>\n",
       "      <td>USCA</td>\n",
       "      <td>Same Day</td>\n",
       "      <td>80.00</td>\n",
       "    </tr>\n",
       "    <tr>\n",
       "      <th>18</th>\n",
       "      <td>USCA</td>\n",
       "      <td>Second Class</td>\n",
       "      <td>13.04</td>\n",
       "    </tr>\n",
       "    <tr>\n",
       "      <th>19</th>\n",
       "      <td>USCA</td>\n",
       "      <td>Standard Class</td>\n",
       "      <td>67.61</td>\n",
       "    </tr>\n",
       "  </tbody>\n",
       "</table>\n",
       "</div>"
      ],
      "text/plain": [
       "           market   shipping_mode  on_time_delivery\n",
       "0          Africa     First Class              0.00\n",
       "1          Africa        Same Day             53.12\n",
       "2          Africa    Second Class             22.73\n",
       "3          Africa  Standard Class             62.96\n",
       "4          Europe     First Class              0.00\n",
       "5          Europe        Same Day             43.24\n",
       "6          Europe    Second Class             19.66\n",
       "7          Europe  Standard Class             60.91\n",
       "8   Latin America     First Class              0.00\n",
       "9   Latin America        Same Day             50.98\n",
       "10  Latin America    Second Class             21.77\n",
       "11  Latin America  Standard Class             60.20\n",
       "12   Pacific Asia     First Class              0.00\n",
       "13   Pacific Asia        Same Day             43.03\n",
       "14   Pacific Asia    Second Class             19.47\n",
       "15   Pacific Asia  Standard Class             60.16\n",
       "16           USCA     First Class              0.00\n",
       "17           USCA        Same Day             80.00\n",
       "18           USCA    Second Class             13.04\n",
       "19           USCA  Standard Class             67.61"
      ]
     },
     "execution_count": 265,
     "metadata": {},
     "output_type": "execute_result"
    }
   ],
   "source": [
    "# Calculate the On-Time Delivery Rate (OTD) using late_delivery_risk column\n",
    "otd_market = df_2017.groupby([\"market\", \"shipping_mode\"])[\"late_delivery_risk\"].apply(lambda x: (1 - x.mean()) * 100).reset_index()\n",
    "\n",
    "# Rename the late_delivery_risk column to on_time_delivery\n",
    "otd_market.rename(columns={\"late_delivery_risk\": \"on_time_delivery\"}, inplace=True)\n",
    "otd_market[\"on_time_delivery\"] = round(otd_market[\"on_time_delivery\"], 2)\n",
    "\n",
    "otd_market"
   ]
  },
  {
   "cell_type": "code",
   "execution_count": 266,
   "metadata": {},
   "outputs": [
    {
     "data": {
      "text/html": [
       "\n",
       "<div id=\"altair-viz-485aeb28d63c4c99ace47993009cff59\"></div>\n",
       "<script type=\"text/javascript\">\n",
       "  var VEGA_DEBUG = (typeof VEGA_DEBUG == \"undefined\") ? {} : VEGA_DEBUG;\n",
       "  (function(spec, embedOpt){\n",
       "    let outputDiv = document.currentScript.previousElementSibling;\n",
       "    if (outputDiv.id !== \"altair-viz-485aeb28d63c4c99ace47993009cff59\") {\n",
       "      outputDiv = document.getElementById(\"altair-viz-485aeb28d63c4c99ace47993009cff59\");\n",
       "    }\n",
       "    const paths = {\n",
       "      \"vega\": \"https://cdn.jsdelivr.net/npm//vega@5?noext\",\n",
       "      \"vega-lib\": \"https://cdn.jsdelivr.net/npm//vega-lib?noext\",\n",
       "      \"vega-lite\": \"https://cdn.jsdelivr.net/npm//vega-lite@4.17.0?noext\",\n",
       "      \"vega-embed\": \"https://cdn.jsdelivr.net/npm//vega-embed@6?noext\",\n",
       "    };\n",
       "\n",
       "    function maybeLoadScript(lib, version) {\n",
       "      var key = `${lib.replace(\"-\", \"\")}_version`;\n",
       "      return (VEGA_DEBUG[key] == version) ?\n",
       "        Promise.resolve(paths[lib]) :\n",
       "        new Promise(function(resolve, reject) {\n",
       "          var s = document.createElement('script');\n",
       "          document.getElementsByTagName(\"head\")[0].appendChild(s);\n",
       "          s.async = true;\n",
       "          s.onload = () => {\n",
       "            VEGA_DEBUG[key] = version;\n",
       "            return resolve(paths[lib]);\n",
       "          };\n",
       "          s.onerror = () => reject(`Error loading script: ${paths[lib]}`);\n",
       "          s.src = paths[lib];\n",
       "        });\n",
       "    }\n",
       "\n",
       "    function showError(err) {\n",
       "      outputDiv.innerHTML = `<div class=\"error\" style=\"color:red;\">${err}</div>`;\n",
       "      throw err;\n",
       "    }\n",
       "\n",
       "    function displayChart(vegaEmbed) {\n",
       "      vegaEmbed(outputDiv, spec, embedOpt)\n",
       "        .catch(err => showError(`Javascript Error: ${err.message}<br>This usually means there's a typo in your chart specification. See the javascript console for the full traceback.`));\n",
       "    }\n",
       "\n",
       "    if(typeof define === \"function\" && define.amd) {\n",
       "      requirejs.config({paths});\n",
       "      require([\"vega-embed\"], displayChart, err => showError(`Error loading script: ${err.message}`));\n",
       "    } else {\n",
       "      maybeLoadScript(\"vega\", \"5\")\n",
       "        .then(() => maybeLoadScript(\"vega-lite\", \"4.17.0\"))\n",
       "        .then(() => maybeLoadScript(\"vega-embed\", \"6\"))\n",
       "        .catch(showError)\n",
       "        .then(() => displayChart(vegaEmbed));\n",
       "    }\n",
       "  })({\"config\": {\"view\": {\"continuousWidth\": 400, \"continuousHeight\": 300}}, \"data\": {\"name\": \"data-530de677d22307273cae6b94c6a445be\"}, \"mark\": \"bar\", \"encoding\": {\"color\": {\"field\": \"shipping_mode\", \"title\": \"Shipping Mode\", \"type\": \"nominal\"}, \"column\": {\"field\": \"market\", \"title\": \"Market\", \"type\": \"nominal\"}, \"tooltip\": [{\"field\": \"market\", \"type\": \"nominal\"}, {\"field\": \"shipping_mode\", \"type\": \"nominal\"}, {\"field\": \"on_time_delivery\", \"type\": \"quantitative\"}], \"x\": {\"field\": \"shipping_mode\", \"sort\": [\"Same Day\", \"First Class\", \"Second Class\", \"Standard Class\"], \"title\": \"Shipping Mode\", \"type\": \"nominal\"}, \"y\": {\"field\": \"on_time_delivery\", \"scale\": {\"domain\": [0, 100]}, \"title\": \"On-Time Delivery Rate (%)\", \"type\": \"quantitative\"}}, \"height\": 300, \"title\": {\"text\": \"On time Delivery Rate Across Market and Shipping Mode, 2017\", \"anchor\": \"middle\", \"offset\": 10}, \"width\": 150, \"$schema\": \"https://vega.github.io/schema/vega-lite/v4.17.0.json\", \"datasets\": {\"data-530de677d22307273cae6b94c6a445be\": [{\"market\": \"Africa\", \"shipping_mode\": \"First Class\", \"on_time_delivery\": 0.0}, {\"market\": \"Africa\", \"shipping_mode\": \"Same Day\", \"on_time_delivery\": 53.12}, {\"market\": \"Africa\", \"shipping_mode\": \"Second Class\", \"on_time_delivery\": 22.73}, {\"market\": \"Africa\", \"shipping_mode\": \"Standard Class\", \"on_time_delivery\": 62.96}, {\"market\": \"Europe\", \"shipping_mode\": \"First Class\", \"on_time_delivery\": 0.0}, {\"market\": \"Europe\", \"shipping_mode\": \"Same Day\", \"on_time_delivery\": 43.24}, {\"market\": \"Europe\", \"shipping_mode\": \"Second Class\", \"on_time_delivery\": 19.66}, {\"market\": \"Europe\", \"shipping_mode\": \"Standard Class\", \"on_time_delivery\": 60.91}, {\"market\": \"Latin America\", \"shipping_mode\": \"First Class\", \"on_time_delivery\": 0.0}, {\"market\": \"Latin America\", \"shipping_mode\": \"Same Day\", \"on_time_delivery\": 50.98}, {\"market\": \"Latin America\", \"shipping_mode\": \"Second Class\", \"on_time_delivery\": 21.77}, {\"market\": \"Latin America\", \"shipping_mode\": \"Standard Class\", \"on_time_delivery\": 60.2}, {\"market\": \"Pacific Asia\", \"shipping_mode\": \"First Class\", \"on_time_delivery\": 0.0}, {\"market\": \"Pacific Asia\", \"shipping_mode\": \"Same Day\", \"on_time_delivery\": 43.03}, {\"market\": \"Pacific Asia\", \"shipping_mode\": \"Second Class\", \"on_time_delivery\": 19.47}, {\"market\": \"Pacific Asia\", \"shipping_mode\": \"Standard Class\", \"on_time_delivery\": 60.16}, {\"market\": \"USCA\", \"shipping_mode\": \"First Class\", \"on_time_delivery\": 0.0}, {\"market\": \"USCA\", \"shipping_mode\": \"Same Day\", \"on_time_delivery\": 80.0}, {\"market\": \"USCA\", \"shipping_mode\": \"Second Class\", \"on_time_delivery\": 13.04}, {\"market\": \"USCA\", \"shipping_mode\": \"Standard Class\", \"on_time_delivery\": 67.61}]}}, {\"mode\": \"vega-lite\"});\n",
       "</script>"
      ],
      "text/plain": [
       "alt.Chart(...)"
      ]
     },
     "execution_count": 266,
     "metadata": {},
     "output_type": "execute_result"
    }
   ],
   "source": [
    "# Define the desired order for the x-axis values\n",
    "shipping_mode_order = [\"Same Day\", \"First Class\", \"Second Class\", \"Standard Class\"]\n",
    "\n",
    "otd_chart = alt.Chart(otd_market).mark_bar().encode(\n",
    "    x=alt.X(\"shipping_mode:N\", title=\"Shipping Mode\", sort=shipping_mode_order),\n",
    "    y=alt.Y(\"on_time_delivery:Q\", title=\"On-Time Delivery Rate (%)\", scale=alt.Scale(domain=(0, 100))),\n",
    "    color=alt.Color(\"shipping_mode:N\", title=\"Shipping Mode\"),\n",
    "    column=alt.Column(\"market:N\", title=\"Market\"),\n",
    "    tooltip=[\"market\", \"shipping_mode\", \"on_time_delivery\"]\n",
    ").properties(\n",
    "    title=alt.TitleParams(\n",
    "        text=\"On time Delivery Rate Across Market and Shipping Mode, 2017\",\n",
    "        anchor=\"middle\",\n",
    "        offset=10\n",
    "    ),\n",
    "    width=150,\n",
    "    height=300\n",
    ")\n",
    "\n",
    "otd_chart"
   ]
  },
  {
   "cell_type": "code",
   "execution_count": 267,
   "metadata": {},
   "outputs": [
    {
     "data": {
      "text/html": [
       "<div>\n",
       "<style scoped>\n",
       "    .dataframe tbody tr th:only-of-type {\n",
       "        vertical-align: middle;\n",
       "    }\n",
       "\n",
       "    .dataframe tbody tr th {\n",
       "        vertical-align: top;\n",
       "    }\n",
       "\n",
       "    .dataframe thead th {\n",
       "        text-align: right;\n",
       "    }\n",
       "</style>\n",
       "<table border=\"1\" class=\"dataframe\">\n",
       "  <thead>\n",
       "    <tr style=\"text-align: right;\">\n",
       "      <th></th>\n",
       "      <th>market</th>\n",
       "      <th>shipping_mode</th>\n",
       "      <th>days_for_shipping_real</th>\n",
       "      <th>days_for_shipment_scheduled</th>\n",
       "    </tr>\n",
       "  </thead>\n",
       "  <tbody>\n",
       "    <tr>\n",
       "      <th>0</th>\n",
       "      <td>Africa</td>\n",
       "      <td>First Class</td>\n",
       "      <td>2.00</td>\n",
       "      <td>1.00</td>\n",
       "    </tr>\n",
       "    <tr>\n",
       "      <th>1</th>\n",
       "      <td>Africa</td>\n",
       "      <td>Same Day</td>\n",
       "      <td>0.47</td>\n",
       "      <td>0.00</td>\n",
       "    </tr>\n",
       "    <tr>\n",
       "      <th>2</th>\n",
       "      <td>Africa</td>\n",
       "      <td>Second Class</td>\n",
       "      <td>3.72</td>\n",
       "      <td>2.00</td>\n",
       "    </tr>\n",
       "    <tr>\n",
       "      <th>3</th>\n",
       "      <td>Africa</td>\n",
       "      <td>Standard Class</td>\n",
       "      <td>4.02</td>\n",
       "      <td>4.00</td>\n",
       "    </tr>\n",
       "    <tr>\n",
       "      <th>4</th>\n",
       "      <td>Europe</td>\n",
       "      <td>First Class</td>\n",
       "      <td>2.00</td>\n",
       "      <td>1.00</td>\n",
       "    </tr>\n",
       "    <tr>\n",
       "      <th>5</th>\n",
       "      <td>Europe</td>\n",
       "      <td>Same Day</td>\n",
       "      <td>0.57</td>\n",
       "      <td>0.00</td>\n",
       "    </tr>\n",
       "    <tr>\n",
       "      <th>6</th>\n",
       "      <td>Europe</td>\n",
       "      <td>Second Class</td>\n",
       "      <td>3.99</td>\n",
       "      <td>2.00</td>\n",
       "    </tr>\n",
       "    <tr>\n",
       "      <th>7</th>\n",
       "      <td>Europe</td>\n",
       "      <td>Standard Class</td>\n",
       "      <td>3.97</td>\n",
       "      <td>4.00</td>\n",
       "    </tr>\n",
       "    <tr>\n",
       "      <th>8</th>\n",
       "      <td>Latin America</td>\n",
       "      <td>First Class</td>\n",
       "      <td>2.00</td>\n",
       "      <td>1.00</td>\n",
       "    </tr>\n",
       "    <tr>\n",
       "      <th>9</th>\n",
       "      <td>Latin America</td>\n",
       "      <td>Same Day</td>\n",
       "      <td>0.49</td>\n",
       "      <td>0.00</td>\n",
       "    </tr>\n",
       "    <tr>\n",
       "      <th>10</th>\n",
       "      <td>Latin America</td>\n",
       "      <td>Second Class</td>\n",
       "      <td>3.98</td>\n",
       "      <td>2.00</td>\n",
       "    </tr>\n",
       "    <tr>\n",
       "      <th>11</th>\n",
       "      <td>Latin America</td>\n",
       "      <td>Standard Class</td>\n",
       "      <td>3.99</td>\n",
       "      <td>4.00</td>\n",
       "    </tr>\n",
       "    <tr>\n",
       "      <th>12</th>\n",
       "      <td>Pacific Asia</td>\n",
       "      <td>First Class</td>\n",
       "      <td>2.00</td>\n",
       "      <td>1.00</td>\n",
       "    </tr>\n",
       "    <tr>\n",
       "      <th>13</th>\n",
       "      <td>Pacific Asia</td>\n",
       "      <td>Same Day</td>\n",
       "      <td>0.57</td>\n",
       "      <td>0.00</td>\n",
       "    </tr>\n",
       "    <tr>\n",
       "      <th>14</th>\n",
       "      <td>Pacific Asia</td>\n",
       "      <td>Second Class</td>\n",
       "      <td>4.07</td>\n",
       "      <td>2.00</td>\n",
       "    </tr>\n",
       "    <tr>\n",
       "      <th>15</th>\n",
       "      <td>Pacific Asia</td>\n",
       "      <td>Standard Class</td>\n",
       "      <td>3.99</td>\n",
       "      <td>4.00</td>\n",
       "    </tr>\n",
       "    <tr>\n",
       "      <th>16</th>\n",
       "      <td>USCA</td>\n",
       "      <td>First Class</td>\n",
       "      <td>2.00</td>\n",
       "      <td>1.00</td>\n",
       "    </tr>\n",
       "    <tr>\n",
       "      <th>17</th>\n",
       "      <td>USCA</td>\n",
       "      <td>Same Day</td>\n",
       "      <td>0.20</td>\n",
       "      <td>0.00</td>\n",
       "    </tr>\n",
       "    <tr>\n",
       "      <th>18</th>\n",
       "      <td>USCA</td>\n",
       "      <td>Second Class</td>\n",
       "      <td>3.61</td>\n",
       "      <td>2.00</td>\n",
       "    </tr>\n",
       "    <tr>\n",
       "      <th>19</th>\n",
       "      <td>USCA</td>\n",
       "      <td>Standard Class</td>\n",
       "      <td>3.83</td>\n",
       "      <td>4.00</td>\n",
       "    </tr>\n",
       "  </tbody>\n",
       "</table>\n",
       "</div>"
      ],
      "text/plain": [
       "           market   shipping_mode  days_for_shipping_real  \\\n",
       "0          Africa     First Class                    2.00   \n",
       "1          Africa        Same Day                    0.47   \n",
       "2          Africa    Second Class                    3.72   \n",
       "3          Africa  Standard Class                    4.02   \n",
       "4          Europe     First Class                    2.00   \n",
       "5          Europe        Same Day                    0.57   \n",
       "6          Europe    Second Class                    3.99   \n",
       "7          Europe  Standard Class                    3.97   \n",
       "8   Latin America     First Class                    2.00   \n",
       "9   Latin America        Same Day                    0.49   \n",
       "10  Latin America    Second Class                    3.98   \n",
       "11  Latin America  Standard Class                    3.99   \n",
       "12   Pacific Asia     First Class                    2.00   \n",
       "13   Pacific Asia        Same Day                    0.57   \n",
       "14   Pacific Asia    Second Class                    4.07   \n",
       "15   Pacific Asia  Standard Class                    3.99   \n",
       "16           USCA     First Class                    2.00   \n",
       "17           USCA        Same Day                    0.20   \n",
       "18           USCA    Second Class                    3.61   \n",
       "19           USCA  Standard Class                    3.83   \n",
       "\n",
       "    days_for_shipment_scheduled  \n",
       "0                          1.00  \n",
       "1                          0.00  \n",
       "2                          2.00  \n",
       "3                          4.00  \n",
       "4                          1.00  \n",
       "5                          0.00  \n",
       "6                          2.00  \n",
       "7                          4.00  \n",
       "8                          1.00  \n",
       "9                          0.00  \n",
       "10                         2.00  \n",
       "11                         4.00  \n",
       "12                         1.00  \n",
       "13                         0.00  \n",
       "14                         2.00  \n",
       "15                         4.00  \n",
       "16                         1.00  \n",
       "17                         0.00  \n",
       "18                         2.00  \n",
       "19                         4.00  "
      ]
     },
     "execution_count": 267,
     "metadata": {},
     "output_type": "execute_result"
    }
   ],
   "source": [
    "# Calculate the average days for shipping (actual vs. scheduled)\n",
    "avg_shipping_days = df_2017.groupby([\"market\", \"shipping_mode\"]).agg({\n",
    "    \"days_for_shipping_real\": \"mean\",\n",
    "    \"days_for_shipment_scheduled\": \"mean\"\n",
    "}).reset_index()\n",
    "\n",
    "avg_shipping_days"
   ]
  },
  {
   "cell_type": "code",
   "execution_count": 268,
   "metadata": {},
   "outputs": [
    {
     "data": {
      "text/html": [
       "\n",
       "<div id=\"altair-viz-bc11fbcbedd2453cb37b4aeb8f6437d6\"></div>\n",
       "<script type=\"text/javascript\">\n",
       "  var VEGA_DEBUG = (typeof VEGA_DEBUG == \"undefined\") ? {} : VEGA_DEBUG;\n",
       "  (function(spec, embedOpt){\n",
       "    let outputDiv = document.currentScript.previousElementSibling;\n",
       "    if (outputDiv.id !== \"altair-viz-bc11fbcbedd2453cb37b4aeb8f6437d6\") {\n",
       "      outputDiv = document.getElementById(\"altair-viz-bc11fbcbedd2453cb37b4aeb8f6437d6\");\n",
       "    }\n",
       "    const paths = {\n",
       "      \"vega\": \"https://cdn.jsdelivr.net/npm//vega@5?noext\",\n",
       "      \"vega-lib\": \"https://cdn.jsdelivr.net/npm//vega-lib?noext\",\n",
       "      \"vega-lite\": \"https://cdn.jsdelivr.net/npm//vega-lite@4.17.0?noext\",\n",
       "      \"vega-embed\": \"https://cdn.jsdelivr.net/npm//vega-embed@6?noext\",\n",
       "    };\n",
       "\n",
       "    function maybeLoadScript(lib, version) {\n",
       "      var key = `${lib.replace(\"-\", \"\")}_version`;\n",
       "      return (VEGA_DEBUG[key] == version) ?\n",
       "        Promise.resolve(paths[lib]) :\n",
       "        new Promise(function(resolve, reject) {\n",
       "          var s = document.createElement('script');\n",
       "          document.getElementsByTagName(\"head\")[0].appendChild(s);\n",
       "          s.async = true;\n",
       "          s.onload = () => {\n",
       "            VEGA_DEBUG[key] = version;\n",
       "            return resolve(paths[lib]);\n",
       "          };\n",
       "          s.onerror = () => reject(`Error loading script: ${paths[lib]}`);\n",
       "          s.src = paths[lib];\n",
       "        });\n",
       "    }\n",
       "\n",
       "    function showError(err) {\n",
       "      outputDiv.innerHTML = `<div class=\"error\" style=\"color:red;\">${err}</div>`;\n",
       "      throw err;\n",
       "    }\n",
       "\n",
       "    function displayChart(vegaEmbed) {\n",
       "      vegaEmbed(outputDiv, spec, embedOpt)\n",
       "        .catch(err => showError(`Javascript Error: ${err.message}<br>This usually means there's a typo in your chart specification. See the javascript console for the full traceback.`));\n",
       "    }\n",
       "\n",
       "    if(typeof define === \"function\" && define.amd) {\n",
       "      requirejs.config({paths});\n",
       "      require([\"vega-embed\"], displayChart, err => showError(`Error loading script: ${err.message}`));\n",
       "    } else {\n",
       "      maybeLoadScript(\"vega\", \"5\")\n",
       "        .then(() => maybeLoadScript(\"vega-lite\", \"4.17.0\"))\n",
       "        .then(() => maybeLoadScript(\"vega-embed\", \"6\"))\n",
       "        .catch(showError)\n",
       "        .then(() => displayChart(vegaEmbed));\n",
       "    }\n",
       "  })({\"config\": {\"view\": {\"continuousWidth\": 400, \"continuousHeight\": 300}}, \"data\": {\"name\": \"data-f7ca502d00e97a1965041892b21432aa\"}, \"mark\": \"bar\", \"encoding\": {\"color\": {\"field\": \"shipping_mode\", \"title\": \"Shipping Mode\", \"type\": \"nominal\"}, \"column\": {\"field\": \"market\", \"title\": \"Market\", \"type\": \"nominal\"}, \"tooltip\": [{\"field\": \"market\", \"type\": \"nominal\"}, {\"field\": \"shipping_mode\", \"type\": \"nominal\"}, {\"field\": \"days_for_shipping_real\", \"type\": \"quantitative\"}, {\"field\": \"days_for_shipment_scheduled\", \"type\": \"quantitative\"}], \"x\": {\"field\": \"shipping_mode\", \"sort\": [\"Same Day\", \"First Class\", \"Second Class\", \"Standard Class\"], \"title\": \"Shipping Mode\", \"type\": \"nominal\"}, \"y\": {\"field\": \"days_for_shipping_real\", \"title\": \"Average Days for Shipping (Real)\", \"type\": \"quantitative\"}, \"y2\": {\"field\": \"days_for_shipment_scheduled\", \"title\": \"Average Days for Shipping (Scheduled)\"}}, \"height\": 300, \"title\": {\"text\": \"Average Days for Shipping Real vs Scheduled Across Market and Shipping Mode, 2017\", \"anchor\": \"middle\", \"offset\": 10}, \"width\": 150, \"$schema\": \"https://vega.github.io/schema/vega-lite/v4.17.0.json\", \"datasets\": {\"data-f7ca502d00e97a1965041892b21432aa\": [{\"market\": \"Africa\", \"shipping_mode\": \"First Class\", \"days_for_shipping_real\": 2.0, \"days_for_shipment_scheduled\": 1.0}, {\"market\": \"Africa\", \"shipping_mode\": \"Same Day\", \"days_for_shipping_real\": 0.46875, \"days_for_shipment_scheduled\": 0.0}, {\"market\": \"Africa\", \"shipping_mode\": \"Second Class\", \"days_for_shipping_real\": 3.7231404958677685, \"days_for_shipment_scheduled\": 2.0}, {\"market\": \"Africa\", \"shipping_mode\": \"Standard Class\", \"days_for_shipping_real\": 4.019157088122605, \"days_for_shipment_scheduled\": 4.0}, {\"market\": \"Europe\", \"shipping_mode\": \"First Class\", \"days_for_shipping_real\": 2.0, \"days_for_shipment_scheduled\": 1.0}, {\"market\": \"Europe\", \"shipping_mode\": \"Same Day\", \"days_for_shipping_real\": 0.5675675675675675, \"days_for_shipment_scheduled\": 0.0}, {\"market\": \"Europe\", \"shipping_mode\": \"Second Class\", \"days_for_shipping_real\": 3.9902176571288823, \"days_for_shipment_scheduled\": 2.0}, {\"market\": \"Europe\", \"shipping_mode\": \"Standard Class\", \"days_for_shipping_real\": 3.971200526618942, \"days_for_shipment_scheduled\": 4.0}, {\"market\": \"Latin America\", \"shipping_mode\": \"First Class\", \"days_for_shipping_real\": 2.0, \"days_for_shipment_scheduled\": 1.0}, {\"market\": \"Latin America\", \"shipping_mode\": \"Same Day\", \"days_for_shipping_real\": 0.49024199843871974, \"days_for_shipment_scheduled\": 0.0}, {\"market\": \"Latin America\", \"shipping_mode\": \"Second Class\", \"days_for_shipping_real\": 3.9765708200212995, \"days_for_shipment_scheduled\": 2.0}, {\"market\": \"Latin America\", \"shipping_mode\": \"Standard Class\", \"days_for_shipping_real\": 3.992594569350857, \"days_for_shipment_scheduled\": 4.0}, {\"market\": \"Pacific Asia\", \"shipping_mode\": \"First Class\", \"days_for_shipping_real\": 2.0, \"days_for_shipment_scheduled\": 1.0}, {\"market\": \"Pacific Asia\", \"shipping_mode\": \"Same Day\", \"days_for_shipping_real\": 0.5697211155378487, \"days_for_shipment_scheduled\": 0.0}, {\"market\": \"Pacific Asia\", \"shipping_mode\": \"Second Class\", \"days_for_shipping_real\": 4.070276497695852, \"days_for_shipment_scheduled\": 2.0}, {\"market\": \"Pacific Asia\", \"shipping_mode\": \"Standard Class\", \"days_for_shipping_real\": 3.9915482135996925, \"days_for_shipment_scheduled\": 4.0}, {\"market\": \"USCA\", \"shipping_mode\": \"First Class\", \"days_for_shipping_real\": 2.0, \"days_for_shipment_scheduled\": 1.0}, {\"market\": \"USCA\", \"shipping_mode\": \"Same Day\", \"days_for_shipping_real\": 0.2, \"days_for_shipment_scheduled\": 0.0}, {\"market\": \"USCA\", \"shipping_mode\": \"Second Class\", \"days_for_shipping_real\": 3.608695652173913, \"days_for_shipment_scheduled\": 2.0}, {\"market\": \"USCA\", \"shipping_mode\": \"Standard Class\", \"days_for_shipping_real\": 3.8309859154929575, \"days_for_shipment_scheduled\": 4.0}]}}, {\"mode\": \"vega-lite\"});\n",
       "</script>"
      ],
      "text/plain": [
       "alt.Chart(...)"
      ]
     },
     "execution_count": 268,
     "metadata": {},
     "output_type": "execute_result"
    }
   ],
   "source": [
    "# Define the desired order for the x-axis values\n",
    "shipping_mode_order = [\"Same Day\", \"First Class\", \"Second Class\", \"Standard Class\"]\n",
    "\n",
    "# Average days for shipping (actual vs. scheduled) by Region, Market, and Shipping Mode\n",
    "avg_shipping_days_chart = alt.Chart(avg_shipping_days).mark_bar().encode(\n",
    "    x=alt.X(\"shipping_mode:N\", title=\"Shipping Mode\", sort=shipping_mode_order),\n",
    "    y=alt.Y(\"days_for_shipping_real:Q\", title=\"Average Days for Shipping (Real)\"),\n",
    "    y2=alt.Y2(\"days_for_shipment_scheduled:Q\", title=\"Average Days for Shipping (Scheduled)\"),\n",
    "    color=alt.Color(\"shipping_mode:N\", title=\"Shipping Mode\"),\n",
    "    column=alt.Column(\"market:N\", title=\"Market\"),\n",
    "    tooltip=[\"market\", \"shipping_mode\", \"days_for_shipping_real\", \"days_for_shipment_scheduled\"]\n",
    ").properties(\n",
    "    title=alt.TitleParams(\n",
    "        text=\"Average Days for Shipping Real vs Scheduled Across Market and Shipping Mode, 2017\",\n",
    "        anchor=\"middle\",\n",
    "        offset=10\n",
    "    ),\n",
    "    width=150,\n",
    "    height=300\n",
    ")\n",
    "\n",
    "avg_shipping_days_chart"
   ]
  },
  {
   "attachments": {},
   "cell_type": "markdown",
   "metadata": {},
   "source": [
    "On-Time Delivery (OTD) Insights:\n",
    "* First Class shipping has a 0% on-time delivery rate across all markets, indicating significant inefficiencies.\n",
    "* Same Day shipping has the highest on-time delivery rate in the USCA market (80%), but it\"s lower in other markets.\n",
    "* Standard Class shipping generally performs better than Second Class shipping in terms of on-time delivery, with the best performance in the Africa market (62.96%).\n",
    "\n",
    "Average Shipping Days Insights:\n",
    "* First Class shipping takes 2 days on average, while it is scheduled for 1 day, indicating a discrepancy between the actual and scheduled shipping time.\n",
    "* Same Day shipping is faster than scheduled across all markets, with the best performance in the USCA market (0.20 days on average).\n",
    "* Second Class shipping generally takes longer than scheduled, with the biggest discrepancy in the Pacific Asia market (4.07 days on average vs. 2 days scheduled).\n",
    "* Standard Class shipping meets the scheduled shipping time in Africa, Latin America, and Pacific Asia markets, but it\"s slightly faster in the Europe and USCA markets.\n",
    "\n",
    "Recommendations:\n",
    "* Investigate and address the issues causing the 0% on-time delivery rate for First Class shipping across all markets. This may involve analyzing the causes of delays and implementing process improvements or working closely with shipping partners.\n",
    "* Monitor and improve the shipping performance for Second Class shipping, as it consistently takes longer than scheduled. Consider collaborating with shipping partners to identify bottlenecks and develop solutions to reduce shipping time.\n",
    "* Maintain the good performance of Standard Class shipping in terms of meeting or exceeding the scheduled shipping time, and aim to replicate the faster-than-scheduled performance observed in Europe and USCA markets across all regions."
   ]
  },
  {
   "attachments": {},
   "cell_type": "markdown",
   "metadata": {},
   "source": [
    "### 3. Products Performance Analysis"
   ]
  },
  {
   "cell_type": "code",
   "execution_count": 269,
   "metadata": {},
   "outputs": [
    {
     "data": {
      "text/html": [
       "<div>\n",
       "<style scoped>\n",
       "    .dataframe tbody tr th:only-of-type {\n",
       "        vertical-align: middle;\n",
       "    }\n",
       "\n",
       "    .dataframe tbody tr th {\n",
       "        vertical-align: top;\n",
       "    }\n",
       "\n",
       "    .dataframe thead th {\n",
       "        text-align: right;\n",
       "    }\n",
       "</style>\n",
       "<table border=\"1\" class=\"dataframe\">\n",
       "  <thead>\n",
       "    <tr style=\"text-align: right;\">\n",
       "      <th></th>\n",
       "      <th>market</th>\n",
       "      <th>category_name</th>\n",
       "      <th>sales</th>\n",
       "    </tr>\n",
       "  </thead>\n",
       "  <tbody>\n",
       "    <tr>\n",
       "      <th>0</th>\n",
       "      <td>Africa</td>\n",
       "      <td>Fishing</td>\n",
       "      <td>46397.68</td>\n",
       "    </tr>\n",
       "    <tr>\n",
       "      <th>1</th>\n",
       "      <td>Africa</td>\n",
       "      <td>Cleats</td>\n",
       "      <td>33654.39</td>\n",
       "    </tr>\n",
       "    <tr>\n",
       "      <th>2</th>\n",
       "      <td>Africa</td>\n",
       "      <td>Cardio Equipment</td>\n",
       "      <td>29567.10</td>\n",
       "    </tr>\n",
       "    <tr>\n",
       "      <th>3</th>\n",
       "      <td>Africa</td>\n",
       "      <td>Camping &amp; Hiking</td>\n",
       "      <td>27598.16</td>\n",
       "    </tr>\n",
       "    <tr>\n",
       "      <th>4</th>\n",
       "      <td>Africa</td>\n",
       "      <td>Women's Apparel</td>\n",
       "      <td>22400.00</td>\n",
       "    </tr>\n",
       "    <tr>\n",
       "      <th>5</th>\n",
       "      <td>Europe</td>\n",
       "      <td>Fishing</td>\n",
       "      <td>751162.46</td>\n",
       "    </tr>\n",
       "    <tr>\n",
       "      <th>6</th>\n",
       "      <td>Europe</td>\n",
       "      <td>Computers</td>\n",
       "      <td>507000.00</td>\n",
       "    </tr>\n",
       "    <tr>\n",
       "      <th>7</th>\n",
       "      <td>Europe</td>\n",
       "      <td>Cleats</td>\n",
       "      <td>463004.27</td>\n",
       "    </tr>\n",
       "    <tr>\n",
       "      <th>8</th>\n",
       "      <td>Europe</td>\n",
       "      <td>Camping &amp; Hiking</td>\n",
       "      <td>426871.56</td>\n",
       "    </tr>\n",
       "    <tr>\n",
       "      <th>9</th>\n",
       "      <td>Europe</td>\n",
       "      <td>Cardio Equipment</td>\n",
       "      <td>389511.06</td>\n",
       "    </tr>\n",
       "    <tr>\n",
       "      <th>10</th>\n",
       "      <td>Latin America</td>\n",
       "      <td>Fishing</td>\n",
       "      <td>976751.19</td>\n",
       "    </tr>\n",
       "    <tr>\n",
       "      <th>11</th>\n",
       "      <td>Latin America</td>\n",
       "      <td>Camping &amp; Hiking</td>\n",
       "      <td>623658.44</td>\n",
       "    </tr>\n",
       "    <tr>\n",
       "      <th>12</th>\n",
       "      <td>Latin America</td>\n",
       "      <td>Cleats</td>\n",
       "      <td>620176.64</td>\n",
       "    </tr>\n",
       "    <tr>\n",
       "      <th>13</th>\n",
       "      <td>Latin America</td>\n",
       "      <td>Cardio Equipment</td>\n",
       "      <td>526537.65</td>\n",
       "    </tr>\n",
       "    <tr>\n",
       "      <th>14</th>\n",
       "      <td>Latin America</td>\n",
       "      <td>Women's Apparel</td>\n",
       "      <td>449550.00</td>\n",
       "    </tr>\n",
       "    <tr>\n",
       "      <th>15</th>\n",
       "      <td>Pacific Asia</td>\n",
       "      <td>Garden</td>\n",
       "      <td>199184.93</td>\n",
       "    </tr>\n",
       "    <tr>\n",
       "      <th>16</th>\n",
       "      <td>Pacific Asia</td>\n",
       "      <td>Computers</td>\n",
       "      <td>130500.00</td>\n",
       "    </tr>\n",
       "    <tr>\n",
       "      <th>17</th>\n",
       "      <td>Pacific Asia</td>\n",
       "      <td>Crafts</td>\n",
       "      <td>111216.68</td>\n",
       "    </tr>\n",
       "    <tr>\n",
       "      <th>18</th>\n",
       "      <td>Pacific Asia</td>\n",
       "      <td>Music</td>\n",
       "      <td>73503.30</td>\n",
       "    </tr>\n",
       "    <tr>\n",
       "      <th>19</th>\n",
       "      <td>Pacific Asia</td>\n",
       "      <td>Health and Beauty</td>\n",
       "      <td>66813.12</td>\n",
       "    </tr>\n",
       "    <tr>\n",
       "      <th>20</th>\n",
       "      <td>USCA</td>\n",
       "      <td>Camping &amp; Hiking</td>\n",
       "      <td>4199.72</td>\n",
       "    </tr>\n",
       "    <tr>\n",
       "      <th>21</th>\n",
       "      <td>USCA</td>\n",
       "      <td>Cleats</td>\n",
       "      <td>2939.51</td>\n",
       "    </tr>\n",
       "    <tr>\n",
       "      <th>22</th>\n",
       "      <td>USCA</td>\n",
       "      <td>Cardio Equipment</td>\n",
       "      <td>2599.74</td>\n",
       "    </tr>\n",
       "    <tr>\n",
       "      <th>23</th>\n",
       "      <td>USCA</td>\n",
       "      <td>Men's Footwear</td>\n",
       "      <td>1949.85</td>\n",
       "    </tr>\n",
       "    <tr>\n",
       "      <th>24</th>\n",
       "      <td>USCA</td>\n",
       "      <td>Women's Apparel</td>\n",
       "      <td>1800.00</td>\n",
       "    </tr>\n",
       "  </tbody>\n",
       "</table>\n",
       "</div>"
      ],
      "text/plain": [
       "           market      category_name     sales\n",
       "0          Africa            Fishing  46397.68\n",
       "1          Africa             Cleats  33654.39\n",
       "2          Africa   Cardio Equipment  29567.10\n",
       "3          Africa   Camping & Hiking  27598.16\n",
       "4          Africa    Women's Apparel  22400.00\n",
       "5          Europe            Fishing 751162.46\n",
       "6          Europe          Computers 507000.00\n",
       "7          Europe             Cleats 463004.27\n",
       "8          Europe   Camping & Hiking 426871.56\n",
       "9          Europe   Cardio Equipment 389511.06\n",
       "10  Latin America            Fishing 976751.19\n",
       "11  Latin America   Camping & Hiking 623658.44\n",
       "12  Latin America             Cleats 620176.64\n",
       "13  Latin America   Cardio Equipment 526537.65\n",
       "14  Latin America    Women's Apparel 449550.00\n",
       "15   Pacific Asia             Garden 199184.93\n",
       "16   Pacific Asia          Computers 130500.00\n",
       "17   Pacific Asia             Crafts 111216.68\n",
       "18   Pacific Asia              Music  73503.30\n",
       "19   Pacific Asia  Health and Beauty  66813.12\n",
       "20           USCA   Camping & Hiking   4199.72\n",
       "21           USCA             Cleats   2939.51\n",
       "22           USCA   Cardio Equipment   2599.74\n",
       "23           USCA     Men's Footwear   1949.85\n",
       "24           USCA    Women's Apparel   1800.00"
      ]
     },
     "execution_count": 269,
     "metadata": {},
     "output_type": "execute_result"
    }
   ],
   "source": [
    "# 1. Top and bottom 5 products by sales in each region and market.\n",
    "product_sales = df_2017.groupby([\"market\", \"category_name\"])[\"sales\"].sum().reset_index()\n",
    "top5_product = product_sales.groupby([\"market\"]).apply(lambda x: x.nlargest(5, \"sales\")).reset_index(drop=True)\n",
    "top5_product[\"sales\"] = round(top5_product[\"sales\"], 2)\n",
    "\n",
    "top5_product"
   ]
  },
  {
   "cell_type": "code",
   "execution_count": 270,
   "metadata": {},
   "outputs": [
    {
     "data": {
      "text/html": [
       "<div>\n",
       "<style scoped>\n",
       "    .dataframe tbody tr th:only-of-type {\n",
       "        vertical-align: middle;\n",
       "    }\n",
       "\n",
       "    .dataframe tbody tr th {\n",
       "        vertical-align: top;\n",
       "    }\n",
       "\n",
       "    .dataframe thead th {\n",
       "        text-align: right;\n",
       "    }\n",
       "</style>\n",
       "<table border=\"1\" class=\"dataframe\">\n",
       "  <thead>\n",
       "    <tr style=\"text-align: right;\">\n",
       "      <th></th>\n",
       "      <th>market</th>\n",
       "      <th>category_name</th>\n",
       "      <th>sales</th>\n",
       "    </tr>\n",
       "  </thead>\n",
       "  <tbody>\n",
       "    <tr>\n",
       "      <th>0</th>\n",
       "      <td>Africa</td>\n",
       "      <td>Golf Apparel</td>\n",
       "      <td>119.94</td>\n",
       "    </tr>\n",
       "    <tr>\n",
       "      <th>1</th>\n",
       "      <td>Africa</td>\n",
       "      <td>Hunting &amp; Shooting</td>\n",
       "      <td>119.96</td>\n",
       "    </tr>\n",
       "    <tr>\n",
       "      <th>2</th>\n",
       "      <td>Africa</td>\n",
       "      <td>Boxing &amp; MMA</td>\n",
       "      <td>219.88</td>\n",
       "    </tr>\n",
       "    <tr>\n",
       "      <th>3</th>\n",
       "      <td>Africa</td>\n",
       "      <td>Lacrosse</td>\n",
       "      <td>274.89</td>\n",
       "    </tr>\n",
       "    <tr>\n",
       "      <th>4</th>\n",
       "      <td>Africa</td>\n",
       "      <td>Baseball &amp; Softball</td>\n",
       "      <td>354.92</td>\n",
       "    </tr>\n",
       "    <tr>\n",
       "      <th>5</th>\n",
       "      <td>Europe</td>\n",
       "      <td>Girls' Apparel</td>\n",
       "      <td>179.99</td>\n",
       "    </tr>\n",
       "    <tr>\n",
       "      <th>6</th>\n",
       "      <td>Europe</td>\n",
       "      <td>Accessories</td>\n",
       "      <td>349.86</td>\n",
       "    </tr>\n",
       "    <tr>\n",
       "      <th>7</th>\n",
       "      <td>Europe</td>\n",
       "      <td>Golf Balls</td>\n",
       "      <td>374.80</td>\n",
       "    </tr>\n",
       "    <tr>\n",
       "      <th>8</th>\n",
       "      <td>Europe</td>\n",
       "      <td>Electronics</td>\n",
       "      <td>1185.72</td>\n",
       "    </tr>\n",
       "    <tr>\n",
       "      <th>9</th>\n",
       "      <td>Europe</td>\n",
       "      <td>CDs</td>\n",
       "      <td>1467.70</td>\n",
       "    </tr>\n",
       "    <tr>\n",
       "      <th>10</th>\n",
       "      <td>Latin America</td>\n",
       "      <td>Fitness Accessories</td>\n",
       "      <td>2624.25</td>\n",
       "    </tr>\n",
       "    <tr>\n",
       "      <th>11</th>\n",
       "      <td>Latin America</td>\n",
       "      <td>Strength Training</td>\n",
       "      <td>3402.00</td>\n",
       "    </tr>\n",
       "    <tr>\n",
       "      <th>12</th>\n",
       "      <td>Latin America</td>\n",
       "      <td>Hockey</td>\n",
       "      <td>3504.00</td>\n",
       "    </tr>\n",
       "    <tr>\n",
       "      <th>13</th>\n",
       "      <td>Latin America</td>\n",
       "      <td>Golf Bags &amp; Carts</td>\n",
       "      <td>4249.75</td>\n",
       "    </tr>\n",
       "    <tr>\n",
       "      <th>14</th>\n",
       "      <td>Latin America</td>\n",
       "      <td>Tennis &amp; Racquet</td>\n",
       "      <td>5488.78</td>\n",
       "    </tr>\n",
       "    <tr>\n",
       "      <th>15</th>\n",
       "      <td>Pacific Asia</td>\n",
       "      <td>Hockey</td>\n",
       "      <td>122.00</td>\n",
       "    </tr>\n",
       "    <tr>\n",
       "      <th>16</th>\n",
       "      <td>Pacific Asia</td>\n",
       "      <td>Tennis &amp; Racquet</td>\n",
       "      <td>134.97</td>\n",
       "    </tr>\n",
       "    <tr>\n",
       "      <th>17</th>\n",
       "      <td>Pacific Asia</td>\n",
       "      <td>Fitness Accessories</td>\n",
       "      <td>174.95</td>\n",
       "    </tr>\n",
       "    <tr>\n",
       "      <th>18</th>\n",
       "      <td>Pacific Asia</td>\n",
       "      <td>Golf Apparel</td>\n",
       "      <td>179.91</td>\n",
       "    </tr>\n",
       "    <tr>\n",
       "      <th>19</th>\n",
       "      <td>Pacific Asia</td>\n",
       "      <td>Trade-In</td>\n",
       "      <td>297.84</td>\n",
       "    </tr>\n",
       "    <tr>\n",
       "      <th>20</th>\n",
       "      <td>USCA</td>\n",
       "      <td>Golf Balls</td>\n",
       "      <td>49.97</td>\n",
       "    </tr>\n",
       "    <tr>\n",
       "      <th>21</th>\n",
       "      <td>USCA</td>\n",
       "      <td>Golf Gloves</td>\n",
       "      <td>119.97</td>\n",
       "    </tr>\n",
       "    <tr>\n",
       "      <th>22</th>\n",
       "      <td>USCA</td>\n",
       "      <td>Tennis &amp; Racquet</td>\n",
       "      <td>134.97</td>\n",
       "    </tr>\n",
       "    <tr>\n",
       "      <th>23</th>\n",
       "      <td>USCA</td>\n",
       "      <td>Electronics</td>\n",
       "      <td>175.96</td>\n",
       "    </tr>\n",
       "    <tr>\n",
       "      <th>24</th>\n",
       "      <td>USCA</td>\n",
       "      <td>Girls' Apparel</td>\n",
       "      <td>280.00</td>\n",
       "    </tr>\n",
       "  </tbody>\n",
       "</table>\n",
       "</div>"
      ],
      "text/plain": [
       "           market        category_name   sales\n",
       "0          Africa         Golf Apparel  119.94\n",
       "1          Africa   Hunting & Shooting  119.96\n",
       "2          Africa         Boxing & MMA  219.88\n",
       "3          Africa             Lacrosse  274.89\n",
       "4          Africa  Baseball & Softball  354.92\n",
       "5          Europe       Girls' Apparel  179.99\n",
       "6          Europe          Accessories  349.86\n",
       "7          Europe           Golf Balls  374.80\n",
       "8          Europe          Electronics 1185.72\n",
       "9          Europe                 CDs  1467.70\n",
       "10  Latin America  Fitness Accessories 2624.25\n",
       "11  Latin America    Strength Training 3402.00\n",
       "12  Latin America               Hockey 3504.00\n",
       "13  Latin America    Golf Bags & Carts 4249.75\n",
       "14  Latin America     Tennis & Racquet 5488.78\n",
       "15   Pacific Asia               Hockey  122.00\n",
       "16   Pacific Asia     Tennis & Racquet  134.97\n",
       "17   Pacific Asia  Fitness Accessories  174.95\n",
       "18   Pacific Asia         Golf Apparel  179.91\n",
       "19   Pacific Asia             Trade-In  297.84\n",
       "20           USCA           Golf Balls   49.97\n",
       "21           USCA          Golf Gloves  119.97\n",
       "22           USCA     Tennis & Racquet  134.97\n",
       "23           USCA          Electronics  175.96\n",
       "24           USCA       Girls' Apparel  280.00"
      ]
     },
     "execution_count": 270,
     "metadata": {},
     "output_type": "execute_result"
    }
   ],
   "source": [
    "# 1. Top and bottom 5 products by sales in each region and market.\n",
    "product_sales = df_2017.groupby([\"market\", \"category_name\"])[\"sales\"].sum().reset_index()\n",
    "bottom5_product = product_sales.groupby([\"market\"]).apply(lambda x: x.nsmallest(5, \"sales\")).reset_index(drop=True)\n",
    "bottom5_product[\"sales\"] = round(bottom5_product[\"sales\"], 2)\n",
    "\n",
    "bottom5_product"
   ]
  },
  {
   "cell_type": "code",
   "execution_count": 271,
   "metadata": {},
   "outputs": [],
   "source": [
    "    def top_bottom_products(dataframe, market):\n",
    "        if market == \"All Markets\":\n",
    "            grouped_bar = dataframe.groupby([\"category_name\"]).agg(total_sales=(\"sales\", \"sum\")).reset_index()\n",
    "        else:\n",
    "            dataframe = dataframe[dataframe[\"market\"]==market]\n",
    "            grouped_bar = dataframe.groupby([\"category_name\"]).agg(total_sales=(\"sales\", \"sum\")).reset_index()\n",
    "\n",
    "        grouped_bar[\"total_sales\"] = round(grouped_bar[\"total_sales\"], 2)\n",
    "\n",
    "        # sort by total_sales and split into two groups\n",
    "        grouped_bar = grouped_bar.sort_values(by=\"total_sales\", ascending=False).reset_index()\n",
    "\n",
    "        # format total_sales as a string with $ and thousand separator\n",
    "        grouped_bar[\"total_sales_formated\"] = grouped_bar[\"total_sales\"].apply(lambda x: f\"${x:,.2f}\")\n",
    "\n",
    "        top_5 = grouped_bar.head(5)\n",
    "        bottom_5 = grouped_bar.tail(5)\n",
    "\n",
    "        # create a dictionary to map each category to a unique color\n",
    "        category_colors = {\n",
    "            \"Camping & Hiking\": \"#1f77b4\",\n",
    "            \"Water Sports\": \"#ff7f0e\",\n",
    "            \"Women's Apparel\": \"#2ca02c\",\n",
    "            \"Men's Footwear\": \"#d62728\",\n",
    "            \"Indoor/Outdoor Games\": \"#9467bd\",\n",
    "            \"Accessories\": \"#8c564b\",\n",
    "            \"Cleats\": \"#e377c2\",\n",
    "            \"Trade-In\": \"#7f7f7f\",\n",
    "            \"Cardio Equipment\": \"#bcbd22\",\n",
    "            \"Shop By Sport\": \"#17becf\",\n",
    "            \"Hockey\": \"#ff5733\",\n",
    "            \"Electronics\": \"#e74c3c\",\n",
    "            \"Fishing\": \"#3498db\",\n",
    "            \"Golf Balls\": \"#9b59b6\",\n",
    "            \"Lacrosse\": \"#e67e22\",\n",
    "            \"Baseball & Softball\": \"#34495e\",\n",
    "            \"Golf Gloves\": \"#f1c40f\",\n",
    "            \"Girls' Apparel\": \"#2ecc71\",\n",
    "            \"Fitness Accessories\": \"#1abc9c\",\n",
    "            \"Hunting & Shooting\": \"#95a5a6\",\n",
    "            \"Tennis & Racquet\": \"#2c3e50\",\n",
    "            \"Golf Shoes\": \"#bdc3c7\",\n",
    "            \"Golf Apparel\": \"#d35400\",\n",
    "            \"Boxing & MMA\": \"#7f8c8d\",\n",
    "            \"Men's Golf Clubs\": \"#2980b9\",\n",
    "            \"Kids' Golf Clubs\": \"#16a085\",\n",
    "            \"Soccer\": \"#c0392b\",\n",
    "            \"Women's Golf Clubs\": \"#f39c12\",\n",
    "            \"Golf Bags & Carts\": \"#27ae60\",\n",
    "            \"Strength Training\": \"#e67e22\",\n",
    "            \"As Seen on  TV!\": \"#8e44ad\",\n",
    "            \"Basketball\": \"#f39c12\",\n",
    "            \"Books \": \"#1abc9c\",\n",
    "            \"Baby \": \"#95a5a6\",\n",
    "            \"CDs \": \"#d35400\",\n",
    "            \"Cameras \": \"#bdc3c7\",\n",
    "            \"Children's Clothing\": \"#9b59b6\",\n",
    "            \"Computers\": \"#7f8c8d\",\n",
    "            \"Consumer Electronics\": \"#2c3e50\",\n",
    "            \"Crafts\": \"#27ae60\",\n",
    "            \"DVDs\": \"#f1c40f\",\n",
    "            \"Garden\": \"#17becf\",\n",
    "            \"Health and Beauty\": \"#bcbd22\",\n",
    "            \"Men's Clothing\": \"#e74c3c\",\n",
    "            \"Music\": \"#8c564b\",\n",
    "            \"Pet Supplies\": \"#2ecc71\",\n",
    "            \"Sporting Goods\": \"#7f7f7f\",\n",
    "            \"Toys\": \"#d62728\",\n",
    "            \"Video Games\": \"#9467bd\",\n",
    "            \"Women's Clothing\": \"#3498db\"\n",
    "        }\n",
    "\n",
    "        # map category colors to the top_5 and bottom_5 dataframes\n",
    "        top_5[\"color\"] = top_5[\"category_name\"].map(category_colors)\n",
    "        bottom_5[\"color\"] = bottom_5[\"category_name\"].map(category_colors)\n",
    "\n",
    "        # -----------------------------------------------------------\n",
    "\n",
    "        # create the subplots\n",
    "        fig = make_subplots(rows=1, cols=2, horizontal_spacing=0.1, subplot_titles=(\n",
    "            f\"<b>Top 5 High-Performing Categories in {market}</b>\", \n",
    "            f\"<b>Bottom 5 Under-Performing Categories in {market}</b>\"))\n",
    "\n",
    "        # add the top 5 subplot\n",
    "        fig.add_trace(go.Bar(x=top_5[\"total_sales\"], y=top_5[\"category_name\"], orientation=\"h\",\n",
    "                            text=top_5[\"total_sales_formated\"], name=\"\", marker=dict(color=top_5[\"color\"]),\n",
    "                            textfont=dict(color=\"white\")),\n",
    "                    row=1, col=1)\n",
    "        fig.update_yaxes(title=\"\", categoryorder=\"total ascending\", row=1, col=1)\n",
    "        fig.update_xaxes(title=\"Total Sales\", row=1, col=1, showgrid=False)\n",
    "\n",
    "        # add the bottom 5 subplot\n",
    "        fig.add_trace(go.Bar(x=bottom_5[\"total_sales\"], y=bottom_5[\"category_name\"], orientation=\"h\",\n",
    "                            text=bottom_5[\"total_sales_formated\"], name=\"\", marker=dict(color=bottom_5[\"color\"]),\n",
    "                            textfont=dict(color=\"white\")),\n",
    "                    row=1, col=2)\n",
    "        fig.update_yaxes(title=\"\", categoryorder=\"total ascending\", row=1, col=2)\n",
    "        fig.update_xaxes(title=\"Total Sales\", row=1, col=2, showgrid=False)\n",
    "\n",
    "        # update the layout\n",
    "        fig.update_layout(\n",
    "            height=300,\n",
    "            width=1200,\n",
    "            template=\"plotly_dark\",\n",
    "            showlegend=False,\n",
    "            margin=dict(l=0, r=0, t=20, b=0),\n",
    "        )\n",
    "        fig.update_layout({\"plot_bgcolor\": \"rgba(0, 0, 0, 0)\",\"paper_bgcolor\": \"rgba(0, 0, 0, 0)\",})\n",
    "        fig.update_annotations(font_size=12)\n",
    "\n",
    "        return fig"
   ]
  },
  {
   "cell_type": "code",
   "execution_count": 272,
   "metadata": {},
   "outputs": [
    {
     "name": "stderr",
     "output_type": "stream",
     "text": [
      "C:\\Users\\PF2L6BL6\\AppData\\Local\\Temp\\ipykernel_25372\\2849506936.py:74: SettingWithCopyWarning:\n",
      "\n",
      "\n",
      "A value is trying to be set on a copy of a slice from a DataFrame.\n",
      "Try using .loc[row_indexer,col_indexer] = value instead\n",
      "\n",
      "See the caveats in the documentation: https://pandas.pydata.org/pandas-docs/stable/user_guide/indexing.html#returning-a-view-versus-a-copy\n",
      "\n",
      "C:\\Users\\PF2L6BL6\\AppData\\Local\\Temp\\ipykernel_25372\\2849506936.py:75: SettingWithCopyWarning:\n",
      "\n",
      "\n",
      "A value is trying to be set on a copy of a slice from a DataFrame.\n",
      "Try using .loc[row_indexer,col_indexer] = value instead\n",
      "\n",
      "See the caveats in the documentation: https://pandas.pydata.org/pandas-docs/stable/user_guide/indexing.html#returning-a-view-versus-a-copy\n",
      "\n",
      "C:\\Users\\PF2L6BL6\\AppData\\Local\\Temp\\ipykernel_25372\\2849506936.py:74: SettingWithCopyWarning:\n",
      "\n",
      "\n",
      "A value is trying to be set on a copy of a slice from a DataFrame.\n",
      "Try using .loc[row_indexer,col_indexer] = value instead\n",
      "\n",
      "See the caveats in the documentation: https://pandas.pydata.org/pandas-docs/stable/user_guide/indexing.html#returning-a-view-versus-a-copy\n",
      "\n",
      "C:\\Users\\PF2L6BL6\\AppData\\Local\\Temp\\ipykernel_25372\\2849506936.py:75: SettingWithCopyWarning:\n",
      "\n",
      "\n",
      "A value is trying to be set on a copy of a slice from a DataFrame.\n",
      "Try using .loc[row_indexer,col_indexer] = value instead\n",
      "\n",
      "See the caveats in the documentation: https://pandas.pydata.org/pandas-docs/stable/user_guide/indexing.html#returning-a-view-versus-a-copy\n",
      "\n",
      "C:\\Users\\PF2L6BL6\\AppData\\Local\\Temp\\ipykernel_25372\\2849506936.py:74: SettingWithCopyWarning:\n",
      "\n",
      "\n",
      "A value is trying to be set on a copy of a slice from a DataFrame.\n",
      "Try using .loc[row_indexer,col_indexer] = value instead\n",
      "\n",
      "See the caveats in the documentation: https://pandas.pydata.org/pandas-docs/stable/user_guide/indexing.html#returning-a-view-versus-a-copy\n",
      "\n",
      "C:\\Users\\PF2L6BL6\\AppData\\Local\\Temp\\ipykernel_25372\\2849506936.py:75: SettingWithCopyWarning:\n",
      "\n",
      "\n",
      "A value is trying to be set on a copy of a slice from a DataFrame.\n",
      "Try using .loc[row_indexer,col_indexer] = value instead\n",
      "\n",
      "See the caveats in the documentation: https://pandas.pydata.org/pandas-docs/stable/user_guide/indexing.html#returning-a-view-versus-a-copy\n",
      "\n",
      "C:\\Users\\PF2L6BL6\\AppData\\Local\\Temp\\ipykernel_25372\\2849506936.py:74: SettingWithCopyWarning:\n",
      "\n",
      "\n",
      "A value is trying to be set on a copy of a slice from a DataFrame.\n",
      "Try using .loc[row_indexer,col_indexer] = value instead\n",
      "\n",
      "See the caveats in the documentation: https://pandas.pydata.org/pandas-docs/stable/user_guide/indexing.html#returning-a-view-versus-a-copy\n",
      "\n",
      "C:\\Users\\PF2L6BL6\\AppData\\Local\\Temp\\ipykernel_25372\\2849506936.py:75: SettingWithCopyWarning:\n",
      "\n",
      "\n",
      "A value is trying to be set on a copy of a slice from a DataFrame.\n",
      "Try using .loc[row_indexer,col_indexer] = value instead\n",
      "\n",
      "See the caveats in the documentation: https://pandas.pydata.org/pandas-docs/stable/user_guide/indexing.html#returning-a-view-versus-a-copy\n",
      "\n",
      "C:\\Users\\PF2L6BL6\\AppData\\Local\\Temp\\ipykernel_25372\\2849506936.py:74: SettingWithCopyWarning:\n",
      "\n",
      "\n",
      "A value is trying to be set on a copy of a slice from a DataFrame.\n",
      "Try using .loc[row_indexer,col_indexer] = value instead\n",
      "\n",
      "See the caveats in the documentation: https://pandas.pydata.org/pandas-docs/stable/user_guide/indexing.html#returning-a-view-versus-a-copy\n",
      "\n",
      "C:\\Users\\PF2L6BL6\\AppData\\Local\\Temp\\ipykernel_25372\\2849506936.py:75: SettingWithCopyWarning:\n",
      "\n",
      "\n",
      "A value is trying to be set on a copy of a slice from a DataFrame.\n",
      "Try using .loc[row_indexer,col_indexer] = value instead\n",
      "\n",
      "See the caveats in the documentation: https://pandas.pydata.org/pandas-docs/stable/user_guide/indexing.html#returning-a-view-versus-a-copy\n",
      "\n",
      "C:\\Users\\PF2L6BL6\\AppData\\Local\\Temp\\ipykernel_25372\\2849506936.py:74: SettingWithCopyWarning:\n",
      "\n",
      "\n",
      "A value is trying to be set on a copy of a slice from a DataFrame.\n",
      "Try using .loc[row_indexer,col_indexer] = value instead\n",
      "\n",
      "See the caveats in the documentation: https://pandas.pydata.org/pandas-docs/stable/user_guide/indexing.html#returning-a-view-versus-a-copy\n",
      "\n",
      "C:\\Users\\PF2L6BL6\\AppData\\Local\\Temp\\ipykernel_25372\\2849506936.py:75: SettingWithCopyWarning:\n",
      "\n",
      "\n",
      "A value is trying to be set on a copy of a slice from a DataFrame.\n",
      "Try using .loc[row_indexer,col_indexer] = value instead\n",
      "\n",
      "See the caveats in the documentation: https://pandas.pydata.org/pandas-docs/stable/user_guide/indexing.html#returning-a-view-versus-a-copy\n",
      "\n"
     ]
    },
    {
     "data": {
      "application/vnd.plotly.v1+json": {
       "config": {
        "plotlyServerURL": "https://plot.ly"
       },
       "data": [
        {
         "marker": {
          "color": [
           "#3498db",
           "#e377c2",
           "#1f77b4",
           "#bcbd22",
           "#ff7f0e"
          ]
         },
         "name": "",
         "orientation": "h",
         "text": [
          "$1,818,309.13",
          "$1,147,670.16",
          "$1,105,126.36",
          "$969,693.42",
          "$832,958.67"
         ],
         "textfont": {
          "color": "white"
         },
         "type": "bar",
         "x": [
          1818309.13,
          1147670.16,
          1105126.36,
          969693.42,
          832958.67
         ],
         "xaxis": "x",
         "y": [
          "Fishing",
          "Cleats",
          "Camping & Hiking",
          "Cardio Equipment",
          "Water Sports"
         ],
         "yaxis": "y"
        },
        {
         "marker": {
          "color": [
           "#9b59b6",
           "#9467bd",
           "#2c3e50",
           "#d35400",
           "#d62728"
          ]
         },
         "name": "",
         "orientation": "h",
         "text": [
          "$9,192.81",
          "$8,665.50",
          "$6,163.63",
          "$2,969.27",
          "$2,792.68"
         ],
         "textfont": {
          "color": "white"
         },
         "type": "bar",
         "x": [
          9192.81,
          8665.5,
          6163.63,
          2969.27,
          2792.68
         ],
         "xaxis": "x2",
         "y": [
          "Golf Balls",
          "Video Games",
          "Tennis & Racquet",
          "CDs ",
          "Toys"
         ],
         "yaxis": "y2"
        }
       ],
       "layout": {
        "annotations": [
         {
          "font": {
           "size": 12
          },
          "showarrow": false,
          "text": "<b>Top 5 High-Performing Categories in All Markets</b>",
          "x": 0.225,
          "xanchor": "center",
          "xref": "paper",
          "y": 1,
          "yanchor": "bottom",
          "yref": "paper"
         },
         {
          "font": {
           "size": 12
          },
          "showarrow": false,
          "text": "<b>Bottom 5 Under-Performing Categories in All Markets</b>",
          "x": 0.775,
          "xanchor": "center",
          "xref": "paper",
          "y": 1,
          "yanchor": "bottom",
          "yref": "paper"
         }
        ],
        "height": 300,
        "margin": {
         "b": 0,
         "l": 0,
         "r": 0,
         "t": 20
        },
        "paper_bgcolor": "rgba(0, 0, 0, 0)",
        "plot_bgcolor": "rgba(0, 0, 0, 0)",
        "showlegend": false,
        "template": {
         "data": {
          "bar": [
           {
            "error_x": {
             "color": "#f2f5fa"
            },
            "error_y": {
             "color": "#f2f5fa"
            },
            "marker": {
             "line": {
              "color": "rgb(17,17,17)",
              "width": 0.5
             },
             "pattern": {
              "fillmode": "overlay",
              "size": 10,
              "solidity": 0.2
             }
            },
            "type": "bar"
           }
          ],
          "barpolar": [
           {
            "marker": {
             "line": {
              "color": "rgb(17,17,17)",
              "width": 0.5
             },
             "pattern": {
              "fillmode": "overlay",
              "size": 10,
              "solidity": 0.2
             }
            },
            "type": "barpolar"
           }
          ],
          "carpet": [
           {
            "aaxis": {
             "endlinecolor": "#A2B1C6",
             "gridcolor": "#506784",
             "linecolor": "#506784",
             "minorgridcolor": "#506784",
             "startlinecolor": "#A2B1C6"
            },
            "baxis": {
             "endlinecolor": "#A2B1C6",
             "gridcolor": "#506784",
             "linecolor": "#506784",
             "minorgridcolor": "#506784",
             "startlinecolor": "#A2B1C6"
            },
            "type": "carpet"
           }
          ],
          "choropleth": [
           {
            "colorbar": {
             "outlinewidth": 0,
             "ticks": ""
            },
            "type": "choropleth"
           }
          ],
          "contour": [
           {
            "colorbar": {
             "outlinewidth": 0,
             "ticks": ""
            },
            "colorscale": [
             [
              0,
              "#0d0887"
             ],
             [
              0.1111111111111111,
              "#46039f"
             ],
             [
              0.2222222222222222,
              "#7201a8"
             ],
             [
              0.3333333333333333,
              "#9c179e"
             ],
             [
              0.4444444444444444,
              "#bd3786"
             ],
             [
              0.5555555555555556,
              "#d8576b"
             ],
             [
              0.6666666666666666,
              "#ed7953"
             ],
             [
              0.7777777777777778,
              "#fb9f3a"
             ],
             [
              0.8888888888888888,
              "#fdca26"
             ],
             [
              1,
              "#f0f921"
             ]
            ],
            "type": "contour"
           }
          ],
          "contourcarpet": [
           {
            "colorbar": {
             "outlinewidth": 0,
             "ticks": ""
            },
            "type": "contourcarpet"
           }
          ],
          "heatmap": [
           {
            "colorbar": {
             "outlinewidth": 0,
             "ticks": ""
            },
            "colorscale": [
             [
              0,
              "#0d0887"
             ],
             [
              0.1111111111111111,
              "#46039f"
             ],
             [
              0.2222222222222222,
              "#7201a8"
             ],
             [
              0.3333333333333333,
              "#9c179e"
             ],
             [
              0.4444444444444444,
              "#bd3786"
             ],
             [
              0.5555555555555556,
              "#d8576b"
             ],
             [
              0.6666666666666666,
              "#ed7953"
             ],
             [
              0.7777777777777778,
              "#fb9f3a"
             ],
             [
              0.8888888888888888,
              "#fdca26"
             ],
             [
              1,
              "#f0f921"
             ]
            ],
            "type": "heatmap"
           }
          ],
          "heatmapgl": [
           {
            "colorbar": {
             "outlinewidth": 0,
             "ticks": ""
            },
            "colorscale": [
             [
              0,
              "#0d0887"
             ],
             [
              0.1111111111111111,
              "#46039f"
             ],
             [
              0.2222222222222222,
              "#7201a8"
             ],
             [
              0.3333333333333333,
              "#9c179e"
             ],
             [
              0.4444444444444444,
              "#bd3786"
             ],
             [
              0.5555555555555556,
              "#d8576b"
             ],
             [
              0.6666666666666666,
              "#ed7953"
             ],
             [
              0.7777777777777778,
              "#fb9f3a"
             ],
             [
              0.8888888888888888,
              "#fdca26"
             ],
             [
              1,
              "#f0f921"
             ]
            ],
            "type": "heatmapgl"
           }
          ],
          "histogram": [
           {
            "marker": {
             "pattern": {
              "fillmode": "overlay",
              "size": 10,
              "solidity": 0.2
             }
            },
            "type": "histogram"
           }
          ],
          "histogram2d": [
           {
            "colorbar": {
             "outlinewidth": 0,
             "ticks": ""
            },
            "colorscale": [
             [
              0,
              "#0d0887"
             ],
             [
              0.1111111111111111,
              "#46039f"
             ],
             [
              0.2222222222222222,
              "#7201a8"
             ],
             [
              0.3333333333333333,
              "#9c179e"
             ],
             [
              0.4444444444444444,
              "#bd3786"
             ],
             [
              0.5555555555555556,
              "#d8576b"
             ],
             [
              0.6666666666666666,
              "#ed7953"
             ],
             [
              0.7777777777777778,
              "#fb9f3a"
             ],
             [
              0.8888888888888888,
              "#fdca26"
             ],
             [
              1,
              "#f0f921"
             ]
            ],
            "type": "histogram2d"
           }
          ],
          "histogram2dcontour": [
           {
            "colorbar": {
             "outlinewidth": 0,
             "ticks": ""
            },
            "colorscale": [
             [
              0,
              "#0d0887"
             ],
             [
              0.1111111111111111,
              "#46039f"
             ],
             [
              0.2222222222222222,
              "#7201a8"
             ],
             [
              0.3333333333333333,
              "#9c179e"
             ],
             [
              0.4444444444444444,
              "#bd3786"
             ],
             [
              0.5555555555555556,
              "#d8576b"
             ],
             [
              0.6666666666666666,
              "#ed7953"
             ],
             [
              0.7777777777777778,
              "#fb9f3a"
             ],
             [
              0.8888888888888888,
              "#fdca26"
             ],
             [
              1,
              "#f0f921"
             ]
            ],
            "type": "histogram2dcontour"
           }
          ],
          "mesh3d": [
           {
            "colorbar": {
             "outlinewidth": 0,
             "ticks": ""
            },
            "type": "mesh3d"
           }
          ],
          "parcoords": [
           {
            "line": {
             "colorbar": {
              "outlinewidth": 0,
              "ticks": ""
             }
            },
            "type": "parcoords"
           }
          ],
          "pie": [
           {
            "automargin": true,
            "type": "pie"
           }
          ],
          "scatter": [
           {
            "marker": {
             "line": {
              "color": "#283442"
             }
            },
            "type": "scatter"
           }
          ],
          "scatter3d": [
           {
            "line": {
             "colorbar": {
              "outlinewidth": 0,
              "ticks": ""
             }
            },
            "marker": {
             "colorbar": {
              "outlinewidth": 0,
              "ticks": ""
             }
            },
            "type": "scatter3d"
           }
          ],
          "scattercarpet": [
           {
            "marker": {
             "colorbar": {
              "outlinewidth": 0,
              "ticks": ""
             }
            },
            "type": "scattercarpet"
           }
          ],
          "scattergeo": [
           {
            "marker": {
             "colorbar": {
              "outlinewidth": 0,
              "ticks": ""
             }
            },
            "type": "scattergeo"
           }
          ],
          "scattergl": [
           {
            "marker": {
             "line": {
              "color": "#283442"
             }
            },
            "type": "scattergl"
           }
          ],
          "scattermapbox": [
           {
            "marker": {
             "colorbar": {
              "outlinewidth": 0,
              "ticks": ""
             }
            },
            "type": "scattermapbox"
           }
          ],
          "scatterpolar": [
           {
            "marker": {
             "colorbar": {
              "outlinewidth": 0,
              "ticks": ""
             }
            },
            "type": "scatterpolar"
           }
          ],
          "scatterpolargl": [
           {
            "marker": {
             "colorbar": {
              "outlinewidth": 0,
              "ticks": ""
             }
            },
            "type": "scatterpolargl"
           }
          ],
          "scatterternary": [
           {
            "marker": {
             "colorbar": {
              "outlinewidth": 0,
              "ticks": ""
             }
            },
            "type": "scatterternary"
           }
          ],
          "surface": [
           {
            "colorbar": {
             "outlinewidth": 0,
             "ticks": ""
            },
            "colorscale": [
             [
              0,
              "#0d0887"
             ],
             [
              0.1111111111111111,
              "#46039f"
             ],
             [
              0.2222222222222222,
              "#7201a8"
             ],
             [
              0.3333333333333333,
              "#9c179e"
             ],
             [
              0.4444444444444444,
              "#bd3786"
             ],
             [
              0.5555555555555556,
              "#d8576b"
             ],
             [
              0.6666666666666666,
              "#ed7953"
             ],
             [
              0.7777777777777778,
              "#fb9f3a"
             ],
             [
              0.8888888888888888,
              "#fdca26"
             ],
             [
              1,
              "#f0f921"
             ]
            ],
            "type": "surface"
           }
          ],
          "table": [
           {
            "cells": {
             "fill": {
              "color": "#506784"
             },
             "line": {
              "color": "rgb(17,17,17)"
             }
            },
            "header": {
             "fill": {
              "color": "#2a3f5f"
             },
             "line": {
              "color": "rgb(17,17,17)"
             }
            },
            "type": "table"
           }
          ]
         },
         "layout": {
          "annotationdefaults": {
           "arrowcolor": "#f2f5fa",
           "arrowhead": 0,
           "arrowwidth": 1
          },
          "autotypenumbers": "strict",
          "coloraxis": {
           "colorbar": {
            "outlinewidth": 0,
            "ticks": ""
           }
          },
          "colorscale": {
           "diverging": [
            [
             0,
             "#8e0152"
            ],
            [
             0.1,
             "#c51b7d"
            ],
            [
             0.2,
             "#de77ae"
            ],
            [
             0.3,
             "#f1b6da"
            ],
            [
             0.4,
             "#fde0ef"
            ],
            [
             0.5,
             "#f7f7f7"
            ],
            [
             0.6,
             "#e6f5d0"
            ],
            [
             0.7,
             "#b8e186"
            ],
            [
             0.8,
             "#7fbc41"
            ],
            [
             0.9,
             "#4d9221"
            ],
            [
             1,
             "#276419"
            ]
           ],
           "sequential": [
            [
             0,
             "#0d0887"
            ],
            [
             0.1111111111111111,
             "#46039f"
            ],
            [
             0.2222222222222222,
             "#7201a8"
            ],
            [
             0.3333333333333333,
             "#9c179e"
            ],
            [
             0.4444444444444444,
             "#bd3786"
            ],
            [
             0.5555555555555556,
             "#d8576b"
            ],
            [
             0.6666666666666666,
             "#ed7953"
            ],
            [
             0.7777777777777778,
             "#fb9f3a"
            ],
            [
             0.8888888888888888,
             "#fdca26"
            ],
            [
             1,
             "#f0f921"
            ]
           ],
           "sequentialminus": [
            [
             0,
             "#0d0887"
            ],
            [
             0.1111111111111111,
             "#46039f"
            ],
            [
             0.2222222222222222,
             "#7201a8"
            ],
            [
             0.3333333333333333,
             "#9c179e"
            ],
            [
             0.4444444444444444,
             "#bd3786"
            ],
            [
             0.5555555555555556,
             "#d8576b"
            ],
            [
             0.6666666666666666,
             "#ed7953"
            ],
            [
             0.7777777777777778,
             "#fb9f3a"
            ],
            [
             0.8888888888888888,
             "#fdca26"
            ],
            [
             1,
             "#f0f921"
            ]
           ]
          },
          "colorway": [
           "#636efa",
           "#EF553B",
           "#00cc96",
           "#ab63fa",
           "#FFA15A",
           "#19d3f3",
           "#FF6692",
           "#B6E880",
           "#FF97FF",
           "#FECB52"
          ],
          "font": {
           "color": "#f2f5fa"
          },
          "geo": {
           "bgcolor": "rgb(17,17,17)",
           "lakecolor": "rgb(17,17,17)",
           "landcolor": "rgb(17,17,17)",
           "showlakes": true,
           "showland": true,
           "subunitcolor": "#506784"
          },
          "hoverlabel": {
           "align": "left"
          },
          "hovermode": "closest",
          "mapbox": {
           "style": "dark"
          },
          "paper_bgcolor": "rgb(17,17,17)",
          "plot_bgcolor": "rgb(17,17,17)",
          "polar": {
           "angularaxis": {
            "gridcolor": "#506784",
            "linecolor": "#506784",
            "ticks": ""
           },
           "bgcolor": "rgb(17,17,17)",
           "radialaxis": {
            "gridcolor": "#506784",
            "linecolor": "#506784",
            "ticks": ""
           }
          },
          "scene": {
           "xaxis": {
            "backgroundcolor": "rgb(17,17,17)",
            "gridcolor": "#506784",
            "gridwidth": 2,
            "linecolor": "#506784",
            "showbackground": true,
            "ticks": "",
            "zerolinecolor": "#C8D4E3"
           },
           "yaxis": {
            "backgroundcolor": "rgb(17,17,17)",
            "gridcolor": "#506784",
            "gridwidth": 2,
            "linecolor": "#506784",
            "showbackground": true,
            "ticks": "",
            "zerolinecolor": "#C8D4E3"
           },
           "zaxis": {
            "backgroundcolor": "rgb(17,17,17)",
            "gridcolor": "#506784",
            "gridwidth": 2,
            "linecolor": "#506784",
            "showbackground": true,
            "ticks": "",
            "zerolinecolor": "#C8D4E3"
           }
          },
          "shapedefaults": {
           "line": {
            "color": "#f2f5fa"
           }
          },
          "sliderdefaults": {
           "bgcolor": "#C8D4E3",
           "bordercolor": "rgb(17,17,17)",
           "borderwidth": 1,
           "tickwidth": 0
          },
          "ternary": {
           "aaxis": {
            "gridcolor": "#506784",
            "linecolor": "#506784",
            "ticks": ""
           },
           "baxis": {
            "gridcolor": "#506784",
            "linecolor": "#506784",
            "ticks": ""
           },
           "bgcolor": "rgb(17,17,17)",
           "caxis": {
            "gridcolor": "#506784",
            "linecolor": "#506784",
            "ticks": ""
           }
          },
          "title": {
           "x": 0.05
          },
          "updatemenudefaults": {
           "bgcolor": "#506784",
           "borderwidth": 0
          },
          "xaxis": {
           "automargin": true,
           "gridcolor": "#283442",
           "linecolor": "#506784",
           "ticks": "",
           "title": {
            "standoff": 15
           },
           "zerolinecolor": "#283442",
           "zerolinewidth": 2
          },
          "yaxis": {
           "automargin": true,
           "gridcolor": "#283442",
           "linecolor": "#506784",
           "ticks": "",
           "title": {
            "standoff": 15
           },
           "zerolinecolor": "#283442",
           "zerolinewidth": 2
          }
         }
        },
        "width": 1200,
        "xaxis": {
         "anchor": "y",
         "domain": [
          0,
          0.45
         ],
         "showgrid": false,
         "title": {
          "text": "Total Sales"
         }
        },
        "xaxis2": {
         "anchor": "y2",
         "domain": [
          0.55,
          1
         ],
         "showgrid": false,
         "title": {
          "text": "Total Sales"
         }
        },
        "yaxis": {
         "anchor": "x",
         "categoryorder": "total ascending",
         "domain": [
          0,
          1
         ],
         "title": {
          "text": ""
         }
        },
        "yaxis2": {
         "anchor": "x2",
         "categoryorder": "total ascending",
         "domain": [
          0,
          1
         ],
         "title": {
          "text": ""
         }
        }
       }
      }
     },
     "metadata": {},
     "output_type": "display_data"
    },
    {
     "data": {
      "application/vnd.plotly.v1+json": {
       "config": {
        "plotlyServerURL": "https://plot.ly"
       },
       "data": [
        {
         "marker": {
          "color": [
           "#3498db",
           "#e377c2",
           "#bcbd22",
           "#1f77b4",
           "#2ca02c"
          ]
         },
         "name": "",
         "orientation": "h",
         "text": [
          "$46,397.68",
          "$33,654.39",
          "$29,567.10",
          "$27,598.16",
          "$22,400.00"
         ],
         "textfont": {
          "color": "white"
         },
         "type": "bar",
         "x": [
          46397.68,
          33654.39,
          29567.1,
          27598.16,
          22400
         ],
         "xaxis": "x",
         "y": [
          "Fishing",
          "Cleats",
          "Cardio Equipment",
          "Camping & Hiking",
          "Women's Apparel"
         ],
         "yaxis": "y"
        },
        {
         "marker": {
          "color": [
           "#34495e",
           "#e67e22",
           "#7f8c8d",
           "#95a5a6",
           "#d35400"
          ]
         },
         "name": "",
         "orientation": "h",
         "text": [
          "$354.92",
          "$274.89",
          "$219.88",
          "$119.96",
          "$119.94"
         ],
         "textfont": {
          "color": "white"
         },
         "type": "bar",
         "x": [
          354.92,
          274.89,
          219.88,
          119.96,
          119.94
         ],
         "xaxis": "x2",
         "y": [
          "Baseball & Softball",
          "Lacrosse",
          "Boxing & MMA",
          "Hunting & Shooting",
          "Golf Apparel"
         ],
         "yaxis": "y2"
        }
       ],
       "layout": {
        "annotations": [
         {
          "font": {
           "size": 12
          },
          "showarrow": false,
          "text": "<b>Top 5 High-Performing Categories in Africa</b>",
          "x": 0.225,
          "xanchor": "center",
          "xref": "paper",
          "y": 1,
          "yanchor": "bottom",
          "yref": "paper"
         },
         {
          "font": {
           "size": 12
          },
          "showarrow": false,
          "text": "<b>Bottom 5 Under-Performing Categories in Africa</b>",
          "x": 0.775,
          "xanchor": "center",
          "xref": "paper",
          "y": 1,
          "yanchor": "bottom",
          "yref": "paper"
         }
        ],
        "height": 300,
        "margin": {
         "b": 0,
         "l": 0,
         "r": 0,
         "t": 20
        },
        "paper_bgcolor": "rgba(0, 0, 0, 0)",
        "plot_bgcolor": "rgba(0, 0, 0, 0)",
        "showlegend": false,
        "template": {
         "data": {
          "bar": [
           {
            "error_x": {
             "color": "#f2f5fa"
            },
            "error_y": {
             "color": "#f2f5fa"
            },
            "marker": {
             "line": {
              "color": "rgb(17,17,17)",
              "width": 0.5
             },
             "pattern": {
              "fillmode": "overlay",
              "size": 10,
              "solidity": 0.2
             }
            },
            "type": "bar"
           }
          ],
          "barpolar": [
           {
            "marker": {
             "line": {
              "color": "rgb(17,17,17)",
              "width": 0.5
             },
             "pattern": {
              "fillmode": "overlay",
              "size": 10,
              "solidity": 0.2
             }
            },
            "type": "barpolar"
           }
          ],
          "carpet": [
           {
            "aaxis": {
             "endlinecolor": "#A2B1C6",
             "gridcolor": "#506784",
             "linecolor": "#506784",
             "minorgridcolor": "#506784",
             "startlinecolor": "#A2B1C6"
            },
            "baxis": {
             "endlinecolor": "#A2B1C6",
             "gridcolor": "#506784",
             "linecolor": "#506784",
             "minorgridcolor": "#506784",
             "startlinecolor": "#A2B1C6"
            },
            "type": "carpet"
           }
          ],
          "choropleth": [
           {
            "colorbar": {
             "outlinewidth": 0,
             "ticks": ""
            },
            "type": "choropleth"
           }
          ],
          "contour": [
           {
            "colorbar": {
             "outlinewidth": 0,
             "ticks": ""
            },
            "colorscale": [
             [
              0,
              "#0d0887"
             ],
             [
              0.1111111111111111,
              "#46039f"
             ],
             [
              0.2222222222222222,
              "#7201a8"
             ],
             [
              0.3333333333333333,
              "#9c179e"
             ],
             [
              0.4444444444444444,
              "#bd3786"
             ],
             [
              0.5555555555555556,
              "#d8576b"
             ],
             [
              0.6666666666666666,
              "#ed7953"
             ],
             [
              0.7777777777777778,
              "#fb9f3a"
             ],
             [
              0.8888888888888888,
              "#fdca26"
             ],
             [
              1,
              "#f0f921"
             ]
            ],
            "type": "contour"
           }
          ],
          "contourcarpet": [
           {
            "colorbar": {
             "outlinewidth": 0,
             "ticks": ""
            },
            "type": "contourcarpet"
           }
          ],
          "heatmap": [
           {
            "colorbar": {
             "outlinewidth": 0,
             "ticks": ""
            },
            "colorscale": [
             [
              0,
              "#0d0887"
             ],
             [
              0.1111111111111111,
              "#46039f"
             ],
             [
              0.2222222222222222,
              "#7201a8"
             ],
             [
              0.3333333333333333,
              "#9c179e"
             ],
             [
              0.4444444444444444,
              "#bd3786"
             ],
             [
              0.5555555555555556,
              "#d8576b"
             ],
             [
              0.6666666666666666,
              "#ed7953"
             ],
             [
              0.7777777777777778,
              "#fb9f3a"
             ],
             [
              0.8888888888888888,
              "#fdca26"
             ],
             [
              1,
              "#f0f921"
             ]
            ],
            "type": "heatmap"
           }
          ],
          "heatmapgl": [
           {
            "colorbar": {
             "outlinewidth": 0,
             "ticks": ""
            },
            "colorscale": [
             [
              0,
              "#0d0887"
             ],
             [
              0.1111111111111111,
              "#46039f"
             ],
             [
              0.2222222222222222,
              "#7201a8"
             ],
             [
              0.3333333333333333,
              "#9c179e"
             ],
             [
              0.4444444444444444,
              "#bd3786"
             ],
             [
              0.5555555555555556,
              "#d8576b"
             ],
             [
              0.6666666666666666,
              "#ed7953"
             ],
             [
              0.7777777777777778,
              "#fb9f3a"
             ],
             [
              0.8888888888888888,
              "#fdca26"
             ],
             [
              1,
              "#f0f921"
             ]
            ],
            "type": "heatmapgl"
           }
          ],
          "histogram": [
           {
            "marker": {
             "pattern": {
              "fillmode": "overlay",
              "size": 10,
              "solidity": 0.2
             }
            },
            "type": "histogram"
           }
          ],
          "histogram2d": [
           {
            "colorbar": {
             "outlinewidth": 0,
             "ticks": ""
            },
            "colorscale": [
             [
              0,
              "#0d0887"
             ],
             [
              0.1111111111111111,
              "#46039f"
             ],
             [
              0.2222222222222222,
              "#7201a8"
             ],
             [
              0.3333333333333333,
              "#9c179e"
             ],
             [
              0.4444444444444444,
              "#bd3786"
             ],
             [
              0.5555555555555556,
              "#d8576b"
             ],
             [
              0.6666666666666666,
              "#ed7953"
             ],
             [
              0.7777777777777778,
              "#fb9f3a"
             ],
             [
              0.8888888888888888,
              "#fdca26"
             ],
             [
              1,
              "#f0f921"
             ]
            ],
            "type": "histogram2d"
           }
          ],
          "histogram2dcontour": [
           {
            "colorbar": {
             "outlinewidth": 0,
             "ticks": ""
            },
            "colorscale": [
             [
              0,
              "#0d0887"
             ],
             [
              0.1111111111111111,
              "#46039f"
             ],
             [
              0.2222222222222222,
              "#7201a8"
             ],
             [
              0.3333333333333333,
              "#9c179e"
             ],
             [
              0.4444444444444444,
              "#bd3786"
             ],
             [
              0.5555555555555556,
              "#d8576b"
             ],
             [
              0.6666666666666666,
              "#ed7953"
             ],
             [
              0.7777777777777778,
              "#fb9f3a"
             ],
             [
              0.8888888888888888,
              "#fdca26"
             ],
             [
              1,
              "#f0f921"
             ]
            ],
            "type": "histogram2dcontour"
           }
          ],
          "mesh3d": [
           {
            "colorbar": {
             "outlinewidth": 0,
             "ticks": ""
            },
            "type": "mesh3d"
           }
          ],
          "parcoords": [
           {
            "line": {
             "colorbar": {
              "outlinewidth": 0,
              "ticks": ""
             }
            },
            "type": "parcoords"
           }
          ],
          "pie": [
           {
            "automargin": true,
            "type": "pie"
           }
          ],
          "scatter": [
           {
            "marker": {
             "line": {
              "color": "#283442"
             }
            },
            "type": "scatter"
           }
          ],
          "scatter3d": [
           {
            "line": {
             "colorbar": {
              "outlinewidth": 0,
              "ticks": ""
             }
            },
            "marker": {
             "colorbar": {
              "outlinewidth": 0,
              "ticks": ""
             }
            },
            "type": "scatter3d"
           }
          ],
          "scattercarpet": [
           {
            "marker": {
             "colorbar": {
              "outlinewidth": 0,
              "ticks": ""
             }
            },
            "type": "scattercarpet"
           }
          ],
          "scattergeo": [
           {
            "marker": {
             "colorbar": {
              "outlinewidth": 0,
              "ticks": ""
             }
            },
            "type": "scattergeo"
           }
          ],
          "scattergl": [
           {
            "marker": {
             "line": {
              "color": "#283442"
             }
            },
            "type": "scattergl"
           }
          ],
          "scattermapbox": [
           {
            "marker": {
             "colorbar": {
              "outlinewidth": 0,
              "ticks": ""
             }
            },
            "type": "scattermapbox"
           }
          ],
          "scatterpolar": [
           {
            "marker": {
             "colorbar": {
              "outlinewidth": 0,
              "ticks": ""
             }
            },
            "type": "scatterpolar"
           }
          ],
          "scatterpolargl": [
           {
            "marker": {
             "colorbar": {
              "outlinewidth": 0,
              "ticks": ""
             }
            },
            "type": "scatterpolargl"
           }
          ],
          "scatterternary": [
           {
            "marker": {
             "colorbar": {
              "outlinewidth": 0,
              "ticks": ""
             }
            },
            "type": "scatterternary"
           }
          ],
          "surface": [
           {
            "colorbar": {
             "outlinewidth": 0,
             "ticks": ""
            },
            "colorscale": [
             [
              0,
              "#0d0887"
             ],
             [
              0.1111111111111111,
              "#46039f"
             ],
             [
              0.2222222222222222,
              "#7201a8"
             ],
             [
              0.3333333333333333,
              "#9c179e"
             ],
             [
              0.4444444444444444,
              "#bd3786"
             ],
             [
              0.5555555555555556,
              "#d8576b"
             ],
             [
              0.6666666666666666,
              "#ed7953"
             ],
             [
              0.7777777777777778,
              "#fb9f3a"
             ],
             [
              0.8888888888888888,
              "#fdca26"
             ],
             [
              1,
              "#f0f921"
             ]
            ],
            "type": "surface"
           }
          ],
          "table": [
           {
            "cells": {
             "fill": {
              "color": "#506784"
             },
             "line": {
              "color": "rgb(17,17,17)"
             }
            },
            "header": {
             "fill": {
              "color": "#2a3f5f"
             },
             "line": {
              "color": "rgb(17,17,17)"
             }
            },
            "type": "table"
           }
          ]
         },
         "layout": {
          "annotationdefaults": {
           "arrowcolor": "#f2f5fa",
           "arrowhead": 0,
           "arrowwidth": 1
          },
          "autotypenumbers": "strict",
          "coloraxis": {
           "colorbar": {
            "outlinewidth": 0,
            "ticks": ""
           }
          },
          "colorscale": {
           "diverging": [
            [
             0,
             "#8e0152"
            ],
            [
             0.1,
             "#c51b7d"
            ],
            [
             0.2,
             "#de77ae"
            ],
            [
             0.3,
             "#f1b6da"
            ],
            [
             0.4,
             "#fde0ef"
            ],
            [
             0.5,
             "#f7f7f7"
            ],
            [
             0.6,
             "#e6f5d0"
            ],
            [
             0.7,
             "#b8e186"
            ],
            [
             0.8,
             "#7fbc41"
            ],
            [
             0.9,
             "#4d9221"
            ],
            [
             1,
             "#276419"
            ]
           ],
           "sequential": [
            [
             0,
             "#0d0887"
            ],
            [
             0.1111111111111111,
             "#46039f"
            ],
            [
             0.2222222222222222,
             "#7201a8"
            ],
            [
             0.3333333333333333,
             "#9c179e"
            ],
            [
             0.4444444444444444,
             "#bd3786"
            ],
            [
             0.5555555555555556,
             "#d8576b"
            ],
            [
             0.6666666666666666,
             "#ed7953"
            ],
            [
             0.7777777777777778,
             "#fb9f3a"
            ],
            [
             0.8888888888888888,
             "#fdca26"
            ],
            [
             1,
             "#f0f921"
            ]
           ],
           "sequentialminus": [
            [
             0,
             "#0d0887"
            ],
            [
             0.1111111111111111,
             "#46039f"
            ],
            [
             0.2222222222222222,
             "#7201a8"
            ],
            [
             0.3333333333333333,
             "#9c179e"
            ],
            [
             0.4444444444444444,
             "#bd3786"
            ],
            [
             0.5555555555555556,
             "#d8576b"
            ],
            [
             0.6666666666666666,
             "#ed7953"
            ],
            [
             0.7777777777777778,
             "#fb9f3a"
            ],
            [
             0.8888888888888888,
             "#fdca26"
            ],
            [
             1,
             "#f0f921"
            ]
           ]
          },
          "colorway": [
           "#636efa",
           "#EF553B",
           "#00cc96",
           "#ab63fa",
           "#FFA15A",
           "#19d3f3",
           "#FF6692",
           "#B6E880",
           "#FF97FF",
           "#FECB52"
          ],
          "font": {
           "color": "#f2f5fa"
          },
          "geo": {
           "bgcolor": "rgb(17,17,17)",
           "lakecolor": "rgb(17,17,17)",
           "landcolor": "rgb(17,17,17)",
           "showlakes": true,
           "showland": true,
           "subunitcolor": "#506784"
          },
          "hoverlabel": {
           "align": "left"
          },
          "hovermode": "closest",
          "mapbox": {
           "style": "dark"
          },
          "paper_bgcolor": "rgb(17,17,17)",
          "plot_bgcolor": "rgb(17,17,17)",
          "polar": {
           "angularaxis": {
            "gridcolor": "#506784",
            "linecolor": "#506784",
            "ticks": ""
           },
           "bgcolor": "rgb(17,17,17)",
           "radialaxis": {
            "gridcolor": "#506784",
            "linecolor": "#506784",
            "ticks": ""
           }
          },
          "scene": {
           "xaxis": {
            "backgroundcolor": "rgb(17,17,17)",
            "gridcolor": "#506784",
            "gridwidth": 2,
            "linecolor": "#506784",
            "showbackground": true,
            "ticks": "",
            "zerolinecolor": "#C8D4E3"
           },
           "yaxis": {
            "backgroundcolor": "rgb(17,17,17)",
            "gridcolor": "#506784",
            "gridwidth": 2,
            "linecolor": "#506784",
            "showbackground": true,
            "ticks": "",
            "zerolinecolor": "#C8D4E3"
           },
           "zaxis": {
            "backgroundcolor": "rgb(17,17,17)",
            "gridcolor": "#506784",
            "gridwidth": 2,
            "linecolor": "#506784",
            "showbackground": true,
            "ticks": "",
            "zerolinecolor": "#C8D4E3"
           }
          },
          "shapedefaults": {
           "line": {
            "color": "#f2f5fa"
           }
          },
          "sliderdefaults": {
           "bgcolor": "#C8D4E3",
           "bordercolor": "rgb(17,17,17)",
           "borderwidth": 1,
           "tickwidth": 0
          },
          "ternary": {
           "aaxis": {
            "gridcolor": "#506784",
            "linecolor": "#506784",
            "ticks": ""
           },
           "baxis": {
            "gridcolor": "#506784",
            "linecolor": "#506784",
            "ticks": ""
           },
           "bgcolor": "rgb(17,17,17)",
           "caxis": {
            "gridcolor": "#506784",
            "linecolor": "#506784",
            "ticks": ""
           }
          },
          "title": {
           "x": 0.05
          },
          "updatemenudefaults": {
           "bgcolor": "#506784",
           "borderwidth": 0
          },
          "xaxis": {
           "automargin": true,
           "gridcolor": "#283442",
           "linecolor": "#506784",
           "ticks": "",
           "title": {
            "standoff": 15
           },
           "zerolinecolor": "#283442",
           "zerolinewidth": 2
          },
          "yaxis": {
           "automargin": true,
           "gridcolor": "#283442",
           "linecolor": "#506784",
           "ticks": "",
           "title": {
            "standoff": 15
           },
           "zerolinecolor": "#283442",
           "zerolinewidth": 2
          }
         }
        },
        "width": 1200,
        "xaxis": {
         "anchor": "y",
         "domain": [
          0,
          0.45
         ],
         "showgrid": false,
         "title": {
          "text": "Total Sales"
         }
        },
        "xaxis2": {
         "anchor": "y2",
         "domain": [
          0.55,
          1
         ],
         "showgrid": false,
         "title": {
          "text": "Total Sales"
         }
        },
        "yaxis": {
         "anchor": "x",
         "categoryorder": "total ascending",
         "domain": [
          0,
          1
         ],
         "title": {
          "text": ""
         }
        },
        "yaxis2": {
         "anchor": "x2",
         "categoryorder": "total ascending",
         "domain": [
          0,
          1
         ],
         "title": {
          "text": ""
         }
        }
       }
      }
     },
     "metadata": {},
     "output_type": "display_data"
    },
    {
     "data": {
      "application/vnd.plotly.v1+json": {
       "config": {
        "plotlyServerURL": "https://plot.ly"
       },
       "data": [
        {
         "marker": {
          "color": [
           "#3498db",
           "#7f8c8d",
           "#e377c2",
           "#1f77b4",
           "#bcbd22"
          ]
         },
         "name": "",
         "orientation": "h",
         "text": [
          "$751,162.46",
          "$507,000.00",
          "$463,004.27",
          "$426,871.56",
          "$389,511.06"
         ],
         "textfont": {
          "color": "white"
         },
         "type": "bar",
         "x": [
          751162.46,
          507000,
          463004.27,
          426871.56,
          389511.06
         ],
         "xaxis": "x",
         "y": [
          "Fishing",
          "Computers",
          "Cleats",
          "Camping & Hiking",
          "Cardio Equipment"
         ],
         "yaxis": "y"
        },
        {
         "marker": {
          "color": [
           "#d35400",
           "#e74c3c",
           "#9b59b6",
           "#8c564b",
           "#2ecc71"
          ]
         },
         "name": "",
         "orientation": "h",
         "text": [
          "$1,467.70",
          "$1,185.72",
          "$374.80",
          "$349.86",
          "$179.99"
         ],
         "textfont": {
          "color": "white"
         },
         "type": "bar",
         "x": [
          1467.7,
          1185.72,
          374.8,
          349.86,
          179.99
         ],
         "xaxis": "x2",
         "y": [
          "CDs ",
          "Electronics",
          "Golf Balls",
          "Accessories",
          "Girls' Apparel"
         ],
         "yaxis": "y2"
        }
       ],
       "layout": {
        "annotations": [
         {
          "font": {
           "size": 12
          },
          "showarrow": false,
          "text": "<b>Top 5 High-Performing Categories in Europe</b>",
          "x": 0.225,
          "xanchor": "center",
          "xref": "paper",
          "y": 1,
          "yanchor": "bottom",
          "yref": "paper"
         },
         {
          "font": {
           "size": 12
          },
          "showarrow": false,
          "text": "<b>Bottom 5 Under-Performing Categories in Europe</b>",
          "x": 0.775,
          "xanchor": "center",
          "xref": "paper",
          "y": 1,
          "yanchor": "bottom",
          "yref": "paper"
         }
        ],
        "height": 300,
        "margin": {
         "b": 0,
         "l": 0,
         "r": 0,
         "t": 20
        },
        "paper_bgcolor": "rgba(0, 0, 0, 0)",
        "plot_bgcolor": "rgba(0, 0, 0, 0)",
        "showlegend": false,
        "template": {
         "data": {
          "bar": [
           {
            "error_x": {
             "color": "#f2f5fa"
            },
            "error_y": {
             "color": "#f2f5fa"
            },
            "marker": {
             "line": {
              "color": "rgb(17,17,17)",
              "width": 0.5
             },
             "pattern": {
              "fillmode": "overlay",
              "size": 10,
              "solidity": 0.2
             }
            },
            "type": "bar"
           }
          ],
          "barpolar": [
           {
            "marker": {
             "line": {
              "color": "rgb(17,17,17)",
              "width": 0.5
             },
             "pattern": {
              "fillmode": "overlay",
              "size": 10,
              "solidity": 0.2
             }
            },
            "type": "barpolar"
           }
          ],
          "carpet": [
           {
            "aaxis": {
             "endlinecolor": "#A2B1C6",
             "gridcolor": "#506784",
             "linecolor": "#506784",
             "minorgridcolor": "#506784",
             "startlinecolor": "#A2B1C6"
            },
            "baxis": {
             "endlinecolor": "#A2B1C6",
             "gridcolor": "#506784",
             "linecolor": "#506784",
             "minorgridcolor": "#506784",
             "startlinecolor": "#A2B1C6"
            },
            "type": "carpet"
           }
          ],
          "choropleth": [
           {
            "colorbar": {
             "outlinewidth": 0,
             "ticks": ""
            },
            "type": "choropleth"
           }
          ],
          "contour": [
           {
            "colorbar": {
             "outlinewidth": 0,
             "ticks": ""
            },
            "colorscale": [
             [
              0,
              "#0d0887"
             ],
             [
              0.1111111111111111,
              "#46039f"
             ],
             [
              0.2222222222222222,
              "#7201a8"
             ],
             [
              0.3333333333333333,
              "#9c179e"
             ],
             [
              0.4444444444444444,
              "#bd3786"
             ],
             [
              0.5555555555555556,
              "#d8576b"
             ],
             [
              0.6666666666666666,
              "#ed7953"
             ],
             [
              0.7777777777777778,
              "#fb9f3a"
             ],
             [
              0.8888888888888888,
              "#fdca26"
             ],
             [
              1,
              "#f0f921"
             ]
            ],
            "type": "contour"
           }
          ],
          "contourcarpet": [
           {
            "colorbar": {
             "outlinewidth": 0,
             "ticks": ""
            },
            "type": "contourcarpet"
           }
          ],
          "heatmap": [
           {
            "colorbar": {
             "outlinewidth": 0,
             "ticks": ""
            },
            "colorscale": [
             [
              0,
              "#0d0887"
             ],
             [
              0.1111111111111111,
              "#46039f"
             ],
             [
              0.2222222222222222,
              "#7201a8"
             ],
             [
              0.3333333333333333,
              "#9c179e"
             ],
             [
              0.4444444444444444,
              "#bd3786"
             ],
             [
              0.5555555555555556,
              "#d8576b"
             ],
             [
              0.6666666666666666,
              "#ed7953"
             ],
             [
              0.7777777777777778,
              "#fb9f3a"
             ],
             [
              0.8888888888888888,
              "#fdca26"
             ],
             [
              1,
              "#f0f921"
             ]
            ],
            "type": "heatmap"
           }
          ],
          "heatmapgl": [
           {
            "colorbar": {
             "outlinewidth": 0,
             "ticks": ""
            },
            "colorscale": [
             [
              0,
              "#0d0887"
             ],
             [
              0.1111111111111111,
              "#46039f"
             ],
             [
              0.2222222222222222,
              "#7201a8"
             ],
             [
              0.3333333333333333,
              "#9c179e"
             ],
             [
              0.4444444444444444,
              "#bd3786"
             ],
             [
              0.5555555555555556,
              "#d8576b"
             ],
             [
              0.6666666666666666,
              "#ed7953"
             ],
             [
              0.7777777777777778,
              "#fb9f3a"
             ],
             [
              0.8888888888888888,
              "#fdca26"
             ],
             [
              1,
              "#f0f921"
             ]
            ],
            "type": "heatmapgl"
           }
          ],
          "histogram": [
           {
            "marker": {
             "pattern": {
              "fillmode": "overlay",
              "size": 10,
              "solidity": 0.2
             }
            },
            "type": "histogram"
           }
          ],
          "histogram2d": [
           {
            "colorbar": {
             "outlinewidth": 0,
             "ticks": ""
            },
            "colorscale": [
             [
              0,
              "#0d0887"
             ],
             [
              0.1111111111111111,
              "#46039f"
             ],
             [
              0.2222222222222222,
              "#7201a8"
             ],
             [
              0.3333333333333333,
              "#9c179e"
             ],
             [
              0.4444444444444444,
              "#bd3786"
             ],
             [
              0.5555555555555556,
              "#d8576b"
             ],
             [
              0.6666666666666666,
              "#ed7953"
             ],
             [
              0.7777777777777778,
              "#fb9f3a"
             ],
             [
              0.8888888888888888,
              "#fdca26"
             ],
             [
              1,
              "#f0f921"
             ]
            ],
            "type": "histogram2d"
           }
          ],
          "histogram2dcontour": [
           {
            "colorbar": {
             "outlinewidth": 0,
             "ticks": ""
            },
            "colorscale": [
             [
              0,
              "#0d0887"
             ],
             [
              0.1111111111111111,
              "#46039f"
             ],
             [
              0.2222222222222222,
              "#7201a8"
             ],
             [
              0.3333333333333333,
              "#9c179e"
             ],
             [
              0.4444444444444444,
              "#bd3786"
             ],
             [
              0.5555555555555556,
              "#d8576b"
             ],
             [
              0.6666666666666666,
              "#ed7953"
             ],
             [
              0.7777777777777778,
              "#fb9f3a"
             ],
             [
              0.8888888888888888,
              "#fdca26"
             ],
             [
              1,
              "#f0f921"
             ]
            ],
            "type": "histogram2dcontour"
           }
          ],
          "mesh3d": [
           {
            "colorbar": {
             "outlinewidth": 0,
             "ticks": ""
            },
            "type": "mesh3d"
           }
          ],
          "parcoords": [
           {
            "line": {
             "colorbar": {
              "outlinewidth": 0,
              "ticks": ""
             }
            },
            "type": "parcoords"
           }
          ],
          "pie": [
           {
            "automargin": true,
            "type": "pie"
           }
          ],
          "scatter": [
           {
            "marker": {
             "line": {
              "color": "#283442"
             }
            },
            "type": "scatter"
           }
          ],
          "scatter3d": [
           {
            "line": {
             "colorbar": {
              "outlinewidth": 0,
              "ticks": ""
             }
            },
            "marker": {
             "colorbar": {
              "outlinewidth": 0,
              "ticks": ""
             }
            },
            "type": "scatter3d"
           }
          ],
          "scattercarpet": [
           {
            "marker": {
             "colorbar": {
              "outlinewidth": 0,
              "ticks": ""
             }
            },
            "type": "scattercarpet"
           }
          ],
          "scattergeo": [
           {
            "marker": {
             "colorbar": {
              "outlinewidth": 0,
              "ticks": ""
             }
            },
            "type": "scattergeo"
           }
          ],
          "scattergl": [
           {
            "marker": {
             "line": {
              "color": "#283442"
             }
            },
            "type": "scattergl"
           }
          ],
          "scattermapbox": [
           {
            "marker": {
             "colorbar": {
              "outlinewidth": 0,
              "ticks": ""
             }
            },
            "type": "scattermapbox"
           }
          ],
          "scatterpolar": [
           {
            "marker": {
             "colorbar": {
              "outlinewidth": 0,
              "ticks": ""
             }
            },
            "type": "scatterpolar"
           }
          ],
          "scatterpolargl": [
           {
            "marker": {
             "colorbar": {
              "outlinewidth": 0,
              "ticks": ""
             }
            },
            "type": "scatterpolargl"
           }
          ],
          "scatterternary": [
           {
            "marker": {
             "colorbar": {
              "outlinewidth": 0,
              "ticks": ""
             }
            },
            "type": "scatterternary"
           }
          ],
          "surface": [
           {
            "colorbar": {
             "outlinewidth": 0,
             "ticks": ""
            },
            "colorscale": [
             [
              0,
              "#0d0887"
             ],
             [
              0.1111111111111111,
              "#46039f"
             ],
             [
              0.2222222222222222,
              "#7201a8"
             ],
             [
              0.3333333333333333,
              "#9c179e"
             ],
             [
              0.4444444444444444,
              "#bd3786"
             ],
             [
              0.5555555555555556,
              "#d8576b"
             ],
             [
              0.6666666666666666,
              "#ed7953"
             ],
             [
              0.7777777777777778,
              "#fb9f3a"
             ],
             [
              0.8888888888888888,
              "#fdca26"
             ],
             [
              1,
              "#f0f921"
             ]
            ],
            "type": "surface"
           }
          ],
          "table": [
           {
            "cells": {
             "fill": {
              "color": "#506784"
             },
             "line": {
              "color": "rgb(17,17,17)"
             }
            },
            "header": {
             "fill": {
              "color": "#2a3f5f"
             },
             "line": {
              "color": "rgb(17,17,17)"
             }
            },
            "type": "table"
           }
          ]
         },
         "layout": {
          "annotationdefaults": {
           "arrowcolor": "#f2f5fa",
           "arrowhead": 0,
           "arrowwidth": 1
          },
          "autotypenumbers": "strict",
          "coloraxis": {
           "colorbar": {
            "outlinewidth": 0,
            "ticks": ""
           }
          },
          "colorscale": {
           "diverging": [
            [
             0,
             "#8e0152"
            ],
            [
             0.1,
             "#c51b7d"
            ],
            [
             0.2,
             "#de77ae"
            ],
            [
             0.3,
             "#f1b6da"
            ],
            [
             0.4,
             "#fde0ef"
            ],
            [
             0.5,
             "#f7f7f7"
            ],
            [
             0.6,
             "#e6f5d0"
            ],
            [
             0.7,
             "#b8e186"
            ],
            [
             0.8,
             "#7fbc41"
            ],
            [
             0.9,
             "#4d9221"
            ],
            [
             1,
             "#276419"
            ]
           ],
           "sequential": [
            [
             0,
             "#0d0887"
            ],
            [
             0.1111111111111111,
             "#46039f"
            ],
            [
             0.2222222222222222,
             "#7201a8"
            ],
            [
             0.3333333333333333,
             "#9c179e"
            ],
            [
             0.4444444444444444,
             "#bd3786"
            ],
            [
             0.5555555555555556,
             "#d8576b"
            ],
            [
             0.6666666666666666,
             "#ed7953"
            ],
            [
             0.7777777777777778,
             "#fb9f3a"
            ],
            [
             0.8888888888888888,
             "#fdca26"
            ],
            [
             1,
             "#f0f921"
            ]
           ],
           "sequentialminus": [
            [
             0,
             "#0d0887"
            ],
            [
             0.1111111111111111,
             "#46039f"
            ],
            [
             0.2222222222222222,
             "#7201a8"
            ],
            [
             0.3333333333333333,
             "#9c179e"
            ],
            [
             0.4444444444444444,
             "#bd3786"
            ],
            [
             0.5555555555555556,
             "#d8576b"
            ],
            [
             0.6666666666666666,
             "#ed7953"
            ],
            [
             0.7777777777777778,
             "#fb9f3a"
            ],
            [
             0.8888888888888888,
             "#fdca26"
            ],
            [
             1,
             "#f0f921"
            ]
           ]
          },
          "colorway": [
           "#636efa",
           "#EF553B",
           "#00cc96",
           "#ab63fa",
           "#FFA15A",
           "#19d3f3",
           "#FF6692",
           "#B6E880",
           "#FF97FF",
           "#FECB52"
          ],
          "font": {
           "color": "#f2f5fa"
          },
          "geo": {
           "bgcolor": "rgb(17,17,17)",
           "lakecolor": "rgb(17,17,17)",
           "landcolor": "rgb(17,17,17)",
           "showlakes": true,
           "showland": true,
           "subunitcolor": "#506784"
          },
          "hoverlabel": {
           "align": "left"
          },
          "hovermode": "closest",
          "mapbox": {
           "style": "dark"
          },
          "paper_bgcolor": "rgb(17,17,17)",
          "plot_bgcolor": "rgb(17,17,17)",
          "polar": {
           "angularaxis": {
            "gridcolor": "#506784",
            "linecolor": "#506784",
            "ticks": ""
           },
           "bgcolor": "rgb(17,17,17)",
           "radialaxis": {
            "gridcolor": "#506784",
            "linecolor": "#506784",
            "ticks": ""
           }
          },
          "scene": {
           "xaxis": {
            "backgroundcolor": "rgb(17,17,17)",
            "gridcolor": "#506784",
            "gridwidth": 2,
            "linecolor": "#506784",
            "showbackground": true,
            "ticks": "",
            "zerolinecolor": "#C8D4E3"
           },
           "yaxis": {
            "backgroundcolor": "rgb(17,17,17)",
            "gridcolor": "#506784",
            "gridwidth": 2,
            "linecolor": "#506784",
            "showbackground": true,
            "ticks": "",
            "zerolinecolor": "#C8D4E3"
           },
           "zaxis": {
            "backgroundcolor": "rgb(17,17,17)",
            "gridcolor": "#506784",
            "gridwidth": 2,
            "linecolor": "#506784",
            "showbackground": true,
            "ticks": "",
            "zerolinecolor": "#C8D4E3"
           }
          },
          "shapedefaults": {
           "line": {
            "color": "#f2f5fa"
           }
          },
          "sliderdefaults": {
           "bgcolor": "#C8D4E3",
           "bordercolor": "rgb(17,17,17)",
           "borderwidth": 1,
           "tickwidth": 0
          },
          "ternary": {
           "aaxis": {
            "gridcolor": "#506784",
            "linecolor": "#506784",
            "ticks": ""
           },
           "baxis": {
            "gridcolor": "#506784",
            "linecolor": "#506784",
            "ticks": ""
           },
           "bgcolor": "rgb(17,17,17)",
           "caxis": {
            "gridcolor": "#506784",
            "linecolor": "#506784",
            "ticks": ""
           }
          },
          "title": {
           "x": 0.05
          },
          "updatemenudefaults": {
           "bgcolor": "#506784",
           "borderwidth": 0
          },
          "xaxis": {
           "automargin": true,
           "gridcolor": "#283442",
           "linecolor": "#506784",
           "ticks": "",
           "title": {
            "standoff": 15
           },
           "zerolinecolor": "#283442",
           "zerolinewidth": 2
          },
          "yaxis": {
           "automargin": true,
           "gridcolor": "#283442",
           "linecolor": "#506784",
           "ticks": "",
           "title": {
            "standoff": 15
           },
           "zerolinecolor": "#283442",
           "zerolinewidth": 2
          }
         }
        },
        "width": 1200,
        "xaxis": {
         "anchor": "y",
         "domain": [
          0,
          0.45
         ],
         "showgrid": false,
         "title": {
          "text": "Total Sales"
         }
        },
        "xaxis2": {
         "anchor": "y2",
         "domain": [
          0.55,
          1
         ],
         "showgrid": false,
         "title": {
          "text": "Total Sales"
         }
        },
        "yaxis": {
         "anchor": "x",
         "categoryorder": "total ascending",
         "domain": [
          0,
          1
         ],
         "title": {
          "text": ""
         }
        },
        "yaxis2": {
         "anchor": "x2",
         "categoryorder": "total ascending",
         "domain": [
          0,
          1
         ],
         "title": {
          "text": ""
         }
        }
       }
      }
     },
     "metadata": {},
     "output_type": "display_data"
    },
    {
     "data": {
      "application/vnd.plotly.v1+json": {
       "config": {
        "plotlyServerURL": "https://plot.ly"
       },
       "data": [
        {
         "marker": {
          "color": [
           "#3498db",
           "#1f77b4",
           "#e377c2",
           "#bcbd22",
           "#2ca02c"
          ]
         },
         "name": "",
         "orientation": "h",
         "text": [
          "$976,751.19",
          "$623,658.44",
          "$620,176.64",
          "$526,537.65",
          "$449,550.00"
         ],
         "textfont": {
          "color": "white"
         },
         "type": "bar",
         "x": [
          976751.19,
          623658.44,
          620176.64,
          526537.65,
          449550
         ],
         "xaxis": "x",
         "y": [
          "Fishing",
          "Camping & Hiking",
          "Cleats",
          "Cardio Equipment",
          "Women's Apparel"
         ],
         "yaxis": "y"
        },
        {
         "marker": {
          "color": [
           "#2c3e50",
           "#27ae60",
           "#ff5733",
           "#e67e22",
           "#1abc9c"
          ]
         },
         "name": "",
         "orientation": "h",
         "text": [
          "$5,488.78",
          "$4,249.75",
          "$3,504.00",
          "$3,402.00",
          "$2,624.25"
         ],
         "textfont": {
          "color": "white"
         },
         "type": "bar",
         "x": [
          5488.78,
          4249.75,
          3504,
          3402,
          2624.25
         ],
         "xaxis": "x2",
         "y": [
          "Tennis & Racquet",
          "Golf Bags & Carts",
          "Hockey",
          "Strength Training",
          "Fitness Accessories"
         ],
         "yaxis": "y2"
        }
       ],
       "layout": {
        "annotations": [
         {
          "font": {
           "size": 12
          },
          "showarrow": false,
          "text": "<b>Top 5 High-Performing Categories in Latin America</b>",
          "x": 0.225,
          "xanchor": "center",
          "xref": "paper",
          "y": 1,
          "yanchor": "bottom",
          "yref": "paper"
         },
         {
          "font": {
           "size": 12
          },
          "showarrow": false,
          "text": "<b>Bottom 5 Under-Performing Categories in Latin America</b>",
          "x": 0.775,
          "xanchor": "center",
          "xref": "paper",
          "y": 1,
          "yanchor": "bottom",
          "yref": "paper"
         }
        ],
        "height": 300,
        "margin": {
         "b": 0,
         "l": 0,
         "r": 0,
         "t": 20
        },
        "paper_bgcolor": "rgba(0, 0, 0, 0)",
        "plot_bgcolor": "rgba(0, 0, 0, 0)",
        "showlegend": false,
        "template": {
         "data": {
          "bar": [
           {
            "error_x": {
             "color": "#f2f5fa"
            },
            "error_y": {
             "color": "#f2f5fa"
            },
            "marker": {
             "line": {
              "color": "rgb(17,17,17)",
              "width": 0.5
             },
             "pattern": {
              "fillmode": "overlay",
              "size": 10,
              "solidity": 0.2
             }
            },
            "type": "bar"
           }
          ],
          "barpolar": [
           {
            "marker": {
             "line": {
              "color": "rgb(17,17,17)",
              "width": 0.5
             },
             "pattern": {
              "fillmode": "overlay",
              "size": 10,
              "solidity": 0.2
             }
            },
            "type": "barpolar"
           }
          ],
          "carpet": [
           {
            "aaxis": {
             "endlinecolor": "#A2B1C6",
             "gridcolor": "#506784",
             "linecolor": "#506784",
             "minorgridcolor": "#506784",
             "startlinecolor": "#A2B1C6"
            },
            "baxis": {
             "endlinecolor": "#A2B1C6",
             "gridcolor": "#506784",
             "linecolor": "#506784",
             "minorgridcolor": "#506784",
             "startlinecolor": "#A2B1C6"
            },
            "type": "carpet"
           }
          ],
          "choropleth": [
           {
            "colorbar": {
             "outlinewidth": 0,
             "ticks": ""
            },
            "type": "choropleth"
           }
          ],
          "contour": [
           {
            "colorbar": {
             "outlinewidth": 0,
             "ticks": ""
            },
            "colorscale": [
             [
              0,
              "#0d0887"
             ],
             [
              0.1111111111111111,
              "#46039f"
             ],
             [
              0.2222222222222222,
              "#7201a8"
             ],
             [
              0.3333333333333333,
              "#9c179e"
             ],
             [
              0.4444444444444444,
              "#bd3786"
             ],
             [
              0.5555555555555556,
              "#d8576b"
             ],
             [
              0.6666666666666666,
              "#ed7953"
             ],
             [
              0.7777777777777778,
              "#fb9f3a"
             ],
             [
              0.8888888888888888,
              "#fdca26"
             ],
             [
              1,
              "#f0f921"
             ]
            ],
            "type": "contour"
           }
          ],
          "contourcarpet": [
           {
            "colorbar": {
             "outlinewidth": 0,
             "ticks": ""
            },
            "type": "contourcarpet"
           }
          ],
          "heatmap": [
           {
            "colorbar": {
             "outlinewidth": 0,
             "ticks": ""
            },
            "colorscale": [
             [
              0,
              "#0d0887"
             ],
             [
              0.1111111111111111,
              "#46039f"
             ],
             [
              0.2222222222222222,
              "#7201a8"
             ],
             [
              0.3333333333333333,
              "#9c179e"
             ],
             [
              0.4444444444444444,
              "#bd3786"
             ],
             [
              0.5555555555555556,
              "#d8576b"
             ],
             [
              0.6666666666666666,
              "#ed7953"
             ],
             [
              0.7777777777777778,
              "#fb9f3a"
             ],
             [
              0.8888888888888888,
              "#fdca26"
             ],
             [
              1,
              "#f0f921"
             ]
            ],
            "type": "heatmap"
           }
          ],
          "heatmapgl": [
           {
            "colorbar": {
             "outlinewidth": 0,
             "ticks": ""
            },
            "colorscale": [
             [
              0,
              "#0d0887"
             ],
             [
              0.1111111111111111,
              "#46039f"
             ],
             [
              0.2222222222222222,
              "#7201a8"
             ],
             [
              0.3333333333333333,
              "#9c179e"
             ],
             [
              0.4444444444444444,
              "#bd3786"
             ],
             [
              0.5555555555555556,
              "#d8576b"
             ],
             [
              0.6666666666666666,
              "#ed7953"
             ],
             [
              0.7777777777777778,
              "#fb9f3a"
             ],
             [
              0.8888888888888888,
              "#fdca26"
             ],
             [
              1,
              "#f0f921"
             ]
            ],
            "type": "heatmapgl"
           }
          ],
          "histogram": [
           {
            "marker": {
             "pattern": {
              "fillmode": "overlay",
              "size": 10,
              "solidity": 0.2
             }
            },
            "type": "histogram"
           }
          ],
          "histogram2d": [
           {
            "colorbar": {
             "outlinewidth": 0,
             "ticks": ""
            },
            "colorscale": [
             [
              0,
              "#0d0887"
             ],
             [
              0.1111111111111111,
              "#46039f"
             ],
             [
              0.2222222222222222,
              "#7201a8"
             ],
             [
              0.3333333333333333,
              "#9c179e"
             ],
             [
              0.4444444444444444,
              "#bd3786"
             ],
             [
              0.5555555555555556,
              "#d8576b"
             ],
             [
              0.6666666666666666,
              "#ed7953"
             ],
             [
              0.7777777777777778,
              "#fb9f3a"
             ],
             [
              0.8888888888888888,
              "#fdca26"
             ],
             [
              1,
              "#f0f921"
             ]
            ],
            "type": "histogram2d"
           }
          ],
          "histogram2dcontour": [
           {
            "colorbar": {
             "outlinewidth": 0,
             "ticks": ""
            },
            "colorscale": [
             [
              0,
              "#0d0887"
             ],
             [
              0.1111111111111111,
              "#46039f"
             ],
             [
              0.2222222222222222,
              "#7201a8"
             ],
             [
              0.3333333333333333,
              "#9c179e"
             ],
             [
              0.4444444444444444,
              "#bd3786"
             ],
             [
              0.5555555555555556,
              "#d8576b"
             ],
             [
              0.6666666666666666,
              "#ed7953"
             ],
             [
              0.7777777777777778,
              "#fb9f3a"
             ],
             [
              0.8888888888888888,
              "#fdca26"
             ],
             [
              1,
              "#f0f921"
             ]
            ],
            "type": "histogram2dcontour"
           }
          ],
          "mesh3d": [
           {
            "colorbar": {
             "outlinewidth": 0,
             "ticks": ""
            },
            "type": "mesh3d"
           }
          ],
          "parcoords": [
           {
            "line": {
             "colorbar": {
              "outlinewidth": 0,
              "ticks": ""
             }
            },
            "type": "parcoords"
           }
          ],
          "pie": [
           {
            "automargin": true,
            "type": "pie"
           }
          ],
          "scatter": [
           {
            "marker": {
             "line": {
              "color": "#283442"
             }
            },
            "type": "scatter"
           }
          ],
          "scatter3d": [
           {
            "line": {
             "colorbar": {
              "outlinewidth": 0,
              "ticks": ""
             }
            },
            "marker": {
             "colorbar": {
              "outlinewidth": 0,
              "ticks": ""
             }
            },
            "type": "scatter3d"
           }
          ],
          "scattercarpet": [
           {
            "marker": {
             "colorbar": {
              "outlinewidth": 0,
              "ticks": ""
             }
            },
            "type": "scattercarpet"
           }
          ],
          "scattergeo": [
           {
            "marker": {
             "colorbar": {
              "outlinewidth": 0,
              "ticks": ""
             }
            },
            "type": "scattergeo"
           }
          ],
          "scattergl": [
           {
            "marker": {
             "line": {
              "color": "#283442"
             }
            },
            "type": "scattergl"
           }
          ],
          "scattermapbox": [
           {
            "marker": {
             "colorbar": {
              "outlinewidth": 0,
              "ticks": ""
             }
            },
            "type": "scattermapbox"
           }
          ],
          "scatterpolar": [
           {
            "marker": {
             "colorbar": {
              "outlinewidth": 0,
              "ticks": ""
             }
            },
            "type": "scatterpolar"
           }
          ],
          "scatterpolargl": [
           {
            "marker": {
             "colorbar": {
              "outlinewidth": 0,
              "ticks": ""
             }
            },
            "type": "scatterpolargl"
           }
          ],
          "scatterternary": [
           {
            "marker": {
             "colorbar": {
              "outlinewidth": 0,
              "ticks": ""
             }
            },
            "type": "scatterternary"
           }
          ],
          "surface": [
           {
            "colorbar": {
             "outlinewidth": 0,
             "ticks": ""
            },
            "colorscale": [
             [
              0,
              "#0d0887"
             ],
             [
              0.1111111111111111,
              "#46039f"
             ],
             [
              0.2222222222222222,
              "#7201a8"
             ],
             [
              0.3333333333333333,
              "#9c179e"
             ],
             [
              0.4444444444444444,
              "#bd3786"
             ],
             [
              0.5555555555555556,
              "#d8576b"
             ],
             [
              0.6666666666666666,
              "#ed7953"
             ],
             [
              0.7777777777777778,
              "#fb9f3a"
             ],
             [
              0.8888888888888888,
              "#fdca26"
             ],
             [
              1,
              "#f0f921"
             ]
            ],
            "type": "surface"
           }
          ],
          "table": [
           {
            "cells": {
             "fill": {
              "color": "#506784"
             },
             "line": {
              "color": "rgb(17,17,17)"
             }
            },
            "header": {
             "fill": {
              "color": "#2a3f5f"
             },
             "line": {
              "color": "rgb(17,17,17)"
             }
            },
            "type": "table"
           }
          ]
         },
         "layout": {
          "annotationdefaults": {
           "arrowcolor": "#f2f5fa",
           "arrowhead": 0,
           "arrowwidth": 1
          },
          "autotypenumbers": "strict",
          "coloraxis": {
           "colorbar": {
            "outlinewidth": 0,
            "ticks": ""
           }
          },
          "colorscale": {
           "diverging": [
            [
             0,
             "#8e0152"
            ],
            [
             0.1,
             "#c51b7d"
            ],
            [
             0.2,
             "#de77ae"
            ],
            [
             0.3,
             "#f1b6da"
            ],
            [
             0.4,
             "#fde0ef"
            ],
            [
             0.5,
             "#f7f7f7"
            ],
            [
             0.6,
             "#e6f5d0"
            ],
            [
             0.7,
             "#b8e186"
            ],
            [
             0.8,
             "#7fbc41"
            ],
            [
             0.9,
             "#4d9221"
            ],
            [
             1,
             "#276419"
            ]
           ],
           "sequential": [
            [
             0,
             "#0d0887"
            ],
            [
             0.1111111111111111,
             "#46039f"
            ],
            [
             0.2222222222222222,
             "#7201a8"
            ],
            [
             0.3333333333333333,
             "#9c179e"
            ],
            [
             0.4444444444444444,
             "#bd3786"
            ],
            [
             0.5555555555555556,
             "#d8576b"
            ],
            [
             0.6666666666666666,
             "#ed7953"
            ],
            [
             0.7777777777777778,
             "#fb9f3a"
            ],
            [
             0.8888888888888888,
             "#fdca26"
            ],
            [
             1,
             "#f0f921"
            ]
           ],
           "sequentialminus": [
            [
             0,
             "#0d0887"
            ],
            [
             0.1111111111111111,
             "#46039f"
            ],
            [
             0.2222222222222222,
             "#7201a8"
            ],
            [
             0.3333333333333333,
             "#9c179e"
            ],
            [
             0.4444444444444444,
             "#bd3786"
            ],
            [
             0.5555555555555556,
             "#d8576b"
            ],
            [
             0.6666666666666666,
             "#ed7953"
            ],
            [
             0.7777777777777778,
             "#fb9f3a"
            ],
            [
             0.8888888888888888,
             "#fdca26"
            ],
            [
             1,
             "#f0f921"
            ]
           ]
          },
          "colorway": [
           "#636efa",
           "#EF553B",
           "#00cc96",
           "#ab63fa",
           "#FFA15A",
           "#19d3f3",
           "#FF6692",
           "#B6E880",
           "#FF97FF",
           "#FECB52"
          ],
          "font": {
           "color": "#f2f5fa"
          },
          "geo": {
           "bgcolor": "rgb(17,17,17)",
           "lakecolor": "rgb(17,17,17)",
           "landcolor": "rgb(17,17,17)",
           "showlakes": true,
           "showland": true,
           "subunitcolor": "#506784"
          },
          "hoverlabel": {
           "align": "left"
          },
          "hovermode": "closest",
          "mapbox": {
           "style": "dark"
          },
          "paper_bgcolor": "rgb(17,17,17)",
          "plot_bgcolor": "rgb(17,17,17)",
          "polar": {
           "angularaxis": {
            "gridcolor": "#506784",
            "linecolor": "#506784",
            "ticks": ""
           },
           "bgcolor": "rgb(17,17,17)",
           "radialaxis": {
            "gridcolor": "#506784",
            "linecolor": "#506784",
            "ticks": ""
           }
          },
          "scene": {
           "xaxis": {
            "backgroundcolor": "rgb(17,17,17)",
            "gridcolor": "#506784",
            "gridwidth": 2,
            "linecolor": "#506784",
            "showbackground": true,
            "ticks": "",
            "zerolinecolor": "#C8D4E3"
           },
           "yaxis": {
            "backgroundcolor": "rgb(17,17,17)",
            "gridcolor": "#506784",
            "gridwidth": 2,
            "linecolor": "#506784",
            "showbackground": true,
            "ticks": "",
            "zerolinecolor": "#C8D4E3"
           },
           "zaxis": {
            "backgroundcolor": "rgb(17,17,17)",
            "gridcolor": "#506784",
            "gridwidth": 2,
            "linecolor": "#506784",
            "showbackground": true,
            "ticks": "",
            "zerolinecolor": "#C8D4E3"
           }
          },
          "shapedefaults": {
           "line": {
            "color": "#f2f5fa"
           }
          },
          "sliderdefaults": {
           "bgcolor": "#C8D4E3",
           "bordercolor": "rgb(17,17,17)",
           "borderwidth": 1,
           "tickwidth": 0
          },
          "ternary": {
           "aaxis": {
            "gridcolor": "#506784",
            "linecolor": "#506784",
            "ticks": ""
           },
           "baxis": {
            "gridcolor": "#506784",
            "linecolor": "#506784",
            "ticks": ""
           },
           "bgcolor": "rgb(17,17,17)",
           "caxis": {
            "gridcolor": "#506784",
            "linecolor": "#506784",
            "ticks": ""
           }
          },
          "title": {
           "x": 0.05
          },
          "updatemenudefaults": {
           "bgcolor": "#506784",
           "borderwidth": 0
          },
          "xaxis": {
           "automargin": true,
           "gridcolor": "#283442",
           "linecolor": "#506784",
           "ticks": "",
           "title": {
            "standoff": 15
           },
           "zerolinecolor": "#283442",
           "zerolinewidth": 2
          },
          "yaxis": {
           "automargin": true,
           "gridcolor": "#283442",
           "linecolor": "#506784",
           "ticks": "",
           "title": {
            "standoff": 15
           },
           "zerolinecolor": "#283442",
           "zerolinewidth": 2
          }
         }
        },
        "width": 1200,
        "xaxis": {
         "anchor": "y",
         "domain": [
          0,
          0.45
         ],
         "showgrid": false,
         "title": {
          "text": "Total Sales"
         }
        },
        "xaxis2": {
         "anchor": "y2",
         "domain": [
          0.55,
          1
         ],
         "showgrid": false,
         "title": {
          "text": "Total Sales"
         }
        },
        "yaxis": {
         "anchor": "x",
         "categoryorder": "total ascending",
         "domain": [
          0,
          1
         ],
         "title": {
          "text": ""
         }
        },
        "yaxis2": {
         "anchor": "x2",
         "categoryorder": "total ascending",
         "domain": [
          0,
          1
         ],
         "title": {
          "text": ""
         }
        }
       }
      }
     },
     "metadata": {},
     "output_type": "display_data"
    },
    {
     "data": {
      "application/vnd.plotly.v1+json": {
       "config": {
        "plotlyServerURL": "https://plot.ly"
       },
       "data": [
        {
         "marker": {
          "color": [
           "#17becf",
           "#7f8c8d",
           "#27ae60",
           "#8c564b",
           "#bcbd22"
          ]
         },
         "name": "",
         "orientation": "h",
         "text": [
          "$199,184.93",
          "$130,500.00",
          "$111,216.68",
          "$73,503.30",
          "$66,813.12"
         ],
         "textfont": {
          "color": "white"
         },
         "type": "bar",
         "x": [
          199184.93,
          130500,
          111216.68,
          73503.3,
          66813.12
         ],
         "xaxis": "x",
         "y": [
          "Garden",
          "Computers",
          "Crafts",
          "Music",
          "Health and Beauty"
         ],
         "yaxis": "y"
        },
        {
         "marker": {
          "color": [
           "#7f7f7f",
           "#d35400",
           "#1abc9c",
           "#2c3e50",
           "#ff5733"
          ]
         },
         "name": "",
         "orientation": "h",
         "text": [
          "$297.84",
          "$179.91",
          "$174.95",
          "$134.97",
          "$122.00"
         ],
         "textfont": {
          "color": "white"
         },
         "type": "bar",
         "x": [
          297.84,
          179.91,
          174.95,
          134.97,
          122
         ],
         "xaxis": "x2",
         "y": [
          "Trade-In",
          "Golf Apparel",
          "Fitness Accessories",
          "Tennis & Racquet",
          "Hockey"
         ],
         "yaxis": "y2"
        }
       ],
       "layout": {
        "annotations": [
         {
          "font": {
           "size": 12
          },
          "showarrow": false,
          "text": "<b>Top 5 High-Performing Categories in Pacific Asia</b>",
          "x": 0.225,
          "xanchor": "center",
          "xref": "paper",
          "y": 1,
          "yanchor": "bottom",
          "yref": "paper"
         },
         {
          "font": {
           "size": 12
          },
          "showarrow": false,
          "text": "<b>Bottom 5 Under-Performing Categories in Pacific Asia</b>",
          "x": 0.775,
          "xanchor": "center",
          "xref": "paper",
          "y": 1,
          "yanchor": "bottom",
          "yref": "paper"
         }
        ],
        "height": 300,
        "margin": {
         "b": 0,
         "l": 0,
         "r": 0,
         "t": 20
        },
        "paper_bgcolor": "rgba(0, 0, 0, 0)",
        "plot_bgcolor": "rgba(0, 0, 0, 0)",
        "showlegend": false,
        "template": {
         "data": {
          "bar": [
           {
            "error_x": {
             "color": "#f2f5fa"
            },
            "error_y": {
             "color": "#f2f5fa"
            },
            "marker": {
             "line": {
              "color": "rgb(17,17,17)",
              "width": 0.5
             },
             "pattern": {
              "fillmode": "overlay",
              "size": 10,
              "solidity": 0.2
             }
            },
            "type": "bar"
           }
          ],
          "barpolar": [
           {
            "marker": {
             "line": {
              "color": "rgb(17,17,17)",
              "width": 0.5
             },
             "pattern": {
              "fillmode": "overlay",
              "size": 10,
              "solidity": 0.2
             }
            },
            "type": "barpolar"
           }
          ],
          "carpet": [
           {
            "aaxis": {
             "endlinecolor": "#A2B1C6",
             "gridcolor": "#506784",
             "linecolor": "#506784",
             "minorgridcolor": "#506784",
             "startlinecolor": "#A2B1C6"
            },
            "baxis": {
             "endlinecolor": "#A2B1C6",
             "gridcolor": "#506784",
             "linecolor": "#506784",
             "minorgridcolor": "#506784",
             "startlinecolor": "#A2B1C6"
            },
            "type": "carpet"
           }
          ],
          "choropleth": [
           {
            "colorbar": {
             "outlinewidth": 0,
             "ticks": ""
            },
            "type": "choropleth"
           }
          ],
          "contour": [
           {
            "colorbar": {
             "outlinewidth": 0,
             "ticks": ""
            },
            "colorscale": [
             [
              0,
              "#0d0887"
             ],
             [
              0.1111111111111111,
              "#46039f"
             ],
             [
              0.2222222222222222,
              "#7201a8"
             ],
             [
              0.3333333333333333,
              "#9c179e"
             ],
             [
              0.4444444444444444,
              "#bd3786"
             ],
             [
              0.5555555555555556,
              "#d8576b"
             ],
             [
              0.6666666666666666,
              "#ed7953"
             ],
             [
              0.7777777777777778,
              "#fb9f3a"
             ],
             [
              0.8888888888888888,
              "#fdca26"
             ],
             [
              1,
              "#f0f921"
             ]
            ],
            "type": "contour"
           }
          ],
          "contourcarpet": [
           {
            "colorbar": {
             "outlinewidth": 0,
             "ticks": ""
            },
            "type": "contourcarpet"
           }
          ],
          "heatmap": [
           {
            "colorbar": {
             "outlinewidth": 0,
             "ticks": ""
            },
            "colorscale": [
             [
              0,
              "#0d0887"
             ],
             [
              0.1111111111111111,
              "#46039f"
             ],
             [
              0.2222222222222222,
              "#7201a8"
             ],
             [
              0.3333333333333333,
              "#9c179e"
             ],
             [
              0.4444444444444444,
              "#bd3786"
             ],
             [
              0.5555555555555556,
              "#d8576b"
             ],
             [
              0.6666666666666666,
              "#ed7953"
             ],
             [
              0.7777777777777778,
              "#fb9f3a"
             ],
             [
              0.8888888888888888,
              "#fdca26"
             ],
             [
              1,
              "#f0f921"
             ]
            ],
            "type": "heatmap"
           }
          ],
          "heatmapgl": [
           {
            "colorbar": {
             "outlinewidth": 0,
             "ticks": ""
            },
            "colorscale": [
             [
              0,
              "#0d0887"
             ],
             [
              0.1111111111111111,
              "#46039f"
             ],
             [
              0.2222222222222222,
              "#7201a8"
             ],
             [
              0.3333333333333333,
              "#9c179e"
             ],
             [
              0.4444444444444444,
              "#bd3786"
             ],
             [
              0.5555555555555556,
              "#d8576b"
             ],
             [
              0.6666666666666666,
              "#ed7953"
             ],
             [
              0.7777777777777778,
              "#fb9f3a"
             ],
             [
              0.8888888888888888,
              "#fdca26"
             ],
             [
              1,
              "#f0f921"
             ]
            ],
            "type": "heatmapgl"
           }
          ],
          "histogram": [
           {
            "marker": {
             "pattern": {
              "fillmode": "overlay",
              "size": 10,
              "solidity": 0.2
             }
            },
            "type": "histogram"
           }
          ],
          "histogram2d": [
           {
            "colorbar": {
             "outlinewidth": 0,
             "ticks": ""
            },
            "colorscale": [
             [
              0,
              "#0d0887"
             ],
             [
              0.1111111111111111,
              "#46039f"
             ],
             [
              0.2222222222222222,
              "#7201a8"
             ],
             [
              0.3333333333333333,
              "#9c179e"
             ],
             [
              0.4444444444444444,
              "#bd3786"
             ],
             [
              0.5555555555555556,
              "#d8576b"
             ],
             [
              0.6666666666666666,
              "#ed7953"
             ],
             [
              0.7777777777777778,
              "#fb9f3a"
             ],
             [
              0.8888888888888888,
              "#fdca26"
             ],
             [
              1,
              "#f0f921"
             ]
            ],
            "type": "histogram2d"
           }
          ],
          "histogram2dcontour": [
           {
            "colorbar": {
             "outlinewidth": 0,
             "ticks": ""
            },
            "colorscale": [
             [
              0,
              "#0d0887"
             ],
             [
              0.1111111111111111,
              "#46039f"
             ],
             [
              0.2222222222222222,
              "#7201a8"
             ],
             [
              0.3333333333333333,
              "#9c179e"
             ],
             [
              0.4444444444444444,
              "#bd3786"
             ],
             [
              0.5555555555555556,
              "#d8576b"
             ],
             [
              0.6666666666666666,
              "#ed7953"
             ],
             [
              0.7777777777777778,
              "#fb9f3a"
             ],
             [
              0.8888888888888888,
              "#fdca26"
             ],
             [
              1,
              "#f0f921"
             ]
            ],
            "type": "histogram2dcontour"
           }
          ],
          "mesh3d": [
           {
            "colorbar": {
             "outlinewidth": 0,
             "ticks": ""
            },
            "type": "mesh3d"
           }
          ],
          "parcoords": [
           {
            "line": {
             "colorbar": {
              "outlinewidth": 0,
              "ticks": ""
             }
            },
            "type": "parcoords"
           }
          ],
          "pie": [
           {
            "automargin": true,
            "type": "pie"
           }
          ],
          "scatter": [
           {
            "marker": {
             "line": {
              "color": "#283442"
             }
            },
            "type": "scatter"
           }
          ],
          "scatter3d": [
           {
            "line": {
             "colorbar": {
              "outlinewidth": 0,
              "ticks": ""
             }
            },
            "marker": {
             "colorbar": {
              "outlinewidth": 0,
              "ticks": ""
             }
            },
            "type": "scatter3d"
           }
          ],
          "scattercarpet": [
           {
            "marker": {
             "colorbar": {
              "outlinewidth": 0,
              "ticks": ""
             }
            },
            "type": "scattercarpet"
           }
          ],
          "scattergeo": [
           {
            "marker": {
             "colorbar": {
              "outlinewidth": 0,
              "ticks": ""
             }
            },
            "type": "scattergeo"
           }
          ],
          "scattergl": [
           {
            "marker": {
             "line": {
              "color": "#283442"
             }
            },
            "type": "scattergl"
           }
          ],
          "scattermapbox": [
           {
            "marker": {
             "colorbar": {
              "outlinewidth": 0,
              "ticks": ""
             }
            },
            "type": "scattermapbox"
           }
          ],
          "scatterpolar": [
           {
            "marker": {
             "colorbar": {
              "outlinewidth": 0,
              "ticks": ""
             }
            },
            "type": "scatterpolar"
           }
          ],
          "scatterpolargl": [
           {
            "marker": {
             "colorbar": {
              "outlinewidth": 0,
              "ticks": ""
             }
            },
            "type": "scatterpolargl"
           }
          ],
          "scatterternary": [
           {
            "marker": {
             "colorbar": {
              "outlinewidth": 0,
              "ticks": ""
             }
            },
            "type": "scatterternary"
           }
          ],
          "surface": [
           {
            "colorbar": {
             "outlinewidth": 0,
             "ticks": ""
            },
            "colorscale": [
             [
              0,
              "#0d0887"
             ],
             [
              0.1111111111111111,
              "#46039f"
             ],
             [
              0.2222222222222222,
              "#7201a8"
             ],
             [
              0.3333333333333333,
              "#9c179e"
             ],
             [
              0.4444444444444444,
              "#bd3786"
             ],
             [
              0.5555555555555556,
              "#d8576b"
             ],
             [
              0.6666666666666666,
              "#ed7953"
             ],
             [
              0.7777777777777778,
              "#fb9f3a"
             ],
             [
              0.8888888888888888,
              "#fdca26"
             ],
             [
              1,
              "#f0f921"
             ]
            ],
            "type": "surface"
           }
          ],
          "table": [
           {
            "cells": {
             "fill": {
              "color": "#506784"
             },
             "line": {
              "color": "rgb(17,17,17)"
             }
            },
            "header": {
             "fill": {
              "color": "#2a3f5f"
             },
             "line": {
              "color": "rgb(17,17,17)"
             }
            },
            "type": "table"
           }
          ]
         },
         "layout": {
          "annotationdefaults": {
           "arrowcolor": "#f2f5fa",
           "arrowhead": 0,
           "arrowwidth": 1
          },
          "autotypenumbers": "strict",
          "coloraxis": {
           "colorbar": {
            "outlinewidth": 0,
            "ticks": ""
           }
          },
          "colorscale": {
           "diverging": [
            [
             0,
             "#8e0152"
            ],
            [
             0.1,
             "#c51b7d"
            ],
            [
             0.2,
             "#de77ae"
            ],
            [
             0.3,
             "#f1b6da"
            ],
            [
             0.4,
             "#fde0ef"
            ],
            [
             0.5,
             "#f7f7f7"
            ],
            [
             0.6,
             "#e6f5d0"
            ],
            [
             0.7,
             "#b8e186"
            ],
            [
             0.8,
             "#7fbc41"
            ],
            [
             0.9,
             "#4d9221"
            ],
            [
             1,
             "#276419"
            ]
           ],
           "sequential": [
            [
             0,
             "#0d0887"
            ],
            [
             0.1111111111111111,
             "#46039f"
            ],
            [
             0.2222222222222222,
             "#7201a8"
            ],
            [
             0.3333333333333333,
             "#9c179e"
            ],
            [
             0.4444444444444444,
             "#bd3786"
            ],
            [
             0.5555555555555556,
             "#d8576b"
            ],
            [
             0.6666666666666666,
             "#ed7953"
            ],
            [
             0.7777777777777778,
             "#fb9f3a"
            ],
            [
             0.8888888888888888,
             "#fdca26"
            ],
            [
             1,
             "#f0f921"
            ]
           ],
           "sequentialminus": [
            [
             0,
             "#0d0887"
            ],
            [
             0.1111111111111111,
             "#46039f"
            ],
            [
             0.2222222222222222,
             "#7201a8"
            ],
            [
             0.3333333333333333,
             "#9c179e"
            ],
            [
             0.4444444444444444,
             "#bd3786"
            ],
            [
             0.5555555555555556,
             "#d8576b"
            ],
            [
             0.6666666666666666,
             "#ed7953"
            ],
            [
             0.7777777777777778,
             "#fb9f3a"
            ],
            [
             0.8888888888888888,
             "#fdca26"
            ],
            [
             1,
             "#f0f921"
            ]
           ]
          },
          "colorway": [
           "#636efa",
           "#EF553B",
           "#00cc96",
           "#ab63fa",
           "#FFA15A",
           "#19d3f3",
           "#FF6692",
           "#B6E880",
           "#FF97FF",
           "#FECB52"
          ],
          "font": {
           "color": "#f2f5fa"
          },
          "geo": {
           "bgcolor": "rgb(17,17,17)",
           "lakecolor": "rgb(17,17,17)",
           "landcolor": "rgb(17,17,17)",
           "showlakes": true,
           "showland": true,
           "subunitcolor": "#506784"
          },
          "hoverlabel": {
           "align": "left"
          },
          "hovermode": "closest",
          "mapbox": {
           "style": "dark"
          },
          "paper_bgcolor": "rgb(17,17,17)",
          "plot_bgcolor": "rgb(17,17,17)",
          "polar": {
           "angularaxis": {
            "gridcolor": "#506784",
            "linecolor": "#506784",
            "ticks": ""
           },
           "bgcolor": "rgb(17,17,17)",
           "radialaxis": {
            "gridcolor": "#506784",
            "linecolor": "#506784",
            "ticks": ""
           }
          },
          "scene": {
           "xaxis": {
            "backgroundcolor": "rgb(17,17,17)",
            "gridcolor": "#506784",
            "gridwidth": 2,
            "linecolor": "#506784",
            "showbackground": true,
            "ticks": "",
            "zerolinecolor": "#C8D4E3"
           },
           "yaxis": {
            "backgroundcolor": "rgb(17,17,17)",
            "gridcolor": "#506784",
            "gridwidth": 2,
            "linecolor": "#506784",
            "showbackground": true,
            "ticks": "",
            "zerolinecolor": "#C8D4E3"
           },
           "zaxis": {
            "backgroundcolor": "rgb(17,17,17)",
            "gridcolor": "#506784",
            "gridwidth": 2,
            "linecolor": "#506784",
            "showbackground": true,
            "ticks": "",
            "zerolinecolor": "#C8D4E3"
           }
          },
          "shapedefaults": {
           "line": {
            "color": "#f2f5fa"
           }
          },
          "sliderdefaults": {
           "bgcolor": "#C8D4E3",
           "bordercolor": "rgb(17,17,17)",
           "borderwidth": 1,
           "tickwidth": 0
          },
          "ternary": {
           "aaxis": {
            "gridcolor": "#506784",
            "linecolor": "#506784",
            "ticks": ""
           },
           "baxis": {
            "gridcolor": "#506784",
            "linecolor": "#506784",
            "ticks": ""
           },
           "bgcolor": "rgb(17,17,17)",
           "caxis": {
            "gridcolor": "#506784",
            "linecolor": "#506784",
            "ticks": ""
           }
          },
          "title": {
           "x": 0.05
          },
          "updatemenudefaults": {
           "bgcolor": "#506784",
           "borderwidth": 0
          },
          "xaxis": {
           "automargin": true,
           "gridcolor": "#283442",
           "linecolor": "#506784",
           "ticks": "",
           "title": {
            "standoff": 15
           },
           "zerolinecolor": "#283442",
           "zerolinewidth": 2
          },
          "yaxis": {
           "automargin": true,
           "gridcolor": "#283442",
           "linecolor": "#506784",
           "ticks": "",
           "title": {
            "standoff": 15
           },
           "zerolinecolor": "#283442",
           "zerolinewidth": 2
          }
         }
        },
        "width": 1200,
        "xaxis": {
         "anchor": "y",
         "domain": [
          0,
          0.45
         ],
         "showgrid": false,
         "title": {
          "text": "Total Sales"
         }
        },
        "xaxis2": {
         "anchor": "y2",
         "domain": [
          0.55,
          1
         ],
         "showgrid": false,
         "title": {
          "text": "Total Sales"
         }
        },
        "yaxis": {
         "anchor": "x",
         "categoryorder": "total ascending",
         "domain": [
          0,
          1
         ],
         "title": {
          "text": ""
         }
        },
        "yaxis2": {
         "anchor": "x2",
         "categoryorder": "total ascending",
         "domain": [
          0,
          1
         ],
         "title": {
          "text": ""
         }
        }
       }
      }
     },
     "metadata": {},
     "output_type": "display_data"
    },
    {
     "data": {
      "application/vnd.plotly.v1+json": {
       "config": {
        "plotlyServerURL": "https://plot.ly"
       },
       "data": [
        {
         "marker": {
          "color": [
           "#1f77b4",
           "#e377c2",
           "#bcbd22",
           "#d62728",
           "#2ca02c"
          ]
         },
         "name": "",
         "orientation": "h",
         "text": [
          "$4,199.72",
          "$2,939.51",
          "$2,599.74",
          "$1,949.85",
          "$1,800.00"
         ],
         "textfont": {
          "color": "white"
         },
         "type": "bar",
         "x": [
          4199.72,
          2939.51,
          2599.74,
          1949.85,
          1800
         ],
         "xaxis": "x",
         "y": [
          "Camping & Hiking",
          "Cleats",
          "Cardio Equipment",
          "Men's Footwear",
          "Women's Apparel"
         ],
         "yaxis": "y"
        },
        {
         "marker": {
          "color": [
           "#2ecc71",
           "#e74c3c",
           "#2c3e50",
           "#f1c40f",
           "#9b59b6"
          ]
         },
         "name": "",
         "orientation": "h",
         "text": [
          "$280.00",
          "$175.96",
          "$134.97",
          "$119.97",
          "$49.97"
         ],
         "textfont": {
          "color": "white"
         },
         "type": "bar",
         "x": [
          280,
          175.96,
          134.97,
          119.97,
          49.97
         ],
         "xaxis": "x2",
         "y": [
          "Girls' Apparel",
          "Electronics",
          "Tennis & Racquet",
          "Golf Gloves",
          "Golf Balls"
         ],
         "yaxis": "y2"
        }
       ],
       "layout": {
        "annotations": [
         {
          "font": {
           "size": 12
          },
          "showarrow": false,
          "text": "<b>Top 5 High-Performing Categories in USCA</b>",
          "x": 0.225,
          "xanchor": "center",
          "xref": "paper",
          "y": 1,
          "yanchor": "bottom",
          "yref": "paper"
         },
         {
          "font": {
           "size": 12
          },
          "showarrow": false,
          "text": "<b>Bottom 5 Under-Performing Categories in USCA</b>",
          "x": 0.775,
          "xanchor": "center",
          "xref": "paper",
          "y": 1,
          "yanchor": "bottom",
          "yref": "paper"
         }
        ],
        "height": 300,
        "margin": {
         "b": 0,
         "l": 0,
         "r": 0,
         "t": 20
        },
        "paper_bgcolor": "rgba(0, 0, 0, 0)",
        "plot_bgcolor": "rgba(0, 0, 0, 0)",
        "showlegend": false,
        "template": {
         "data": {
          "bar": [
           {
            "error_x": {
             "color": "#f2f5fa"
            },
            "error_y": {
             "color": "#f2f5fa"
            },
            "marker": {
             "line": {
              "color": "rgb(17,17,17)",
              "width": 0.5
             },
             "pattern": {
              "fillmode": "overlay",
              "size": 10,
              "solidity": 0.2
             }
            },
            "type": "bar"
           }
          ],
          "barpolar": [
           {
            "marker": {
             "line": {
              "color": "rgb(17,17,17)",
              "width": 0.5
             },
             "pattern": {
              "fillmode": "overlay",
              "size": 10,
              "solidity": 0.2
             }
            },
            "type": "barpolar"
           }
          ],
          "carpet": [
           {
            "aaxis": {
             "endlinecolor": "#A2B1C6",
             "gridcolor": "#506784",
             "linecolor": "#506784",
             "minorgridcolor": "#506784",
             "startlinecolor": "#A2B1C6"
            },
            "baxis": {
             "endlinecolor": "#A2B1C6",
             "gridcolor": "#506784",
             "linecolor": "#506784",
             "minorgridcolor": "#506784",
             "startlinecolor": "#A2B1C6"
            },
            "type": "carpet"
           }
          ],
          "choropleth": [
           {
            "colorbar": {
             "outlinewidth": 0,
             "ticks": ""
            },
            "type": "choropleth"
           }
          ],
          "contour": [
           {
            "colorbar": {
             "outlinewidth": 0,
             "ticks": ""
            },
            "colorscale": [
             [
              0,
              "#0d0887"
             ],
             [
              0.1111111111111111,
              "#46039f"
             ],
             [
              0.2222222222222222,
              "#7201a8"
             ],
             [
              0.3333333333333333,
              "#9c179e"
             ],
             [
              0.4444444444444444,
              "#bd3786"
             ],
             [
              0.5555555555555556,
              "#d8576b"
             ],
             [
              0.6666666666666666,
              "#ed7953"
             ],
             [
              0.7777777777777778,
              "#fb9f3a"
             ],
             [
              0.8888888888888888,
              "#fdca26"
             ],
             [
              1,
              "#f0f921"
             ]
            ],
            "type": "contour"
           }
          ],
          "contourcarpet": [
           {
            "colorbar": {
             "outlinewidth": 0,
             "ticks": ""
            },
            "type": "contourcarpet"
           }
          ],
          "heatmap": [
           {
            "colorbar": {
             "outlinewidth": 0,
             "ticks": ""
            },
            "colorscale": [
             [
              0,
              "#0d0887"
             ],
             [
              0.1111111111111111,
              "#46039f"
             ],
             [
              0.2222222222222222,
              "#7201a8"
             ],
             [
              0.3333333333333333,
              "#9c179e"
             ],
             [
              0.4444444444444444,
              "#bd3786"
             ],
             [
              0.5555555555555556,
              "#d8576b"
             ],
             [
              0.6666666666666666,
              "#ed7953"
             ],
             [
              0.7777777777777778,
              "#fb9f3a"
             ],
             [
              0.8888888888888888,
              "#fdca26"
             ],
             [
              1,
              "#f0f921"
             ]
            ],
            "type": "heatmap"
           }
          ],
          "heatmapgl": [
           {
            "colorbar": {
             "outlinewidth": 0,
             "ticks": ""
            },
            "colorscale": [
             [
              0,
              "#0d0887"
             ],
             [
              0.1111111111111111,
              "#46039f"
             ],
             [
              0.2222222222222222,
              "#7201a8"
             ],
             [
              0.3333333333333333,
              "#9c179e"
             ],
             [
              0.4444444444444444,
              "#bd3786"
             ],
             [
              0.5555555555555556,
              "#d8576b"
             ],
             [
              0.6666666666666666,
              "#ed7953"
             ],
             [
              0.7777777777777778,
              "#fb9f3a"
             ],
             [
              0.8888888888888888,
              "#fdca26"
             ],
             [
              1,
              "#f0f921"
             ]
            ],
            "type": "heatmapgl"
           }
          ],
          "histogram": [
           {
            "marker": {
             "pattern": {
              "fillmode": "overlay",
              "size": 10,
              "solidity": 0.2
             }
            },
            "type": "histogram"
           }
          ],
          "histogram2d": [
           {
            "colorbar": {
             "outlinewidth": 0,
             "ticks": ""
            },
            "colorscale": [
             [
              0,
              "#0d0887"
             ],
             [
              0.1111111111111111,
              "#46039f"
             ],
             [
              0.2222222222222222,
              "#7201a8"
             ],
             [
              0.3333333333333333,
              "#9c179e"
             ],
             [
              0.4444444444444444,
              "#bd3786"
             ],
             [
              0.5555555555555556,
              "#d8576b"
             ],
             [
              0.6666666666666666,
              "#ed7953"
             ],
             [
              0.7777777777777778,
              "#fb9f3a"
             ],
             [
              0.8888888888888888,
              "#fdca26"
             ],
             [
              1,
              "#f0f921"
             ]
            ],
            "type": "histogram2d"
           }
          ],
          "histogram2dcontour": [
           {
            "colorbar": {
             "outlinewidth": 0,
             "ticks": ""
            },
            "colorscale": [
             [
              0,
              "#0d0887"
             ],
             [
              0.1111111111111111,
              "#46039f"
             ],
             [
              0.2222222222222222,
              "#7201a8"
             ],
             [
              0.3333333333333333,
              "#9c179e"
             ],
             [
              0.4444444444444444,
              "#bd3786"
             ],
             [
              0.5555555555555556,
              "#d8576b"
             ],
             [
              0.6666666666666666,
              "#ed7953"
             ],
             [
              0.7777777777777778,
              "#fb9f3a"
             ],
             [
              0.8888888888888888,
              "#fdca26"
             ],
             [
              1,
              "#f0f921"
             ]
            ],
            "type": "histogram2dcontour"
           }
          ],
          "mesh3d": [
           {
            "colorbar": {
             "outlinewidth": 0,
             "ticks": ""
            },
            "type": "mesh3d"
           }
          ],
          "parcoords": [
           {
            "line": {
             "colorbar": {
              "outlinewidth": 0,
              "ticks": ""
             }
            },
            "type": "parcoords"
           }
          ],
          "pie": [
           {
            "automargin": true,
            "type": "pie"
           }
          ],
          "scatter": [
           {
            "marker": {
             "line": {
              "color": "#283442"
             }
            },
            "type": "scatter"
           }
          ],
          "scatter3d": [
           {
            "line": {
             "colorbar": {
              "outlinewidth": 0,
              "ticks": ""
             }
            },
            "marker": {
             "colorbar": {
              "outlinewidth": 0,
              "ticks": ""
             }
            },
            "type": "scatter3d"
           }
          ],
          "scattercarpet": [
           {
            "marker": {
             "colorbar": {
              "outlinewidth": 0,
              "ticks": ""
             }
            },
            "type": "scattercarpet"
           }
          ],
          "scattergeo": [
           {
            "marker": {
             "colorbar": {
              "outlinewidth": 0,
              "ticks": ""
             }
            },
            "type": "scattergeo"
           }
          ],
          "scattergl": [
           {
            "marker": {
             "line": {
              "color": "#283442"
             }
            },
            "type": "scattergl"
           }
          ],
          "scattermapbox": [
           {
            "marker": {
             "colorbar": {
              "outlinewidth": 0,
              "ticks": ""
             }
            },
            "type": "scattermapbox"
           }
          ],
          "scatterpolar": [
           {
            "marker": {
             "colorbar": {
              "outlinewidth": 0,
              "ticks": ""
             }
            },
            "type": "scatterpolar"
           }
          ],
          "scatterpolargl": [
           {
            "marker": {
             "colorbar": {
              "outlinewidth": 0,
              "ticks": ""
             }
            },
            "type": "scatterpolargl"
           }
          ],
          "scatterternary": [
           {
            "marker": {
             "colorbar": {
              "outlinewidth": 0,
              "ticks": ""
             }
            },
            "type": "scatterternary"
           }
          ],
          "surface": [
           {
            "colorbar": {
             "outlinewidth": 0,
             "ticks": ""
            },
            "colorscale": [
             [
              0,
              "#0d0887"
             ],
             [
              0.1111111111111111,
              "#46039f"
             ],
             [
              0.2222222222222222,
              "#7201a8"
             ],
             [
              0.3333333333333333,
              "#9c179e"
             ],
             [
              0.4444444444444444,
              "#bd3786"
             ],
             [
              0.5555555555555556,
              "#d8576b"
             ],
             [
              0.6666666666666666,
              "#ed7953"
             ],
             [
              0.7777777777777778,
              "#fb9f3a"
             ],
             [
              0.8888888888888888,
              "#fdca26"
             ],
             [
              1,
              "#f0f921"
             ]
            ],
            "type": "surface"
           }
          ],
          "table": [
           {
            "cells": {
             "fill": {
              "color": "#506784"
             },
             "line": {
              "color": "rgb(17,17,17)"
             }
            },
            "header": {
             "fill": {
              "color": "#2a3f5f"
             },
             "line": {
              "color": "rgb(17,17,17)"
             }
            },
            "type": "table"
           }
          ]
         },
         "layout": {
          "annotationdefaults": {
           "arrowcolor": "#f2f5fa",
           "arrowhead": 0,
           "arrowwidth": 1
          },
          "autotypenumbers": "strict",
          "coloraxis": {
           "colorbar": {
            "outlinewidth": 0,
            "ticks": ""
           }
          },
          "colorscale": {
           "diverging": [
            [
             0,
             "#8e0152"
            ],
            [
             0.1,
             "#c51b7d"
            ],
            [
             0.2,
             "#de77ae"
            ],
            [
             0.3,
             "#f1b6da"
            ],
            [
             0.4,
             "#fde0ef"
            ],
            [
             0.5,
             "#f7f7f7"
            ],
            [
             0.6,
             "#e6f5d0"
            ],
            [
             0.7,
             "#b8e186"
            ],
            [
             0.8,
             "#7fbc41"
            ],
            [
             0.9,
             "#4d9221"
            ],
            [
             1,
             "#276419"
            ]
           ],
           "sequential": [
            [
             0,
             "#0d0887"
            ],
            [
             0.1111111111111111,
             "#46039f"
            ],
            [
             0.2222222222222222,
             "#7201a8"
            ],
            [
             0.3333333333333333,
             "#9c179e"
            ],
            [
             0.4444444444444444,
             "#bd3786"
            ],
            [
             0.5555555555555556,
             "#d8576b"
            ],
            [
             0.6666666666666666,
             "#ed7953"
            ],
            [
             0.7777777777777778,
             "#fb9f3a"
            ],
            [
             0.8888888888888888,
             "#fdca26"
            ],
            [
             1,
             "#f0f921"
            ]
           ],
           "sequentialminus": [
            [
             0,
             "#0d0887"
            ],
            [
             0.1111111111111111,
             "#46039f"
            ],
            [
             0.2222222222222222,
             "#7201a8"
            ],
            [
             0.3333333333333333,
             "#9c179e"
            ],
            [
             0.4444444444444444,
             "#bd3786"
            ],
            [
             0.5555555555555556,
             "#d8576b"
            ],
            [
             0.6666666666666666,
             "#ed7953"
            ],
            [
             0.7777777777777778,
             "#fb9f3a"
            ],
            [
             0.8888888888888888,
             "#fdca26"
            ],
            [
             1,
             "#f0f921"
            ]
           ]
          },
          "colorway": [
           "#636efa",
           "#EF553B",
           "#00cc96",
           "#ab63fa",
           "#FFA15A",
           "#19d3f3",
           "#FF6692",
           "#B6E880",
           "#FF97FF",
           "#FECB52"
          ],
          "font": {
           "color": "#f2f5fa"
          },
          "geo": {
           "bgcolor": "rgb(17,17,17)",
           "lakecolor": "rgb(17,17,17)",
           "landcolor": "rgb(17,17,17)",
           "showlakes": true,
           "showland": true,
           "subunitcolor": "#506784"
          },
          "hoverlabel": {
           "align": "left"
          },
          "hovermode": "closest",
          "mapbox": {
           "style": "dark"
          },
          "paper_bgcolor": "rgb(17,17,17)",
          "plot_bgcolor": "rgb(17,17,17)",
          "polar": {
           "angularaxis": {
            "gridcolor": "#506784",
            "linecolor": "#506784",
            "ticks": ""
           },
           "bgcolor": "rgb(17,17,17)",
           "radialaxis": {
            "gridcolor": "#506784",
            "linecolor": "#506784",
            "ticks": ""
           }
          },
          "scene": {
           "xaxis": {
            "backgroundcolor": "rgb(17,17,17)",
            "gridcolor": "#506784",
            "gridwidth": 2,
            "linecolor": "#506784",
            "showbackground": true,
            "ticks": "",
            "zerolinecolor": "#C8D4E3"
           },
           "yaxis": {
            "backgroundcolor": "rgb(17,17,17)",
            "gridcolor": "#506784",
            "gridwidth": 2,
            "linecolor": "#506784",
            "showbackground": true,
            "ticks": "",
            "zerolinecolor": "#C8D4E3"
           },
           "zaxis": {
            "backgroundcolor": "rgb(17,17,17)",
            "gridcolor": "#506784",
            "gridwidth": 2,
            "linecolor": "#506784",
            "showbackground": true,
            "ticks": "",
            "zerolinecolor": "#C8D4E3"
           }
          },
          "shapedefaults": {
           "line": {
            "color": "#f2f5fa"
           }
          },
          "sliderdefaults": {
           "bgcolor": "#C8D4E3",
           "bordercolor": "rgb(17,17,17)",
           "borderwidth": 1,
           "tickwidth": 0
          },
          "ternary": {
           "aaxis": {
            "gridcolor": "#506784",
            "linecolor": "#506784",
            "ticks": ""
           },
           "baxis": {
            "gridcolor": "#506784",
            "linecolor": "#506784",
            "ticks": ""
           },
           "bgcolor": "rgb(17,17,17)",
           "caxis": {
            "gridcolor": "#506784",
            "linecolor": "#506784",
            "ticks": ""
           }
          },
          "title": {
           "x": 0.05
          },
          "updatemenudefaults": {
           "bgcolor": "#506784",
           "borderwidth": 0
          },
          "xaxis": {
           "automargin": true,
           "gridcolor": "#283442",
           "linecolor": "#506784",
           "ticks": "",
           "title": {
            "standoff": 15
           },
           "zerolinecolor": "#283442",
           "zerolinewidth": 2
          },
          "yaxis": {
           "automargin": true,
           "gridcolor": "#283442",
           "linecolor": "#506784",
           "ticks": "",
           "title": {
            "standoff": 15
           },
           "zerolinecolor": "#283442",
           "zerolinewidth": 2
          }
         }
        },
        "width": 1200,
        "xaxis": {
         "anchor": "y",
         "domain": [
          0,
          0.45
         ],
         "showgrid": false,
         "title": {
          "text": "Total Sales"
         }
        },
        "xaxis2": {
         "anchor": "y2",
         "domain": [
          0.55,
          1
         ],
         "showgrid": false,
         "title": {
          "text": "Total Sales"
         }
        },
        "yaxis": {
         "anchor": "x",
         "categoryorder": "total ascending",
         "domain": [
          0,
          1
         ],
         "title": {
          "text": ""
         }
        },
        "yaxis2": {
         "anchor": "x2",
         "categoryorder": "total ascending",
         "domain": [
          0,
          1
         ],
         "title": {
          "text": ""
         }
        }
       }
      }
     },
     "metadata": {},
     "output_type": "display_data"
    }
   ],
   "source": [
    "display(top_bottom_products(df_2017, \"All Markets\"), top_bottom_products(df_2017, \"Africa\"), top_bottom_products(df_2017, \"Europe\"), \n",
    "        top_bottom_products(df_2017, \"Latin America\"), top_bottom_products(df_2017, \"Pacific Asia\"), top_bottom_products(df_2017, \"USCA\"))"
   ]
  },
  {
   "cell_type": "code",
   "execution_count": 273,
   "metadata": {},
   "outputs": [
    {
     "data": {
      "text/html": [
       "<div>\n",
       "<style scoped>\n",
       "    .dataframe tbody tr th:only-of-type {\n",
       "        vertical-align: middle;\n",
       "    }\n",
       "\n",
       "    .dataframe tbody tr th {\n",
       "        vertical-align: top;\n",
       "    }\n",
       "\n",
       "    .dataframe thead th {\n",
       "        text-align: right;\n",
       "    }\n",
       "</style>\n",
       "<table border=\"1\" class=\"dataframe\">\n",
       "  <thead>\n",
       "    <tr style=\"text-align: right;\">\n",
       "      <th></th>\n",
       "      <th>category_name</th>\n",
       "      <th>sales</th>\n",
       "    </tr>\n",
       "  </thead>\n",
       "  <tbody>\n",
       "    <tr>\n",
       "      <th>0</th>\n",
       "      <td>Accessories</td>\n",
       "      <td>56752.29</td>\n",
       "    </tr>\n",
       "    <tr>\n",
       "      <th>1</th>\n",
       "      <td>Baseball &amp; Softball</td>\n",
       "      <td>35172.77</td>\n",
       "    </tr>\n",
       "    <tr>\n",
       "      <th>2</th>\n",
       "      <td>Boxing &amp; MMA</td>\n",
       "      <td>21108.48</td>\n",
       "    </tr>\n",
       "    <tr>\n",
       "      <th>3</th>\n",
       "      <td>Camping &amp; Hiking</td>\n",
       "      <td>1420105.37</td>\n",
       "    </tr>\n",
       "    <tr>\n",
       "      <th>4</th>\n",
       "      <td>Cardio Equipment</td>\n",
       "      <td>1251715.86</td>\n",
       "    </tr>\n",
       "    <tr>\n",
       "      <th>5</th>\n",
       "      <td>Cleats</td>\n",
       "      <td>1561359.77</td>\n",
       "    </tr>\n",
       "    <tr>\n",
       "      <th>6</th>\n",
       "      <td>Electronics</td>\n",
       "      <td>151029.34</td>\n",
       "    </tr>\n",
       "    <tr>\n",
       "      <th>7</th>\n",
       "      <td>Fishing</td>\n",
       "      <td>2423478.89</td>\n",
       "    </tr>\n",
       "    <tr>\n",
       "      <th>8</th>\n",
       "      <td>Fitness Accessories</td>\n",
       "      <td>11441.73</td>\n",
       "    </tr>\n",
       "    <tr>\n",
       "      <th>9</th>\n",
       "      <td>Girls' Apparel</td>\n",
       "      <td>60691.88</td>\n",
       "    </tr>\n",
       "    <tr>\n",
       "      <th>10</th>\n",
       "      <td>Golf Apparel</td>\n",
       "      <td>7896.05</td>\n",
       "    </tr>\n",
       "    <tr>\n",
       "      <th>11</th>\n",
       "      <td>Golf Balls</td>\n",
       "      <td>30283.70</td>\n",
       "    </tr>\n",
       "    <tr>\n",
       "      <th>12</th>\n",
       "      <td>Golf Gloves</td>\n",
       "      <td>26454.66</td>\n",
       "    </tr>\n",
       "    <tr>\n",
       "      <th>13</th>\n",
       "      <td>Golf Shoes</td>\n",
       "      <td>24505.00</td>\n",
       "    </tr>\n",
       "    <tr>\n",
       "      <th>14</th>\n",
       "      <td>Hockey</td>\n",
       "      <td>16028.00</td>\n",
       "    </tr>\n",
       "    <tr>\n",
       "      <th>15</th>\n",
       "      <td>Hunting &amp; Shooting</td>\n",
       "      <td>12295.90</td>\n",
       "    </tr>\n",
       "    <tr>\n",
       "      <th>16</th>\n",
       "      <td>Indoor/Outdoor Games</td>\n",
       "      <td>1013994.23</td>\n",
       "    </tr>\n",
       "    <tr>\n",
       "      <th>17</th>\n",
       "      <td>Lacrosse</td>\n",
       "      <td>8371.65</td>\n",
       "    </tr>\n",
       "    <tr>\n",
       "      <th>18</th>\n",
       "      <td>Men's Footwear</td>\n",
       "      <td>1016911.81</td>\n",
       "    </tr>\n",
       "    <tr>\n",
       "      <th>19</th>\n",
       "      <td>Shop By Sport</td>\n",
       "      <td>441532.54</td>\n",
       "    </tr>\n",
       "    <tr>\n",
       "      <th>20</th>\n",
       "      <td>Tennis &amp; Racquet</td>\n",
       "      <td>18490.89</td>\n",
       "    </tr>\n",
       "    <tr>\n",
       "      <th>21</th>\n",
       "      <td>Trade-In</td>\n",
       "      <td>20834.46</td>\n",
       "    </tr>\n",
       "    <tr>\n",
       "      <th>22</th>\n",
       "      <td>Water Sports</td>\n",
       "      <td>1066946.68</td>\n",
       "    </tr>\n",
       "    <tr>\n",
       "      <th>23</th>\n",
       "      <td>Women's Apparel</td>\n",
       "      <td>1097050.00</td>\n",
       "    </tr>\n",
       "  </tbody>\n",
       "</table>\n",
       "</div>"
      ],
      "text/plain": [
       "           category_name      sales\n",
       "0            Accessories   56752.29\n",
       "1    Baseball & Softball   35172.77\n",
       "2           Boxing & MMA   21108.48\n",
       "3       Camping & Hiking 1420105.37\n",
       "4       Cardio Equipment 1251715.86\n",
       "5                 Cleats 1561359.77\n",
       "6            Electronics  151029.34\n",
       "7                Fishing 2423478.89\n",
       "8    Fitness Accessories   11441.73\n",
       "9         Girls' Apparel   60691.88\n",
       "10          Golf Apparel    7896.05\n",
       "11            Golf Balls   30283.70\n",
       "12           Golf Gloves   26454.66\n",
       "13            Golf Shoes   24505.00\n",
       "14                Hockey   16028.00\n",
       "15    Hunting & Shooting   12295.90\n",
       "16  Indoor/Outdoor Games 1013994.23\n",
       "17              Lacrosse    8371.65\n",
       "18        Men's Footwear 1016911.81\n",
       "19         Shop By Sport  441532.54\n",
       "20      Tennis & Racquet   18490.89\n",
       "21              Trade-In   20834.46\n",
       "22          Water Sports 1066946.68\n",
       "23       Women's Apparel 1097050.00"
      ]
     },
     "execution_count": 273,
     "metadata": {},
     "output_type": "execute_result"
    }
   ],
   "source": [
    "df_2016 = main_df[main_df[\"order_year\"]==2016]\n",
    "product_sales_2016 = df_2016.groupby([\"category_name\"])[\"sales\"].sum().reset_index()\n",
    "product_sales_2017 = df_2017.groupby([\"category_name\"])[\"sales\"].sum().reset_index()\n",
    "product_sales_2016"
   ]
  },
  {
   "cell_type": "code",
   "execution_count": 274,
   "metadata": {},
   "outputs": [
    {
     "data": {
      "text/html": [
       "<div>\n",
       "<style scoped>\n",
       "    .dataframe tbody tr th:only-of-type {\n",
       "        vertical-align: middle;\n",
       "    }\n",
       "\n",
       "    .dataframe tbody tr th {\n",
       "        vertical-align: top;\n",
       "    }\n",
       "\n",
       "    .dataframe thead th {\n",
       "        text-align: right;\n",
       "    }\n",
       "</style>\n",
       "<table border=\"1\" class=\"dataframe\">\n",
       "  <thead>\n",
       "    <tr style=\"text-align: right;\">\n",
       "      <th></th>\n",
       "      <th>category_name</th>\n",
       "      <th>sales_2016</th>\n",
       "      <th>sales_2017</th>\n",
       "      <th>growth_rate</th>\n",
       "    </tr>\n",
       "  </thead>\n",
       "  <tbody>\n",
       "    <tr>\n",
       "      <th>0</th>\n",
       "      <td>Accessories</td>\n",
       "      <td>56752.29</td>\n",
       "      <td>16993.20</td>\n",
       "      <td>-70.06</td>\n",
       "    </tr>\n",
       "    <tr>\n",
       "      <th>1</th>\n",
       "      <td>Baseball &amp; Softball</td>\n",
       "      <td>35172.77</td>\n",
       "      <td>21396.95</td>\n",
       "      <td>-39.17</td>\n",
       "    </tr>\n",
       "    <tr>\n",
       "      <th>2</th>\n",
       "      <td>Boxing &amp; MMA</td>\n",
       "      <td>21108.48</td>\n",
       "      <td>43577.64</td>\n",
       "      <td>106.45</td>\n",
       "    </tr>\n",
       "    <tr>\n",
       "      <th>3</th>\n",
       "      <td>Camping &amp; Hiking</td>\n",
       "      <td>1420105.37</td>\n",
       "      <td>1105126.36</td>\n",
       "      <td>-22.18</td>\n",
       "    </tr>\n",
       "    <tr>\n",
       "      <th>4</th>\n",
       "      <td>Cardio Equipment</td>\n",
       "      <td>1251715.86</td>\n",
       "      <td>969693.42</td>\n",
       "      <td>-22.53</td>\n",
       "    </tr>\n",
       "    <tr>\n",
       "      <th>5</th>\n",
       "      <td>Cleats</td>\n",
       "      <td>1561359.77</td>\n",
       "      <td>1147670.16</td>\n",
       "      <td>-26.50</td>\n",
       "    </tr>\n",
       "    <tr>\n",
       "      <th>6</th>\n",
       "      <td>Electronics</td>\n",
       "      <td>151029.34</td>\n",
       "      <td>45447.70</td>\n",
       "      <td>-69.91</td>\n",
       "    </tr>\n",
       "    <tr>\n",
       "      <th>7</th>\n",
       "      <td>Fishing</td>\n",
       "      <td>2423478.89</td>\n",
       "      <td>1818309.13</td>\n",
       "      <td>-24.97</td>\n",
       "    </tr>\n",
       "    <tr>\n",
       "      <th>8</th>\n",
       "      <td>Fitness Accessories</td>\n",
       "      <td>11441.73</td>\n",
       "      <td>9498.90</td>\n",
       "      <td>-16.98</td>\n",
       "    </tr>\n",
       "    <tr>\n",
       "      <th>9</th>\n",
       "      <td>Girls' Apparel</td>\n",
       "      <td>60691.88</td>\n",
       "      <td>17338.99</td>\n",
       "      <td>-71.43</td>\n",
       "    </tr>\n",
       "    <tr>\n",
       "      <th>10</th>\n",
       "      <td>Golf Apparel</td>\n",
       "      <td>7896.05</td>\n",
       "      <td>18727.61</td>\n",
       "      <td>137.18</td>\n",
       "    </tr>\n",
       "    <tr>\n",
       "      <th>11</th>\n",
       "      <td>Golf Balls</td>\n",
       "      <td>30283.70</td>\n",
       "      <td>9192.81</td>\n",
       "      <td>-69.64</td>\n",
       "    </tr>\n",
       "    <tr>\n",
       "      <th>12</th>\n",
       "      <td>Golf Gloves</td>\n",
       "      <td>26454.66</td>\n",
       "      <td>58323.20</td>\n",
       "      <td>120.46</td>\n",
       "    </tr>\n",
       "    <tr>\n",
       "      <th>13</th>\n",
       "      <td>Golf Shoes</td>\n",
       "      <td>24505.00</td>\n",
       "      <td>52306.00</td>\n",
       "      <td>113.45</td>\n",
       "    </tr>\n",
       "    <tr>\n",
       "      <th>14</th>\n",
       "      <td>Hockey</td>\n",
       "      <td>16028.00</td>\n",
       "      <td>12295.75</td>\n",
       "      <td>-23.29</td>\n",
       "    </tr>\n",
       "    <tr>\n",
       "      <th>15</th>\n",
       "      <td>Hunting &amp; Shooting</td>\n",
       "      <td>12295.90</td>\n",
       "      <td>29956.01</td>\n",
       "      <td>143.63</td>\n",
       "    </tr>\n",
       "    <tr>\n",
       "      <th>16</th>\n",
       "      <td>Indoor/Outdoor Games</td>\n",
       "      <td>1013994.23</td>\n",
       "      <td>737604.83</td>\n",
       "      <td>-27.26</td>\n",
       "    </tr>\n",
       "    <tr>\n",
       "      <th>17</th>\n",
       "      <td>Lacrosse</td>\n",
       "      <td>8371.65</td>\n",
       "      <td>21446.85</td>\n",
       "      <td>156.18</td>\n",
       "    </tr>\n",
       "    <tr>\n",
       "      <th>18</th>\n",
       "      <td>Men's Footwear</td>\n",
       "      <td>1016911.81</td>\n",
       "      <td>759531.60</td>\n",
       "      <td>-25.31</td>\n",
       "    </tr>\n",
       "    <tr>\n",
       "      <th>19</th>\n",
       "      <td>Shop By Sport</td>\n",
       "      <td>441532.54</td>\n",
       "      <td>349425.93</td>\n",
       "      <td>-20.86</td>\n",
       "    </tr>\n",
       "    <tr>\n",
       "      <th>20</th>\n",
       "      <td>Tennis &amp; Racquet</td>\n",
       "      <td>18490.89</td>\n",
       "      <td>6163.63</td>\n",
       "      <td>-66.67</td>\n",
       "    </tr>\n",
       "    <tr>\n",
       "      <th>21</th>\n",
       "      <td>Trade-In</td>\n",
       "      <td>20834.46</td>\n",
       "      <td>24276.12</td>\n",
       "      <td>16.52</td>\n",
       "    </tr>\n",
       "    <tr>\n",
       "      <th>22</th>\n",
       "      <td>Water Sports</td>\n",
       "      <td>1066946.68</td>\n",
       "      <td>832958.67</td>\n",
       "      <td>-21.93</td>\n",
       "    </tr>\n",
       "    <tr>\n",
       "      <th>23</th>\n",
       "      <td>Women's Apparel</td>\n",
       "      <td>1097050.00</td>\n",
       "      <td>823700.00</td>\n",
       "      <td>-24.92</td>\n",
       "    </tr>\n",
       "  </tbody>\n",
       "</table>\n",
       "</div>"
      ],
      "text/plain": [
       "           category_name  sales_2016  sales_2017  growth_rate\n",
       "0            Accessories    56752.29    16993.20       -70.06\n",
       "1    Baseball & Softball    35172.77    21396.95       -39.17\n",
       "2           Boxing & MMA    21108.48    43577.64       106.45\n",
       "3       Camping & Hiking  1420105.37  1105126.36       -22.18\n",
       "4       Cardio Equipment  1251715.86   969693.42       -22.53\n",
       "5                 Cleats  1561359.77  1147670.16       -26.50\n",
       "6            Electronics   151029.34    45447.70       -69.91\n",
       "7                Fishing  2423478.89  1818309.13       -24.97\n",
       "8    Fitness Accessories    11441.73     9498.90       -16.98\n",
       "9         Girls' Apparel    60691.88    17338.99       -71.43\n",
       "10          Golf Apparel     7896.05    18727.61       137.18\n",
       "11            Golf Balls    30283.70     9192.81       -69.64\n",
       "12           Golf Gloves    26454.66    58323.20       120.46\n",
       "13            Golf Shoes    24505.00    52306.00       113.45\n",
       "14                Hockey    16028.00    12295.75       -23.29\n",
       "15    Hunting & Shooting    12295.90    29956.01       143.63\n",
       "16  Indoor/Outdoor Games  1013994.23   737604.83       -27.26\n",
       "17              Lacrosse     8371.65    21446.85       156.18\n",
       "18        Men's Footwear  1016911.81   759531.60       -25.31\n",
       "19         Shop By Sport   441532.54   349425.93       -20.86\n",
       "20      Tennis & Racquet    18490.89     6163.63       -66.67\n",
       "21              Trade-In    20834.46    24276.12        16.52\n",
       "22          Water Sports  1066946.68   832958.67       -21.93\n",
       "23       Women's Apparel  1097050.00   823700.00       -24.92"
      ]
     },
     "execution_count": 274,
     "metadata": {},
     "output_type": "execute_result"
    }
   ],
   "source": [
    "sales_growth = pd.merge(product_sales_2016, product_sales_2017, on=[\"category_name\"], suffixes=(\"_2016\", \"_2017\"))\n",
    "sales_growth[\"growth_rate\"] = (sales_growth[\"sales_2017\"] - sales_growth[\"sales_2016\"]) / sales_growth[\"sales_2016\"] * 100\n",
    "sales_growth"
   ]
  },
  {
   "cell_type": "code",
   "execution_count": 275,
   "metadata": {},
   "outputs": [
    {
     "data": {
      "text/html": [
       "\n",
       "<div id=\"altair-viz-66117bf3ca7240a9a2bd43c0fbcdf902\"></div>\n",
       "<script type=\"text/javascript\">\n",
       "  var VEGA_DEBUG = (typeof VEGA_DEBUG == \"undefined\") ? {} : VEGA_DEBUG;\n",
       "  (function(spec, embedOpt){\n",
       "    let outputDiv = document.currentScript.previousElementSibling;\n",
       "    if (outputDiv.id !== \"altair-viz-66117bf3ca7240a9a2bd43c0fbcdf902\") {\n",
       "      outputDiv = document.getElementById(\"altair-viz-66117bf3ca7240a9a2bd43c0fbcdf902\");\n",
       "    }\n",
       "    const paths = {\n",
       "      \"vega\": \"https://cdn.jsdelivr.net/npm//vega@5?noext\",\n",
       "      \"vega-lib\": \"https://cdn.jsdelivr.net/npm//vega-lib?noext\",\n",
       "      \"vega-lite\": \"https://cdn.jsdelivr.net/npm//vega-lite@4.17.0?noext\",\n",
       "      \"vega-embed\": \"https://cdn.jsdelivr.net/npm//vega-embed@6?noext\",\n",
       "    };\n",
       "\n",
       "    function maybeLoadScript(lib, version) {\n",
       "      var key = `${lib.replace(\"-\", \"\")}_version`;\n",
       "      return (VEGA_DEBUG[key] == version) ?\n",
       "        Promise.resolve(paths[lib]) :\n",
       "        new Promise(function(resolve, reject) {\n",
       "          var s = document.createElement('script');\n",
       "          document.getElementsByTagName(\"head\")[0].appendChild(s);\n",
       "          s.async = true;\n",
       "          s.onload = () => {\n",
       "            VEGA_DEBUG[key] = version;\n",
       "            return resolve(paths[lib]);\n",
       "          };\n",
       "          s.onerror = () => reject(`Error loading script: ${paths[lib]}`);\n",
       "          s.src = paths[lib];\n",
       "        });\n",
       "    }\n",
       "\n",
       "    function showError(err) {\n",
       "      outputDiv.innerHTML = `<div class=\"error\" style=\"color:red;\">${err}</div>`;\n",
       "      throw err;\n",
       "    }\n",
       "\n",
       "    function displayChart(vegaEmbed) {\n",
       "      vegaEmbed(outputDiv, spec, embedOpt)\n",
       "        .catch(err => showError(`Javascript Error: ${err.message}<br>This usually means there's a typo in your chart specification. See the javascript console for the full traceback.`));\n",
       "    }\n",
       "\n",
       "    if(typeof define === \"function\" && define.amd) {\n",
       "      requirejs.config({paths});\n",
       "      require([\"vega-embed\"], displayChart, err => showError(`Error loading script: ${err.message}`));\n",
       "    } else {\n",
       "      maybeLoadScript(\"vega\", \"5\")\n",
       "        .then(() => maybeLoadScript(\"vega-lite\", \"4.17.0\"))\n",
       "        .then(() => maybeLoadScript(\"vega-embed\", \"6\"))\n",
       "        .catch(showError)\n",
       "        .then(() => displayChart(vegaEmbed));\n",
       "    }\n",
       "  })({\"config\": {\"view\": {\"continuousWidth\": 400, \"continuousHeight\": 300}}, \"data\": {\"name\": \"data-c241e8c3d70ae012c98297cb0e0689e2\"}, \"mark\": \"bar\", \"encoding\": {\"color\": {\"condition\": {\"value\": \"green\", \"test\": \"(datum.growth_rate > 0)\"}, \"value\": \"red\"}, \"tooltip\": [{\"field\": \"category_name\", \"type\": \"nominal\"}, {\"field\": \"growth_rate\", \"type\": \"quantitative\"}], \"x\": {\"axis\": {\"labelAngle\": -45, \"title\": \"Category Name\"}, \"field\": \"category_name\", \"sort\": \"y\", \"type\": \"nominal\"}, \"y\": {\"axis\": {\"title\": \"Growth Rate (%)\"}, \"field\": \"growth_rate\", \"type\": \"quantitative\"}}, \"height\": 300, \"title\": \"Sales Growth by Product Category\", \"width\": 600, \"$schema\": \"https://vega.github.io/schema/vega-lite/v4.17.0.json\", \"datasets\": {\"data-c241e8c3d70ae012c98297cb0e0689e2\": [{\"category_name\": \"Accessories\", \"sales_2016\": 56752.28949654, \"sales_2017\": 16993.19986695, \"growth_rate\": -70.05724347387604}, {\"category_name\": \"Baseball & Softball\", \"sales_2016\": 35172.77089882, \"sales_2017\": 21396.95064896, \"growth_rate\": -39.166150115065754}, {\"category_name\": \"Boxing & MMA\", \"sales_2016\": 21108.48046874, \"sales_2017\": 43577.64018224, \"growth_rate\": 106.4461259860702}, {\"category_name\": \"Camping & Hiking\", \"sales_2016\": 1420105.3720739998, \"sales_2017\": 1105126.360524, \"growth_rate\": -22.17997465145754}, {\"category_name\": \"Cardio Equipment\", \"sales_2016\": 1251715.85900404, \"sales_2017\": 969693.41943326, \"growth_rate\": -22.530867332397502}, {\"category_name\": \"Cleats\", \"sales_2016\": 1561359.7739944, \"sales_2017\": 1147670.16101542, \"growth_rate\": -26.49547015808182}, {\"category_name\": \"Electronics\", \"sales_2016\": 151029.34115521002, \"sales_2017\": 45447.700480830004, \"growth_rate\": -69.908032351062}, {\"category_name\": \"Fishing\", \"sales_2016\": 2423478.886649, \"sales_2017\": 1818309.130006, \"growth_rate\": -24.97111734609672}, {\"category_name\": \"Fitness Accessories\", \"sales_2016\": 11441.73022682, \"sales_2017\": 9498.8999587, \"growth_rate\": -16.98021391525127}, {\"category_name\": \"Girls' Apparel\", \"sales_2016\": 60691.88023992, \"sales_2017\": 17338.99008518, \"growth_rate\": -71.43112057718835}, {\"category_name\": \"Golf Apparel\", \"sales_2016\": 7896.04991515, \"sales_2017\": 18727.61018656, \"growth_rate\": 137.17694781320583}, {\"category_name\": \"Golf Balls\", \"sales_2016\": 30283.69965279, \"sales_2017\": 9192.80990574, \"growth_rate\": -69.6443631024683}, {\"category_name\": \"Golf Gloves\", \"sales_2016\": 26454.660101215, \"sales_2017\": 58323.200275896, \"growth_rate\": 120.46475007712291}, {\"category_name\": \"Golf Shoes\", \"sales_2016\": 24505.0, \"sales_2017\": 52306.0, \"growth_rate\": 113.45031626198734}, {\"category_name\": \"Hockey\", \"sales_2016\": 16028.0, \"sales_2017\": 12295.749755, \"growth_rate\": -23.285813857000246}, {\"category_name\": \"Hunting & Shooting\", \"sales_2016\": 12295.89988765, \"sales_2017\": 29956.01027485, \"growth_rate\": 143.62600987779518}, {\"category_name\": \"Indoor/Outdoor Games\", \"sales_2016\": 1013994.2308166, \"sales_2017\": 737604.83342892, \"growth_rate\": -27.25749210279977}, {\"category_name\": \"Lacrosse\", \"sales_2016\": 8371.64992394, \"sales_2017\": 21446.84995399, \"growth_rate\": 156.18426652862644}, {\"category_name\": \"Men's Footwear\", \"sales_2016\": 1016911.8130264999, \"sales_2017\": 759531.6021365, \"growth_rate\": -25.309983382334146}, {\"category_name\": \"Shop By Sport\", \"sales_2016\": 441532.53727154003, \"sales_2017\": 349425.92566906003, \"growth_rate\": -20.860662313055073}, {\"category_name\": \"Tennis & Racquet\", \"sales_2016\": 18490.89025658, \"sales_2017\": 6163.63008804, \"growth_rate\": -66.66666665307439}, {\"category_name\": \"Trade-In\", \"sales_2016\": 20834.459707230002, \"sales_2017\": 24276.12032889, \"growth_rate\": 16.51907786437902}, {\"category_name\": \"Water Sports\", \"sales_2016\": 1066946.6793425, \"sales_2017\": 832958.6721305, \"growth_rate\": -21.930618628120556}, {\"category_name\": \"Women's Apparel\", \"sales_2016\": 1097050.0, \"sales_2017\": 823700.0, \"growth_rate\": -24.916822387311427}]}}, {\"mode\": \"vega-lite\"});\n",
       "</script>"
      ],
      "text/plain": [
       "alt.Chart(...)"
      ]
     },
     "execution_count": 275,
     "metadata": {},
     "output_type": "execute_result"
    }
   ],
   "source": [
    "chart = alt.Chart(sales_growth).mark_bar().encode(\n",
    "    x=alt.X(\"category_name\", sort=\"y\", axis=alt.Axis(title=\"Category Name\", labelAngle=-45)),\n",
    "    y=alt.Y(\"growth_rate\", axis=alt.Axis(title=\"Growth Rate (%)\")),\n",
    "    color=alt.condition(\n",
    "        alt.datum.growth_rate > 0,\n",
    "        alt.value(\"green\"),  # The positive values will be green\n",
    "        alt.value(\"red\")  # The negative values will be red\n",
    "    ),\n",
    "    tooltip=[\"category_name\", \"growth_rate\"]\n",
    ").properties(\n",
    "    title=\"Sales Growth by Product Category\",\n",
    "    width=600,\n",
    "    height=300\n",
    ")\n",
    "\n",
    "chart"
   ]
  },
  {
   "attachments": {},
   "cell_type": "markdown",
   "metadata": {},
   "source": [
    "Top 5 Products by Sales:\n",
    "* Africa: Fishing, Cleats, Cardio Equipment, Camping & Hiking, and Women\"s Apparel are the top-selling products.\n",
    "* Europe: Fishing, Computers, Cleats, Camping & Hiking, and Cardio Equipment are the top-selling products.\n",
    "* Latin America: Fishing, Camping & Hiking, Cleats, Cardio Equipment, and Women\"s Apparel are the top-selling products.\n",
    "* Pacific Asia: Garden, Computers, Crafts, Music, and Health and Beauty are the top-selling products.\n",
    "* USCA: Camping & Hiking, Cleats, Cardio Equipment, Men\"s Footwear, and Women\"s Apparel are the top-selling products.\n",
    "\n",
    "Bottom 5 Products by Sales:\n",
    "* Africa: Golf Apparel, Hunting & Shooting, Boxing & MMA, Lacrosse, and Baseball & Softball are the least-selling products.\n",
    "* Europe: Girls\" Apparel, Accessories, Golf Balls, Electronics, and CDs are the least-selling products.\n",
    "* Latin America: Fitness Accessories, Strength Training, Hockey, Golf Bags & Carts, and Tennis & Racquet are the least-selling products.\n",
    "* Pacific Asia: Hockey, Tennis & Racquet, Fitness Accessories, Golf Apparel, and Trade-In are the least-selling products.\n",
    "* USCA: Golf Balls, Golf Gloves, Tennis & Racquet, Electronics, and Girls\" Apparel are the least-selling products.\n",
    "\n",
    "Sales Growth Analysis:\n",
    "* The Boxing & MMA, Golf Apparel, Golf Gloves, Golf Shoes, Hunting & Shooting, Lacrosse, and Trade-In categories experienced positive sales growth between 2016 and 2017.\n",
    "* The Accessories, Baseball & Softball, Camping & Hiking, Cardio Equipment, Cleats, Electronics, Fishing, Fitness Accessories, Girls\" Apparel, Golf Balls, Hockey, Indoor/Outdoor Games, Men\"s Footwear, Shop By Sport, Tennis & Racquet, Water Sports, and Women\"s Apparel categories experienced negative sales growth between 2016 and 2017.\n",
    "\n",
    "Recommendations:\n",
    "* Focus on promoting and expanding the top-selling product categories in each market to capitalize on their popularity and maximize revenue.\n",
    "* Investigate the reasons for low sales in the bottom 5 product categories in each market. Consider product improvements, better marketing strategies, or discontinuing underperforming products to optimize the product mix.\n",
    "* Analyze the factors contributing to positive sales growth in the Boxing & MMA, Golf Apparel, Golf Gloves, Golf Shoes, Hunting & Shooting, Lacrosse, and Trade-In categories, and apply these strategies to other product categories to promote growth.\n",
    "* Address the issues leading to negative sales growth in various categories, such as product quality, pricing, marketing, or distribution channels, to improve sales performance and ensure overall business growth."
   ]
  },
  {
   "attachments": {},
   "cell_type": "markdown",
   "metadata": {},
   "source": [
    "### 4. Hypothesis Testing"
   ]
  },
  {
   "attachments": {},
   "cell_type": "markdown",
   "metadata": {},
   "source": [
    "To determine if there is a significant difference in delivery efficiency among different shipping modes, we need to perform hyptothesis testing. This can help us understand which shipping modes are more efficient than others in terms of on-time delivery. With this information, we can prioritize certain shipping modes or make adjustments to the delivery process to improve efficiency and customer satisfaction."
   ]
  },
  {
   "cell_type": "code",
   "execution_count": 277,
   "metadata": {},
   "outputs": [
    {
     "data": {
      "text/html": [
       "<div>\n",
       "<style scoped>\n",
       "    .dataframe tbody tr th:only-of-type {\n",
       "        vertical-align: middle;\n",
       "    }\n",
       "\n",
       "    .dataframe tbody tr th {\n",
       "        vertical-align: top;\n",
       "    }\n",
       "\n",
       "    .dataframe thead th {\n",
       "        text-align: right;\n",
       "    }\n",
       "</style>\n",
       "<table border=\"1\" class=\"dataframe\">\n",
       "  <thead>\n",
       "    <tr style=\"text-align: right;\">\n",
       "      <th></th>\n",
       "      <th>order_date</th>\n",
       "      <th>order_region</th>\n",
       "      <th>order_country</th>\n",
       "      <th>order_city</th>\n",
       "      <th>market</th>\n",
       "      <th>sales</th>\n",
       "      <th>order_item_quantity</th>\n",
       "      <th>shipping_date</th>\n",
       "      <th>days_for_shipping_real</th>\n",
       "      <th>days_for_shipment_scheduled</th>\n",
       "      <th>category_name</th>\n",
       "      <th>delivery_status</th>\n",
       "      <th>late_delivery_risk</th>\n",
       "      <th>shipping_mode</th>\n",
       "      <th>order_status</th>\n",
       "      <th>order_profit_per_order</th>\n",
       "      <th>sales_per_item</th>\n",
       "      <th>shipping_days_difference</th>\n",
       "      <th>order_year</th>\n",
       "      <th>order_month</th>\n",
       "      <th>order_year_month_date</th>\n",
       "    </tr>\n",
       "  </thead>\n",
       "  <tbody>\n",
       "    <tr>\n",
       "      <th>0</th>\n",
       "      <td>2017-01-01 00:33:00</td>\n",
       "      <td>Asiatic Russia/European Russia</td>\n",
       "      <td>Russia</td>\n",
       "      <td>Cheliábinsk</td>\n",
       "      <td>Europe</td>\n",
       "      <td>99.96</td>\n",
       "      <td>2</td>\n",
       "      <td>1/6/2017 0:33</td>\n",
       "      <td>5</td>\n",
       "      <td>2</td>\n",
       "      <td>Indoor/Outdoor Games</td>\n",
       "      <td>Late delivery</td>\n",
       "      <td>1</td>\n",
       "      <td>Second Class</td>\n",
       "      <td>COMPLETE</td>\n",
       "      <td>-58.78</td>\n",
       "      <td>49.98</td>\n",
       "      <td>-3</td>\n",
       "      <td>2017</td>\n",
       "      <td>January</td>\n",
       "      <td>2017-01-01</td>\n",
       "    </tr>\n",
       "    <tr>\n",
       "      <th>1</th>\n",
       "      <td>2017-01-01 00:33:00</td>\n",
       "      <td>Asiatic Russia/European Russia</td>\n",
       "      <td>Russia</td>\n",
       "      <td>Cheliábinsk</td>\n",
       "      <td>Europe</td>\n",
       "      <td>39.99</td>\n",
       "      <td>1</td>\n",
       "      <td>1/6/2017 0:33</td>\n",
       "      <td>5</td>\n",
       "      <td>2</td>\n",
       "      <td>Shop By Sport</td>\n",
       "      <td>Late delivery</td>\n",
       "      <td>1</td>\n",
       "      <td>Second Class</td>\n",
       "      <td>COMPLETE</td>\n",
       "      <td>15.98</td>\n",
       "      <td>39.99</td>\n",
       "      <td>-3</td>\n",
       "      <td>2017</td>\n",
       "      <td>January</td>\n",
       "      <td>2017-01-01</td>\n",
       "    </tr>\n",
       "  </tbody>\n",
       "</table>\n",
       "</div>"
      ],
      "text/plain": [
       "            order_date                    order_region order_country  \\\n",
       "0  2017-01-01 00:33:00  Asiatic Russia/European Russia        Russia   \n",
       "1  2017-01-01 00:33:00  Asiatic Russia/European Russia        Russia   \n",
       "\n",
       "    order_city  market  sales  order_item_quantity  shipping_date  \\\n",
       "0  Cheliábinsk  Europe  99.96                    2  1/6/2017 0:33   \n",
       "1  Cheliábinsk  Europe  39.99                    1  1/6/2017 0:33   \n",
       "\n",
       "   days_for_shipping_real  days_for_shipment_scheduled         category_name  \\\n",
       "0                       5                            2  Indoor/Outdoor Games   \n",
       "1                       5                            2         Shop By Sport   \n",
       "\n",
       "  delivery_status  late_delivery_risk shipping_mode order_status  \\\n",
       "0   Late delivery                   1  Second Class     COMPLETE   \n",
       "1   Late delivery                   1  Second Class     COMPLETE   \n",
       "\n",
       "   order_profit_per_order  sales_per_item  shipping_days_difference  \\\n",
       "0                  -58.78           49.98                        -3   \n",
       "1                   15.98           39.99                        -3   \n",
       "\n",
       "   order_year order_month order_year_month_date  \n",
       "0        2017     January            2017-01-01  \n",
       "1        2017     January            2017-01-01  "
      ]
     },
     "execution_count": 277,
     "metadata": {},
     "output_type": "execute_result"
    }
   ],
   "source": [
    "df_2017.head(2)"
   ]
  },
  {
   "cell_type": "code",
   "execution_count": 279,
   "metadata": {},
   "outputs": [
    {
     "data": {
      "text/html": [
       "<div>\n",
       "<style scoped>\n",
       "    .dataframe tbody tr th:only-of-type {\n",
       "        vertical-align: middle;\n",
       "    }\n",
       "\n",
       "    .dataframe tbody tr th {\n",
       "        vertical-align: top;\n",
       "    }\n",
       "\n",
       "    .dataframe thead th {\n",
       "        text-align: right;\n",
       "    }\n",
       "</style>\n",
       "<table border=\"1\" class=\"dataframe\">\n",
       "  <thead>\n",
       "    <tr style=\"text-align: right;\">\n",
       "      <th></th>\n",
       "      <th>shipping_mode</th>\n",
       "      <th>sum</th>\n",
       "      <th>count</th>\n",
       "      <th>on_time_delivery_rate</th>\n",
       "    </tr>\n",
       "  </thead>\n",
       "  <tbody>\n",
       "    <tr>\n",
       "      <th>0</th>\n",
       "      <td>First Class</td>\n",
       "      <td>0</td>\n",
       "      <td>7579</td>\n",
       "      <td>0.00</td>\n",
       "    </tr>\n",
       "    <tr>\n",
       "      <th>1</th>\n",
       "      <td>Same Day</td>\n",
       "      <td>1299</td>\n",
       "      <td>2753</td>\n",
       "      <td>0.47</td>\n",
       "    </tr>\n",
       "    <tr>\n",
       "      <th>2</th>\n",
       "      <td>Second Class</td>\n",
       "      <td>2053</td>\n",
       "      <td>9917</td>\n",
       "      <td>0.21</td>\n",
       "    </tr>\n",
       "    <tr>\n",
       "      <th>3</th>\n",
       "      <td>Standard Class</td>\n",
       "      <td>18532</td>\n",
       "      <td>30599</td>\n",
       "      <td>0.61</td>\n",
       "    </tr>\n",
       "  </tbody>\n",
       "</table>\n",
       "</div>"
      ],
      "text/plain": [
       "    shipping_mode    sum  count  on_time_delivery_rate\n",
       "0     First Class      0   7579                   0.00\n",
       "1        Same Day   1299   2753                   0.47\n",
       "2    Second Class   2053   9917                   0.21\n",
       "3  Standard Class  18532  30599                   0.61"
      ]
     },
     "execution_count": 279,
     "metadata": {},
     "output_type": "execute_result"
    }
   ],
   "source": [
    "from scipy.stats import f_oneway\n",
    "\n",
    "# Group by shipping_mode and calculate the on-time delivery rate for each group\n",
    "shipping_mode_deliver = df_2017.copy()\n",
    "shipping_mode_deliver['on_time_delivery'] = (shipping_mode_deliver['days_for_shipping_real'] <= shipping_mode_deliver['days_for_shipment_scheduled']).astype(int)\n",
    "shipping_mode_delivery = shipping_mode_deliver.groupby(\"shipping_mode\")[\"on_time_delivery\"].agg([\"sum\", \"count\"]).reset_index()\n",
    "\n",
    "# Calculate the on-time delivery rate for each shipping mode\n",
    "shipping_mode_delivery[\"on_time_delivery_rate\"] = shipping_mode_delivery[\"sum\"] / shipping_mode_delivery[\"count\"]\n",
    "\n",
    "shipping_mode_delivery"
   ]
  },
  {
   "cell_type": "code",
   "execution_count": 281,
   "metadata": {},
   "outputs": [],
   "source": [
    "# Filter the data for each shipping mode\n",
    "standard_class = shipping_mode_deliver[shipping_mode_deliver[\"shipping_mode\"] == \"Standard Class\"][\"on_time_delivery\"]\n",
    "second_class = shipping_mode_deliver[shipping_mode_deliver[\"shipping_mode\"] == \"Second Class\"][\"on_time_delivery\"]\n",
    "first_class = shipping_mode_deliver[shipping_mode_deliver[\"shipping_mode\"] == \"First Class\"][\"on_time_delivery\"]\n",
    "same_day = shipping_mode_deliver[shipping_mode_deliver[\"shipping_mode\"] == \"Same Day\"][\"on_time_delivery\"]"
   ]
  },
  {
   "cell_type": "code",
   "execution_count": 282,
   "metadata": {},
   "outputs": [],
   "source": [
    "f_statistic, p_value = f_oneway(standard_class, second_class, first_class, same_day)"
   ]
  },
  {
   "cell_type": "code",
   "execution_count": 283,
   "metadata": {},
   "outputs": [
    {
     "name": "stdout",
     "output_type": "stream",
     "text": [
      "Reject the null hypothesis: There is a significant difference in on-time delivery rates among shipping modes.\n"
     ]
    }
   ],
   "source": [
    "alpha = 0.05  # Set significance level\n",
    "\n",
    "if p_value < alpha:\n",
    "    print(\"Reject the null hypothesis: There is a significant difference in on-time delivery rates among shipping modes.\")\n",
    "else:\n",
    "    print(\"Fail to reject the null hypothesis: There is no significant difference in on-time delivery rates among shipping modes.\")"
   ]
  },
  {
   "attachments": {},
   "cell_type": "markdown",
   "metadata": {},
   "source": [
    "The delivery efficiency analysis revealed some important insights about on-time delivery rates and average shipping days across different shipping modes and markets. First Class shipping showed a concerning 0% on-time delivery rate, while Same Day shipping performed well, particularly in the USCA market. Standard Class shipping outperformed Second Class shipping in most markets, with the best on-time delivery rate observed in the Africa market. The hypothesis testing confirmed that there is a significant difference in on-time delivery rates among shipping modes.\n",
    "\n",
    "Recommendations:\n",
    "\n",
    "* Investigate First Class shipping inefficiencies: Conduct a thorough analysis of the factors causing the 0% on-time delivery rate for First Class shipping across all markets. This may involve working closely with shipping partners, identifying bottlenecks in the process, and implementing improvements to address these issues.\n",
    "\n",
    "* Improve Second Class shipping performance: As Second Class shipping consistently takes longer than scheduled, consider collaborating with shipping partners to identify areas for improvement and reduce shipping time. This can lead to better on-time delivery rates and increased customer satisfaction.\n",
    "\n",
    "* Leverage the success of Standard Class and Same Day shipping: Continue to maintain the good performance of Standard Class shipping in meeting or exceeding scheduled shipping times. Aim to replicate the faster-than-scheduled performance observed in Europe and USCA markets across all regions. Additionally, focus on promoting Same Day shipping in markets where it shows high on-time delivery rates, such as the USCA market.\n",
    "\n",
    "By combining the insights from the delivery efficiency analysis and hypothesis testing, the company can focus on improving the overall delivery process, enhancing customer satisfaction, and building a more reliable and efficient supply chain."
   ]
  }
 ],
 "metadata": {
  "kernelspec": {
   "display_name": "dataviz-env",
   "language": "python",
   "name": "python3"
  },
  "language_info": {
   "codemirror_mode": {
    "name": "ipython",
    "version": 3
   },
   "file_extension": ".py",
   "mimetype": "text/x-python",
   "name": "python",
   "nbconvert_exporter": "python",
   "pygments_lexer": "ipython3",
   "version": "3.9.16"
  },
  "orig_nbformat": 4
 },
 "nbformat": 4,
 "nbformat_minor": 2
}
